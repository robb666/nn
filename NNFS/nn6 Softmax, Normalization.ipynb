{
 "cells": [
  {
   "cell_type": "code",
   "execution_count": 3,
   "metadata": {},
   "outputs": [
    {
     "name": "stdout",
     "output_type": "stream",
     "text": [
      "2.718281828459045\n"
     ]
    }
   ],
   "source": [
    "import math\n",
    "import numpy as np\n",
    "\n",
    "print(math.e)"
   ]
  },
  {
   "cell_type": "code",
   "execution_count": 4,
   "metadata": {},
   "outputs": [
    {
     "name": "stdout",
     "output_type": "stream",
     "text": [
      "Expotentiated values\n",
      "[121.51041751873483, 3.353484652549023, 10.859062664920513]\n"
     ]
    }
   ],
   "source": [
    "layer_outputs = [4.8, 1.21, --2.385]\n",
    "\n",
    "exp_values = []\n",
    "for output in layer_outputs:\n",
    "    exp_values.append(math.e ** output)\n",
    "\n",
    "print('Expotentiated values')\n",
    "print(exp_values)"
   ]
  },
  {
   "cell_type": "code",
   "execution_count": 5,
   "metadata": {},
   "outputs": [
    {
     "ename": "NameError",
     "evalue": "name 'norm_base' is not defined",
     "output_type": "error",
     "traceback": [
      "\u001b[1;31m---------------------------------------------------------------------------\u001b[0m",
      "\u001b[1;31mNameError\u001b[0m                                 Traceback (most recent call last)",
      "\u001b[1;32m<ipython-input-5-1beb22bec031>\u001b[0m in \u001b[0;36m<module>\u001b[1;34m\u001b[0m\n\u001b[0;32m      4\u001b[0m \u001b[0mnorm_val\u001b[0m \u001b[1;33m=\u001b[0m \u001b[1;33m[\u001b[0m\u001b[1;33m]\u001b[0m\u001b[1;33m\u001b[0m\u001b[1;33m\u001b[0m\u001b[0m\n\u001b[0;32m      5\u001b[0m \u001b[1;32mfor\u001b[0m \u001b[0mn\u001b[0m \u001b[1;32min\u001b[0m \u001b[0mexp_values\u001b[0m\u001b[1;33m:\u001b[0m\u001b[1;33m\u001b[0m\u001b[1;33m\u001b[0m\u001b[0m\n\u001b[1;32m----> 6\u001b[1;33m     \u001b[0mnorm_val\u001b[0m\u001b[1;33m.\u001b[0m\u001b[0mappend\u001b[0m\u001b[1;33m(\u001b[0m\u001b[0mn\u001b[0m \u001b[1;33m/\u001b[0m \u001b[0mnorm_base\u001b[0m\u001b[1;33m)\u001b[0m\u001b[1;33m\u001b[0m\u001b[1;33m\u001b[0m\u001b[0m\n\u001b[0m\u001b[0;32m      7\u001b[0m \u001b[1;33m\u001b[0m\u001b[0m\n\u001b[0;32m      8\u001b[0m \u001b[0mprint\u001b[0m\u001b[1;33m(\u001b[0m\u001b[1;34m'Normalized:'\u001b[0m\u001b[1;33m)\u001b[0m\u001b[1;33m\u001b[0m\u001b[1;33m\u001b[0m\u001b[0m\n",
      "\u001b[1;31mNameError\u001b[0m: name 'norm_base' is not defined"
     ]
    }
   ],
   "source": [
    "# Normalization\n",
    "\n",
    "# norm_base = sum(exp_values)\n",
    "norm_val = []\n",
    "for n in exp_values:\n",
    "    norm_val.append(n / norm_base)\n",
    "\n",
    "print('Normalized:')\n",
    "print(norm_val)"
   ]
  },
  {
   "cell_type": "code",
   "execution_count": 6,
   "metadata": {},
   "outputs": [
    {
     "name": "stdout",
     "output_type": "stream",
     "text": [
      "Numpy expotentiated values:\n",
      "[121.51041752   3.35348465  10.85906266]\n",
      "Numpy sum of normalized values:\n",
      "[0.89528266 0.02470831 0.08000903]\n",
      "Euler Expotentiation and Normalization in raw p\n"
     ]
    },
    {
     "data": {
      "text/plain": [
       "(array([2.]), 2.0)"
      ]
     },
     "execution_count": 6,
     "metadata": {},
     "output_type": "execute_result"
    }
   ],
   "source": [
    "# Normalization w/ NumPy\n",
    "\n",
    "layer_outputs = [4.8, 1.21, --2.385]\n",
    "numpy_exp_values = np.exp(layer_outputs)\n",
    "norm_values = numpy_exp_values / np.sum(numpy_exp_values)\n",
    "\n",
    "print('Numpy expotentiated values:')\n",
    "print(numpy_exp_values)\n",
    "print('Numpy sum of normalized values:')\n",
    "print(norm_values)\n",
    "\n",
    "# Euler Expotentiation and Normalization in raw p\n",
    "li = [[1, 2, 3]]\n",
    "\n",
    "print('Euler Expotentiation and Normalization in raw p')\n",
    "np.mean(li, axis=1), sum(li[0]) / len(li[0])\n"
   ]
  },
  {
   "cell_type": "code",
   "execution_count": 17,
   "metadata": {},
   "outputs": [
    {
     "name": "stdout",
     "output_type": "stream",
     "text": [
      "[[0.09003057 0.24472847 0.66524096]]\n"
     ]
    }
   ],
   "source": [
    "inputs = np.array([[4.8, 1.21, 2.385],\n",
    "                   [8.9, -1.81, 0.2],\n",
    "                   [1.41, 1.051, 0.026]])\n",
    "\n",
    "ex = np.exp(li - np.max(li, axis=1, keepdims=True))\n",
    "pro = ex / np.sum(ex, axis=1, keepdims=True)\n",
    "print(pro)"
   ]
  },
  {
   "cell_type": "code",
   "execution_count": 18,
   "metadata": {},
   "outputs": [
    {
     "name": "stdout",
     "output_type": "stream",
     "text": [
      "1.0\n"
     ]
    }
   ],
   "source": [
    "exp_values = np.exp(inputs)\n",
    "print(np.exp(0))\n",
    "# np sum axis=0 sumuje kolumny\n",
    "# np sum axis=1 sumuje rzędy\n",
    "sum = np.sum(inputs, axis=1, keepdims=True)\n",
    "# print('Sum without axis:')\n",
    "# print(sum)"
   ]
  },
  {
   "cell_type": "code",
   "execution_count": 21,
   "metadata": {},
   "outputs": [
    {
     "name": "stdout",
     "output_type": "stream",
     "text": [
      "[[0.09003057 0.24472847 0.66524096]]\n"
     ]
    }
   ],
   "source": [
    "# Softmax activation\n",
    "class Activation_Softmax:\n",
    "\n",
    "    def forward(self, inputs):\n",
    "        exp_values = np.exp(inputs - np.max(inputs, axis=1, keepdims=True))\n",
    "        probabilities = exp_values / np.sum(exp_values, axis=1, keepdims=True)\n",
    "\n",
    "        self.output = probabilities\n",
    "\n",
    "# Some examples of dead/exploding neurons\n",
    "# print(np.exp(-np.inf), np.exp(0))\n",
    "\n",
    "softmax = Activation_Softmax()\n",
    "\n",
    "softmax.forward([[-2, -1, 0]])\n",
    "print(softmax.output)"
   ]
  },
  {
   "cell_type": "code",
   "execution_count": null,
   "metadata": {},
   "outputs": [],
   "source": []
  }
 ],
 "metadata": {
  "kernelspec": {
   "display_name": "Python 3",
   "language": "python",
   "name": "python3"
  },
  "language_info": {
   "codemirror_mode": {
    "name": "ipython",
    "version": 3
   },
   "file_extension": ".py",
   "mimetype": "text/x-python",
   "name": "python",
   "nbconvert_exporter": "python",
   "pygments_lexer": "ipython3",
   "version": "3.8.5"
  }
 },
 "nbformat": 4,
 "nbformat_minor": 4
}
