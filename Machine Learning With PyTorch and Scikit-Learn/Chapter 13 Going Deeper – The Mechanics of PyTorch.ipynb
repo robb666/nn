{
 "cells": [
  {
   "cell_type": "markdown",
   "metadata": {},
   "source": [
    "# The key features of PyTorch"
   ]
  },
  {
   "cell_type": "markdown",
   "metadata": {},
   "source": [
    "# Creating a graph in PyTorch"
   ]
  },
  {
   "cell_type": "code",
   "execution_count": 1,
   "metadata": {},
   "outputs": [],
   "source": [
    "import torch\n",
    "\n",
    "def compute_z(a, b, c):\n",
    "    r1 = torch.sub(a, b)\n",
    "    r2 = torch.mul(r1, 2)\n",
    "    z = torch.add(r2, c)\n",
    "    return z"
   ]
  },
  {
   "cell_type": "code",
   "execution_count": 4,
   "metadata": {},
   "outputs": [
    {
     "name": "stdout",
     "output_type": "stream",
     "text": [
      "Scalar Inputs: tensor(1)\n"
     ]
    }
   ],
   "source": [
    "print('Scalar Inputs:', compute_z(torch.tensor(1), torch.tensor(2), torch.tensor(3)))"
   ]
  },
  {
   "cell_type": "code",
   "execution_count": 8,
   "metadata": {},
   "outputs": [
    {
     "name": "stdout",
     "output_type": "stream",
     "text": [
      "Rank 1 Inputs: tensor([1])\n"
     ]
    }
   ],
   "source": [
    "print('Rank 1 Inputs:', compute_z(torch.tensor([1]), torch.tensor([2]), torch.tensor([3])))"
   ]
  },
  {
   "cell_type": "code",
   "execution_count": 7,
   "metadata": {},
   "outputs": [
    {
     "name": "stdout",
     "output_type": "stream",
     "text": [
      "Rank 2 Inputs: tensor([[1]])\n"
     ]
    }
   ],
   "source": [
    "print('Rank 2 Inputs:', compute_z(torch.tensor([[1]]), torch.tensor([[2]]), torch.tensor([[3]])))"
   ]
  },
  {
   "cell_type": "markdown",
   "metadata": {},
   "source": [
    "# PyTorch tensor objects for storing and updating model parameters"
   ]
  },
  {
   "cell_type": "code",
   "execution_count": 9,
   "metadata": {},
   "outputs": [
    {
     "name": "stdout",
     "output_type": "stream",
     "text": [
      "tensor(3.1400, requires_grad=True)\n"
     ]
    }
   ],
   "source": [
    "a = torch.tensor(3.14, requires_grad=True)\n",
    "print(a)"
   ]
  },
  {
   "cell_type": "code",
   "execution_count": 11,
   "metadata": {},
   "outputs": [
    {
     "name": "stdout",
     "output_type": "stream",
     "text": [
      "tensor([1., 2., 3.], requires_grad=True)\n"
     ]
    }
   ],
   "source": [
    "b = torch.tensor([1.0, 2.0, 3.0], requires_grad=True)\n",
    "print(b)"
   ]
  },
  {
   "cell_type": "code",
   "execution_count": 12,
   "metadata": {},
   "outputs": [
    {
     "name": "stdout",
     "output_type": "stream",
     "text": [
      "False\n"
     ]
    }
   ],
   "source": [
    "w = torch.tensor([1.0, 2.0, 3.0])\n",
    "print(w.requires_grad)"
   ]
  },
  {
   "cell_type": "code",
   "execution_count": 13,
   "metadata": {},
   "outputs": [
    {
     "name": "stdout",
     "output_type": "stream",
     "text": [
      "True\n"
     ]
    }
   ],
   "source": [
    "w.requires_grad_()\n",
    "print(w.requires_grad)"
   ]
  },
  {
   "cell_type": "code",
   "execution_count": 14,
   "metadata": {},
   "outputs": [
    {
     "name": "stdout",
     "output_type": "stream",
     "text": [
      "tensor([[ 0.4183,  0.1688,  0.0390],\n",
      "        [ 0.3930, -0.2858, -0.1051]])\n"
     ]
    }
   ],
   "source": [
    "import torch.nn as nn\n",
    "\n",
    "torch.manual_seed(1)\n",
    "w = torch.empty(2, 3)\n",
    "nn.init.xavier_normal_(w)\n",
    "print(w)"
   ]
  },
  {
   "cell_type": "code",
   "execution_count": null,
   "metadata": {},
   "outputs": [],
   "source": [
    "class MyModule(nn.Module):\n",
    "    def __init__(self):\n",
    "        super().__init__()\n",
    "        self.w1 = torch.empty(2, 3, requires_grad=True)\n",
    "        nn.init.xavier_normal_(self.w1)\n",
    "        self.w2 = torch.empty(1, 2, requires_grad=True)\n",
    "        nn.init.xavier_normal_(self.w2)"
   ]
  },
  {
   "cell_type": "code",
   "execution_count": 28,
   "metadata": {},
   "outputs": [
    {
     "name": "stdout",
     "output_type": "stream",
     "text": [
      "dL/dw:  tensor(-0.5600)\n",
      "dL/db:  tensor(-0.4000)\n"
     ]
    }
   ],
   "source": [
    "w = torch.tensor(1.0, requires_grad=True)\n",
    "b = torch.tensor(0.5, requires_grad=True)\n",
    "x = torch.tensor([1.4])\n",
    "y = torch.tensor([2.1])\n",
    "z = torch.add(torch.mul(w, x), b)\n",
    "loss = (y-z).pow(2).sum()\n",
    "loss.backward()\n",
    "print('dL/dw: ', w.grad)\n",
    "print('dL/db: ', b.grad)"
   ]
  },
  {
   "cell_type": "code",
   "execution_count": 17,
   "metadata": {},
   "outputs": [
    {
     "name": "stdout",
     "output_type": "stream",
     "text": [
      "tensor([-0.5600], grad_fn=<MulBackward0>)\n"
     ]
    }
   ],
   "source": [
    "# verifying the computed gradient\n",
    "print(2 * x * ((w * x + b) - y))"
   ]
  },
  {
   "cell_type": "code",
   "execution_count": 32,
   "metadata": {},
   "outputs": [
    {
     "name": "stdout",
     "output_type": "stream",
     "text": [
      "tensor([-0.4000], grad_fn=<MulBackward0>)\n"
     ]
    }
   ],
   "source": [
    "print(2 * ((w * x + b) - y))"
   ]
  },
  {
   "cell_type": "markdown",
   "metadata": {},
   "source": [
    "# Implementing models based on nn.Sequential"
   ]
  },
  {
   "cell_type": "code",
   "execution_count": 33,
   "metadata": {},
   "outputs": [
    {
     "data": {
      "text/plain": [
       "Sequential(\n",
       "  (0): Linear(in_features=4, out_features=16, bias=True)\n",
       "  (1): ReLU()\n",
       "  (2): Linear(in_features=16, out_features=32, bias=True)\n",
       "  (3): ReLU()\n",
       ")"
      ]
     },
     "execution_count": 33,
     "metadata": {},
     "output_type": "execute_result"
    }
   ],
   "source": [
    "model = nn.Sequential(\n",
    "    nn.Linear(4, 16),\n",
    "    nn.ReLU(),\n",
    "    nn.Linear(16, 32),\n",
    "    nn.ReLU()\n",
    ")\n",
    "\n",
    "model"
   ]
  },
  {
   "cell_type": "code",
   "execution_count": 36,
   "metadata": {},
   "outputs": [],
   "source": [
    "l = nn.init.xavier_uniform_(model[0].weight)\n",
    "l1_weight = 0.01\n",
    "l1_penalty = l1_weight * model[2].weight.abs().sum()"
   ]
  },
  {
   "cell_type": "code",
   "execution_count": 37,
   "metadata": {},
   "outputs": [],
   "source": [
    "loss_fn = nn.BCELoss()\n",
    "optimizer = torch.optim.SGD(model.parameters(), lr=0.001)"
   ]
  },
  {
   "cell_type": "code",
   "execution_count": 43,
   "metadata": {},
   "outputs": [
    {
     "data": {
      "image/png": "[encoded data removed]",
      "text/plain": [
       "<Figure size 504x504 with 1 Axes>"
      ]
     },
     "metadata": {
      "needs_background": "light"
     },
     "output_type": "display_data"
    }
   ],
   "source": [
    "import matplotlib.pyplot as plt\n",
    "import numpy as np\n",
    "\n",
    "torch.manual_seed(1)\n",
    "np.random.seed(1)\n",
    "x = np.random.uniform(low=-1, high=1, size=(200, 2))\n",
    "y = np.ones(len(x))\n",
    "y[x[:, 0] * x[:, 1] < 0] = 0\n",
    "n_train = 100\n",
    "x_train = torch.tensor(x[:n_train, :], dtype=torch.float32)\n",
    "y_train = torch.tensor(y[:n_train], dtype=torch.float32)\n",
    "x_valid = torch.tensor(x[n_train:, :], dtype=torch.float32)\n",
    "y_valid = torch.tensor(y[n_train:], dtype=torch.float32)\n",
    "fig = plt.figure(figsize=(7, 7))\n",
    "plt.plot(x[y==0, 0], x[y==0, 1], 'o', alpha=0.75, markersize=10)\n",
    "plt.plot(x[y==1, 0], x[y==1, 1], '<', alpha=0.75, markersize=10)\n",
    "plt.xlabel(r'$x_1$', size=15)\n",
    "plt.ylabel(r'$x_2$', size=15)\n",
    "plt.show()"
   ]
  },
  {
   "cell_type": "code",
   "execution_count": 42,
   "metadata": {},
   "outputs": [
    {
     "data": {
      "text/plain": [
       "Sequential(\n",
       "  (0): Linear(in_features=2, out_features=1, bias=True)\n",
       "  (1): Sigmoid()\n",
       ")"
      ]
     },
     "execution_count": 42,
     "metadata": {},
     "output_type": "execute_result"
    }
   ],
   "source": [
    "model = nn.Sequential(\n",
    "    nn.Linear(2, 1),\n",
    "    nn.Sigmoid())\n",
    "\n",
    "model"
   ]
  },
  {
   "cell_type": "code",
   "execution_count": 44,
   "metadata": {},
   "outputs": [],
   "source": [
    "loss_fn = nn.BCELoss()\n",
    "optimizer = torch.optim.SGD(model.parameters(), lr=0.001)\n",
    "\n",
    "from torch.utils.data import DataLoader, TensorDataset\n",
    "\n",
    "train_ds = TensorDataset(x_train, y_train)\n",
    "batch_size = 2\n",
    "torch.manual_seed(1)\n",
    "train_dl = DataLoader(train_ds, batch_size, shuffle=True)\n"
   ]
  },
  {
   "cell_type": "raw",
   "metadata": {},
   "source": [
    "Now we will train the model for 200 epochs and record a history of training epochs:"
   ]
  },
  {
   "cell_type": "code",
   "execution_count": 52,
   "metadata": {},
   "outputs": [],
   "source": [
    "torch.manual_seed(1)\n",
    "num_epochs = 200\n",
    "\n",
    "def train(model, num_epochs, train_dl, x_valid, y_valid):\n",
    "    loss_hist_train = [0] * num_epochs\n",
    "    accuracy_hist_train = [0] * num_epochs\n",
    "    loss_hist_valid = [0] * num_epochs\n",
    "    accuracy_hist_valid = [0] * num_epochs\n",
    "    for epoch in range(num_epochs):\n",
    "        for x_batch, y_batch in train_dl:\n",
    "            pred = model(x_batch)[:, 0]\n",
    "            loss = loss_fn(pred, y_batch)\n",
    "            loss.backward()\n",
    "            optimizer.step()\n",
    "            optimizer.zero_grad()\n",
    "            loss_hist_train[epoch] += loss.item()\n",
    "            is_correct = ((pred >= 0.5).float() == y_batch).float()\n",
    "            accuracy_hist_train[epoch] += is_correct.mean()\n",
    "        loss_hist_train[epoch] /= n_train\n",
    "        accuracy_hist_train[epoch] /= n_train/batch_size\n",
    "        pred = model(x_valid)[:, 0]\n",
    "        loss = loss_fn(pred, y_valid)\n",
    "        loss_hist_valid[epoch] = loss.item()\n",
    "        is_correct = ((pred >= 0.5).float() == y_valid).float()\n",
    "        accuracy_hist_valid[epoch] += is_correct.mean()\n",
    "    return loss_hist_train, loss_hist_valid, \\\n",
    "           accuracy_hist_train, accuracy_hist_valid\n",
    "\n",
    "\n",
    "history = train(model, num_epochs, train_dl, x_valid, y_valid)"
   ]
  },
  {
   "cell_type": "code",
   "execution_count": 53,
   "metadata": {},
   "outputs": [
    {
     "data": {
      "text/plain": [
       "Text(0.5, 0, 'Epochs')"
      ]
     },
     "execution_count": 53,
     "metadata": {},
     "output_type": "execute_result"
    },
    {
     "data": {
      "image/png": "[encoded data removed]",
      "text/plain": [
       "<Figure size 1152x288 with 2 Axes>"
      ]
     },
     "metadata": {
      "needs_background": "light"
     },
     "output_type": "display_data"
    }
   ],
   "source": [
    "fig = plt.figure(figsize=(16, 4))\n",
    "ax = fig.add_subplot(1, 2, 1)\n",
    "plt.plot(history[0], lw=4)\n",
    "plt.plot(history[1], lw=4)\n",
    "plt.legend(['Train loss', 'Validation loss'], fontsize=15)\n",
    "ax.set_xlabel('Epochs', size=15)\n",
    "ax = fig.add_subplot(1, 2, 2)\n",
    "plt.plot(history[2], lw=4)\n",
    "plt.plot(history[3], lw=4)\n",
    "plt.legend(['Train acc.', 'Validation acc.'], fontsize=15)\n",
    "ax.set_xlabel('Epochs', size=15)"
   ]
  },
  {
   "cell_type": "code",
   "execution_count": null,
   "metadata": {},
   "outputs": [],
   "source": []
  },
  {
   "cell_type": "code",
   "execution_count": null,
   "metadata": {},
   "outputs": [],
   "source": []
  },
  {
   "cell_type": "code",
   "execution_count": null,
   "metadata": {},
   "outputs": [],
   "source": []
  },
  {
   "cell_type": "code",
   "execution_count": null,
   "metadata": {},
   "outputs": [],
   "source": []
  },
  {
   "cell_type": "code",
   "execution_count": null,
   "metadata": {},
   "outputs": [],
   "source": []
  },
  {
   "cell_type": "code",
   "execution_count": null,
   "metadata": {},
   "outputs": [],
   "source": []
  }
 ],
 "metadata": {
  "kernelspec": {
   "display_name": "Python 3",
   "language": "python",
   "name": "python3"
  },
  "language_info": {
   "codemirror_mode": {
    "name": "ipython",
    "version": 3
   },
   "file_extension": ".py",
   "mimetype": "text/x-python",
   "name": "python",
   "nbconvert_exporter": "python",
   "pygments_lexer": "ipython3",
   "version": "3.9.1"
  }
 },
 "nbformat": 4,
 "nbformat_minor": 4
}
