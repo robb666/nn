{
 "cells": [
  {
   "cell_type": "markdown",
   "metadata": {},
   "source": [
    "# The key features of PyTorch"
   ]
  },
  {
   "cell_type": "markdown",
   "metadata": {},
   "source": [
    "# Creating a graph in PyTorch"
   ]
  },
  {
   "cell_type": "code",
   "execution_count": 1,
   "metadata": {},
   "outputs": [],
   "source": [
    "# import torch\n",
    "\n",
    "# def compute_z(a, b, c):\n",
    "#     r1 = torch.sub(a, b)\n",
    "#     r2 = torch.mul(r1, 2)\n",
    "#     z = torch.add(r2, c)\n",
    "#     return z"
   ]
  },
  {
   "cell_type": "code",
   "execution_count": 2,
   "metadata": {},
   "outputs": [],
   "source": [
    "# print('Scalar Inputs:', compute_z(torch.tensor(1), torch.tensor(2), torch.tensor(3)))"
   ]
  },
  {
   "cell_type": "code",
   "execution_count": 3,
   "metadata": {},
   "outputs": [],
   "source": [
    "# print('Rank 1 Inputs:', compute_z(torch.tensor([1]), torch.tensor([2]), torch.tensor([3])))"
   ]
  },
  {
   "cell_type": "code",
   "execution_count": 4,
   "metadata": {},
   "outputs": [],
   "source": [
    "# print('Rank 2 Inputs:', compute_z(torch.tensor([[1]]), torch.tensor([[2]]), torch.tensor([[3]])))"
   ]
  },
  {
   "cell_type": "markdown",
   "metadata": {},
   "source": [
    "# PyTorch tensor objects for storing and updating model parameters"
   ]
  },
  {
   "cell_type": "code",
   "execution_count": 5,
   "metadata": {},
   "outputs": [],
   "source": [
    "# a = torch.tensor(3.14, requires_grad=True)\n",
    "# print(a)"
   ]
  },
  {
   "cell_type": "code",
   "execution_count": 6,
   "metadata": {},
   "outputs": [],
   "source": [
    "# b = torch.tensor([1.0, 2.0, 3.0], requires_grad=True)\n",
    "# print(b)"
   ]
  },
  {
   "cell_type": "code",
   "execution_count": 7,
   "metadata": {},
   "outputs": [],
   "source": [
    "# w = torch.tensor([1.0, 2.0, 3.0])\n",
    "# print(w.requires_grad)"
   ]
  },
  {
   "cell_type": "code",
   "execution_count": 8,
   "metadata": {},
   "outputs": [],
   "source": [
    "# w.requires_grad_()\n",
    "# print(w.requires_grad)"
   ]
  },
  {
   "cell_type": "code",
   "execution_count": 9,
   "metadata": {},
   "outputs": [],
   "source": [
    "# import torch.nn as nn\n",
    "\n",
    "# torch.manual_seed(1)\n",
    "# w = torch.empty(2, 3)\n",
    "# nn.init.xavier_normal_(w)\n",
    "# print(w)"
   ]
  },
  {
   "cell_type": "code",
   "execution_count": 10,
   "metadata": {},
   "outputs": [],
   "source": [
    "# class MyModule(nn.Module):\n",
    "#     def __init__(self):\n",
    "#         super().__init__()\n",
    "#         self.w1 = torch.empty(2, 3, requires_grad=True)\n",
    "#         nn.init.xavier_normal_(self.w1)\n",
    "#         self.w2 = torch.empty(1, 2, requires_grad=True)\n",
    "#         nn.init.xavier_normal_(self.w2)"
   ]
  },
  {
   "cell_type": "code",
   "execution_count": 11,
   "metadata": {},
   "outputs": [],
   "source": [
    "# w = torch.tensor(1.0, requires_grad=True)\n",
    "# b = torch.tensor(0.5, requires_grad=True)\n",
    "# x = torch.tensor([1.4])\n",
    "# y = torch.tensor([2.1])\n",
    "# z = torch.add(torch.mul(w, x), b)\n",
    "# loss = (y-z).pow(2).sum()\n",
    "# loss.backward()\n",
    "# print('dL/dw: ', w.grad)\n",
    "# print('dL/db: ', b.grad)"
   ]
  },
  {
   "cell_type": "code",
   "execution_count": 12,
   "metadata": {},
   "outputs": [],
   "source": [
    "# # verifying the computed gradient\n",
    "# print(2 * x * ((w * x + b) - y))"
   ]
  },
  {
   "cell_type": "code",
   "execution_count": 13,
   "metadata": {},
   "outputs": [],
   "source": [
    "# print(2 * ((w * x + b) - y))"
   ]
  },
  {
   "cell_type": "markdown",
   "metadata": {},
   "source": [
    "# Implementing models based on nn.Sequential"
   ]
  },
  {
   "cell_type": "code",
   "execution_count": 14,
   "metadata": {},
   "outputs": [
    {
     "data": {
      "text/plain": [
       "Sequential(\n",
       "  (0): Linear(in_features=4, out_features=16, bias=True)\n",
       "  (1): ReLU()\n",
       "  (2): Linear(in_features=16, out_features=32, bias=True)\n",
       "  (3): ReLU()\n",
       ")"
      ]
     },
     "execution_count": 14,
     "metadata": {},
     "output_type": "execute_result"
    }
   ],
   "source": [
    "import torch\n",
    "import torch.nn as nn\n",
    "\n",
    "model = nn.Sequential(\n",
    "    nn.Linear(4, 16),\n",
    "    nn.ReLU(),\n",
    "    nn.Linear(16, 32),\n",
    "    nn.ReLU()\n",
    ")\n",
    "\n",
    "model"
   ]
  },
  {
   "cell_type": "code",
   "execution_count": 15,
   "metadata": {},
   "outputs": [
    {
     "data": {
      "text/plain": [
       "Linear(in_features=4, out_features=16, bias=True)"
      ]
     },
     "execution_count": 15,
     "metadata": {},
     "output_type": "execute_result"
    }
   ],
   "source": [
    "import numpy as np\n",
    "\n",
    "model[0]"
   ]
  },
  {
   "cell_type": "code",
   "execution_count": 16,
   "metadata": {},
   "outputs": [],
   "source": [
    "l = nn.init.xavier_uniform_(model[0].weight)\n",
    "l1_weight = 0.01\n",
    "l1_penalty = l1_weight * model[2].weight.abs().sum()"
   ]
  },
  {
   "cell_type": "code",
   "execution_count": 17,
   "metadata": {},
   "outputs": [],
   "source": [
    "loss_fn = nn.BCELoss()\n",
    "optimizer = torch.optim.SGD(model.parameters(), lr=0.001)"
   ]
  },
  {
   "cell_type": "code",
   "execution_count": 18,
   "metadata": {},
   "outputs": [
    {
     "name": "stdout",
     "output_type": "stream",
     "text": [
      "[[-0.16595599  0.44064899]\n",
      " [-0.99977125 -0.39533485]\n",
      " [-0.70648822 -0.81532281]\n",
      " [-0.62747958 -0.30887855]\n",
      " [-0.20646505  0.07763347]\n",
      " [-0.16161097  0.370439  ]\n",
      " [-0.5910955   0.75623487]\n",
      " [-0.94522481  0.34093502]\n",
      " [-0.1653904   0.11737966]\n",
      " [-0.71922612 -0.60379702]]\n",
      "[0. 1. 1. 1. 0. 0. 0. 0. 0. 1. 1. 0. 1. 1. 0. 1. 1. 0. 1. 0. 1. 0. 1. 0.\n",
      " 1. 0. 1. 1. 0. 1. 1. 0. 0. 1. 1. 0. 0. 1. 0. 1. 1. 0. 0. 0. 1. 0. 0. 1.\n",
      " 1. 0. 0. 0. 1. 0. 1. 1. 1. 0. 1. 0. 1. 1. 1. 1. 1. 1. 0. 0. 0. 1. 0. 1.\n",
      " 1. 0. 0. 0. 0. 0. 0. 1. 1. 1. 1. 1. 1. 0. 0. 1. 0. 1. 0. 0. 0. 0. 1. 1.\n",
      " 1. 1. 1. 1. 1. 1. 1. 1. 1. 0. 1. 0. 0. 0. 1. 0. 0. 1. 1. 0. 0. 0. 0. 0.\n",
      " 0. 0. 1. 1. 1. 0. 0. 1. 1. 0. 1. 1. 0. 0. 1. 1. 0. 1. 1. 0. 1. 0. 0. 1.\n",
      " 1. 1. 0. 1. 1. 0. 1. 1. 1. 1. 0. 1. 1. 1. 0. 0. 0. 1. 0. 0. 1. 0. 0. 0.\n",
      " 0. 1. 1. 1. 0. 1. 0. 1. 1. 0. 0. 1. 1. 1. 1. 1. 0. 1. 0. 1. 1. 0. 0. 0.\n",
      " 1. 0. 0. 0. 1. 1. 0. 1.]\n"
     ]
    },
    {
     "data": {
      "image/png": "[encoded data removed]",
      "text/plain": [
       "<Figure size 432x432 with 1 Axes>"
      ]
     },
     "metadata": {
      "needs_background": "light"
     },
     "output_type": "display_data"
    }
   ],
   "source": [
    "import matplotlib.pyplot as plt\n",
    "import numpy as np\n",
    "\n",
    "torch.manual_seed(1)\n",
    "np.random.seed(1)\n",
    "x = np.random.uniform(low=-1, high=1, size=(200, 2))\n",
    "y = np.ones(len(x))\n",
    "y[x[:, 0] * x[:, 1] < 0] = 0\n",
    "print(x[:10])\n",
    "print(y)\n",
    "\n",
    "n_train = 100\n",
    "fig = plt.figure(figsize=(6, 6))\n",
    "plt.plot(x[y==0, 0], x[y==0, 1], 'o', alpha=0.75, markersize=10)\n",
    "# plt.plot(x[y==1, 0], x[y==1, 1], '<', alpha=0.75, markersize=10)\n",
    "plt.xlabel(r'$x_1$', size=25)\n",
    "plt.ylabel(r'$x_2$', size=25)\n",
    "plt.show()"
   ]
  },
  {
   "cell_type": "code",
   "execution_count": 19,
   "metadata": {},
   "outputs": [],
   "source": [
    "x_train = torch.tensor(x[:n_train, :], dtype=torch.float32)\n",
    "y_train = torch.tensor(y[:n_train], dtype=torch.float32)\n",
    "x_valid = torch.tensor(x[n_train:, :], dtype=torch.float32)\n",
    "y_valid = torch.tensor(y[n_train:], dtype=torch.float32)"
   ]
  },
  {
   "cell_type": "code",
   "execution_count": 20,
   "metadata": {},
   "outputs": [],
   "source": [
    "# model = nn.Sequential(\n",
    "#     nn.Linear(2, 1),\n",
    "#     nn.Sigmoid())\n",
    "\n",
    "# model\n",
    "\n",
    "# loss_fn = nn.BCELoss()\n",
    "# optimizer = torch.optim.SGD(model.parameters(), lr=0.001)"
   ]
  },
  {
   "cell_type": "code",
   "execution_count": 21,
   "metadata": {},
   "outputs": [
    {
     "data": {
      "text/plain": [
       "Sequential(\n",
       "  (0): Linear(in_features=2, out_features=4, bias=True)\n",
       "  (1): ReLU()\n",
       "  (2): Linear(in_features=4, out_features=4, bias=True)\n",
       "  (3): ReLU()\n",
       "  (4): Linear(in_features=4, out_features=1, bias=True)\n",
       "  (5): Sigmoid()\n",
       ")"
      ]
     },
     "execution_count": 21,
     "metadata": {},
     "output_type": "execute_result"
    }
   ],
   "source": [
    "import torch\n",
    "import torch.nn as nn\n",
    "\n",
    "\n",
    "model = nn.Sequential(\n",
    "    nn.Linear(2, 4),\n",
    "    nn.ReLU(),\n",
    "    nn.Linear(4, 4),\n",
    "    nn.ReLU(),\n",
    "    nn.Linear(4, 1),\n",
    "    nn.Sigmoid()\n",
    ")\n",
    "\n",
    "\n",
    "loss_fn = nn.BCELoss()\n",
    "optimizer = torch.optim.SGD(model.parameters(), lr=0.015)\n",
    "\n",
    "model"
   ]
  },
  {
   "cell_type": "code",
   "execution_count": 22,
   "metadata": {},
   "outputs": [
    {
     "name": "stdout",
     "output_type": "stream",
     "text": [
      "[[tensor([[ 0.0493,  0.8496],\n",
      "        [ 0.8550, -0.3045]]), tensor([1., 0.])], [tensor([[ 0.8068,  0.1474],\n",
      "        [-0.7065, -0.8153]]), tensor([1., 1.])], [tensor([[-0.1654,  0.1174],\n",
      "        [-0.4794,  0.6095]]), tensor([0., 0.])], [tensor([[ 0.4230, -0.7515],\n",
      "        [-0.1616,  0.3704]]), tensor([0., 0.])], [tensor([[-0.1660,  0.4406],\n",
      "        [ 0.9158,  0.0663]]), tensor([0., 1.])], [tensor([[0.7666, 0.2473],\n",
      "        [0.7201, 0.0777]]), tensor([1., 1.])], [tensor([[ 0.7719, -0.2855],\n",
      "        [ 0.2336,  0.8980]]), tensor([0., 1.])], [tensor([[-0.9452,  0.3409],\n",
      "        [-0.6553, -0.7257]]), tensor([0., 1.])], [tensor([[-0.3653,  0.9772],\n",
      "        [ 0.8172, -0.4128]]), tensor([0., 0.])], [tensor([[0.3730, 0.6693],\n",
      "        [0.9400, 0.6937]]), tensor([1., 1.])], [tensor([[-0.7214,  0.6148],\n",
      "        [ 0.5019, -0.3022]]), tensor([0., 0.])], [tensor([[-0.9943,  0.2343],\n",
      "        [ 0.1221, -0.9627]]), tensor([0., 0.])], [tensor([[ 0.1715,  0.9392],\n",
      "        [-0.1837, -0.5259]]), tensor([1., 1.])], [tensor([[ 0.1125, -0.7271],\n",
      "        [-0.6131,  0.2789]]), tensor([0., 0.])], [tensor([[-0.6091,  0.1627],\n",
      "        [-0.9998, -0.3953]]), tensor([0., 1.])], [tensor([[-0.9001,  0.0718],\n",
      "        [-0.8680,  0.5109]]), tensor([0., 0.])], [tensor([[-0.9434, -0.5076],\n",
      "        [-0.6603,  0.7563]]), tensor([1., 0.])], [tensor([[ 0.2399,  0.6580],\n",
      "        [-0.8802, -0.7573]]), tensor([1., 1.])], [tensor([[-0.5203, -0.0125],\n",
      "        [-0.7192, -0.6038]]), tensor([1., 1.])], [tensor([[-0.8299, -0.9219],\n",
      "        [-0.4391,  0.5786]]), tensor([1., 0.])], [tensor([[-0.7517, -0.4416],\n",
      "        [-0.7705,  0.8990]]), tensor([1., 0.])], [tensor([[ 0.5055, -0.8669],\n",
      "        [-0.5911,  0.7562]]), tensor([0., 0.])], [tensor([[-0.4734, -0.8681],\n",
      "        [-0.2065,  0.0776]]), tensor([1., 0.])], [tensor([[-0.4244, -0.7399],\n",
      "        [ 0.3276,  0.0298]]), tensor([1., 1.])], [tensor([[ 0.1482, -0.7065],\n",
      "        [ 0.3818,  0.9946]]), tensor([0., 1.])], [tensor([[ 0.8068, -0.7251],\n",
      "        [ 0.7271,  0.4942]]), tensor([0., 1.])], [tensor([[-0.4953,  0.4877],\n",
      "        [ 0.6142, -0.2243]]), tensor([0., 0.])], [tensor([[-0.7935, -0.1042],\n",
      "        [ 0.1019,  0.4907]]), tensor([1., 1.])], [tensor([[-0.5486,  0.4260],\n",
      "        [-0.9721, -0.5313]]), tensor([0., 1.])], [tensor([[-0.6275, -0.3089],\n",
      "        [-0.8600, -0.0273]]), tensor([1., 1.])], [tensor([[-0.1438,  0.9297],\n",
      "        [-0.1002,  0.1568]]), tensor([0., 0.])], [tensor([[ 0.5078,  0.8460],\n",
      "        [-0.2046, -0.6693]]), tensor([1., 1.])], [tensor([[-0.8561,  0.9346],\n",
      "        [-0.6864, -0.9628]]), tensor([0., 1.])], [tensor([[0.4701, 0.5444],\n",
      "        [0.8156, 0.8639]]), tensor([1., 1.])], [tensor([[-0.7953, -0.1719],\n",
      "        [ 0.1362, -0.5934]]), tensor([1., 0.])], [tensor([[-0.9109, -0.7850],\n",
      "        [-0.9613,  0.3577]]), tensor([1., 0.])], [tensor([[ 0.8892,  0.1731],\n",
      "        [-0.5767, -0.4689]]), tensor([1., 1.])], [tensor([[ 0.1194, -0.9749],\n",
      "        [ 0.2127,  0.1377]]), tensor([0., 1.])], [tensor([[ 0.3385, -0.4702],\n",
      "        [-0.9602, -0.9476]]), tensor([0., 1.])], [tensor([[ 0.1056,  0.6841],\n",
      "        [-0.3732,  0.3846]]), tensor([1., 0.])], [tensor([[-0.0169, -0.8933],\n",
      "        [ 0.2594, -0.5797]]), tensor([1., 0.])], [tensor([[0.3269, 0.2434],\n",
      "        [0.1786, 0.3995]]), tensor([1., 1.])], [tensor([[-0.8673, -0.2598],\n",
      "        [ 0.3888, -0.1716]]), tensor([1., 0.])], [tensor([[ 0.9777,  0.4963],\n",
      "        [-0.8033, -0.1578]]), tensor([1., 1.])], [tensor([[ 0.7528,  0.7892],\n",
      "        [ 0.3838, -0.3690]]), tensor([1., 0.])], [tensor([[ 0.6013, -0.5341],\n",
      "        [-0.3467,  0.0541]]), tensor([0., 0.])], [tensor([[ 0.8171,  0.2467],\n",
      "        [ 0.1595, -0.2397]]), tensor([1., 0.])], [tensor([[-0.9634,  0.5003],\n",
      "        [ 0.6015,  0.9365]]), tensor([0., 1.])], [tensor([[0.5016, 0.4520],\n",
      "        [0.8652, 0.3936]]), tensor([1., 1.])], [tensor([[-0.9684,  0.8589],\n",
      "        [-0.4601,  0.7918]]), tensor([0., 0.])]]\n"
     ]
    }
   ],
   "source": [
    "from torch.utils.data import DataLoader, TensorDataset\n",
    "\n",
    "train_ds = TensorDataset(x_train, y_train)\n",
    "batch_size = 2\n",
    "torch.manual_seed(1)\n",
    "train_dl = DataLoader(train_ds, batch_size, shuffle=True)\n",
    "print(list(train_dl))"
   ]
  },
  {
   "cell_type": "raw",
   "metadata": {},
   "source": [
    "Now we will train the model for 200 epochs and record a history of training epochs:"
   ]
  },
  {
   "cell_type": "code",
   "execution_count": 23,
   "metadata": {},
   "outputs": [],
   "source": [
    "torch.manual_seed(1)\n",
    "num_epochs = 200\n",
    "\n",
    "def train(model, num_epochs, train_dl, x_valid, y_valid):\n",
    "    loss_hist_train = [0] * num_epochs\n",
    "    accuracy_hist_train = [0] * num_epochs\n",
    "    loss_hist_valid = [0] * num_epochs\n",
    "    accuracy_hist_valid = [0] * num_epochs\n",
    "    for epoch in range(num_epochs):\n",
    "        for x_batch, y_batch in train_dl:\n",
    "            pred = model(x_batch)[:, 0]\n",
    "            loss = loss_fn(pred, y_batch)\n",
    "            loss.backward()\n",
    "            optimizer.step()\n",
    "            optimizer.zero_grad()\n",
    "            loss_hist_train[epoch] += loss.item() * 2  # ?\n",
    "            is_correct = ((pred >= 0.5).float() == y_batch).float()\n",
    "            accuracy_hist_train[epoch] += is_correct.mean()\n",
    "        loss_hist_train[epoch] /= n_train\n",
    "        accuracy_hist_train[epoch] /= n_train/batch_size\n",
    "        pred = model(x_valid)[:, 0]\n",
    "        loss = loss_fn(pred, y_valid)\n",
    "        loss_hist_valid[epoch] = loss.item()\n",
    "        is_correct = ((pred >= 0.5).float() == y_valid).float()\n",
    "        accuracy_hist_valid[epoch] += is_correct.mean()\n",
    "    return loss_hist_train, loss_hist_valid, \\\n",
    "           accuracy_hist_train, accuracy_hist_valid\n",
    "\n",
    "\n",
    "history = train(model, num_epochs, train_dl, x_valid, y_valid)"
   ]
  },
  {
   "cell_type": "code",
   "execution_count": 24,
   "metadata": {
    "tags": []
   },
   "outputs": [
    {
     "data": {
      "image/png": "[encoded data removed]",
      "text/plain": [
       "<Figure size 1152x288 with 2 Axes>"
      ]
     },
     "metadata": {
      "needs_background": "light"
     },
     "output_type": "display_data"
    }
   ],
   "source": [
    "fig = plt.figure(figsize=(16, 4))\n",
    "ax = fig.add_subplot(1, 2, 1)\n",
    "# print(history[0])\n",
    "plt.plot(history[0], lw=4)\n",
    "# print(history[1])\n",
    "plt.plot(history[1], lw=4)\n",
    "plt.legend(['Train loss', 'Validation loss'], fontsize=15)\n",
    "ax.set_xlabel('Epochs', size=15)\n",
    "ax = fig.add_subplot(1, 2, 2)\n",
    "plt.plot(history[2], lw=4)\n",
    "plt.plot(history[3], lw=4)\n",
    "plt.legend(['Train acc.', 'Validation acc.'], fontsize=15)\n",
    "ax.set_xlabel('Epochs', size=15)\n",
    "plt.show()"
   ]
  },
  {
   "cell_type": "code",
   "execution_count": 25,
   "metadata": {},
   "outputs": [
    {
     "data": {
      "text/plain": [
       "Sequential(\n",
       "  (0): Linear(in_features=2, out_features=4, bias=True)\n",
       "  (1): ReLU()\n",
       "  (2): Linear(in_features=4, out_features=4, bias=True)\n",
       "  (3): ReLU()\n",
       "  (4): Linear(in_features=4, out_features=1, bias=True)\n",
       "  (5): Sigmoid()\n",
       ")"
      ]
     },
     "execution_count": 25,
     "metadata": {},
     "output_type": "execute_result"
    }
   ],
   "source": [
    "model = nn.Sequential(\n",
    "    nn.Linear(2, 4),\n",
    "    nn.ReLU(),\n",
    "    nn.Linear(4, 4),\n",
    "    nn.ReLU(),\n",
    "    nn.Linear(4, 1),\n",
    "    nn.Sigmoid()\n",
    ")\n",
    "\n",
    "loss_fn = nn.BCELoss()\n",
    "optimizer = torch.optim.SGD(model.parameters(), lr=0.015)\n",
    "\n",
    "model"
   ]
  },
  {
   "cell_type": "code",
   "execution_count": 26,
   "metadata": {},
   "outputs": [],
   "source": [
    "history = train(model, num_epochs, train_dl, x_valid, y_valid)"
   ]
  },
  {
   "cell_type": "markdown",
   "metadata": {},
   "source": [
    "# Making model building more flexible with nn.Module"
   ]
  },
  {
   "cell_type": "code",
   "execution_count": 27,
   "metadata": {},
   "outputs": [
    {
     "data": {
      "text/plain": [
       "MyModule(\n",
       "  (module_list): ModuleList(\n",
       "    (0): Linear(in_features=2, out_features=4, bias=True)\n",
       "    (1): ReLU()\n",
       "    (2): Linear(in_features=4, out_features=4, bias=True)\n",
       "    (3): ReLU()\n",
       "    (4): Linear(in_features=4, out_features=1, bias=True)\n",
       "    (5): Sigmoid()\n",
       "  )\n",
       ")"
      ]
     },
     "execution_count": 27,
     "metadata": {},
     "output_type": "execute_result"
    }
   ],
   "source": [
    "class MyModule(nn.Module):\n",
    "    def __init__(self):\n",
    "        super().__init__()\n",
    "        l1 = nn.Linear(2, 4)\n",
    "        a1 = nn.ReLU()\n",
    "        l2 = nn.Linear(4, 4)\n",
    "        a2 = nn.ReLU()\n",
    "        l3 = nn.Linear(4, 1)\n",
    "        a3 = nn.Sigmoid()\n",
    "        l = [l1, a1, l2, a2, l3, a3]\n",
    "        self.module_list = nn.ModuleList(l)\n",
    "        \n",
    "    def forward(self, x):\n",
    "        for f in self.module_list:\n",
    "            x = f(x)\n",
    "        return x\n",
    "    \n",
    "    def predict(self, x):\n",
    "        x = torch.tensor(x, dtype=torch.float32)\n",
    "        pred = self.forward(x)[:, 0]\n",
    "        return (pred >= 0.5).float()\n",
    "    \n",
    "    \n",
    "model = MyModule()\n",
    "\n",
    "model"
   ]
  },
  {
   "cell_type": "code",
   "execution_count": 28,
   "metadata": {},
   "outputs": [],
   "source": [
    "loss_fn = nn.BCELoss()\n",
    "optimizer = torch.optim.SGD(model.parameters(), lr=0.015)\n",
    "history = train(model, num_epochs, train_dl, x_valid, y_valid)"
   ]
  },
  {
   "cell_type": "code",
   "execution_count": 29,
   "metadata": {},
   "outputs": [
    {
     "name": "stderr",
     "output_type": "stream",
     "text": [
      "<ipython-input-29-3035e9b974e2>:16: DeprecationWarning: Converting `np.integer` or `np.signedinteger` to a dtype is deprecated. The current result is `np.dtype(np.int_)` which is not strictly correct. Note that the result depends on the system. To ensure stable results use may want to use `np.int64` or `np.int32`.\n",
      "  y=y_valid.numpy().astype(np.integer),\n"
     ]
    },
    {
     "data": {
      "image/png": "[encoded data removed]",
      "text/plain": [
       "<Figure size 1152x288 with 3 Axes>"
      ]
     },
     "metadata": {
      "needs_background": "light"
     },
     "output_type": "display_data"
    }
   ],
   "source": [
    "from mlxtend.plotting import plot_decision_regions\n",
    "\n",
    "fig = plt.figure(figsize=(16, 4))\n",
    "ax = fig.add_subplot(1, 3, 1)\n",
    "plt.plot(history[0], lw=4)\n",
    "plt.plot(history[1], lw=4)\n",
    "plt.legend(['Train loss', 'Validation loss'], fontsize=15)\n",
    "ax.set_xlabel('Epochs', size=15)\n",
    "ax = fig.add_subplot(1, 3, 2)\n",
    "plt.plot(history[2], lw=4)\n",
    "plt.plot(history[3], lw=4)\n",
    "plt.legend(['Train acc.', 'Validation acc.'], fontsize=15)\n",
    "ax.set_xlabel('Epochs', size=15)\n",
    "ax = fig.add_subplot(1, 3, 3)\n",
    "plot_decision_regions(X=x_valid.numpy(),\n",
    "                      y=y_valid.numpy().astype(np.integer),\n",
    "                      clf=model)\n",
    "ax.xaxis.set_label_coords(1, -0.025)\n",
    "ax.set_xlabel(r'$x_1$', size=15)\n",
    "ax.yaxis.set_label_coords(-0.025, 1)\n",
    "plt.show()"
   ]
  },
  {
   "cell_type": "markdown",
   "metadata": {},
   "source": [
    "# Writing custom layers in PyTorch"
   ]
  },
  {
   "cell_type": "code",
   "execution_count": 30,
   "metadata": {},
   "outputs": [],
   "source": [
    "class NoisyLinear(nn.Module):\n",
    "    def __init__(self, input_size, output_size,\n",
    "                 noise_stddev=0.1):\n",
    "        super().__init__()\n",
    "        w = torch.Tensor(input_size, output_size)\n",
    "        self.w = nn.Parameter(w)  # nn.Parameter is a Tensor\n",
    "                                  # that's a module parameter\n",
    "        nn.init.xavier_uniform_(self.w)\n",
    "        b = torch.Tensor(output_size).fill_(0)\n",
    "        self.b = nn.Parameter(b)\n",
    "        self.noise_stddev = noise_stddev\n",
    "        \n",
    "    def forward(self, x, training=False):\n",
    "        if training:\n",
    "            noise = torch.normal(0.0, self.noise_stddev, x.shape)\n",
    "            x_new = torch.add(x, noise)\n",
    "        else:\n",
    "            x_new = x\n",
    "        return torch.add(torch.mm(x_new, self.w), self.b)\n",
    "    \n",
    "    \n",
    "torch.manual_seed(1)\n",
    "noisy_layer = NoisyLinear(4, 2)\n",
    "x = torch.zeros((1, 4))\n",
    "     "
   ]
  },
  {
   "cell_type": "code",
   "execution_count": 31,
   "metadata": {},
   "outputs": [
    {
     "name": "stdout",
     "output_type": "stream",
     "text": [
      "tensor([[ 0.1154, -0.0598]], grad_fn=<AddBackward0>)\n"
     ]
    }
   ],
   "source": [
    "print(noisy_layer(x, training=True))"
   ]
  },
  {
   "cell_type": "code",
   "execution_count": 32,
   "metadata": {},
   "outputs": [
    {
     "name": "stdout",
     "output_type": "stream",
     "text": [
      "tensor([[ 0.0432, -0.0375]], grad_fn=<AddBackward0>)\n"
     ]
    }
   ],
   "source": [
    "print(noisy_layer(x, training=True))"
   ]
  },
  {
   "cell_type": "code",
   "execution_count": 33,
   "metadata": {},
   "outputs": [
    {
     "name": "stdout",
     "output_type": "stream",
     "text": [
      "tensor([[0., 0.]], grad_fn=<AddBackward0>)\n"
     ]
    }
   ],
   "source": [
    "print(noisy_layer(x, training=False))"
   ]
  },
  {
   "cell_type": "code",
   "execution_count": null,
   "metadata": {},
   "outputs": [],
   "source": []
  },
  {
   "cell_type": "code",
   "execution_count": 34,
   "metadata": {},
   "outputs": [
    {
     "data": {
      "text/plain": [
       "MyNoisyModule(\n",
       "  (l1): NoisyLinear()\n",
       "  (a1): ReLU()\n",
       "  (l2): Linear(in_features=4, out_features=4, bias=True)\n",
       "  (a2): ReLU()\n",
       "  (l3): Linear(in_features=4, out_features=1, bias=True)\n",
       "  (a3): Sigmoid()\n",
       ")"
      ]
     },
     "execution_count": 34,
     "metadata": {},
     "output_type": "execute_result"
    }
   ],
   "source": [
    "class MyNoisyModule(nn.Module):\n",
    "    def __init__(self):\n",
    "        super().__init__()\n",
    "        self.l1 = NoisyLinear(2, 4, 0.07)\n",
    "        self.a1 = nn.ReLU()\n",
    "        self.l2 = nn.Linear(4, 4)\n",
    "        self.a2 = nn.ReLU()\n",
    "        self.l3 = nn.Linear(4, 1)\n",
    "        self.a3 = nn.Sigmoid()\n",
    "        \n",
    "    def forward(self, x, training=False):\n",
    "        x = self.l1(x, training)\n",
    "        x = self.a1(x)\n",
    "        x = self.l2(x)\n",
    "        x = self.a2(x)\n",
    "        x = self.l3(x)\n",
    "        x = self.a3(x)\n",
    "        return x\n",
    "    \n",
    "    def predict(self, x):\n",
    "        x = torch.tensor(x, dtype=torch.float32)\n",
    "        pred = self.forward(x)[:, 0]\n",
    "        return (pred >= 0.5).float()\n",
    "    \n",
    "\n",
    "torch.manual_seed(1)\n",
    "model = MyNoisyModule()\n",
    "\n",
    "model"
   ]
  },
  {
   "cell_type": "code",
   "execution_count": 35,
   "metadata": {},
   "outputs": [
    {
     "name": "stderr",
     "output_type": "stream",
     "text": [
      "<ipython-input-35-4831c4bf1158>:44: DeprecationWarning: Converting `np.integer` or `np.signedinteger` to a dtype is deprecated. The current result is `np.dtype(np.int_)` which is not strictly correct. Note that the result depends on the system. To ensure stable results use may want to use `np.int64` or `np.int32`.\n",
      "  y=y_valid.numpy().astype(np.integer),\n"
     ]
    },
    {
     "data": {
      "image/png": "[encoded data removed]",
      "text/plain": [
       "<Figure size 1152x288 with 3 Axes>"
      ]
     },
     "metadata": {
      "needs_background": "light"
     },
     "output_type": "display_data"
    }
   ],
   "source": [
    "loss_fn = nn.BCELoss()\n",
    "optimizer = torch.optim.SGD(model.parameters(), lr=0.015)\n",
    "torch.manual_seed(1)\n",
    "loss_hist_train = [0] * num_epochs\n",
    "accuracy_hist_train = [0] * num_epochs\n",
    "loss_hist_valid = [0] * num_epochs\n",
    "accuracy_hist_valid = [0] * num_epochs\n",
    "\n",
    "for epoch in range(num_epochs):\n",
    "    for x_batch, y_batch in train_dl:\n",
    "        pred = model(x_batch, True)[:, 0]\n",
    "        loss = loss_fn(pred, y_batch)\n",
    "        loss.backward()\n",
    "        optimizer.step()\n",
    "        optimizer.zero_grad()\n",
    "        loss_hist_train[epoch] += loss.item()\n",
    "        is_correct = (\n",
    "            (pred >= 0.5).float() == y_batch\n",
    "        ).float()\n",
    "        accuracy_hist_train[epoch] += is_correct.mean()\n",
    "    loss_hist_train[epoch] /= 100/batch_size\n",
    "    accuracy_hist_train[epoch] /= 100/batch_size\n",
    "    pred = model(x_valid)[:, 0]\n",
    "    loss = loss_fn(pred, y_valid)\n",
    "    loss_hist_valid[epoch] = loss.item()\n",
    "    is_correct = ((pred >= 0.5).float() == y_valid).float()\n",
    "    accuracy_hist_valid[epoch] += is_correct.mean()\n",
    "    \n",
    "fig = plt.figure(figsize=(16, 4))\n",
    "ax = fig.add_subplot(1, 3, 1)\n",
    "plt.plot(loss_hist_train, lw=4)\n",
    "plt.plot(loss_hist_valid, lw=4)\n",
    "\n",
    "plt.legend(['Train loss', 'Validation loss'], fontsize=15)\n",
    "ax.set_xlabel('Epochs', size=15)\n",
    "ax = fig.add_subplot(1, 3, 2)\n",
    "plt.plot(accuracy_hist_train, lw=4)\n",
    "plt.plot(accuracy_hist_valid, lw=4)\n",
    "plt.legend(['Train acc.', 'Validation acc.'], fontsize=15)\n",
    "ax.set_xlabel('Epochs', size=15)\n",
    "ax = fig.add_subplot(1, 3, 3)\n",
    "plot_decision_regions(\n",
    "    X=x_valid.numpy(),\n",
    "    y=y_valid.numpy().astype(np.integer),\n",
    "    clf=model\n",
    ")\n",
    "\n",
    "ax.set_xlabel(r'$x_1$', size=15)\n",
    "ax.xaxis.set_label_coords(1, -0.025)\n",
    "ax.set_ylabel(r'$x_2$', size=15)\n",
    "ax.yaxis.set_label_coords(-0.025, 1)\n",
    "plt.show()"
   ]
  },
  {
   "cell_type": "markdown",
   "metadata": {},
   "source": [
    "# Project one – predicting the fuel efficiency of a car"
   ]
  },
  {
   "cell_type": "code",
   "execution_count": 36,
   "metadata": {},
   "outputs": [
    {
     "data": {
      "text/html": [
       "<div>\n",
       "<style scoped>\n",
       "    .dataframe tbody tr th:only-of-type {\n",
       "        vertical-align: middle;\n",
       "    }\n",
       "\n",
       "    .dataframe tbody tr th {\n",
       "        vertical-align: top;\n",
       "    }\n",
       "\n",
       "    .dataframe thead th {\n",
       "        text-align: right;\n",
       "    }\n",
       "</style>\n",
       "<table border=\"1\" class=\"dataframe\">\n",
       "  <thead>\n",
       "    <tr style=\"text-align: right;\">\n",
       "      <th></th>\n",
       "      <th>MPG</th>\n",
       "      <th>Cylinders</th>\n",
       "      <th>Displacement</th>\n",
       "      <th>Horsepower</th>\n",
       "      <th>Weight</th>\n",
       "      <th>Acceleration</th>\n",
       "      <th>Model Year</th>\n",
       "      <th>Origin</th>\n",
       "    </tr>\n",
       "  </thead>\n",
       "  <tbody>\n",
       "    <tr>\n",
       "      <th>334</th>\n",
       "      <td>27.2</td>\n",
       "      <td>4</td>\n",
       "      <td>135.0</td>\n",
       "      <td>84.0</td>\n",
       "      <td>2490.0</td>\n",
       "      <td>15.7</td>\n",
       "      <td>81</td>\n",
       "      <td>1</td>\n",
       "    </tr>\n",
       "    <tr>\n",
       "      <th>258</th>\n",
       "      <td>18.6</td>\n",
       "      <td>6</td>\n",
       "      <td>225.0</td>\n",
       "      <td>110.0</td>\n",
       "      <td>3620.0</td>\n",
       "      <td>18.7</td>\n",
       "      <td>78</td>\n",
       "      <td>1</td>\n",
       "    </tr>\n",
       "    <tr>\n",
       "      <th>139</th>\n",
       "      <td>29.0</td>\n",
       "      <td>4</td>\n",
       "      <td>98.0</td>\n",
       "      <td>83.0</td>\n",
       "      <td>2219.0</td>\n",
       "      <td>16.5</td>\n",
       "      <td>74</td>\n",
       "      <td>2</td>\n",
       "    </tr>\n",
       "    <tr>\n",
       "      <th>310</th>\n",
       "      <td>37.2</td>\n",
       "      <td>4</td>\n",
       "      <td>86.0</td>\n",
       "      <td>65.0</td>\n",
       "      <td>2019.0</td>\n",
       "      <td>16.4</td>\n",
       "      <td>80</td>\n",
       "      <td>3</td>\n",
       "    </tr>\n",
       "    <tr>\n",
       "      <th>349</th>\n",
       "      <td>33.0</td>\n",
       "      <td>4</td>\n",
       "      <td>105.0</td>\n",
       "      <td>74.0</td>\n",
       "      <td>2190.0</td>\n",
       "      <td>14.2</td>\n",
       "      <td>81</td>\n",
       "      <td>2</td>\n",
       "    </tr>\n",
       "    <tr>\n",
       "      <th>95</th>\n",
       "      <td>13.0</td>\n",
       "      <td>8</td>\n",
       "      <td>360.0</td>\n",
       "      <td>175.0</td>\n",
       "      <td>3821.0</td>\n",
       "      <td>11.0</td>\n",
       "      <td>73</td>\n",
       "      <td>1</td>\n",
       "    </tr>\n",
       "    <tr>\n",
       "      <th>358</th>\n",
       "      <td>22.4</td>\n",
       "      <td>6</td>\n",
       "      <td>231.0</td>\n",
       "      <td>110.0</td>\n",
       "      <td>3415.0</td>\n",
       "      <td>15.8</td>\n",
       "      <td>81</td>\n",
       "      <td>1</td>\n",
       "    </tr>\n",
       "    <tr>\n",
       "      <th>327</th>\n",
       "      <td>44.6</td>\n",
       "      <td>4</td>\n",
       "      <td>91.0</td>\n",
       "      <td>67.0</td>\n",
       "      <td>1850.0</td>\n",
       "      <td>13.8</td>\n",
       "      <td>80</td>\n",
       "      <td>3</td>\n",
       "    </tr>\n",
       "    <tr>\n",
       "      <th>294</th>\n",
       "      <td>27.4</td>\n",
       "      <td>4</td>\n",
       "      <td>121.0</td>\n",
       "      <td>80.0</td>\n",
       "      <td>2670.0</td>\n",
       "      <td>15.0</td>\n",
       "      <td>79</td>\n",
       "      <td>1</td>\n",
       "    </tr>\n",
       "    <tr>\n",
       "      <th>127</th>\n",
       "      <td>31.0</td>\n",
       "      <td>4</td>\n",
       "      <td>79.0</td>\n",
       "      <td>67.0</td>\n",
       "      <td>1950.0</td>\n",
       "      <td>19.0</td>\n",
       "      <td>74</td>\n",
       "      <td>3</td>\n",
       "    </tr>\n",
       "    <tr>\n",
       "      <th>191</th>\n",
       "      <td>24.0</td>\n",
       "      <td>6</td>\n",
       "      <td>200.0</td>\n",
       "      <td>81.0</td>\n",
       "      <td>3012.0</td>\n",
       "      <td>17.6</td>\n",
       "      <td>76</td>\n",
       "      <td>1</td>\n",
       "    </tr>\n",
       "    <tr>\n",
       "      <th>82</th>\n",
       "      <td>28.0</td>\n",
       "      <td>4</td>\n",
       "      <td>98.0</td>\n",
       "      <td>80.0</td>\n",
       "      <td>2164.0</td>\n",
       "      <td>15.0</td>\n",
       "      <td>72</td>\n",
       "      <td>1</td>\n",
       "    </tr>\n",
       "    <tr>\n",
       "      <th>361</th>\n",
       "      <td>17.6</td>\n",
       "      <td>6</td>\n",
       "      <td>225.0</td>\n",
       "      <td>85.0</td>\n",
       "      <td>3465.0</td>\n",
       "      <td>16.6</td>\n",
       "      <td>81</td>\n",
       "      <td>1</td>\n",
       "    </tr>\n",
       "    <tr>\n",
       "      <th>222</th>\n",
       "      <td>15.0</td>\n",
       "      <td>8</td>\n",
       "      <td>302.0</td>\n",
       "      <td>130.0</td>\n",
       "      <td>4295.0</td>\n",
       "      <td>14.9</td>\n",
       "      <td>77</td>\n",
       "      <td>1</td>\n",
       "    </tr>\n",
       "    <tr>\n",
       "      <th>27</th>\n",
       "      <td>11.0</td>\n",
       "      <td>8</td>\n",
       "      <td>318.0</td>\n",
       "      <td>210.0</td>\n",
       "      <td>4382.0</td>\n",
       "      <td>13.5</td>\n",
       "      <td>70</td>\n",
       "      <td>1</td>\n",
       "    </tr>\n",
       "    <tr>\n",
       "      <th>89</th>\n",
       "      <td>12.0</td>\n",
       "      <td>8</td>\n",
       "      <td>429.0</td>\n",
       "      <td>198.0</td>\n",
       "      <td>4952.0</td>\n",
       "      <td>11.5</td>\n",
       "      <td>73</td>\n",
       "      <td>1</td>\n",
       "    </tr>\n",
       "    <tr>\n",
       "      <th>305</th>\n",
       "      <td>26.8</td>\n",
       "      <td>6</td>\n",
       "      <td>173.0</td>\n",
       "      <td>115.0</td>\n",
       "      <td>2700.0</td>\n",
       "      <td>12.9</td>\n",
       "      <td>79</td>\n",
       "      <td>1</td>\n",
       "    </tr>\n",
       "    <tr>\n",
       "      <th>73</th>\n",
       "      <td>13.0</td>\n",
       "      <td>8</td>\n",
       "      <td>302.0</td>\n",
       "      <td>140.0</td>\n",
       "      <td>4294.0</td>\n",
       "      <td>16.0</td>\n",
       "      <td>72</td>\n",
       "      <td>1</td>\n",
       "    </tr>\n",
       "    <tr>\n",
       "      <th>274</th>\n",
       "      <td>21.6</td>\n",
       "      <td>4</td>\n",
       "      <td>121.0</td>\n",
       "      <td>115.0</td>\n",
       "      <td>2795.0</td>\n",
       "      <td>15.7</td>\n",
       "      <td>78</td>\n",
       "      <td>2</td>\n",
       "    </tr>\n",
       "    <tr>\n",
       "      <th>257</th>\n",
       "      <td>20.8</td>\n",
       "      <td>6</td>\n",
       "      <td>200.0</td>\n",
       "      <td>85.0</td>\n",
       "      <td>3070.0</td>\n",
       "      <td>16.7</td>\n",
       "      <td>78</td>\n",
       "      <td>1</td>\n",
       "    </tr>\n",
       "    <tr>\n",
       "      <th>287</th>\n",
       "      <td>16.9</td>\n",
       "      <td>8</td>\n",
       "      <td>350.0</td>\n",
       "      <td>155.0</td>\n",
       "      <td>4360.0</td>\n",
       "      <td>14.9</td>\n",
       "      <td>79</td>\n",
       "      <td>1</td>\n",
       "    </tr>\n",
       "  </tbody>\n",
       "</table>\n",
       "</div>"
      ],
      "text/plain": [
       "      MPG  Cylinders  Displacement  Horsepower  Weight  Acceleration  Model Year  Origin\n",
       "334  27.2          4         135.0        84.0  2490.0          15.7          81       1\n",
       "258  18.6          6         225.0       110.0  3620.0          18.7          78       1\n",
       "139  29.0          4          98.0        83.0  2219.0          16.5          74       2\n",
       "310  37.2          4          86.0        65.0  2019.0          16.4          80       3\n",
       "349  33.0          4         105.0        74.0  2190.0          14.2          81       2\n",
       "95   13.0          8         360.0       175.0  3821.0          11.0          73       1\n",
       "358  22.4          6         231.0       110.0  3415.0          15.8          81       1\n",
       "327  44.6          4          91.0        67.0  1850.0          13.8          80       3\n",
       "294  27.4          4         121.0        80.0  2670.0          15.0          79       1\n",
       "127  31.0          4          79.0        67.0  1950.0          19.0          74       3\n",
       "191  24.0          6         200.0        81.0  3012.0          17.6          76       1\n",
       "82   28.0          4          98.0        80.0  2164.0          15.0          72       1\n",
       "361  17.6          6         225.0        85.0  3465.0          16.6          81       1\n",
       "222  15.0          8         302.0       130.0  4295.0          14.9          77       1\n",
       "27   11.0          8         318.0       210.0  4382.0          13.5          70       1\n",
       "89   12.0          8         429.0       198.0  4952.0          11.5          73       1\n",
       "305  26.8          6         173.0       115.0  2700.0          12.9          79       1\n",
       "73   13.0          8         302.0       140.0  4294.0          16.0          72       1\n",
       "274  21.6          4         121.0       115.0  2795.0          15.7          78       2\n",
       "257  20.8          6         200.0        85.0  3070.0          16.7          78       1\n",
       "287  16.9          8         350.0       155.0  4360.0          14.9          79       1"
      ]
     },
     "execution_count": 36,
     "metadata": {},
     "output_type": "execute_result"
    }
   ],
   "source": [
    "import pandas as pd\n",
    "\n",
    "pd.options.display.max_rows = 999\n",
    "pd.set_option('display.max_columns', 50)\n",
    "pd.set_option('max_colwidth', 1000)\n",
    "pd.set_option('display.width', 1000)\n",
    "\n",
    "\n",
    "url = 'http://archive.ics.uci.edu/ml/' \\\n",
    "      'machine-learning-databases/auto-mpg/auto-mpg.data'\n",
    "\n",
    "column_names = ['MPG', 'Cylinders', 'Displacement', 'Horsepower',\n",
    "                'Weight', 'Acceleration', 'Model Year', 'Origin']\n",
    "\n",
    "df = pd.read_csv(url, names=column_names,\n",
    "                 na_values='?', comment='\\t',\n",
    "                 sep=' ', skipinitialspace=True)\n",
    "\n",
    "## drop the NA rows\n",
    "df = df.dropna()\n",
    "df = df.reset_index(drop=True)\n",
    "\n",
    "## train/test splits:\n",
    "import sklearn\n",
    "import sklearn.model_selection\n",
    "\n",
    "df_train, df_test = sklearn.model_selection.train_test_split(\n",
    "    df, train_size=0.8, random_state=1\n",
    ")\n",
    "\n",
    "train_stats = df_train.describe().transpose()\n",
    "\n",
    "numeric_column_names = [\n",
    "    'Cylinders', 'Displacement',\n",
    "    'Horsepower', 'Weight',\n",
    "    'Acceleration'\n",
    "]\n",
    "\n",
    "df_train.head(21)"
   ]
  },
  {
   "cell_type": "code",
   "execution_count": 37,
   "metadata": {},
   "outputs": [
    {
     "data": {
      "text/html": [
       "<div>\n",
       "<style scoped>\n",
       "    .dataframe tbody tr th:only-of-type {\n",
       "        vertical-align: middle;\n",
       "    }\n",
       "\n",
       "    .dataframe tbody tr th {\n",
       "        vertical-align: top;\n",
       "    }\n",
       "\n",
       "    .dataframe thead th {\n",
       "        text-align: right;\n",
       "    }\n",
       "</style>\n",
       "<table border=\"1\" class=\"dataframe\">\n",
       "  <thead>\n",
       "    <tr style=\"text-align: right;\">\n",
       "      <th></th>\n",
       "      <th>count</th>\n",
       "      <th>mean</th>\n",
       "      <th>std</th>\n",
       "      <th>min</th>\n",
       "      <th>25%</th>\n",
       "      <th>50%</th>\n",
       "      <th>75%</th>\n",
       "      <th>max</th>\n",
       "    </tr>\n",
       "  </thead>\n",
       "  <tbody>\n",
       "    <tr>\n",
       "      <th>MPG</th>\n",
       "      <td>313.0</td>\n",
       "      <td>23.404153</td>\n",
       "      <td>7.666909</td>\n",
       "      <td>9.0</td>\n",
       "      <td>17.5</td>\n",
       "      <td>23.0</td>\n",
       "      <td>29.0</td>\n",
       "      <td>46.6</td>\n",
       "    </tr>\n",
       "    <tr>\n",
       "      <th>Cylinders</th>\n",
       "      <td>313.0</td>\n",
       "      <td>5.402556</td>\n",
       "      <td>1.701506</td>\n",
       "      <td>3.0</td>\n",
       "      <td>4.0</td>\n",
       "      <td>4.0</td>\n",
       "      <td>8.0</td>\n",
       "      <td>8.0</td>\n",
       "    </tr>\n",
       "    <tr>\n",
       "      <th>Displacement</th>\n",
       "      <td>313.0</td>\n",
       "      <td>189.512780</td>\n",
       "      <td>102.675646</td>\n",
       "      <td>68.0</td>\n",
       "      <td>104.0</td>\n",
       "      <td>140.0</td>\n",
       "      <td>260.0</td>\n",
       "      <td>455.0</td>\n",
       "    </tr>\n",
       "    <tr>\n",
       "      <th>Horsepower</th>\n",
       "      <td>313.0</td>\n",
       "      <td>102.929712</td>\n",
       "      <td>37.919046</td>\n",
       "      <td>46.0</td>\n",
       "      <td>75.0</td>\n",
       "      <td>92.0</td>\n",
       "      <td>120.0</td>\n",
       "      <td>230.0</td>\n",
       "    </tr>\n",
       "    <tr>\n",
       "      <th>Weight</th>\n",
       "      <td>313.0</td>\n",
       "      <td>2961.198083</td>\n",
       "      <td>848.602146</td>\n",
       "      <td>1613.0</td>\n",
       "      <td>2219.0</td>\n",
       "      <td>2755.0</td>\n",
       "      <td>3574.0</td>\n",
       "      <td>5140.0</td>\n",
       "    </tr>\n",
       "    <tr>\n",
       "      <th>Acceleration</th>\n",
       "      <td>313.0</td>\n",
       "      <td>15.704473</td>\n",
       "      <td>2.725399</td>\n",
       "      <td>8.5</td>\n",
       "      <td>14.0</td>\n",
       "      <td>15.5</td>\n",
       "      <td>17.3</td>\n",
       "      <td>24.8</td>\n",
       "    </tr>\n",
       "    <tr>\n",
       "      <th>Model Year</th>\n",
       "      <td>313.0</td>\n",
       "      <td>75.929712</td>\n",
       "      <td>3.675305</td>\n",
       "      <td>70.0</td>\n",
       "      <td>73.0</td>\n",
       "      <td>76.0</td>\n",
       "      <td>79.0</td>\n",
       "      <td>82.0</td>\n",
       "    </tr>\n",
       "    <tr>\n",
       "      <th>Origin</th>\n",
       "      <td>313.0</td>\n",
       "      <td>1.591054</td>\n",
       "      <td>0.807923</td>\n",
       "      <td>1.0</td>\n",
       "      <td>1.0</td>\n",
       "      <td>1.0</td>\n",
       "      <td>2.0</td>\n",
       "      <td>3.0</td>\n",
       "    </tr>\n",
       "  </tbody>\n",
       "</table>\n",
       "</div>"
      ],
      "text/plain": [
       "              count         mean         std     min     25%     50%     75%     max\n",
       "MPG           313.0    23.404153    7.666909     9.0    17.5    23.0    29.0    46.6\n",
       "Cylinders     313.0     5.402556    1.701506     3.0     4.0     4.0     8.0     8.0\n",
       "Displacement  313.0   189.512780  102.675646    68.0   104.0   140.0   260.0   455.0\n",
       "Horsepower    313.0   102.929712   37.919046    46.0    75.0    92.0   120.0   230.0\n",
       "Weight        313.0  2961.198083  848.602146  1613.0  2219.0  2755.0  3574.0  5140.0\n",
       "Acceleration  313.0    15.704473    2.725399     8.5    14.0    15.5    17.3    24.8\n",
       "Model Year    313.0    75.929712    3.675305    70.0    73.0    76.0    79.0    82.0\n",
       "Origin        313.0     1.591054    0.807923     1.0     1.0     1.0     2.0     3.0"
      ]
     },
     "execution_count": 37,
     "metadata": {},
     "output_type": "execute_result"
    }
   ],
   "source": [
    "train_stats"
   ]
  },
  {
   "cell_type": "code",
   "execution_count": 38,
   "metadata": {},
   "outputs": [
    {
     "data": {
      "text/plain": [
       "MPG               20.8\n",
       "Cylinders          6.0\n",
       "Displacement     200.0\n",
       "Horsepower        85.0\n",
       "Weight          3070.0\n",
       "Acceleration      16.7\n",
       "Model Year        78.0\n",
       "Origin             1.0\n",
       "Name: 257, dtype: float64"
      ]
     },
     "execution_count": 38,
     "metadata": {},
     "output_type": "execute_result"
    }
   ],
   "source": [
    "## my_test = pd.Series([1.800e+01, 8.000e+00, 3.070e+02, 1.300e+02, 3.504e+03, 1.200e+01,\n",
    "#         7.000e+01, 1.000e+00])\n",
    "my_test = df_train.iloc[19, :]\n",
    "my_test"
   ]
  },
  {
   "cell_type": "code",
   "execution_count": 39,
   "metadata": {},
   "outputs": [
    {
     "data": {
      "text/plain": [
       "MPG             20.800000\n",
       "Cylinders        0.351127\n",
       "Displacement     0.102139\n",
       "Horsepower      -0.472842\n",
       "Weight           0.128213\n",
       "Acceleration     0.365278\n",
       "Model Year      78.000000\n",
       "Origin           1.000000\n",
       "Name: 257, dtype: float64"
      ]
     },
     "execution_count": 39,
     "metadata": {},
     "output_type": "execute_result"
    }
   ],
   "source": [
    "df_train_norm, df_test_norm = df_train.copy(), df_test.copy()\n",
    "my_test_norm = my_test.copy()\n",
    "\n",
    "for col_name in numeric_column_names:\n",
    "#     print(col_name)\n",
    "    mean = train_stats.loc[col_name, 'mean']\n",
    "#     print(mean)\n",
    "    std = train_stats.loc[col_name, 'std']\n",
    "    df_train_norm.loc[:, col_name] = (df_train_norm.loc[:, col_name] - mean) / std\n",
    "    df_test_norm.loc[:, col_name] = (df_test_norm.loc[:, col_name] - mean) / std\n",
    "    my_test_norm.loc[col_name] = (my_test_norm.loc[col_name] - mean) / std\n",
    "    \n",
    "my_test_norm"
   ]
  },
  {
   "cell_type": "code",
   "execution_count": 40,
   "metadata": {
    "tags": []
   },
   "outputs": [],
   "source": [
    "boundaries = torch.tensor([73, 76, 79])\n",
    "v = torch.tensor(df_train_norm['Model Year'].values)\n",
    "df_train_norm['Model Year Bucketed'] = torch.bucketize(v, boundaries, right=True)\n",
    "\n",
    "v = torch.tensor(df_test_norm['Model Year'].values)\n",
    "df_test_norm['Model Year Bucketed'] = torch.bucketize(v, boundaries, right=True)\n",
    "\n",
    "# numeric_column_names.append('Model Year Bucketed')\n",
    "# df_train_norm"
   ]
  },
  {
   "cell_type": "code",
   "execution_count": 41,
   "metadata": {},
   "outputs": [
    {
     "data": {
      "text/html": [
       "<div>\n",
       "<style scoped>\n",
       "    .dataframe tbody tr th:only-of-type {\n",
       "        vertical-align: middle;\n",
       "    }\n",
       "\n",
       "    .dataframe tbody tr th {\n",
       "        vertical-align: top;\n",
       "    }\n",
       "\n",
       "    .dataframe thead th {\n",
       "        text-align: right;\n",
       "    }\n",
       "</style>\n",
       "<table border=\"1\" class=\"dataframe\">\n",
       "  <thead>\n",
       "    <tr style=\"text-align: right;\">\n",
       "      <th></th>\n",
       "      <th>MPG</th>\n",
       "      <th>Cylinders</th>\n",
       "      <th>Displacement</th>\n",
       "      <th>Horsepower</th>\n",
       "      <th>Weight</th>\n",
       "      <th>Acceleration</th>\n",
       "      <th>Model Year</th>\n",
       "      <th>Origin</th>\n",
       "      <th>Model Year Bucketed</th>\n",
       "    </tr>\n",
       "  </thead>\n",
       "  <tbody>\n",
       "    <tr>\n",
       "      <th>334</th>\n",
       "      <td>27.2</td>\n",
       "      <td>-0.824303</td>\n",
       "      <td>-0.530922</td>\n",
       "      <td>-0.499214</td>\n",
       "      <td>-0.555264</td>\n",
       "      <td>-0.001641</td>\n",
       "      <td>81</td>\n",
       "      <td>1</td>\n",
       "      <td>3</td>\n",
       "    </tr>\n",
       "    <tr>\n",
       "      <th>258</th>\n",
       "      <td>18.6</td>\n",
       "      <td>0.351127</td>\n",
       "      <td>0.345625</td>\n",
       "      <td>0.186457</td>\n",
       "      <td>0.776338</td>\n",
       "      <td>1.099115</td>\n",
       "      <td>78</td>\n",
       "      <td>1</td>\n",
       "      <td>2</td>\n",
       "    </tr>\n",
       "    <tr>\n",
       "      <th>139</th>\n",
       "      <td>29.0</td>\n",
       "      <td>-0.824303</td>\n",
       "      <td>-0.891280</td>\n",
       "      <td>-0.525586</td>\n",
       "      <td>-0.874613</td>\n",
       "      <td>0.291894</td>\n",
       "      <td>74</td>\n",
       "      <td>2</td>\n",
       "      <td>1</td>\n",
       "    </tr>\n",
       "    <tr>\n",
       "      <th>310</th>\n",
       "      <td>37.2</td>\n",
       "      <td>-0.824303</td>\n",
       "      <td>-1.008153</td>\n",
       "      <td>-1.000281</td>\n",
       "      <td>-1.110294</td>\n",
       "      <td>0.255202</td>\n",
       "      <td>80</td>\n",
       "      <td>3</td>\n",
       "      <td>3</td>\n",
       "    </tr>\n",
       "    <tr>\n",
       "      <th>349</th>\n",
       "      <td>33.0</td>\n",
       "      <td>-0.824303</td>\n",
       "      <td>-0.823104</td>\n",
       "      <td>-0.762934</td>\n",
       "      <td>-0.908786</td>\n",
       "      <td>-0.552019</td>\n",
       "      <td>81</td>\n",
       "      <td>2</td>\n",
       "      <td>3</td>\n",
       "    </tr>\n",
       "    <tr>\n",
       "      <th>95</th>\n",
       "      <td>13.0</td>\n",
       "      <td>1.526556</td>\n",
       "      <td>1.660445</td>\n",
       "      <td>1.900636</td>\n",
       "      <td>1.013198</td>\n",
       "      <td>-1.726159</td>\n",
       "      <td>73</td>\n",
       "      <td>1</td>\n",
       "      <td>1</td>\n",
       "    </tr>\n",
       "    <tr>\n",
       "      <th>358</th>\n",
       "      <td>22.4</td>\n",
       "      <td>0.351127</td>\n",
       "      <td>0.404061</td>\n",
       "      <td>0.186457</td>\n",
       "      <td>0.534764</td>\n",
       "      <td>0.035051</td>\n",
       "      <td>81</td>\n",
       "      <td>1</td>\n",
       "      <td>3</td>\n",
       "    </tr>\n",
       "    <tr>\n",
       "      <th>327</th>\n",
       "      <td>44.6</td>\n",
       "      <td>-0.824303</td>\n",
       "      <td>-0.959456</td>\n",
       "      <td>-0.947537</td>\n",
       "      <td>-1.309445</td>\n",
       "      <td>-0.698787</td>\n",
       "      <td>80</td>\n",
       "      <td>3</td>\n",
       "      <td>3</td>\n",
       "    </tr>\n",
       "    <tr>\n",
       "      <th>294</th>\n",
       "      <td>27.4</td>\n",
       "      <td>-0.824303</td>\n",
       "      <td>-0.667274</td>\n",
       "      <td>-0.604702</td>\n",
       "      <td>-0.343150</td>\n",
       "      <td>-0.258484</td>\n",
       "      <td>79</td>\n",
       "      <td>1</td>\n",
       "      <td>3</td>\n",
       "    </tr>\n",
       "    <tr>\n",
       "      <th>127</th>\n",
       "      <td>31.0</td>\n",
       "      <td>-0.824303</td>\n",
       "      <td>-1.076329</td>\n",
       "      <td>-0.947537</td>\n",
       "      <td>-1.191604</td>\n",
       "      <td>1.209191</td>\n",
       "      <td>74</td>\n",
       "      <td>3</td>\n",
       "      <td>1</td>\n",
       "    </tr>\n",
       "    <tr>\n",
       "      <th>191</th>\n",
       "      <td>24.0</td>\n",
       "      <td>0.351127</td>\n",
       "      <td>0.102139</td>\n",
       "      <td>-0.578330</td>\n",
       "      <td>0.059865</td>\n",
       "      <td>0.695504</td>\n",
       "      <td>76</td>\n",
       "      <td>1</td>\n",
       "      <td>2</td>\n",
       "    </tr>\n",
       "    <tr>\n",
       "      <th>82</th>\n",
       "      <td>28.0</td>\n",
       "      <td>-0.824303</td>\n",
       "      <td>-0.891280</td>\n",
       "      <td>-0.604702</td>\n",
       "      <td>-0.939425</td>\n",
       "      <td>-0.258484</td>\n",
       "      <td>72</td>\n",
       "      <td>1</td>\n",
       "      <td>0</td>\n",
       "    </tr>\n",
       "    <tr>\n",
       "      <th>361</th>\n",
       "      <td>17.6</td>\n",
       "      <td>0.351127</td>\n",
       "      <td>0.345625</td>\n",
       "      <td>-0.472842</td>\n",
       "      <td>0.593684</td>\n",
       "      <td>0.328586</td>\n",
       "      <td>81</td>\n",
       "      <td>1</td>\n",
       "      <td>3</td>\n",
       "    </tr>\n",
       "    <tr>\n",
       "      <th>222</th>\n",
       "      <td>15.0</td>\n",
       "      <td>1.526556</td>\n",
       "      <td>1.095559</td>\n",
       "      <td>0.713897</td>\n",
       "      <td>1.571764</td>\n",
       "      <td>-0.295176</td>\n",
       "      <td>77</td>\n",
       "      <td>1</td>\n",
       "      <td>2</td>\n",
       "    </tr>\n",
       "    <tr>\n",
       "      <th>27</th>\n",
       "      <td>11.0</td>\n",
       "      <td>1.526556</td>\n",
       "      <td>1.251389</td>\n",
       "      <td>2.823655</td>\n",
       "      <td>1.674285</td>\n",
       "      <td>-0.808862</td>\n",
       "      <td>70</td>\n",
       "      <td>1</td>\n",
       "      <td>0</td>\n",
       "    </tr>\n",
       "    <tr>\n",
       "      <th>89</th>\n",
       "      <td>12.0</td>\n",
       "      <td>1.526556</td>\n",
       "      <td>2.332464</td>\n",
       "      <td>2.507191</td>\n",
       "      <td>2.345978</td>\n",
       "      <td>-1.542700</td>\n",
       "      <td>73</td>\n",
       "      <td>1</td>\n",
       "      <td>1</td>\n",
       "    </tr>\n",
       "    <tr>\n",
       "      <th>305</th>\n",
       "      <td>26.8</td>\n",
       "      <td>0.351127</td>\n",
       "      <td>-0.160825</td>\n",
       "      <td>0.318317</td>\n",
       "      <td>-0.307798</td>\n",
       "      <td>-1.029014</td>\n",
       "      <td>79</td>\n",
       "      <td>1</td>\n",
       "      <td>3</td>\n",
       "    </tr>\n",
       "    <tr>\n",
       "      <th>73</th>\n",
       "      <td>13.0</td>\n",
       "      <td>1.526556</td>\n",
       "      <td>1.095559</td>\n",
       "      <td>0.977617</td>\n",
       "      <td>1.570585</td>\n",
       "      <td>0.108434</td>\n",
       "      <td>72</td>\n",
       "      <td>1</td>\n",
       "      <td>0</td>\n",
       "    </tr>\n",
       "    <tr>\n",
       "      <th>274</th>\n",
       "      <td>21.6</td>\n",
       "      <td>-0.824303</td>\n",
       "      <td>-0.667274</td>\n",
       "      <td>0.318317</td>\n",
       "      <td>-0.195849</td>\n",
       "      <td>-0.001641</td>\n",
       "      <td>78</td>\n",
       "      <td>2</td>\n",
       "      <td>2</td>\n",
       "    </tr>\n",
       "    <tr>\n",
       "      <th>257</th>\n",
       "      <td>20.8</td>\n",
       "      <td>0.351127</td>\n",
       "      <td>0.102139</td>\n",
       "      <td>-0.472842</td>\n",
       "      <td>0.128213</td>\n",
       "      <td>0.365278</td>\n",
       "      <td>78</td>\n",
       "      <td>1</td>\n",
       "      <td>2</td>\n",
       "    </tr>\n",
       "    <tr>\n",
       "      <th>287</th>\n",
       "      <td>16.9</td>\n",
       "      <td>1.526556</td>\n",
       "      <td>1.563051</td>\n",
       "      <td>1.373196</td>\n",
       "      <td>1.648360</td>\n",
       "      <td>-0.295176</td>\n",
       "      <td>79</td>\n",
       "      <td>1</td>\n",
       "      <td>3</td>\n",
       "    </tr>\n",
       "  </tbody>\n",
       "</table>\n",
       "</div>"
      ],
      "text/plain": [
       "      MPG  Cylinders  Displacement  Horsepower    Weight  Acceleration  Model Year  Origin  Model Year Bucketed\n",
       "334  27.2  -0.824303     -0.530922   -0.499214 -0.555264     -0.001641          81       1                    3\n",
       "258  18.6   0.351127      0.345625    0.186457  0.776338      1.099115          78       1                    2\n",
       "139  29.0  -0.824303     -0.891280   -0.525586 -0.874613      0.291894          74       2                    1\n",
       "310  37.2  -0.824303     -1.008153   -1.000281 -1.110294      0.255202          80       3                    3\n",
       "349  33.0  -0.824303     -0.823104   -0.762934 -0.908786     -0.552019          81       2                    3\n",
       "95   13.0   1.526556      1.660445    1.900636  1.013198     -1.726159          73       1                    1\n",
       "358  22.4   0.351127      0.404061    0.186457  0.534764      0.035051          81       1                    3\n",
       "327  44.6  -0.824303     -0.959456   -0.947537 -1.309445     -0.698787          80       3                    3\n",
       "294  27.4  -0.824303     -0.667274   -0.604702 -0.343150     -0.258484          79       1                    3\n",
       "127  31.0  -0.824303     -1.076329   -0.947537 -1.191604      1.209191          74       3                    1\n",
       "191  24.0   0.351127      0.102139   -0.578330  0.059865      0.695504          76       1                    2\n",
       "82   28.0  -0.824303     -0.891280   -0.604702 -0.939425     -0.258484          72       1                    0\n",
       "361  17.6   0.351127      0.345625   -0.472842  0.593684      0.328586          81       1                    3\n",
       "222  15.0   1.526556      1.095559    0.713897  1.571764     -0.295176          77       1                    2\n",
       "27   11.0   1.526556      1.251389    2.823655  1.674285     -0.808862          70       1                    0\n",
       "89   12.0   1.526556      2.332464    2.507191  2.345978     -1.542700          73       1                    1\n",
       "305  26.8   0.351127     -0.160825    0.318317 -0.307798     -1.029014          79       1                    3\n",
       "73   13.0   1.526556      1.095559    0.977617  1.570585      0.108434          72       1                    0\n",
       "274  21.6  -0.824303     -0.667274    0.318317 -0.195849     -0.001641          78       2                    2\n",
       "257  20.8   0.351127      0.102139   -0.472842  0.128213      0.365278          78       1                    2\n",
       "287  16.9   1.526556      1.563051    1.373196  1.648360     -0.295176          79       1                    3"
      ]
     },
     "execution_count": 41,
     "metadata": {},
     "output_type": "execute_result"
    }
   ],
   "source": [
    "df_train_norm.head(21)"
   ]
  },
  {
   "cell_type": "code",
   "execution_count": 42,
   "metadata": {
    "tags": []
   },
   "outputs": [
    {
     "name": "stdout",
     "output_type": "stream",
     "text": [
      "tensor([[-8.2430e-01, -5.3092e-01, -4.9921e-01, -5.5526e-01, -1.6412e-03,\n",
      "          0.0000e+00,  1.0000e+00,  0.0000e+00],\n",
      "        [ 3.5113e-01,  3.4562e-01,  1.8646e-01,  7.7634e-01,  1.0991e+00,\n",
      "          0.0000e+00,  1.0000e+00,  0.0000e+00],\n",
      "        [-8.2430e-01, -8.9128e-01, -5.2559e-01, -8.7461e-01,  2.9189e-01,\n",
      "          0.0000e+00,  0.0000e+00,  1.0000e+00],\n",
      "        [-8.2430e-01, -1.0082e+00, -1.0003e+00, -1.1103e+00,  2.5520e-01,\n",
      "          1.0000e+00,  0.0000e+00,  0.0000e+00],\n",
      "        [-8.2430e-01, -8.2310e-01, -7.6293e-01, -9.0879e-01, -5.5202e-01,\n",
      "          0.0000e+00,  0.0000e+00,  1.0000e+00],\n",
      "        [ 1.5266e+00,  1.6604e+00,  1.9006e+00,  1.0132e+00, -1.7262e+00,\n",
      "          0.0000e+00,  1.0000e+00,  0.0000e+00],\n",
      "        [ 3.5113e-01,  4.0406e-01,  1.8646e-01,  5.3476e-01,  3.5051e-02,\n",
      "          0.0000e+00,  1.0000e+00,  0.0000e+00],\n",
      "        [-8.2430e-01, -9.5946e-01, -9.4754e-01, -1.3094e+00, -6.9879e-01,\n",
      "          1.0000e+00,  0.0000e+00,  0.0000e+00],\n",
      "        [-8.2430e-01, -6.6727e-01, -6.0470e-01, -3.4315e-01, -2.5848e-01,\n",
      "          0.0000e+00,  1.0000e+00,  0.0000e+00],\n",
      "        [-8.2430e-01, -1.0763e+00, -9.4754e-01, -1.1916e+00,  1.2092e+00,\n",
      "          1.0000e+00,  0.0000e+00,  0.0000e+00],\n",
      "        [ 3.5113e-01,  1.0214e-01, -5.7833e-01,  5.9865e-02,  6.9550e-01,\n",
      "          0.0000e+00,  1.0000e+00,  0.0000e+00],\n",
      "        [-8.2430e-01, -8.9128e-01, -6.0470e-01, -9.3942e-01, -2.5848e-01,\n",
      "          0.0000e+00,  1.0000e+00,  0.0000e+00],\n",
      "        [ 3.5113e-01,  3.4562e-01, -4.7284e-01,  5.9368e-01,  3.2859e-01,\n",
      "          0.0000e+00,  1.0000e+00,  0.0000e+00],\n",
      "        [ 1.5266e+00,  1.0956e+00,  7.1390e-01,  1.5718e+00, -2.9518e-01,\n",
      "          0.0000e+00,  1.0000e+00,  0.0000e+00],\n",
      "        [ 1.5266e+00,  1.2514e+00,  2.8237e+00,  1.6743e+00, -8.0886e-01,\n",
      "          0.0000e+00,  1.0000e+00,  0.0000e+00],\n",
      "        [ 1.5266e+00,  2.3325e+00,  2.5072e+00,  2.3460e+00, -1.5427e+00,\n",
      "          0.0000e+00,  1.0000e+00,  0.0000e+00],\n",
      "        [ 3.5113e-01, -1.6082e-01,  3.1832e-01, -3.0780e-01, -1.0290e+00,\n",
      "          0.0000e+00,  1.0000e+00,  0.0000e+00],\n",
      "        [ 1.5266e+00,  1.0956e+00,  9.7762e-01,  1.5706e+00,  1.0843e-01,\n",
      "          0.0000e+00,  1.0000e+00,  0.0000e+00],\n",
      "        [-8.2430e-01, -6.6727e-01,  3.1832e-01, -1.9585e-01, -1.6412e-03,\n",
      "          0.0000e+00,  0.0000e+00,  1.0000e+00],\n",
      "        [ 3.5113e-01,  1.0214e-01, -4.7284e-01,  1.2821e-01,  3.6528e-01,\n",
      "          0.0000e+00,  1.0000e+00,  0.0000e+00],\n",
      "        [ 1.5266e+00,  1.5631e+00,  1.3732e+00,  1.6484e+00, -2.9518e-01,\n",
      "          0.0000e+00,  1.0000e+00,  0.0000e+00]])\n"
     ]
    }
   ],
   "source": [
    "from torch.nn.functional import one_hot\n",
    "\n",
    "torch.set_printoptions(threshold=10_000)\n",
    "torch.set_printoptions(threshold=10_000)\n",
    "\n",
    "total_origin = len(set(df_train_norm['Origin']))\n",
    "origin_encoded = one_hot(torch.from_numpy(df_train_norm['Origin'].values) % total_origin)\n",
    "\n",
    "x_train_numeric = torch.tensor(df_train_norm[numeric_column_names].values)\n",
    "\n",
    "x_train = torch.cat([x_train_numeric, origin_encoded], 1).float()\n",
    "\n",
    "origin_encoded = one_hot(torch.from_numpy(df_test_norm['Origin'].values) % total_origin)\n",
    "x_test_numeric = torch.tensor(df_test_norm[numeric_column_names].values)\n",
    "\n",
    "x_test = torch.cat([x_test_numeric, origin_encoded], 1).float()\n",
    "\n",
    "print(x_train[:21])"
   ]
  },
  {
   "cell_type": "code",
   "execution_count": 43,
   "metadata": {},
   "outputs": [
    {
     "data": {
      "text/plain": [
       "tensor([23.0000, 29.0000, 32.4000, 19.0000, 38.0000, 33.5000, 26.0000, 14.0000,\n",
       "        28.0000, 32.4000, 21.5000, 41.5000, 17.0000, 33.5000, 29.0000, 17.0000,\n",
       "        36.0000, 43.4000, 14.0000, 20.0000, 26.0000, 16.0000, 15.0000, 15.5000,\n",
       "        15.0000, 18.5000, 31.5000, 20.0000, 21.0000, 30.0000, 19.2000, 24.5000,\n",
       "        13.0000, 22.0000, 20.5000, 17.5000, 18.0000, 19.2000, 38.0000, 27.0000,\n",
       "        15.5000, 14.0000, 20.0000, 19.0000, 18.0000, 15.0000, 11.0000, 31.0000,\n",
       "        22.0000, 13.0000, 17.0000, 20.5000, 28.0000, 32.0000, 29.8000, 18.0000,\n",
       "        28.8000, 21.0000, 33.5000, 36.1000, 38.0000, 28.0000, 37.0000, 19.9000,\n",
       "        22.5000, 19.0000, 19.0000, 14.0000, 31.9000, 12.0000, 37.0000, 19.2000,\n",
       "        13.0000, 34.3000, 26.0000, 35.7000, 14.0000, 13.0000, 13.0000])"
      ]
     },
     "execution_count": 43,
     "metadata": {},
     "output_type": "execute_result"
    }
   ],
   "source": [
    "y_train = torch.tensor(df_train_norm['MPG'].values).float()\n",
    "y_test = torch.tensor(df_test_norm['MPG'].values).float()\n",
    "y_test"
   ]
  },
  {
   "cell_type": "markdown",
   "metadata": {},
   "source": [
    " Training a DNN regression model "
   ]
  },
  {
   "cell_type": "code",
   "execution_count": 44,
   "metadata": {},
   "outputs": [],
   "source": [
    "train_ds = TensorDataset(x_train, y_train)\n",
    "batch_size = 8\n",
    "torch.manual_seed(1)\n",
    "train_dl = DataLoader(train_ds, batch_size, shuffle=True)\n",
    "# x_train"
   ]
  },
  {
   "cell_type": "code",
   "execution_count": 45,
   "metadata": {},
   "outputs": [
    {
     "data": {
      "text/plain": [
       "Sequential(\n",
       "  (0): Linear(in_features=8, out_features=8, bias=True)\n",
       "  (1): ReLU()\n",
       "  (2): Linear(in_features=8, out_features=4, bias=True)\n",
       "  (3): ReLU()\n",
       "  (4): Linear(in_features=4, out_features=1, bias=True)\n",
       ")"
      ]
     },
     "execution_count": 45,
     "metadata": {},
     "output_type": "execute_result"
    }
   ],
   "source": [
    "hidden_units = [8, 4]\n",
    "input_size = x_train.shape[1]\n",
    "all_layers = []\n",
    "\n",
    "for hidden_unit in hidden_units:\n",
    "    layer = nn.Linear(input_size, hidden_unit)\n",
    "    all_layers.append(layer)\n",
    "    all_layers.append(nn.ReLU())\n",
    "    input_size = hidden_unit\n",
    "all_layers.append(nn.Linear(hidden_units[-1], 1))\n",
    "model = nn.Sequential(*all_layers)\n",
    "model"
   ]
  },
  {
   "cell_type": "code",
   "execution_count": 46,
   "metadata": {},
   "outputs": [],
   "source": [
    "loss_fn = nn.MSELoss()\n",
    "optimizer = torch.optim.SGD(model.parameters(), lr=0.001)\n",
    "\n",
    "torch.manual_seed(1)\n",
    "num_epochs = 200\n",
    "log_epochs = 20"
   ]
  },
  {
   "cell_type": "code",
   "execution_count": 47,
   "metadata": {},
   "outputs": [
    {
     "name": "stdout",
     "output_type": "stream",
     "text": [
      "Epoch 0  Loss 393.8847\n",
      "Epoch 20  Loss 13.9156\n",
      "Epoch 40  Loss 13.6292\n",
      "Epoch 60  Loss 13.5050\n",
      "Epoch 80  Loss 13.3355\n",
      "Epoch 100  Loss 13.3180\n",
      "Epoch 120  Loss 12.9376\n",
      "Epoch 140  Loss 12.7167\n",
      "Epoch 160  Loss 13.0064\n",
      "Epoch 180  Loss 13.2371\n"
     ]
    }
   ],
   "source": [
    "y_batch = None\n",
    "for epoch in range(num_epochs):\n",
    "    loss_hist_train = 0\n",
    "    for x_batch, y_batch in train_dl:\n",
    "#         print(x_batch, y_batch)\n",
    "        pred = model(x_batch)[:, 0]\n",
    "        loss = loss_fn(pred, y_batch)\n",
    "        loss.backward()\n",
    "        optimizer.step()\n",
    "        optimizer.zero_grad()\n",
    "        loss_hist_train += loss.item()\n",
    "    if epoch % log_epochs == 0:\n",
    "        print(f'Epoch {epoch}  Loss '\n",
    "              f'{loss_hist_train/len(train_dl):.4f}')\n",
    "        "
   ]
  },
  {
   "cell_type": "code",
   "execution_count": 48,
   "metadata": {},
   "outputs": [
    {
     "name": "stdout",
     "output_type": "stream",
     "text": [
      "tensor([25.6820], grad_fn=<SelectBackward>)\n"
     ]
    }
   ],
   "source": [
    "print(pred)"
   ]
  },
  {
   "cell_type": "code",
   "execution_count": 49,
   "metadata": {},
   "outputs": [
    {
     "name": "stdout",
     "output_type": "stream",
     "text": [
      "Test MSE: 17.9080\n",
      "Test MAE: 2.8940\n"
     ]
    }
   ],
   "source": [
    "with torch.no_grad():\n",
    "    pred = model(x_test.float())[:, 0]\n",
    "    loss = loss_fn(pred, y_test)\n",
    "    print(f'Test MSE: {loss.item():.4f}')\n",
    "    print(f'Test MAE: {nn.L1Loss()(pred, y_test).item():.4f}')"
   ]
  },
  {
   "cell_type": "code",
   "execution_count": 50,
   "metadata": {},
   "outputs": [
    {
     "ename": "RuntimeError",
     "evalue": "mat1 and mat2 shapes cannot be multiplied (1x9 and 8x8)",
     "output_type": "error",
     "traceback": [
      "\u001b[1;31m---------------------------------------------------------------------------\u001b[0m",
      "\u001b[1;31mRuntimeError\u001b[0m                              Traceback (most recent call last)",
      "\u001b[1;32m<ipython-input-50-05a6fc63b754>\u001b[0m in \u001b[0;36m<module>\u001b[1;34m\u001b[0m\n\u001b[0;32m      4\u001b[0m \u001b[1;33m\u001b[0m\u001b[0m\n\u001b[0;32m      5\u001b[0m \u001b[1;31m#     pred = model(torch.tensor([1.526556, 1.563051, 1.373196, 1.648360, -0.295176, 3.000000, 0., 1., 0.]))\u001b[0m\u001b[1;33m\u001b[0m\u001b[1;33m\u001b[0m\u001b[1;33m\u001b[0m\u001b[0m\n\u001b[1;32m----> 6\u001b[1;33m     \u001b[0mpred\u001b[0m \u001b[1;33m=\u001b[0m \u001b[0mmodel\u001b[0m\u001b[1;33m(\u001b[0m\u001b[0mtorch\u001b[0m\u001b[1;33m.\u001b[0m\u001b[0mtensor\u001b[0m\u001b[1;33m(\u001b[0m\u001b[1;33m[\u001b[0m\u001b[1;36m0.351127\u001b[0m\u001b[1;33m,\u001b[0m \u001b[1;36m0.102139\u001b[0m\u001b[1;33m,\u001b[0m \u001b[1;33m-\u001b[0m\u001b[1;36m0.472842\u001b[0m\u001b[1;33m,\u001b[0m \u001b[1;36m0.128213\u001b[0m\u001b[1;33m,\u001b[0m \u001b[1;36m0.365278\u001b[0m\u001b[1;33m,\u001b[0m \u001b[1;36m2.000000\u001b[0m\u001b[1;33m,\u001b[0m \u001b[1;36m0.\u001b[0m\u001b[1;33m,\u001b[0m \u001b[1;36m1.\u001b[0m\u001b[1;33m,\u001b[0m \u001b[1;36m0.\u001b[0m\u001b[1;33m]\u001b[0m\u001b[1;33m)\u001b[0m\u001b[1;33m)\u001b[0m\u001b[1;33m\u001b[0m\u001b[1;33m\u001b[0m\u001b[0m\n\u001b[0m\u001b[0;32m      7\u001b[0m     \u001b[0mprint\u001b[0m\u001b[1;33m(\u001b[0m\u001b[0mpred\u001b[0m\u001b[1;33m)\u001b[0m\u001b[1;33m\u001b[0m\u001b[1;33m\u001b[0m\u001b[0m\n",
      "\u001b[1;32mc:\\users\\robert\\appdata\\local\\programs\\python\\python39\\lib\\site-packages\\torch\\nn\\modules\\module.py\u001b[0m in \u001b[0;36m_call_impl\u001b[1;34m(self, *input, **kwargs)\u001b[0m\n\u001b[0;32m   1049\u001b[0m         if not (self._backward_hooks or self._forward_hooks or self._forward_pre_hooks or _global_backward_hooks\n\u001b[0;32m   1050\u001b[0m                 or _global_forward_hooks or _global_forward_pre_hooks):\n\u001b[1;32m-> 1051\u001b[1;33m             \u001b[1;32mreturn\u001b[0m \u001b[0mforward_call\u001b[0m\u001b[1;33m(\u001b[0m\u001b[1;33m*\u001b[0m\u001b[0minput\u001b[0m\u001b[1;33m,\u001b[0m \u001b[1;33m**\u001b[0m\u001b[0mkwargs\u001b[0m\u001b[1;33m)\u001b[0m\u001b[1;33m\u001b[0m\u001b[1;33m\u001b[0m\u001b[0m\n\u001b[0m\u001b[0;32m   1052\u001b[0m         \u001b[1;31m# Do not call functions when jit is used\u001b[0m\u001b[1;33m\u001b[0m\u001b[1;33m\u001b[0m\u001b[1;33m\u001b[0m\u001b[0m\n\u001b[0;32m   1053\u001b[0m         \u001b[0mfull_backward_hooks\u001b[0m\u001b[1;33m,\u001b[0m \u001b[0mnon_full_backward_hooks\u001b[0m \u001b[1;33m=\u001b[0m \u001b[1;33m[\u001b[0m\u001b[1;33m]\u001b[0m\u001b[1;33m,\u001b[0m \u001b[1;33m[\u001b[0m\u001b[1;33m]\u001b[0m\u001b[1;33m\u001b[0m\u001b[1;33m\u001b[0m\u001b[0m\n",
      "\u001b[1;32mc:\\users\\robert\\appdata\\local\\programs\\python\\python39\\lib\\site-packages\\torch\\nn\\modules\\container.py\u001b[0m in \u001b[0;36mforward\u001b[1;34m(self, input)\u001b[0m\n\u001b[0;32m    137\u001b[0m     \u001b[1;32mdef\u001b[0m \u001b[0mforward\u001b[0m\u001b[1;33m(\u001b[0m\u001b[0mself\u001b[0m\u001b[1;33m,\u001b[0m \u001b[0minput\u001b[0m\u001b[1;33m)\u001b[0m\u001b[1;33m:\u001b[0m\u001b[1;33m\u001b[0m\u001b[1;33m\u001b[0m\u001b[0m\n\u001b[0;32m    138\u001b[0m         \u001b[1;32mfor\u001b[0m \u001b[0mmodule\u001b[0m \u001b[1;32min\u001b[0m \u001b[0mself\u001b[0m\u001b[1;33m:\u001b[0m\u001b[1;33m\u001b[0m\u001b[1;33m\u001b[0m\u001b[0m\n\u001b[1;32m--> 139\u001b[1;33m             \u001b[0minput\u001b[0m \u001b[1;33m=\u001b[0m \u001b[0mmodule\u001b[0m\u001b[1;33m(\u001b[0m\u001b[0minput\u001b[0m\u001b[1;33m)\u001b[0m\u001b[1;33m\u001b[0m\u001b[1;33m\u001b[0m\u001b[0m\n\u001b[0m\u001b[0;32m    140\u001b[0m         \u001b[1;32mreturn\u001b[0m \u001b[0minput\u001b[0m\u001b[1;33m\u001b[0m\u001b[1;33m\u001b[0m\u001b[0m\n\u001b[0;32m    141\u001b[0m \u001b[1;33m\u001b[0m\u001b[0m\n",
      "\u001b[1;32mc:\\users\\robert\\appdata\\local\\programs\\python\\python39\\lib\\site-packages\\torch\\nn\\modules\\module.py\u001b[0m in \u001b[0;36m_call_impl\u001b[1;34m(self, *input, **kwargs)\u001b[0m\n\u001b[0;32m   1049\u001b[0m         if not (self._backward_hooks or self._forward_hooks or self._forward_pre_hooks or _global_backward_hooks\n\u001b[0;32m   1050\u001b[0m                 or _global_forward_hooks or _global_forward_pre_hooks):\n\u001b[1;32m-> 1051\u001b[1;33m             \u001b[1;32mreturn\u001b[0m \u001b[0mforward_call\u001b[0m\u001b[1;33m(\u001b[0m\u001b[1;33m*\u001b[0m\u001b[0minput\u001b[0m\u001b[1;33m,\u001b[0m \u001b[1;33m**\u001b[0m\u001b[0mkwargs\u001b[0m\u001b[1;33m)\u001b[0m\u001b[1;33m\u001b[0m\u001b[1;33m\u001b[0m\u001b[0m\n\u001b[0m\u001b[0;32m   1052\u001b[0m         \u001b[1;31m# Do not call functions when jit is used\u001b[0m\u001b[1;33m\u001b[0m\u001b[1;33m\u001b[0m\u001b[1;33m\u001b[0m\u001b[0m\n\u001b[0;32m   1053\u001b[0m         \u001b[0mfull_backward_hooks\u001b[0m\u001b[1;33m,\u001b[0m \u001b[0mnon_full_backward_hooks\u001b[0m \u001b[1;33m=\u001b[0m \u001b[1;33m[\u001b[0m\u001b[1;33m]\u001b[0m\u001b[1;33m,\u001b[0m \u001b[1;33m[\u001b[0m\u001b[1;33m]\u001b[0m\u001b[1;33m\u001b[0m\u001b[1;33m\u001b[0m\u001b[0m\n",
      "\u001b[1;32mc:\\users\\robert\\appdata\\local\\programs\\python\\python39\\lib\\site-packages\\torch\\nn\\modules\\linear.py\u001b[0m in \u001b[0;36mforward\u001b[1;34m(self, input)\u001b[0m\n\u001b[0;32m     94\u001b[0m \u001b[1;33m\u001b[0m\u001b[0m\n\u001b[0;32m     95\u001b[0m     \u001b[1;32mdef\u001b[0m \u001b[0mforward\u001b[0m\u001b[1;33m(\u001b[0m\u001b[0mself\u001b[0m\u001b[1;33m,\u001b[0m \u001b[0minput\u001b[0m\u001b[1;33m:\u001b[0m \u001b[0mTensor\u001b[0m\u001b[1;33m)\u001b[0m \u001b[1;33m->\u001b[0m \u001b[0mTensor\u001b[0m\u001b[1;33m:\u001b[0m\u001b[1;33m\u001b[0m\u001b[1;33m\u001b[0m\u001b[0m\n\u001b[1;32m---> 96\u001b[1;33m         \u001b[1;32mreturn\u001b[0m \u001b[0mF\u001b[0m\u001b[1;33m.\u001b[0m\u001b[0mlinear\u001b[0m\u001b[1;33m(\u001b[0m\u001b[0minput\u001b[0m\u001b[1;33m,\u001b[0m \u001b[0mself\u001b[0m\u001b[1;33m.\u001b[0m\u001b[0mweight\u001b[0m\u001b[1;33m,\u001b[0m \u001b[0mself\u001b[0m\u001b[1;33m.\u001b[0m\u001b[0mbias\u001b[0m\u001b[1;33m)\u001b[0m\u001b[1;33m\u001b[0m\u001b[1;33m\u001b[0m\u001b[0m\n\u001b[0m\u001b[0;32m     97\u001b[0m \u001b[1;33m\u001b[0m\u001b[0m\n\u001b[0;32m     98\u001b[0m     \u001b[1;32mdef\u001b[0m \u001b[0mextra_repr\u001b[0m\u001b[1;33m(\u001b[0m\u001b[0mself\u001b[0m\u001b[1;33m)\u001b[0m \u001b[1;33m->\u001b[0m \u001b[0mstr\u001b[0m\u001b[1;33m:\u001b[0m\u001b[1;33m\u001b[0m\u001b[1;33m\u001b[0m\u001b[0m\n",
      "\u001b[1;32mc:\\users\\robert\\appdata\\local\\programs\\python\\python39\\lib\\site-packages\\torch\\nn\\functional.py\u001b[0m in \u001b[0;36mlinear\u001b[1;34m(input, weight, bias)\u001b[0m\n\u001b[0;32m   1845\u001b[0m     \u001b[1;32mif\u001b[0m \u001b[0mhas_torch_function_variadic\u001b[0m\u001b[1;33m(\u001b[0m\u001b[0minput\u001b[0m\u001b[1;33m,\u001b[0m \u001b[0mweight\u001b[0m\u001b[1;33m)\u001b[0m\u001b[1;33m:\u001b[0m\u001b[1;33m\u001b[0m\u001b[1;33m\u001b[0m\u001b[0m\n\u001b[0;32m   1846\u001b[0m         \u001b[1;32mreturn\u001b[0m \u001b[0mhandle_torch_function\u001b[0m\u001b[1;33m(\u001b[0m\u001b[0mlinear\u001b[0m\u001b[1;33m,\u001b[0m \u001b[1;33m(\u001b[0m\u001b[0minput\u001b[0m\u001b[1;33m,\u001b[0m \u001b[0mweight\u001b[0m\u001b[1;33m)\u001b[0m\u001b[1;33m,\u001b[0m \u001b[0minput\u001b[0m\u001b[1;33m,\u001b[0m \u001b[0mweight\u001b[0m\u001b[1;33m,\u001b[0m \u001b[0mbias\u001b[0m\u001b[1;33m=\u001b[0m\u001b[0mbias\u001b[0m\u001b[1;33m)\u001b[0m\u001b[1;33m\u001b[0m\u001b[1;33m\u001b[0m\u001b[0m\n\u001b[1;32m-> 1847\u001b[1;33m     \u001b[1;32mreturn\u001b[0m \u001b[0mtorch\u001b[0m\u001b[1;33m.\u001b[0m\u001b[0m_C\u001b[0m\u001b[1;33m.\u001b[0m\u001b[0m_nn\u001b[0m\u001b[1;33m.\u001b[0m\u001b[0mlinear\u001b[0m\u001b[1;33m(\u001b[0m\u001b[0minput\u001b[0m\u001b[1;33m,\u001b[0m \u001b[0mweight\u001b[0m\u001b[1;33m,\u001b[0m \u001b[0mbias\u001b[0m\u001b[1;33m)\u001b[0m\u001b[1;33m\u001b[0m\u001b[1;33m\u001b[0m\u001b[0m\n\u001b[0m\u001b[0;32m   1848\u001b[0m \u001b[1;33m\u001b[0m\u001b[0m\n\u001b[0;32m   1849\u001b[0m \u001b[1;33m\u001b[0m\u001b[0m\n",
      "\u001b[1;31mRuntimeError\u001b[0m: mat1 and mat2 shapes cannot be multiplied (1x9 and 8x8)"
     ]
    }
   ],
   "source": [
    "with torch.no_grad():\n",
    "#     pred = model(torch.tensor([8., 307., 130., 3504., 12., 70., 1., 0., 0.]))\n",
    "#     pred = model(torch.tensor([12.5, -0.824303, -0.667274, 0.265573, 2234.0, 70., 1., 0., 0.]))\n",
    "\n",
    "#     pred = model(torch.tensor([1.526556, 1.563051, 1.373196, 1.648360, -0.295176, 3.000000, 0., 1., 0.]))\n",
    "    pred = model(torch.tensor([0.351127, 0.102139, -0.472842, 0.128213, 0.365278, 2.000000, 0., 1., 0.]))\n",
    "    print(pred)"
   ]
  },
  {
   "cell_type": "code",
   "execution_count": null,
   "metadata": {},
   "outputs": [],
   "source": []
  },
  {
   "cell_type": "code",
   "execution_count": null,
   "metadata": {},
   "outputs": [],
   "source": []
  },
  {
   "cell_type": "code",
   "execution_count": null,
   "metadata": {},
   "outputs": [],
   "source": []
  },
  {
   "cell_type": "code",
   "execution_count": null,
   "metadata": {},
   "outputs": [],
   "source": []
  },
  {
   "cell_type": "code",
   "execution_count": null,
   "metadata": {},
   "outputs": [],
   "source": []
  },
  {
   "cell_type": "code",
   "execution_count": null,
   "metadata": {},
   "outputs": [],
   "source": []
  },
  {
   "cell_type": "code",
   "execution_count": null,
   "metadata": {},
   "outputs": [],
   "source": []
  },
  {
   "cell_type": "code",
   "execution_count": null,
   "metadata": {},
   "outputs": [],
   "source": []
  },
  {
   "cell_type": "code",
   "execution_count": null,
   "metadata": {},
   "outputs": [],
   "source": []
  },
  {
   "cell_type": "code",
   "execution_count": null,
   "metadata": {},
   "outputs": [],
   "source": []
  },
  {
   "cell_type": "markdown",
   "metadata": {},
   "source": [
    "# Project two – classifying MNIST handwritten digits"
   ]
  },
  {
   "cell_type": "code",
   "execution_count": null,
   "metadata": {},
   "outputs": [],
   "source": [
    "# import torchvision\n",
    "# from torchvision import transforms\n",
    "\n",
    "# image_path ='./'\n",
    "# transform = transforms.Compose([transforms.ToTensor()])\n",
    "\n",
    "# mnist_train_dataset = torchvision.datasets.MNIST(\n",
    "#     root=image_path, train=True,                              \n",
    "#     transform=transform, download=False)\n",
    "\n",
    "# mnist_test_dataset = torchvision.datasets.MNIST(\n",
    "#     root=image_path, train=False,\n",
    "#     transform=transform, download=False)\n",
    "\n",
    "# batch_size = 64\n",
    "# torch.manual_seed(1)\n",
    "# train_dl = DataLoader(mnist_train_dataset,\n",
    "#                       batch_size, shuffle=True)\n"
   ]
  },
  {
   "cell_type": "markdown",
   "metadata": {},
   "source": [
    "# Construct the NN model:"
   ]
  },
  {
   "cell_type": "code",
   "execution_count": null,
   "metadata": {},
   "outputs": [],
   "source": [
    "# hidden_units = [32, 16]\n",
    "# image_size = mnist_train_dataset[0][0].shape\n",
    "# input_size = image_size[0] * image_size[1] * image_size[2]\n",
    "# all_layers = [nn.Flatten()]\n",
    "\n",
    "# for hidden_unit in hidden_units:\n",
    "#     layer = nn.Linear(input_size, hidden_unit)\n",
    "#     all_layers.append(layer)\n",
    "#     all_layers.append(nn.ReLU())\n",
    "#     input_size = hidden_unit\n",
    "# all_layers.append(nn.Linear(hidden_units[-1], 10))\n",
    "# model = nn.Sequential(*all_layers)\n",
    "\n",
    "# model"
   ]
  },
  {
   "cell_type": "code",
   "execution_count": null,
   "metadata": {},
   "outputs": [],
   "source": [
    "# print(nn.Linear(hidden_units[-1], 10))"
   ]
  },
  {
   "cell_type": "code",
   "execution_count": null,
   "metadata": {},
   "outputs": [],
   "source": [
    "# loss_fn = nn.CrossEntropyLoss()\n",
    "# optimizer = torch.optim.Adam(model.parameters(), lr=0.001)\n",
    "# torch.manual_seed(1)\n",
    "# num_epochs = 20\n",
    "\n",
    "# for epoch in range(num_epochs):\n",
    "#     accuracy_hist_train = 0\n",
    "#     for x_batch, y_batch in train_dl:\n",
    "#         pred = model(x_batch)\n",
    "#         loss = loss_fn(pred, y_batch)\n",
    "#         loss.backward()\n",
    "#         optimizer.step()\n",
    "#         optimizer.zero_grad()\n",
    "#         is_correct = (\n",
    "#             torch.argmax(pred, dim=1) == y_batch).float()\n",
    "#         accuracy_hist_train += is_correct.sum()\n",
    "#     accuracy_hist_train /= len(train_dl.dataset)\n",
    "#     print(f'Epoch {epoch}  Accuracy '\n",
    "#           f'{accuracy_hist_train:.4f}')"
   ]
  },
  {
   "cell_type": "code",
   "execution_count": null,
   "metadata": {},
   "outputs": [],
   "source": [
    "# pred = model(mnist_test_dataset.data / 255.)\n",
    "# is_correct = (\n",
    "#     torch.argmax(pred, dim=1) == mnist_test_dataset.targets\n",
    "# ).float()\n",
    "\n",
    "# print(f'Test accuracy: {is_correct.mean():.4f}')"
   ]
  },
  {
   "cell_type": "markdown",
   "metadata": {},
   "source": [
    "# PyTorch-Lightning"
   ]
  },
  {
   "cell_type": "code",
   "execution_count": null,
   "metadata": {},
   "outputs": [],
   "source": [
    "# import pytorch_lightning as pl\n",
    "# import torch\n",
    "# import torch.nn as nn\n",
    "\n",
    "# from torchmetrics import Accuracy\n",
    "\n",
    "\n",
    "# class MultiLayerPerceptron(pl.LightningModule):\n",
    "#     def __init__(self, image_shape=(1, 28, 28), hidden_units=(32, 16)):\n",
    "#         super().__init__()\n",
    "        \n",
    "#         # new PL attributes:\n",
    "#         self.train_acc = Accuracy()\n",
    "#         self.valid_acc = Accuracy()\n",
    "#         self.test_acc = Accuracy()\n",
    "        \n",
    "#         #Model similar to previous ssection:\n",
    "#         input_size = image_shape[0] * image_shape[1] * image_shape[2]\n",
    "#         all_layers = [nn.Flatten()]\n",
    "#         for hidden_unit in hidden_units:\n",
    "#             layer = nn.Linear(input_size, hidden_unit)\n",
    "#             all_layers.append(layer)\n",
    "#             all_layers.append(nn.ReLU())\n",
    "#             input_size = hidden_unit\n",
    "            \n",
    "#         all_layers.append(nn.Linear(hidden_units[-1], 10))\n",
    "#         self.model = nn.Sequential(*all_layers)\n",
    "        \n",
    "#     def forward(self, x):\n",
    "#         x = self.model(x)\n",
    "#         return x\n",
    "    \n",
    "#     def training_step(self, batch, batch_idx):\n",
    "#         x, y = batch\n",
    "#         logits = self(x)\n",
    "#         loss = nn. functional.cross_entropy(self(x), y)\n",
    "#         preds = torch.argmax(logits, dim=1)\n",
    "#         self.train_acc.update(preds, y)\n",
    "#         self.log('train_loss', loss, prog_bar=True)\n",
    "#         return loss\n",
    "    \n",
    "#     def training_epoch_end(self, outs):\n",
    "#         self.log('train_acc', self.train_acc.compute())\n",
    "        \n",
    "#     def validation_step(self, batch, batch_idx):\n",
    "#         x, y = batch\n",
    "#         logits = self(x)\n",
    "#         loss = nn.functional.cross_entropy(self(x), y)\n",
    "#         preds = torch.argmax(logits, dim=1)\n",
    "#         self.valid_acc.update(preds, y)\n",
    "#         self.log('valid_loss', loss, prog_bar=True)\n",
    "#         self.log('valid_acc', self.valid_acc.compute(), prog_bar=True)\n",
    "        \n",
    "#         return loss\n",
    "    \n",
    "#     def test_step(self, batch, batch_idx):\n",
    "#         x, y = batch\n",
    "#         logits = self(x)\n",
    "#         loss = nn.functional.cross_entropy(self(x), y)\n",
    "#         preds = torch.argmax(logits, dim=1)\n",
    "#         self.test_acc.update(preds, y)\n",
    "#         self.log('test_loss', loss, prog_bar=True)\n",
    "#         self.log('test_acc', self.test_acc.compute(), prog_bar=True)\n",
    "        \n",
    "#         return loss\n",
    "    \n",
    "#     def configure_optimizers(self):\n",
    "#         optimizer = torch.optim.Adam(self.parameters(), lr=0.001)\n",
    "        \n",
    "#         return optimizer\n",
    "    \n",
    "    "
   ]
  },
  {
   "cell_type": "markdown",
   "metadata": {},
   "source": [
    "# Setting up the data loaders for Lightning"
   ]
  },
  {
   "cell_type": "code",
   "execution_count": null,
   "metadata": {},
   "outputs": [],
   "source": [
    "# from torch.utils.data import DataLoader\n",
    "# from torch.utils.data import random_split\n",
    "# from torchvision.datasets import MNIST\n",
    "# from torchvision import transforms\n",
    "\n",
    "\n",
    "# class MnistDataModule(pl.LightningDataModule):\n",
    "#     def __init__(self, data_path='./'):\n",
    "#         super().__init__()\n",
    "#         self.data_path = data_path\n",
    "#         self.transform = transforms.Compose([transforms.ToTensor()])\n",
    "        \n",
    "#     def prepare_data(self):\n",
    "#         MNIST(root=self.data_path, download=True)\n",
    "        \n",
    "#     def setup(self, stage=None):\n",
    "#         # stage is eighter 'fit', 'validate', 'test', or 'predict'\n",
    "#         # here note relevant\n",
    "#         mnist_all = MNIST(\n",
    "#             root=self.data_path, \n",
    "#             train=True,\n",
    "#             transform=self.transform,\n",
    "#             download=False\n",
    "#         )\n",
    "        \n",
    "#         self.train, self.val = random_split(\n",
    "#             mnist_all, [55000, 5000], generator=torch.Generator().manual_seed(1))\n",
    "#         self.test = MNIST(root=self.data_path,\n",
    "#                           train=False,\n",
    "#                           transform=self.transform,\n",
    "#                           download=False\n",
    "#                          )\n",
    "        \n",
    "#     def train_dataloader(self):\n",
    "#         return DataLoader(self.train, batch_size=64, num_workers=4)\n",
    "\n",
    "#     def val_dataloader(self):\n",
    "#         return DataLoader(self.val, batch_size=64, num_workers=4)\n",
    "\n",
    "#     def test_dataloader(self):\n",
    "#         return DataLoader(self.test, batch_size=64, num_workers=4)\n",
    "        \n",
    "        \n",
    "# torch.manual_seed(1)\n",
    "# mnist_dm = MnistDataModule()"
   ]
  },
  {
   "cell_type": "code",
   "execution_count": null,
   "metadata": {},
   "outputs": [],
   "source": [
    "# mnistclassifier = MultiLayerPerceptron()\n",
    "\n",
    "# if torch.cuda.is_available(): # if you have GPUs\n",
    "#     trainer = pl.Trainer(max_epochs=10, gpus=1)\n",
    "# else:\n",
    "#     trainer = pl.Trainer(max_epochs=10)\n",
    "    \n",
    "# trainer.fit(model=mnistclassifier, datamodule=mnist_dm)\n"
   ]
  },
  {
   "cell_type": "code",
   "execution_count": null,
   "metadata": {},
   "outputs": [],
   "source": [
    "# %load_ext tensorboard\n",
    "# %tensorboard --logdir lightning_logs/"
   ]
  },
  {
   "cell_type": "code",
   "execution_count": null,
   "metadata": {},
   "outputs": [],
   "source": [
    "# if torch.cuda.is_available():\n",
    "#     trainer = pl.Trainer(max_epochs=15, resume_from_checkpoint='./lightning_logs/version_0/checkpoints/epoch=9-step=8600.ckpt', gpus=1)\n",
    "# else:\n",
    "#     trainer = pl.Trainer(max_epochs=15, resume_from_checkpoint='./lightning_logs/version_0/checkpoints/epoch=9-step=8600.ckpt')\n",
    "    \n",
    "# trainer.fit(model=mnistclassifier, datamodule=mnist_dm)"
   ]
  },
  {
   "cell_type": "code",
   "execution_count": null,
   "metadata": {},
   "outputs": [],
   "source": []
  },
  {
   "cell_type": "code",
   "execution_count": null,
   "metadata": {},
   "outputs": [],
   "source": []
  },
  {
   "cell_type": "code",
   "execution_count": null,
   "metadata": {},
   "outputs": [],
   "source": []
  },
  {
   "cell_type": "code",
   "execution_count": null,
   "metadata": {},
   "outputs": [],
   "source": []
  }
 ],
 "metadata": {
  "kernelspec": {
   "display_name": "Python 3",
   "language": "python",
   "name": "python3"
  },
  "language_info": {
   "codemirror_mode": {
    "name": "ipython",
    "version": 3
   },
   "file_extension": ".py",
   "mimetype": "text/x-python",
   "name": "python",
   "nbconvert_exporter": "python",
   "pygments_lexer": "ipython3",
   "version": "3.9.1"
  }
 },
 "nbformat": 4,
 "nbformat_minor": 4
}
