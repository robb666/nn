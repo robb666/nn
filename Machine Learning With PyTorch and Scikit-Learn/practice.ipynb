{
 "cells": [
  {
   "cell_type": "code",
   "execution_count": 1,
   "metadata": {},
   "outputs": [],
   "source": [
    "import numpy as np\n",
    "import pandas as pd"
   ]
  },
  {
   "cell_type": "code",
   "execution_count": 2,
   "metadata": {
    "tags": []
   },
   "outputs": [
    {
     "data": {
      "text/plain": [
       "array([1.03528105, 1.00800314])"
      ]
     },
     "execution_count": 2,
     "metadata": {},
     "output_type": "execute_result"
    }
   ],
   "source": [
    "X = pd.DataFrame([[9, 3]])\n",
    "np.random.RandomState(0).normal(loc=1.0, scale=0.02, size=X.shape[1])"
   ]
  },
  {
   "cell_type": "code",
   "execution_count": 3,
   "metadata": {
    "tags": []
   },
   "outputs": [
    {
     "data": {
      "text/html": [
       "<div>\n",
       "<style scoped>\n",
       "    .dataframe tbody tr th:only-of-type {\n",
       "        vertical-align: middle;\n",
       "    }\n",
       "\n",
       "    .dataframe tbody tr th {\n",
       "        vertical-align: top;\n",
       "    }\n",
       "\n",
       "    .dataframe thead th {\n",
       "        text-align: right;\n",
       "    }\n",
       "</style>\n",
       "<table border=\"1\" class=\"dataframe\">\n",
       "  <thead>\n",
       "    <tr style=\"text-align: right;\">\n",
       "      <th></th>\n",
       "      <th>0</th>\n",
       "      <th>1</th>\n",
       "      <th>2</th>\n",
       "    </tr>\n",
       "  </thead>\n",
       "  <tbody>\n",
       "    <tr>\n",
       "      <th>0</th>\n",
       "      <td>2</td>\n",
       "      <td>5</td>\n",
       "      <td>6</td>\n",
       "    </tr>\n",
       "    <tr>\n",
       "      <th>1</th>\n",
       "      <td>2</td>\n",
       "      <td>2</td>\n",
       "      <td>2</td>\n",
       "    </tr>\n",
       "  </tbody>\n",
       "</table>\n",
       "</div>"
      ],
      "text/plain": [
       "   0  1  2\n",
       "0  2  5  6\n",
       "1  2  2  2"
      ]
     },
     "execution_count": 3,
     "metadata": {},
     "output_type": "execute_result"
    }
   ],
   "source": [
    "arr = [[2, 5, 6],\n",
    "       [2, 2, 2]]\n",
    "errors = [3, 1]\n",
    "X1 = pd.DataFrame(arr)\n",
    "X1"
   ]
  },
  {
   "cell_type": "code",
   "execution_count": 4,
   "metadata": {},
   "outputs": [
    {
     "data": {
      "text/plain": [
       "0     8\n",
       "1    17\n",
       "2    20\n",
       "dtype: int64"
      ]
     },
     "execution_count": 4,
     "metadata": {},
     "output_type": "execute_result"
    }
   ],
   "source": [
    "X1.T.dot(errors)"
   ]
  },
  {
   "cell_type": "code",
   "execution_count": 5,
   "metadata": {},
   "outputs": [
    {
     "data": {
      "text/plain": [
       "0     4.0\n",
       "1     8.5\n",
       "2    10.0\n",
       "dtype: float64"
      ]
     },
     "execution_count": 5,
     "metadata": {},
     "output_type": "execute_result"
    }
   ],
   "source": [
    "X1 = pd.DataFrame(arr)\n",
    "X1 = X1.T.dot(errors) / X1.shape[0]\n",
    "X1"
   ]
  },
  {
   "cell_type": "code",
   "execution_count": 6,
   "metadata": {},
   "outputs": [
    {
     "data": {
      "text/plain": [
       "3"
      ]
     },
     "execution_count": 6,
     "metadata": {},
     "output_type": "execute_result"
    }
   ],
   "source": [
    "X1.shape[0]"
   ]
  },
  {
   "cell_type": "code",
   "execution_count": 7,
   "metadata": {},
   "outputs": [
    {
     "data": {
      "text/html": [
       "<div>\n",
       "<style scoped>\n",
       "    .dataframe tbody tr th:only-of-type {\n",
       "        vertical-align: middle;\n",
       "    }\n",
       "\n",
       "    .dataframe tbody tr th {\n",
       "        vertical-align: top;\n",
       "    }\n",
       "\n",
       "    .dataframe thead th {\n",
       "        text-align: right;\n",
       "    }\n",
       "</style>\n",
       "<table border=\"1\" class=\"dataframe\">\n",
       "  <thead>\n",
       "    <tr style=\"text-align: right;\">\n",
       "      <th></th>\n",
       "      <th>1</th>\n",
       "      <th>2</th>\n",
       "    </tr>\n",
       "  </thead>\n",
       "  <tbody>\n",
       "    <tr>\n",
       "      <th>0</th>\n",
       "      <td>1</td>\n",
       "      <td>4</td>\n",
       "    </tr>\n",
       "    <tr>\n",
       "      <th>1</th>\n",
       "      <td>2</td>\n",
       "      <td>5</td>\n",
       "    </tr>\n",
       "    <tr>\n",
       "      <th>2</th>\n",
       "      <td>3</td>\n",
       "      <td>6</td>\n",
       "    </tr>\n",
       "  </tbody>\n",
       "</table>\n",
       "</div>"
      ],
      "text/plain": [
       "   1  2\n",
       "0  1  4\n",
       "1  2  5\n",
       "2  3  6"
      ]
     },
     "execution_count": 7,
     "metadata": {},
     "output_type": "execute_result"
    }
   ],
   "source": [
    "X2 = pd.DataFrame({'1': [1, 2, 3], '2': [4, 5, 6]})\n",
    "X2"
   ]
  },
  {
   "cell_type": "code",
   "execution_count": 8,
   "metadata": {},
   "outputs": [
    {
     "data": {
      "text/html": [
       "<div>\n",
       "<style scoped>\n",
       "    .dataframe tbody tr th:only-of-type {\n",
       "        vertical-align: middle;\n",
       "    }\n",
       "\n",
       "    .dataframe tbody tr th {\n",
       "        vertical-align: top;\n",
       "    }\n",
       "\n",
       "    .dataframe thead th {\n",
       "        text-align: right;\n",
       "    }\n",
       "</style>\n",
       "<table border=\"1\" class=\"dataframe\">\n",
       "  <thead>\n",
       "    <tr style=\"text-align: right;\">\n",
       "      <th></th>\n",
       "      <th>1</th>\n",
       "      <th>2</th>\n",
       "    </tr>\n",
       "  </thead>\n",
       "  <tbody>\n",
       "  </tbody>\n",
       "</table>\n",
       "</div>"
      ],
      "text/plain": [
       "Empty DataFrame\n",
       "Columns: [1, 2]\n",
       "Index: []"
      ]
     },
     "execution_count": 8,
     "metadata": {},
     "output_type": "execute_result"
    }
   ],
   "source": [
    "X2[:0]"
   ]
  },
  {
   "cell_type": "code",
   "execution_count": 9,
   "metadata": {},
   "outputs": [],
   "source": [
    "from itertools import combinations\n",
    "\n",
    "\n",
    "\n",
    "# for i in combinations([1, 2, 3, 4, 5, 6, 7, 8,9 , 10, 11, 12, 13], r=2):\n",
    "#     print(i)"
   ]
  },
  {
   "cell_type": "code",
   "execution_count": 28,
   "metadata": {},
   "outputs": [
    {
     "data": {
      "text/plain": [
       "{(0, 0): 0,\n",
       " (0, 1): 1,\n",
       " (0, 2): 2,\n",
       " (0, 3): 3,\n",
       " (0, 4): 4,\n",
       " (1, 0): 5,\n",
       " (1, 1): 6,\n",
       " (1, 2): 7,\n",
       " (1, 3): 8,\n",
       " (1, 4): 9,\n",
       " (2, 0): 10,\n",
       " (2, 1): 11,\n",
       " (2, 2): 12,\n",
       " (2, 3): 13,\n",
       " (2, 4): 14,\n",
       " (3, 0): 15,\n",
       " (3, 1): 16,\n",
       " (3, 2): 17,\n",
       " (3, 3): 18,\n",
       " (3, 4): 19,\n",
       " (4, 0): 20,\n",
       " (4, 1): 21,\n",
       " (4, 2): 22,\n",
       " (4, 3): 23,\n",
       " (4, 4): 24,\n",
       " (5, 0): 25,\n",
       " (5, 1): 26,\n",
       " (5, 2): 27,\n",
       " (5, 3): 28,\n",
       " (5, 4): 29}"
      ]
     },
     "execution_count": 28,
     "metadata": {},
     "output_type": "execute_result"
    }
   ],
   "source": [
    "num_rows, num_cols = 6, 5\n",
    "\n",
    "\n",
    "nS = num_rows * num_cols\n",
    "nA = len(action_defs)\n",
    "grid2state_dict = {(s // num_cols, s % num_cols): s for s in range(nS)}\n",
    "state2grid_dict = {s: (s // num_cols, s % num_cols) for s in range(nS)}\n",
    "\n",
    "grid2state_dict"
   ]
  },
  {
   "cell_type": "code",
   "execution_count": 32,
   "metadata": {},
   "outputs": [
    {
     "data": {
      "text/plain": [
       "defaultdict(dict,\n",
       "            {0: defaultdict(list,\n",
       "                         {0: [(1.0, 0)],\n",
       "                          1: [(1.0, 1)],\n",
       "                          2: [(1.0, 5)],\n",
       "                          3: [(1.0, 0)]}),\n",
       "             1: defaultdict(list,\n",
       "                         {0: [(1.0, 1)],\n",
       "                          1: [(1.0, 2)],\n",
       "                          2: [(1.0, 6)],\n",
       "                          3: [(1.0, 0)]}),\n",
       "             2: defaultdict(list,\n",
       "                         {0: [(1.0, 2)],\n",
       "                          1: [(1.0, 3)],\n",
       "                          2: [(1.0, 7)],\n",
       "                          3: [(1.0, 1)]}),\n",
       "             3: defaultdict(list,\n",
       "                         {0: [(1.0, 3)],\n",
       "                          1: [(1.0, 4)],\n",
       "                          2: [(1.0, 8)],\n",
       "                          3: [(1.0, 2)]}),\n",
       "             4: defaultdict(list,\n",
       "                         {0: [(1.0, 4)],\n",
       "                          1: [(1.0, 4)],\n",
       "                          2: [(1.0, 9)],\n",
       "                          3: [(1.0, 3)]}),\n",
       "             5: defaultdict(list,\n",
       "                         {0: [(1.0, 0)],\n",
       "                          1: [(1.0, 6)],\n",
       "                          2: [(1.0, 10)],\n",
       "                          3: [(1.0, 5)]}),\n",
       "             6: defaultdict(list,\n",
       "                         {0: [(1.0, 1)],\n",
       "                          1: [(1.0, 7)],\n",
       "                          2: [(1.0, 11)],\n",
       "                          3: [(1.0, 5)]}),\n",
       "             7: defaultdict(list,\n",
       "                         {0: [(1.0, 2)],\n",
       "                          1: [(1.0, 8)],\n",
       "                          2: [(1.0, 12)],\n",
       "                          3: [(1.0, 6)]}),\n",
       "             8: defaultdict(list,\n",
       "                         {0: [(1.0, 3)],\n",
       "                          1: [(1.0, 9)],\n",
       "                          2: [(1.0, 13)],\n",
       "                          3: [(1.0, 7)]}),\n",
       "             9: defaultdict(list,\n",
       "                         {0: [(1.0, 4)],\n",
       "                          1: [(1.0, 9)],\n",
       "                          2: [(1.0, 14)],\n",
       "                          3: [(1.0, 8)]}),\n",
       "             10: defaultdict(list,\n",
       "                         {0: [(1.0, 5)],\n",
       "                          1: [(1.0, 11)],\n",
       "                          2: [(1.0, 15)],\n",
       "                          3: [(1.0, 10)]}),\n",
       "             11: defaultdict(list,\n",
       "                         {0: [(1.0, 6)],\n",
       "                          1: [(1.0, 12)],\n",
       "                          2: [(1.0, 16)],\n",
       "                          3: [(1.0, 10)]}),\n",
       "             12: defaultdict(list,\n",
       "                         {0: [(1.0, 7)],\n",
       "                          1: [(1.0, 13)],\n",
       "                          2: [(1.0, 17)],\n",
       "                          3: [(1.0, 11)]}),\n",
       "             13: defaultdict(list,\n",
       "                         {0: [(1.0, 8)],\n",
       "                          1: [(1.0, 14)],\n",
       "                          2: [(1.0, 18)],\n",
       "                          3: [(1.0, 12)]}),\n",
       "             14: defaultdict(list,\n",
       "                         {0: [(1.0, 9)],\n",
       "                          1: [(1.0, 14)],\n",
       "                          2: [(1.0, 19)],\n",
       "                          3: [(1.0, 13)]}),\n",
       "             15: defaultdict(list,\n",
       "                         {0: [(1.0, 10)],\n",
       "                          1: [(1.0, 16)],\n",
       "                          2: [(1.0, 20)],\n",
       "                          3: [(1.0, 15)]}),\n",
       "             16: defaultdict(list,\n",
       "                         {0: [(1.0, 11)],\n",
       "                          1: [(1.0, 17)],\n",
       "                          2: [(1.0, 21)],\n",
       "                          3: [(1.0, 15)]}),\n",
       "             17: defaultdict(list,\n",
       "                         {0: [(1.0, 12)],\n",
       "                          1: [(1.0, 18)],\n",
       "                          2: [(1.0, 22)],\n",
       "                          3: [(1.0, 16)]}),\n",
       "             18: defaultdict(list,\n",
       "                         {0: [(1.0, 13)],\n",
       "                          1: [(1.0, 19)],\n",
       "                          2: [(1.0, 23)],\n",
       "                          3: [(1.0, 17)]}),\n",
       "             19: defaultdict(list,\n",
       "                         {0: [(1.0, 14)],\n",
       "                          1: [(1.0, 19)],\n",
       "                          2: [(1.0, 24)],\n",
       "                          3: [(1.0, 18)]}),\n",
       "             20: defaultdict(list,\n",
       "                         {0: [(1.0, 15)],\n",
       "                          1: [(1.0, 21)],\n",
       "                          2: [(1.0, 25)],\n",
       "                          3: [(1.0, 20)]}),\n",
       "             21: defaultdict(list,\n",
       "                         {0: [(1.0, 16)],\n",
       "                          1: [(1.0, 22)],\n",
       "                          2: [(1.0, 26)],\n",
       "                          3: [(1.0, 20)]}),\n",
       "             22: defaultdict(list,\n",
       "                         {0: [(1.0, 17)],\n",
       "                          1: [(1.0, 23)],\n",
       "                          2: [(1.0, 27)],\n",
       "                          3: [(1.0, 21)]}),\n",
       "             23: defaultdict(list,\n",
       "                         {0: [(1.0, 18)],\n",
       "                          1: [(1.0, 24)],\n",
       "                          2: [(1.0, 28)],\n",
       "                          3: [(1.0, 22)]}),\n",
       "             24: defaultdict(list,\n",
       "                         {0: [(1.0, 19)],\n",
       "                          1: [(1.0, 24)],\n",
       "                          2: [(1.0, 29)],\n",
       "                          3: [(1.0, 23)]}),\n",
       "             25: defaultdict(list,\n",
       "                         {0: [(1.0, 20)],\n",
       "                          1: [(1.0, 26)],\n",
       "                          2: [(1.0, 25)],\n",
       "                          3: [(1.0, 25)]}),\n",
       "             26: defaultdict(list,\n",
       "                         {0: [(1.0, 21)],\n",
       "                          1: [(1.0, 27)],\n",
       "                          2: [(1.0, 26)],\n",
       "                          3: [(1.0, 25)]}),\n",
       "             27: defaultdict(list,\n",
       "                         {0: [(1.0, 22)],\n",
       "                          1: [(1.0, 28)],\n",
       "                          2: [(1.0, 27)],\n",
       "                          3: [(1.0, 26)]}),\n",
       "             28: defaultdict(list,\n",
       "                         {0: [(1.0, 23)],\n",
       "                          1: [(1.0, 29)],\n",
       "                          2: [(1.0, 28)],\n",
       "                          3: [(1.0, 27)]}),\n",
       "             29: defaultdict(list,\n",
       "                         {0: [(1.0, 24)],\n",
       "                          1: [(1.0, 29)],\n",
       "                          2: [(1.0, 29)],\n",
       "                          3: [(1.0, 28)]})})"
      ]
     },
     "execution_count": 32,
     "metadata": {},
     "output_type": "execute_result"
    }
   ],
   "source": [
    "from collections import defaultdict\n",
    "\n",
    "\n",
    "move_up = lambda row, col: (max(row-1, 0), col)\n",
    "move_down = lambda row, col: (min(row+1, num_rows-1), col)\n",
    "move_left = lambda row, col: (row, max(col-1, 0))\n",
    "move_right = lambda row, col: (row, min(col+1, num_cols-1))\n",
    "\n",
    "        \n",
    "action_defs={0: move_up, 1: move_right,\n",
    "             2: move_down, 3: move_left}\n",
    "\n",
    "P = defaultdict(dict)\n",
    "for s in range(nS):\n",
    "    row, col = state2grid_dict[s]\n",
    "    P[s] = defaultdict(list)\n",
    "    for a in range(nA):\n",
    "        action = action_defs[a]\n",
    "        next_s = grid2state_dict[action(row, col)]\n",
    "        \n",
    "        P[s][a] = [(1.0, next_s)]\n",
    "        \n",
    "P\n"
   ]
  },
  {
   "cell_type": "code",
   "execution_count": null,
   "metadata": {},
   "outputs": [],
   "source": []
  },
  {
   "cell_type": "code",
   "execution_count": null,
   "metadata": {},
   "outputs": [],
   "source": []
  }
 ],
 "metadata": {
  "kernelspec": {
   "display_name": "Python 3",
   "language": "python",
   "name": "python3"
  },
  "language_info": {
   "codemirror_mode": {
    "name": "ipython",
    "version": 3
   },
   "file_extension": ".py",
   "mimetype": "text/x-python",
   "name": "python",
   "nbconvert_exporter": "python",
   "pygments_lexer": "ipython3",
   "version": "3.9.1"
  }
 },
 "nbformat": 4,
 "nbformat_minor": 4
}
