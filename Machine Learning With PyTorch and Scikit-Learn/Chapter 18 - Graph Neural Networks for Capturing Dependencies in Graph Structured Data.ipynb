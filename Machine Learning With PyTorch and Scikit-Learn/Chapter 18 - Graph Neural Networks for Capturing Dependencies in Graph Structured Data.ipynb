{
 "cells": [
  {
   "cell_type": "code",
   "execution_count": 1,
   "id": "74857abd",
   "metadata": {},
   "outputs": [
    {
     "name": "stdout",
     "output_type": "stream",
     "text": [
      "[[0 1 1 0]\n",
      " [1 0 1 0]\n",
      " [1 1 0 1]\n",
      " [0 0 1 0]]\n"
     ]
    }
   ],
   "source": [
    "import numpy as np\n",
    "import networkx as nx\n",
    "\n",
    "G = nx.Graph()\n",
    "# Hex codes for colors if we draw graph\n",
    "blue, orange, green = '#1f77b4', '#ff7f0e', '#2ca02c'\n",
    "G.add_nodes_from([\n",
    "    (1, {'color': blue}),\n",
    "    (2, {'color': orange}),\n",
    "    (3, {'color': blue}),\n",
    "    (4, {'color': green})\n",
    "])\n",
    "\n",
    "G.add_edges_from([(1, 2), (2, 3), (1, 3), (3, 4)])\n",
    "A = np.asarray(nx.adjacency_matrix(G).todense())\n",
    "print(A)"
   ]
  },
  {
   "cell_type": "code",
   "execution_count": 2,
   "id": "961ce416",
   "metadata": {},
   "outputs": [
    {
     "name": "stdout",
     "output_type": "stream",
     "text": [
      "[[0. 1. 0.]\n",
      " [0. 0. 1.]\n",
      " [0. 1. 0.]\n",
      " [1. 0. 0.]]\n"
     ]
    }
   ],
   "source": [
    "def build_graph_color_label_representation(G, mapping_dict):\n",
    "    one_hot_idxs = np.array([mapping_dict[v] for v in nx.get_node_attributes(G, 'color').values()])\n",
    "    one_hot_encoding = np.zeros((one_hot_idxs.size, len(mapping_dict)))\n",
    "    one_hot_encoding[np.arange(one_hot_idxs.size), one_hot_idxs] = 1\n",
    "    return one_hot_encoding\n",
    "\n",
    "\n",
    "X = build_graph_color_label_representation(\n",
    "    G, {green: 0, blue: 1, orange: 2})\n",
    "print(X)"
   ]
  },
  {
   "cell_type": "code",
   "execution_count": 3,
   "id": "20fb64d0",
   "metadata": {},
   "outputs": [
    {
     "data": {
      "image/png": "[encoded data removed]",
      "text/plain": [
       "<Figure size 640x480 with 1 Axes>"
      ]
     },
     "metadata": {},
     "output_type": "display_data"
    }
   ],
   "source": [
    "color_map = nx.get_node_attributes(G, 'color').values()\n",
    "nx.draw(G, with_labels=True, node_color=color_map)"
   ]
  },
  {
   "cell_type": "code",
   "execution_count": 4,
   "id": "ac4ddcc7",
   "metadata": {},
   "outputs": [],
   "source": [
    "f_in, f_out = X.shape[1], 6\n",
    "W_1 = np.random.rand(f_in, f_out)\n",
    "W_2 = np.random.rand(f_in, f_out)\n",
    "h = np.dot(X, W_1) + np.dot(np.dot(A,X), W_2)"
   ]
  },
  {
   "cell_type": "markdown",
   "id": "bfec8073-630b-4476-a82c-218d3504231c",
   "metadata": {},
   "source": [
    "# Defining the NodeNetwork model"
   ]
  },
  {
   "cell_type": "code",
   "execution_count": 5,
   "id": "3cb542ec",
   "metadata": {},
   "outputs": [
    {
     "name": "stderr",
     "output_type": "stream",
     "text": [
      "/home/robb/Desktop/PROJEKTY/nn/Machine Learning With PyTorch and Scikit-Learn/RaschkaMLbook/lib/python3.9/site-packages/tqdm/auto.py:22: TqdmWarning: IProgress not found. Please update jupyter and ipywidgets. See https://ipywidgets.readthedocs.io/en/stable/user_install.html\n",
      "  from .autonotebook import tqdm as notebook_tqdm\n"
     ]
    }
   ],
   "source": [
    "import networkx as nx\n",
    "import torch\n",
    "from torch.nn.parameter import Parameter\n",
    "import numpy as np\n",
    "import math\n",
    "import torch.nn.functional as F\n",
    "\n",
    "\n",
    "class NodeNetwork(torch.nn.Module):\n",
    "    def __init__(self, input_features):\n",
    "        super().__init__()\n",
    "        self.conv_1 = BasicGraphConvolutionLayer(input_features, 32)\n",
    "        self.conv_2 = BasicGraphConvolutionLayer(32, 32)\n",
    "        self.fc_1 = torch.nn.Linear(32, 16)\n",
    "        self.out_layer = torch.nn.Linear(16, 2)\n",
    "        \n",
    "    def forward(self, X, A, batch_mat):\n",
    "        x = F.relu(self.conv_1(X, A))\n",
    "        x = F.relu(self.conv_2(x, A))\n",
    "        output = global_sum_pool(x, batch_mat)\n",
    "        output = self.fc_1(output)\n",
    "        output = self.out_layer(output)\n",
    "        return F.softmax(output, dim=1)\n",
    "    \n",
    "    "
   ]
  },
  {
   "cell_type": "code",
   "execution_count": 6,
   "id": "05e1a0e5",
   "metadata": {},
   "outputs": [],
   "source": [
    "# Coding the NodeNetwork’s graph convolution layer"
   ]
  },
  {
   "cell_type": "code",
   "execution_count": 7,
   "id": "93ff12f5-77e3-486a-83e1-4a0264350540",
   "metadata": {},
   "outputs": [
    {
     "name": "stdout",
     "output_type": "stream",
     "text": [
      "X.shape: (4, 3)\n"
     ]
    }
   ],
   "source": [
    "class BasicGraphConvolutionLayer(torch.nn.Module):\n",
    "    def __init__(self, in_channels, out_channels):\n",
    "        super().__init__()\n",
    "        self.in_channels = in_channels\n",
    "        self.out_channels = out_channels\n",
    "        self.W2 = Parameter(torch.rand((in_channels, out_channels), dtype=torch.float32))\n",
    "        self.W1 = Parameter(torch.rand((in_channels, out_channels), dtype=torch.float32))\n",
    "        \n",
    "        self.bias = Parameter(torch.zeros(out_channels, dtype=torch.float32))\n",
    "        \n",
    "    def forward(self, X, A):\n",
    "        potential_msgs = torch.mm(X, self.W2)\n",
    "        propagated_msgs = torch.mm(A, potential_msgs)\n",
    "        root_update = torch.mm(X, self.W1)\n",
    "        output = propagated_msgs + root_update + self.bias\n",
    "        return output\n",
    "    \n",
    "    \n",
    "print('X.shape:', X.shape)\n"
   ]
  },
  {
   "cell_type": "code",
   "execution_count": 8,
   "id": "8221e5d3-8bd7-4b9b-a6b0-afca12e8de07",
   "metadata": {},
   "outputs": [
    {
     "name": "stdout",
     "output_type": "stream",
     "text": [
      "A.shape: (4, 4)\n"
     ]
    }
   ],
   "source": [
    "print('A.shape:', A.shape)"
   ]
  },
  {
   "cell_type": "code",
   "execution_count": 9,
   "id": "466923bb-d7a5-4cf9-a536-5ee6480c222f",
   "metadata": {},
   "outputs": [
    {
     "name": "stdout",
     "output_type": "stream",
     "text": [
      "Output shape: torch.Size([4, 8])\n"
     ]
    }
   ],
   "source": [
    "basiclayer = BasicGraphConvolutionLayer(3, 8)\n",
    "out = basiclayer(\n",
    "    X = torch.tensor(X, dtype=torch.float32),\n",
    "    A = torch.tensor(A, dtype=torch.float32)\n",
    ")\n",
    "\n",
    "print('Output shape:', out.shape)"
   ]
  },
  {
   "cell_type": "code",
   "execution_count": 10,
   "id": "dd421cfa-fa2d-4fe7-9f58-cd68b0d85891",
   "metadata": {},
   "outputs": [],
   "source": [
    "# Adding a global pooling layer to deal with varying graph sizes\n",
    "# Next, we define the global_sum_pool() function that was used in the NodeNetwork class, where"
   ]
  },
  {
   "cell_type": "code",
   "execution_count": 11,
   "id": "b22a87db-6024-475c-b77e-f29105f6089d",
   "metadata": {},
   "outputs": [],
   "source": [
    "def global_sum_pool(X, batch_mat):\n",
    "    if batch_mat is None or batch_mat.dim() == 1:\n",
    "        return torch.sum(X, dim=0).unsqueeze(0)\n",
    "    else:\n",
    "        return torch.mm(batch_mat, X)"
   ]
  },
  {
   "cell_type": "code",
   "execution_count": 12,
   "id": "3924676a-453d-4f20-8a3e-ffb16eff1165",
   "metadata": {},
   "outputs": [],
   "source": [
    "def get_batch_tensor(graph_sizes):\n",
    "    starts = [sum(graph_sizes[:idx])\n",
    "              for idx in range(len(graoh_sizes))]\n",
    "    stops = [starts[idx] + graph_sizes[idx]\n",
    "             for idx in range(len(graph_sizes))]\n",
    "    tot_len = sum(graph_sizes)\n",
    "    batch_size = len(graph_sizes)\n",
    "    batch_mat = torch.zeros([batch_size, tot_len]).float()\n",
    "    for idx, starts_and_stops in enumerate(zip(starts, stops)):\n",
    "        start = starts_and_stops[0]\n",
    "        stop = starts_and_stops[1]\n",
    "        batch_mat[idx, start:stop] = 1\n",
    "    return batch_mat\n"
   ]
  },
  {
   "cell_type": "code",
   "execution_count": 13,
   "id": "9dc402e0-b356-4725-82ee-4cb0220a5385",
   "metadata": {},
   "outputs": [],
   "source": [
    "# batch is a list of dictionaries each containing\n",
    "# the representation and label of a graph\n",
    "\n",
    "def collate_graphs(batch):\n",
    "    adj_mats = [graph['A'] for graph in batch]\n",
    "    sizes = [A.size(0) for A in adj_mats]\n",
    "    tot_size = sum(sizes)\n",
    "    # create batch matrix\n",
    "    batch_mat = get_batch_tensor(sizes)\n",
    "    # combine feature matrices\n",
    "    feat_mats = torch.cat([graph['X'] for graph in batch], dim=0)\n",
    "    # combine Labels\n",
    "    labels = torch.cat([graph['y'] for graph in batch], dim=0)\n",
    "    # combine adjacency matrices\n",
    "    batch_adj = torch.zeros([tot_size, tot_size], dtype=torch.float32)\n",
    "    accum = 0\n",
    "    \n",
    "    for adj in adj_mats:\n",
    "        g_size = adj.shape[0]\n",
    "        batch_adj[accum:accum + g_size, accum:accum + g_size] = adj\n",
    "        accum = accum + g_size\n",
    "    repr_and_label = {'A': batch_adj,\n",
    "                      'X': feat_mats, 'y': labels,\n",
    "                      'batch': batch_mat}\n",
    "    return repr_and_label\n",
    "                            "
   ]
  },
  {
   "cell_type": "code",
   "execution_count": 14,
   "id": "aa6c2906-4a9a-4548-9a6e-0859b087c5b0",
   "metadata": {},
   "outputs": [],
   "source": [
    "# Preparing the DataLoader"
   ]
  },
  {
   "cell_type": "code",
   "execution_count": 15,
   "id": "f9672236-df6d-47d2-a62c-781dae0c383a",
   "metadata": {},
   "outputs": [],
   "source": [
    "def get_graph_dict(G, mapping_dict):\n",
    "    # Function builds dictionary representation of graph G\n",
    "    A = torch.from_numpy(\n",
    "        np.asarray(nx.adjacency_matrix(G).todense())).float()\n",
    "    # build_graph_color_label_representation()\n",
    "    # was introduced with the first example graph\n",
    "    X = torch.from_numpy(\n",
    "        build_graph_color_label_representation(\n",
    "            G, mapping_dict)).float()\n",
    "    # kludge since there is not specific task for this example\n",
    "    y = torch.tensor([[1, 0]]).float()\n",
    "    return {'A': A, 'X': X, 'y': y, 'batch': None}\n"
   ]
  },
  {
   "cell_type": "code",
   "execution_count": 16,
   "id": "25bba63a-26bc-42c0-a087-6d0db0a9b14b",
   "metadata": {},
   "outputs": [],
   "source": [
    "# building 4 graphs to treat as a dataset\n",
    "blue, orange, green = '#1f77b4', '#ff7f0e', '#2ca02c'\n",
    "mapping_dict = {green:0, blue:1, orange:2}\n",
    "\n",
    "G1 = nx.Graph()\n",
    "G1.add_nodes_from([\n",
    "    (1, {'color': blue}),\n",
    "    (2, {'color': orange}),\n",
    "    (3, {'color': blue}),\n",
    "    (4, {'color':green})\n",
    "])\n",
    "\n",
    "G1.add_edges_from([(1, 2), (2, 3), (1, 3), (3, 4)])\n",
    "G2 = nx.Graph()\n",
    "G2.add_nodes_from([\n",
    "    (1, {'color': green}),\n",
    "    (2, {'color': green}),\n",
    "    (3, {'color': orange}),\n",
    "    (4, {'color': orange}),\n",
    "    (5, {'color': blue})\n",
    "])\n",
    "\n",
    "G2.add_edges_from([(2, 3), (3, 4), (3, 1), (5, 1)])\n",
    "G3 = nx.Graph()\n",
    "G3.add_nodes_from([\n",
    "    (1, {'color': orange}),\n",
    "    (2, {'color': orange}),\n",
    "    (3, {'color': green}),\n",
    "    (4, {'color': green}),\n",
    "    (5, {'color': blue}),\n",
    "    (6, {'color': orange})\n",
    "])\n",
    "\n",
    "G3.add_edges_from([(2, 3), (3, 4), (3, 1), (5, 1), (2, 5), (6, 1)])\n",
    "G4 = nx.Graph()\n",
    "G4.add_nodes_from([\n",
    "    (1, {'color': blue}),\n",
    "    (2, {'color': blue}),\n",
    "    (3, {'color': green})\n",
    "])\n",
    "\n",
    "G4.add_edges_from([(1, 2), (2, 3)])\n",
    "graph_list = [get_graph_dict(graph, mapping_dict) for graph in [G1, G2, G3, G4]]\n"
   ]
  },
  {
   "cell_type": "code",
   "execution_count": 17,
   "id": "141bc622-4259-419a-9ca8-faa52c811e69",
   "metadata": {},
   "outputs": [
    {
     "data": {
      "text/plain": [
       "[{'A': tensor([[0., 1., 1., 0.],\n",
       "          [1., 0., 1., 0.],\n",
       "          [1., 1., 0., 1.],\n",
       "          [0., 0., 1., 0.]]),\n",
       "  'X': tensor([[0., 1., 0.],\n",
       "          [0., 0., 1.],\n",
       "          [0., 1., 0.],\n",
       "          [1., 0., 0.]]),\n",
       "  'y': tensor([[1., 0.]]),\n",
       "  'batch': None},\n",
       " {'A': tensor([[0., 0., 1., 0., 1.],\n",
       "          [0., 0., 1., 0., 0.],\n",
       "          [1., 1., 0., 1., 0.],\n",
       "          [0., 0., 1., 0., 0.],\n",
       "          [1., 0., 0., 0., 0.]]),\n",
       "  'X': tensor([[1., 0., 0.],\n",
       "          [1., 0., 0.],\n",
       "          [0., 0., 1.],\n",
       "          [0., 0., 1.],\n",
       "          [0., 1., 0.]]),\n",
       "  'y': tensor([[1., 0.]]),\n",
       "  'batch': None},\n",
       " {'A': tensor([[0., 0., 1., 0., 1., 1.],\n",
       "          [0., 0., 1., 0., 1., 0.],\n",
       "          [1., 1., 0., 1., 0., 0.],\n",
       "          [0., 0., 1., 0., 0., 0.],\n",
       "          [1., 1., 0., 0., 0., 0.],\n",
       "          [1., 0., 0., 0., 0., 0.]]),\n",
       "  'X': tensor([[0., 0., 1.],\n",
       "          [0., 0., 1.],\n",
       "          [1., 0., 0.],\n",
       "          [1., 0., 0.],\n",
       "          [0., 1., 0.],\n",
       "          [0., 0., 1.]]),\n",
       "  'y': tensor([[1., 0.]]),\n",
       "  'batch': None},\n",
       " {'A': tensor([[0., 1., 0.],\n",
       "          [1., 0., 1.],\n",
       "          [0., 1., 0.]]),\n",
       "  'X': tensor([[0., 1., 0.],\n",
       "          [0., 1., 0.],\n",
       "          [1., 0., 0.]]),\n",
       "  'y': tensor([[1., 0.]]),\n",
       "  'batch': None}]"
      ]
     },
     "execution_count": 17,
     "metadata": {},
     "output_type": "execute_result"
    }
   ],
   "source": [
    "graph_list"
   ]
  },
  {
   "cell_type": "code",
   "execution_count": null,
   "id": "86cc659e-621b-4911-9c68-12b5bd4cd08a",
   "metadata": {},
   "outputs": [],
   "source": []
  },
  {
   "cell_type": "code",
   "execution_count": null,
   "id": "b6574fa9-8e75-4fce-869f-ade323c369aa",
   "metadata": {},
   "outputs": [],
   "source": []
  },
  {
   "cell_type": "code",
   "execution_count": null,
   "id": "98acd678-4863-43e0-bd14-11fcae3f2616",
   "metadata": {},
   "outputs": [],
   "source": []
  },
  {
   "cell_type": "code",
   "execution_count": null,
   "id": "229a4bc8-5976-4fae-aaf6-f6b969964803",
   "metadata": {},
   "outputs": [],
   "source": []
  }
 ],
 "metadata": {
  "kernelspec": {
   "display_name": "Python 3 (ipykernel)",
   "language": "python",
   "name": "python3"
  },
  "language_info": {
   "codemirror_mode": {
    "name": "ipython",
    "version": 3
   },
   "file_extension": ".py",
   "mimetype": "text/x-python",
   "name": "python",
   "nbconvert_exporter": "python",
   "pygments_lexer": "ipython3",
   "version": "3.9.13"
  }
 },
 "nbformat": 4,
 "nbformat_minor": 5
}
