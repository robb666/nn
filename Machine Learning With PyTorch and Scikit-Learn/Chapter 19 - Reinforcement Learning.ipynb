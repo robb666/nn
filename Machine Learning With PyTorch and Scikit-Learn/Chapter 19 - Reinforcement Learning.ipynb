{
 "cells": [
  {
   "cell_type": "markdown",
   "id": "f458ad70-bc42-4a87-aca7-403de43886bb",
   "metadata": {},
   "source": [
    "# Chapter 19 - Reinforcement Learning for Decision Making in Complex Environments"
   ]
  },
  {
   "cell_type": "code",
   "execution_count": null,
   "id": "a948af74-228d-4198-ac3d-7eb77fec22b3",
   "metadata": {},
   "outputs": [],
   "source": []
  },
  {
   "cell_type": "code",
   "execution_count": null,
   "id": "8195156f-3c21-469f-8917-7cade17e9b55",
   "metadata": {},
   "outputs": [],
   "source": []
  },
  {
   "cell_type": "code",
   "execution_count": null,
   "id": "87cd83af-4d36-4ea4-a4c2-9d5e78a856b2",
   "metadata": {},
   "outputs": [],
   "source": []
  },
  {
   "cell_type": "code",
   "execution_count": null,
   "id": "a9cd636d-f454-4cdf-97e3-22fa39c099ea",
   "metadata": {},
   "outputs": [],
   "source": []
  },
  {
   "cell_type": "code",
   "execution_count": null,
   "id": "fbcc25ae-68fc-40a6-b8a9-fba55a2dabef",
   "metadata": {},
   "outputs": [],
   "source": []
  },
  {
   "cell_type": "code",
   "execution_count": null,
   "id": "24e39e7a-5fa1-44fe-b7f8-5e9714859f9b",
   "metadata": {},
   "outputs": [],
   "source": []
  },
  {
   "cell_type": "code",
   "execution_count": null,
   "id": "4fdc93bd-db31-4415-ab39-f4b4cd5f9b17",
   "metadata": {},
   "outputs": [],
   "source": []
  }
 ],
 "metadata": {
  "kernelspec": {
   "display_name": "RaschkaMLbook",
   "language": "python",
   "name": "raschkamlbook"
  },
  "language_info": {
   "codemirror_mode": {
    "name": "ipython",
    "version": 3
   },
   "file_extension": ".py",
   "mimetype": "text/x-python",
   "name": "python",
   "nbconvert_exporter": "python",
   "pygments_lexer": "ipython3",
   "version": "3.9.13"
  }
 },
 "nbformat": 4,
 "nbformat_minor": 5
}
