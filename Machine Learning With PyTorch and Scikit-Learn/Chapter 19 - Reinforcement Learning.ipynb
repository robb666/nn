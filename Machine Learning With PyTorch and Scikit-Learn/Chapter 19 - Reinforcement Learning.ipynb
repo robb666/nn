{
 "cells": [
  {
   "cell_type": "markdown",
   "id": "f458ad70-bc42-4a87-aca7-403de43886bb",
   "metadata": {},
   "source": [
    "# Chapter 19 - Reinforcement Learning for Decision Making in Complex Environments"
   ]
  },
  {
   "cell_type": "code",
   "execution_count": 1,
   "id": "a948af74-228d-4198-ac3d-7eb77fec22b3",
   "metadata": {},
   "outputs": [
    {
     "data": {
      "text/plain": [
       "Box([-4.8000002e+00 -3.4028235e+38 -4.1887903e-01 -3.4028235e+38], [4.8000002e+00 3.4028235e+38 4.1887903e-01 3.4028235e+38], (4,), float32)"
      ]
     },
     "execution_count": 1,
     "metadata": {},
     "output_type": "execute_result"
    }
   ],
   "source": [
    "import gym\n",
    "\n",
    "env = gym.make('CartPole-v1')\n",
    "env.observation_space"
   ]
  },
  {
   "cell_type": "code",
   "execution_count": 2,
   "id": "8195156f-3c21-469f-8917-7cade17e9b55",
   "metadata": {},
   "outputs": [
    {
     "data": {
      "text/plain": [
       "Discrete(2)"
      ]
     },
     "execution_count": 2,
     "metadata": {},
     "output_type": "execute_result"
    }
   ],
   "source": [
    "env.action_space"
   ]
  },
  {
   "cell_type": "code",
   "execution_count": 3,
   "id": "87cd83af-4d36-4ea4-a4c2-9d5e78a856b2",
   "metadata": {},
   "outputs": [
    {
     "data": {
      "text/plain": [
       "array([-0.01737694, -0.01369213,  0.02329976,  0.01050149], dtype=float32)"
      ]
     },
     "execution_count": 3,
     "metadata": {},
     "output_type": "execute_result"
    }
   ],
   "source": [
    "env.reset()"
   ]
  },
  {
   "cell_type": "code",
   "execution_count": 4,
   "id": "a9cd636d-f454-4cdf-97e3-22fa39c099ea",
   "metadata": {},
   "outputs": [
    {
     "data": {
      "text/plain": [
       "(array([-0.01765078, -0.20914035,  0.02350979,  0.31044376], dtype=float32),\n",
       " 1.0,\n",
       " False,\n",
       " {})"
      ]
     },
     "execution_count": 4,
     "metadata": {},
     "output_type": "execute_result"
    }
   ],
   "source": [
    "env.step(action=0)"
   ]
  },
  {
   "cell_type": "code",
   "execution_count": 5,
   "id": "fbcc25ae-68fc-40a6-b8a9-fba55a2dabef",
   "metadata": {},
   "outputs": [
    {
     "data": {
      "text/plain": [
       "(array([-0.02183359, -0.0143611 ,  0.02971867,  0.02526686], dtype=float32),\n",
       " 1.0,\n",
       " False,\n",
       " {})"
      ]
     },
     "execution_count": 5,
     "metadata": {},
     "output_type": "execute_result"
    }
   ],
   "source": [
    "env.step(action=1)"
   ]
  },
  {
   "cell_type": "markdown",
   "id": "f0d357ef-9be6-4bff-bdb5-5f623d5d5323",
   "metadata": {},
   "source": [
    "# Implementing the grid world environment in OpenAI Gym"
   ]
  },
  {
   "cell_type": "code",
   "execution_count": 7,
   "id": "936a8a6b-ef41-4064-bce4-9ae07ec20ee8",
   "metadata": {},
   "outputs": [
    {
     "ename": "ImportError",
     "evalue": "\n    Cannot import pyglet.\n    HINT: you can install pyglet directly via 'pip install pyglet'.\n    But if you really just want to install all Gym dependencies and not have to think about it,\n    'pip install -e .[all]' or 'pip install gym[all]' will do it.\n    ",
     "output_type": "error",
     "traceback": [
      "\u001b[0;31m---------------------------------------------------------------------------\u001b[0m",
      "\u001b[0;31mModuleNotFoundError\u001b[0m                       Traceback (most recent call last)",
      "File \u001b[0;32m~/Desktop/PROJEKTY/nn/Machine Learning With PyTorch and Scikit-Learn/RaschkaMLbook/lib/python3.9/site-packages/gym/envs/classic_control/rendering.py:15\u001b[0m, in \u001b[0;36m<module>\u001b[0;34m\u001b[0m\n\u001b[1;32m     14\u001b[0m \u001b[38;5;28;01mtry\u001b[39;00m:\n\u001b[0;32m---> 15\u001b[0m     \u001b[38;5;28;01mimport\u001b[39;00m \u001b[38;5;21;01mpyglet\u001b[39;00m\n\u001b[1;32m     16\u001b[0m \u001b[38;5;28;01mexcept\u001b[39;00m \u001b[38;5;167;01mImportError\u001b[39;00m \u001b[38;5;28;01mas\u001b[39;00m e:\n",
      "\u001b[0;31mModuleNotFoundError\u001b[0m: No module named 'pyglet'",
      "\nDuring handling of the above exception, another exception occurred:\n",
      "\u001b[0;31mImportError\u001b[0m                               Traceback (most recent call last)",
      "Input \u001b[0;32mIn [7]\u001b[0m, in \u001b[0;36m<cell line: 8>\u001b[0;34m()\u001b[0m\n\u001b[1;32m      6\u001b[0m \u001b[38;5;28;01mimport\u001b[39;00m \u001b[38;5;21;01mpickle\u001b[39;00m\n\u001b[1;32m      7\u001b[0m \u001b[38;5;28;01mimport\u001b[39;00m \u001b[38;5;21;01mos\u001b[39;00m\n\u001b[0;32m----> 8\u001b[0m \u001b[38;5;28;01mfrom\u001b[39;00m \u001b[38;5;21;01mgym\u001b[39;00m\u001b[38;5;21;01m.\u001b[39;00m\u001b[38;5;21;01menvs\u001b[39;00m\u001b[38;5;21;01m.\u001b[39;00m\u001b[38;5;21;01mclassic_control\u001b[39;00m \u001b[38;5;28;01mimport\u001b[39;00m rendering\n\u001b[1;32m     10\u001b[0m CELL_SIZE \u001b[38;5;241m=\u001b[39m \u001b[38;5;241m100\u001b[39m\n\u001b[1;32m     11\u001b[0m MARGIN \u001b[38;5;241m=\u001b[39m \u001b[38;5;241m10\u001b[39m\n",
      "File \u001b[0;32m~/Desktop/PROJEKTY/nn/Machine Learning With PyTorch and Scikit-Learn/RaschkaMLbook/lib/python3.9/site-packages/gym/envs/classic_control/rendering.py:17\u001b[0m, in \u001b[0;36m<module>\u001b[0;34m\u001b[0m\n\u001b[1;32m     15\u001b[0m     \u001b[38;5;28;01mimport\u001b[39;00m \u001b[38;5;21;01mpyglet\u001b[39;00m\n\u001b[1;32m     16\u001b[0m \u001b[38;5;28;01mexcept\u001b[39;00m \u001b[38;5;167;01mImportError\u001b[39;00m \u001b[38;5;28;01mas\u001b[39;00m e:\n\u001b[0;32m---> 17\u001b[0m     \u001b[38;5;28;01mraise\u001b[39;00m \u001b[38;5;167;01mImportError\u001b[39;00m(\n\u001b[1;32m     18\u001b[0m         \u001b[38;5;124;03m\"\"\"\u001b[39;00m\n\u001b[1;32m     19\u001b[0m \u001b[38;5;124;03m    Cannot import pyglet.\u001b[39;00m\n\u001b[1;32m     20\u001b[0m \u001b[38;5;124;03m    HINT: you can install pyglet directly via 'pip install pyglet'.\u001b[39;00m\n\u001b[1;32m     21\u001b[0m \u001b[38;5;124;03m    But if you really just want to install all Gym dependencies and not have to think about it,\u001b[39;00m\n\u001b[1;32m     22\u001b[0m \u001b[38;5;124;03m    'pip install -e .[all]' or 'pip install gym[all]' will do it.\u001b[39;00m\n\u001b[1;32m     23\u001b[0m \u001b[38;5;124;03m    \"\"\"\u001b[39;00m\n\u001b[1;32m     24\u001b[0m     )\n\u001b[1;32m     26\u001b[0m \u001b[38;5;28;01mtry\u001b[39;00m:\n\u001b[1;32m     27\u001b[0m     \u001b[38;5;28;01mfrom\u001b[39;00m \u001b[38;5;21;01mpyglet\u001b[39;00m\u001b[38;5;21;01m.\u001b[39;00m\u001b[38;5;21;01mgl\u001b[39;00m \u001b[38;5;28;01mimport\u001b[39;00m \u001b[38;5;241m*\u001b[39m\n",
      "\u001b[0;31mImportError\u001b[0m: \n    Cannot import pyglet.\n    HINT: you can install pyglet directly via 'pip install pyglet'.\n    But if you really just want to install all Gym dependencies and not have to think about it,\n    'pip install -e .[all]' or 'pip install gym[all]' will do it.\n    "
     ]
    }
   ],
   "source": [
    "## Script: gridworld_env.py\n",
    "import numpy as np \n",
    "from gym.envs.toy_text import discrete\n",
    "from collections import defaultdict\n",
    "import time\n",
    "import pickle\n",
    "import os\n",
    "from gym.envs.classic_control import rendering\n",
    "\n",
    "CELL_SIZE = 100\n",
    "MARGIN = 10\n",
    "\n",
    "\n",
    "def get_coords(row, col, loc='center'):\n",
    "    xc = (col + 1.5) * CELL_SIZE\n",
    "    yc = (row + 1.5) * CELL_SIZE\n",
    "    if loc == 'center':\n",
    "        return xc, yc\n",
    "    elif loc == 'interior_corners':\n",
    "        half_size = CELL_SIZE // - MARGIN\n",
    "        xl, xr = xc - half_size, xc + half_size\n",
    "        yt, yb = xc - half_size, xc + half_size\n",
    "        return [(xl, yt), (xr, yt), (xr, yb), (xl, yb)]\n",
    "    elif loc == 'interior_triangle':\n",
    "        x1, y1 = xc, yc + CELL_SIZE // 3\n",
    "        x2, y2 = xc + CELL_SIZE // 3, yc - CELL_SIZE // 3\n",
    "        x3, y3 = xc - CELL_SIZE // 3, yc - CELL_SIZE // 3\n",
    "        return [(x1, y1), (x2, y2), (x3, y3)]\n",
    "    \n",
    "    \n",
    "def draw_object(coords_list):\n",
    "    if len(coords_list) == 1: # -> circle\n",
    "        obj = rendering.make_circle(int(0.45 * CELL_SIZE))\n",
    "        obj_transform = rendering.Transform()\n",
    "        obj.add_attr(obj_transform)\n",
    "        obj_transform.set_translation(*coords_list[0])\n",
    "        obj.set_color(0.2, 0.2, 0.2) # -> balck\n",
    "    elif len(coords_list) == 3: # -> triangle\n",
    "        obj = reandering.FilledPolygon(coords_list)\n",
    "        obj.set_color(0.9, 0.6, 0.2) # -> yellow\n",
    "    elif len(coords_list) > 3: # -> polygon\n",
    "        obj = rendering.FilledPolygon(coords_list)\n",
    "        obj = rendering.set_color(0.4, 0.4, 0.8) # -> blue\n",
    "    return obj\n",
    "\n",
    "\n",
    "class GridWorldENV(discrete.DiscreteEnv):\n",
    "    def __init__(self, num_rows=4, num_cols=6, delay=0.05):\n",
    "        self.num_rows = num_rows\n",
    "        self.num_cols = num_cols\n",
    "        self.delay = delay\n",
    "        move_up = lambda row, col: (max(row-1, 0), col)\n",
    "        move_down = lambda row, col: (min(row+1, num_rows-1), col)\n",
    "        move_left = lambda row, col: (row, max(col-1, 0))\n",
    "        move_right = lambda row, col: (row, min(col+1, num_cols-1))\n",
    "        self.action_defs={0: move_up, 1: move_right,\n",
    "                          2: move_down, 3: move_left}\n",
    "        ## Number of states/actions\n",
    "        nS = num_cols * num_rows\n",
    "        nA = len(self.action_defs)\n",
    "        self.grid2state_dict={(s // num_cols, s%num_cols): s for s in range(nS)}\n",
    "        self.state2grid_dict={s: (s // num_cols, s%num_cols) for s in range(nS)}\n",
    "        \n",
    "        ## Gold state\n",
    "        gold_cell = (num_rows // 2, num_cols - 2)\n",
    "        \n",
    "        ## Trap states\n",
    "        trap_cells = [((gold_cell[0] + 1), gold_cell[1]),\n",
    "                       (gold_cell[0], gold_cell[1] - 1),\n",
    "                       ((gold_cell[0] - 1), gold_cell[1])]\n",
    "        gold_state = self.grid2state_dict[gold_cell]\n",
    "        trap_states = [self.grid2state_dict[(r, c)] for (r, c) in trap_cells]\n",
    "        self.terminal_states = [gold_state] + trap_states\n",
    "        print(self.terminal_states)\n",
    "        ## Build the transition probability\n",
    "        P = defaultdict(dict)\n",
    "        for s in range(nS):\n",
    "            row, col = self.state2grid_dict[s]\n",
    "            P[s] = defaultdict(list)\n",
    "            for a in range(nA):\n",
    "                action = self.action_defs[a]\n",
    "                next_s = self.grid2state_dict[action(row, col)]\n",
    "                \n",
    "                ## Terminal state\n",
    "                if self.is_terminal(next_s):\n",
    "                    r = (1.0 if next_s == self.terminal_states[0] else -1.0)\n",
    "                else:\n",
    "                    r = 0.0\n",
    "                if self.is_terminal(s):\n",
    "                    done = True\n",
    "                    next_s = s\n",
    "                else:\n",
    "                    done = False\n",
    "                P[s][a] = [(1.0, next_s, r, done)]\n",
    "        ## Initial state distribution\n",
    "        isd = np.zeros(nS)\n",
    "        isd[0]\n",
    "        super().__init__(nS, nA, P, isd)\n",
    "        self.viewer = None\n",
    "        self._build_display(gold_cell, trap_cells)"
   ]
  },
  {
   "cell_type": "code",
   "execution_count": null,
   "id": "0b5979d6-4571-4a0b-8302-85bff5cbd146",
   "metadata": {},
   "outputs": [],
   "source": []
  },
  {
   "cell_type": "code",
   "execution_count": null,
   "id": "a2c93261-1422-4c5f-aff1-86a4f5151056",
   "metadata": {},
   "outputs": [],
   "source": []
  },
  {
   "cell_type": "code",
   "execution_count": null,
   "id": "e0d764ee-c670-41bd-a698-4d19301424ce",
   "metadata": {},
   "outputs": [],
   "source": []
  },
  {
   "cell_type": "code",
   "execution_count": null,
   "id": "d631b9ce-8866-4a3e-a92f-6d5b16cb3f21",
   "metadata": {},
   "outputs": [],
   "source": []
  },
  {
   "cell_type": "code",
   "execution_count": null,
   "id": "4980f89b-b56f-4b9f-8d82-e6e7f5b27322",
   "metadata": {},
   "outputs": [],
   "source": []
  },
  {
   "cell_type": "code",
   "execution_count": null,
   "id": "198b4b85-f6c4-4361-9a97-70eee58adb2c",
   "metadata": {},
   "outputs": [],
   "source": []
  },
  {
   "cell_type": "code",
   "execution_count": null,
   "id": "3c87c352-3556-4e4c-8eec-e0bd300167e7",
   "metadata": {},
   "outputs": [],
   "source": []
  },
  {
   "cell_type": "code",
   "execution_count": null,
   "id": "e6e5a409-696d-4fc6-b151-77f340199852",
   "metadata": {},
   "outputs": [],
   "source": []
  },
  {
   "cell_type": "code",
   "execution_count": null,
   "id": "a84475bc-ba13-41a4-a93a-a0b7fb90555d",
   "metadata": {},
   "outputs": [],
   "source": []
  },
  {
   "cell_type": "code",
   "execution_count": null,
   "id": "24e39e7a-5fa1-44fe-b7f8-5e9714859f9b",
   "metadata": {},
   "outputs": [],
   "source": []
  },
  {
   "cell_type": "code",
   "execution_count": null,
   "id": "4fdc93bd-db31-4415-ab39-f4b4cd5f9b17",
   "metadata": {},
   "outputs": [],
   "source": []
  }
 ],
 "metadata": {
  "kernelspec": {
   "display_name": "RaschkaMLbook",
   "language": "python",
   "name": "raschkamlbook"
  },
  "language_info": {
   "codemirror_mode": {
    "name": "ipython",
    "version": 3
   },
   "file_extension": ".py",
   "mimetype": "text/x-python",
   "name": "python",
   "nbconvert_exporter": "python",
   "pygments_lexer": "ipython3",
   "version": "3.9.13"
  }
 },
 "nbformat": 4,
 "nbformat_minor": 5
}
