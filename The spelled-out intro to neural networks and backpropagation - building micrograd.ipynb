{
 "cells": [
  {
   "cell_type": "code",
   "execution_count": 1,
   "metadata": {},
   "outputs": [],
   "source": [
    "from micrograd.engine import Value"
   ]
  },
  {
   "cell_type": "code",
   "execution_count": 2,
   "metadata": {},
   "outputs": [],
   "source": [
    "# a = Value(-4.0)\n",
    "# b = Value(2.0)\n",
    "# c = a + b\n",
    "# d = a * b + b**3\n",
    "# c += c + 1\n",
    "# c += 1 + c + (-a)\n",
    "# d += d * 2 + (b + a).relu()\n",
    "# d += 3 * d + (b - a).relu()\n",
    "# e = c - d\n",
    "# f = e**2\n",
    "# g = f / 2.0\n",
    "# g += 10.0 / f"
   ]
  },
  {
   "cell_type": "code",
   "execution_count": 3,
   "metadata": {},
   "outputs": [],
   "source": [
    "import math\n",
    "import numpy as np\n",
    "import matplotlib.pyplot as plt\n",
    "%matplotlib inline"
   ]
  },
  {
   "cell_type": "code",
   "execution_count": 4,
   "metadata": {},
   "outputs": [],
   "source": [
    "def f(x):\n",
    "    return 3 * x ** 2 - 4 * x + 5"
   ]
  },
  {
   "cell_type": "code",
   "execution_count": 5,
   "metadata": {},
   "outputs": [
    {
     "data": {
      "text/plain": [
       "20.0"
      ]
     },
     "execution_count": 5,
     "metadata": {},
     "output_type": "execute_result"
    }
   ],
   "source": [
    "f(3.0)"
   ]
  },
  {
   "cell_type": "code",
   "execution_count": null,
   "metadata": {},
   "outputs": [],
   "source": []
  },
  {
   "cell_type": "code",
   "execution_count": 6,
   "metadata": {},
   "outputs": [
    {
     "data": {
      "text/plain": [
       "[<matplotlib.lines.Line2D at 0x1835632be20>]"
      ]
     },
     "execution_count": 6,
     "metadata": {},
     "output_type": "execute_result"
    },
    {
     "data": {
      "image/png": "[encoded data removed]",
      "text/plain": [
       "<Figure size 640x480 with 1 Axes>"
      ]
     },
     "metadata": {},
     "output_type": "display_data"
    }
   ],
   "source": [
    "xs = np.arange(-14, 16, 0.25)\n",
    "ys = f(xs)\n",
    "plt.plot(xs, ys)"
   ]
  },
  {
   "cell_type": "code",
   "execution_count": 7,
   "metadata": {},
   "outputs": [
    {
     "data": {
      "text/plain": [
       "14.000300000063248"
      ]
     },
     "execution_count": 7,
     "metadata": {},
     "output_type": "execute_result"
    }
   ],
   "source": [
    "h = 0.0001\n",
    "x = 3.0\n",
    "(f(x + h) - f(x)) / h"
   ]
  },
  {
   "cell_type": "code",
   "execution_count": 8,
   "metadata": {},
   "outputs": [
    {
     "name": "stdout",
     "output_type": "stream",
     "text": [
      "4.0\n"
     ]
    }
   ],
   "source": [
    "a = 2.0\n",
    "b = -3.0\n",
    "c = 10.0\n",
    "d = a * b + c\n",
    "print(d)"
   ]
  },
  {
   "cell_type": "code",
   "execution_count": 9,
   "metadata": {},
   "outputs": [
    {
     "name": "stdout",
     "output_type": "stream",
     "text": [
      "d1 4.0\n",
      "d2 3.999699999999999\n",
      "slope -3.000000000010772\n"
     ]
    }
   ],
   "source": [
    "h = 0.0001\n",
    "\n",
    "# inputs\n",
    "a = 2.0\n",
    "b = -3.0\n",
    "c = 10.0\n",
    "\n",
    "d1 = a * b + c\n",
    "a += h\n",
    "d2 = a * b + c\n",
    "\n",
    "print('d1', d1)\n",
    "print('d2', d2)\n",
    "print('slope', (d2 - d1) / h)"
   ]
  },
  {
   "cell_type": "code",
   "execution_count": 10,
   "metadata": {},
   "outputs": [
    {
     "name": "stdout",
     "output_type": "stream",
     "text": [
      "d1 4.0\n",
      "d2 4.0002\n",
      "slope 2.0000000000042206\n"
     ]
    }
   ],
   "source": [
    "h = 0.0001\n",
    "\n",
    "# inputs\n",
    "a = 2.0\n",
    "b = -3.0\n",
    "c = 10.0\n",
    "\n",
    "d1 = a * b + c\n",
    "b += h\n",
    "d2 = a * b + c\n",
    "\n",
    "print('d1', d1)\n",
    "print('d2', d2)\n",
    "print('slope', (d2 - d1) / h)"
   ]
  },
  {
   "cell_type": "code",
   "execution_count": 11,
   "metadata": {},
   "outputs": [
    {
     "name": "stdout",
     "output_type": "stream",
     "text": [
      "d1 4.0\n",
      "d2 4.0001\n",
      "slope 0.9999999999976694\n"
     ]
    }
   ],
   "source": [
    "h = 0.0001\n",
    "\n",
    "# inputs\n",
    "a = 2.0\n",
    "b = -3.0\n",
    "c = 10.0\n",
    "\n",
    "d1 = a * b + c\n",
    "c += h\n",
    "d2 = a * b + c\n",
    "\n",
    "print('d1', d1)\n",
    "print('d2', d2)\n",
    "print('slope', (d2 - d1) / h)"
   ]
  },
  {
   "cell_type": "code",
   "execution_count": 55,
   "metadata": {},
   "outputs": [
    {
     "data": {
      "text/plain": [
       "Value(data=-8.0)"
      ]
     },
     "execution_count": 55,
     "metadata": {},
     "output_type": "execute_result"
    }
   ],
   "source": [
    "class Value:\n",
    "    \n",
    "    def __init__(self, data, _children=(), _op='', label=''):\n",
    "        self.data = data\n",
    "        self.grad = 0.0\n",
    "        self._backward = lambda: None \n",
    "        self._prev = set(_children)\n",
    "        self._op = _op\n",
    "        self.label = label\n",
    "        \n",
    "    def __repr__(self):\n",
    "        return f\"Value(data={self.data})\"\n",
    "    \n",
    "    def __add__(self, other):\n",
    "        out = Value(self.data + other.data, (self, other), '+')\n",
    "        return out\n",
    "    \n",
    "        def _backward():\n",
    "            self.grad = 1.0 * out.grad\n",
    "            other.grad = 1.0 * out.grad\n",
    "        out._backward = _backward()\n",
    "        \n",
    "        return out\n",
    "    \n",
    "    def __mul__(self, other):\n",
    "        out = Value(self.data * other.data, (self, other), '*')\n",
    "        \n",
    "        def _backward():\n",
    "            self.grad = other.grad * out.grad\n",
    "            other.grad = self.grad * out.grad\n",
    "        out._backward = _backward()\n",
    "        \n",
    "        return out\n",
    "    \n",
    "    def tanh(self):\n",
    "        x = self.data\n",
    "        t = (math.exp(2 * x) - 1) / (math.exp(2*x) + 1)\n",
    "        out = Value(t, (self,), 'tanh')\n",
    "        \n",
    "        def _backward():\n",
    "            self.grad = (1 - tanh(n)**2) * out.grad\n",
    "        out._backward = _backward()\n",
    "        \n",
    "        return out\n",
    "    \n",
    "\n",
    "a = Value(2.0, label='a')\n",
    "b = Value(-3.0, label='b')\n",
    "c = Value(10.0, label='c')\n",
    "e = a * b; e.label = 'e'\n",
    "d = e + c; d.label = 'd'\n",
    "f = Value(-2.0, label='f')\n",
    "L = d * f; L.label = 'L'\n",
    "L1 = L.data\n",
    "L\n"
   ]
  },
  {
   "cell_type": "code",
   "execution_count": 13,
   "metadata": {},
   "outputs": [
    {
     "data": {
      "text/plain": [
       "{Value(data=-6.0), Value(data=10.0)}"
      ]
     },
     "execution_count": 13,
     "metadata": {},
     "output_type": "execute_result"
    }
   ],
   "source": [
    "d._prev"
   ]
  },
  {
   "cell_type": "code",
   "execution_count": 14,
   "metadata": {},
   "outputs": [
    {
     "data": {
      "text/plain": [
       "'+'"
      ]
     },
     "execution_count": 14,
     "metadata": {},
     "output_type": "execute_result"
    }
   ],
   "source": [
    "d._op"
   ]
  },
  {
   "cell_type": "code",
   "execution_count": 56,
   "metadata": {},
   "outputs": [],
   "source": [
    "\n",
    "from graphviz import Digraph\n",
    "\n",
    "def trace(root):\n",
    "    # builds a set of all nodes and edges in graph\n",
    "    nodes, edges = set(), set()\n",
    "    def build(v):\n",
    "        if v not in nodes:\n",
    "            nodes.add(v)\n",
    "            for child in v._prev:\n",
    "                edges.add((child, v))\n",
    "                build(child)\n",
    "    build(root)\n",
    "    return nodes, edges\n",
    "\n",
    "def draw_dot(root):\n",
    "    dot = Digraph(format='svg', graph_attr={'rankdir': 'LR'}) # LR - left to right\n",
    "    \n",
    "    nodes, edges = trace(root)\n",
    "    for n in nodes:\n",
    "        uid = str(id(n))\n",
    "        # for any value in the graph, create a rectangular ('record') node for it\n",
    "        dot.node(name = uid, label = \"{ %s | data %.4f | grad %.4f }\" % (n.label, n.data, n.grad), shape='record')\n",
    "        if n._op:\n",
    "            # if this value is a result of some operations, create an op node for it\n",
    "            dot.node(name = uid + n._op, label = n._op)\n",
    "            # and connect this node to it\n",
    "            dot.edge(uid + n._op, uid)\n",
    "            \n",
    "    for n1, n2 in edges:\n",
    "        # connect n1 to the op node of n2\n",
    "        dot.edge(str(id(n1)), str(id(n2)) + n2._op)\n",
    "        \n",
    "    return dot"
   ]
  },
  {
   "cell_type": "code",
   "execution_count": 47,
   "metadata": {},
   "outputs": [
    {
     "data": {
      "image/svg+xml": [
       "<?xml version=\"1.0\" encoding=\"UTF-8\" standalone=\"no\"?>\n",
       "<!DOCTYPE svg PUBLIC \"-//W3C//DTD SVG 1.1//EN\"\n",
       " \"http://www.w3.org/Graphics/SVG/1.1/DTD/svg11.dtd\">\n",
       "<!-- Generated by graphviz version 2.43.0 (0)\n",
       " -->\n",
       "<!-- Pages: 1 -->\n",
       "<svg width=\"1157pt\" height=\"128pt\"\n",
       " viewBox=\"0.00 0.00 1157.00 128.00\" xmlns=\"http://www.w3.org/2000/svg\" xmlns:xlink=\"http://www.w3.org/1999/xlink\">\n",
       "<g id=\"graph0\" class=\"graph\" transform=\"scale(1 1) rotate(0) translate(4 124)\">\n",
       "<polygon fill=\"white\" stroke=\"none\" points=\"-4,4 -4,-124 1153,-124 1153,4 -4,4\"/>\n",
       "<!-- 1663600282640 -->\n",
       "<g id=\"node1\" class=\"node\">\n",
       "<title>1663600282640</title>\n",
       "<polygon fill=\"none\" stroke=\"black\" points=\"639,-82.5 639,-118.5 829,-118.5 829,-82.5 639,-82.5\"/>\n",
       "<text text-anchor=\"middle\" x=\"649.5\" y=\"-96.8\" font-family=\"Times New Roman,serif\" font-size=\"14.00\">f</text>\n",
       "<polyline fill=\"none\" stroke=\"black\" points=\"660,-82.5 660,-118.5\"/>\n",
       "<text text-anchor=\"middle\" x=\"703\" y=\"-96.8\" font-family=\"Times New Roman,serif\" font-size=\"14.00\">data &#45;2.0000</text>\n",
       "<polyline fill=\"none\" stroke=\"black\" points=\"746,-82.5 746,-118.5\"/>\n",
       "<text text-anchor=\"middle\" x=\"787.5\" y=\"-96.8\" font-family=\"Times New Roman,serif\" font-size=\"14.00\">grad 0.0000</text>\n",
       "</g>\n",
       "<!-- 1663600280192* -->\n",
       "<g id=\"node3\" class=\"node\">\n",
       "<title>1663600280192*</title>\n",
       "<ellipse fill=\"none\" stroke=\"black\" cx=\"892\" cy=\"-72.5\" rx=\"27\" ry=\"18\"/>\n",
       "<text text-anchor=\"middle\" x=\"892\" y=\"-68.8\" font-family=\"Times New Roman,serif\" font-size=\"14.00\">*</text>\n",
       "</g>\n",
       "<!-- 1663600282640&#45;&gt;1663600280192* -->\n",
       "<g id=\"edge9\" class=\"edge\">\n",
       "<title>1663600282640&#45;&gt;1663600280192*</title>\n",
       "<path fill=\"none\" stroke=\"black\" d=\"M829.34,-83.57C838.62,-81.9 847.58,-80.29 855.66,-78.84\"/>\n",
       "<polygon fill=\"black\" stroke=\"black\" points=\"856.49,-82.25 865.72,-77.04 855.26,-75.36 856.49,-82.25\"/>\n",
       "</g>\n",
       "<!-- 1663600280192 -->\n",
       "<g id=\"node2\" class=\"node\">\n",
       "<title>1663600280192</title>\n",
       "<polygon fill=\"none\" stroke=\"black\" points=\"955,-54.5 955,-90.5 1149,-90.5 1149,-54.5 955,-54.5\"/>\n",
       "<text text-anchor=\"middle\" x=\"967.5\" y=\"-68.8\" font-family=\"Times New Roman,serif\" font-size=\"14.00\">L</text>\n",
       "<polyline fill=\"none\" stroke=\"black\" points=\"980,-54.5 980,-90.5\"/>\n",
       "<text text-anchor=\"middle\" x=\"1023\" y=\"-68.8\" font-family=\"Times New Roman,serif\" font-size=\"14.00\">data &#45;8.0000</text>\n",
       "<polyline fill=\"none\" stroke=\"black\" points=\"1066,-54.5 1066,-90.5\"/>\n",
       "<text text-anchor=\"middle\" x=\"1107.5\" y=\"-68.8\" font-family=\"Times New Roman,serif\" font-size=\"14.00\">grad 0.0000</text>\n",
       "</g>\n",
       "<!-- 1663600280192*&#45;&gt;1663600280192 -->\n",
       "<g id=\"edge1\" class=\"edge\">\n",
       "<title>1663600280192*&#45;&gt;1663600280192</title>\n",
       "<path fill=\"none\" stroke=\"black\" d=\"M919.09,-72.5C926.62,-72.5 935.34,-72.5 944.63,-72.5\"/>\n",
       "<polygon fill=\"black\" stroke=\"black\" points=\"944.92,-76 954.92,-72.5 944.92,-69 944.92,-76\"/>\n",
       "</g>\n",
       "<!-- 1663600281776 -->\n",
       "<g id=\"node4\" class=\"node\">\n",
       "<title>1663600281776</title>\n",
       "<polygon fill=\"none\" stroke=\"black\" points=\"320,-55.5 320,-91.5 512,-91.5 512,-55.5 320,-55.5\"/>\n",
       "<text text-anchor=\"middle\" x=\"331.5\" y=\"-69.8\" font-family=\"Times New Roman,serif\" font-size=\"14.00\">e</text>\n",
       "<polyline fill=\"none\" stroke=\"black\" points=\"343,-55.5 343,-91.5\"/>\n",
       "<text text-anchor=\"middle\" x=\"386\" y=\"-69.8\" font-family=\"Times New Roman,serif\" font-size=\"14.00\">data &#45;6.0000</text>\n",
       "<polyline fill=\"none\" stroke=\"black\" points=\"429,-55.5 429,-91.5\"/>\n",
       "<text text-anchor=\"middle\" x=\"470.5\" y=\"-69.8\" font-family=\"Times New Roman,serif\" font-size=\"14.00\">grad 0.0000</text>\n",
       "</g>\n",
       "<!-- 1663600281488+ -->\n",
       "<g id=\"node8\" class=\"node\">\n",
       "<title>1663600281488+</title>\n",
       "<ellipse fill=\"none\" stroke=\"black\" cx=\"576\" cy=\"-45.5\" rx=\"27\" ry=\"18\"/>\n",
       "<text text-anchor=\"middle\" x=\"576\" y=\"-41.8\" font-family=\"Times New Roman,serif\" font-size=\"14.00\">+</text>\n",
       "</g>\n",
       "<!-- 1663600281776&#45;&gt;1663600281488+ -->\n",
       "<g id=\"edge4\" class=\"edge\">\n",
       "<title>1663600281776&#45;&gt;1663600281488+</title>\n",
       "<path fill=\"none\" stroke=\"black\" d=\"M512.1,-56.65C521.84,-54.92 531.24,-53.25 539.68,-51.76\"/>\n",
       "<polygon fill=\"black\" stroke=\"black\" points=\"540.56,-55.16 549.79,-49.97 539.34,-48.27 540.56,-55.16\"/>\n",
       "</g>\n",
       "<!-- 1663600281776* -->\n",
       "<g id=\"node5\" class=\"node\">\n",
       "<title>1663600281776*</title>\n",
       "<ellipse fill=\"none\" stroke=\"black\" cx=\"256\" cy=\"-73.5\" rx=\"27\" ry=\"18\"/>\n",
       "<text text-anchor=\"middle\" x=\"256\" y=\"-69.8\" font-family=\"Times New Roman,serif\" font-size=\"14.00\">*</text>\n",
       "</g>\n",
       "<!-- 1663600281776*&#45;&gt;1663600281776 -->\n",
       "<g id=\"edge2\" class=\"edge\">\n",
       "<title>1663600281776*&#45;&gt;1663600281776</title>\n",
       "<path fill=\"none\" stroke=\"black\" d=\"M283.09,-73.5C290.9,-73.5 299.98,-73.5 309.66,-73.5\"/>\n",
       "<polygon fill=\"black\" stroke=\"black\" points=\"309.93,-77 319.93,-73.5 309.93,-70 309.93,-77\"/>\n",
       "</g>\n",
       "<!-- 1663600280384 -->\n",
       "<g id=\"node6\" class=\"node\">\n",
       "<title>1663600280384</title>\n",
       "<polygon fill=\"none\" stroke=\"black\" points=\"319,-0.5 319,-36.5 513,-36.5 513,-0.5 319,-0.5\"/>\n",
       "<text text-anchor=\"middle\" x=\"330.5\" y=\"-14.8\" font-family=\"Times New Roman,serif\" font-size=\"14.00\">c</text>\n",
       "<polyline fill=\"none\" stroke=\"black\" points=\"342,-0.5 342,-36.5\"/>\n",
       "<text text-anchor=\"middle\" x=\"386\" y=\"-14.8\" font-family=\"Times New Roman,serif\" font-size=\"14.00\">data 10.0000</text>\n",
       "<polyline fill=\"none\" stroke=\"black\" points=\"430,-0.5 430,-36.5\"/>\n",
       "<text text-anchor=\"middle\" x=\"471.5\" y=\"-14.8\" font-family=\"Times New Roman,serif\" font-size=\"14.00\">grad 0.0000</text>\n",
       "</g>\n",
       "<!-- 1663600280384&#45;&gt;1663600281488+ -->\n",
       "<g id=\"edge6\" class=\"edge\">\n",
       "<title>1663600280384&#45;&gt;1663600281488+</title>\n",
       "<path fill=\"none\" stroke=\"black\" d=\"M513.01,-34.91C522.35,-36.5 531.37,-38.04 539.49,-39.43\"/>\n",
       "<polygon fill=\"black\" stroke=\"black\" points=\"539.16,-42.93 549.6,-41.16 540.34,-36.03 539.16,-42.93\"/>\n",
       "</g>\n",
       "<!-- 1663600281488 -->\n",
       "<g id=\"node7\" class=\"node\">\n",
       "<title>1663600281488</title>\n",
       "<polygon fill=\"none\" stroke=\"black\" points=\"640,-27.5 640,-63.5 828,-63.5 828,-27.5 640,-27.5\"/>\n",
       "<text text-anchor=\"middle\" x=\"652\" y=\"-41.8\" font-family=\"Times New Roman,serif\" font-size=\"14.00\">d</text>\n",
       "<polyline fill=\"none\" stroke=\"black\" points=\"664,-27.5 664,-63.5\"/>\n",
       "<text text-anchor=\"middle\" x=\"704.5\" y=\"-41.8\" font-family=\"Times New Roman,serif\" font-size=\"14.00\">data 4.0000</text>\n",
       "<polyline fill=\"none\" stroke=\"black\" points=\"745,-27.5 745,-63.5\"/>\n",
       "<text text-anchor=\"middle\" x=\"786.5\" y=\"-41.8\" font-family=\"Times New Roman,serif\" font-size=\"14.00\">grad 0.0000</text>\n",
       "</g>\n",
       "<!-- 1663600281488&#45;&gt;1663600280192* -->\n",
       "<g id=\"edge5\" class=\"edge\">\n",
       "<title>1663600281488&#45;&gt;1663600280192*</title>\n",
       "<path fill=\"none\" stroke=\"black\" d=\"M828.45,-61.67C838.03,-63.33 847.29,-64.93 855.61,-66.37\"/>\n",
       "<polygon fill=\"black\" stroke=\"black\" points=\"855.16,-69.85 865.61,-68.11 856.35,-62.95 855.16,-69.85\"/>\n",
       "</g>\n",
       "<!-- 1663600281488+&#45;&gt;1663600281488 -->\n",
       "<g id=\"edge3\" class=\"edge\">\n",
       "<title>1663600281488+&#45;&gt;1663600281488</title>\n",
       "<path fill=\"none\" stroke=\"black\" d=\"M603.11,-45.5C610.9,-45.5 619.95,-45.5 629.59,-45.5\"/>\n",
       "<polygon fill=\"black\" stroke=\"black\" points=\"629.81,-49 639.81,-45.5 629.81,-42 629.81,-49\"/>\n",
       "</g>\n",
       "<!-- 1663600281056 -->\n",
       "<g id=\"node9\" class=\"node\">\n",
       "<title>1663600281056</title>\n",
       "<polygon fill=\"none\" stroke=\"black\" points=\"0,-83.5 0,-119.5 193,-119.5 193,-83.5 0,-83.5\"/>\n",
       "<text text-anchor=\"middle\" x=\"12\" y=\"-97.8\" font-family=\"Times New Roman,serif\" font-size=\"14.00\">b</text>\n",
       "<polyline fill=\"none\" stroke=\"black\" points=\"24,-83.5 24,-119.5\"/>\n",
       "<text text-anchor=\"middle\" x=\"67\" y=\"-97.8\" font-family=\"Times New Roman,serif\" font-size=\"14.00\">data &#45;3.0000</text>\n",
       "<polyline fill=\"none\" stroke=\"black\" points=\"110,-83.5 110,-119.5\"/>\n",
       "<text text-anchor=\"middle\" x=\"151.5\" y=\"-97.8\" font-family=\"Times New Roman,serif\" font-size=\"14.00\">grad 0.0000</text>\n",
       "</g>\n",
       "<!-- 1663600281056&#45;&gt;1663600281776* -->\n",
       "<g id=\"edge7\" class=\"edge\">\n",
       "<title>1663600281056&#45;&gt;1663600281776*</title>\n",
       "<path fill=\"none\" stroke=\"black\" d=\"M193.2,-84.49C202.52,-82.83 211.5,-81.23 219.6,-79.79\"/>\n",
       "<polygon fill=\"black\" stroke=\"black\" points=\"220.45,-83.2 229.68,-78 219.23,-76.31 220.45,-83.2\"/>\n",
       "</g>\n",
       "<!-- 1663600283120 -->\n",
       "<g id=\"node10\" class=\"node\">\n",
       "<title>1663600283120</title>\n",
       "<polygon fill=\"none\" stroke=\"black\" points=\"3,-28.5 3,-64.5 190,-64.5 190,-28.5 3,-28.5\"/>\n",
       "<text text-anchor=\"middle\" x=\"14.5\" y=\"-42.8\" font-family=\"Times New Roman,serif\" font-size=\"14.00\">a</text>\n",
       "<polyline fill=\"none\" stroke=\"black\" points=\"26,-28.5 26,-64.5\"/>\n",
       "<text text-anchor=\"middle\" x=\"66.5\" y=\"-42.8\" font-family=\"Times New Roman,serif\" font-size=\"14.00\">data 2.0000</text>\n",
       "<polyline fill=\"none\" stroke=\"black\" points=\"107,-28.5 107,-64.5\"/>\n",
       "<text text-anchor=\"middle\" x=\"148.5\" y=\"-42.8\" font-family=\"Times New Roman,serif\" font-size=\"14.00\">grad 0.0000</text>\n",
       "</g>\n",
       "<!-- 1663600283120&#45;&gt;1663600281776* -->\n",
       "<g id=\"edge8\" class=\"edge\">\n",
       "<title>1663600283120&#45;&gt;1663600281776*</title>\n",
       "<path fill=\"none\" stroke=\"black\" d=\"M190.03,-62.36C200.52,-64.16 210.68,-65.9 219.72,-67.45\"/>\n",
       "<polygon fill=\"black\" stroke=\"black\" points=\"219.33,-70.94 229.77,-69.18 220.51,-64.04 219.33,-70.94\"/>\n",
       "</g>\n",
       "</g>\n",
       "</svg>\n"
      ],
      "text/plain": [
       "<graphviz.graphs.Digraph at 0x183564a9e20>"
      ]
     },
     "execution_count": 47,
     "metadata": {},
     "output_type": "execute_result"
    }
   ],
   "source": [
    "draw_dot(L)"
   ]
  },
  {
   "cell_type": "code",
   "execution_count": 17,
   "metadata": {},
   "outputs": [],
   "source": [
    "# a.grad = 6\n",
    "# b.grad = -4\n",
    "# c.grad = -2\n",
    "# d.grad = -2\n",
    "# e.grad = -2\n",
    "# f.grad = 4\n",
    "# L.grad = 1"
   ]
  },
  {
   "cell_type": "code",
   "execution_count": 18,
   "metadata": {},
   "outputs": [],
   "source": [
    "# a.data += 0.01 * a.grad\n",
    "# b.data += 0.01 * b.grad\n",
    "# c.data += 0.01 * c.grad\n",
    "# f.data += 0.01 * f.grad\n",
    "\n",
    "# e = a * b\n",
    "# d = e + c\n",
    "# L = d * f\n",
    "\n",
    "# print(L.data)"
   ]
  },
  {
   "cell_type": "code",
   "execution_count": 57,
   "metadata": {},
   "outputs": [
    {
     "name": "stdout",
     "output_type": "stream",
     "text": [
      "-3.9999999999995595\n"
     ]
    }
   ],
   "source": [
    "def lol():\n",
    "    \n",
    "    h = 0.001\n",
    "    \n",
    "    a = Value(2.0, label='a')\n",
    "    b = Value(-3.0, label='b')\n",
    "    c = Value(10.0, label='c')\n",
    "    e = a * b; e.label = 'e'\n",
    "    d = e + c; d.label = 'd'\n",
    "    f = Value(-2.0, label='f')\n",
    "    L = d * f; L.label = 'L'\n",
    "    L1 = L.data\n",
    "    \n",
    "    \n",
    "    a = Value(2.0, label='a')\n",
    "    b = Value(-3.0, label='b')\n",
    "    c = Value(10.0, label='c')\n",
    "    b.data += h\n",
    "    e = a * b; e.label = 'e'\n",
    "    d = e + c; d.label = 'd'\n",
    "    f = Value(-2.0, label='f')\n",
    "    L = d * f; L.label = 'L'\n",
    "    L2 = L.data\n",
    "    \n",
    "    print((L2 - L1) / h)\n",
    "    \n",
    "\n",
    "lol()"
   ]
  },
  {
   "cell_type": "code",
   "execution_count": 20,
   "metadata": {},
   "outputs": [
    {
     "data": {
      "image/png": "[encoded data removed]",
      "text/plain": [
       "<Figure size 432x288 with 1 Axes>"
      ]
     },
     "metadata": {
      "needs_background": "light"
     },
     "output_type": "display_data"
    }
   ],
   "source": [
    "plt.plot(np.arange(-5, 5, 0.2), np.tanh(np.arange(-5, 5, 0.2))); plt.grid()"
   ]
  },
  {
   "cell_type": "code",
   "execution_count": 58,
   "metadata": {},
   "outputs": [
    {
     "ename": "NameError",
     "evalue": "name 'tanh' is not defined",
     "output_type": "error",
     "traceback": [
      "\u001b[1;31m---------------------------------------------------------------------------\u001b[0m",
      "\u001b[1;31mNameError\u001b[0m                                 Traceback (most recent call last)",
      "\u001b[1;32m<ipython-input-58-bc469756f06b>\u001b[0m in \u001b[0;36m<module>\u001b[1;34m\u001b[0m\n\u001b[0;32m     12\u001b[0m \u001b[0mx1w1x2w2\u001b[0m \u001b[1;33m=\u001b[0m \u001b[0mx1w1\u001b[0m \u001b[1;33m+\u001b[0m \u001b[0mx2w2\u001b[0m\u001b[1;33m;\u001b[0m \u001b[0mx1w1x2w2\u001b[0m\u001b[1;33m.\u001b[0m\u001b[0mlabel\u001b[0m \u001b[1;33m=\u001b[0m \u001b[1;34m'x1*w1 + x2*w2'\u001b[0m\u001b[1;33m\u001b[0m\u001b[1;33m\u001b[0m\u001b[0m\n\u001b[0;32m     13\u001b[0m \u001b[0mn\u001b[0m \u001b[1;33m=\u001b[0m \u001b[0mx1w1x2w2\u001b[0m \u001b[1;33m+\u001b[0m \u001b[0mb\u001b[0m\u001b[1;33m;\u001b[0m \u001b[0mn\u001b[0m\u001b[1;33m.\u001b[0m\u001b[0mlabel\u001b[0m \u001b[1;33m=\u001b[0m \u001b[1;34m'n'\u001b[0m\u001b[1;33m\u001b[0m\u001b[1;33m\u001b[0m\u001b[0m\n\u001b[1;32m---> 14\u001b[1;33m \u001b[0mo\u001b[0m \u001b[1;33m=\u001b[0m \u001b[0mn\u001b[0m\u001b[1;33m.\u001b[0m\u001b[0mtanh\u001b[0m\u001b[1;33m(\u001b[0m\u001b[1;33m)\u001b[0m\u001b[1;33m;\u001b[0m \u001b[0mo\u001b[0m\u001b[1;33m.\u001b[0m\u001b[0mlabel\u001b[0m \u001b[1;33m=\u001b[0m \u001b[1;34m'o'\u001b[0m\u001b[1;33m\u001b[0m\u001b[1;33m\u001b[0m\u001b[0m\n\u001b[0m",
      "\u001b[1;32m<ipython-input-55-5891c1f4f7a0>\u001b[0m in \u001b[0;36mtanh\u001b[1;34m(self)\u001b[0m\n\u001b[0;32m     40\u001b[0m         \u001b[1;32mdef\u001b[0m \u001b[0m_backward\u001b[0m\u001b[1;33m(\u001b[0m\u001b[1;33m)\u001b[0m\u001b[1;33m:\u001b[0m\u001b[1;33m\u001b[0m\u001b[1;33m\u001b[0m\u001b[0m\n\u001b[0;32m     41\u001b[0m             \u001b[0mself\u001b[0m\u001b[1;33m.\u001b[0m\u001b[0mgrad\u001b[0m \u001b[1;33m=\u001b[0m \u001b[1;33m(\u001b[0m\u001b[1;36m1\u001b[0m \u001b[1;33m-\u001b[0m \u001b[0mtanh\u001b[0m\u001b[1;33m(\u001b[0m\u001b[0mn\u001b[0m\u001b[1;33m)\u001b[0m\u001b[1;33m**\u001b[0m\u001b[1;36m2\u001b[0m\u001b[1;33m)\u001b[0m \u001b[1;33m*\u001b[0m \u001b[0mout\u001b[0m\u001b[1;33m.\u001b[0m\u001b[0mgrad\u001b[0m\u001b[1;33m\u001b[0m\u001b[1;33m\u001b[0m\u001b[0m\n\u001b[1;32m---> 42\u001b[1;33m         \u001b[0mout\u001b[0m\u001b[1;33m.\u001b[0m\u001b[0m_backward\u001b[0m \u001b[1;33m=\u001b[0m \u001b[0m_backward\u001b[0m\u001b[1;33m(\u001b[0m\u001b[1;33m)\u001b[0m\u001b[1;33m\u001b[0m\u001b[1;33m\u001b[0m\u001b[0m\n\u001b[0m\u001b[0;32m     43\u001b[0m \u001b[1;33m\u001b[0m\u001b[0m\n\u001b[0;32m     44\u001b[0m         \u001b[1;32mreturn\u001b[0m \u001b[0mout\u001b[0m\u001b[1;33m\u001b[0m\u001b[1;33m\u001b[0m\u001b[0m\n",
      "\u001b[1;32m<ipython-input-55-5891c1f4f7a0>\u001b[0m in \u001b[0;36m_backward\u001b[1;34m()\u001b[0m\n\u001b[0;32m     39\u001b[0m \u001b[1;33m\u001b[0m\u001b[0m\n\u001b[0;32m     40\u001b[0m         \u001b[1;32mdef\u001b[0m \u001b[0m_backward\u001b[0m\u001b[1;33m(\u001b[0m\u001b[1;33m)\u001b[0m\u001b[1;33m:\u001b[0m\u001b[1;33m\u001b[0m\u001b[1;33m\u001b[0m\u001b[0m\n\u001b[1;32m---> 41\u001b[1;33m             \u001b[0mself\u001b[0m\u001b[1;33m.\u001b[0m\u001b[0mgrad\u001b[0m \u001b[1;33m=\u001b[0m \u001b[1;33m(\u001b[0m\u001b[1;36m1\u001b[0m \u001b[1;33m-\u001b[0m \u001b[0mtanh\u001b[0m\u001b[1;33m(\u001b[0m\u001b[0mn\u001b[0m\u001b[1;33m)\u001b[0m\u001b[1;33m**\u001b[0m\u001b[1;36m2\u001b[0m\u001b[1;33m)\u001b[0m \u001b[1;33m*\u001b[0m \u001b[0mout\u001b[0m\u001b[1;33m.\u001b[0m\u001b[0mgrad\u001b[0m\u001b[1;33m\u001b[0m\u001b[1;33m\u001b[0m\u001b[0m\n\u001b[0m\u001b[0;32m     42\u001b[0m         \u001b[0mout\u001b[0m\u001b[1;33m.\u001b[0m\u001b[0m_backward\u001b[0m \u001b[1;33m=\u001b[0m \u001b[0m_backward\u001b[0m\u001b[1;33m(\u001b[0m\u001b[1;33m)\u001b[0m\u001b[1;33m\u001b[0m\u001b[1;33m\u001b[0m\u001b[0m\n\u001b[0;32m     43\u001b[0m \u001b[1;33m\u001b[0m\u001b[0m\n",
      "\u001b[1;31mNameError\u001b[0m: name 'tanh' is not defined"
     ]
    }
   ],
   "source": [
    "# inputs x1,x2\n",
    "x1 = Value(2.0, label='x1')\n",
    "x2 = Value(0.0, label='x2')\n",
    "# weights w1,w2\n",
    "w1 = Value(-3.0, label='w1')\n",
    "w2 = Value(1.0, label='w2')\n",
    "# bias of the neuron\n",
    "b = Value(6.8813735870195432, label='b')\n",
    "# x1*w1 + x2*w2 + b\n",
    "x1w1 = x1*w1; x1w1.label = 'x1*w1'\n",
    "x2w2 = x2*w2; x2w2.label = 'x2*w2'\n",
    "x1w1x2w2 = x1w1 + x2w2; x1w1x2w2.label = 'x1*w1 + x2*w2'\n",
    "n = x1w1x2w2 + b; n.label = 'n'\n",
    "o = n.tanh(); o.label = 'o'\n"
   ]
  },
  {
   "cell_type": "code",
   "execution_count": 48,
   "metadata": {},
   "outputs": [
    {
     "data": {
      "image/svg+xml": [
       "<?xml version=\"1.0\" encoding=\"UTF-8\" standalone=\"no\"?>\n",
       "<!DOCTYPE svg PUBLIC \"-//W3C//DTD SVG 1.1//EN\"\n",
       " \"http://www.w3.org/Graphics/SVG/1.1/DTD/svg11.dtd\">\n",
       "<!-- Generated by graphviz version 6.0.1 (20220911.1526)\n",
       " -->\n",
       "<!-- Pages: 1 -->\n",
       "<svg width=\"1586pt\" height=\"210pt\"\n",
       " viewBox=\"0.00 0.00 1586.00 210.00\" xmlns=\"http://www.w3.org/2000/svg\" xmlns:xlink=\"http://www.w3.org/1999/xlink\">\n",
       "<g id=\"graph0\" class=\"graph\" transform=\"scale(1 1) rotate(0) translate(4 206)\">\n",
       "<polygon fill=\"white\" stroke=\"none\" points=\"-4,4 -4,-206 1582,-206 1582,4 -4,4\"/>\n",
       "<!-- 1663600184864 -->\n",
       "<g id=\"node1\" class=\"node\">\n",
       "<title>1663600184864</title>\n",
       "<polygon fill=\"none\" stroke=\"black\" points=\"1077,-109.5 1077,-145.5 1264,-145.5 1264,-109.5 1077,-109.5\"/>\n",
       "<text text-anchor=\"middle\" x=\"1088.5\" y=\"-123.8\" font-family=\"Times New Roman,serif\" font-size=\"14.00\">n</text>\n",
       "<polyline fill=\"none\" stroke=\"black\" points=\"1100,-109.5 1100,-145.5\"/>\n",
       "<text text-anchor=\"middle\" x=\"1140.5\" y=\"-123.8\" font-family=\"Times New Roman,serif\" font-size=\"14.00\">data 0.8814</text>\n",
       "<polyline fill=\"none\" stroke=\"black\" points=\"1181,-109.5 1181,-145.5\"/>\n",
       "<text text-anchor=\"middle\" x=\"1222.5\" y=\"-123.8\" font-family=\"Times New Roman,serif\" font-size=\"14.00\">grad 0.5000</text>\n",
       "</g>\n",
       "<!-- 1663600185008tanh -->\n",
       "<g id=\"node7\" class=\"node\">\n",
       "<title>1663600185008tanh</title>\n",
       "<ellipse fill=\"none\" stroke=\"black\" cx=\"1327\" cy=\"-127.5\" rx=\"27\" ry=\"18\"/>\n",
       "<text text-anchor=\"middle\" x=\"1327\" y=\"-123.8\" font-family=\"Times New Roman,serif\" font-size=\"14.00\">tanh</text>\n",
       "</g>\n",
       "<!-- 1663600184864&#45;&gt;1663600185008tanh -->\n",
       "<g id=\"edge9\" class=\"edge\">\n",
       "<title>1663600184864&#45;&gt;1663600185008tanh</title>\n",
       "<path fill=\"none\" stroke=\"black\" d=\"M1264.05,-127.5C1273.06,-127.5 1281.79,-127.5 1289.7,-127.5\"/>\n",
       "<polygon fill=\"black\" stroke=\"black\" points=\"1289.95,-131 1299.95,-127.5 1289.95,-124 1289.95,-131\"/>\n",
       "</g>\n",
       "<!-- 1663600184864+ -->\n",
       "<g id=\"node2\" class=\"node\">\n",
       "<title>1663600184864+</title>\n",
       "<ellipse fill=\"none\" stroke=\"black\" cx=\"1014\" cy=\"-127.5\" rx=\"27\" ry=\"18\"/>\n",
       "<text text-anchor=\"middle\" x=\"1014\" y=\"-123.8\" font-family=\"Times New Roman,serif\" font-size=\"14.00\">+</text>\n",
       "</g>\n",
       "<!-- 1663600184864+&#45;&gt;1663600184864 -->\n",
       "<g id=\"edge1\" class=\"edge\">\n",
       "<title>1663600184864+&#45;&gt;1663600184864</title>\n",
       "<path fill=\"none\" stroke=\"black\" d=\"M1041.21,-127.5C1048.73,-127.5 1057.43,-127.5 1066.67,-127.5\"/>\n",
       "<polygon fill=\"black\" stroke=\"black\" points=\"1066.89,-131 1076.89,-127.5 1066.89,-124 1066.89,-131\"/>\n",
       "</g>\n",
       "<!-- 1663600274016 -->\n",
       "<g id=\"node3\" class=\"node\">\n",
       "<title>1663600274016</title>\n",
       "<polygon fill=\"none\" stroke=\"black\" points=\"4,-165.5 4,-201.5 198,-201.5 198,-165.5 4,-165.5\"/>\n",
       "<text text-anchor=\"middle\" x=\"19\" y=\"-179.8\" font-family=\"Times New Roman,serif\" font-size=\"14.00\">x2</text>\n",
       "<polyline fill=\"none\" stroke=\"black\" points=\"34,-165.5 34,-201.5\"/>\n",
       "<text text-anchor=\"middle\" x=\"74.5\" y=\"-179.8\" font-family=\"Times New Roman,serif\" font-size=\"14.00\">data 0.0000</text>\n",
       "<polyline fill=\"none\" stroke=\"black\" points=\"115,-165.5 115,-201.5\"/>\n",
       "<text text-anchor=\"middle\" x=\"156.5\" y=\"-179.8\" font-family=\"Times New Roman,serif\" font-size=\"14.00\">grad 0.5000</text>\n",
       "</g>\n",
       "<!-- 1663562449776* -->\n",
       "<g id=\"node11\" class=\"node\">\n",
       "<title>1663562449776*</title>\n",
       "<ellipse fill=\"none\" stroke=\"black\" cx=\"265\" cy=\"-128.5\" rx=\"27\" ry=\"18\"/>\n",
       "<text text-anchor=\"middle\" x=\"265\" y=\"-124.8\" font-family=\"Times New Roman,serif\" font-size=\"14.00\">*</text>\n",
       "</g>\n",
       "<!-- 1663600274016&#45;&gt;1663562449776* -->\n",
       "<g id=\"edge6\" class=\"edge\">\n",
       "<title>1663600274016&#45;&gt;1663562449776*</title>\n",
       "<path fill=\"none\" stroke=\"black\" d=\"M174.26,-165.48C183.66,-162.7 193.11,-159.68 202,-156.5 212.53,-152.73 223.76,-147.91 233.72,-143.34\"/>\n",
       "<polygon fill=\"black\" stroke=\"black\" points=\"235.26,-146.49 242.83,-139.08 232.29,-140.15 235.26,-146.49\"/>\n",
       "</g>\n",
       "<!-- 1663600275072 -->\n",
       "<g id=\"node4\" class=\"node\">\n",
       "<title>1663600275072</title>\n",
       "<polygon fill=\"none\" stroke=\"black\" points=\"2.5,-110.5 2.5,-146.5 199.5,-146.5 199.5,-110.5 2.5,-110.5\"/>\n",
       "<text text-anchor=\"middle\" x=\"19\" y=\"-124.8\" font-family=\"Times New Roman,serif\" font-size=\"14.00\">w2</text>\n",
       "<polyline fill=\"none\" stroke=\"black\" points=\"35.5,-110.5 35.5,-146.5\"/>\n",
       "<text text-anchor=\"middle\" x=\"76\" y=\"-124.8\" font-family=\"Times New Roman,serif\" font-size=\"14.00\">data 1.0000</text>\n",
       "<polyline fill=\"none\" stroke=\"black\" points=\"116.5,-110.5 116.5,-146.5\"/>\n",
       "<text text-anchor=\"middle\" x=\"158\" y=\"-124.8\" font-family=\"Times New Roman,serif\" font-size=\"14.00\">grad 0.0000</text>\n",
       "</g>\n",
       "<!-- 1663600275072&#45;&gt;1663562449776* -->\n",
       "<g id=\"edge8\" class=\"edge\">\n",
       "<title>1663600275072&#45;&gt;1663562449776*</title>\n",
       "<path fill=\"none\" stroke=\"black\" d=\"M199.51,-128.5C209.51,-128.5 219.17,-128.5 227.82,-128.5\"/>\n",
       "<polygon fill=\"black\" stroke=\"black\" points=\"227.84,-132 237.84,-128.5 227.84,-125 227.84,-132\"/>\n",
       "</g>\n",
       "<!-- 1663600273536 -->\n",
       "<g id=\"node5\" class=\"node\">\n",
       "<title>1663600273536</title>\n",
       "<polygon fill=\"none\" stroke=\"black\" points=\"719.5,-137.5 719.5,-173.5 907.5,-173.5 907.5,-137.5 719.5,-137.5\"/>\n",
       "<text text-anchor=\"middle\" x=\"731.5\" y=\"-151.8\" font-family=\"Times New Roman,serif\" font-size=\"14.00\">b</text>\n",
       "<polyline fill=\"none\" stroke=\"black\" points=\"743.5,-137.5 743.5,-173.5\"/>\n",
       "<text text-anchor=\"middle\" x=\"784\" y=\"-151.8\" font-family=\"Times New Roman,serif\" font-size=\"14.00\">data 6.8814</text>\n",
       "<polyline fill=\"none\" stroke=\"black\" points=\"824.5,-137.5 824.5,-173.5\"/>\n",
       "<text text-anchor=\"middle\" x=\"866\" y=\"-151.8\" font-family=\"Times New Roman,serif\" font-size=\"14.00\">grad 0.0000</text>\n",
       "</g>\n",
       "<!-- 1663600273536&#45;&gt;1663600184864+ -->\n",
       "<g id=\"edge11\" class=\"edge\">\n",
       "<title>1663600273536&#45;&gt;1663600184864+</title>\n",
       "<path fill=\"none\" stroke=\"black\" d=\"M907.65,-142.36C932.41,-138.87 957.68,-135.3 977.26,-132.54\"/>\n",
       "<polygon fill=\"black\" stroke=\"black\" points=\"977.82,-136 987.23,-131.13 976.84,-129.07 977.82,-136\"/>\n",
       "</g>\n",
       "<!-- 1663600185008 -->\n",
       "<g id=\"node6\" class=\"node\">\n",
       "<title>1663600185008</title>\n",
       "<polygon fill=\"none\" stroke=\"black\" points=\"1390,-109.5 1390,-145.5 1578,-145.5 1578,-109.5 1390,-109.5\"/>\n",
       "<text text-anchor=\"middle\" x=\"1402\" y=\"-123.8\" font-family=\"Times New Roman,serif\" font-size=\"14.00\">o</text>\n",
       "<polyline fill=\"none\" stroke=\"black\" points=\"1414,-109.5 1414,-145.5\"/>\n",
       "<text text-anchor=\"middle\" x=\"1454.5\" y=\"-123.8\" font-family=\"Times New Roman,serif\" font-size=\"14.00\">data 0.7071</text>\n",
       "<polyline fill=\"none\" stroke=\"black\" points=\"1495,-109.5 1495,-145.5\"/>\n",
       "<text text-anchor=\"middle\" x=\"1536.5\" y=\"-123.8\" font-family=\"Times New Roman,serif\" font-size=\"14.00\">grad 1.0000</text>\n",
       "</g>\n",
       "<!-- 1663600185008tanh&#45;&gt;1663600185008 -->\n",
       "<g id=\"edge2\" class=\"edge\">\n",
       "<title>1663600185008tanh&#45;&gt;1663600185008</title>\n",
       "<path fill=\"none\" stroke=\"black\" d=\"M1354.29,-127.5C1361.78,-127.5 1370.42,-127.5 1379.6,-127.5\"/>\n",
       "<polygon fill=\"black\" stroke=\"black\" points=\"1379.76,-131 1389.76,-127.5 1379.76,-124 1379.76,-131\"/>\n",
       "</g>\n",
       "<!-- 1663600272720 -->\n",
       "<g id=\"node8\" class=\"node\">\n",
       "<title>1663600272720</title>\n",
       "<polygon fill=\"none\" stroke=\"black\" points=\"2,-55.5 2,-91.5 200,-91.5 200,-55.5 2,-55.5\"/>\n",
       "<text text-anchor=\"middle\" x=\"17\" y=\"-69.8\" font-family=\"Times New Roman,serif\" font-size=\"14.00\">x1</text>\n",
       "<polyline fill=\"none\" stroke=\"black\" points=\"32,-55.5 32,-91.5\"/>\n",
       "<text text-anchor=\"middle\" x=\"72.5\" y=\"-69.8\" font-family=\"Times New Roman,serif\" font-size=\"14.00\">data 2.0000</text>\n",
       "<polyline fill=\"none\" stroke=\"black\" points=\"113,-55.5 113,-91.5\"/>\n",
       "<text text-anchor=\"middle\" x=\"156.5\" y=\"-69.8\" font-family=\"Times New Roman,serif\" font-size=\"14.00\">grad &#45;1.5000</text>\n",
       "</g>\n",
       "<!-- 1663562450928* -->\n",
       "<g id=\"node15\" class=\"node\">\n",
       "<title>1663562450928*</title>\n",
       "<ellipse fill=\"none\" stroke=\"black\" cx=\"265\" cy=\"-73.5\" rx=\"27\" ry=\"18\"/>\n",
       "<text text-anchor=\"middle\" x=\"265\" y=\"-69.8\" font-family=\"Times New Roman,serif\" font-size=\"14.00\">*</text>\n",
       "</g>\n",
       "<!-- 1663600272720&#45;&gt;1663562450928* -->\n",
       "<g id=\"edge10\" class=\"edge\">\n",
       "<title>1663600272720&#45;&gt;1663562450928*</title>\n",
       "<path fill=\"none\" stroke=\"black\" d=\"M200.44,-73.5C210.13,-73.5 219.47,-73.5 227.87,-73.5\"/>\n",
       "<polygon fill=\"black\" stroke=\"black\" points=\"227.96,-77 237.96,-73.5 227.96,-70 227.96,-77\"/>\n",
       "</g>\n",
       "<!-- 1663600274784 -->\n",
       "<g id=\"node9\" class=\"node\">\n",
       "<title>1663600274784</title>\n",
       "<polygon fill=\"none\" stroke=\"black\" points=\"0,-0.5 0,-36.5 202,-36.5 202,-0.5 0,-0.5\"/>\n",
       "<text text-anchor=\"middle\" x=\"16.5\" y=\"-14.8\" font-family=\"Times New Roman,serif\" font-size=\"14.00\">w1</text>\n",
       "<polyline fill=\"none\" stroke=\"black\" points=\"33,-0.5 33,-36.5\"/>\n",
       "<text text-anchor=\"middle\" x=\"76\" y=\"-14.8\" font-family=\"Times New Roman,serif\" font-size=\"14.00\">data &#45;3.0000</text>\n",
       "<polyline fill=\"none\" stroke=\"black\" points=\"119,-0.5 119,-36.5\"/>\n",
       "<text text-anchor=\"middle\" x=\"160.5\" y=\"-14.8\" font-family=\"Times New Roman,serif\" font-size=\"14.00\">grad 1.0000</text>\n",
       "</g>\n",
       "<!-- 1663600274784&#45;&gt;1663562450928* -->\n",
       "<g id=\"edge7\" class=\"edge\">\n",
       "<title>1663600274784&#45;&gt;1663562450928*</title>\n",
       "<path fill=\"none\" stroke=\"black\" d=\"M171.25,-36.55C181.63,-39.64 192.15,-42.99 202,-46.5 212.29,-50.16 223.28,-54.72 233.11,-59.05\"/>\n",
       "<polygon fill=\"black\" stroke=\"black\" points=\"231.93,-62.36 242.49,-63.26 234.8,-55.97 231.93,-62.36\"/>\n",
       "</g>\n",
       "<!-- 1663562449776 -->\n",
       "<g id=\"node10\" class=\"node\">\n",
       "<title>1663562449776</title>\n",
       "<polygon fill=\"none\" stroke=\"black\" points=\"330.5,-110.5 330.5,-146.5 547.5,-146.5 547.5,-110.5 330.5,-110.5\"/>\n",
       "<text text-anchor=\"middle\" x=\"357\" y=\"-124.8\" font-family=\"Times New Roman,serif\" font-size=\"14.00\">x2*w2</text>\n",
       "<polyline fill=\"none\" stroke=\"black\" points=\"383.5,-110.5 383.5,-146.5\"/>\n",
       "<text text-anchor=\"middle\" x=\"424\" y=\"-124.8\" font-family=\"Times New Roman,serif\" font-size=\"14.00\">data 0.0000</text>\n",
       "<polyline fill=\"none\" stroke=\"black\" points=\"464.5,-110.5 464.5,-146.5\"/>\n",
       "<text text-anchor=\"middle\" x=\"506\" y=\"-124.8\" font-family=\"Times New Roman,serif\" font-size=\"14.00\">grad 0.5000</text>\n",
       "</g>\n",
       "<!-- 1663598508928+ -->\n",
       "<g id=\"node13\" class=\"node\">\n",
       "<title>1663598508928+</title>\n",
       "<ellipse fill=\"none\" stroke=\"black\" cx=\"613\" cy=\"-100.5\" rx=\"27\" ry=\"18\"/>\n",
       "<text text-anchor=\"middle\" x=\"613\" y=\"-96.8\" font-family=\"Times New Roman,serif\" font-size=\"14.00\">+</text>\n",
       "</g>\n",
       "<!-- 1663562449776&#45;&gt;1663598508928+ -->\n",
       "<g id=\"edge12\" class=\"edge\">\n",
       "<title>1663562449776&#45;&gt;1663598508928+</title>\n",
       "<path fill=\"none\" stroke=\"black\" d=\"M547.95,-110.93C558.13,-109.27 567.86,-107.69 576.53,-106.27\"/>\n",
       "<polygon fill=\"black\" stroke=\"black\" points=\"577.23,-109.71 586.54,-104.64 576.11,-102.8 577.23,-109.71\"/>\n",
       "</g>\n",
       "<!-- 1663562449776*&#45;&gt;1663562449776 -->\n",
       "<g id=\"edge3\" class=\"edge\">\n",
       "<title>1663562449776*&#45;&gt;1663562449776</title>\n",
       "<path fill=\"none\" stroke=\"black\" d=\"M292.12,-128.5C300.31,-128.5 309.94,-128.5 320.28,-128.5\"/>\n",
       "<polygon fill=\"black\" stroke=\"black\" points=\"320.39,-132 330.39,-128.5 320.39,-125 320.39,-132\"/>\n",
       "</g>\n",
       "<!-- 1663598508928 -->\n",
       "<g id=\"node12\" class=\"node\">\n",
       "<title>1663598508928</title>\n",
       "<polygon fill=\"none\" stroke=\"black\" points=\"676,-82.5 676,-118.5 951,-118.5 951,-82.5 676,-82.5\"/>\n",
       "<text text-anchor=\"middle\" x=\"729\" y=\"-96.8\" font-family=\"Times New Roman,serif\" font-size=\"14.00\">x1*w1 + x2*w2</text>\n",
       "<polyline fill=\"none\" stroke=\"black\" points=\"782,-82.5 782,-118.5\"/>\n",
       "<text text-anchor=\"middle\" x=\"825\" y=\"-96.8\" font-family=\"Times New Roman,serif\" font-size=\"14.00\">data &#45;6.0000</text>\n",
       "<polyline fill=\"none\" stroke=\"black\" points=\"868,-82.5 868,-118.5\"/>\n",
       "<text text-anchor=\"middle\" x=\"909.5\" y=\"-96.8\" font-family=\"Times New Roman,serif\" font-size=\"14.00\">grad 0.0000</text>\n",
       "</g>\n",
       "<!-- 1663598508928&#45;&gt;1663600184864+ -->\n",
       "<g id=\"edge14\" class=\"edge\">\n",
       "<title>1663598508928&#45;&gt;1663600184864+</title>\n",
       "<path fill=\"none\" stroke=\"black\" d=\"M946.9,-118.51C957.84,-120 968.17,-121.4 977.27,-122.64\"/>\n",
       "<polygon fill=\"black\" stroke=\"black\" points=\"976.98,-126.13 987.36,-124.01 977.92,-119.2 976.98,-126.13\"/>\n",
       "</g>\n",
       "<!-- 1663598508928+&#45;&gt;1663598508928 -->\n",
       "<g id=\"edge4\" class=\"edge\">\n",
       "<title>1663598508928+&#45;&gt;1663598508928</title>\n",
       "<path fill=\"none\" stroke=\"black\" d=\"M640.36,-100.5C647.8,-100.5 656.45,-100.5 665.84,-100.5\"/>\n",
       "<polygon fill=\"black\" stroke=\"black\" points=\"665.88,-104 675.88,-100.5 665.88,-97 665.88,-104\"/>\n",
       "</g>\n",
       "<!-- 1663562450928 -->\n",
       "<g id=\"node14\" class=\"node\">\n",
       "<title>1663562450928</title>\n",
       "<polygon fill=\"none\" stroke=\"black\" points=\"328,-55.5 328,-91.5 550,-91.5 550,-55.5 328,-55.5\"/>\n",
       "<text text-anchor=\"middle\" x=\"354.5\" y=\"-69.8\" font-family=\"Times New Roman,serif\" font-size=\"14.00\">x1*w1</text>\n",
       "<polyline fill=\"none\" stroke=\"black\" points=\"381,-55.5 381,-91.5\"/>\n",
       "<text text-anchor=\"middle\" x=\"424\" y=\"-69.8\" font-family=\"Times New Roman,serif\" font-size=\"14.00\">data &#45;6.0000</text>\n",
       "<polyline fill=\"none\" stroke=\"black\" points=\"467,-55.5 467,-91.5\"/>\n",
       "<text text-anchor=\"middle\" x=\"508.5\" y=\"-69.8\" font-family=\"Times New Roman,serif\" font-size=\"14.00\">grad 0.5000</text>\n",
       "</g>\n",
       "<!-- 1663562450928&#45;&gt;1663598508928+ -->\n",
       "<g id=\"edge13\" class=\"edge\">\n",
       "<title>1663562450928&#45;&gt;1663598508928+</title>\n",
       "<path fill=\"none\" stroke=\"black\" d=\"M550.39,-90.83C559.67,-92.29 568.54,-93.68 576.51,-94.93\"/>\n",
       "<polygon fill=\"black\" stroke=\"black\" points=\"576.01,-98.39 586.43,-96.49 577.09,-91.48 576.01,-98.39\"/>\n",
       "</g>\n",
       "<!-- 1663562450928*&#45;&gt;1663562450928 -->\n",
       "<g id=\"edge5\" class=\"edge\">\n",
       "<title>1663562450928*&#45;&gt;1663562450928</title>\n",
       "<path fill=\"none\" stroke=\"black\" d=\"M292.12,-73.5C299.66,-73.5 308.41,-73.5 317.81,-73.5\"/>\n",
       "<polygon fill=\"black\" stroke=\"black\" points=\"317.82,-77 327.81,-73.5 317.81,-70 317.82,-77\"/>\n",
       "</g>\n",
       "</g>\n",
       "</svg>\n"
      ],
      "text/plain": [
       "<graphviz.graphs.Digraph at 0x18356416e20>"
      ]
     },
     "execution_count": 48,
     "metadata": {},
     "output_type": "execute_result"
    }
   ],
   "source": [
    "draw_dot(o)"
   ]
  },
  {
   "cell_type": "code",
   "execution_count": 43,
   "metadata": {},
   "outputs": [],
   "source": [
    "x1.grad = w1.data * x1w1.grad\n",
    "w1.grad = x1.data * x1w1.grad"
   ]
  },
  {
   "cell_type": "code",
   "execution_count": 41,
   "metadata": {},
   "outputs": [],
   "source": [
    "x2.grad = w2.data * x2w2.grad\n",
    "w2.grad = x2.data * x2w2.grad"
   ]
  },
  {
   "cell_type": "code",
   "execution_count": 39,
   "metadata": {},
   "outputs": [],
   "source": [
    "x1w1.grad = 0.5\n",
    "x2w2.grad = 0.5"
   ]
  },
  {
   "cell_type": "code",
   "execution_count": null,
   "metadata": {},
   "outputs": [],
   "source": [
    "x1w1x2w2.grad = 0.5\n",
    "b.grad = 0.5"
   ]
  },
  {
   "cell_type": "code",
   "execution_count": 37,
   "metadata": {},
   "outputs": [],
   "source": [
    "n.grad = .5"
   ]
  },
  {
   "cell_type": "code",
   "execution_count": 34,
   "metadata": {},
   "outputs": [],
   "source": [
    "o.grad = 1.0"
   ]
  },
  {
   "cell_type": "code",
   "execution_count": null,
   "metadata": {},
   "outputs": [],
   "source": []
  },
  {
   "cell_type": "code",
   "execution_count": 36,
   "metadata": {},
   "outputs": [
    {
     "data": {
      "text/plain": [
       "0.4999999999999999"
      ]
     },
     "execution_count": 36,
     "metadata": {},
     "output_type": "execute_result"
    }
   ],
   "source": [
    "1 - o.data**2"
   ]
  },
  {
   "cell_type": "code",
   "execution_count": null,
   "metadata": {},
   "outputs": [],
   "source": [
    "# o = tanh(n)\n",
    "# do/dn = 1 - o**2"
   ]
  }
 ],
 "metadata": {
  "kernelspec": {
   "display_name": "RaschkaMLbook",
   "language": "python",
   "name": "raschkamlbook"
  },
  "language_info": {
   "codemirror_mode": {
    "name": "ipython",
    "version": 3
   },
   "file_extension": ".py",
   "mimetype": "text/x-python",
   "name": "python",
   "nbconvert_exporter": "python",
   "pygments_lexer": "ipython3",
   "version": "3.9.14"
  }
 },
 "nbformat": 4,
 "nbformat_minor": 4
}
