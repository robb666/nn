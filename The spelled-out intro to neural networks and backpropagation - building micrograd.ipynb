{
 "cells": [
  {
   "cell_type": "code",
   "execution_count": 1,
   "metadata": {},
   "outputs": [],
   "source": [
    "from micrograd.engine import Value"
   ]
  },
  {
   "cell_type": "code",
   "execution_count": 2,
   "metadata": {},
   "outputs": [],
   "source": [
    "# a = Value(-4.0)\n",
    "# b = Value(2.0)\n",
    "# c = a + b\n",
    "# d = a * b + b**3\n",
    "# c += c + 1\n",
    "# c += 1 + c + (-a)\n",
    "# d += d * 2 + (b + a).relu()\n",
    "# d += 3 * d + (b - a).relu()\n",
    "# e = c - d\n",
    "# f = e**2\n",
    "# g = f / 2.0\n",
    "# g += 10.0 / f"
   ]
  },
  {
   "cell_type": "code",
   "execution_count": 3,
   "metadata": {},
   "outputs": [],
   "source": [
    "import math\n",
    "import numpy as np\n",
    "import matplotlib.pyplot as plt\n",
    "%matplotlib inline"
   ]
  },
  {
   "cell_type": "code",
   "execution_count": 4,
   "metadata": {},
   "outputs": [],
   "source": [
    "def f(x):\n",
    "    return 3 * x ** 2 - 4 * x + 5"
   ]
  },
  {
   "cell_type": "code",
   "execution_count": 5,
   "metadata": {},
   "outputs": [
    {
     "data": {
      "text/plain": [
       "20.0"
      ]
     },
     "execution_count": 5,
     "metadata": {},
     "output_type": "execute_result"
    }
   ],
   "source": [
    "f(3.0)"
   ]
  },
  {
   "cell_type": "code",
   "execution_count": null,
   "metadata": {},
   "outputs": [],
   "source": []
  },
  {
   "cell_type": "code",
   "execution_count": 6,
   "metadata": {},
   "outputs": [
    {
     "data": {
      "text/plain": [
       "[<matplotlib.lines.Line2D at 0x7f491866b250>]"
      ]
     },
     "execution_count": 6,
     "metadata": {},
     "output_type": "execute_result"
    },
    {
     "data": {
      "image/png": "[encoded data removed]",
      "text/plain": [
       "<Figure size 640x480 with 1 Axes>"
      ]
     },
     "metadata": {},
     "output_type": "display_data"
    }
   ],
   "source": [
    "xs = np.arange(-14, 16, 0.25)\n",
    "ys = f(xs)\n",
    "plt.plot(xs, ys)"
   ]
  },
  {
   "cell_type": "code",
   "execution_count": 7,
   "metadata": {},
   "outputs": [
    {
     "data": {
      "text/plain": [
       "14.000300000063248"
      ]
     },
     "execution_count": 7,
     "metadata": {},
     "output_type": "execute_result"
    }
   ],
   "source": [
    "h = 0.0001\n",
    "x = 3.0\n",
    "(f(x + h) - f(x)) / h"
   ]
  },
  {
   "cell_type": "code",
   "execution_count": 8,
   "metadata": {},
   "outputs": [
    {
     "name": "stdout",
     "output_type": "stream",
     "text": [
      "4.0\n"
     ]
    }
   ],
   "source": [
    "a = 2.0\n",
    "b = -3.0\n",
    "c = 10.0\n",
    "d = a * b + c\n",
    "print(d)"
   ]
  },
  {
   "cell_type": "code",
   "execution_count": 9,
   "metadata": {},
   "outputs": [
    {
     "name": "stdout",
     "output_type": "stream",
     "text": [
      "d1 4.0\n",
      "d2 3.999699999999999\n",
      "slope -3.000000000010772\n"
     ]
    }
   ],
   "source": [
    "h = 0.0001\n",
    "\n",
    "# inputs\n",
    "a = 2.0\n",
    "b = -3.0\n",
    "c = 10.0\n",
    "\n",
    "d1 = a * b + c\n",
    "a += h\n",
    "d2 = a * b + c\n",
    "\n",
    "print('d1', d1)\n",
    "print('d2', d2)\n",
    "print('slope', (d2 - d1) / h)"
   ]
  },
  {
   "cell_type": "code",
   "execution_count": 10,
   "metadata": {},
   "outputs": [
    {
     "name": "stdout",
     "output_type": "stream",
     "text": [
      "d1 4.0\n",
      "d2 4.0002\n",
      "slope 2.0000000000042206\n"
     ]
    }
   ],
   "source": [
    "h = 0.0001\n",
    "\n",
    "# inputs\n",
    "a = 2.0\n",
    "b = -3.0\n",
    "c = 10.0\n",
    "\n",
    "d1 = a * b + c\n",
    "b += h\n",
    "d2 = a * b + c\n",
    "\n",
    "print('d1', d1)\n",
    "print('d2', d2)\n",
    "print('slope', (d2 - d1) / h)"
   ]
  },
  {
   "cell_type": "code",
   "execution_count": 11,
   "metadata": {},
   "outputs": [
    {
     "name": "stdout",
     "output_type": "stream",
     "text": [
      "d1 4.0\n",
      "d2 4.0001\n",
      "slope 0.9999999999976694\n"
     ]
    }
   ],
   "source": [
    "h = 0.0001\n",
    "\n",
    "# inputs\n",
    "a = 2.0\n",
    "b = -3.0\n",
    "c = 10.0\n",
    "\n",
    "d1 = a * b + c\n",
    "c += h\n",
    "d2 = a * b + c\n",
    "\n",
    "print('d1', d1)\n",
    "print('d2', d2)\n",
    "print('slope', (d2 - d1) / h)"
   ]
  },
  {
   "cell_type": "code",
   "execution_count": 12,
   "metadata": {},
   "outputs": [
    {
     "data": {
      "text/plain": [
       "Value(data=-8.0)"
      ]
     },
     "execution_count": 12,
     "metadata": {},
     "output_type": "execute_result"
    }
   ],
   "source": [
    "class Value:\n",
    "    \n",
    "    def __init__(self, data, _children=(), _op='', label=''):\n",
    "        self.data = data\n",
    "        self.grad = 0.0\n",
    "        self._prev = set(_children)\n",
    "        self._op = _op\n",
    "        self.label = label\n",
    "        \n",
    "    def __repr__(self):\n",
    "        return f\"Value(data={self.data})\"\n",
    "    \n",
    "    def __add__(self, other):\n",
    "        out = Value(self.data + other.data, (self, other), '+')\n",
    "        return out\n",
    "    \n",
    "    def __mul__(self, other):\n",
    "        out = Value(self.data * other.data, (self, other), '*')\n",
    "        return out\n",
    "    \n",
    "\n",
    "a = Value(2.0, label='a')\n",
    "b = Value(-3.0, label='b')\n",
    "c = Value(10.0, label='c')\n",
    "e = a * b; e.label = 'e'\n",
    "d = e + c; d.label = 'd'\n",
    "f = Value(-2.0, label='f')\n",
    "L = d * f; L.label = 'L'\n",
    "L1 = L.data\n",
    "L\n"
   ]
  },
  {
   "cell_type": "code",
   "execution_count": 13,
   "metadata": {},
   "outputs": [
    {
     "data": {
      "text/plain": [
       "{Value(data=-6.0), Value(data=10.0)}"
      ]
     },
     "execution_count": 13,
     "metadata": {},
     "output_type": "execute_result"
    }
   ],
   "source": [
    "d._prev"
   ]
  },
  {
   "cell_type": "code",
   "execution_count": 14,
   "metadata": {},
   "outputs": [
    {
     "data": {
      "text/plain": [
       "'+'"
      ]
     },
     "execution_count": 14,
     "metadata": {},
     "output_type": "execute_result"
    }
   ],
   "source": [
    "d._op"
   ]
  },
  {
   "cell_type": "code",
   "execution_count": 18,
   "metadata": {},
   "outputs": [],
   "source": [
    "\n",
    "from graphviz import Digraph\n",
    "\n",
    "def trace(root):\n",
    "    # builds a set of all nodes and edges in graph\n",
    "    nodes, edges = set(), set()\n",
    "    def build(v):\n",
    "        if v not in nodes:\n",
    "            nodes.add(v)\n",
    "            for child in v._prev:\n",
    "                edges.add((child, v))\n",
    "                build(child)\n",
    "    build(root)\n",
    "    return nodes, edges\n",
    "\n",
    "def draw_dot(root):\n",
    "    dot = Digraph(format='svg', graph_attr={'rankdir': 'LR'}) # LR - left to right\n",
    "    \n",
    "    nodes, edges = trace(root)\n",
    "    for n in nodes:\n",
    "        uid = str(id(n))\n",
    "        # for any value in the graph, create a rectangular ('record') node for it\n",
    "        dot.node(name = uid, label = \"{ %s | data %.4f | grad %.4f }\" % (n.label, n.data, n.grad), shape='record')\n",
    "        if n._op:\n",
    "            # if this value is a result of some operations, create an op node for it\n",
    "            dot.node(name = uid + n._op, label = n._op)\n",
    "            # and connect this node to it\n",
    "            dot.edge(uid + n._op, uid)\n",
    "            \n",
    "    for n1, n2 in edges:\n",
    "        # connect n1 to the op node of n2\n",
    "        dot.edge(str(id(n1)), str(id(n2)) + n2._op)\n",
    "        \n",
    "    return dot"
   ]
  },
  {
   "cell_type": "code",
   "execution_count": 19,
   "metadata": {},
   "outputs": [
    {
     "data": {
      "image/svg+xml": [
       "<?xml version=\"1.0\" encoding=\"UTF-8\" standalone=\"no\"?>\n",
       "<!DOCTYPE svg PUBLIC \"-//W3C//DTD SVG 1.1//EN\"\n",
       " \"http://www.w3.org/Graphics/SVG/1.1/DTD/svg11.dtd\">\n",
       "<!-- Generated by graphviz version 2.43.0 (0)\n",
       " -->\n",
       "<!-- Title: %3 Pages: 1 -->\n",
       "<svg width=\"1332pt\" height=\"128pt\"\n",
       " viewBox=\"0.00 0.00 1332.00 128.00\" xmlns=\"http://www.w3.org/2000/svg\" xmlns:xlink=\"http://www.w3.org/1999/xlink\">\n",
       "<g id=\"graph0\" class=\"graph\" transform=\"scale(1 1) rotate(0) translate(4 124)\">\n",
       "<title>%3</title>\n",
       "<polygon fill=\"white\" stroke=\"transparent\" points=\"-4,4 -4,-124 1328,-124 1328,4 -4,4\"/>\n",
       "<!-- 139951915551856 -->\n",
       "<g id=\"node1\" class=\"node\">\n",
       "<title>139951915551856</title>\n",
       "<polygon fill=\"none\" stroke=\"black\" points=\"1087,-27.5 1087,-63.5 1324,-63.5 1324,-27.5 1087,-27.5\"/>\n",
       "<text text-anchor=\"middle\" x=\"1100\" y=\"-41.8\" font-family=\"Times,serif\" font-size=\"14.00\">L</text>\n",
       "<polyline fill=\"none\" stroke=\"black\" points=\"1113,-27.5 1113,-63.5 \"/>\n",
       "<text text-anchor=\"middle\" x=\"1166.5\" y=\"-41.8\" font-family=\"Times,serif\" font-size=\"14.00\">data &#45;8.0000</text>\n",
       "<polyline fill=\"none\" stroke=\"black\" points=\"1220,-27.5 1220,-63.5 \"/>\n",
       "<text text-anchor=\"middle\" x=\"1272\" y=\"-41.8\" font-family=\"Times,serif\" font-size=\"14.00\">grad 0.0000</text>\n",
       "</g>\n",
       "<!-- 139951915551856* -->\n",
       "<g id=\"node2\" class=\"node\">\n",
       "<title>139951915551856*</title>\n",
       "<ellipse fill=\"none\" stroke=\"black\" cx=\"1024\" cy=\"-45.5\" rx=\"27\" ry=\"18\"/>\n",
       "<text text-anchor=\"middle\" x=\"1024\" y=\"-41.8\" font-family=\"Times,serif\" font-size=\"14.00\">*</text>\n",
       "</g>\n",
       "<!-- 139951915551856*&#45;&gt;139951915551856 -->\n",
       "<g id=\"edge1\" class=\"edge\">\n",
       "<title>139951915551856*&#45;&gt;139951915551856</title>\n",
       "<path fill=\"none\" stroke=\"black\" d=\"M1051.1,-45.5C1058.61,-45.5 1067.33,-45.5 1076.75,-45.5\"/>\n",
       "<polygon fill=\"black\" stroke=\"black\" points=\"1076.78,-49 1086.78,-45.5 1076.78,-42 1076.78,-49\"/>\n",
       "</g>\n",
       "<!-- 139951915551904 -->\n",
       "<g id=\"node3\" class=\"node\">\n",
       "<title>139951915551904</title>\n",
       "<polygon fill=\"none\" stroke=\"black\" points=\"363,-83.5 363,-119.5 602,-119.5 602,-83.5 363,-83.5\"/>\n",
       "<text text-anchor=\"middle\" x=\"375\" y=\"-97.8\" font-family=\"Times,serif\" font-size=\"14.00\">c</text>\n",
       "<polyline fill=\"none\" stroke=\"black\" points=\"387,-83.5 387,-119.5 \"/>\n",
       "<text text-anchor=\"middle\" x=\"442.5\" y=\"-97.8\" font-family=\"Times,serif\" font-size=\"14.00\">data 10.0000</text>\n",
       "<polyline fill=\"none\" stroke=\"black\" points=\"498,-83.5 498,-119.5 \"/>\n",
       "<text text-anchor=\"middle\" x=\"550\" y=\"-97.8\" font-family=\"Times,serif\" font-size=\"14.00\">grad 0.0000</text>\n",
       "</g>\n",
       "<!-- 139951915657008+ -->\n",
       "<g id=\"node7\" class=\"node\">\n",
       "<title>139951915657008+</title>\n",
       "<ellipse fill=\"none\" stroke=\"black\" cx=\"665\" cy=\"-73.5\" rx=\"27\" ry=\"18\"/>\n",
       "<text text-anchor=\"middle\" x=\"665\" y=\"-69.8\" font-family=\"Times,serif\" font-size=\"14.00\">+</text>\n",
       "</g>\n",
       "<!-- 139951915551904&#45;&gt;139951915657008+ -->\n",
       "<g id=\"edge4\" class=\"edge\">\n",
       "<title>139951915551904&#45;&gt;139951915657008+</title>\n",
       "<path fill=\"none\" stroke=\"black\" d=\"M599.6,-83.49C609.91,-81.89 619.74,-80.37 628.46,-79.01\"/>\n",
       "<polygon fill=\"black\" stroke=\"black\" points=\"629.18,-82.44 638.52,-77.45 628.1,-75.53 629.18,-82.44\"/>\n",
       "</g>\n",
       "<!-- 139951915551472 -->\n",
       "<g id=\"node4\" class=\"node\">\n",
       "<title>139951915551472</title>\n",
       "<polygon fill=\"none\" stroke=\"black\" points=\"364.5,-28.5 364.5,-64.5 600.5,-64.5 600.5,-28.5 364.5,-28.5\"/>\n",
       "<text text-anchor=\"middle\" x=\"377\" y=\"-42.8\" font-family=\"Times,serif\" font-size=\"14.00\">e</text>\n",
       "<polyline fill=\"none\" stroke=\"black\" points=\"389.5,-28.5 389.5,-64.5 \"/>\n",
       "<text text-anchor=\"middle\" x=\"443\" y=\"-42.8\" font-family=\"Times,serif\" font-size=\"14.00\">data &#45;6.0000</text>\n",
       "<polyline fill=\"none\" stroke=\"black\" points=\"496.5,-28.5 496.5,-64.5 \"/>\n",
       "<text text-anchor=\"middle\" x=\"548.5\" y=\"-42.8\" font-family=\"Times,serif\" font-size=\"14.00\">grad 0.0000</text>\n",
       "</g>\n",
       "<!-- 139951915551472&#45;&gt;139951915657008+ -->\n",
       "<g id=\"edge7\" class=\"edge\">\n",
       "<title>139951915551472&#45;&gt;139951915657008+</title>\n",
       "<path fill=\"none\" stroke=\"black\" d=\"M600.62,-64.02C610.5,-65.5 619.9,-66.9 628.3,-68.16\"/>\n",
       "<polygon fill=\"black\" stroke=\"black\" points=\"627.95,-71.65 638.36,-69.66 628.99,-64.72 627.95,-71.65\"/>\n",
       "</g>\n",
       "<!-- 139951915551472* -->\n",
       "<g id=\"node5\" class=\"node\">\n",
       "<title>139951915551472*</title>\n",
       "<ellipse fill=\"none\" stroke=\"black\" cx=\"300\" cy=\"-46.5\" rx=\"27\" ry=\"18\"/>\n",
       "<text text-anchor=\"middle\" x=\"300\" y=\"-42.8\" font-family=\"Times,serif\" font-size=\"14.00\">*</text>\n",
       "</g>\n",
       "<!-- 139951915551472*&#45;&gt;139951915551472 -->\n",
       "<g id=\"edge2\" class=\"edge\">\n",
       "<title>139951915551472*&#45;&gt;139951915551472</title>\n",
       "<path fill=\"none\" stroke=\"black\" d=\"M327.25,-46.5C335.09,-46.5 344.27,-46.5 354.17,-46.5\"/>\n",
       "<polygon fill=\"black\" stroke=\"black\" points=\"354.28,-50 364.28,-46.5 354.28,-43 354.28,-50\"/>\n",
       "</g>\n",
       "<!-- 139951915657008 -->\n",
       "<g id=\"node6\" class=\"node\">\n",
       "<title>139951915657008</title>\n",
       "<polygon fill=\"none\" stroke=\"black\" points=\"728.5,-55.5 728.5,-91.5 960.5,-91.5 960.5,-55.5 728.5,-55.5\"/>\n",
       "<text text-anchor=\"middle\" x=\"741.5\" y=\"-69.8\" font-family=\"Times,serif\" font-size=\"14.00\">d</text>\n",
       "<polyline fill=\"none\" stroke=\"black\" points=\"754.5,-55.5 754.5,-91.5 \"/>\n",
       "<text text-anchor=\"middle\" x=\"805.5\" y=\"-69.8\" font-family=\"Times,serif\" font-size=\"14.00\">data 4.0000</text>\n",
       "<polyline fill=\"none\" stroke=\"black\" points=\"856.5,-55.5 856.5,-91.5 \"/>\n",
       "<text text-anchor=\"middle\" x=\"908.5\" y=\"-69.8\" font-family=\"Times,serif\" font-size=\"14.00\">grad 0.0000</text>\n",
       "</g>\n",
       "<!-- 139951915657008&#45;&gt;139951915551856* -->\n",
       "<g id=\"edge8\" class=\"edge\">\n",
       "<title>139951915657008&#45;&gt;139951915551856*</title>\n",
       "<path fill=\"none\" stroke=\"black\" d=\"M959.67,-55.49C969.61,-53.92 979.08,-52.43 987.53,-51.1\"/>\n",
       "<polygon fill=\"black\" stroke=\"black\" points=\"988.31,-54.52 997.64,-49.5 987.22,-47.6 988.31,-54.52\"/>\n",
       "</g>\n",
       "<!-- 139951915657008+&#45;&gt;139951915657008 -->\n",
       "<g id=\"edge3\" class=\"edge\">\n",
       "<title>139951915657008+&#45;&gt;139951915657008</title>\n",
       "<path fill=\"none\" stroke=\"black\" d=\"M692.19,-73.5C699.78,-73.5 708.61,-73.5 718.11,-73.5\"/>\n",
       "<polygon fill=\"black\" stroke=\"black\" points=\"718.24,-77 728.24,-73.5 718.24,-70 718.24,-77\"/>\n",
       "</g>\n",
       "<!-- 139951915551040 -->\n",
       "<g id=\"node8\" class=\"node\">\n",
       "<title>139951915551040</title>\n",
       "<polygon fill=\"none\" stroke=\"black\" points=\"3,-56.5 3,-92.5 234,-92.5 234,-56.5 3,-56.5\"/>\n",
       "<text text-anchor=\"middle\" x=\"15.5\" y=\"-70.8\" font-family=\"Times,serif\" font-size=\"14.00\">a</text>\n",
       "<polyline fill=\"none\" stroke=\"black\" points=\"28,-56.5 28,-92.5 \"/>\n",
       "<text text-anchor=\"middle\" x=\"79\" y=\"-70.8\" font-family=\"Times,serif\" font-size=\"14.00\">data 2.0000</text>\n",
       "<polyline fill=\"none\" stroke=\"black\" points=\"130,-56.5 130,-92.5 \"/>\n",
       "<text text-anchor=\"middle\" x=\"182\" y=\"-70.8\" font-family=\"Times,serif\" font-size=\"14.00\">grad 0.0000</text>\n",
       "</g>\n",
       "<!-- 139951915551040&#45;&gt;139951915551472* -->\n",
       "<g id=\"edge5\" class=\"edge\">\n",
       "<title>139951915551040&#45;&gt;139951915551472*</title>\n",
       "<path fill=\"none\" stroke=\"black\" d=\"M234.2,-56.61C244.76,-54.96 254.83,-53.39 263.74,-52\"/>\n",
       "<polygon fill=\"black\" stroke=\"black\" points=\"264.3,-55.46 273.64,-50.46 263.22,-48.54 264.3,-55.46\"/>\n",
       "</g>\n",
       "<!-- 139951915551568 -->\n",
       "<g id=\"node9\" class=\"node\">\n",
       "<title>139951915551568</title>\n",
       "<polygon fill=\"none\" stroke=\"black\" points=\"0,-1.5 0,-37.5 237,-37.5 237,-1.5 0,-1.5\"/>\n",
       "<text text-anchor=\"middle\" x=\"13\" y=\"-15.8\" font-family=\"Times,serif\" font-size=\"14.00\">b</text>\n",
       "<polyline fill=\"none\" stroke=\"black\" points=\"26,-1.5 26,-37.5 \"/>\n",
       "<text text-anchor=\"middle\" x=\"79.5\" y=\"-15.8\" font-family=\"Times,serif\" font-size=\"14.00\">data &#45;3.0000</text>\n",
       "<polyline fill=\"none\" stroke=\"black\" points=\"133,-1.5 133,-37.5 \"/>\n",
       "<text text-anchor=\"middle\" x=\"185\" y=\"-15.8\" font-family=\"Times,serif\" font-size=\"14.00\">grad 0.0000</text>\n",
       "</g>\n",
       "<!-- 139951915551568&#45;&gt;139951915551472* -->\n",
       "<g id=\"edge6\" class=\"edge\">\n",
       "<title>139951915551568&#45;&gt;139951915551472*</title>\n",
       "<path fill=\"none\" stroke=\"black\" d=\"M237.23,-37.21C246.6,-38.62 255.52,-39.96 263.52,-41.16\"/>\n",
       "<polygon fill=\"black\" stroke=\"black\" points=\"263.06,-44.63 273.47,-42.66 264.1,-37.71 263.06,-44.63\"/>\n",
       "</g>\n",
       "<!-- 139951915657056 -->\n",
       "<g id=\"node10\" class=\"node\">\n",
       "<title>139951915657056</title>\n",
       "<polygon fill=\"none\" stroke=\"black\" points=\"728,-0.5 728,-36.5 961,-36.5 961,-0.5 728,-0.5\"/>\n",
       "<text text-anchor=\"middle\" x=\"739\" y=\"-14.8\" font-family=\"Times,serif\" font-size=\"14.00\">f</text>\n",
       "<polyline fill=\"none\" stroke=\"black\" points=\"750,-0.5 750,-36.5 \"/>\n",
       "<text text-anchor=\"middle\" x=\"803.5\" y=\"-14.8\" font-family=\"Times,serif\" font-size=\"14.00\">data &#45;2.0000</text>\n",
       "<polyline fill=\"none\" stroke=\"black\" points=\"857,-0.5 857,-36.5 \"/>\n",
       "<text text-anchor=\"middle\" x=\"909\" y=\"-14.8\" font-family=\"Times,serif\" font-size=\"14.00\">grad 0.0000</text>\n",
       "</g>\n",
       "<!-- 139951915657056&#45;&gt;139951915551856* -->\n",
       "<g id=\"edge9\" class=\"edge\">\n",
       "<title>139951915657056&#45;&gt;139951915551856*</title>\n",
       "<path fill=\"none\" stroke=\"black\" d=\"M961.42,-36.13C970.75,-37.55 979.64,-38.9 987.61,-40.12\"/>\n",
       "<polygon fill=\"black\" stroke=\"black\" points=\"987.11,-43.58 997.52,-41.62 988.16,-36.66 987.11,-43.58\"/>\n",
       "</g>\n",
       "</g>\n",
       "</svg>\n"
      ],
      "text/plain": [
       "<graphviz.graphs.Digraph at 0x7f4990114f10>"
      ]
     },
     "execution_count": 19,
     "metadata": {},
     "output_type": "execute_result"
    }
   ],
   "source": [
    "draw_dot(L)"
   ]
  },
  {
   "cell_type": "code",
   "execution_count": 20,
   "metadata": {},
   "outputs": [],
   "source": [
    "a.grad = 6\n",
    "b.grad = -4\n",
    "c.grad = -2\n",
    "d.grad = -2\n",
    "e.grad = -2\n",
    "f.grad = 4\n",
    "L.grad = 1"
   ]
  },
  {
   "cell_type": "code",
   "execution_count": 21,
   "metadata": {},
   "outputs": [],
   "source": [
    "# a.data += 0.01 * a.grad\n",
    "# b.data += 0.01 * b.grad\n",
    "# c.data += 0.01 * c.grad\n",
    "# f.data += 0.01 * f.grad\n",
    "\n",
    "# e = a * b\n",
    "# d = e + c\n",
    "# L = d * f\n",
    "\n",
    "# print(L.data)"
   ]
  },
  {
   "cell_type": "code",
   "execution_count": 22,
   "metadata": {},
   "outputs": [
    {
     "name": "stdout",
     "output_type": "stream",
     "text": [
      "-3.9999999999995595\n"
     ]
    }
   ],
   "source": [
    "def lol():\n",
    "    \n",
    "    h = 0.001\n",
    "    \n",
    "    a = Value(2.0, label='a')\n",
    "    b = Value(-3.0, label='b')\n",
    "    c = Value(10.0, label='c')\n",
    "    e = a * b; e.label = 'e'\n",
    "    d = e + c; d.label = 'd'\n",
    "    f = Value(-2.0, label='f')\n",
    "    L = d * f; L.label = 'L'\n",
    "    L1 = L.data\n",
    "    \n",
    "    \n",
    "    a = Value(2.0, label='a')\n",
    "    b = Value(-3.0, label='b')\n",
    "    c = Value(10.0, label='c')\n",
    "    b.data += h\n",
    "    e = a * b; e.label = 'e'\n",
    "    d = e + c; d.label = 'd'\n",
    "    f = Value(-2.0, label='f')\n",
    "    L = d * f; L.label = 'L'\n",
    "    L2 = L.data\n",
    "    \n",
    "    print((L2 - L1) / h)\n",
    "    \n",
    "\n",
    "lol()"
   ]
  },
  {
   "cell_type": "code",
   "execution_count": null,
   "metadata": {},
   "outputs": [],
   "source": []
  }
 ],
 "metadata": {
  "kernelspec": {
   "display_name": "RaschkaMLbook",
   "language": "python",
   "name": "raschkamlbook"
  },
  "language_info": {
   "codemirror_mode": {
    "name": "ipython",
    "version": 3
   },
   "file_extension": ".py",
   "mimetype": "text/x-python",
   "name": "python",
   "nbconvert_exporter": "python",
   "pygments_lexer": "ipython3",
   "version": "3.9.14"
  }
 },
 "nbformat": 4,
 "nbformat_minor": 4
}
