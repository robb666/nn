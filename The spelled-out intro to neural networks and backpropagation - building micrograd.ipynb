{
 "cells": [
  {
   "cell_type": "code",
   "execution_count": 1,
   "metadata": {},
   "outputs": [],
   "source": [
    "from micrograd.engine import Value"
   ]
  },
  {
   "cell_type": "code",
   "execution_count": 2,
   "metadata": {},
   "outputs": [],
   "source": [
    "# a = Value(-4.0)\n",
    "# b = Value(2.0)\n",
    "# c = a + b\n",
    "# d = a * b + b**3\n",
    "# c += c + 1\n",
    "# c += 1 + c + (-a)\n",
    "# d += d * 2 + (b + a).relu()\n",
    "# d += 3 * d + (b - a).relu()\n",
    "# e = c - d\n",
    "# f = e**2\n",
    "# g = f / 2.0\n",
    "# g += 10.0 / f"
   ]
  },
  {
   "cell_type": "code",
   "execution_count": 3,
   "metadata": {},
   "outputs": [],
   "source": [
    "import math\n",
    "import numpy as np\n",
    "import matplotlib.pyplot as plt\n",
    "%matplotlib inline"
   ]
  },
  {
   "cell_type": "code",
   "execution_count": 4,
   "metadata": {},
   "outputs": [],
   "source": [
    "def f(x):\n",
    "    return 3 * x ** 2 - 4 * x + 5"
   ]
  },
  {
   "cell_type": "code",
   "execution_count": 5,
   "metadata": {},
   "outputs": [
    {
     "data": {
      "text/plain": [
       "20.0"
      ]
     },
     "execution_count": 5,
     "metadata": {},
     "output_type": "execute_result"
    }
   ],
   "source": [
    "f(3.0)"
   ]
  },
  {
   "cell_type": "code",
   "execution_count": null,
   "metadata": {},
   "outputs": [],
   "source": []
  },
  {
   "cell_type": "code",
   "execution_count": 6,
   "metadata": {},
   "outputs": [
    {
     "data": {
      "text/plain": [
       "[<matplotlib.lines.Line2D at 0x2e9556695b0>]"
      ]
     },
     "execution_count": 6,
     "metadata": {},
     "output_type": "execute_result"
    },
    {
     "data": {
      "image/png": "[encoded data removed]",
      "text/plain": [
       "<Figure size 432x288 with 1 Axes>"
      ]
     },
     "metadata": {
      "needs_background": "light"
     },
     "output_type": "display_data"
    }
   ],
   "source": [
    "xs = np.arange(-14, 16, 0.25)\n",
    "ys = f(xs)\n",
    "plt.plot(xs, ys)"
   ]
  },
  {
   "cell_type": "code",
   "execution_count": 7,
   "metadata": {},
   "outputs": [
    {
     "data": {
      "text/plain": [
       "14.000300000063248"
      ]
     },
     "execution_count": 7,
     "metadata": {},
     "output_type": "execute_result"
    }
   ],
   "source": [
    "h = 0.0001\n",
    "x = 3.0\n",
    "(f(x + h) - f(x)) / h"
   ]
  },
  {
   "cell_type": "code",
   "execution_count": 8,
   "metadata": {},
   "outputs": [
    {
     "name": "stdout",
     "output_type": "stream",
     "text": [
      "4.0\n"
     ]
    }
   ],
   "source": [
    "a = 2.0\n",
    "b = -3.0\n",
    "c = 10.0\n",
    "d = a * b + c\n",
    "print(d)"
   ]
  },
  {
   "cell_type": "code",
   "execution_count": 9,
   "metadata": {},
   "outputs": [
    {
     "name": "stdout",
     "output_type": "stream",
     "text": [
      "d1 4.0\n",
      "d2 3.999699999999999\n",
      "slope -3.000000000010772\n"
     ]
    }
   ],
   "source": [
    "h = 0.0001\n",
    "\n",
    "# inputs\n",
    "a = 2.0\n",
    "b = -3.0\n",
    "c = 10.0\n",
    "\n",
    "d1 = a * b + c\n",
    "a += h\n",
    "d2 = a * b + c\n",
    "\n",
    "print('d1', d1)\n",
    "print('d2', d2)\n",
    "print('slope', (d2 - d1) / h)"
   ]
  },
  {
   "cell_type": "code",
   "execution_count": 10,
   "metadata": {},
   "outputs": [
    {
     "name": "stdout",
     "output_type": "stream",
     "text": [
      "d1 4.0\n",
      "d2 4.0002\n",
      "slope 2.0000000000042206\n"
     ]
    }
   ],
   "source": [
    "h = 0.0001\n",
    "\n",
    "# inputs\n",
    "a = 2.0\n",
    "b = -3.0\n",
    "c = 10.0\n",
    "\n",
    "d1 = a * b + c\n",
    "b += h\n",
    "d2 = a * b + c\n",
    "\n",
    "print('d1', d1)\n",
    "print('d2', d2)\n",
    "print('slope', (d2 - d1) / h)"
   ]
  },
  {
   "cell_type": "code",
   "execution_count": 11,
   "metadata": {},
   "outputs": [
    {
     "name": "stdout",
     "output_type": "stream",
     "text": [
      "d1 4.0\n",
      "d2 4.0001\n",
      "slope 0.9999999999976694\n"
     ]
    }
   ],
   "source": [
    "h = 0.0001\n",
    "\n",
    "# inputs\n",
    "a = 2.0\n",
    "b = -3.0\n",
    "c = 10.0\n",
    "\n",
    "d1 = a * b + c\n",
    "c += h\n",
    "d2 = a * b + c\n",
    "\n",
    "print('d1', d1)\n",
    "print('d2', d2)\n",
    "print('slope', (d2 - d1) / h)"
   ]
  },
  {
   "cell_type": "code",
   "execution_count": 12,
   "metadata": {},
   "outputs": [
    {
     "data": {
      "text/plain": [
       "Value(data=-8.0)"
      ]
     },
     "execution_count": 12,
     "metadata": {},
     "output_type": "execute_result"
    }
   ],
   "source": [
    "class Value:\n",
    "    \n",
    "    def __init__(self, data, _children=(), _op='', label=''):\n",
    "        self.data = data\n",
    "        self.grad = 0.0\n",
    "        self._backward = lambda: None \n",
    "        self._prev = set(_children)\n",
    "        self._op = _op\n",
    "        self.label = label\n",
    "        \n",
    "    def __repr__(self):\n",
    "        return f\"Value(data={self.data})\"\n",
    "    \n",
    "    def __add__(self, other):\n",
    "        out = Value(self.data + other.data, (self, other), '+')\n",
    "        return out\n",
    "    \n",
    "        def _backward():\n",
    "            self.grad = 1.0 * out.grad\n",
    "            other.grad = 1.0 * out.grad\n",
    "        out._backward = _backward\n",
    "        \n",
    "        return out\n",
    "    \n",
    "    def __mul__(self, other):\n",
    "        out = Value(self.data * other.data, (self, other), '*')\n",
    "        \n",
    "        def _backward():\n",
    "            self.grad = other.grad * out.grad\n",
    "            other.grad = self.grad * out.grad\n",
    "        out._backward = _backward\n",
    "        \n",
    "        return out\n",
    "    \n",
    "    def tanh(self):\n",
    "        x = self.data\n",
    "        t = (math.exp(2 * x) - 1) / (math.exp(2*x) + 1)\n",
    "        out = Value(t, (self,), 'tanh')\n",
    "        \n",
    "        def _backward():\n",
    "            self.grad = (1 - t**2) * out.grad\n",
    "        out._backward = _backward\n",
    "        \n",
    "        return out\n",
    "    \n",
    "\n",
    "a = Value(2.0, label='a')\n",
    "b = Value(-3.0, label='b')\n",
    "c = Value(10.0, label='c')\n",
    "e = a * b; e.label = 'e'\n",
    "d = e + c; d.label = 'd'\n",
    "f = Value(-2.0, label='f')\n",
    "L = d * f; L.label = 'L'\n",
    "L1 = L.data\n",
    "L\n"
   ]
  },
  {
   "cell_type": "code",
   "execution_count": 13,
   "metadata": {},
   "outputs": [
    {
     "data": {
      "text/plain": [
       "{Value(data=-6.0), Value(data=10.0)}"
      ]
     },
     "execution_count": 13,
     "metadata": {},
     "output_type": "execute_result"
    }
   ],
   "source": [
    "d._prev"
   ]
  },
  {
   "cell_type": "code",
   "execution_count": 14,
   "metadata": {},
   "outputs": [
    {
     "data": {
      "text/plain": [
       "'+'"
      ]
     },
     "execution_count": 14,
     "metadata": {},
     "output_type": "execute_result"
    }
   ],
   "source": [
    "d._op"
   ]
  },
  {
   "cell_type": "code",
   "execution_count": 15,
   "metadata": {},
   "outputs": [],
   "source": [
    "\n",
    "from graphviz import Digraph\n",
    "\n",
    "def trace(root):\n",
    "    # builds a set of all nodes and edges in graph\n",
    "    nodes, edges = set(), set()\n",
    "    def build(v):\n",
    "        if v not in nodes:\n",
    "            nodes.add(v)\n",
    "            for child in v._prev:\n",
    "                edges.add((child, v))\n",
    "                build(child)\n",
    "    build(root)\n",
    "    return nodes, edges\n",
    "\n",
    "def draw_dot(root):\n",
    "    dot = Digraph(format='svg', graph_attr={'rankdir': 'LR'}) # LR - left to right\n",
    "    \n",
    "    nodes, edges = trace(root)\n",
    "    for n in nodes:\n",
    "        uid = str(id(n))\n",
    "        # for any value in the graph, create a rectangular ('record') node for it\n",
    "        dot.node(name = uid, label = \"{ %s | data %.4f | grad %.4f }\" % (n.label, n.data, n.grad), shape='record')\n",
    "        if n._op:\n",
    "            # if this value is a result of some operations, create an op node for it\n",
    "            dot.node(name = uid + n._op, label = n._op)\n",
    "            # and connect this node to it\n",
    "            dot.edge(uid + n._op, uid)\n",
    "            \n",
    "    for n1, n2 in edges:\n",
    "        # connect n1 to the op node of n2\n",
    "        dot.edge(str(id(n1)), str(id(n2)) + n2._op)\n",
    "        \n",
    "    return dot"
   ]
  },
  {
   "cell_type": "code",
   "execution_count": 16,
   "metadata": {},
   "outputs": [
    {
     "data": {
      "image/svg+xml": [
       "<?xml version=\"1.0\" encoding=\"UTF-8\" standalone=\"no\"?>\n",
       "<!DOCTYPE svg PUBLIC \"-//W3C//DTD SVG 1.1//EN\"\n",
       " \"http://www.w3.org/Graphics/SVG/1.1/DTD/svg11.dtd\">\n",
       "<!-- Generated by graphviz version 6.0.1 (20220911.1526)\n",
       " -->\n",
       "<!-- Pages: 1 -->\n",
       "<svg width=\"1157pt\" height=\"156pt\"\n",
       " viewBox=\"0.00 0.00 1157.00 156.00\" xmlns=\"http://www.w3.org/2000/svg\" xmlns:xlink=\"http://www.w3.org/1999/xlink\">\n",
       "<g id=\"graph0\" class=\"graph\" transform=\"scale(1 1) rotate(0) translate(4 152)\">\n",
       "<polygon fill=\"white\" stroke=\"none\" points=\"-4,4 -4,-152 1153,-152 1153,4 -4,4\"/>\n",
       "<!-- 3201183017472 -->\n",
       "<g id=\"node1\" class=\"node\">\n",
       "<title>3201183017472</title>\n",
       "<polygon fill=\"none\" stroke=\"black\" points=\"3,-111.5 3,-147.5 190,-147.5 190,-111.5 3,-111.5\"/>\n",
       "<text text-anchor=\"middle\" x=\"14.5\" y=\"-125.8\" font-family=\"Times New Roman,serif\" font-size=\"14.00\">a</text>\n",
       "<polyline fill=\"none\" stroke=\"black\" points=\"26,-111.5 26,-147.5\"/>\n",
       "<text text-anchor=\"middle\" x=\"66.5\" y=\"-125.8\" font-family=\"Times New Roman,serif\" font-size=\"14.00\">data 2.0000</text>\n",
       "<polyline fill=\"none\" stroke=\"black\" points=\"107,-111.5 107,-147.5\"/>\n",
       "<text text-anchor=\"middle\" x=\"148.5\" y=\"-125.8\" font-family=\"Times New Roman,serif\" font-size=\"14.00\">grad 0.0000</text>\n",
       "</g>\n",
       "<!-- 3201184353920* -->\n",
       "<g id=\"node4\" class=\"node\">\n",
       "<title>3201184353920*</title>\n",
       "<ellipse fill=\"none\" stroke=\"black\" cx=\"256\" cy=\"-101.5\" rx=\"27\" ry=\"18\"/>\n",
       "<text text-anchor=\"middle\" x=\"256\" y=\"-97.8\" font-family=\"Times New Roman,serif\" font-size=\"14.00\">*</text>\n",
       "</g>\n",
       "<!-- 3201183017472&#45;&gt;3201184353920* -->\n",
       "<g id=\"edge9\" class=\"edge\">\n",
       "<title>3201183017472&#45;&gt;3201184353920*</title>\n",
       "<path fill=\"none\" stroke=\"black\" d=\"M190.03,-113.05C200.52,-111.19 210.68,-109.38 219.72,-107.77\"/>\n",
       "<polygon fill=\"black\" stroke=\"black\" points=\"220.54,-111.18 229.77,-105.98 219.32,-104.29 220.54,-111.18\"/>\n",
       "</g>\n",
       "<!-- 3201183018048 -->\n",
       "<g id=\"node2\" class=\"node\">\n",
       "<title>3201183018048</title>\n",
       "<polygon fill=\"none\" stroke=\"black\" points=\"319,-28.5 319,-64.5 513,-64.5 513,-28.5 319,-28.5\"/>\n",
       "<text text-anchor=\"middle\" x=\"330.5\" y=\"-42.8\" font-family=\"Times New Roman,serif\" font-size=\"14.00\">c</text>\n",
       "<polyline fill=\"none\" stroke=\"black\" points=\"342,-28.5 342,-64.5\"/>\n",
       "<text text-anchor=\"middle\" x=\"386\" y=\"-42.8\" font-family=\"Times New Roman,serif\" font-size=\"14.00\">data 10.0000</text>\n",
       "<polyline fill=\"none\" stroke=\"black\" points=\"430,-28.5 430,-64.5\"/>\n",
       "<text text-anchor=\"middle\" x=\"471.5\" y=\"-42.8\" font-family=\"Times New Roman,serif\" font-size=\"14.00\">grad 0.0000</text>\n",
       "</g>\n",
       "<!-- 3201184350464+ -->\n",
       "<g id=\"node8\" class=\"node\">\n",
       "<title>3201184350464+</title>\n",
       "<ellipse fill=\"none\" stroke=\"black\" cx=\"576\" cy=\"-73.5\" rx=\"27\" ry=\"18\"/>\n",
       "<text text-anchor=\"middle\" x=\"576\" y=\"-69.8\" font-family=\"Times New Roman,serif\" font-size=\"14.00\">+</text>\n",
       "</g>\n",
       "<!-- 3201183018048&#45;&gt;3201184350464+ -->\n",
       "<g id=\"edge5\" class=\"edge\">\n",
       "<title>3201183018048&#45;&gt;3201184350464+</title>\n",
       "<path fill=\"none\" stroke=\"black\" d=\"M513.01,-62.91C522.35,-64.5 531.37,-66.04 539.49,-67.43\"/>\n",
       "<polygon fill=\"black\" stroke=\"black\" points=\"539.16,-70.93 549.6,-69.16 540.34,-64.03 539.16,-70.93\"/>\n",
       "</g>\n",
       "<!-- 3201184353920 -->\n",
       "<g id=\"node3\" class=\"node\">\n",
       "<title>3201184353920</title>\n",
       "<polygon fill=\"none\" stroke=\"black\" points=\"320,-83.5 320,-119.5 512,-119.5 512,-83.5 320,-83.5\"/>\n",
       "<text text-anchor=\"middle\" x=\"331.5\" y=\"-97.8\" font-family=\"Times New Roman,serif\" font-size=\"14.00\">e</text>\n",
       "<polyline fill=\"none\" stroke=\"black\" points=\"343,-83.5 343,-119.5\"/>\n",
       "<text text-anchor=\"middle\" x=\"386\" y=\"-97.8\" font-family=\"Times New Roman,serif\" font-size=\"14.00\">data &#45;6.0000</text>\n",
       "<polyline fill=\"none\" stroke=\"black\" points=\"429,-83.5 429,-119.5\"/>\n",
       "<text text-anchor=\"middle\" x=\"470.5\" y=\"-97.8\" font-family=\"Times New Roman,serif\" font-size=\"14.00\">grad 0.0000</text>\n",
       "</g>\n",
       "<!-- 3201184353920&#45;&gt;3201184350464+ -->\n",
       "<g id=\"edge7\" class=\"edge\">\n",
       "<title>3201184353920&#45;&gt;3201184350464+</title>\n",
       "<path fill=\"none\" stroke=\"black\" d=\"M512.1,-84.65C521.84,-82.92 531.24,-81.25 539.68,-79.76\"/>\n",
       "<polygon fill=\"black\" stroke=\"black\" points=\"540.56,-83.16 549.79,-77.97 539.34,-76.27 540.56,-83.16\"/>\n",
       "</g>\n",
       "<!-- 3201184353920*&#45;&gt;3201184353920 -->\n",
       "<g id=\"edge1\" class=\"edge\">\n",
       "<title>3201184353920*&#45;&gt;3201184353920</title>\n",
       "<path fill=\"none\" stroke=\"black\" d=\"M283.09,-101.5C290.9,-101.5 299.98,-101.5 309.66,-101.5\"/>\n",
       "<polygon fill=\"black\" stroke=\"black\" points=\"309.93,-105 319.93,-101.5 309.93,-98 309.93,-105\"/>\n",
       "</g>\n",
       "<!-- 3201184353008 -->\n",
       "<g id=\"node5\" class=\"node\">\n",
       "<title>3201184353008</title>\n",
       "<polygon fill=\"none\" stroke=\"black\" points=\"955,-27.5 955,-63.5 1149,-63.5 1149,-27.5 955,-27.5\"/>\n",
       "<text text-anchor=\"middle\" x=\"967.5\" y=\"-41.8\" font-family=\"Times New Roman,serif\" font-size=\"14.00\">L</text>\n",
       "<polyline fill=\"none\" stroke=\"black\" points=\"980,-27.5 980,-63.5\"/>\n",
       "<text text-anchor=\"middle\" x=\"1023\" y=\"-41.8\" font-family=\"Times New Roman,serif\" font-size=\"14.00\">data &#45;8.0000</text>\n",
       "<polyline fill=\"none\" stroke=\"black\" points=\"1066,-27.5 1066,-63.5\"/>\n",
       "<text text-anchor=\"middle\" x=\"1107.5\" y=\"-41.8\" font-family=\"Times New Roman,serif\" font-size=\"14.00\">grad 0.0000</text>\n",
       "</g>\n",
       "<!-- 3201184353008* -->\n",
       "<g id=\"node6\" class=\"node\">\n",
       "<title>3201184353008*</title>\n",
       "<ellipse fill=\"none\" stroke=\"black\" cx=\"892\" cy=\"-45.5\" rx=\"27\" ry=\"18\"/>\n",
       "<text text-anchor=\"middle\" x=\"892\" y=\"-41.8\" font-family=\"Times New Roman,serif\" font-size=\"14.00\">*</text>\n",
       "</g>\n",
       "<!-- 3201184353008*&#45;&gt;3201184353008 -->\n",
       "<g id=\"edge2\" class=\"edge\">\n",
       "<title>3201184353008*&#45;&gt;3201184353008</title>\n",
       "<path fill=\"none\" stroke=\"black\" d=\"M919.09,-45.5C926.62,-45.5 935.34,-45.5 944.63,-45.5\"/>\n",
       "<polygon fill=\"black\" stroke=\"black\" points=\"944.92,-49 954.92,-45.5 944.92,-42 944.92,-49\"/>\n",
       "</g>\n",
       "<!-- 3201184350464 -->\n",
       "<g id=\"node7\" class=\"node\">\n",
       "<title>3201184350464</title>\n",
       "<polygon fill=\"none\" stroke=\"black\" points=\"640,-55.5 640,-91.5 828,-91.5 828,-55.5 640,-55.5\"/>\n",
       "<text text-anchor=\"middle\" x=\"652\" y=\"-69.8\" font-family=\"Times New Roman,serif\" font-size=\"14.00\">d</text>\n",
       "<polyline fill=\"none\" stroke=\"black\" points=\"664,-55.5 664,-91.5\"/>\n",
       "<text text-anchor=\"middle\" x=\"704.5\" y=\"-69.8\" font-family=\"Times New Roman,serif\" font-size=\"14.00\">data 4.0000</text>\n",
       "<polyline fill=\"none\" stroke=\"black\" points=\"745,-55.5 745,-91.5\"/>\n",
       "<text text-anchor=\"middle\" x=\"786.5\" y=\"-69.8\" font-family=\"Times New Roman,serif\" font-size=\"14.00\">grad 0.0000</text>\n",
       "</g>\n",
       "<!-- 3201184350464&#45;&gt;3201184353008* -->\n",
       "<g id=\"edge4\" class=\"edge\">\n",
       "<title>3201184350464&#45;&gt;3201184353008*</title>\n",
       "<path fill=\"none\" stroke=\"black\" d=\"M828.45,-56.73C838.03,-55.01 847.29,-53.35 855.61,-51.85\"/>\n",
       "<polygon fill=\"black\" stroke=\"black\" points=\"856.38,-55.27 865.61,-50.06 855.15,-48.38 856.38,-55.27\"/>\n",
       "</g>\n",
       "<!-- 3201184350464+&#45;&gt;3201184350464 -->\n",
       "<g id=\"edge3\" class=\"edge\">\n",
       "<title>3201184350464+&#45;&gt;3201184350464</title>\n",
       "<path fill=\"none\" stroke=\"black\" d=\"M603.11,-73.5C610.9,-73.5 619.95,-73.5 629.59,-73.5\"/>\n",
       "<polygon fill=\"black\" stroke=\"black\" points=\"629.81,-77 639.81,-73.5 629.81,-70 629.81,-77\"/>\n",
       "</g>\n",
       "<!-- 3201184353104 -->\n",
       "<g id=\"node9\" class=\"node\">\n",
       "<title>3201184353104</title>\n",
       "<polygon fill=\"none\" stroke=\"black\" points=\"639,-0.5 639,-36.5 829,-36.5 829,-0.5 639,-0.5\"/>\n",
       "<text text-anchor=\"middle\" x=\"649.5\" y=\"-14.8\" font-family=\"Times New Roman,serif\" font-size=\"14.00\">f</text>\n",
       "<polyline fill=\"none\" stroke=\"black\" points=\"660,-0.5 660,-36.5\"/>\n",
       "<text text-anchor=\"middle\" x=\"703\" y=\"-14.8\" font-family=\"Times New Roman,serif\" font-size=\"14.00\">data &#45;2.0000</text>\n",
       "<polyline fill=\"none\" stroke=\"black\" points=\"746,-0.5 746,-36.5\"/>\n",
       "<text text-anchor=\"middle\" x=\"787.5\" y=\"-14.8\" font-family=\"Times New Roman,serif\" font-size=\"14.00\">grad 0.0000</text>\n",
       "</g>\n",
       "<!-- 3201184353104&#45;&gt;3201184353008* -->\n",
       "<g id=\"edge6\" class=\"edge\">\n",
       "<title>3201184353104&#45;&gt;3201184353008*</title>\n",
       "<path fill=\"none\" stroke=\"black\" d=\"M829.34,-34.83C838.62,-36.44 847.58,-37.99 855.66,-39.38\"/>\n",
       "<polygon fill=\"black\" stroke=\"black\" points=\"855.27,-42.87 865.72,-41.12 856.46,-35.97 855.27,-42.87\"/>\n",
       "</g>\n",
       "<!-- 3201183015408 -->\n",
       "<g id=\"node10\" class=\"node\">\n",
       "<title>3201183015408</title>\n",
       "<polygon fill=\"none\" stroke=\"black\" points=\"0,-56.5 0,-92.5 193,-92.5 193,-56.5 0,-56.5\"/>\n",
       "<text text-anchor=\"middle\" x=\"12\" y=\"-70.8\" font-family=\"Times New Roman,serif\" font-size=\"14.00\">b</text>\n",
       "<polyline fill=\"none\" stroke=\"black\" points=\"24,-56.5 24,-92.5\"/>\n",
       "<text text-anchor=\"middle\" x=\"67\" y=\"-70.8\" font-family=\"Times New Roman,serif\" font-size=\"14.00\">data &#45;3.0000</text>\n",
       "<polyline fill=\"none\" stroke=\"black\" points=\"110,-56.5 110,-92.5\"/>\n",
       "<text text-anchor=\"middle\" x=\"151.5\" y=\"-70.8\" font-family=\"Times New Roman,serif\" font-size=\"14.00\">grad 0.0000</text>\n",
       "</g>\n",
       "<!-- 3201183015408&#45;&gt;3201184353920* -->\n",
       "<g id=\"edge8\" class=\"edge\">\n",
       "<title>3201183015408&#45;&gt;3201184353920*</title>\n",
       "<path fill=\"none\" stroke=\"black\" d=\"M193.2,-90.91C202.52,-92.5 211.5,-94.04 219.6,-95.43\"/>\n",
       "<polygon fill=\"black\" stroke=\"black\" points=\"219.24,-98.92 229.68,-97.16 220.42,-92.02 219.24,-98.92\"/>\n",
       "</g>\n",
       "</g>\n",
       "</svg>\n"
      ],
      "text/plain": [
       "<graphviz.graphs.Digraph at 0x2e955755cd0>"
      ]
     },
     "execution_count": 16,
     "metadata": {},
     "output_type": "execute_result"
    }
   ],
   "source": [
    "draw_dot(L)"
   ]
  },
  {
   "cell_type": "code",
   "execution_count": 17,
   "metadata": {
    "jupyter": {
     "source_hidden": true
    }
   },
   "outputs": [],
   "source": [
    "# a.grad = 6\n",
    "# b.grad = -4\n",
    "# c.grad = -2\n",
    "# d.grad = -2\n",
    "# e.grad = -2\n",
    "# f.grad = 4\n",
    "# L.grad = 1"
   ]
  },
  {
   "cell_type": "code",
   "execution_count": 18,
   "metadata": {
    "jupyter": {
     "source_hidden": true
    }
   },
   "outputs": [],
   "source": [
    "# a.data += 0.01 * a.grad\n",
    "# b.data += 0.01 * b.grad\n",
    "# c.data += 0.01 * c.grad\n",
    "# f.data += 0.01 * f.grad\n",
    "\n",
    "# e = a * b\n",
    "# d = e + c\n",
    "# L = d * f\n",
    "\n",
    "# print(L.data)"
   ]
  },
  {
   "cell_type": "code",
   "execution_count": 19,
   "metadata": {
    "jupyter": {
     "source_hidden": true
    }
   },
   "outputs": [
    {
     "name": "stdout",
     "output_type": "stream",
     "text": [
      "-3.9999999999995595\n"
     ]
    }
   ],
   "source": [
    "def lol():\n",
    "    \n",
    "    h = 0.001\n",
    "    \n",
    "    a = Value(2.0, label='a')\n",
    "    b = Value(-3.0, label='b')\n",
    "    c = Value(10.0, label='c')\n",
    "    e = a * b; e.label = 'e'\n",
    "    d = e + c; d.label = 'd'\n",
    "    f = Value(-2.0, label='f')\n",
    "    L = d * f; L.label = 'L'\n",
    "    L1 = L.data\n",
    "    \n",
    "    \n",
    "    a = Value(2.0, label='a')\n",
    "    b = Value(-3.0, label='b')\n",
    "    c = Value(10.0, label='c')\n",
    "    b.data += h\n",
    "    e = a * b; e.label = 'e'\n",
    "    d = e + c; d.label = 'd'\n",
    "    f = Value(-2.0, label='f')\n",
    "    L = d * f; L.label = 'L'\n",
    "    L2 = L.data\n",
    "    \n",
    "    print((L2 - L1) / h)\n",
    "    \n",
    "\n",
    "lol()"
   ]
  },
  {
   "cell_type": "code",
   "execution_count": 20,
   "metadata": {},
   "outputs": [
    {
     "data": {
      "image/png": "[encoded data removed]",
      "text/plain": [
       "<Figure size 432x288 with 1 Axes>"
      ]
     },
     "metadata": {
      "needs_background": "light"
     },
     "output_type": "display_data"
    }
   ],
   "source": [
    "plt.plot(np.arange(-5, 5, 0.2), np.tanh(np.arange(-5, 5, 0.2))); plt.grid()"
   ]
  },
  {
   "cell_type": "code",
   "execution_count": 21,
   "metadata": {},
   "outputs": [],
   "source": [
    "# inputs x1,x2\n",
    "x1 = Value(2.0, label='x1')\n",
    "x2 = Value(0.0, label='x2')\n",
    "# weights w1,w2\n",
    "w1 = Value(-3.0, label='w1')\n",
    "w2 = Value(1.0, label='w2')\n",
    "# bias of the neuron\n",
    "b = Value(6.8813735870195432, label='b')\n",
    "# x1*w1 + x2*w2 + b\n",
    "x1w1 = x1*w1; x1w1.label = 'x1*w1'\n",
    "x2w2 = x2*w2; x2w2.label = 'x2*w2'\n",
    "x1w1x2w2 = x1w1 + x2w2; x1w1x2w2.label = 'x1*w1 + x2*w2'\n",
    "n = x1w1x2w2 + b; n.label = 'n'\n",
    "o = n.tanh(); o.label = 'o'\n"
   ]
  },
  {
   "cell_type": "code",
   "execution_count": 31,
   "metadata": {},
   "outputs": [
    {
     "data": {
      "image/svg+xml": [
       "<?xml version=\"1.0\" encoding=\"UTF-8\" standalone=\"no\"?>\n",
       "<!DOCTYPE svg PUBLIC \"-//W3C//DTD SVG 1.1//EN\"\n",
       " \"http://www.w3.org/Graphics/SVG/1.1/DTD/svg11.dtd\">\n",
       "<!-- Generated by graphviz version 6.0.1 (20220911.1526)\n",
       " -->\n",
       "<!-- Pages: 1 -->\n",
       "<svg width=\"1586pt\" height=\"210pt\"\n",
       " viewBox=\"0.00 0.00 1586.00 210.00\" xmlns=\"http://www.w3.org/2000/svg\" xmlns:xlink=\"http://www.w3.org/1999/xlink\">\n",
       "<g id=\"graph0\" class=\"graph\" transform=\"scale(1 1) rotate(0) translate(4 206)\">\n",
       "<polygon fill=\"white\" stroke=\"none\" points=\"-4,4 -4,-206 1582,-206 1582,4 -4,4\"/>\n",
       "<!-- 3201185074720 -->\n",
       "<g id=\"node1\" class=\"node\">\n",
       "<title>3201185074720</title>\n",
       "<polygon fill=\"none\" stroke=\"black\" points=\"676,-82.5 676,-118.5 951,-118.5 951,-82.5 676,-82.5\"/>\n",
       "<text text-anchor=\"middle\" x=\"729\" y=\"-96.8\" font-family=\"Times New Roman,serif\" font-size=\"14.00\">x1*w1 + x2*w2</text>\n",
       "<polyline fill=\"none\" stroke=\"black\" points=\"782,-82.5 782,-118.5\"/>\n",
       "<text text-anchor=\"middle\" x=\"825\" y=\"-96.8\" font-family=\"Times New Roman,serif\" font-size=\"14.00\">data &#45;6.0000</text>\n",
       "<polyline fill=\"none\" stroke=\"black\" points=\"868,-82.5 868,-118.5\"/>\n",
       "<text text-anchor=\"middle\" x=\"909.5\" y=\"-96.8\" font-family=\"Times New Roman,serif\" font-size=\"14.00\">grad 0.0000</text>\n",
       "</g>\n",
       "<!-- 3201185073328+ -->\n",
       "<g id=\"node9\" class=\"node\">\n",
       "<title>3201185073328+</title>\n",
       "<ellipse fill=\"none\" stroke=\"black\" cx=\"1014\" cy=\"-127.5\" rx=\"27\" ry=\"18\"/>\n",
       "<text text-anchor=\"middle\" x=\"1014\" y=\"-123.8\" font-family=\"Times New Roman,serif\" font-size=\"14.00\">+</text>\n",
       "</g>\n",
       "<!-- 3201185074720&#45;&gt;3201185073328+ -->\n",
       "<g id=\"edge7\" class=\"edge\">\n",
       "<title>3201185074720&#45;&gt;3201185073328+</title>\n",
       "<path fill=\"none\" stroke=\"black\" d=\"M946.9,-118.51C957.84,-120 968.17,-121.4 977.27,-122.64\"/>\n",
       "<polygon fill=\"black\" stroke=\"black\" points=\"976.98,-126.13 987.36,-124.01 977.92,-119.2 976.98,-126.13\"/>\n",
       "</g>\n",
       "<!-- 3201185074720+ -->\n",
       "<g id=\"node2\" class=\"node\">\n",
       "<title>3201185074720+</title>\n",
       "<ellipse fill=\"none\" stroke=\"black\" cx=\"613\" cy=\"-100.5\" rx=\"27\" ry=\"18\"/>\n",
       "<text text-anchor=\"middle\" x=\"613\" y=\"-96.8\" font-family=\"Times New Roman,serif\" font-size=\"14.00\">+</text>\n",
       "</g>\n",
       "<!-- 3201185074720+&#45;&gt;3201185074720 -->\n",
       "<g id=\"edge1\" class=\"edge\">\n",
       "<title>3201185074720+&#45;&gt;3201185074720</title>\n",
       "<path fill=\"none\" stroke=\"black\" d=\"M640.36,-100.5C647.8,-100.5 656.45,-100.5 665.84,-100.5\"/>\n",
       "<polygon fill=\"black\" stroke=\"black\" points=\"665.88,-104 675.88,-100.5 665.88,-97 665.88,-104\"/>\n",
       "</g>\n",
       "<!-- 3201185194048 -->\n",
       "<g id=\"node3\" class=\"node\">\n",
       "<title>3201185194048</title>\n",
       "<polygon fill=\"none\" stroke=\"black\" points=\"4,-165.5 4,-201.5 198,-201.5 198,-165.5 4,-165.5\"/>\n",
       "<text text-anchor=\"middle\" x=\"19\" y=\"-179.8\" font-family=\"Times New Roman,serif\" font-size=\"14.00\">x1</text>\n",
       "<polyline fill=\"none\" stroke=\"black\" points=\"34,-165.5 34,-201.5\"/>\n",
       "<text text-anchor=\"middle\" x=\"74.5\" y=\"-179.8\" font-family=\"Times New Roman,serif\" font-size=\"14.00\">data 2.0000</text>\n",
       "<polyline fill=\"none\" stroke=\"black\" points=\"115,-165.5 115,-201.5\"/>\n",
       "<text text-anchor=\"middle\" x=\"156.5\" y=\"-179.8\" font-family=\"Times New Roman,serif\" font-size=\"14.00\">grad 0.0000</text>\n",
       "</g>\n",
       "<!-- 3201185136352* -->\n",
       "<g id=\"node11\" class=\"node\">\n",
       "<title>3201185136352*</title>\n",
       "<ellipse fill=\"none\" stroke=\"black\" cx=\"265\" cy=\"-128.5\" rx=\"27\" ry=\"18\"/>\n",
       "<text text-anchor=\"middle\" x=\"265\" y=\"-124.8\" font-family=\"Times New Roman,serif\" font-size=\"14.00\">*</text>\n",
       "</g>\n",
       "<!-- 3201185194048&#45;&gt;3201185136352* -->\n",
       "<g id=\"edge10\" class=\"edge\">\n",
       "<title>3201185194048&#45;&gt;3201185136352*</title>\n",
       "<path fill=\"none\" stroke=\"black\" d=\"M174.26,-165.48C183.66,-162.7 193.11,-159.68 202,-156.5 212.53,-152.73 223.76,-147.91 233.72,-143.34\"/>\n",
       "<polygon fill=\"black\" stroke=\"black\" points=\"235.26,-146.49 242.83,-139.08 232.29,-140.15 235.26,-146.49\"/>\n",
       "</g>\n",
       "<!-- 3201185074288 -->\n",
       "<g id=\"node4\" class=\"node\">\n",
       "<title>3201185074288</title>\n",
       "<polygon fill=\"none\" stroke=\"black\" points=\"1390,-109.5 1390,-145.5 1578,-145.5 1578,-109.5 1390,-109.5\"/>\n",
       "<text text-anchor=\"middle\" x=\"1402\" y=\"-123.8\" font-family=\"Times New Roman,serif\" font-size=\"14.00\">o</text>\n",
       "<polyline fill=\"none\" stroke=\"black\" points=\"1414,-109.5 1414,-145.5\"/>\n",
       "<text text-anchor=\"middle\" x=\"1454.5\" y=\"-123.8\" font-family=\"Times New Roman,serif\" font-size=\"14.00\">data 0.7071</text>\n",
       "<polyline fill=\"none\" stroke=\"black\" points=\"1495,-109.5 1495,-145.5\"/>\n",
       "<text text-anchor=\"middle\" x=\"1536.5\" y=\"-123.8\" font-family=\"Times New Roman,serif\" font-size=\"14.00\">grad 0.0000</text>\n",
       "</g>\n",
       "<!-- 3201185074288tanh -->\n",
       "<g id=\"node5\" class=\"node\">\n",
       "<title>3201185074288tanh</title>\n",
       "<ellipse fill=\"none\" stroke=\"black\" cx=\"1327\" cy=\"-127.5\" rx=\"27\" ry=\"18\"/>\n",
       "<text text-anchor=\"middle\" x=\"1327\" y=\"-123.8\" font-family=\"Times New Roman,serif\" font-size=\"14.00\">tanh</text>\n",
       "</g>\n",
       "<!-- 3201185074288tanh&#45;&gt;3201185074288 -->\n",
       "<g id=\"edge2\" class=\"edge\">\n",
       "<title>3201185074288tanh&#45;&gt;3201185074288</title>\n",
       "<path fill=\"none\" stroke=\"black\" d=\"M1354.29,-127.5C1361.78,-127.5 1370.42,-127.5 1379.6,-127.5\"/>\n",
       "<polygon fill=\"black\" stroke=\"black\" points=\"1379.76,-131 1389.76,-127.5 1379.76,-124 1379.76,-131\"/>\n",
       "</g>\n",
       "<!-- 3201185194096 -->\n",
       "<g id=\"node6\" class=\"node\">\n",
       "<title>3201185194096</title>\n",
       "<polygon fill=\"none\" stroke=\"black\" points=\"2.5,-55.5 2.5,-91.5 199.5,-91.5 199.5,-55.5 2.5,-55.5\"/>\n",
       "<text text-anchor=\"middle\" x=\"19\" y=\"-69.8\" font-family=\"Times New Roman,serif\" font-size=\"14.00\">w2</text>\n",
       "<polyline fill=\"none\" stroke=\"black\" points=\"35.5,-55.5 35.5,-91.5\"/>\n",
       "<text text-anchor=\"middle\" x=\"76\" y=\"-69.8\" font-family=\"Times New Roman,serif\" font-size=\"14.00\">data 1.0000</text>\n",
       "<polyline fill=\"none\" stroke=\"black\" points=\"116.5,-55.5 116.5,-91.5\"/>\n",
       "<text text-anchor=\"middle\" x=\"158\" y=\"-69.8\" font-family=\"Times New Roman,serif\" font-size=\"14.00\">grad 0.0000</text>\n",
       "</g>\n",
       "<!-- 3201185136544* -->\n",
       "<g id=\"node15\" class=\"node\">\n",
       "<title>3201185136544*</title>\n",
       "<ellipse fill=\"none\" stroke=\"black\" cx=\"265\" cy=\"-73.5\" rx=\"27\" ry=\"18\"/>\n",
       "<text text-anchor=\"middle\" x=\"265\" y=\"-69.8\" font-family=\"Times New Roman,serif\" font-size=\"14.00\">*</text>\n",
       "</g>\n",
       "<!-- 3201185194096&#45;&gt;3201185136544* -->\n",
       "<g id=\"edge11\" class=\"edge\">\n",
       "<title>3201185194096&#45;&gt;3201185136544*</title>\n",
       "<path fill=\"none\" stroke=\"black\" d=\"M199.51,-73.5C209.51,-73.5 219.17,-73.5 227.82,-73.5\"/>\n",
       "<polygon fill=\"black\" stroke=\"black\" points=\"227.84,-77 237.84,-73.5 227.84,-70 227.84,-77\"/>\n",
       "</g>\n",
       "<!-- 3201185194144 -->\n",
       "<g id=\"node7\" class=\"node\">\n",
       "<title>3201185194144</title>\n",
       "<polygon fill=\"none\" stroke=\"black\" points=\"4,-0.5 4,-36.5 198,-36.5 198,-0.5 4,-0.5\"/>\n",
       "<text text-anchor=\"middle\" x=\"19\" y=\"-14.8\" font-family=\"Times New Roman,serif\" font-size=\"14.00\">x2</text>\n",
       "<polyline fill=\"none\" stroke=\"black\" points=\"34,-0.5 34,-36.5\"/>\n",
       "<text text-anchor=\"middle\" x=\"74.5\" y=\"-14.8\" font-family=\"Times New Roman,serif\" font-size=\"14.00\">data 0.0000</text>\n",
       "<polyline fill=\"none\" stroke=\"black\" points=\"115,-0.5 115,-36.5\"/>\n",
       "<text text-anchor=\"middle\" x=\"156.5\" y=\"-14.8\" font-family=\"Times New Roman,serif\" font-size=\"14.00\">grad 0.0000</text>\n",
       "</g>\n",
       "<!-- 3201185194144&#45;&gt;3201185136544* -->\n",
       "<g id=\"edge14\" class=\"edge\">\n",
       "<title>3201185194144&#45;&gt;3201185136544*</title>\n",
       "<path fill=\"none\" stroke=\"black\" d=\"M171.25,-36.55C181.63,-39.64 192.15,-42.99 202,-46.5 212.29,-50.16 223.28,-54.72 233.11,-59.05\"/>\n",
       "<polygon fill=\"black\" stroke=\"black\" points=\"231.93,-62.36 242.49,-63.26 234.8,-55.97 231.93,-62.36\"/>\n",
       "</g>\n",
       "<!-- 3201185073328 -->\n",
       "<g id=\"node8\" class=\"node\">\n",
       "<title>3201185073328</title>\n",
       "<polygon fill=\"none\" stroke=\"black\" points=\"1077,-109.5 1077,-145.5 1264,-145.5 1264,-109.5 1077,-109.5\"/>\n",
       "<text text-anchor=\"middle\" x=\"1088.5\" y=\"-123.8\" font-family=\"Times New Roman,serif\" font-size=\"14.00\">n</text>\n",
       "<polyline fill=\"none\" stroke=\"black\" points=\"1100,-109.5 1100,-145.5\"/>\n",
       "<text text-anchor=\"middle\" x=\"1140.5\" y=\"-123.8\" font-family=\"Times New Roman,serif\" font-size=\"14.00\">data 0.8814</text>\n",
       "<polyline fill=\"none\" stroke=\"black\" points=\"1181,-109.5 1181,-145.5\"/>\n",
       "<text text-anchor=\"middle\" x=\"1222.5\" y=\"-123.8\" font-family=\"Times New Roman,serif\" font-size=\"14.00\">grad 0.0000</text>\n",
       "</g>\n",
       "<!-- 3201185073328&#45;&gt;3201185074288tanh -->\n",
       "<g id=\"edge13\" class=\"edge\">\n",
       "<title>3201185073328&#45;&gt;3201185074288tanh</title>\n",
       "<path fill=\"none\" stroke=\"black\" d=\"M1264.05,-127.5C1273.06,-127.5 1281.79,-127.5 1289.7,-127.5\"/>\n",
       "<polygon fill=\"black\" stroke=\"black\" points=\"1289.95,-131 1299.95,-127.5 1289.95,-124 1289.95,-131\"/>\n",
       "</g>\n",
       "<!-- 3201185073328+&#45;&gt;3201185073328 -->\n",
       "<g id=\"edge3\" class=\"edge\">\n",
       "<title>3201185073328+&#45;&gt;3201185073328</title>\n",
       "<path fill=\"none\" stroke=\"black\" d=\"M1041.21,-127.5C1048.73,-127.5 1057.43,-127.5 1066.67,-127.5\"/>\n",
       "<polygon fill=\"black\" stroke=\"black\" points=\"1066.89,-131 1076.89,-127.5 1066.89,-124 1066.89,-131\"/>\n",
       "</g>\n",
       "<!-- 3201185136352 -->\n",
       "<g id=\"node10\" class=\"node\">\n",
       "<title>3201185136352</title>\n",
       "<polygon fill=\"none\" stroke=\"black\" points=\"328,-110.5 328,-146.5 550,-146.5 550,-110.5 328,-110.5\"/>\n",
       "<text text-anchor=\"middle\" x=\"354.5\" y=\"-124.8\" font-family=\"Times New Roman,serif\" font-size=\"14.00\">x1*w1</text>\n",
       "<polyline fill=\"none\" stroke=\"black\" points=\"381,-110.5 381,-146.5\"/>\n",
       "<text text-anchor=\"middle\" x=\"424\" y=\"-124.8\" font-family=\"Times New Roman,serif\" font-size=\"14.00\">data &#45;6.0000</text>\n",
       "<polyline fill=\"none\" stroke=\"black\" points=\"467,-110.5 467,-146.5\"/>\n",
       "<text text-anchor=\"middle\" x=\"508.5\" y=\"-124.8\" font-family=\"Times New Roman,serif\" font-size=\"14.00\">grad 0.0000</text>\n",
       "</g>\n",
       "<!-- 3201185136352&#45;&gt;3201185074720+ -->\n",
       "<g id=\"edge9\" class=\"edge\">\n",
       "<title>3201185136352&#45;&gt;3201185074720+</title>\n",
       "<path fill=\"none\" stroke=\"black\" d=\"M550.39,-110.53C559.67,-109.02 568.54,-107.58 576.51,-106.28\"/>\n",
       "<polygon fill=\"black\" stroke=\"black\" points=\"577.12,-109.72 586.43,-104.66 575.99,-102.82 577.12,-109.72\"/>\n",
       "</g>\n",
       "<!-- 3201185136352*&#45;&gt;3201185136352 -->\n",
       "<g id=\"edge4\" class=\"edge\">\n",
       "<title>3201185136352*&#45;&gt;3201185136352</title>\n",
       "<path fill=\"none\" stroke=\"black\" d=\"M292.12,-128.5C299.66,-128.5 308.41,-128.5 317.81,-128.5\"/>\n",
       "<polygon fill=\"black\" stroke=\"black\" points=\"317.82,-132 327.81,-128.5 317.81,-125 317.82,-132\"/>\n",
       "</g>\n",
       "<!-- 3201185194240 -->\n",
       "<g id=\"node12\" class=\"node\">\n",
       "<title>3201185194240</title>\n",
       "<polygon fill=\"none\" stroke=\"black\" points=\"0,-110.5 0,-146.5 202,-146.5 202,-110.5 0,-110.5\"/>\n",
       "<text text-anchor=\"middle\" x=\"16.5\" y=\"-124.8\" font-family=\"Times New Roman,serif\" font-size=\"14.00\">w1</text>\n",
       "<polyline fill=\"none\" stroke=\"black\" points=\"33,-110.5 33,-146.5\"/>\n",
       "<text text-anchor=\"middle\" x=\"76\" y=\"-124.8\" font-family=\"Times New Roman,serif\" font-size=\"14.00\">data &#45;3.0000</text>\n",
       "<polyline fill=\"none\" stroke=\"black\" points=\"119,-110.5 119,-146.5\"/>\n",
       "<text text-anchor=\"middle\" x=\"160.5\" y=\"-124.8\" font-family=\"Times New Roman,serif\" font-size=\"14.00\">grad 0.0000</text>\n",
       "</g>\n",
       "<!-- 3201185194240&#45;&gt;3201185136352* -->\n",
       "<g id=\"edge8\" class=\"edge\">\n",
       "<title>3201185194240&#45;&gt;3201185136352*</title>\n",
       "<path fill=\"none\" stroke=\"black\" d=\"M202.29,-128.5C211.28,-128.5 219.93,-128.5 227.77,-128.5\"/>\n",
       "<polygon fill=\"black\" stroke=\"black\" points=\"227.91,-132 237.91,-128.5 227.91,-125 227.91,-132\"/>\n",
       "</g>\n",
       "<!-- 3201185194288 -->\n",
       "<g id=\"node13\" class=\"node\">\n",
       "<title>3201185194288</title>\n",
       "<polygon fill=\"none\" stroke=\"black\" points=\"719.5,-137.5 719.5,-173.5 907.5,-173.5 907.5,-137.5 719.5,-137.5\"/>\n",
       "<text text-anchor=\"middle\" x=\"731.5\" y=\"-151.8\" font-family=\"Times New Roman,serif\" font-size=\"14.00\">b</text>\n",
       "<polyline fill=\"none\" stroke=\"black\" points=\"743.5,-137.5 743.5,-173.5\"/>\n",
       "<text text-anchor=\"middle\" x=\"784\" y=\"-151.8\" font-family=\"Times New Roman,serif\" font-size=\"14.00\">data 6.8814</text>\n",
       "<polyline fill=\"none\" stroke=\"black\" points=\"824.5,-137.5 824.5,-173.5\"/>\n",
       "<text text-anchor=\"middle\" x=\"866\" y=\"-151.8\" font-family=\"Times New Roman,serif\" font-size=\"14.00\">grad 0.0000</text>\n",
       "</g>\n",
       "<!-- 3201185194288&#45;&gt;3201185073328+ -->\n",
       "<g id=\"edge6\" class=\"edge\">\n",
       "<title>3201185194288&#45;&gt;3201185073328+</title>\n",
       "<path fill=\"none\" stroke=\"black\" d=\"M907.65,-142.36C932.41,-138.87 957.68,-135.3 977.26,-132.54\"/>\n",
       "<polygon fill=\"black\" stroke=\"black\" points=\"977.82,-136 987.23,-131.13 976.84,-129.07 977.82,-136\"/>\n",
       "</g>\n",
       "<!-- 3201185136544 -->\n",
       "<g id=\"node14\" class=\"node\">\n",
       "<title>3201185136544</title>\n",
       "<polygon fill=\"none\" stroke=\"black\" points=\"330.5,-55.5 330.5,-91.5 547.5,-91.5 547.5,-55.5 330.5,-55.5\"/>\n",
       "<text text-anchor=\"middle\" x=\"357\" y=\"-69.8\" font-family=\"Times New Roman,serif\" font-size=\"14.00\">x2*w2</text>\n",
       "<polyline fill=\"none\" stroke=\"black\" points=\"383.5,-55.5 383.5,-91.5\"/>\n",
       "<text text-anchor=\"middle\" x=\"424\" y=\"-69.8\" font-family=\"Times New Roman,serif\" font-size=\"14.00\">data 0.0000</text>\n",
       "<polyline fill=\"none\" stroke=\"black\" points=\"464.5,-55.5 464.5,-91.5\"/>\n",
       "<text text-anchor=\"middle\" x=\"506\" y=\"-69.8\" font-family=\"Times New Roman,serif\" font-size=\"14.00\">grad 0.0000</text>\n",
       "</g>\n",
       "<!-- 3201185136544&#45;&gt;3201185074720+ -->\n",
       "<g id=\"edge12\" class=\"edge\">\n",
       "<title>3201185136544&#45;&gt;3201185074720+</title>\n",
       "<path fill=\"none\" stroke=\"black\" d=\"M547.95,-90.45C558.13,-92.04 567.86,-93.57 576.53,-94.93\"/>\n",
       "<polygon fill=\"black\" stroke=\"black\" points=\"576.12,-98.41 586.54,-96.5 577.2,-91.49 576.12,-98.41\"/>\n",
       "</g>\n",
       "<!-- 3201185136544*&#45;&gt;3201185136544 -->\n",
       "<g id=\"edge5\" class=\"edge\">\n",
       "<title>3201185136544*&#45;&gt;3201185136544</title>\n",
       "<path fill=\"none\" stroke=\"black\" d=\"M292.12,-73.5C300.31,-73.5 309.94,-73.5 320.28,-73.5\"/>\n",
       "<polygon fill=\"black\" stroke=\"black\" points=\"320.39,-77 330.39,-73.5 320.39,-70 320.39,-77\"/>\n",
       "</g>\n",
       "</g>\n",
       "</svg>\n"
      ],
      "text/plain": [
       "<graphviz.graphs.Digraph at 0x2e95581a190>"
      ]
     },
     "execution_count": 31,
     "metadata": {},
     "output_type": "execute_result"
    }
   ],
   "source": [
    "draw_dot(o)"
   ]
  },
  {
   "cell_type": "code",
   "execution_count": 23,
   "metadata": {},
   "outputs": [],
   "source": [
    "# x1.grad = w1.data * x1w1.grad\n",
    "# w1.grad = x1.data * x1w1.grad"
   ]
  },
  {
   "cell_type": "code",
   "execution_count": 24,
   "metadata": {},
   "outputs": [],
   "source": [
    "# x2.grad = w2.data * x2w2.grad\n",
    "# w2.grad = x2.data * x2w2.grad"
   ]
  },
  {
   "cell_type": "code",
   "execution_count": 25,
   "metadata": {},
   "outputs": [],
   "source": [
    "# x1w1.grad = 0.5\n",
    "# x2w2.grad = 0.5"
   ]
  },
  {
   "cell_type": "code",
   "execution_count": 26,
   "metadata": {},
   "outputs": [],
   "source": [
    "# x1w1x2w2.grad = 0.5\n",
    "# b.grad = 0.5"
   ]
  },
  {
   "cell_type": "code",
   "execution_count": 27,
   "metadata": {},
   "outputs": [],
   "source": [
    "# n.grad = .5"
   ]
  },
  {
   "cell_type": "code",
   "execution_count": 28,
   "metadata": {},
   "outputs": [],
   "source": [
    "# o.grad = 1.0"
   ]
  },
  {
   "cell_type": "code",
   "execution_count": null,
   "metadata": {},
   "outputs": [],
   "source": []
  },
  {
   "cell_type": "code",
   "execution_count": 29,
   "metadata": {},
   "outputs": [
    {
     "data": {
      "text/plain": [
       "0.4999999999999999"
      ]
     },
     "execution_count": 29,
     "metadata": {},
     "output_type": "execute_result"
    }
   ],
   "source": [
    "1 - o.data**2"
   ]
  },
  {
   "cell_type": "code",
   "execution_count": 30,
   "metadata": {},
   "outputs": [],
   "source": [
    "# o = tanh(n)\n",
    "# do/dn = 1 - o**2"
   ]
  }
 ],
 "metadata": {
  "kernelspec": {
   "display_name": "Python 3",
   "language": "python",
   "name": "python3"
  },
  "language_info": {
   "codemirror_mode": {
    "name": "ipython",
    "version": 3
   },
   "file_extension": ".py",
   "mimetype": "text/x-python",
   "name": "python",
   "nbconvert_exporter": "python",
   "pygments_lexer": "ipython3",
   "version": "3.9.1"
  }
 },
 "nbformat": 4,
 "nbformat_minor": 4
}
