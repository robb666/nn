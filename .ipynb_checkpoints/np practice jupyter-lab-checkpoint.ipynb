{
 "cells": [
  {
   "cell_type": "code",
   "execution_count": null,
   "id": "hazardous-polyester",
   "metadata": {},
   "outputs": [],
   "source": [
    "np practice jupyter-lab"
   ]
  },
  {
   "cell_type": "code",
   "execution_count": 1,
   "id": "express-chapel",
   "metadata": {},
   "outputs": [],
   "source": [
    "import numpy as np\n",
    "from fractions import Fraction"
   ]
  },
  {
   "cell_type": "code",
   "execution_count": null,
   "id": "pleased-checklist",
   "metadata": {},
   "outputs": [],
   "source": []
  },
  {
   "cell_type": "code",
   "execution_count": 20,
   "id": "crazy-browse",
   "metadata": {},
   "outputs": [
    {
     "name": "stdout",
     "output_type": "stream",
     "text": [
      "[Fraction(2, 3) Fraction(-12, 5) Fraction(-4, 3)]\n"
     ]
    }
   ],
   "source": [
    "dzielenie = np.divide([Fraction(-16, 1), -Fraction(12, 1), Fraction(3 - 7, 1)], [Fraction(-24, 1), 5, -5 + 8])\n",
    "dzielenie\n",
    "print(dzielenie)"
   ]
  },
  {
   "cell_type": "code",
   "execution_count": 23,
   "id": "minimal-memory",
   "metadata": {},
   "outputs": [
    {
     "data": {
      "text/plain": [
       "array([-7, 3, Fraction(1, 5), Fraction(-5, 3), 0.8, -4.5, 0.25],\n",
       "      dtype=object)"
      ]
     },
     "execution_count": 23,
     "metadata": {},
     "output_type": "execute_result"
    }
   ],
   "source": [
    "lista = np.array([7, -3, -Fraction(1, 5), 1 + Fraction(2, 3), -.8, float(4 + Fraction(1, 2)), -.25])\n",
    "l_odwrotna = np.multiply(lista, -1)\n",
    "l_odwrotna"
   ]
  },
  {
   "cell_type": "markdown",
   "id": "forty-rhythm",
   "metadata": {},
   "source": []
  },
  {
   "cell_type": "markdown",
   "id": "signal-smooth",
   "metadata": {},
   "source": [
    "'Jaką liczbą jest iloraz.'"
   ]
  },
  {
   "cell_type": "markdown",
   "id": "static-process",
   "metadata": {},
   "source": [
    "a"
   ]
  },
  {
   "cell_type": "code",
   "execution_count": 36,
   "id": "homeless-campbell",
   "metadata": {},
   "outputs": [
    {
     "data": {
      "text/plain": [
       "array([7.0, Fraction(-15, 14), -0.0, -7.0], dtype=object)"
      ]
     },
     "execution_count": 36,
     "metadata": {},
     "output_type": "execute_result"
    }
   ],
   "source": [
    "iloraz = np.divide([-14, -7 - Fraction(1, 2), 0, 14], [-2, 7, -12, -2])\n",
    "iloraz"
   ]
  },
  {
   "cell_type": "code",
   "execution_count": 38,
   "id": "endangered-bahamas",
   "metadata": {},
   "outputs": [
    {
     "data": {
      "text/plain": [
       "array([7.0], dtype=object)"
      ]
     },
     "execution_count": 38,
     "metadata": {},
     "output_type": "execute_result"
    }
   ],
   "source": [
    "iloraz[iloraz > 0]"
   ]
  },
  {
   "cell_type": "code",
   "execution_count": 39,
   "id": "matched-waterproof",
   "metadata": {},
   "outputs": [
    {
     "data": {
      "text/plain": [
       "array([Fraction(-15, 14), -7.0], dtype=object)"
      ]
     },
     "execution_count": 39,
     "metadata": {},
     "output_type": "execute_result"
    }
   ],
   "source": [
    "iloraz[iloraz < 0]"
   ]
  },
  {
   "cell_type": "code",
   "execution_count": 40,
   "id": "earned-idaho",
   "metadata": {},
   "outputs": [
    {
     "data": {
      "text/plain": [
       "array([-0.0], dtype=object)"
      ]
     },
     "execution_count": 40,
     "metadata": {},
     "output_type": "execute_result"
    }
   ],
   "source": [
    "iloraz[iloraz == 0]"
   ]
  },
  {
   "cell_type": "markdown",
   "id": "parallel-procedure",
   "metadata": {},
   "source": [
    "b"
   ]
  },
  {
   "cell_type": "code",
   "execution_count": 41,
   "id": "numeric-peoples",
   "metadata": {},
   "outputs": [
    {
     "data": {
      "text/plain": [
       "array([-7. ,  0.6,  1.7, -0. ])"
      ]
     },
     "execution_count": 41,
     "metadata": {},
     "output_type": "execute_result"
    }
   ],
   "source": [
    "iloraz2 = np.divide([-2.1, -4.2, 4.25, -0], [.3, -7, 2.5, -10])\n",
    "iloraz2"
   ]
  },
  {
   "cell_type": "code",
   "execution_count": 42,
   "id": "sophisticated-peeing",
   "metadata": {},
   "outputs": [
    {
     "data": {
      "text/plain": [
       "array([0.6, 1.7])"
      ]
     },
     "execution_count": 42,
     "metadata": {},
     "output_type": "execute_result"
    }
   ],
   "source": [
    "iloraz2[iloraz2 > 0]"
   ]
  },
  {
   "cell_type": "code",
   "execution_count": 43,
   "id": "adolescent-reducing",
   "metadata": {},
   "outputs": [
    {
     "data": {
      "text/plain": [
       "array([-7.])"
      ]
     },
     "execution_count": 43,
     "metadata": {},
     "output_type": "execute_result"
    }
   ],
   "source": [
    "iloraz2[iloraz2 < 0]"
   ]
  },
  {
   "cell_type": "code",
   "execution_count": 44,
   "id": "mature-special",
   "metadata": {},
   "outputs": [
    {
     "data": {
      "text/plain": [
       "array([-0.])"
      ]
     },
     "execution_count": 44,
     "metadata": {},
     "output_type": "execute_result"
    }
   ],
   "source": [
    "iloraz2[iloraz2 == 0]"
   ]
  },
  {
   "cell_type": "markdown",
   "id": "skilled-swiss",
   "metadata": {},
   "source": [
    "Zadanie 4.7"
   ]
  },
  {
   "cell_type": "code",
   "execution_count": 43,
   "id": "protected-output",
   "metadata": {},
   "outputs": [],
   "source": [
    "a = np.array([[Fraction(-3, 4), Fraction(-15, 28), Fraction(21, 40), Fraction(-7, 15)], [Fraction(-5, 8), Fraction(9, 14), Fraction(-63, 80), Fraction(-7, 20)]])"
   ]
  },
  {
   "cell_type": "code",
   "execution_count": 44,
   "id": "professional-denmark",
   "metadata": {},
   "outputs": [
    {
     "data": {
      "text/plain": [
       "array([Fraction(6, 5), Fraction(-5, 6), Fraction(-2, 3), Fraction(4, 3)],\n",
       "      dtype=object)"
      ]
     },
     "execution_count": 44,
     "metadata": {},
     "output_type": "execute_result"
    }
   ],
   "source": [
    "a_div = np.divide(a[0], a[1])\n",
    "a_div"
   ]
  },
  {
   "cell_type": "code",
   "execution_count": 52,
   "id": "gorgeous-blues",
   "metadata": {},
   "outputs": [
    {
     "data": {
      "text/plain": [
       "array([Fraction(-3, 4), Fraction(-15, 28), Fraction(21, 40),\n",
       "       Fraction(-7, 15)], dtype=object)"
      ]
     },
     "execution_count": 52,
     "metadata": {},
     "output_type": "execute_result"
    }
   ],
   "source": [
    "a_check = np.multiply(a[1], a_div)\n",
    "a_check"
   ]
  },
  {
   "cell_type": "code",
   "execution_count": 55,
   "id": "indonesian-consolidation",
   "metadata": {},
   "outputs": [
    {
     "data": {
      "text/plain": [
       "array([[-36, Fraction(-10, 3), Fraction(38, 7), Fraction(-77, 8)],\n",
       "       [-9, Fraction(-20, 9), Fraction(-8, 3), Fraction(-11, 4)]],\n",
       "      dtype=object)"
      ]
     },
     "execution_count": 55,
     "metadata": {},
     "output_type": "execute_result"
    }
   ],
   "source": [
    "b = np.array([[-36, -3 - Fraction(1, 3), 5 + Fraction(3, 7), -9 - Fraction(5, 8)], [-9, -2 - Fraction(2, 9), -2  - Fraction(2, 3), -2 + Fraction(-3, 4)]])\n",
    "b"
   ]
  },
  {
   "cell_type": "code",
   "execution_count": 57,
   "id": "accompanied-genre",
   "metadata": {},
   "outputs": [
    {
     "data": {
      "text/plain": [
       "array([4.0, Fraction(3, 2), Fraction(-57, 28), Fraction(7, 2)],\n",
       "      dtype=object)"
      ]
     },
     "execution_count": 57,
     "metadata": {},
     "output_type": "execute_result"
    }
   ],
   "source": [
    "b_div = np.divide(b[0], b[1])\n",
    "b_div"
   ]
  },
  {
   "cell_type": "code",
   "execution_count": 64,
   "id": "fourth-variable",
   "metadata": {},
   "outputs": [
    {
     "data": {
      "text/plain": [
       "array([-36.        ,  -3.33333333,   5.42857143,  -9.625     ])"
      ]
     },
     "execution_count": 64,
     "metadata": {},
     "output_type": "execute_result"
    }
   ],
   "source": [
    "b_check = np.multiply(b_div, b[1])\n",
    "b_check.astype(float)"
   ]
  },
  {
   "cell_type": "code",
   "execution_count": 66,
   "id": "controversial-simulation",
   "metadata": {},
   "outputs": [
    {
     "data": {
      "text/plain": [
       "array([[-4.2, Fraction(-27, 8), -2.4, Fraction(-15, 4)],\n",
       "       [0.6, 0.9, -0.24, 2.5]], dtype=object)"
      ]
     },
     "execution_count": 66,
     "metadata": {},
     "output_type": "execute_result"
    }
   ],
   "source": [
    "c = np.array([[-4.2, -3 - Fraction(3, 8), -2.4, -3 - Fraction(3, 4)], [.6, .9, -.24, 2.5]])\n",
    "c"
   ]
  },
  {
   "cell_type": "code",
   "execution_count": 68,
   "id": "quarterly-stevens",
   "metadata": {},
   "outputs": [
    {
     "data": {
      "text/plain": [
       "array([-7.000000000000001, -3.75, 10.0, -1.5], dtype=object)"
      ]
     },
     "execution_count": 68,
     "metadata": {},
     "output_type": "execute_result"
    }
   ],
   "source": [
    "c_div = np.divide(c[0], c[1])\n",
    "c_div"
   ]
  },
  {
   "cell_type": "code",
   "execution_count": 73,
   "id": "removed-letters",
   "metadata": {},
   "outputs": [
    {
     "data": {
      "text/plain": [
       "array([-4.2  , -3.375, -2.4  , -3.75 ])"
      ]
     },
     "execution_count": 73,
     "metadata": {},
     "output_type": "execute_result"
    }
   ],
   "source": [
    "c_check = np.multiply(c_div, c[1])\n",
    "c_check.astype(float)"
   ]
  },
  {
   "cell_type": "markdown",
   "id": "received-lingerie",
   "metadata": {},
   "source": [
    "Zadanie 7.5"
   ]
  },
  {
   "cell_type": "code",
   "execution_count": 130,
   "id": "incorporated-component",
   "metadata": {},
   "outputs": [
    {
     "data": {
      "text/plain": [
       "Fraction(-5, 9)"
      ]
     },
     "execution_count": 130,
     "metadata": {},
     "output_type": "execute_result"
    }
   ],
   "source": [
    "a = np.array([-2 - Fraction(2, 3)])\n",
    "x = np.divide(a[0], 4.8)\n",
    "x = Fraction(x)\n",
    "x.limit_denominator()"
   ]
  },
  {
   "cell_type": "code",
   "execution_count": 135,
   "id": "sorted-nepal",
   "metadata": {},
   "outputs": [
    {
     "data": {
      "text/plain": [
       "4.8"
      ]
     },
     "execution_count": 135,
     "metadata": {},
     "output_type": "execute_result"
    }
   ],
   "source": [
    "a_check = np.divide(a[0], x)\n",
    "float(a_check.limit_denominator())"
   ]
  },
  {
   "cell_type": "markdown",
   "id": "extensive-penguin",
   "metadata": {},
   "source": [
    "b)"
   ]
  },
  {
   "cell_type": "code",
   "execution_count": 15,
   "id": "revised-europe",
   "metadata": {},
   "outputs": [
    {
     "data": {
      "text/plain": [
       "-2.6666666666666665"
      ]
     },
     "execution_count": 15,
     "metadata": {},
     "output_type": "execute_result"
    }
   ],
   "source": [
    "b = np.divide(5 + Fraction(3, 7), -2 - Fraction(1, 28))\n",
    "float(b)"
   ]
  },
  {
   "cell_type": "code",
   "execution_count": 142,
   "id": "respective-still",
   "metadata": {},
   "outputs": [
    {
     "data": {
      "text/plain": [
       "-2.0357142857142856"
      ]
     },
     "execution_count": 142,
     "metadata": {},
     "output_type": "execute_result"
    }
   ],
   "source": [
    "b_check = np.divide(5 + Fraction(3, 7), b)\n",
    "float(b_check)"
   ]
  },
  {
   "cell_type": "markdown",
   "id": "driven-degree",
   "metadata": {},
   "source": [
    "c)"
   ]
  },
  {
   "cell_type": "code",
   "execution_count": 152,
   "id": "accompanied-academy",
   "metadata": {},
   "outputs": [
    {
     "data": {
      "text/plain": [
       "-2.75"
      ]
     },
     "execution_count": 152,
     "metadata": {},
     "output_type": "execute_result"
    }
   ],
   "source": [
    "c = np.prod([-1.1, 2 + Fraction(1, 2)])\n",
    "c"
   ]
  },
  {
   "cell_type": "code",
   "execution_count": 153,
   "id": "weighted-accused",
   "metadata": {},
   "outputs": [
    {
     "data": {
      "text/plain": [
       "2.5"
      ]
     },
     "execution_count": 153,
     "metadata": {},
     "output_type": "execute_result"
    }
   ],
   "source": [
    "c_check = np.divide(c, -1.1)\n",
    "c_check"
   ]
  },
  {
   "cell_type": "markdown",
   "id": "meaningful-sensitivity",
   "metadata": {},
   "source": [
    "d)"
   ]
  },
  {
   "cell_type": "code",
   "execution_count": 1,
   "id": "higher-taxation",
   "metadata": {},
   "outputs": [],
   "source": [
    "# d = np.linalg.solve([[6], []], [3])\n",
    "# d"
   ]
  },
  {
   "cell_type": "code",
   "execution_count": 167,
   "id": "searching-liberty",
   "metadata": {},
   "outputs": [
    {
     "data": {
      "text/plain": [
       "1.5"
      ]
     },
     "execution_count": 167,
     "metadata": {},
     "output_type": "execute_result"
    }
   ],
   "source": [
    "d=np.divide(-6.75, -4 - Fraction(1, 2))\n",
    "d"
   ]
  },
  {
   "cell_type": "code",
   "execution_count": 168,
   "id": "hawaiian-province",
   "metadata": {},
   "outputs": [
    {
     "data": {
      "text/plain": [
       "-6.75"
      ]
     },
     "execution_count": 168,
     "metadata": {},
     "output_type": "execute_result"
    }
   ],
   "source": [
    "d_check = np.multiply(-4 - Fraction(1, 2), d)\n",
    "d_check"
   ]
  },
  {
   "cell_type": "code",
   "execution_count": 17,
   "id": "other-easter",
   "metadata": {},
   "outputs": [
    {
     "data": {
      "text/plain": [
       "Fraction(8, 5)"
      ]
     },
     "execution_count": 17,
     "metadata": {},
     "output_type": "execute_result"
    }
   ],
   "source": [
    "e = np.divide(Fraction(-4, 5), -.5)\n",
    "Fraction(e).limit_denominator()"
   ]
  },
  {
   "cell_type": "code",
   "execution_count": 173,
   "id": "reserved-airport",
   "metadata": {},
   "outputs": [
    {
     "data": {
      "text/plain": [
       "Fraction(-4, 5)"
      ]
     },
     "execution_count": 173,
     "metadata": {},
     "output_type": "execute_result"
    }
   ],
   "source": [
    "e_check = np.prod([e, -0.5])\n",
    "Fraction(e_check).limit_denominator()"
   ]
  },
  {
   "cell_type": "code",
   "execution_count": 19,
   "id": "academic-cyprus",
   "metadata": {},
   "outputs": [
    {
     "data": {
      "text/plain": [
       "Fraction(19, 5)"
      ]
     },
     "execution_count": 19,
     "metadata": {},
     "output_type": "execute_result"
    }
   ],
   "source": [
    "f = np.prod([-2 - Fraction(1, 9), -1.8])\n",
    "Fraction(f).limit_denominator()"
   ]
  },
  {
   "cell_type": "code",
   "execution_count": 176,
   "id": "middle-construction",
   "metadata": {},
   "outputs": [
    {
     "data": {
      "text/plain": [
       "-1.8"
      ]
     },
     "execution_count": 176,
     "metadata": {},
     "output_type": "execute_result"
    }
   ],
   "source": [
    "f_check = np.divide(f, -2 -Fraction(1,9))\n",
    "f_check"
   ]
  },
  {
   "cell_type": "markdown",
   "id": "electrical-stanford",
   "metadata": {},
   "source": [
    "Zadanie 7.6"
   ]
  },
  {
   "cell_type": "code",
   "execution_count": 179,
   "id": "medium-manitoba",
   "metadata": {},
   "outputs": [
    {
     "data": {
      "text/plain": [
       "-6.235294117647058"
      ]
     },
     "execution_count": 179,
     "metadata": {},
     "output_type": "execute_result"
    }
   ],
   "source": [
    "a = np.divide(np.sum([-3.5, -5 -Fraction(1, 3)]), 1 + Fraction(5, 12))\n",
    "a"
   ]
  },
  {
   "cell_type": "markdown",
   "id": "prerequisite-label",
   "metadata": {},
   "source": [
    "Zadanie 7.7"
   ]
  },
  {
   "cell_type": "code",
   "execution_count": 189,
   "id": "respected-hawaiian",
   "metadata": {},
   "outputs": [
    {
     "data": {
      "text/plain": [
       "Fraction(-7, 3)"
      ]
     },
     "execution_count": 189,
     "metadata": {},
     "output_type": "execute_result"
    }
   ],
   "source": [
    "a = np.divide(-3 -Fraction(1, 8), -6 -Fraction(1, 4))\n",
    "a1 = np.multiply(a, -4 - Fraction(2, 3))\n",
    "a1"
   ]
  },
  {
   "cell_type": "markdown",
   "id": "headed-administrator",
   "metadata": {},
   "source": [
    "Zadanie 7.8"
   ]
  },
  {
   "cell_type": "code",
   "execution_count": 196,
   "id": "seeing-fundamentals",
   "metadata": {},
   "outputs": [
    {
     "data": {
      "text/plain": [
       "-252.0"
      ]
     },
     "execution_count": 196,
     "metadata": {},
     "output_type": "execute_result"
    }
   ],
   "source": [
    "a = np.divide(-180, 5)\n",
    "a1 = np.prod([a, 7])\n",
    "a1"
   ]
  },
  {
   "cell_type": "code",
   "execution_count": 197,
   "id": "worldwide-resident",
   "metadata": {},
   "outputs": [
    {
     "data": {
      "text/plain": [
       "Fraction(-22, 3)"
      ]
     },
     "execution_count": 197,
     "metadata": {},
     "output_type": "execute_result"
    }
   ],
   "source": [
    "b = np.prod([np.divide(-3 -Fraction(1, 3), 5), 11])\n",
    "b"
   ]
  },
  {
   "cell_type": "code",
   "execution_count": 199,
   "id": "veterinary-current",
   "metadata": {},
   "outputs": [
    {
     "data": {
      "text/plain": [
       "-2.7"
      ]
     },
     "execution_count": 199,
     "metadata": {},
     "output_type": "execute_result"
    }
   ],
   "source": [
    "c = np.divide(-6.75, 2.5)\n",
    "c"
   ]
  },
  {
   "cell_type": "code",
   "execution_count": 201,
   "id": "knowing-organization",
   "metadata": {},
   "outputs": [
    {
     "data": {
      "text/plain": [
       "-56.0"
      ]
     },
     "execution_count": 201,
     "metadata": {},
     "output_type": "execute_result"
    }
   ],
   "source": [
    "d = np.prod([0.2, -245])\n",
    "d1 = np.divide(d, 7)\n",
    "d2 = np.multiply(d1, 8)\n",
    "d2"
   ]
  },
  {
   "cell_type": "markdown",
   "id": "negative-person",
   "metadata": {},
   "source": [
    "Zadanie 7.9"
   ]
  },
  {
   "cell_type": "code",
   "execution_count": 11,
   "id": "synthetic-procurement",
   "metadata": {},
   "outputs": [
    {
     "data": {
      "text/plain": [
       "8.166666666666668"
      ]
     },
     "execution_count": 11,
     "metadata": {},
     "output_type": "execute_result"
    }
   ],
   "source": [
    "d_diff = np.subtract(4 +Fraction(2, 3), -3.5)\n",
    "d_diff"
   ]
  },
  {
   "cell_type": "code",
   "execution_count": 10,
   "id": "average-sharing",
   "metadata": {},
   "outputs": [
    {
     "data": {
      "text/plain": [
       "1.166666666666667"
      ]
     },
     "execution_count": 10,
     "metadata": {},
     "output_type": "execute_result"
    }
   ],
   "source": [
    "d_sum =np.sum([4 + Fraction(2, 3), -3.5])\n",
    "d_sum"
   ]
  },
  {
   "cell_type": "code",
   "execution_count": 22,
   "id": "juvenile-chaos",
   "metadata": {},
   "outputs": [
    {
     "data": {
      "text/plain": [
       "7"
      ]
     },
     "execution_count": 22,
     "metadata": {},
     "output_type": "execute_result"
    }
   ],
   "source": [
    "d_div = np.divide(d_diff, d_sum)\n",
    "round(d_div)"
   ]
  },
  {
   "cell_type": "markdown",
   "id": "strong-carnival",
   "metadata": {},
   "source": [
    "Zad 7.10"
   ]
  },
  {
   "cell_type": "code",
   "execution_count": 27,
   "id": "essential-victim",
   "metadata": {},
   "outputs": [
    {
     "data": {
      "text/plain": [
       "-2.16"
      ]
     },
     "execution_count": 27,
     "metadata": {},
     "output_type": "execute_result"
    }
   ],
   "source": [
    "a = np.multiply(np.subtract(np.divide(-7 - Fraction(1, 5), 0.5), np.multiply(-7 - Fraction(1, 5), 0.5)), 0.2)\n",
    "a"
   ]
  },
  {
   "cell_type": "code",
   "execution_count": null,
   "id": "infrared-enhancement",
   "metadata": {},
   "outputs": [],
   "source": []
  },
  {
   "cell_type": "code",
   "execution_count": 43,
   "id": "artistic-hebrew",
   "metadata": {},
   "outputs": [],
   "source": [
    "import math"
   ]
  },
  {
   "cell_type": "markdown",
   "id": "turned-moore",
   "metadata": {},
   "source": [
    "Rozdział 8"
   ]
  },
  {
   "cell_type": "code",
   "execution_count": 65,
   "id": "applicable-waste",
   "metadata": {},
   "outputs": [
    {
     "data": {
      "text/plain": [
       "Fraction(-8, 125)"
      ]
     },
     "execution_count": 65,
     "metadata": {},
     "output_type": "execute_result"
    }
   ],
   "source": [
    "d = np.power(Fraction(-2, 5), 3)\n",
    "d"
   ]
  },
  {
   "cell_type": "code",
   "execution_count": 68,
   "id": "silent-debut",
   "metadata": {},
   "outputs": [
    {
     "data": {
      "text/plain": [
       "-6"
      ]
     },
     "execution_count": 68,
     "metadata": {},
     "output_type": "execute_result"
    }
   ],
   "source": [
    "o = np.power(-6, 1)\n",
    "o"
   ]
  },
  {
   "cell_type": "code",
   "execution_count": 69,
   "id": "metallic-insight",
   "metadata": {},
   "outputs": [
    {
     "data": {
      "text/plain": [
       "1"
      ]
     },
     "execution_count": 69,
     "metadata": {},
     "output_type": "execute_result"
    }
   ],
   "source": [
    "o1 = np.power(10, 0)\n",
    "o1"
   ]
  },
  {
   "cell_type": "code",
   "execution_count": 70,
   "id": "lonely-fortune",
   "metadata": {},
   "outputs": [
    {
     "data": {
      "text/plain": [
       "1"
      ]
     },
     "execution_count": 70,
     "metadata": {},
     "output_type": "execute_result"
    }
   ],
   "source": [
    "o2 =np.power(-8, 0)\n",
    "o2"
   ]
  },
  {
   "cell_type": "code",
   "execution_count": 71,
   "id": "worthy-grenada",
   "metadata": {},
   "outputs": [
    {
     "data": {
      "text/plain": [
       "1.0"
      ]
     },
     "execution_count": 71,
     "metadata": {},
     "output_type": "execute_result"
    }
   ],
   "source": [
    "o3 = np.power(-1.3, 0)\n",
    "o3"
   ]
  },
  {
   "cell_type": "code",
   "execution_count": 72,
   "id": "identified-reggae",
   "metadata": {},
   "outputs": [
    {
     "data": {
      "text/plain": [
       "Fraction(1, 1)"
      ]
     },
     "execution_count": 72,
     "metadata": {},
     "output_type": "execute_result"
    }
   ],
   "source": [
    "o4 = np.power(Fraction(-5, 6), 0)\n",
    "o4"
   ]
  },
  {
   "cell_type": "code",
   "execution_count": null,
   "id": "paperback-hunger",
   "metadata": {},
   "outputs": [],
   "source": [
    "Zadanie 2"
   ]
  },
  {
   "cell_type": "code",
   "execution_count": 73,
   "id": "arbitrary-western",
   "metadata": {},
   "outputs": [
    {
     "data": {
      "text/plain": [
       "16"
      ]
     },
     "execution_count": 73,
     "metadata": {},
     "output_type": "execute_result"
    }
   ],
   "source": [
    "a = np.power(4, 2)\n",
    "a"
   ]
  },
  {
   "cell_type": "code",
   "execution_count": 75,
   "id": "numeric-anchor",
   "metadata": {},
   "outputs": [
    {
     "data": {
      "text/plain": [
       "Fraction(8, 27)"
      ]
     },
     "execution_count": 75,
     "metadata": {},
     "output_type": "execute_result"
    }
   ],
   "source": [
    "b = np.power(Fraction(2, 3), 3)\n",
    "b"
   ]
  },
  {
   "cell_type": "code",
   "execution_count": 76,
   "id": "clean-uganda",
   "metadata": {},
   "outputs": [
    {
     "data": {
      "text/plain": [
       "12"
      ]
     },
     "execution_count": 76,
     "metadata": {},
     "output_type": "execute_result"
    }
   ],
   "source": [
    "c= np.power(12, 1)\n",
    "c"
   ]
  },
  {
   "cell_type": "code",
   "execution_count": 79,
   "id": "fresh-romantic",
   "metadata": {},
   "outputs": [
    {
     "data": {
      "text/plain": [
       "Fraction(1, 1)"
      ]
     },
     "execution_count": 79,
     "metadata": {},
     "output_type": "execute_result"
    }
   ],
   "source": [
    "d = np.power(4 + Fraction(1, 3), 0)\n",
    "d"
   ]
  },
  {
   "cell_type": "code",
   "execution_count": null,
   "id": "accredited-commander",
   "metadata": {},
   "outputs": [],
   "source": [
    "Zadanie 3 "
   ]
  },
  {
   "cell_type": "code",
   "execution_count": 82,
   "id": "speaking-austin",
   "metadata": {},
   "outputs": [
    {
     "data": {
      "text/plain": [
       "array([-3, Fraction(4, 25), -8, Fraction(16, 81), Fraction(-1, 32), 1],\n",
       "      dtype=object)"
      ]
     },
     "execution_count": 82,
     "metadata": {},
     "output_type": "execute_result"
    }
   ],
   "source": [
    "a = np.power([-3, Fraction(-2, 5), -2, Fraction(-2, 3), -Fraction(1, 2), -1], [1, 2, 3, 4, 5, 6])\n",
    "a"
   ]
  },
  {
   "cell_type": "code",
   "execution_count": null,
   "id": "joint-snake",
   "metadata": {},
   "outputs": [],
   "source": [
    "Zad 8.2"
   ]
  },
  {
   "cell_type": "code",
   "execution_count": 83,
   "id": "functioning-latex",
   "metadata": {},
   "outputs": [
    {
     "data": {
      "text/plain": [
       "-216"
      ]
     },
     "execution_count": 83,
     "metadata": {},
     "output_type": "execute_result"
    }
   ],
   "source": [
    "a3 = np.power(-6, 3)\n",
    "a3"
   ]
  },
  {
   "cell_type": "code",
   "execution_count": 85,
   "id": "sufficient-university",
   "metadata": {},
   "outputs": [
    {
     "data": {
      "text/plain": [
       "Fraction(49, 9)"
      ]
     },
     "execution_count": 85,
     "metadata": {},
     "output_type": "execute_result"
    }
   ],
   "source": [
    "b1= np.power(-2 - Fraction(1, 3), 2)\n",
    "b1"
   ]
  },
  {
   "cell_type": "code",
   "execution_count": 87,
   "id": "smaller-marathon",
   "metadata": {},
   "outputs": [
    {
     "data": {
      "text/plain": [
       "37.03703703703704"
      ]
     },
     "execution_count": 87,
     "metadata": {},
     "output_type": "execute_result"
    }
   ],
   "source": [
    "b2 =np.power(3 + Fraction(1, 3), 3)\n",
    "float(b2)"
   ]
  },
  {
   "cell_type": "code",
   "execution_count": 89,
   "id": "grave-employment",
   "metadata": {},
   "outputs": [
    {
     "data": {
      "text/plain": [
       "7.5625"
      ]
     },
     "execution_count": 89,
     "metadata": {},
     "output_type": "execute_result"
    }
   ],
   "source": [
    "b3 = np.power(-2 - Fraction(3, 4), 2)\n",
    "float(b3)"
   ]
  },
  {
   "cell_type": "code",
   "execution_count": 91,
   "id": "sustainable-wesley",
   "metadata": {},
   "outputs": [
    {
     "data": {
      "text/plain": [
       "56.25"
      ]
     },
     "execution_count": 91,
     "metadata": {},
     "output_type": "execute_result"
    }
   ],
   "source": [
    "b4 = np.power(-7 - Fraction(1, 2), 2)\n",
    "float(b4)"
   ]
  },
  {
   "cell_type": "code",
   "execution_count": 92,
   "id": "changed-islam",
   "metadata": {},
   "outputs": [
    {
     "data": {
      "text/plain": [
       "0.25"
      ]
     },
     "execution_count": 92,
     "metadata": {},
     "output_type": "execute_result"
    }
   ],
   "source": [
    "c1 = np.power(-.5, 2)\n",
    "c1"
   ]
  },
  {
   "cell_type": "code",
   "execution_count": 93,
   "id": "rising-forward",
   "metadata": {},
   "outputs": [
    {
     "data": {
      "text/plain": [
       "2.25"
      ]
     },
     "execution_count": 93,
     "metadata": {},
     "output_type": "execute_result"
    }
   ],
   "source": [
    "c2 = np.power(1.5, 2)\n",
    "c2"
   ]
  },
  {
   "cell_type": "code",
   "execution_count": 94,
   "id": "illegal-federation",
   "metadata": {},
   "outputs": [
    {
     "data": {
      "text/plain": [
       "2.5600000000000005"
      ]
     },
     "execution_count": 94,
     "metadata": {},
     "output_type": "execute_result"
    }
   ],
   "source": [
    "c3 = np.power(-1.6, 2)\n",
    "c3"
   ]
  },
  {
   "cell_type": "code",
   "execution_count": 98,
   "id": "chief-helen",
   "metadata": {},
   "outputs": [
    {
     "data": {
      "text/plain": [
       "Fraction(-27, 1000)"
      ]
     },
     "execution_count": 98,
     "metadata": {},
     "output_type": "execute_result"
    }
   ],
   "source": [
    "c4 = np.power(-.3, 3)\n",
    "Fraction(c4).limit_denominator()"
   ]
  },
  {
   "cell_type": "markdown",
   "id": "sustained-congress",
   "metadata": {},
   "source": [
    "Zad 8.3"
   ]
  },
  {
   "cell_type": "code",
   "execution_count": 100,
   "id": "congressional-penetration",
   "metadata": {},
   "outputs": [
    {
     "data": {
      "text/plain": [
       "Fraction(-10, 3)"
      ]
     },
     "execution_count": 100,
     "metadata": {},
     "output_type": "execute_result"
    }
   ],
   "source": [
    "a1 = np.power(-3 - Fraction(1, 3), 1)\n",
    "a1"
   ]
  },
  {
   "cell_type": "code",
   "execution_count": 101,
   "id": "bearing-beijing",
   "metadata": {},
   "outputs": [
    {
     "data": {
      "text/plain": [
       "1.0"
      ]
     },
     "execution_count": 101,
     "metadata": {},
     "output_type": "execute_result"
    }
   ],
   "source": [
    "a2 = np.power(-10.1, 0)\n",
    "a2"
   ]
  },
  {
   "cell_type": "code",
   "execution_count": 102,
   "id": "suffering-monaco",
   "metadata": {},
   "outputs": [
    {
     "data": {
      "text/plain": [
       "Fraction(1, 1)"
      ]
     },
     "execution_count": 102,
     "metadata": {},
     "output_type": "execute_result"
    }
   ],
   "source": [
    "a3 = np.power(6 + Fraction(5, 6), 0)\n",
    "a3"
   ]
  },
  {
   "cell_type": "code",
   "execution_count": 103,
   "id": "prescribed-lemon",
   "metadata": {},
   "outputs": [
    {
     "data": {
      "text/plain": [
       "Fraction(61, 7)"
      ]
     },
     "execution_count": 103,
     "metadata": {},
     "output_type": "execute_result"
    }
   ],
   "source": [
    "a4 = np.power(8 + Fraction(5, 7), 1)\n",
    "a4"
   ]
  },
  {
   "cell_type": "code",
   "execution_count": 106,
   "id": "retained-patrol",
   "metadata": {},
   "outputs": [
    {
     "data": {
      "text/plain": [
       "Fraction(9, 16)"
      ]
     },
     "execution_count": 106,
     "metadata": {},
     "output_type": "execute_result"
    }
   ],
   "source": [
    "b1 = np.power(Fraction(3, 4), 2)\n",
    "b1"
   ]
  },
  {
   "cell_type": "code",
   "execution_count": 107,
   "id": "incoming-produce",
   "metadata": {},
   "outputs": [
    {
     "data": {
      "text/plain": [
       "Fraction(9, 16)"
      ]
     },
     "execution_count": 107,
     "metadata": {},
     "output_type": "execute_result"
    }
   ],
   "source": [
    "b2 = np.power(-Fraction(3, 4), 2)\n",
    "b2"
   ]
  },
  {
   "cell_type": "code",
   "execution_count": 109,
   "id": "specialized-teddy",
   "metadata": {},
   "outputs": [
    {
     "data": {
      "text/plain": [
       "Fraction(1, 8)"
      ]
     },
     "execution_count": 109,
     "metadata": {},
     "output_type": "execute_result"
    }
   ],
   "source": [
    "b3 = np.power(Fraction(1, 2), 3)\n",
    "b3"
   ]
  },
  {
   "cell_type": "code",
   "execution_count": 110,
   "id": "reported-display",
   "metadata": {},
   "outputs": [
    {
     "data": {
      "text/plain": [
       "Fraction(-1, 8)"
      ]
     },
     "execution_count": 110,
     "metadata": {},
     "output_type": "execute_result"
    }
   ],
   "source": [
    "b3 = np.power(-Fraction(1, 2), 3)\n",
    "b3 "
   ]
  },
  {
   "cell_type": "code",
   "execution_count": 113,
   "id": "decent-organizer",
   "metadata": {},
   "outputs": [
    {
     "data": {
      "text/plain": [
       "Fraction(13, 36)"
      ]
     },
     "execution_count": 113,
     "metadata": {},
     "output_type": "execute_result"
    }
   ],
   "source": [
    "c1 = np.sum(np.power([Fraction(1, 3), Fraction(-1, 2)], [2, 2]))\n",
    "c1"
   ]
  },
  {
   "cell_type": "code",
   "execution_count": 120,
   "id": "monetary-starter",
   "metadata": {},
   "outputs": [
    {
     "data": {
      "text/plain": [
       "Fraction(-5, 36)"
      ]
     },
     "execution_count": 120,
     "metadata": {},
     "output_type": "execute_result"
    }
   ],
   "source": [
    "c2 = np.subtract(np.power(Fraction(1, -3), 2), np.power(Fraction(-1, 2), 2))\n",
    "c2               "
   ]
  },
  {
   "cell_type": "markdown",
   "id": "manual-mining",
   "metadata": {},
   "source": [
    "Zad 8.4"
   ]
  },
  {
   "cell_type": "code",
   "execution_count": 128,
   "id": "awful-gazette",
   "metadata": {},
   "outputs": [
    {
     "name": "stdout",
     "output_type": "stream",
     "text": [
      "-0.2222222222222222\n",
      "-2/9\n"
     ]
    }
   ],
   "source": [
    "a = np.subtract(np.multiply(.5, -Fraction(1, 3)), Fraction(1, 18))\n",
    "print(a)\n",
    "print(Fraction(a).limit_denominator())"
   ]
  },
  {
   "cell_type": "code",
   "execution_count": 156,
   "id": "arranged-holmes",
   "metadata": {},
   "outputs": [
    {
     "data": {
      "text/plain": [
       "Fraction(7, 32)"
      ]
     },
     "execution_count": 156,
     "metadata": {},
     "output_type": "execute_result"
    }
   ],
   "source": [
    "b= np.multiply(np.power(np.subtract(1.5, 1 + Fraction(3, 4)), 2), 3 + Fraction(1, 2))\n",
    "Fraction(b)"
   ]
  },
  {
   "cell_type": "code",
   "execution_count": 167,
   "id": "otherwise-gates",
   "metadata": {},
   "outputs": [
    {
     "data": {
      "text/plain": [
       "Fraction(5, 16)"
      ]
     },
     "execution_count": 167,
     "metadata": {},
     "output_type": "execute_result"
    }
   ],
   "source": [
    "c = np.subtract(Fraction(1, 2), np.power(-0.5, 2)) + np.power(-Fraction(1, 4), 2)\n",
    "Fraction(c)"
   ]
  },
  {
   "cell_type": "code",
   "execution_count": 168,
   "id": "developed-karma",
   "metadata": {},
   "outputs": [
    {
     "data": {
      "text/plain": [
       "Fraction(5, 16)"
      ]
     },
     "execution_count": 168,
     "metadata": {},
     "output_type": "execute_result"
    }
   ],
   "source": [
    "c = np.sum([np.subtract(Fraction(1, 2), np.power(-0.5, 2)), np.power(-Fraction(1, 4), 2)])\n",
    "Fraction(c)"
   ]
  },
  {
   "cell_type": "code",
   "execution_count": 174,
   "id": "respiratory-culture",
   "metadata": {},
   "outputs": [
    {
     "data": {
      "text/plain": [
       "Fraction(-35, 6)"
      ]
     },
     "execution_count": 174,
     "metadata": {},
     "output_type": "execute_result"
    }
   ],
   "source": [
    "d = np.subtract(np.divide(np.power(-2 - Fraction(2, 3), 2), - Fraction(2, 3)), -4 - Fraction(5, 6))\n",
    "d"
   ]
  },
  {
   "cell_type": "markdown",
   "id": "bibliographic-billy",
   "metadata": {},
   "source": [
    "Zad 8.5"
   ]
  },
  {
   "cell_type": "code",
   "execution_count": 94,
   "id": "unique-madonna",
   "metadata": {},
   "outputs": [
    {
     "data": {
      "text/plain": [
       "(-230752268637185668771,\n",
       " 1126030494814647156736,\n",
       " 'max to: ',\n",
       " 1126030494814647156736)"
      ]
     },
     "execution_count": 94,
     "metadata": {},
     "output_type": "execute_result"
    }
   ],
   "source": [
    "a = -811 ** 7 \n",
    "aa = 428 ** 8\n",
    "a1 = max(a, aa)\n",
    "a, aa, 'max to: ', a1  "
   ]
  },
  {
   "cell_type": "code",
   "execution_count": 83,
   "id": "subjective-missile",
   "metadata": {},
   "outputs": [
    {
     "data": {
      "text/plain": [
       "-230752268637185668771"
      ]
     },
     "execution_count": 83,
     "metadata": {},
     "output_type": "execute_result"
    }
   ],
   "source": []
  },
  {
   "cell_type": "markdown",
   "id": "celtic-marsh",
   "metadata": {},
   "source": [
    "Rozdział 9."
   ]
  },
  {
   "cell_type": "code",
   "execution_count": 70,
   "id": "practical-northern",
   "metadata": {},
   "outputs": [
    {
     "data": {
      "text/plain": [
       "array([6., 4.])"
      ]
     },
     "execution_count": 70,
     "metadata": {},
     "output_type": "execute_result"
    }
   ],
   "source": [
    "a = np.sqrt([36, 16])\n",
    "a"
   ]
  },
  {
   "cell_type": "code",
   "execution_count": 10,
   "id": "clear-plaza",
   "metadata": {},
   "outputs": [
    {
     "data": {
      "text/plain": [
       "array([5., 7.])"
      ]
     },
     "execution_count": 10,
     "metadata": {},
     "output_type": "execute_result"
    }
   ],
   "source": [
    "a1 = np.cbrt([125, 343])\n",
    "a1"
   ]
  },
  {
   "cell_type": "code",
   "execution_count": null,
   "id": "congressional-trigger",
   "metadata": {},
   "outputs": [],
   "source": [
    "a1 = np.cbrt(125)"
   ]
  },
  {
   "cell_type": "code",
   "execution_count": 12,
   "id": "suffering-westminster",
   "metadata": {},
   "outputs": [
    {
     "data": {
      "text/plain": [
       "1.3333333333333333"
      ]
     },
     "execution_count": 12,
     "metadata": {},
     "output_type": "execute_result"
    }
   ],
   "source": [
    "a3 = np.cbrt(2 + 10/27)\n",
    "a3"
   ]
  },
  {
   "cell_type": "code",
   "execution_count": 15,
   "id": "written-destination",
   "metadata": {},
   "outputs": [
    {
     "data": {
      "text/plain": [
       "1.25"
      ]
     },
     "execution_count": 15,
     "metadata": {},
     "output_type": "execute_result"
    }
   ],
   "source": [
    "a4 = np.cbrt(1 + 61/64)\n",
    "a4"
   ]
  },
  {
   "cell_type": "code",
   "execution_count": null,
   "id": "desperate-plumbing",
   "metadata": {},
   "outputs": [],
   "source": [
    "Zad 9.2"
   ]
  },
  {
   "cell_type": "code",
   "execution_count": 20,
   "id": "recreational-tuesday",
   "metadata": {},
   "outputs": [
    {
     "data": {
      "text/plain": [
       "3.0"
      ]
     },
     "execution_count": 20,
     "metadata": {},
     "output_type": "execute_result"
    }
   ],
   "source": [
    "a1 = np.sqrt(np.power(3, 2))\n",
    "a1"
   ]
  },
  {
   "cell_type": "code",
   "execution_count": 22,
   "id": "antique-hanging",
   "metadata": {},
   "outputs": [
    {
     "data": {
      "text/plain": [
       "3.0"
      ]
     },
     "execution_count": 22,
     "metadata": {},
     "output_type": "execute_result"
    }
   ],
   "source": [
    "a1 = np.cbrt(np.power(3, 3))\n",
    "a1"
   ]
  },
  {
   "cell_type": "code",
   "execution_count": 27,
   "id": "waiting-darwin",
   "metadata": {},
   "outputs": [
    {
     "data": {
      "text/plain": [
       "Fraction(11, 1)"
      ]
     },
     "execution_count": 27,
     "metadata": {},
     "output_type": "execute_result"
    }
   ],
   "source": [
    "a4 = np.sqrt(np.power(11, 2))\n",
    "Fraction(a4).limit_denominator()"
   ]
  },
  {
   "cell_type": "code",
   "execution_count": 32,
   "id": "primary-klein",
   "metadata": {},
   "outputs": [
    {
     "data": {
      "text/plain": [
       "0.2"
      ]
     },
     "execution_count": 32,
     "metadata": {},
     "output_type": "execute_result"
    }
   ],
   "source": [
    "b1 = np.sqrt(np.power(1/5, 2))\n",
    "b1"
   ]
  },
  {
   "cell_type": "code",
   "execution_count": 35,
   "id": "uniform-silicon",
   "metadata": {},
   "outputs": [
    {
     "data": {
      "text/plain": [
       "Fraction(5, 3)"
      ]
     },
     "execution_count": 35,
     "metadata": {},
     "output_type": "execute_result"
    }
   ],
   "source": [
    "b4 = np.sqrt(np.power(5/3, 2))\n",
    "Fraction(b4).limit_denominator()"
   ]
  },
  {
   "cell_type": "code",
   "execution_count": 38,
   "id": "computational-wright",
   "metadata": {},
   "outputs": [
    {
     "data": {
      "text/plain": [
       "1.5"
      ]
     },
     "execution_count": 38,
     "metadata": {},
     "output_type": "execute_result"
    }
   ],
   "source": [
    "d4 = np.cbrt(np.power(1 + 1/2, 3))\n",
    "d4"
   ]
  },
  {
   "cell_type": "markdown",
   "id": "local-economy",
   "metadata": {},
   "source": [
    "\n",
    "\n",
    "Zad. 9.3\n",
    "\n"
   ]
  },
  {
   "cell_type": "code",
   "execution_count": 39,
   "id": "short-bernard",
   "metadata": {},
   "outputs": [
    {
     "data": {
      "text/plain": [
       "-1.0"
      ]
     },
     "execution_count": 39,
     "metadata": {},
     "output_type": "execute_result"
    }
   ],
   "source": [
    "a = np.subtract(np.sqrt(25), np.sqrt(36))\n",
    "a"
   ]
  },
  {
   "cell_type": "code",
   "execution_count": 42,
   "id": "returning-swiss",
   "metadata": {},
   "outputs": [
    {
     "data": {
      "text/plain": [
       "17.0"
      ]
     },
     "execution_count": 42,
     "metadata": {},
     "output_type": "execute_result"
    }
   ],
   "source": [
    "b = np.sum([np.sqrt(169), np.sqrt(16)])\n",
    "b"
   ]
  },
  {
   "cell_type": "code",
   "execution_count": 45,
   "id": "previous-hamburg",
   "metadata": {},
   "outputs": [
    {
     "data": {
      "text/plain": [
       "16.0"
      ]
     },
     "execution_count": 45,
     "metadata": {},
     "output_type": "execute_result"
    }
   ],
   "source": [
    "c = np.subtract(np.sqrt(81), -np.sqrt(49))\n",
    "c"
   ]
  },
  {
   "cell_type": "code",
   "execution_count": 46,
   "id": "atlantic-questionnaire",
   "metadata": {},
   "outputs": [
    {
     "data": {
      "text/plain": [
       "9.0"
      ]
     },
     "execution_count": 46,
     "metadata": {},
     "output_type": "execute_result"
    }
   ],
   "source": [
    "d = np.sum([np.sqrt(36), np.sqrt(64), -np.sqrt(25)])\n",
    "d"
   ]
  },
  {
   "cell_type": "code",
   "execution_count": 47,
   "id": "derived-basket",
   "metadata": {},
   "outputs": [
    {
     "data": {
      "text/plain": [
       "0.0"
      ]
     },
     "execution_count": 47,
     "metadata": {},
     "output_type": "execute_result"
    }
   ],
   "source": [
    "e= np.sum([np.cbrt(8), -np.cbrt(27), np.cbrt(1)])\n",
    "e"
   ]
  },
  {
   "cell_type": "code",
   "execution_count": 50,
   "id": "divided-upper",
   "metadata": {},
   "outputs": [
    {
     "data": {
      "text/plain": [
       "4.0"
      ]
     },
     "execution_count": 50,
     "metadata": {},
     "output_type": "execute_result"
    }
   ],
   "source": [
    "f= np.sum([np.cbrt(27), (-np.cbrt(64)), -(-np.cbrt(125))])\n",
    "f"
   ]
  },
  {
   "cell_type": "code",
   "execution_count": 51,
   "id": "standard-damage",
   "metadata": {},
   "outputs": [
    {
     "data": {
      "text/plain": [
       "0.0"
      ]
     },
     "execution_count": 51,
     "metadata": {},
     "output_type": "execute_result"
    }
   ],
   "source": [
    "g = np.sum([np.cbrt(125), np.sqrt(25), -np.cbrt(1000)])\n",
    "g"
   ]
  },
  {
   "cell_type": "code",
   "execution_count": 53,
   "id": "composed-manchester",
   "metadata": {},
   "outputs": [
    {
     "data": {
      "text/plain": [
       "13.0"
      ]
     },
     "execution_count": 53,
     "metadata": {},
     "output_type": "execute_result"
    }
   ],
   "source": [
    "h = np.subtract(np.sum([np.sqrt(169), np.sqrt(36)]), np.cbrt(216))\n",
    "h"
   ]
  },
  {
   "cell_type": "code",
   "execution_count": null,
   "id": "dutch-thailand",
   "metadata": {},
   "outputs": [],
   "source": [
    "Zad 9.4"
   ]
  },
  {
   "cell_type": "code",
   "execution_count": 57,
   "id": "another-century",
   "metadata": {},
   "outputs": [
    {
     "data": {
      "text/plain": [
       "-8.0"
      ]
     },
     "execution_count": 57,
     "metadata": {},
     "output_type": "execute_result"
    }
   ],
   "source": [
    "a = np.sum([np.multiply(-2, np.sqrt(25)), np.divide(np.sqrt(64), np.sqrt(16))])\n",
    "a"
   ]
  },
  {
   "cell_type": "code",
   "execution_count": 58,
   "id": "narrative-oxygen",
   "metadata": {},
   "outputs": [
    {
     "data": {
      "text/plain": [
       "11.0"
      ]
     },
     "execution_count": 58,
     "metadata": {},
     "output_type": "execute_result"
    }
   ],
   "source": [
    "b = np.subtract(np.divide(np.cbrt(125), -5), np.multiply(-3, np.sqrt(16)))\n",
    "b"
   ]
  },
  {
   "cell_type": "code",
   "execution_count": 62,
   "id": "drawn-animal",
   "metadata": {},
   "outputs": [
    {
     "data": {
      "text/plain": [
       "-11.0"
      ]
     },
     "execution_count": 62,
     "metadata": {},
     "output_type": "execute_result"
    }
   ],
   "source": [
    "c = np.sum([np.multiply(-np.cbrt(64), np.power(-2, 2)), np.multiply(Fraction(1, 2), np.sqrt(100))])\n",
    "c"
   ]
  },
  {
   "cell_type": "code",
   "execution_count": 69,
   "id": "copyrighted-sample",
   "metadata": {},
   "outputs": [
    {
     "data": {
      "text/plain": [
       "Fraction(17, 14)"
      ]
     },
     "execution_count": 69,
     "metadata": {},
     "output_type": "execute_result"
    }
   ],
   "source": [
    "d = np.divide(np.sum([np.multiply(np.sqrt(4), np.sqrt(49)), np.cbrt(27)]), np.multiply(np.cbrt(8), np.sum([np.cbrt(125), np.sqrt(4)])))\n",
    "Fraction(d).limit_denominator()"
   ]
  },
  {
   "cell_type": "code",
   "execution_count": 73,
   "id": "flexible-graham",
   "metadata": {},
   "outputs": [
    {
     "data": {
      "text/plain": [
       "Fraction(1, 1)"
      ]
     },
     "execution_count": 73,
     "metadata": {},
     "output_type": "execute_result"
    }
   ],
   "source": [
    "e = np.sum([np.multiply(np.cbrt(8/125), np.sqrt(25)), np.divide(np.sum([np.cbrt(27), np.sqrt(16)]), -7)])\n",
    "Fraction(e).limit_denominator()"
   ]
  },
  {
   "cell_type": "markdown",
   "id": "anticipated-resource",
   "metadata": {},
   "source": [
    "Zadanie 9.5"
   ]
  },
  {
   "cell_type": "code",
   "execution_count": 75,
   "id": "valued-pilot",
   "metadata": {},
   "outputs": [
    {
     "data": {
      "text/plain": [
       "5.0"
      ]
     },
     "execution_count": 75,
     "metadata": {},
     "output_type": "execute_result"
    }
   ],
   "source": [
    "a = np.sqrt(np.sum([np.power(4, 2), np.power(3, 2)]))\n",
    "a"
   ]
  },
  {
   "cell_type": "code",
   "execution_count": 116,
   "id": "competent-complaint",
   "metadata": {},
   "outputs": [
    {
     "data": {
      "text/plain": [
       "-1.343"
      ]
     },
     "execution_count": 116,
     "metadata": {},
     "output_type": "execute_result"
    }
   ],
   "source": [
    "b = np.subtract(np.sqrt(32), np.sqrt(49))\n",
    "b = float('{:.3f}'.format(b))\n",
    "b"
   ]
  },
  {
   "cell_type": "code",
   "execution_count": 83,
   "id": "hungry-coupon",
   "metadata": {},
   "outputs": [
    {
     "data": {
      "text/plain": [
       "-1.5"
      ]
     },
     "execution_count": 83,
     "metadata": {},
     "output_type": "execute_result"
    }
   ],
   "source": [
    "c = np.subtract(np.multiply(-np.sqrt(16), np.sqrt(1/16)), np.multiply(np.sqrt(4), np.power(-Fraction(1, 2), 2)))\n",
    "c"
   ]
  },
  {
   "cell_type": "code",
   "execution_count": 110,
   "id": "laughing-deputy",
   "metadata": {},
   "outputs": [
    {
     "data": {
      "text/plain": [
       "Fraction(-7, 20)"
      ]
     },
     "execution_count": 110,
     "metadata": {},
     "output_type": "execute_result"
    }
   ],
   "source": [
    "d = np.subtract(np.power(np.sqrt(2/5), 2), np.power(np.cbrt(3/4), 3))\n",
    "d = float('{:.2f}'.format(d))\n",
    "Fraction(d).limit_denominator()"
   ]
  },
  {
   "cell_type": "code",
   "execution_count": 102,
   "id": "reported-afghanistan",
   "metadata": {},
   "outputs": [
    {
     "data": {
      "text/plain": [
       "1.0"
      ]
     },
     "execution_count": 102,
     "metadata": {},
     "output_type": "execute_result"
    }
   ],
   "source": [
    "e = np.power(np.subtract(np.cbrt(27), np.sqrt(4)), 2)\n",
    "e"
   ]
  },
  {
   "cell_type": "code",
   "execution_count": 106,
   "id": "brief-night",
   "metadata": {},
   "outputs": [
    {
     "data": {
      "text/plain": [
       "15.0"
      ]
     },
     "execution_count": 106,
     "metadata": {},
     "output_type": "execute_result"
    }
   ],
   "source": [
    "f = np.sum([np.multiply(np.cbrt(1/8), np.sqrt(36)), np.multiply(np.power(-2, 3), -np.sqrt(2 + 1/4))])\n",
    "f"
   ]
  },
  {
   "cell_type": "code",
   "execution_count": 108,
   "id": "prescription-plane",
   "metadata": {},
   "outputs": [
    {
     "data": {
      "text/plain": [
       "-5.0"
      ]
     },
     "execution_count": 108,
     "metadata": {},
     "output_type": "execute_result"
    }
   ],
   "source": [
    "g = np.sum([np.power(-3, 3), np.sqrt(49), np.sqrt(np.subtract(np.power(5, 2), np.power(4, 2))), np.sqrt(144)])\n",
    "g"
   ]
  },
  {
   "cell_type": "markdown",
   "id": "legal-gabriel",
   "metadata": {},
   "source": [
    "Rozdział 10"
   ]
  },
  {
   "cell_type": "code",
   "execution_count": null,
   "id": "stunning-telling",
   "metadata": {},
   "outputs": [],
   "source": [
    "Zadanie 1"
   ]
  },
  {
   "cell_type": "code",
   "execution_count": 124,
   "id": "sacred-minimum",
   "metadata": {},
   "outputs": [
    {
     "data": {
      "text/plain": [
       "30.0"
      ]
     },
     "execution_count": 124,
     "metadata": {},
     "output_type": "execute_result"
    }
   ],
   "source": [
    "a = np.sum([np.multiply(np.subtract(7, 11), np.power(-2, 3)), np.divide(np.sqrt(100), np.sum([-2, -3]))])\n",
    "a"
   ]
  },
  {
   "cell_type": "code",
   "execution_count": 127,
   "id": "opposite-title",
   "metadata": {},
   "outputs": [
    {
     "data": {
      "text/plain": [
       "39"
      ]
     },
     "execution_count": 127,
     "metadata": {},
     "output_type": "execute_result"
    }
   ],
   "source": [
    "a1 = np.sum([np.multiply(np.power(-3, 2), 5), np.multiply(6, -1)])\n",
    "a1"
   ]
  },
  {
   "cell_type": "code",
   "execution_count": 128,
   "id": "ongoing-newsletter",
   "metadata": {},
   "outputs": [
    {
     "data": {
      "text/plain": [
       "-38"
      ]
     },
     "execution_count": 128,
     "metadata": {},
     "output_type": "execute_result"
    }
   ],
   "source": [
    "a2 = np.subtract(np.multiply(np.power(2, 3), -4), np.multiply(-3, -2))\n",
    "a2"
   ]
  },
  {
   "cell_type": "code",
   "execution_count": 130,
   "id": "acceptable-nicaragua",
   "metadata": {},
   "outputs": [
    {
     "data": {
      "text/plain": [
       "-104.0"
      ]
     },
     "execution_count": 130,
     "metadata": {},
     "output_type": "execute_result"
    }
   ],
   "source": [
    "a3 = np.sum([np.multiply(-10, np.sqrt(25)), np.multiply(np.power(3, 3), -2)])\n",
    "a3"
   ]
  },
  {
   "cell_type": "code",
   "execution_count": 133,
   "id": "constitutional-fusion",
   "metadata": {},
   "outputs": [
    {
     "data": {
      "text/plain": [
       "-7.0"
      ]
     },
     "execution_count": 133,
     "metadata": {},
     "output_type": "execute_result"
    }
   ],
   "source": [
    "a4 = np.subtract(np.multiply(-4, np.power(2, 2)), np.multiply(np.sqrt(9), -3))\n",
    "a4"
   ]
  },
  {
   "cell_type": "code",
   "execution_count": 135,
   "id": "meaningful-pound",
   "metadata": {},
   "outputs": [
    {
     "data": {
      "text/plain": [
       "0.7"
      ]
     },
     "execution_count": 135,
     "metadata": {},
     "output_type": "execute_result"
    }
   ],
   "source": [
    "b1 = np.subtract(np.multiply(2, -.4), np.multiply(.5, -3))\n",
    "b1"
   ]
  },
  {
   "cell_type": "code",
   "execution_count": 139,
   "id": "empirical-heater",
   "metadata": {},
   "outputs": [
    {
     "data": {
      "text/plain": [
       "40.0"
      ]
     },
     "execution_count": 139,
     "metadata": {},
     "output_type": "execute_result"
    }
   ],
   "source": [
    "b2 = np.subtract(np.multiply(-2.5, -8), np.multiply(np.power(2, 2), -5))\n",
    "b2"
   ]
  },
  {
   "cell_type": "code",
   "execution_count": 141,
   "id": "complete-examination",
   "metadata": {},
   "outputs": [
    {
     "data": {
      "text/plain": [
       "1.0"
      ]
     },
     "execution_count": 141,
     "metadata": {},
     "output_type": "execute_result"
    }
   ],
   "source": [
    "b3 = np.sum([np.multiply(np.sqrt(81), Fraction(1, 3)), np.divide(3, -1 - Fraction(1, 2))])\n",
    "b3"
   ]
  },
  {
   "cell_type": "code",
   "execution_count": 143,
   "id": "reflected-hardwood",
   "metadata": {},
   "outputs": [
    {
     "data": {
      "text/plain": [
       "-41.0"
      ]
     },
     "execution_count": 143,
     "metadata": {},
     "output_type": "execute_result"
    }
   ],
   "source": [
    "b4 = np.sum([np.divide(-125, np.power(-5, 2)), np.multiply(-4.5, 8)])\n",
    "b4"
   ]
  },
  {
   "cell_type": "code",
   "execution_count": null,
   "id": "separated-haven",
   "metadata": {},
   "outputs": [],
   "source": [
    "Zad 10.2"
   ]
  },
  {
   "cell_type": "code",
   "execution_count": 171,
   "id": "literary-vintage",
   "metadata": {},
   "outputs": [
    {
     "data": {
      "text/plain": [
       "(0, 0.7142857142857143)"
      ]
     },
     "execution_count": 171,
     "metadata": {},
     "output_type": "execute_result"
    }
   ],
   "source": [
    "temperatura = np.array([[-2, -5, -2, 0, 2, 5, 7], [4, 3, -8, -10, -4, 0, 8], [6, 3, 3, 2, -4, -4, -5]], dtype='int64')\n",
    "max_temp = np.max([np.mean(temperatura[0]), np.mean(temperatura[1]), np.mean(temperatura[2])])\n",
    "max_temp_index = np.argmax(max_temp)\n",
    "max_temp_index, max_temp"
   ]
  },
  {
   "cell_type": "code",
   "execution_count": null,
   "id": "miniature-hunter",
   "metadata": {},
   "outputs": [],
   "source": [
    "Zad 10.3"
   ]
  },
  {
   "cell_type": "code",
   "execution_count": 178,
   "id": "specific-central",
   "metadata": {},
   "outputs": [
    {
     "data": {
      "text/plain": [
       "array([-7., -1.,  5.,  8., 12., 14.])"
      ]
     },
     "execution_count": 178,
     "metadata": {},
     "output_type": "execute_result"
    }
   ],
   "source": [
    "a = np.array([-3.5 * 2, -2**2 * .5 * -6, np.sqrt(25) -2 * -4.5, (-2**3 * -1.25) / 2, np.cbrt(8) * -3 + 4 * 3.5, (3**2 - np.sqrt(49)) / -2])\n",
    "np.sort(a)"
   ]
  },
  {
   "cell_type": "code",
   "execution_count": null,
   "id": "collaborative-farmer",
   "metadata": {},
   "outputs": [],
   "source": []
  },
  {
   "cell_type": "code",
   "execution_count": null,
   "id": "radio-bankruptcy",
   "metadata": {},
   "outputs": [],
   "source": [
    "Zad 10.4"
   ]
  },
  {
   "cell_type": "code",
   "execution_count": 196,
   "id": "alive-bloom",
   "metadata": {},
   "outputs": [
    {
     "data": {
      "text/plain": [
       "3.666666666666667"
      ]
     },
     "execution_count": 196,
     "metadata": {},
     "output_type": "execute_result"
    }
   ],
   "source": [
    "a = np.sum([np.power(2, 3), np.multiply(3, -2), np.sqrt(2 + 7/9)])\n",
    "str(Fraction(a).limit_denominator().numerator) + '/' + str(Fraction(a).limit_denominator().denominator)"
   ]
  },
  {
   "cell_type": "code",
   "execution_count": 197,
   "id": "understood-label",
   "metadata": {},
   "outputs": [
    {
     "data": {
      "text/plain": [
       "Fraction(9, 8)"
      ]
     },
     "execution_count": 197,
     "metadata": {},
     "output_type": "execute_result"
    }
   ],
   "source": [
    "b = np.subtract(np.multiply(-3 - np.divide(1, 3), np.divide(3, 5)), np.divide(-6 - 1/4, 2))\n",
    "Fraction(b)"
   ]
  },
  {
   "cell_type": "code",
   "execution_count": 193,
   "id": "judicial-bedroom",
   "metadata": {},
   "outputs": [
    {
     "data": {
      "text/plain": [
       "3.25"
      ]
     },
     "execution_count": 193,
     "metadata": {},
     "output_type": "execute_result"
    }
   ],
   "source": [
    "c = np.sum([np.subtract(np.power(-1.5, 3), np.multiply(5, -1/8)), np.sqrt(np.multiply(2, 18))])\n",
    "c"
   ]
  },
  {
   "cell_type": "code",
   "execution_count": 195,
   "id": "rural-fever",
   "metadata": {},
   "outputs": [
    {
     "data": {
      "text/plain": [
       "65.0"
      ]
     },
     "execution_count": 195,
     "metadata": {},
     "output_type": "execute_result"
    }
   ],
   "source": [
    "d = np.sum([np.subtract(np.multiply(-2.5, -4), 4*-15), -8 + 3])\n",
    "d"
   ]
  },
  {
   "cell_type": "code",
   "execution_count": null,
   "id": "sacred-apollo",
   "metadata": {},
   "outputs": [],
   "source": [
    "Zad 10.5"
   ]
  },
  {
   "cell_type": "code",
   "execution_count": 199,
   "id": "realistic-ranch",
   "metadata": {},
   "outputs": [
    {
     "data": {
      "text/plain": [
       "18.5625"
      ]
     },
     "execution_count": 199,
     "metadata": {},
     "output_type": "execute_result"
    }
   ],
   "source": [
    "a = np.sum([np.power(-3.25, 2), np.multiply(-2, -4)])\n",
    "a"
   ]
  },
  {
   "cell_type": "code",
   "execution_count": 223,
   "id": "changing-mattress",
   "metadata": {},
   "outputs": [
    {
     "data": {
      "text/plain": [
       "18.5625"
      ]
     },
     "execution_count": 223,
     "metadata": {},
     "output_type": "execute_result"
    }
   ],
   "source": [
    "a = (-3.25)**2 + (-2 * -4)\n",
    "a"
   ]
  },
  {
   "cell_type": "code",
   "execution_count": 224,
   "id": "medical-sellers",
   "metadata": {},
   "outputs": [
    {
     "data": {
      "text/plain": [
       "9.5"
      ]
     },
     "execution_count": 224,
     "metadata": {},
     "output_type": "execute_result"
    }
   ],
   "source": [
    "b= np.subtract(np.multiply(-3.5, 5), np.power(-3, 3))\n",
    "b"
   ]
  },
  {
   "cell_type": "code",
   "execution_count": 227,
   "id": "suburban-likelihood",
   "metadata": {},
   "outputs": [
    {
     "data": {
      "text/plain": [
       "13.5"
      ]
     },
     "execution_count": 227,
     "metadata": {},
     "output_type": "execute_result"
    }
   ],
   "source": [
    "c= np.sum([np.multiply(2.25, -1 -Fraction(1, 9)), np.power(4, 2)])\n",
    "c"
   ]
  },
  {
   "cell_type": "code",
   "execution_count": 229,
   "id": "identified-bermuda",
   "metadata": {},
   "outputs": [
    {
     "data": {
      "text/plain": [
       "-19.0"
      ]
     },
     "execution_count": 229,
     "metadata": {},
     "output_type": "execute_result"
    }
   ],
   "source": [
    "d = np.subtract(np.multiply(-3 -1/2, 4), np.sqrt(25))\n",
    "d"
   ]
  },
  {
   "cell_type": "code",
   "execution_count": 230,
   "id": "spread-flour",
   "metadata": {},
   "outputs": [
    {
     "data": {
      "text/plain": [
       "-4.333333333333333"
      ]
     },
     "execution_count": 230,
     "metadata": {},
     "output_type": "execute_result"
    }
   ],
   "source": [
    "e = np.subtract(np.multiply(-6 -2/3, -0.4), np.sqrt(49))\n",
    "e"
   ]
  },
  {
   "cell_type": "code",
   "execution_count": 232,
   "id": "extended-worthy",
   "metadata": {},
   "outputs": [
    {
     "data": {
      "text/plain": [
       "-25.0"
      ]
     },
     "execution_count": 232,
     "metadata": {},
     "output_type": "execute_result"
    }
   ],
   "source": [
    "f = np.sum([np.multiply(np.power(1.5, 3), 4 + 4/9), np.multiply(np.sqrt(64), -5)])\n",
    "f"
   ]
  },
  {
   "cell_type": "code",
   "execution_count": 233,
   "id": "greenhouse-banking",
   "metadata": {},
   "outputs": [
    {
     "data": {
      "text/plain": [
       "0.0"
      ]
     },
     "execution_count": 233,
     "metadata": {},
     "output_type": "execute_result"
    }
   ],
   "source": [
    "g = np.subtract(np.power(-2 -1/2 + 3, 2), np.power(-4 + 3.5, 2))\n",
    "g"
   ]
  },
  {
   "cell_type": "code",
   "execution_count": 366,
   "id": "legitimate-washington",
   "metadata": {},
   "outputs": [
    {
     "data": {
      "text/plain": [
       "9.0"
      ]
     },
     "execution_count": 366,
     "metadata": {},
     "output_type": "execute_result"
    }
   ],
   "source": [
    "h = np.sum([np.subtract(np.multiply(-2 -2/3, -3 - 3/4), np.multiply(np.power(-3, 2), -1/3)), np.multiply(np.power(2, 3), -.5)])\n",
    "h"
   ]
  },
  {
   "cell_type": "code",
   "execution_count": null,
   "id": "brief-intake",
   "metadata": {},
   "outputs": [],
   "source": [
    "Zadanie 10.6"
   ]
  },
  {
   "cell_type": "code",
   "execution_count": 248,
   "id": "prerequisite-oriental",
   "metadata": {},
   "outputs": [
    {
     "data": {
      "text/plain": [
       "3.1"
      ]
     },
     "execution_count": 248,
     "metadata": {},
     "output_type": "execute_result"
    }
   ],
   "source": [
    "a = np.divide(np.sum([13.2, 2.3]), 5)\n",
    "a"
   ]
  },
  {
   "cell_type": "code",
   "execution_count": 249,
   "id": "advised-glucose",
   "metadata": {},
   "outputs": [
    {
     "data": {
      "text/plain": [
       "13.2"
      ]
     },
     "execution_count": 249,
     "metadata": {},
     "output_type": "execute_result"
    }
   ],
   "source": [
    "a_check = np.subtract(np.multiply(5, a), 2.3)\n",
    "a_check"
   ]
  },
  {
   "cell_type": "code",
   "execution_count": 255,
   "id": "apart-walnut",
   "metadata": {},
   "outputs": [
    {
     "data": {
      "text/plain": [
       "-2.0"
      ]
     },
     "execution_count": 255,
     "metadata": {},
     "output_type": "execute_result"
    }
   ],
   "source": [
    "b = np.divide(np.subtract(-5/12, 6.25), 3 + 1/3)\n",
    "b"
   ]
  },
  {
   "cell_type": "code",
   "execution_count": 258,
   "id": "consistent-contemporary",
   "metadata": {},
   "outputs": [
    {
     "data": {
      "text/plain": [
       "Fraction(-5, 12)"
      ]
     },
     "execution_count": 258,
     "metadata": {},
     "output_type": "execute_result"
    }
   ],
   "source": [
    "b_check = np.sum([np.multiply(3 + 1/3, b), 6.25])\n",
    "Fraction(b_check).limit_denominator()"
   ]
  },
  {
   "cell_type": "code",
   "execution_count": 261,
   "id": "important-perfume",
   "metadata": {},
   "outputs": [
    {
     "data": {
      "text/plain": [
       "3.5000000000000004"
      ]
     },
     "execution_count": 261,
     "metadata": {},
     "output_type": "execute_result"
    }
   ],
   "source": [
    "c= np.divide(np.sum([2.2, 6.2]), 2.4)\n",
    "c"
   ]
  },
  {
   "cell_type": "code",
   "execution_count": 262,
   "id": "authentic-haven",
   "metadata": {},
   "outputs": [
    {
     "data": {
      "text/plain": [
       "-2.2"
      ]
     },
     "execution_count": 262,
     "metadata": {},
     "output_type": "execute_result"
    }
   ],
   "source": [
    "c_check = np.subtract(np.multiply(-2.4, c), -6.2)\n",
    "c_check"
   ]
  },
  {
   "cell_type": "code",
   "execution_count": 364,
   "id": "powered-divide",
   "metadata": {},
   "outputs": [
    {
     "data": {
      "text/plain": [
       "4.0"
      ]
     },
     "execution_count": 364,
     "metadata": {},
     "output_type": "execute_result"
    }
   ],
   "source": [
    "d = np.divide(np.sum([-16, 3 * 2]), -2.5)\n",
    "d"
   ]
  },
  {
   "cell_type": "code",
   "execution_count": 365,
   "id": "wrapped-assist",
   "metadata": {},
   "outputs": [
    {
     "data": {
      "text/plain": [
       "-16.0"
      ]
     },
     "execution_count": 365,
     "metadata": {},
     "output_type": "execute_result"
    }
   ],
   "source": [
    "d_check = np.sum([np.multiply(-2.5, d), np.multiply(3, -2)])\n",
    "d_check"
   ]
  },
  {
   "cell_type": "code",
   "execution_count": 288,
   "id": "quiet-advisory",
   "metadata": {},
   "outputs": [
    {
     "data": {
      "text/plain": [
       "8.0"
      ]
     },
     "execution_count": 288,
     "metadata": {},
     "output_type": "execute_result"
    }
   ],
   "source": [
    "e = np.divide(np.sum([14 + 2/3, np.multiply(20, 1/3)]), np.sum([2, 2/3]))\n",
    "e"
   ]
  },
  {
   "cell_type": "code",
   "execution_count": 291,
   "id": "specified-transportation",
   "metadata": {},
   "outputs": [
    {
     "data": {
      "text/plain": [
       "14.666666666666666"
      ]
     },
     "execution_count": 291,
     "metadata": {},
     "output_type": "execute_result"
    }
   ],
   "source": [
    "c_check = np.subtract(np.multiply(20, -1/3), (-2 -2/3) * e)\n",
    "c_check"
   ]
  },
  {
   "cell_type": "code",
   "execution_count": 336,
   "id": "after-biography",
   "metadata": {},
   "outputs": [
    {
     "data": {
      "text/plain": [
       "-6.0"
      ]
     },
     "execution_count": 336,
     "metadata": {},
     "output_type": "execute_result"
    }
   ],
   "source": [
    "f = np.divide(np.sum([-24, 9]), 2.5)\n",
    "f"
   ]
  },
  {
   "cell_type": "code",
   "execution_count": 337,
   "id": "favorite-principal",
   "metadata": {},
   "outputs": [
    {
     "data": {
      "text/plain": [
       "-24.0"
      ]
     },
     "execution_count": 337,
     "metadata": {},
     "output_type": "execute_result"
    }
   ],
   "source": [
    "f_check = np.subtract(np.multiply(2.5, f), np.power(3, 2))\n",
    "f_check"
   ]
  },
  {
   "cell_type": "code",
   "execution_count": 379,
   "id": "expanded-headline",
   "metadata": {},
   "outputs": [
    {
     "data": {
      "text/plain": [
       "4.0"
      ]
     },
     "execution_count": 379,
     "metadata": {},
     "output_type": "execute_result"
    }
   ],
   "source": [
    "g = np.divide(np.sum([np.power(-5, 0), -np.multiply(15.5, 2)]), np.sqrt(64))\n",
    "g"
   ]
  },
  {
   "cell_type": "code",
   "execution_count": 382,
   "id": "studied-symbol",
   "metadata": {},
   "outputs": [
    {
     "data": {
      "text/plain": [
       "1.0"
      ]
     },
     "execution_count": 382,
     "metadata": {},
     "output_type": "execute_result"
    }
   ],
   "source": [
    "g_check = np.subtract(np.multiply(np.sqrt(64), g), -np.multiply(15.5, -2))\n",
    "g_check"
   ]
  },
  {
   "cell_type": "code",
   "execution_count": 383,
   "id": "flush-lloyd",
   "metadata": {},
   "outputs": [
    {
     "data": {
      "text/plain": [
       "2.0"
      ]
     },
     "execution_count": 383,
     "metadata": {},
     "output_type": "execute_result"
    }
   ],
   "source": [
    "h = np.divide(np.sum([np.sqrt(16), np.multiply(4, 3.5)]), np.power(-3, 2))\n",
    "h"
   ]
  },
  {
   "cell_type": "code",
   "execution_count": 384,
   "id": "attended-duncan",
   "metadata": {},
   "outputs": [
    {
     "data": {
      "text/plain": [
       "4.0"
      ]
     },
     "execution_count": 384,
     "metadata": {},
     "output_type": "execute_result"
    }
   ],
   "source": [
    "h_check = np.subtract(np.multiply(np.power(-3, 2), h), np.multiply(4, 3.5))\n",
    "h_check"
   ]
  },
  {
   "cell_type": "code",
   "execution_count": null,
   "id": "laughing-olympus",
   "metadata": {},
   "outputs": [],
   "source": [
    "Zadanie 10.7"
   ]
  },
  {
   "cell_type": "code",
   "execution_count": 385,
   "id": "human-puppy",
   "metadata": {},
   "outputs": [
    {
     "data": {
      "text/plain": [
       "Fraction(68, 3)"
      ]
     },
     "execution_count": 385,
     "metadata": {},
     "output_type": "execute_result"
    }
   ],
   "source": [
    "a = np.multiply(np.sum([5, Fraction(1, 3)]), np.sum([4, Fraction(1, 4)]))\n",
    "a"
   ]
  },
  {
   "cell_type": "code",
   "execution_count": 386,
   "id": "unlikely-official",
   "metadata": {},
   "outputs": [
    {
     "data": {
      "text/plain": [
       "Fraction(517, 24)"
      ]
     },
     "execution_count": 386,
     "metadata": {},
     "output_type": "execute_result"
    }
   ],
   "source": [
    "a_aug = np.multiply(np.sum([5, Fraction(1, 3), 2, Fraction(1, 2)]), np.sum([4, Fraction(1, 4), -1, -Fraction(1, 2)]))\n",
    "a_aug"
   ]
  },
  {
   "cell_type": "code",
   "execution_count": 390,
   "id": "coordinate-dublin",
   "metadata": {},
   "outputs": [
    {
     "data": {
      "text/plain": [
       "Fraction(-9, 8)"
      ]
     },
     "execution_count": 390,
     "metadata": {},
     "output_type": "execute_result"
    }
   ],
   "source": [
    "a_aug - a"
   ]
  },
  {
   "cell_type": "code",
   "execution_count": null,
   "id": "elect-ballet",
   "metadata": {},
   "outputs": [],
   "source": [
    "Zadanie 10.8"
   ]
  },
  {
   "cell_type": "code",
   "execution_count": 391,
   "id": "married-prague",
   "metadata": {},
   "outputs": [
    {
     "data": {
      "text/plain": [
       "-12.0"
      ]
     },
     "execution_count": 391,
     "metadata": {},
     "output_type": "execute_result"
    }
   ],
   "source": [
    "a = np.divide(np.multiply(np.sqrt(144), np.power(-1/2, 2)), -1/4)\n",
    "a"
   ]
  },
  {
   "cell_type": "code",
   "execution_count": 402,
   "id": "measured-baker",
   "metadata": {},
   "outputs": [
    {
     "data": {
      "text/plain": [
       "30.0"
      ]
     },
     "execution_count": 402,
     "metadata": {},
     "output_type": "execute_result"
    }
   ],
   "source": [
    "b = np.divide(np.prod([np.power(-4, 3), 3, -2.5]), np.subtract(np.power(5, 2), np.sqrt(81)))\n",
    "b"
   ]
  },
  {
   "cell_type": "code",
   "execution_count": null,
   "id": "violent-quest",
   "metadata": {},
   "outputs": [],
   "source": [
    "Zadanie 10.9"
   ]
  },
  {
   "cell_type": "code",
   "execution_count": 434,
   "id": "ranging-waters",
   "metadata": {},
   "outputs": [
    {
     "data": {
      "text/plain": [
       "127.67999999999999"
      ]
     },
     "execution_count": 434,
     "metadata": {},
     "output_type": "execute_result"
    }
   ],
   "source": [
    "dł_boków = np.array([15.2, 8.4])\n",
    "P = np.multiply(dł_boków[0], dł_boków[1])\n",
    "P"
   ]
  },
  {
   "cell_type": "code",
   "execution_count": 435,
   "id": "armed-niagara",
   "metadata": {},
   "outputs": [
    {
     "data": {
      "text/plain": [
       "20.0"
      ]
     },
     "execution_count": 435,
     "metadata": {},
     "output_type": "execute_result"
    }
   ],
   "source": [
    "a_dim = np.prod([2.5, 2, 4])\n",
    "a_dim"
   ]
  },
  {
   "cell_type": "code",
   "execution_count": 447,
   "id": "dress-financing",
   "metadata": {},
   "outputs": [
    {
     "data": {
      "text/plain": [
       "107.67999999999999"
      ]
     },
     "execution_count": 447,
     "metadata": {},
     "output_type": "execute_result"
    }
   ],
   "source": [
    "P_dim = P - a_dim\n",
    "P_dim"
   ]
  },
  {
   "cell_type": "code",
   "execution_count": 446,
   "id": "polished-asthma",
   "metadata": {},
   "outputs": [
    {
     "data": {
      "text/plain": [
       "27.200000000000003"
      ]
     },
     "execution_count": 446,
     "metadata": {},
     "output_type": "execute_result"
    }
   ],
   "source": [
    "Ob = np.multiply(dł_boków, 2)\n",
    "Ob_dim = np.subtract(np.sum(Ob), np.multiply(2.5, 8))\n",
    "Ob_dim"
   ]
  },
  {
   "cell_type": "code",
   "execution_count": null,
   "id": "external-dinner",
   "metadata": {},
   "outputs": [],
   "source": [
    "Zad 10.10"
   ]
  },
  {
   "cell_type": "code",
   "execution_count": 450,
   "id": "owned-charity",
   "metadata": {},
   "outputs": [
    {
     "data": {
      "text/plain": [
       "5.0"
      ]
     },
     "execution_count": 450,
     "metadata": {},
     "output_type": "execute_result"
    }
   ],
   "source": [
    "a = np.sqrt(np.sum([np.power(-3, 2), np.power(4, 2)]))\n",
    "a"
   ]
  },
  {
   "cell_type": "markdown",
   "id": "greek-center",
   "metadata": {},
   "source": [
    "Rozdział 11"
   ]
  },
  {
   "cell_type": "code",
   "execution_count": null,
   "id": "occupied-advisory",
   "metadata": {},
   "outputs": [],
   "source": [
    "Zad 11.1"
   ]
  },
  {
   "cell_type": "code",
   "execution_count": 458,
   "id": "disciplinary-belfast",
   "metadata": {},
   "outputs": [
    {
     "data": {
      "text/plain": [
       "array([-5. , -4. , -1. , -0.5,  0. ,  2. ,  2.5,  3.5,  4. ])"
      ]
     },
     "execution_count": 458,
     "metadata": {},
     "output_type": "execute_result"
    }
   ],
   "source": [
    "a = np.array([2, -1/2, 0, -4, 2 + 1/2, -5, 3 + 1/2, 4, -1])\n",
    "np.sort(a)"
   ]
  },
  {
   "cell_type": "code",
   "execution_count": 460,
   "id": "interracial-happiness",
   "metadata": {},
   "outputs": [
    {
     "data": {
      "text/plain": [
       "array([ 4. ,  3.5,  2.5,  2. ,  0. , -0.5, -1. , -4. , -5. ])"
      ]
     },
     "execution_count": 460,
     "metadata": {},
     "output_type": "execute_result"
    }
   ],
   "source": [
    "np.flipud(np.sort(a))"
   ]
  },
  {
   "cell_type": "code",
   "execution_count": null,
   "id": "hundred-estimate",
   "metadata": {},
   "outputs": [],
   "source": [
    "Zad 11.2"
   ]
  },
  {
   "cell_type": "code",
   "execution_count": 461,
   "id": "referenced-kansas",
   "metadata": {},
   "outputs": [
    {
     "data": {
      "text/plain": [
       "array([ -3.        ,   7.        ,  -0.75      ,  10.        ,\n",
       "        -0.83333333, -12.        ,  -0.8       ,   8.5       ])"
      ]
     },
     "execution_count": 461,
     "metadata": {},
     "output_type": "execute_result"
    }
   ],
   "source": [
    "a = np.array([-3, 7, -3/4, 10, -5/6, -12, -.8, 8 + 1/2])\n",
    "a"
   ]
  },
  {
   "cell_type": "code",
   "execution_count": 462,
   "id": "touched-austria",
   "metadata": {},
   "outputs": [
    {
     "data": {
      "text/plain": [
       "array([  3.        ,  -7.        ,   0.75      , -10.        ,\n",
       "         0.83333333,  12.        ,   0.8       ,  -8.5       ])"
      ]
     },
     "execution_count": 462,
     "metadata": {},
     "output_type": "execute_result"
    }
   ],
   "source": [
    "-a"
   ]
  },
  {
   "cell_type": "code",
   "execution_count": null,
   "id": "detected-perth",
   "metadata": {},
   "outputs": [],
   "source": [
    "Zad 11.3"
   ]
  },
  {
   "cell_type": "code",
   "execution_count": 464,
   "id": "collectible-pillow",
   "metadata": {},
   "outputs": [
    {
     "data": {
      "text/plain": [
       "array([-13.5       , -10.66666667,  -6.25      ,  -5.        ,\n",
       "        -3.2       ,  -2.        ,   0.        ,   0.5       ,\n",
       "         1.        ,   7.33333333,   8.        ,   9.5       ])"
      ]
     },
     "execution_count": 464,
     "metadata": {},
     "output_type": "execute_result"
    }
   ],
   "source": [
    "a = np.array([-2, 8, -13.5, 0, 1/2, -7 + 3/4, 9 + 1/2, -5, -10 - 2/3, 7 + 1/3, 1, -3 - 1/5])\n",
    "np.sort(a)"
   ]
  },
  {
   "cell_type": "code",
   "execution_count": null,
   "id": "opponent-preserve",
   "metadata": {},
   "outputs": [],
   "source": [
    "Zadanie 11.4"
   ]
  },
  {
   "cell_type": "code",
   "execution_count": 6,
   "id": "current-counter",
   "metadata": {},
   "outputs": [
    {
     "data": {
      "text/plain": [
       "Fraction(7, 12)"
      ]
     },
     "execution_count": 6,
     "metadata": {},
     "output_type": "execute_result"
    }
   ],
   "source": [
    "a1 = np.add(-3/4, 1 + 1/3)\n",
    "Fraction(a1).limit_denominator()"
   ]
  },
  {
   "cell_type": "code",
   "execution_count": 9,
   "id": "forward-object",
   "metadata": {},
   "outputs": [
    {
     "data": {
      "text/plain": [
       "Fraction(-5, 6)"
      ]
     },
     "execution_count": 9,
     "metadata": {},
     "output_type": "execute_result"
    }
   ],
   "source": [
    "a2 = np.add(1 + 1/2, -2 - 1/3)\n",
    "Fraction(a2).limit_denominator()"
   ]
  },
  {
   "cell_type": "code",
   "execution_count": 12,
   "id": "cloudy-circle",
   "metadata": {},
   "outputs": [
    {
     "data": {
      "text/plain": [
       "Fraction(2, 3)"
      ]
     },
     "execution_count": 12,
     "metadata": {},
     "output_type": "execute_result"
    }
   ],
   "source": [
    "a3 = np.add(-2-2/3, 3 + 1/3)\n",
    "Fraction(a3).limit_denominator()"
   ]
  },
  {
   "cell_type": "code",
   "execution_count": 39,
   "id": "interpreted-constitution",
   "metadata": {},
   "outputs": [
    {
     "data": {
      "text/plain": [
       "-7.3"
      ]
     },
     "execution_count": 39,
     "metadata": {},
     "output_type": "execute_result"
    }
   ],
   "source": [
    "a4 = np.subtract(-4.5, 2 + 4/5)\n",
    "a4"
   ]
  },
  {
   "cell_type": "code",
   "execution_count": 42,
   "id": "twelve-circumstances",
   "metadata": {},
   "outputs": [
    {
     "data": {
      "text/plain": [
       "Fraction(-19, 12)"
      ]
     },
     "execution_count": 42,
     "metadata": {},
     "output_type": "execute_result"
    }
   ],
   "source": [
    "b1 = np.subtract(np.sum([np.subtract(2 + 2/3, 3.5), 1/4]), 1)\n",
    "Fraction(b1).limit_denominator()"
   ]
  },
  {
   "cell_type": "code",
   "execution_count": 44,
   "id": "composite-sharp",
   "metadata": {},
   "outputs": [
    {
     "data": {
      "text/plain": [
       "-5.4"
      ]
     },
     "execution_count": 44,
     "metadata": {},
     "output_type": "execute_result"
    }
   ],
   "source": [
    "b2 = np.subtract(np.subtract(np.add(-2 -1/5, 1 + 4/5), 3 + 1/2), 1.5)\n",
    "b2"
   ]
  },
  {
   "cell_type": "code",
   "execution_count": 50,
   "id": "historic-english",
   "metadata": {},
   "outputs": [
    {
     "data": {
      "text/plain": [
       "array([-3.9, -1.9])"
      ]
     },
     "execution_count": 50,
     "metadata": {},
     "output_type": "execute_result"
    }
   ],
   "source": [
    "b2a = np.subtract(np.sum([-2 - 1/5, 1 + 4/5]), [3 + 1/2, 1.5])\n",
    "b2a"
   ]
  },
  {
   "cell_type": "code",
   "execution_count": 53,
   "id": "tender-tumor",
   "metadata": {},
   "outputs": [
    {
     "data": {
      "text/plain": [
       "Fraction(-1, 15)"
      ]
     },
     "execution_count": 53,
     "metadata": {},
     "output_type": "execute_result"
    }
   ],
   "source": [
    "b3 = np.subtract(np.add(-np.subtract(2.5, 1 + 1/3), 3.5), 2 + 2/5)\n",
    "Fraction(b3).limit_denominator()"
   ]
  },
  {
   "cell_type": "code",
   "execution_count": 62,
   "id": "improved-editing",
   "metadata": {},
   "outputs": [
    {
     "data": {
      "text/plain": [
       "(Fraction(-88, 15), -5.866666666666667)"
      ]
     },
     "execution_count": 62,
     "metadata": {},
     "output_type": "execute_result"
    }
   ],
   "source": [
    "b4 = np.subtract(np.subtract(4 + 1/3, 7.5), np.add(-2 - 1/2, 5.2))\n",
    "Fraction(b4).limit_denominator(), b4"
   ]
  },
  {
   "cell_type": "code",
   "execution_count": null,
   "id": "front-basket",
   "metadata": {},
   "outputs": [],
   "source": [
    "Zadanie 11.5"
   ]
  },
  {
   "cell_type": "code",
   "execution_count": 67,
   "id": "mineral-toronto",
   "metadata": {},
   "outputs": [
    {
     "name": "stdout",
     "output_type": "stream",
     "text": [
      "2\n",
      "-5\n",
      "1/7\n",
      "-2/9\n",
      "-7/2\n",
      "14/3\n",
      "-37/3\n",
      "-5/2\n"
     ]
    }
   ],
   "source": [
    "a = np.array([2, -5, 1/7, -2/9, -3 - 1/2, 4 + 2/3, -12 - 1/3, -2.5])\n",
    "for n in a:\n",
    "    print(Fraction(n).limit_denominator())"
   ]
  },
  {
   "cell_type": "code",
   "execution_count": 68,
   "id": "secret-writer",
   "metadata": {},
   "outputs": [
    {
     "name": "stdout",
     "output_type": "stream",
     "text": [
      "-2\n",
      "5\n",
      "-1/7\n",
      "2/9\n",
      "7/2\n",
      "-14/3\n",
      "37/3\n",
      "5/2\n"
     ]
    }
   ],
   "source": [
    "for n in -a:\n",
    "    print(Fraction(n).limit_denominator())"
   ]
  },
  {
   "cell_type": "code",
   "execution_count": null,
   "id": "brazilian-armenia",
   "metadata": {},
   "outputs": [],
   "source": [
    "Zadanie 11.6"
   ]
  },
  {
   "cell_type": "code",
   "execution_count": 70,
   "id": "illegal-hudson",
   "metadata": {},
   "outputs": [
    {
     "data": {
      "text/plain": [
       "-21"
      ]
     },
     "execution_count": 70,
     "metadata": {},
     "output_type": "execute_result"
    }
   ],
   "source": [
    "a1 = np.multiply(-7, 3)\n",
    "a1"
   ]
  },
  {
   "cell_type": "code",
   "execution_count": 71,
   "id": "discrete-cliff",
   "metadata": {},
   "outputs": [
    {
     "data": {
      "text/plain": [
       "96"
      ]
     },
     "execution_count": 71,
     "metadata": {},
     "output_type": "execute_result"
    }
   ],
   "source": [
    "a2 = np.multiply(-8, -12)\n",
    "a2"
   ]
  },
  {
   "cell_type": "code",
   "execution_count": 73,
   "id": "daily-slave",
   "metadata": {},
   "outputs": [
    {
     "data": {
      "text/plain": [
       "-5.0"
      ]
     },
     "execution_count": 73,
     "metadata": {},
     "output_type": "execute_result"
    }
   ],
   "source": [
    "a3 = np.divide(80, -16)\n",
    "a3"
   ]
  },
  {
   "cell_type": "code",
   "execution_count": 74,
   "id": "intermediate-gentleman",
   "metadata": {},
   "outputs": [
    {
     "data": {
      "text/plain": [
       "5.0"
      ]
     },
     "execution_count": 74,
     "metadata": {},
     "output_type": "execute_result"
    }
   ],
   "source": [
    "a4 = np.divide(-75, -15)\n",
    "a4"
   ]
  },
  {
   "cell_type": "code",
   "execution_count": 75,
   "id": "antique-chocolate",
   "metadata": {},
   "outputs": [
    {
     "data": {
      "text/plain": [
       "-0.25"
      ]
     },
     "execution_count": 75,
     "metadata": {},
     "output_type": "execute_result"
    }
   ],
   "source": [
    "b1 = np.multiply(-2/5, 5/8)\n",
    "b1"
   ]
  },
  {
   "cell_type": "code",
   "execution_count": 76,
   "id": "lesser-dryer",
   "metadata": {},
   "outputs": [
    {
     "data": {
      "text/plain": [
       "0.4444444444444445"
      ]
     },
     "execution_count": 76,
     "metadata": {},
     "output_type": "execute_result"
    }
   ],
   "source": [
    "b2 = np.multiply(-5/6, -8/15)\n",
    "b2"
   ]
  },
  {
   "cell_type": "code",
   "execution_count": 77,
   "id": "ignored-sight",
   "metadata": {},
   "outputs": [
    {
     "data": {
      "text/plain": [
       "Fraction(-6, 5)"
      ]
     },
     "execution_count": 77,
     "metadata": {},
     "output_type": "execute_result"
    }
   ],
   "source": [
    "b3 = np.divide(Fraction(3, 4), Fraction(-5, 8))\n",
    "b3"
   ]
  },
  {
   "cell_type": "code",
   "execution_count": 80,
   "id": "demanding-drama",
   "metadata": {},
   "outputs": [
    {
     "data": {
      "text/plain": [
       "Fraction(-10, 7)"
      ]
     },
     "execution_count": 80,
     "metadata": {},
     "output_type": "execute_result"
    }
   ],
   "source": [
    "b4 = np.divide(-5/9, 7/18)\n",
    "Fraction(b4).limit_denominator()"
   ]
  },
  {
   "cell_type": "code",
   "execution_count": 81,
   "id": "fresh-cannon",
   "metadata": {},
   "outputs": [
    {
     "data": {
      "text/plain": [
       "-8.8"
      ]
     },
     "execution_count": 81,
     "metadata": {},
     "output_type": "execute_result"
    }
   ],
   "source": [
    "c1 = np.multiply(-3 -1/5, 2 +3/4)\n",
    "c1"
   ]
  },
  {
   "cell_type": "code",
   "execution_count": 83,
   "id": "acknowledged-forest",
   "metadata": {},
   "outputs": [
    {
     "data": {
      "text/plain": [
       "6.25"
      ]
     },
     "execution_count": 83,
     "metadata": {},
     "output_type": "execute_result"
    }
   ],
   "source": [
    "c2 = np.multiply(-5 -5/8, -1 -1/9)\n",
    "c2"
   ]
  },
  {
   "cell_type": "code",
   "execution_count": 87,
   "id": "prostate-award",
   "metadata": {},
   "outputs": [
    {
     "data": {
      "text/plain": [
       "Fraction(-17, 6)"
      ]
     },
     "execution_count": 87,
     "metadata": {},
     "output_type": "execute_result"
    }
   ],
   "source": [
    "c3 = np.divide(-3 -2/5, 1 +1/5)\n",
    "Fraction(c3).limit_denominator()"
   ]
  },
  {
   "cell_type": "code",
   "execution_count": 90,
   "id": "first-visiting",
   "metadata": {},
   "outputs": [
    {
     "data": {
      "text/plain": [
       "(Fraction(125, 21), 5.952380952380953)"
      ]
     },
     "execution_count": 90,
     "metadata": {},
     "output_type": "execute_result"
    }
   ],
   "source": [
    "c4 = np.divide(-16 -2/3, -2 -4/5)\n",
    "Fraction(c4).limit_denominator(), c4"
   ]
  },
  {
   "cell_type": "markdown",
   "id": "angry-print",
   "metadata": {},
   "source": [
    "Zadanie 11.7"
   ]
  },
  {
   "cell_type": "code",
   "execution_count": 441,
   "id": "reflected-homework",
   "metadata": {},
   "outputs": [
    {
     "name": "stdout",
     "output_type": "stream",
     "text": [
      "[[ -3.     6.    -1.71   0.83  -3.83  -5.25]\n",
      " [ -4.    -5.     4.29  -0.67  -0.25 -11.02]\n",
      " [ -7.     1.     2.57   0.17  -4.08 -16.27]\n",
      " [  1.    11.    -6.     1.5   -3.58   5.78]\n",
      " [ 12.   -30.    -7.35  -0.56   0.96  57.88]\n",
      " [  0.75  -1.2   -0.4   -1.25  15.33   0.48]]\n"
     ]
    }
   ],
   "source": [
    "\n",
    "a = np.array([-3, None, -1 -5/7, None, -3 -5/6, -5.25])\n",
    "b = np.array([-4, -5, None, -2/3, None, None])\n",
    "\n",
    "a_plus_b = np.array([None, None, None, 1/6, None, None])\n",
    "a_minus_b = np.array([None, None, None, None, 3 + 7/12, None])\n",
    "a_x_b = np.array([None, -30, None, None, None, None])\n",
    "a_podzielić_b = np.array([None, None, -2 -1/2, None, None, 2.1])\n",
    "\n",
    "\n",
    "def find_calculate():\n",
    "    for i in range(6):\n",
    "        if None in (a[i], b[i]):\n",
    "            if (plus := a_plus_b[i]) or (minus := a_minus_b[i]) or (razy := a_x_b[i]) or (podziel := a_podzielić_b[i]):\n",
    "                \n",
    "                if plus:\n",
    "                    if a[i]:\n",
    "                        b[i] = a[i] - plus if b[i] is None else b[i]\n",
    "                    else:\n",
    "                        a[i] = plus - b[i] if a[i] is None else a[i] \n",
    "                        find_calculate()\n",
    "    \n",
    "                elif minus:\n",
    "                    if a[i]:\n",
    "                        b[i] = a[i] + minus if b[i] is None else b[i]\n",
    "                        find_calculate()\n",
    "                    else:\n",
    "                        a[i] = minus + b[i] if a[i] is None else a[i]\n",
    "                        find_calculate()\n",
    "            \n",
    "                elif razy:\n",
    "                    if a[i]:\n",
    "                        b[i] = a[i] / razy if b[i] is None else b[i]\n",
    "                        find_calculate()\n",
    "                    else:\n",
    "                        a[i] = razy / b[i] if a[i] is None else a[i]\n",
    "                        find_calculate()\n",
    "\n",
    "                elif podziel:\n",
    "                    if a[i]:\n",
    "                        b[i] = a[i] * podziel if b[i] is None else b[i]\n",
    "                        find_calculate()\n",
    "                    else:\n",
    "                        a[i] = podziel * b[i] if a[i] is None else a[i]\n",
    "                        find_calculate()\n",
    "                    \n",
    "        else:\n",
    "            a_plus_b[i] = np.sum([a[i], b[i]]) \n",
    "            a_minus_b[i] = np.subtract(a[i], b[i])\n",
    "            a_x_b[i] = np.multiply(a[i], b[i])\n",
    "            a_podzielić_b[i] = np.divide(a[i], b[i])\n",
    "\n",
    "        \n",
    "find_calculate()\n",
    "\n",
    "\n",
    "np.set_printoptions(precision=2, linewidth=175)\n",
    "\n",
    "\n",
    "arr = np.array([a, b, a_plus_b, a_minus_b, a_x_b, a_podzielić_b]).astype(np.float32)\n",
    "print(arr)\n",
    "\n",
    "\n"
   ]
  },
  {
   "cell_type": "code",
   "execution_count": null,
   "id": "divine-employment",
   "metadata": {},
   "outputs": [],
   "source": []
  },
  {
   "cell_type": "code",
   "execution_count": null,
   "id": "protecting-satisfaction",
   "metadata": {},
   "outputs": [],
   "source": []
  },
  {
   "cell_type": "code",
   "execution_count": null,
   "id": "regulation-basketball",
   "metadata": {},
   "outputs": [],
   "source": []
  },
  {
   "cell_type": "code",
   "execution_count": null,
   "id": "spare-infection",
   "metadata": {},
   "outputs": [],
   "source": []
  },
  {
   "cell_type": "code",
   "execution_count": null,
   "id": "northern-internet",
   "metadata": {},
   "outputs": [],
   "source": []
  },
  {
   "cell_type": "code",
   "execution_count": 164,
   "id": "surgical-detroit",
   "metadata": {},
   "outputs": [],
   "source": [
    "def suma(a, b):\n",
    "#     for n in zip(a, b):\n",
    "#         if not None in n:\n",
    "            return np.sum(a, b)\n"
   ]
  },
  {
   "cell_type": "code",
   "execution_count": 5,
   "id": "monetary-click",
   "metadata": {},
   "outputs": [],
   "source": [
    "def różnica(a, b):\n",
    "#     for n in zip(a, b):\n",
    "#         if not None in n:\n",
    "            return np.subtract(n[0], n[1])\n",
    "    "
   ]
  },
  {
   "cell_type": "code",
   "execution_count": 6,
   "id": "verbal-judgment",
   "metadata": {},
   "outputs": [],
   "source": [
    "def iloczyn(a, b):\n",
    "#     for n in zip(a, b):\n",
    "#         if not None in n:\n",
    "            return np.multiply(n[0], n[1])\n",
    "    "
   ]
  },
  {
   "cell_type": "code",
   "execution_count": 7,
   "id": "closing-shelf",
   "metadata": {},
   "outputs": [],
   "source": [
    "def iloraz(a, b):\n",
    "#     for n in zip(a, b):\n",
    "#         if not None in n:\n",
    "            return np.divide(a, b)\n",
    "    "
   ]
  },
  {
   "cell_type": "code",
   "execution_count": 284,
   "id": "looking-dancing",
   "metadata": {},
   "outputs": [
    {
     "name": "stdout",
     "output_type": "stream",
     "text": [
      "[[-3 -4 None None None None]\n",
      " [None -5 None None -30 None]\n",
      " [-1.7142857142857144 None None None None -2.5]\n",
      " [None -0.6666666666666666 0.16666666666666666 None None None]\n",
      " [-3.8333333333333335 None None 3.5833333333333335 None None]\n",
      " [-5.25 None None None None 2.1]]\n",
      "\n",
      "[-3 -4 None None None None None -5 None None -30 None -1.7142857142857144\n",
      " None None None None -2.5 None -0.6666666666666666 0.16666666666666666\n",
      " None None None -3.8333333333333335 None None 3.5833333333333335 None None\n",
      " -5.25 None None None None 2.1]\n",
      "None\n"
     ]
    }
   ],
   "source": [
    "def x(a, b, a_plus_b, a_minus_b, a_x_b, a_podzielić_b):\n",
    "    arr = np.array([a, b, a_plus_b, a_minus_b, a_x_b, a_podzielić_b]).T\n",
    "    print(arr)\n",
    "    \n",
    "    print()\n",
    "    print(np.append(np.empty_like([]), arr))\n",
    "    \n",
    "    \n",
    "    \n",
    "    \n",
    "#     print(arr.T[0][:2])\n",
    "#     print(np.sum(arr.T[0][:2]))\n",
    "    \n",
    "#     print(arr.T[1][:2])\n",
    "#     print(arr.T[1][arr.T[1] != None][1] / arr.T[1][arr.T[1] != None][0])\n",
    "    \n",
    "    \n",
    "    \n",
    "#     for i, j in enumerate(arr.T[0]):\n",
    "#         print(a_minus_b[i])\n",
    "            \n",
    "\n",
    "print(x(a, b, a_plus_b, a_minus_b, a_x_b, a_podzielić_b))"
   ]
  },
  {
   "cell_type": "code",
   "execution_count": null,
   "id": "raised-action",
   "metadata": {},
   "outputs": [],
   "source": []
  },
  {
   "cell_type": "code",
   "execution_count": null,
   "id": "visible-sitting",
   "metadata": {},
   "outputs": [],
   "source": []
  },
  {
   "cell_type": "code",
   "execution_count": null,
   "id": "tender-cloud",
   "metadata": {},
   "outputs": [],
   "source": []
  },
  {
   "cell_type": "code",
   "execution_count": null,
   "id": "sufficient-tokyo",
   "metadata": {},
   "outputs": [],
   "source": []
  },
  {
   "cell_type": "code",
   "execution_count": null,
   "id": "amazing-novel",
   "metadata": {},
   "outputs": [],
   "source": []
  },
  {
   "cell_type": "code",
   "execution_count": null,
   "id": "acquired-impression",
   "metadata": {},
   "outputs": [],
   "source": []
  },
  {
   "cell_type": "code",
   "execution_count": null,
   "id": "completed-opinion",
   "metadata": {},
   "outputs": [],
   "source": []
  },
  {
   "cell_type": "code",
   "execution_count": null,
   "id": "equivalent-camel",
   "metadata": {},
   "outputs": [],
   "source": []
  },
  {
   "cell_type": "code",
   "execution_count": null,
   "id": "occasional-input",
   "metadata": {},
   "outputs": [],
   "source": []
  },
  {
   "cell_type": "code",
   "execution_count": null,
   "id": "raising-window",
   "metadata": {},
   "outputs": [],
   "source": []
  },
  {
   "cell_type": "code",
   "execution_count": null,
   "id": "chinese-angle",
   "metadata": {},
   "outputs": [],
   "source": []
  },
  {
   "cell_type": "code",
   "execution_count": null,
   "id": "annual-luxembourg",
   "metadata": {},
   "outputs": [],
   "source": []
  },
  {
   "cell_type": "code",
   "execution_count": null,
   "id": "continent-vanilla",
   "metadata": {},
   "outputs": [],
   "source": []
  },
  {
   "cell_type": "code",
   "execution_count": null,
   "id": "rough-tuner",
   "metadata": {},
   "outputs": [],
   "source": []
  },
  {
   "cell_type": "code",
   "execution_count": null,
   "id": "finite-median",
   "metadata": {},
   "outputs": [],
   "source": []
  },
  {
   "cell_type": "code",
   "execution_count": null,
   "id": "rapid-event",
   "metadata": {},
   "outputs": [],
   "source": []
  },
  {
   "cell_type": "code",
   "execution_count": null,
   "id": "abstract-calgary",
   "metadata": {},
   "outputs": [],
   "source": []
  },
  {
   "cell_type": "code",
   "execution_count": null,
   "id": "industrial-bunch",
   "metadata": {},
   "outputs": [],
   "source": []
  },
  {
   "cell_type": "code",
   "execution_count": null,
   "id": "preceding-annual",
   "metadata": {},
   "outputs": [],
   "source": []
  },
  {
   "cell_type": "code",
   "execution_count": null,
   "id": "referenced-collapse",
   "metadata": {},
   "outputs": [],
   "source": []
  }
 ],
 "metadata": {
  "kernelspec": {
   "display_name": "Python 3",
   "language": "python",
   "name": "python3"
  },
  "language_info": {
   "codemirror_mode": {
    "name": "ipython",
    "version": 3
   },
   "file_extension": ".py",
   "mimetype": "text/x-python",
   "name": "python",
   "nbconvert_exporter": "python",
   "pygments_lexer": "ipython3",
   "version": "3.8.6"
  }
 },
 "nbformat": 4,
 "nbformat_minor": 5
}
