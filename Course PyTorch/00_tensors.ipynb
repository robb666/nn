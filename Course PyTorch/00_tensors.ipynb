{
 "cells": [
  {
   "cell_type": "code",
   "execution_count": 1,
   "metadata": {
    "colab": {
     "base_uri": "https://localhost:8080/"
    },
    "executionInfo": {
     "elapsed": 19,
     "status": "ok",
     "timestamp": 1703621433773,
     "user": {
      "displayName": "MAGRO Ubezpieczenia Sp. z o.o.",
      "userId": "05631542033267798363"
     },
     "user_tz": -60
    },
    "id": "XtwriyXBsEZ7",
    "outputId": "0947538e-ecb0-4578-f40f-a6691d213e2a"
   },
   "outputs": [
    {
     "name": "stdout",
     "output_type": "stream",
     "text": [
      "Wed Dec 27 18:13:41 2023       \n",
      "+---------------------------------------------------------------------------------------+\n",
      "| NVIDIA-SMI 535.129.03             Driver Version: 535.129.03   CUDA Version: 12.2     |\n",
      "|-----------------------------------------+----------------------+----------------------+\n",
      "| GPU  Name                 Persistence-M | Bus-Id        Disp.A | Volatile Uncorr. ECC |\n",
      "| Fan  Temp   Perf          Pwr:Usage/Cap |         Memory-Usage | GPU-Util  Compute M. |\n",
      "|                                         |                      |               MIG M. |\n",
      "|=========================================+======================+======================|\n",
      "|   0  NVIDIA GeForce GT 1030         Off | 00000000:01:00.0  On |                  N/A |\n",
      "| N/A   31C    P5              N/A /  30W |    424MiB /  2048MiB |      0%      Default |\n",
      "|                                         |                      |                  N/A |\n",
      "+-----------------------------------------+----------------------+----------------------+\n",
      "                                                                                         \n",
      "+---------------------------------------------------------------------------------------+\n",
      "| Processes:                                                                            |\n",
      "|  GPU   GI   CI        PID   Type   Process name                            GPU Memory |\n",
      "|        ID   ID                                                             Usage      |\n",
      "|=======================================================================================|\n",
      "|    0   N/A  N/A      1241      G   /usr/lib/xorg/Xorg                          156MiB |\n",
      "|    0   N/A  N/A      1472      G   /usr/bin/gnome-shell                         91MiB |\n",
      "|    0   N/A  N/A      1741      G   /usr/bin/kalendarac                           1MiB |\n",
      "|    0   N/A  N/A      2451      G   ...irefox/3216/usr/lib/firefox/firefox      158MiB |\n",
      "|    0   N/A  N/A      3394      G   /usr/bin/nautilus                            13MiB |\n",
      "+---------------------------------------------------------------------------------------+\n"
     ]
    }
   ],
   "source": [
    "!nvidia-smi"
   ]
  },
  {
   "cell_type": "code",
   "execution_count": 2,
   "metadata": {
    "colab": {
     "base_uri": "https://localhost:8080/",
     "height": 35
    },
    "executionInfo": {
     "elapsed": 11115,
     "status": "ok",
     "timestamp": 1703621451936,
     "user": {
      "displayName": "MAGRO Ubezpieczenia Sp. z o.o.",
      "userId": "05631542033267798363"
     },
     "user_tz": -60
    },
    "id": "ltEvRVvX08ik",
    "outputId": "4babdee9-2cf7-4022-ec40-5a7dc1243d01"
   },
   "outputs": [
    {
     "ename": "ModuleNotFoundError",
     "evalue": "No module named 'torch'",
     "output_type": "error",
     "traceback": [
      "\u001b[0;31m---------------------------------------------------------------------------\u001b[0m",
      "\u001b[0;31mModuleNotFoundError\u001b[0m                       Traceback (most recent call last)",
      "Cell \u001b[0;32mIn[2], line 1\u001b[0m\n\u001b[0;32m----> 1\u001b[0m \u001b[38;5;28;01mimport\u001b[39;00m \u001b[38;5;21;01mtorch\u001b[39;00m\n\u001b[1;32m      2\u001b[0m \u001b[38;5;28;01mimport\u001b[39;00m \u001b[38;5;21;01mpandas\u001b[39;00m \u001b[38;5;28;01mas\u001b[39;00m \u001b[38;5;21;01mpd\u001b[39;00m\n\u001b[1;32m      3\u001b[0m \u001b[38;5;28;01mimport\u001b[39;00m \u001b[38;5;21;01mnumpy\u001b[39;00m \u001b[38;5;28;01mas\u001b[39;00m \u001b[38;5;21;01mnp\u001b[39;00m\n",
      "\u001b[0;31mModuleNotFoundError\u001b[0m: No module named 'torch'"
     ]
    }
   ],
   "source": [
    "import torch\n",
    "import pandas as pd\n",
    "import numpy as np\n",
    "import matplotlib.pyplot as plt\n",
    "\n",
    "torch.__version__"
   ]
  },
  {
   "cell_type": "code",
   "execution_count": 3,
   "metadata": {
    "colab": {
     "base_uri": "https://localhost:8080/"
    },
    "executionInfo": {
     "elapsed": 289,
     "status": "ok",
     "timestamp": 1703621461994,
     "user": {
      "displayName": "MAGRO Ubezpieczenia Sp. z o.o.",
      "userId": "05631542033267798363"
     },
     "user_tz": -60
    },
    "id": "g5Uz_sgd2CAJ",
    "outputId": "0e810a1d-0d39-47b8-ccae-c5685d3a0295"
   },
   "outputs": [
    {
     "data": {
      "text/plain": [
       "7"
      ]
     },
     "execution_count": 3,
     "metadata": {},
     "output_type": "execute_result"
    }
   ],
   "source": [
    "# scalar\n",
    "scalar = torch.tensor(7)\n",
    "scalar.item()"
   ]
  },
  {
   "cell_type": "code",
   "execution_count": 5,
   "metadata": {
    "colab": {
     "base_uri": "https://localhost:8080/"
    },
    "executionInfo": {
     "elapsed": 287,
     "status": "ok",
     "timestamp": 1703621513418,
     "user": {
      "displayName": "MAGRO Ubezpieczenia Sp. z o.o.",
      "userId": "05631542033267798363"
     },
     "user_tz": -60
    },
    "id": "Cdjkl1vP2CJw",
    "outputId": "8a5a5fd2-68bb-43ef-91be-68ae822f4cda"
   },
   "outputs": [
    {
     "data": {
      "text/plain": [
       "0"
      ]
     },
     "execution_count": 5,
     "metadata": {},
     "output_type": "execute_result"
    }
   ],
   "source": [
    "scalar.ndim"
   ]
  },
  {
   "cell_type": "code",
   "execution_count": 6,
   "metadata": {
    "colab": {
     "base_uri": "https://localhost:8080/"
    },
    "executionInfo": {
     "elapsed": 9,
     "status": "ok",
     "timestamp": 1703621516060,
     "user": {
      "displayName": "MAGRO Ubezpieczenia Sp. z o.o.",
      "userId": "05631542033267798363"
     },
     "user_tz": -60
    },
    "id": "hl8CxUQ22CNf",
    "outputId": "60dc39ac-76b7-40c7-d44d-d36343297199"
   },
   "outputs": [
    {
     "data": {
      "text/plain": [
       "1"
      ]
     },
     "execution_count": 6,
     "metadata": {},
     "output_type": "execute_result"
    }
   ],
   "source": [
    "# Vector\n",
    "vector = torch.tensor([7, 5])\n",
    "vector.ndim"
   ]
  },
  {
   "cell_type": "code",
   "execution_count": 7,
   "metadata": {
    "colab": {
     "base_uri": "https://localhost:8080/"
    },
    "executionInfo": {
     "elapsed": 258,
     "status": "ok",
     "timestamp": 1703621544046,
     "user": {
      "displayName": "MAGRO Ubezpieczenia Sp. z o.o.",
      "userId": "05631542033267798363"
     },
     "user_tz": -60
    },
    "id": "n7cPzFIi2CQ2",
    "outputId": "abeeb185-f746-4fcc-f2f0-751e9144a056"
   },
   "outputs": [
    {
     "data": {
      "text/plain": [
       "torch.Size([2])"
      ]
     },
     "execution_count": 7,
     "metadata": {},
     "output_type": "execute_result"
    }
   ],
   "source": [
    "vector.shape"
   ]
  },
  {
   "cell_type": "code",
   "execution_count": 8,
   "metadata": {
    "colab": {
     "base_uri": "https://localhost:8080/"
    },
    "executionInfo": {
     "elapsed": 253,
     "status": "ok",
     "timestamp": 1703621564207,
     "user": {
      "displayName": "MAGRO Ubezpieczenia Sp. z o.o.",
      "userId": "05631542033267798363"
     },
     "user_tz": -60
    },
    "id": "wIlH7khd9cf7",
    "outputId": "b2a126c9-123a-4926-db57-6508f7747f08"
   },
   "outputs": [
    {
     "data": {
      "text/plain": [
       "tensor(5)"
      ]
     },
     "execution_count": 8,
     "metadata": {},
     "output_type": "execute_result"
    }
   ],
   "source": [
    "vector[1]"
   ]
  },
  {
   "cell_type": "code",
   "execution_count": 12,
   "metadata": {
    "colab": {
     "base_uri": "https://localhost:8080/"
    },
    "executionInfo": {
     "elapsed": 318,
     "status": "ok",
     "timestamp": 1703627868154,
     "user": {
      "displayName": "MAGRO Ubezpieczenia Sp. z o.o.",
      "userId": "05631542033267798363"
     },
     "user_tz": -60
    },
    "id": "nMnNRq_M2CTs",
    "outputId": "11f40918-7fd6-4e03-e4a8-5f78606bd9d6"
   },
   "outputs": [
    {
     "data": {
      "text/plain": [
       "tensor([[ 7,  8],\n",
       "        [ 9, 10]])"
      ]
     },
     "execution_count": 12,
     "metadata": {},
     "output_type": "execute_result"
    }
   ],
   "source": [
    "# MATRIX\n",
    "\n",
    "MATRIX = torch.tensor([[7, 8],\n",
    "                       [9, 10]])\n",
    "MATRIX"
   ]
  },
  {
   "cell_type": "code",
   "execution_count": 13,
   "metadata": {
    "colab": {
     "base_uri": "https://localhost:8080/"
    },
    "executionInfo": {
     "elapsed": 237,
     "status": "ok",
     "timestamp": 1703627872616,
     "user": {
      "displayName": "MAGRO Ubezpieczenia Sp. z o.o.",
      "userId": "05631542033267798363"
     },
     "user_tz": -60
    },
    "id": "YMU9qKIB2CXC",
    "outputId": "347c038f-a461-4adc-8582-93854679cd6b"
   },
   "outputs": [
    {
     "data": {
      "text/plain": [
       "2"
      ]
     },
     "execution_count": 13,
     "metadata": {},
     "output_type": "execute_result"
    }
   ],
   "source": [
    "MATRIX.ndim"
   ]
  },
  {
   "cell_type": "code",
   "execution_count": 14,
   "metadata": {
    "colab": {
     "base_uri": "https://localhost:8080/"
    },
    "executionInfo": {
     "elapsed": 240,
     "status": "ok",
     "timestamp": 1703627877487,
     "user": {
      "displayName": "MAGRO Ubezpieczenia Sp. z o.o.",
      "userId": "05631542033267798363"
     },
     "user_tz": -60
    },
    "id": "z8BaZPvo2CZt",
    "outputId": "ac1661dc-ab54-4c55-c93a-6000f434fbc0"
   },
   "outputs": [
    {
     "data": {
      "text/plain": [
       "tensor([ 9, 10])"
      ]
     },
     "execution_count": 14,
     "metadata": {},
     "output_type": "execute_result"
    }
   ],
   "source": [
    "MATRIX[1]"
   ]
  },
  {
   "cell_type": "markdown",
   "metadata": {
    "id": "4p3kBqqJ_wF7"
   },
   "source": []
  },
  {
   "cell_type": "code",
   "execution_count": 15,
   "metadata": {
    "colab": {
     "base_uri": "https://localhost:8080/"
    },
    "executionInfo": {
     "elapsed": 279,
     "status": "ok",
     "timestamp": 1703627883078,
     "user": {
      "displayName": "MAGRO Ubezpieczenia Sp. z o.o.",
      "userId": "05631542033267798363"
     },
     "user_tz": -60
    },
    "id": "Kx4jqzBp08sq",
    "outputId": "767eda1f-b6cf-4377-f2be-59cb8970e0e5"
   },
   "outputs": [
    {
     "data": {
      "text/plain": [
       "torch.Size([2, 2])"
      ]
     },
     "execution_count": 15,
     "metadata": {},
     "output_type": "execute_result"
    }
   ],
   "source": [
    "MATRIX.shape"
   ]
  },
  {
   "cell_type": "code",
   "execution_count": 16,
   "metadata": {
    "colab": {
     "base_uri": "https://localhost:8080/"
    },
    "executionInfo": {
     "elapsed": 279,
     "status": "ok",
     "timestamp": 1703627890467,
     "user": {
      "displayName": "MAGRO Ubezpieczenia Sp. z o.o.",
      "userId": "05631542033267798363"
     },
     "user_tz": -60
    },
    "id": "ocnas_Ja08zE",
    "outputId": "ebb8f306-4623-41b2-f90c-88e66bf21e66"
   },
   "outputs": [
    {
     "data": {
      "text/plain": [
       "3"
      ]
     },
     "execution_count": 16,
     "metadata": {},
     "output_type": "execute_result"
    }
   ],
   "source": [
    "# TENSOR\n",
    "\n",
    "TENSOR = torch.tensor([[[1, 2, 3],\n",
    "                        [4, 5, 6],\n",
    "                        [7, 8, 9]]])\n",
    "\n",
    "TENSOR.ndim"
   ]
  },
  {
   "cell_type": "code",
   "execution_count": 17,
   "metadata": {
    "colab": {
     "base_uri": "https://localhost:8080/"
    },
    "executionInfo": {
     "elapsed": 357,
     "status": "ok",
     "timestamp": 1703628078130,
     "user": {
      "displayName": "MAGRO Ubezpieczenia Sp. z o.o.",
      "userId": "05631542033267798363"
     },
     "user_tz": -60
    },
    "id": "y9Sqm3A_-QDQ",
    "outputId": "b31007b4-4e5f-44f4-fbef-a629cec34dce"
   },
   "outputs": [
    {
     "data": {
      "text/plain": [
       "torch.Size([1, 3, 3])"
      ]
     },
     "execution_count": 17,
     "metadata": {},
     "output_type": "execute_result"
    }
   ],
   "source": [
    "TENSOR.shape"
   ]
  },
  {
   "cell_type": "code",
   "execution_count": 2,
   "metadata": {
    "colab": {
     "base_uri": "https://localhost:8080/"
    },
    "executionInfo": {
     "elapsed": 250,
     "status": "ok",
     "timestamp": 1703628138736,
     "user": {
      "displayName": "MAGRO Ubezpieczenia Sp. z o.o.",
      "userId": "05631542033267798363"
     },
     "user_tz": -60
    },
    "id": "4jTfiEsU-eLw",
    "outputId": "6bc40ce8-82da-4940-b3e8-ef64101bab73"
   },
   "outputs": [
    {
     "ename": "NameError",
     "evalue": "name 'TENSOR' is not defined",
     "output_type": "error",
     "traceback": [
      "\u001b[0;31m---------------------------------------------------------------------------\u001b[0m",
      "\u001b[0;31mNameError\u001b[0m                                 Traceback (most recent call last)",
      "Cell \u001b[0;32mIn[2], line 1\u001b[0m\n\u001b[0;32m----> 1\u001b[0m \u001b[43mTENSOR\u001b[49m[\u001b[38;5;241m0\u001b[39m][\u001b[38;5;241m1\u001b[39m][\u001b[38;5;241m2\u001b[39m]\u001b[38;5;241m.\u001b[39mitem()\n",
      "\u001b[0;31mNameError\u001b[0m: name 'TENSOR' is not defined"
     ]
    }
   ],
   "source": [
    "TENSOR[0][1][2].item()"
   ]
  },
  {
   "cell_type": "code",
   "execution_count": 24,
   "metadata": {
    "executionInfo": {
     "elapsed": 238,
     "status": "ok",
     "timestamp": 1703628154392,
     "user": {
      "displayName": "MAGRO Ubezpieczenia Sp. z o.o.",
      "userId": "05631542033267798363"
     },
     "user_tz": -60
    },
    "id": "3Tj_tsID-eZG"
   },
   "outputs": [],
   "source": [
    " ### Random tensors"
   ]
  },
  {
   "cell_type": "code",
   "execution_count": 25,
   "metadata": {
    "colab": {
     "base_uri": "https://localhost:8080/"
    },
    "executionInfo": {
     "elapsed": 272,
     "status": "ok",
     "timestamp": 1703628159174,
     "user": {
      "displayName": "MAGRO Ubezpieczenia Sp. z o.o.",
      "userId": "05631542033267798363"
     },
     "user_tz": -60
    },
    "id": "ybDG9cr_-eds",
    "outputId": "1fc9ed0c-7a14-4fb9-9d80-5604acea8c09"
   },
   "outputs": [
    {
     "data": {
      "text/plain": [
       "tensor([[0.9538, 0.0049, 0.1916, 0.7419],\n",
       "        [0.1122, 0.4339, 0.7440, 0.4278],\n",
       "        [0.6113, 0.3101, 0.1935, 0.6374]])"
      ]
     },
     "execution_count": 25,
     "metadata": {},
     "output_type": "execute_result"
    }
   ],
   "source": [
    "random_tensor = torch.rand(3, 4)\n",
    "random_tensor"
   ]
  },
  {
   "cell_type": "code",
   "execution_count": 27,
   "metadata": {
    "colab": {
     "base_uri": "https://localhost:8080/"
    },
    "executionInfo": {
     "elapsed": 275,
     "status": "ok",
     "timestamp": 1703630024195,
     "user": {
      "displayName": "MAGRO Ubezpieczenia Sp. z o.o.",
      "userId": "05631542033267798363"
     },
     "user_tz": -60
    },
    "id": "mABQ90oN-ehW",
    "outputId": "3df8e5ef-e2ae-42cc-efbf-bbbc6ae422e7"
   },
   "outputs": [
    {
     "name": "stdout",
     "output_type": "stream",
     "text": [
      "torch.Size([224, 224, 3]) 3\n"
     ]
    }
   ],
   "source": [
    "r_i_s_tensor = torch.rand(size=(224, 224, 3))\n",
    "print(r_i_s_tensor.shape, r_i_s_tensor.ndim )"
   ]
  },
  {
   "cell_type": "code",
   "execution_count": null,
   "metadata": {
    "colab": {
     "base_uri": "https://localhost:8080/"
    },
    "executionInfo": {
     "elapsed": 67,
     "status": "ok",
     "timestamp": 1681245397329,
     "user": {
      "displayName": "MAGRO Ubezpieczenia Sp. z o.o.",
      "userId": "05631542033267798363"
     },
     "user_tz": -120
    },
    "id": "iLGjRB_T-elU",
    "outputId": "3ba8e4f5-cb64-42df-ffbd-72f21c6dc221"
   },
   "outputs": [
    {
     "data": {
      "text/plain": [
       "tensor([[0., 0., 0., 0.],\n",
       "        [0., 0., 0., 0.],\n",
       "        [0., 0., 0., 0.]])"
      ]
     },
     "execution_count": 18,
     "metadata": {},
     "output_type": "execute_result"
    }
   ],
   "source": [
    "# Zeros tensor\n",
    "\n",
    "zeros = torch.zeros(size=(3, 4))\n",
    "random_tensor *= zeros\n",
    "random_tensor"
   ]
  },
  {
   "cell_type": "code",
   "execution_count": null,
   "metadata": {
    "colab": {
     "base_uri": "https://localhost:8080/"
    },
    "executionInfo": {
     "elapsed": 62,
     "status": "ok",
     "timestamp": 1681245397330,
     "user": {
      "displayName": "MAGRO Ubezpieczenia Sp. z o.o.",
      "userId": "05631542033267798363"
     },
     "user_tz": -120
    },
    "id": "RBqGlkc4-epJ",
    "outputId": "2037d634-a6c3-4b2c-9a57-13c50f149863"
   },
   "outputs": [
    {
     "data": {
      "text/plain": [
       "tensor([[1., 1., 1., 1.],\n",
       "        [1., 1., 1., 1.],\n",
       "        [1., 1., 1., 1.]])"
      ]
     },
     "execution_count": 19,
     "metadata": {},
     "output_type": "execute_result"
    }
   ],
   "source": [
    "ones = torch.ones(3, 4)\n",
    "ones"
   ]
  },
  {
   "cell_type": "code",
   "execution_count": null,
   "metadata": {
    "colab": {
     "base_uri": "https://localhost:8080/"
    },
    "executionInfo": {
     "elapsed": 59,
     "status": "ok",
     "timestamp": 1681245397331,
     "user": {
      "displayName": "MAGRO Ubezpieczenia Sp. z o.o.",
      "userId": "05631542033267798363"
     },
     "user_tz": -120
    },
    "id": "J3Ayk2OsEvNZ",
    "outputId": "b964b1b4-0920-4492-b41e-da4074f52696"
   },
   "outputs": [
    {
     "data": {
      "text/plain": [
       "torch.float32"
      ]
     },
     "execution_count": 20,
     "metadata": {},
     "output_type": "execute_result"
    }
   ],
   "source": [
    "zeros.dtype"
   ]
  },
  {
   "cell_type": "code",
   "execution_count": null,
   "metadata": {
    "id": "4aC2GbpfEvRN"
   },
   "outputs": [],
   "source": [
    "# Creating a range of t\n",
    "\n",
    "ott = torch.arange(0, 10)"
   ]
  },
  {
   "cell_type": "code",
   "execution_count": null,
   "metadata": {
    "colab": {
     "base_uri": "https://localhost:8080/"
    },
    "executionInfo": {
     "elapsed": 53,
     "status": "ok",
     "timestamp": 1681245397333,
     "user": {
      "displayName": "MAGRO Ubezpieczenia Sp. z o.o.",
      "userId": "05631542033267798363"
     },
     "user_tz": -120
    },
    "id": "AP1wbnNcEvVY",
    "outputId": "ab16628f-7521-45be-9729-5c31db31890c"
   },
   "outputs": [
    {
     "data": {
      "text/plain": [
       "tensor([0, 0, 0, 0, 0, 0, 0, 0, 0, 0])"
      ]
     },
     "execution_count": 22,
     "metadata": {},
     "output_type": "execute_result"
    }
   ],
   "source": [
    "ten_z = torch.zeros_like(ott)\n",
    "ten_z"
   ]
  },
  {
   "cell_type": "code",
   "execution_count": null,
   "metadata": {
    "colab": {
     "base_uri": "https://localhost:8080/"
    },
    "executionInfo": {
     "elapsed": 49,
     "status": "ok",
     "timestamp": 1681245397334,
     "user": {
      "displayName": "MAGRO Ubezpieczenia Sp. z o.o.",
      "userId": "05631542033267798363"
     },
     "user_tz": -120
    },
    "id": "u6GWldWiEvY0",
    "outputId": "8d8ffccb-3a86-444e-c9a4-a06d146fdd50"
   },
   "outputs": [
    {
     "data": {
      "text/plain": [
       "tensor([3., 6., 9.], dtype=torch.float64)"
      ]
     },
     "execution_count": 23,
     "metadata": {},
     "output_type": "execute_result"
    }
   ],
   "source": [
    "# Float 32 tensor\n",
    "\n",
    "float_32_tensor = torch.tensor([3.0, 6.0, 9.0],\n",
    "                               dtype=torch.float64,\n",
    "                               device=None,\n",
    "                               requires_grad=False)\n",
    "float_32_tensor"
   ]
  },
  {
   "cell_type": "code",
   "execution_count": null,
   "metadata": {
    "colab": {
     "base_uri": "https://localhost:8080/"
    },
    "executionInfo": {
     "elapsed": 43,
     "status": "ok",
     "timestamp": 1681245397334,
     "user": {
      "displayName": "MAGRO Ubezpieczenia Sp. z o.o.",
      "userId": "05631542033267798363"
     },
     "user_tz": -120
    },
    "id": "xOUJ_w84EvcW",
    "outputId": "e1400f44-3dec-44ef-bc40-c81b6d7da1f2"
   },
   "outputs": [
    {
     "data": {
      "text/plain": [
       "torch.float64"
      ]
     },
     "execution_count": 24,
     "metadata": {},
     "output_type": "execute_result"
    }
   ],
   "source": [
    "float_32_tensor.dtype"
   ]
  },
  {
   "cell_type": "code",
   "execution_count": null,
   "metadata": {
    "colab": {
     "base_uri": "https://localhost:8080/"
    },
    "executionInfo": {
     "elapsed": 510,
     "status": "ok",
     "timestamp": 1681245397805,
     "user": {
      "displayName": "MAGRO Ubezpieczenia Sp. z o.o.",
      "userId": "05631542033267798363"
     },
     "user_tz": -120
    },
    "id": "HTu0EpNYLDMZ",
    "outputId": "f6333212-53dc-4330-eded-d40985c63a3b"
   },
   "outputs": [
    {
     "data": {
      "text/plain": [
       "tensor([3., 6., 9.], dtype=torch.float16)"
      ]
     },
     "execution_count": 25,
     "metadata": {},
     "output_type": "execute_result"
    }
   ],
   "source": [
    "float_16_t = float_32_tensor.type(torch.float16)\n",
    "float_16_t"
   ]
  },
  {
   "cell_type": "code",
   "execution_count": null,
   "metadata": {
    "colab": {
     "base_uri": "https://localhost:8080/"
    },
    "executionInfo": {
     "elapsed": 130,
     "status": "ok",
     "timestamp": 1681245397806,
     "user": {
      "displayName": "MAGRO Ubezpieczenia Sp. z o.o.",
      "userId": "05631542033267798363"
     },
     "user_tz": -120
    },
    "id": "sPxsfCs-LDTQ",
    "outputId": "eed77b03-4c97-4771-ab13-06a2ac606d2f"
   },
   "outputs": [
    {
     "data": {
      "text/plain": [
       "torch.float64"
      ]
     },
     "execution_count": 26,
     "metadata": {},
     "output_type": "execute_result"
    }
   ],
   "source": [
    "(float_32_tensor * float_16_t).dtype"
   ]
  },
  {
   "cell_type": "code",
   "execution_count": null,
   "metadata": {
    "colab": {
     "base_uri": "https://localhost:8080/"
    },
    "executionInfo": {
     "elapsed": 125,
     "status": "ok",
     "timestamp": 1681245397807,
     "user": {
      "displayName": "MAGRO Ubezpieczenia Sp. z o.o.",
      "userId": "05631542033267798363"
     },
     "user_tz": -120
    },
    "id": "P4y6hfyGU14H",
    "outputId": "aed79bf7-e295-4b6e-81d4-d541c54f6e5d"
   },
   "outputs": [
    {
     "data": {
      "text/plain": [
       "tensor([11, 12, 13])"
      ]
     },
     "execution_count": 27,
     "metadata": {},
     "output_type": "execute_result"
    }
   ],
   "source": [
    "# Tensor operations\n",
    "\n",
    "tensor = torch.tensor([1, 2, 3])\n",
    "tensor + 10"
   ]
  },
  {
   "cell_type": "code",
   "execution_count": null,
   "metadata": {
    "colab": {
     "base_uri": "https://localhost:8080/"
    },
    "executionInfo": {
     "elapsed": 121,
     "status": "ok",
     "timestamp": 1681245397808,
     "user": {
      "displayName": "MAGRO Ubezpieczenia Sp. z o.o.",
      "userId": "05631542033267798363"
     },
     "user_tz": -120
    },
    "id": "RGynwJRGLDWg",
    "outputId": "36cf5628-6061-4684-a7ce-0db0a3f1404c"
   },
   "outputs": [
    {
     "data": {
      "text/plain": [
       "tensor([10, 20, 30])"
      ]
     },
     "execution_count": 28,
     "metadata": {},
     "output_type": "execute_result"
    }
   ],
   "source": [
    "tensor * 10"
   ]
  },
  {
   "cell_type": "code",
   "execution_count": null,
   "metadata": {
    "colab": {
     "base_uri": "https://localhost:8080/"
    },
    "executionInfo": {
     "elapsed": 114,
     "status": "ok",
     "timestamp": 1681245397809,
     "user": {
      "displayName": "MAGRO Ubezpieczenia Sp. z o.o.",
      "userId": "05631542033267798363"
     },
     "user_tz": -120
    },
    "id": "R73KFGzxLDaL",
    "outputId": "d3e5228b-e6ce-437e-a295-29b64f3edf00"
   },
   "outputs": [
    {
     "data": {
      "text/plain": [
       "tensor([-9, -8, -7])"
      ]
     },
     "execution_count": 29,
     "metadata": {},
     "output_type": "execute_result"
    }
   ],
   "source": [
    "# subtract\n",
    "\n",
    "tensor - 10"
   ]
  },
  {
   "cell_type": "code",
   "execution_count": null,
   "metadata": {
    "colab": {
     "base_uri": "https://localhost:8080/"
    },
    "executionInfo": {
     "elapsed": 108,
     "status": "ok",
     "timestamp": 1681245397810,
     "user": {
      "displayName": "MAGRO Ubezpieczenia Sp. z o.o.",
      "userId": "05631542033267798363"
     },
     "user_tz": -120
    },
    "id": "rqNd4xpTLDda",
    "outputId": "2ba10182-94d2-44fc-8d5d-410dd5506f8c"
   },
   "outputs": [
    {
     "data": {
      "text/plain": [
       "tensor([-9, -8, -7])"
      ]
     },
     "execution_count": 30,
     "metadata": {},
     "output_type": "execute_result"
    }
   ],
   "source": [
    "tensor.sub(10)"
   ]
  },
  {
   "cell_type": "code",
   "execution_count": null,
   "metadata": {
    "colab": {
     "base_uri": "https://localhost:8080/"
    },
    "executionInfo": {
     "elapsed": 104,
     "status": "ok",
     "timestamp": 1681245397812,
     "user": {
      "displayName": "MAGRO Ubezpieczenia Sp. z o.o.",
      "userId": "05631542033267798363"
     },
     "user_tz": -120
    },
    "id": "vdDD0gCfZBV8",
    "outputId": "5b5a18ea-8d75-4534-c2e4-7028fff63f03"
   },
   "outputs": [
    {
     "data": {
      "text/plain": [
       "tensor([101, 102, 103])"
      ]
     },
     "execution_count": 31,
     "metadata": {},
     "output_type": "execute_result"
    }
   ],
   "source": [
    "torch.add(tensor, 100)"
   ]
  },
  {
   "cell_type": "code",
   "execution_count": null,
   "metadata": {
    "id": "9YprDo3RZcX9"
   },
   "outputs": [],
   "source": [
    "# Matrix mul"
   ]
  },
  {
   "cell_type": "code",
   "execution_count": null,
   "metadata": {
    "colab": {
     "base_uri": "https://localhost:8080/"
    },
    "executionInfo": {
     "elapsed": 100,
     "status": "ok",
     "timestamp": 1681245397814,
     "user": {
      "displayName": "MAGRO Ubezpieczenia Sp. z o.o.",
      "userId": "05631542033267798363"
     },
     "user_tz": -120
    },
    "id": "Wj6MhTGWZe2L",
    "outputId": "3b2679c9-f717-47ed-d44a-26cc4924a385"
   },
   "outputs": [
    {
     "data": {
      "text/plain": [
       "tensor([1, 2, 3])"
      ]
     },
     "execution_count": 33,
     "metadata": {},
     "output_type": "execute_result"
    }
   ],
   "source": [
    "tensor"
   ]
  },
  {
   "cell_type": "code",
   "execution_count": null,
   "metadata": {
    "colab": {
     "base_uri": "https://localhost:8080/"
    },
    "executionInfo": {
     "elapsed": 92,
     "status": "ok",
     "timestamp": 1681245397814,
     "user": {
      "displayName": "MAGRO Ubezpieczenia Sp. z o.o.",
      "userId": "05631542033267798363"
     },
     "user_tz": -120
    },
    "id": "MC4OkEInZe5p",
    "outputId": "a7d47e2f-54e5-46ca-90b2-42c5af4811d0"
   },
   "outputs": [
    {
     "data": {
      "text/plain": [
       "tensor([1, 4, 9])"
      ]
     },
     "execution_count": 34,
     "metadata": {},
     "output_type": "execute_result"
    }
   ],
   "source": [
    "tensor * tensor"
   ]
  },
  {
   "cell_type": "code",
   "execution_count": null,
   "metadata": {
    "colab": {
     "base_uri": "https://localhost:8080/"
    },
    "executionInfo": {
     "elapsed": 86,
     "status": "ok",
     "timestamp": 1681245397815,
     "user": {
      "displayName": "MAGRO Ubezpieczenia Sp. z o.o.",
      "userId": "05631542033267798363"
     },
     "user_tz": -120
    },
    "id": "bmpY0CllZe91",
    "outputId": "26023b51-9fb7-4da0-fb28-99ccb8f120c5"
   },
   "outputs": [
    {
     "data": {
      "text/plain": [
       "tensor(14)"
      ]
     },
     "execution_count": 35,
     "metadata": {},
     "output_type": "execute_result"
    }
   ],
   "source": [
    "torch.matmul(tensor, tensor)"
   ]
  },
  {
   "cell_type": "code",
   "execution_count": null,
   "metadata": {
    "colab": {
     "base_uri": "https://localhost:8080/"
    },
    "executionInfo": {
     "elapsed": 79,
     "status": "ok",
     "timestamp": 1681245397816,
     "user": {
      "displayName": "MAGRO Ubezpieczenia Sp. z o.o.",
      "userId": "05631542033267798363"
     },
     "user_tz": -120
    },
    "id": "Sf-e21ZrZfBQ",
    "outputId": "00b720f5-1be0-4306-8636-8d75c1d168c5"
   },
   "outputs": [
    {
     "name": "stdout",
     "output_type": "stream",
     "text": [
      "tensor(9)\n",
      "CPU times: user 597 µs, sys: 0 ns, total: 597 µs\n",
      "Wall time: 1.49 ms\n"
     ]
    }
   ],
   "source": [
    "%%time\n",
    "value = 0\n",
    "for i in range(len(tensor)):\n",
    "    value = tensor[i] * tensor[i]\n",
    "print(value)"
   ]
  },
  {
   "cell_type": "code",
   "execution_count": null,
   "metadata": {
    "colab": {
     "base_uri": "https://localhost:8080/"
    },
    "executionInfo": {
     "elapsed": 70,
     "status": "ok",
     "timestamp": 1681245397817,
     "user": {
      "displayName": "MAGRO Ubezpieczenia Sp. z o.o.",
      "userId": "05631542033267798363"
     },
     "user_tz": -120
    },
    "id": "CYp8tPQ9ZfMy",
    "outputId": "d0170f52-c611-4123-a4c0-8c561e80ffc8"
   },
   "outputs": [
    {
     "name": "stdout",
     "output_type": "stream",
     "text": [
      "CPU times: user 62 µs, sys: 11 µs, total: 73 µs\n",
      "Wall time: 76.5 µs\n"
     ]
    },
    {
     "data": {
      "text/plain": [
       "tensor(14)"
      ]
     },
     "execution_count": 37,
     "metadata": {},
     "output_type": "execute_result"
    }
   ],
   "source": [
    "%%time\n",
    "torch.matmul(tensor, tensor)"
   ]
  },
  {
   "cell_type": "code",
   "execution_count": null,
   "metadata": {
    "colab": {
     "base_uri": "https://localhost:8080/"
    },
    "executionInfo": {
     "elapsed": 62,
     "status": "ok",
     "timestamp": 1681245397818,
     "user": {
      "displayName": "MAGRO Ubezpieczenia Sp. z o.o.",
      "userId": "05631542033267798363"
     },
     "user_tz": -120
    },
    "id": "L5RFqztJZfQZ",
    "outputId": "5c262a67-d137-4f3b-cd29-24be37d79bba"
   },
   "outputs": [
    {
     "data": {
      "text/plain": [
       "tensor([1., 2., 3., 4., 5., 6., 7., 8., 9.])"
      ]
     },
     "execution_count": 38,
     "metadata": {},
     "output_type": "execute_result"
    }
   ],
   "source": [
    "# Reshaping, viewing and stacking\n",
    "\n",
    "x = torch.arange(1., 10.)\n",
    "x"
   ]
  },
  {
   "cell_type": "code",
   "execution_count": null,
   "metadata": {
    "colab": {
     "base_uri": "https://localhost:8080/"
    },
    "executionInfo": {
     "elapsed": 57,
     "status": "ok",
     "timestamp": 1681245397818,
     "user": {
      "displayName": "MAGRO Ubezpieczenia Sp. z o.o.",
      "userId": "05631542033267798363"
     },
     "user_tz": -120
    },
    "id": "uJnjQw4WZfUg",
    "outputId": "69b7d8bc-2a3a-4928-f257-ef95bff4d4b1"
   },
   "outputs": [
    {
     "data": {
      "text/plain": [
       "torch.Size([9])"
      ]
     },
     "execution_count": 39,
     "metadata": {},
     "output_type": "execute_result"
    }
   ],
   "source": [
    "x.shape"
   ]
  },
  {
   "cell_type": "code",
   "execution_count": null,
   "metadata": {
    "colab": {
     "base_uri": "https://localhost:8080/"
    },
    "executionInfo": {
     "elapsed": 402,
     "status": "ok",
     "timestamp": 1681247238859,
     "user": {
      "displayName": "MAGRO Ubezpieczenia Sp. z o.o.",
      "userId": "05631542033267798363"
     },
     "user_tz": -120
    },
    "id": "yDRMMd6fZfYg",
    "outputId": "549f2114-60b7-4537-f28d-9f00c2658c86"
   },
   "outputs": [
    {
     "data": {
      "text/plain": [
       "tensor([[1, 2, 3, 4, 5, 6, 7, 8, 9]])"
      ]
     },
     "execution_count": 63,
     "metadata": {},
     "output_type": "execute_result"
    }
   ],
   "source": [
    "# adding dimensions\n",
    "x_reshaped = x.reshape(1, 9)\n",
    "x_reshaped"
   ]
  },
  {
   "cell_type": "code",
   "execution_count": null,
   "metadata": {
    "colab": {
     "base_uri": "https://localhost:8080/"
    },
    "executionInfo": {
     "elapsed": 638,
     "status": "ok",
     "timestamp": 1681247241338,
     "user": {
      "displayName": "MAGRO Ubezpieczenia Sp. z o.o.",
      "userId": "05631542033267798363"
     },
     "user_tz": -120
    },
    "id": "nyfaTFRGhA9W",
    "outputId": "0fc7d20c-f774-445b-d76c-459d43144a94"
   },
   "outputs": [
    {
     "data": {
      "text/plain": [
       "torch.Size([1, 9])"
      ]
     },
     "execution_count": 64,
     "metadata": {},
     "output_type": "execute_result"
    }
   ],
   "source": [
    "x_reshaped.shape"
   ]
  },
  {
   "cell_type": "code",
   "execution_count": null,
   "metadata": {
    "colab": {
     "base_uri": "https://localhost:8080/"
    },
    "executionInfo": {
     "elapsed": 45,
     "status": "ok",
     "timestamp": 1681245397819,
     "user": {
      "displayName": "MAGRO Ubezpieczenia Sp. z o.o.",
      "userId": "05631542033267798363"
     },
     "user_tz": -120
    },
    "id": "txX49qCihGgZ",
    "outputId": "e34b35e4-cef3-4daf-a937-8eb28c34813d"
   },
   "outputs": [
    {
     "data": {
      "text/plain": [
       "(tensor([[1.],\n",
       "         [2.],\n",
       "         [3.],\n",
       "         [4.],\n",
       "         [5.],\n",
       "         [6.],\n",
       "         [7.],\n",
       "         [8.],\n",
       "         [9.]]),\n",
       " torch.Size([9, 1]))"
      ]
     },
     "execution_count": 41,
     "metadata": {},
     "output_type": "execute_result"
    }
   ],
   "source": [
    "# adding dimensions\n",
    "x_reshaped = x.reshape(9, 1)\n",
    "x_reshaped, x_reshaped.shape"
   ]
  },
  {
   "cell_type": "code",
   "execution_count": null,
   "metadata": {
    "colab": {
     "base_uri": "https://localhost:8080/"
    },
    "executionInfo": {
     "elapsed": 42,
     "status": "ok",
     "timestamp": 1681245397821,
     "user": {
      "displayName": "MAGRO Ubezpieczenia Sp. z o.o.",
      "userId": "05631542033267798363"
     },
     "user_tz": -120
    },
    "id": "bylMuHVHhop5",
    "outputId": "7f5b2e63-519a-4a4e-c6cc-29be1fba54dd"
   },
   "outputs": [
    {
     "data": {
      "text/plain": [
       "(tensor([[ 1.,  2.],\n",
       "         [ 3.,  4.],\n",
       "         [ 5.,  6.],\n",
       "         [ 7.,  8.],\n",
       "         [ 9., 10.]]),\n",
       " torch.Size([5, 2]))"
      ]
     },
     "execution_count": 42,
     "metadata": {},
     "output_type": "execute_result"
    }
   ],
   "source": [
    "x = torch.arange(1., 11.)\n",
    "x_reshaped = x.reshape(5 , 2)\n",
    "x_reshaped, x_reshaped.size()"
   ]
  },
  {
   "cell_type": "code",
   "execution_count": null,
   "metadata": {
    "colab": {
     "base_uri": "https://localhost:8080/"
    },
    "executionInfo": {
     "elapsed": 38,
     "status": "ok",
     "timestamp": 1681245397822,
     "user": {
      "displayName": "MAGRO Ubezpieczenia Sp. z o.o.",
      "userId": "05631542033267798363"
     },
     "user_tz": -120
    },
    "id": "DT2PfqWxhoy_",
    "outputId": "0e4cc534-c64a-4b42-bdad-e40ffa2dd6f8"
   },
   "outputs": [
    {
     "name": "stdout",
     "output_type": "stream",
     "text": [
      "torch.Size([10])\n"
     ]
    },
    {
     "data": {
      "text/plain": [
       "tensor([[ 1.,  2.,  3.,  4.,  5.,  6.,  7.,  8.,  9., 10.]])"
      ]
     },
     "execution_count": 43,
     "metadata": {},
     "output_type": "execute_result"
    }
   ],
   "source": [
    "# change the view\n",
    "z = x.view(10)\n",
    "print(z.size())\n",
    "z = z.reshape(1, 10)\n",
    "z"
   ]
  },
  {
   "cell_type": "code",
   "execution_count": null,
   "metadata": {
    "id": "8csSGdO5o605"
   },
   "outputs": [],
   "source": []
  },
  {
   "cell_type": "code",
   "execution_count": null,
   "metadata": {
    "colab": {
     "base_uri": "https://localhost:8080/"
    },
    "executionInfo": {
     "elapsed": 410,
     "status": "ok",
     "timestamp": 1681245398200,
     "user": {
      "displayName": "MAGRO Ubezpieczenia Sp. z o.o.",
      "userId": "05631542033267798363"
     },
     "user_tz": -120
    },
    "id": "E8n2H6p8ho2G",
    "outputId": "8c374ea9-05eb-4829-88b2-1c2ee851e640"
   },
   "outputs": [
    {
     "data": {
      "text/plain": [
       "(tensor([[ 5.,  2.,  3.,  4.,  5.,  6.,  7.,  8.,  9., 10.]]),\n",
       " tensor([ 5.,  2.,  3.,  4.,  5.,  6.,  7.,  8.,  9., 10.]))"
      ]
     },
     "execution_count": 44,
     "metadata": {},
     "output_type": "execute_result"
    }
   ],
   "source": [
    "z[:, 0] = 5\n",
    "z, x"
   ]
  },
  {
   "cell_type": "code",
   "execution_count": null,
   "metadata": {
    "colab": {
     "base_uri": "https://localhost:8080/"
    },
    "executionInfo": {
     "elapsed": 57,
     "status": "ok",
     "timestamp": 1681245398201,
     "user": {
      "displayName": "MAGRO Ubezpieczenia Sp. z o.o.",
      "userId": "05631542033267798363"
     },
     "user_tz": -120
    },
    "id": "Y8jE9aOJho5l",
    "outputId": "8cbfeab8-e247-4965-fca4-5f1016feee05"
   },
   "outputs": [
    {
     "data": {
      "text/plain": [
       "tensor([[[ 5.,  5.,  5.,  5.],\n",
       "         [ 2.,  2.,  2.,  2.],\n",
       "         [ 3.,  3.,  3.,  3.],\n",
       "         [ 4.,  4.,  4.,  4.],\n",
       "         [ 5.,  5.,  5.,  5.],\n",
       "         [ 6.,  6.,  6.,  6.],\n",
       "         [ 7.,  7.,  7.,  7.],\n",
       "         [ 8.,  8.,  8.,  8.],\n",
       "         [ 9.,  9.,  9.,  9.],\n",
       "         [10., 10., 10., 10.]]])"
      ]
     },
     "execution_count": 45,
     "metadata": {},
     "output_type": "execute_result"
    }
   ],
   "source": [
    "# stack tensors on top of eachother\n",
    "\n",
    "\n",
    "x_stacked = torch.stack([z, z, z, z], dim=2)\n",
    "x_stacked"
   ]
  },
  {
   "cell_type": "code",
   "execution_count": null,
   "metadata": {
    "colab": {
     "base_uri": "https://localhost:8080/"
    },
    "executionInfo": {
     "elapsed": 51,
     "status": "ok",
     "timestamp": 1681245398201,
     "user": {
      "displayName": "MAGRO Ubezpieczenia Sp. z o.o.",
      "userId": "05631542033267798363"
     },
     "user_tz": -120
    },
    "id": "a74Bn0d6rQ5q",
    "outputId": "055ae3eb-3ba7-43b1-9353-f12dcfd08806"
   },
   "outputs": [
    {
     "name": "stdout",
     "output_type": "stream",
     "text": [
      "tensor([[ 5.,  2.,  3.,  4.,  5.],\n",
      "        [ 6.,  7.,  8.,  9., 10.]])\n"
     ]
    },
    {
     "data": {
      "text/plain": [
       "tensor([[[ 5.,  2.,  3.,  4.,  5.,  6.,  7.,  8.,  9., 10.]]])"
      ]
     },
     "execution_count": 46,
     "metadata": {},
     "output_type": "execute_result"
    }
   ],
   "source": [
    "print(z.reshape(2, 5))\n",
    "z.unsqueeze(0)\n"
   ]
  },
  {
   "cell_type": "code",
   "execution_count": null,
   "metadata": {
    "colab": {
     "base_uri": "https://localhost:8080/"
    },
    "executionInfo": {
     "elapsed": 45,
     "status": "ok",
     "timestamp": 1681245398202,
     "user": {
      "displayName": "MAGRO Ubezpieczenia Sp. z o.o.",
      "userId": "05631542033267798363"
     },
     "user_tz": -120
    },
    "id": "-KWOXY5xrQ_G",
    "outputId": "3e4260d3-9178-495d-a213-d966b4637f66"
   },
   "outputs": [
    {
     "name": "stdout",
     "output_type": "stream",
     "text": [
      "/bin/bash: nvidia-smi: command not found\n"
     ]
    }
   ],
   "source": [
    "!nvidia-smi"
   ]
  },
  {
   "cell_type": "code",
   "execution_count": null,
   "metadata": {
    "colab": {
     "base_uri": "https://localhost:8080/"
    },
    "executionInfo": {
     "elapsed": 35,
     "status": "ok",
     "timestamp": 1681245398203,
     "user": {
      "displayName": "MAGRO Ubezpieczenia Sp. z o.o.",
      "userId": "05631542033267798363"
     },
     "user_tz": -120
    },
    "id": "Bx32VwfXrRJl",
    "outputId": "ba3f2262-d37f-4a9f-eb6f-54b35055bb7f"
   },
   "outputs": [
    {
     "data": {
      "text/plain": [
       "torch.Size([2, 1, 2, 1, 2])"
      ]
     },
     "execution_count": 48,
     "metadata": {},
     "output_type": "execute_result"
    }
   ],
   "source": [
    "x = torch.zeros(2, 1, 2, 1, 2)\n",
    "x.size()"
   ]
  },
  {
   "cell_type": "code",
   "execution_count": null,
   "metadata": {
    "colab": {
     "base_uri": "https://localhost:8080/"
    },
    "executionInfo": {
     "elapsed": 290,
     "status": "ok",
     "timestamp": 1681250669115,
     "user": {
      "displayName": "MAGRO Ubezpieczenia Sp. z o.o.",
      "userId": "05631542033267798363"
     },
     "user_tz": -120
    },
    "id": "DJQyTMqJWTmV",
    "outputId": "4b6e66e3-014e-423c-d2f8-133be352c607"
   },
   "outputs": [
    {
     "data": {
      "text/plain": [
       "tensor([[[1, 2, 3],\n",
       "         [4, 5, 6],\n",
       "         [7, 8, 9]]])"
      ]
     },
     "execution_count": 65,
     "metadata": {},
     "output_type": "execute_result"
    }
   ],
   "source": [
    "x"
   ]
  },
  {
   "cell_type": "code",
   "execution_count": null,
   "metadata": {
    "colab": {
     "base_uri": "https://localhost:8080/"
    },
    "executionInfo": {
     "elapsed": 32,
     "status": "ok",
     "timestamp": 1681245398204,
     "user": {
      "displayName": "MAGRO Ubezpieczenia Sp. z o.o.",
      "userId": "05631542033267798363"
     },
     "user_tz": -120
    },
    "id": "TM1RCqiYrROw",
    "outputId": "b01f3c8e-9c2d-447f-b6a0-63a55a0461a6"
   },
   "outputs": [
    {
     "data": {
      "text/plain": [
       "torch.Size([2, 2, 2])"
      ]
     },
     "execution_count": 49,
     "metadata": {},
     "output_type": "execute_result"
    }
   ],
   "source": [
    "y = torch.squeeze(x)\n",
    "y.size()"
   ]
  },
  {
   "cell_type": "code",
   "execution_count": null,
   "metadata": {
    "colab": {
     "base_uri": "https://localhost:8080/"
    },
    "executionInfo": {
     "elapsed": 298,
     "status": "ok",
     "timestamp": 1681250673972,
     "user": {
      "displayName": "MAGRO Ubezpieczenia Sp. z o.o.",
      "userId": "05631542033267798363"
     },
     "user_tz": -120
    },
    "id": "OLoj5I6TWUF9",
    "outputId": "06770617-3c7e-43b9-98b7-99552c3c001a"
   },
   "outputs": [
    {
     "data": {
      "text/plain": [
       "tensor([[[[0., 0.]],\n",
       "\n",
       "         [[0., 0.]]],\n",
       "\n",
       "\n",
       "        [[[0., 0.]],\n",
       "\n",
       "         [[0., 0.]]]])"
      ]
     },
     "execution_count": 66,
     "metadata": {},
     "output_type": "execute_result"
    }
   ],
   "source": [
    "y"
   ]
  },
  {
   "cell_type": "code",
   "execution_count": null,
   "metadata": {
    "colab": {
     "base_uri": "https://localhost:8080/"
    },
    "executionInfo": {
     "elapsed": 28,
     "status": "ok",
     "timestamp": 1681245398205,
     "user": {
      "displayName": "MAGRO Ubezpieczenia Sp. z o.o.",
      "userId": "05631542033267798363"
     },
     "user_tz": -120
    },
    "id": "D7BCE5gtrRSS",
    "outputId": "db379613-8d7a-4018-ee12-c9b46947cc0c"
   },
   "outputs": [
    {
     "name": "stdout",
     "output_type": "stream",
     "text": [
      "torch.Size([2, 1, 2, 1, 2])\n"
     ]
    },
    {
     "data": {
      "text/plain": [
       "tensor([[[[[0., 0.]],\n",
       "\n",
       "          [[0., 0.]]]],\n",
       "\n",
       "\n",
       "\n",
       "        [[[[0., 0.]],\n",
       "\n",
       "          [[0., 0.]]]]])"
      ]
     },
     "execution_count": 50,
     "metadata": {},
     "output_type": "execute_result"
    }
   ],
   "source": [
    "y = torch.squeeze(x, 0)\n",
    "print(y.size())\n",
    "y"
   ]
  },
  {
   "cell_type": "code",
   "execution_count": null,
   "metadata": {
    "colab": {
     "base_uri": "https://localhost:8080/"
    },
    "executionInfo": {
     "elapsed": 25,
     "status": "ok",
     "timestamp": 1681245398206,
     "user": {
      "displayName": "MAGRO Ubezpieczenia Sp. z o.o.",
      "userId": "05631542033267798363"
     },
     "user_tz": -120
    },
    "id": "QYowil61rRW2",
    "outputId": "1bd40e84-d0ec-402c-c203-bc7b1fecd3f6"
   },
   "outputs": [
    {
     "name": "stdout",
     "output_type": "stream",
     "text": [
      "torch.Size([2, 2, 1, 2])\n"
     ]
    },
    {
     "data": {
      "text/plain": [
       "tensor([[[[0., 0.]],\n",
       "\n",
       "         [[0., 0.]]],\n",
       "\n",
       "\n",
       "        [[[0., 0.]],\n",
       "\n",
       "         [[0., 0.]]]])"
      ]
     },
     "execution_count": 51,
     "metadata": {},
     "output_type": "execute_result"
    }
   ],
   "source": [
    "y = torch.squeeze(x, 1)\n",
    "print(y.size())\n",
    "y"
   ]
  },
  {
   "cell_type": "code",
   "execution_count": null,
   "metadata": {
    "colab": {
     "base_uri": "https://localhost:8080/"
    },
    "executionInfo": {
     "elapsed": 767,
     "status": "ok",
     "timestamp": 1681245398952,
     "user": {
      "displayName": "MAGRO Ubezpieczenia Sp. z o.o.",
      "userId": "05631542033267798363"
     },
     "user_tz": -120
    },
    "id": "pRnXs43xrRbW",
    "outputId": "39de0f37-ab1a-4a29-961b-a57a77d4991d"
   },
   "outputs": [
    {
     "data": {
      "text/plain": [
       "tensor([[[1, 2, 3],\n",
       "         [4, 5, 6],\n",
       "         [7, 8, 9]]])"
      ]
     },
     "execution_count": 52,
     "metadata": {},
     "output_type": "execute_result"
    }
   ],
   "source": [
    "x = torch.arange(1, 10).reshape(1, 3, 3)\n",
    "x"
   ]
  },
  {
   "cell_type": "code",
   "execution_count": null,
   "metadata": {
    "colab": {
     "base_uri": "https://localhost:8080/"
    },
    "executionInfo": {
     "elapsed": 61,
     "status": "ok",
     "timestamp": 1681245398953,
     "user": {
      "displayName": "MAGRO Ubezpieczenia Sp. z o.o.",
      "userId": "05631542033267798363"
     },
     "user_tz": -120
    },
    "id": "gvsIyX9cCoCq",
    "outputId": "2d01d4ec-478c-4724-90a9-e3d4d62f28ae"
   },
   "outputs": [
    {
     "data": {
      "text/plain": [
       "tensor([[2, 5, 8]])"
      ]
     },
     "execution_count": 53,
     "metadata": {},
     "output_type": "execute_result"
    }
   ],
   "source": [
    "x[:, : , 1]"
   ]
  },
  {
   "cell_type": "code",
   "execution_count": null,
   "metadata": {
    "colab": {
     "base_uri": "https://localhost:8080/"
    },
    "executionInfo": {
     "elapsed": 56,
     "status": "ok",
     "timestamp": 1681245398954,
     "user": {
      "displayName": "MAGRO Ubezpieczenia Sp. z o.o.",
      "userId": "05631542033267798363"
     },
     "user_tz": -120
    },
    "id": "1P9WevBTCoGp",
    "outputId": "6c92dd23-3b98-4369-d81a-44668ef896b1"
   },
   "outputs": [
    {
     "data": {
      "text/plain": [
       "tensor([5])"
      ]
     },
     "execution_count": 54,
     "metadata": {},
     "output_type": "execute_result"
    }
   ],
   "source": [
    "x[:, 1, 1 ]"
   ]
  },
  {
   "cell_type": "code",
   "execution_count": null,
   "metadata": {
    "colab": {
     "base_uri": "https://localhost:8080/"
    },
    "executionInfo": {
     "elapsed": 51,
     "status": "ok",
     "timestamp": 1681245398954,
     "user": {
      "displayName": "MAGRO Ubezpieczenia Sp. z o.o.",
      "userId": "05631542033267798363"
     },
     "user_tz": -120
    },
    "id": "y45dwDI3FEeC",
    "outputId": "4cbec3b9-d685-4f6b-c4d8-9c529a12f69d"
   },
   "outputs": [
    {
     "data": {
      "text/plain": [
       "tensor(9)"
      ]
     },
     "execution_count": 55,
     "metadata": {},
     "output_type": "execute_result"
    }
   ],
   "source": [
    "x[0, -1, -1]"
   ]
  },
  {
   "cell_type": "code",
   "execution_count": null,
   "metadata": {
    "colab": {
     "base_uri": "https://localhost:8080/"
    },
    "executionInfo": {
     "elapsed": 45,
     "status": "ok",
     "timestamp": 1681245398956,
     "user": {
      "displayName": "MAGRO Ubezpieczenia Sp. z o.o.",
      "userId": "05631542033267798363"
     },
     "user_tz": -120
    },
    "id": "I4MR8gtzFEju",
    "outputId": "779675f9-3cd0-4371-a01a-0ae2a921c8ac"
   },
   "outputs": [
    {
     "data": {
      "text/plain": [
       "tensor([[3],\n",
       "        [6],\n",
       "        [9]])"
      ]
     },
     "execution_count": 56,
     "metadata": {},
     "output_type": "execute_result"
    }
   ],
   "source": [
    "x1 = x[0, :, -1].reshape(1, 3).T\n",
    "x1"
   ]
  },
  {
   "cell_type": "code",
   "execution_count": null,
   "metadata": {
    "id": "657dKmX7FEoc"
   },
   "outputs": [],
   "source": []
  },
  {
   "cell_type": "markdown",
   "metadata": {
    "id": "4pk0yGKEJBGP"
   },
   "source": [
    "# PyTorch tensors & NumPy\n",
    "\n",
    "from_numpy"
   ]
  },
  {
   "cell_type": "code",
   "execution_count": null,
   "metadata": {
    "colab": {
     "base_uri": "https://localhost:8080/"
    },
    "executionInfo": {
     "elapsed": 40,
     "status": "ok",
     "timestamp": 1681245398957,
     "user": {
      "displayName": "MAGRO Ubezpieczenia Sp. z o.o.",
      "userId": "05631542033267798363"
     },
     "user_tz": -120
    },
    "id": "c66GaXz5FEt3",
    "outputId": "21b08421-72e9-45f9-a05e-46d3bc6ad8a0"
   },
   "outputs": [
    {
     "data": {
      "text/plain": [
       "(array([1., 2., 3., 4., 5., 6., 7.]),\n",
       " tensor([1., 2., 3., 4., 5., 6., 7.], dtype=torch.float64))"
      ]
     },
     "execution_count": 57,
     "metadata": {},
     "output_type": "execute_result"
    }
   ],
   "source": [
    "import  torch\n",
    "import numpy as np\n",
    "\n",
    "array = np.arange(1.0, 8.0)\n",
    "tensor = torch.from_numpy(array)\n",
    "array, tensor"
   ]
  },
  {
   "cell_type": "code",
   "execution_count": null,
   "metadata": {
    "colab": {
     "base_uri": "https://localhost:8080/"
    },
    "executionInfo": {
     "elapsed": 36,
     "status": "ok",
     "timestamp": 1681245398957,
     "user": {
      "displayName": "MAGRO Ubezpieczenia Sp. z o.o.",
      "userId": "05631542033267798363"
     },
     "user_tz": -120
    },
    "id": "xpnorbHeCoKb",
    "outputId": "f734bbdf-9db8-429c-bef8-da7735b69338"
   },
   "outputs": [
    {
     "data": {
      "text/plain": [
       "(array([2., 3., 4., 5., 6., 7., 8.]),\n",
       " tensor([1., 2., 3., 4., 5., 6., 7.], dtype=torch.float64))"
      ]
     },
     "execution_count": 58,
     "metadata": {},
     "output_type": "execute_result"
    }
   ],
   "source": [
    "array = array + 1\n",
    "array, tensor"
   ]
  },
  {
   "cell_type": "code",
   "execution_count": null,
   "metadata": {
    "id": "maDvcW6zLywx"
   },
   "outputs": [],
   "source": []
  },
  {
   "cell_type": "markdown",
   "metadata": {
    "id": "rlf8BDBlLz1Q"
   },
   "source": [
    "# Tensor to NumPy array\n"
   ]
  },
  {
   "cell_type": "code",
   "execution_count": null,
   "metadata": {
    "colab": {
     "base_uri": "https://localhost:8080/"
    },
    "executionInfo": {
     "elapsed": 31,
     "status": "ok",
     "timestamp": 1681245398959,
     "user": {
      "displayName": "MAGRO Ubezpieczenia Sp. z o.o.",
      "userId": "05631542033267798363"
     },
     "user_tz": -120
    },
    "id": "mIdmWbBaL4dG",
    "outputId": "5ea4f69c-d9d5-452f-d234-6f1f0829e29c"
   },
   "outputs": [
    {
     "data": {
      "text/plain": [
       "(tensor([1., 1., 1., 1., 1., 1., 1.]),\n",
       " array([1., 1., 1., 1., 1., 1., 1.], dtype=float32))"
      ]
     },
     "execution_count": 59,
     "metadata": {},
     "output_type": "execute_result"
    }
   ],
   "source": [
    "tensor = torch.ones(7)\n",
    "numpy_tensor = tensor.numpy()\n",
    "tensor, numpy_tensor"
   ]
  },
  {
   "cell_type": "code",
   "execution_count": null,
   "metadata": {
    "colab": {
     "base_uri": "https://localhost:8080/"
    },
    "executionInfo": {
     "elapsed": 27,
     "status": "ok",
     "timestamp": 1681245398959,
     "user": {
      "displayName": "MAGRO Ubezpieczenia Sp. z o.o.",
      "userId": "05631542033267798363"
     },
     "user_tz": -120
    },
    "id": "y2UeuTwvL4jL",
    "outputId": "b6555d76-39cd-4810-f5ec-93beb4eadabd"
   },
   "outputs": [
    {
     "data": {
      "text/plain": [
       "dtype('float32')"
      ]
     },
     "execution_count": 60,
     "metadata": {},
     "output_type": "execute_result"
    }
   ],
   "source": [
    "numpy_tensor.dtype"
   ]
  },
  {
   "cell_type": "code",
   "execution_count": null,
   "metadata": {
    "colab": {
     "base_uri": "https://localhost:8080/"
    },
    "executionInfo": {
     "elapsed": 23,
     "status": "ok",
     "timestamp": 1681245398959,
     "user": {
      "displayName": "MAGRO Ubezpieczenia Sp. z o.o.",
      "userId": "05631542033267798363"
     },
     "user_tz": -120
    },
    "id": "Xb0i3XbtMT6W",
    "outputId": "395e6e14-1514-4eb2-8cce-4c596e63c5a9"
   },
   "outputs": [
    {
     "data": {
      "text/plain": [
       "(tensor([2., 2., 2., 2., 2., 2., 2.]),\n",
       " array([1., 1., 1., 1., 1., 1., 1.], dtype=float32))"
      ]
     },
     "execution_count": 61,
     "metadata": {},
     "output_type": "execute_result"
    }
   ],
   "source": [
    "tensor = tensor + 1\n",
    "tensor, numpy_tensor"
   ]
  }
 ],
 "metadata": {
  "colab": {
   "authorship_tag": "ABX9TyNqiXGdha6rq2SWJ9JdNAvj",
   "provenance": [],
   "toc_visible": true
  },
  "gpuClass": "standard",
  "kernelspec": {
   "display_name": "Python 3 (ipykernel)",
   "language": "python",
   "name": "python3"
  },
  "language_info": {
   "codemirror_mode": {
    "name": "ipython",
    "version": 3
   },
   "file_extension": ".py",
   "mimetype": "text/x-python",
   "name": "python",
   "nbconvert_exporter": "python",
   "pygments_lexer": "ipython3",
   "version": "3.11.6"
  }
 },
 "nbformat": 4,
 "nbformat_minor": 4
}
