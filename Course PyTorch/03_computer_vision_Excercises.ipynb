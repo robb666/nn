{
 "cells": [
  {
   "cell_type": "code",
   "execution_count": 1,
   "metadata": {
    "colab": {
     "base_uri": "https://localhost:8080/",
     "height": 35
    },
    "executionInfo": {
     "elapsed": 6417,
     "status": "ok",
     "timestamp": 1682606575741,
     "user": {
      "displayName": "MAGRO Ubezpieczenia Sp. z o.o.",
      "userId": "05631542033267798363"
     },
     "user_tz": -120
    },
    "id": "_zczQ14EcISD",
    "outputId": "48ed0902-6499-438c-d694-24de584bf4da"
   },
   "outputs": [
    {
     "data": {
      "application/vnd.google.colaboratory.intrinsic+json": {
       "type": "string"
      },
      "text/plain": [
       "'cpu'"
      ]
     },
     "execution_count": 1,
     "metadata": {},
     "output_type": "execute_result"
    }
   ],
   "source": [
    "import torch\n",
    "from torch import nn\n",
    "\n",
    "torch.__version__\n",
    "\n",
    "device = 'cuda' if torch.cuda.is_available() else 'cpu'\n",
    "device"
   ]
  },
  {
   "cell_type": "code",
   "execution_count": 1,
   "metadata": {
    "executionInfo": {
     "elapsed": 22,
     "status": "ok",
     "timestamp": 1682606575742,
     "user": {
      "displayName": "MAGRO Ubezpieczenia Sp. z o.o.",
      "userId": "05631542033267798363"
     },
     "user_tz": -120
    },
    "id": "aW_U1XWAPOC3"
   },
   "outputs": [],
   "source": []
  },
  {
   "cell_type": "markdown",
   "metadata": {
    "id": "SrVsjXn0cmzI"
   },
   "source": [
    " How to Prevent Overfitting\n",
    "\n",
    "Ways to prevent overfitting include cross-validation, in which the data being used for training the model is chopped into folds or partitions and the model is run for each fold. Then, the overall error estimate is averaged. Other methods include ensembling: predictions are combined from at least two separate models, data augmentation, in which the available data set is made to look diverse, and data simplification, in which the model is streamlined to avoid overfitting. "
   ]
  },
  {
   "cell_type": "code",
   "execution_count": 2,
   "metadata": {
    "colab": {
     "base_uri": "https://localhost:8080/"
    },
    "executionInfo": {
     "elapsed": 1102,
     "status": "ok",
     "timestamp": 1682606576824,
     "user": {
      "displayName": "MAGRO Ubezpieczenia Sp. z o.o.",
      "userId": "05631542033267798363"
     },
     "user_tz": -120
    },
    "id": "wHSux42vVsUH",
    "outputId": "15ecf506-d441-4f6a-93c0-91e88237c1ed"
   },
   "outputs": [
    {
     "name": "stdout",
     "output_type": "stream",
     "text": [
      "Downloading http://yann.lecun.com/exdb/mnist/train-images-idx3-ubyte.gz\n",
      "Downloading http://yann.lecun.com/exdb/mnist/train-images-idx3-ubyte.gz to mnist_ds/MNIST/raw/train-images-idx3-ubyte.gz\n"
     ]
    },
    {
     "name": "stderr",
     "output_type": "stream",
     "text": [
      "100%|██████████| 9912422/9912422 [00:00<00:00, 119008081.37it/s]\n"
     ]
    },
    {
     "name": "stdout",
     "output_type": "stream",
     "text": [
      "Extracting mnist_ds/MNIST/raw/train-images-idx3-ubyte.gz to mnist_ds/MNIST/raw\n",
      "\n",
      "Downloading http://yann.lecun.com/exdb/mnist/train-labels-idx1-ubyte.gz\n",
      "Downloading http://yann.lecun.com/exdb/mnist/train-labels-idx1-ubyte.gz to mnist_ds/MNIST/raw/train-labels-idx1-ubyte.gz\n"
     ]
    },
    {
     "name": "stderr",
     "output_type": "stream",
     "text": [
      "100%|██████████| 28881/28881 [00:00<00:00, 28428935.42it/s]\n"
     ]
    },
    {
     "name": "stdout",
     "output_type": "stream",
     "text": [
      "Extracting mnist_ds/MNIST/raw/train-labels-idx1-ubyte.gz to mnist_ds/MNIST/raw\n",
      "\n",
      "Downloading http://yann.lecun.com/exdb/mnist/t10k-images-idx3-ubyte.gz\n",
      "Downloading http://yann.lecun.com/exdb/mnist/t10k-images-idx3-ubyte.gz to mnist_ds/MNIST/raw/t10k-images-idx3-ubyte.gz\n"
     ]
    },
    {
     "name": "stderr",
     "output_type": "stream",
     "text": [
      "100%|██████████| 1648877/1648877 [00:00<00:00, 37102023.57it/s]\n"
     ]
    },
    {
     "name": "stdout",
     "output_type": "stream",
     "text": [
      "Extracting mnist_ds/MNIST/raw/t10k-images-idx3-ubyte.gz to mnist_ds/MNIST/raw\n",
      "\n",
      "Downloading http://yann.lecun.com/exdb/mnist/t10k-labels-idx1-ubyte.gz\n",
      "Downloading http://yann.lecun.com/exdb/mnist/t10k-labels-idx1-ubyte.gz to mnist_ds/MNIST/raw/t10k-labels-idx1-ubyte.gz\n"
     ]
    },
    {
     "name": "stderr",
     "output_type": "stream",
     "text": [
      "100%|██████████| 4542/4542 [00:00<00:00, 10811877.85it/s]\n"
     ]
    },
    {
     "name": "stdout",
     "output_type": "stream",
     "text": [
      "Extracting mnist_ds/MNIST/raw/t10k-labels-idx1-ubyte.gz to mnist_ds/MNIST/raw\n",
      "\n"
     ]
    }
   ],
   "source": [
    "import torchvision\n",
    "from torchvision.transforms import ToTensor\n",
    "\n",
    "train_dataset = torchvision.datasets.MNIST(root='mnist_ds',\n",
    "                                           train=True,\n",
    "                                           download=True,\n",
    "                                           transform=ToTensor(),\n",
    "                                           target_transform=None,\n",
    "                                           )\n",
    "\n",
    "test_dataset = torchvision.datasets.MNIST(root='mnist_ds',\n",
    "                                          train=False,\n",
    "                                          download=True,\n",
    "                                          transform=ToTensor(),\n",
    "                                          target_transform=None,\n",
    "                                          )"
   ]
  },
  {
   "cell_type": "code",
   "execution_count": 3,
   "metadata": {
    "colab": {
     "base_uri": "https://localhost:8080/"
    },
    "executionInfo": {
     "elapsed": 5,
     "status": "ok",
     "timestamp": 1682606576825,
     "user": {
      "displayName": "MAGRO Ubezpieczenia Sp. z o.o.",
      "userId": "05631542033267798363"
     },
     "user_tz": -120
    },
    "id": "VW9cqUwj6gjX",
    "outputId": "24ee1fb5-20e0-4d36-a74f-215bbc60b3e4"
   },
   "outputs": [
    {
     "data": {
      "text/plain": [
       "['0 - zero',\n",
       " '1 - one',\n",
       " '2 - two',\n",
       " '3 - three',\n",
       " '4 - four',\n",
       " '5 - five',\n",
       " '6 - six',\n",
       " '7 - seven',\n",
       " '8 - eight',\n",
       " '9 - nine']"
      ]
     },
     "execution_count": 3,
     "metadata": {},
     "output_type": "execute_result"
    }
   ],
   "source": [
    "\n",
    "class_name = train_dataset.classes\n",
    "class_name"
   ]
  },
  {
   "cell_type": "code",
   "execution_count": 4,
   "metadata": {
    "colab": {
     "base_uri": "https://localhost:8080/",
     "height": 598
    },
    "executionInfo": {
     "elapsed": 3019,
     "status": "ok",
     "timestamp": 1682606579841,
     "user": {
      "displayName": "MAGRO Ubezpieczenia Sp. z o.o.",
      "userId": "05631542033267798363"
     },
     "user_tz": -120
    },
    "id": "dwxGcMNtVsXi",
    "outputId": "060b926e-d609-4126-8172-c5140581eee2"
   },
   "outputs": [
    {
     "data": {
      "image/png": "[encoded data removed]",
      "text/plain": [
       "<Figure size 700x700 with 16 Axes>"
      ]
     },
     "metadata": {},
     "output_type": "display_data"
    }
   ],
   "source": [
    "import matplotlib.pyplot as plt\n",
    "\n",
    "\n",
    "fig = plt.figure(figsize=(7, 7))\n",
    "rows, cols = 4, 4\n",
    "for i in range(1, rows * cols + 1):\n",
    "\n",
    "  random_idx = torch.randint(0, len(train_dataset), size=[1]).item()\n",
    "\n",
    "  image, label = train_dataset[random_idx]\n",
    "  fig.add_subplot(rows, cols, i)\n",
    "  plt.imshow(image.squeeze(), cmap=\"Greys\")\n",
    "  plt.title(class_name[label])\n",
    "  plt.axis(False)"
   ]
  },
  {
   "cell_type": "code",
   "execution_count": 5,
   "metadata": {
    "executionInfo": {
     "elapsed": 25,
     "status": "ok",
     "timestamp": 1682606579842,
     "user": {
      "displayName": "MAGRO Ubezpieczenia Sp. z o.o.",
      "userId": "05631542033267798363"
     },
     "user_tz": -120
    },
    "id": "ms05uy_QVsac"
   },
   "outputs": [],
   "source": [
    "from torch.utils.data import DataLoader\n",
    "\n",
    "train_batch = DataLoader(dataset=train_dataset, batch_size=32, shuffle=True)\n",
    "\n",
    "test_batch = DataLoader(dataset=test_dataset, batch_size=32, shuffle=False)"
   ]
  },
  {
   "cell_type": "code",
   "execution_count": 6,
   "metadata": {
    "colab": {
     "base_uri": "https://localhost:8080/"
    },
    "executionInfo": {
     "elapsed": 24,
     "status": "ok",
     "timestamp": 1682606579843,
     "user": {
      "displayName": "MAGRO Ubezpieczenia Sp. z o.o.",
      "userId": "05631542033267798363"
     },
     "user_tz": -120
    },
    "id": "iisqfxzuVsfq",
    "outputId": "1d040be0-3e37-4a09-c561-8cbce6204d20"
   },
   "outputs": [
    {
     "data": {
      "text/plain": [
       "(torch.Size([32, 1, 28, 28]), torch.Size([32]))"
      ]
     },
     "execution_count": 6,
     "metadata": {},
     "output_type": "execute_result"
    }
   ],
   "source": [
    "train_features_batch, train_labels_batch = next(iter(train_batch))\n",
    "train_features_batch.shape, train_labels_batch.shape"
   ]
  },
  {
   "cell_type": "code",
   "execution_count": 7,
   "metadata": {
    "colab": {
     "base_uri": "https://localhost:8080/"
    },
    "executionInfo": {
     "elapsed": 21,
     "status": "ok",
     "timestamp": 1682606579844,
     "user": {
      "displayName": "MAGRO Ubezpieczenia Sp. z o.o.",
      "userId": "05631542033267798363"
     },
     "user_tz": -120
    },
    "id": "1iwTOUaY3vqc",
    "outputId": "9eb7102d-68b8-4d28-eb0c-8ae552971829"
   },
   "outputs": [
    {
     "data": {
      "text/plain": [
       "TinyVGG(\n",
       "  (block_1): Sequential(\n",
       "    (0): Conv2d(1, 10, kernel_size=(3, 3), stride=(1, 1), padding=(1, 1))\n",
       "    (1): ReLU()\n",
       "    (2): Conv2d(10, 10, kernel_size=(3, 3), stride=(1, 1), padding=(1, 1))\n",
       "    (3): ReLU()\n",
       "    (4): MaxPool2d(kernel_size=2, stride=2, padding=0, dilation=1, ceil_mode=False)\n",
       "  )\n",
       "  (block_2): Sequential(\n",
       "    (0): Conv2d(10, 10, kernel_size=(3, 3), stride=(1, 1), padding=(1, 1))\n",
       "    (1): ReLU()\n",
       "    (2): Conv2d(10, 10, kernel_size=(3, 3), stride=(1, 1), padding=(1, 1))\n",
       "    (3): ReLU()\n",
       "    (4): MaxPool2d(kernel_size=2, stride=2, padding=0, dilation=1, ceil_mode=False)\n",
       "  )\n",
       "  (classifier): Sequential(\n",
       "    (0): Flatten(start_dim=1, end_dim=-1)\n",
       "    (1): Linear(in_features=490, out_features=10, bias=True)\n",
       "  )\n",
       ")"
      ]
     },
     "execution_count": 7,
     "metadata": {},
     "output_type": "execute_result"
    }
   ],
   "source": [
    "# Model\n",
    "\n",
    "class TinyVGG(nn.Module):\n",
    "  def __init__(self, in_shape, out_shape, hidden_units):\n",
    "    super().__init__()\n",
    "    self.block_1 = nn.Sequential(\n",
    "        nn.Conv2d(in_channels=in_shape,\n",
    "                  out_channels=hidden_units,\n",
    "                  kernel_size=3,\n",
    "                  stride=1,\n",
    "                  padding=1),\n",
    "        nn.ReLU(),\n",
    "        nn.Conv2d(in_channels=hidden_units,\n",
    "                  out_channels=hidden_units,\n",
    "                  kernel_size=3,\n",
    "                  stride=1,\n",
    "                  padding=1),\n",
    "        nn.ReLU(),\n",
    "        nn.MaxPool2d(kernel_size=2,\n",
    "                     stride=2)\n",
    "    )\n",
    "\n",
    "    self.block_2 = nn.Sequential(\n",
    "        nn.Conv2d(hidden_units, hidden_units, 3, padding=1),\n",
    "        nn.ReLU(),\n",
    "        nn.Conv2d(hidden_units, hidden_units, 3, padding=1),\n",
    "        nn.ReLU(),\n",
    "        nn.MaxPool2d(2)\n",
    "    )\n",
    "\n",
    "    self.classifier = nn.Sequential(\n",
    "        nn.Flatten(),\n",
    "        nn.Linear(in_features=hidden_units*7*7,\n",
    "                  out_features=out_shape),\n",
    "    )\n",
    "\n",
    "  def forward(self, x):\n",
    "    x = self.block_1(x)\n",
    "    x = self.block_2(x)\n",
    "    x = self.classifier(x)\n",
    "    return x\n",
    "\n",
    "\n",
    "torch.manual_seed(42)\n",
    "model_2 = TinyVGG(in_shape=1,\n",
    "                  hidden_units=10,\n",
    "                  out_shape=10).to(device)\n",
    "model_2"
   ]
  },
  {
   "cell_type": "code",
   "execution_count": 8,
   "metadata": {
    "colab": {
     "base_uri": "https://localhost:8080/"
    },
    "executionInfo": {
     "elapsed": 19,
     "status": "ok",
     "timestamp": 1682606579845,
     "user": {
      "displayName": "MAGRO Ubezpieczenia Sp. z o.o.",
      "userId": "05631542033267798363"
     },
     "user_tz": -120
    },
    "id": "de-AKk3xtQNm",
    "outputId": "f125d2e5-4a25-453f-ab2f-a615e4af4b4d"
   },
   "outputs": [
    {
     "name": "stdout",
     "output_type": "stream",
     "text": [
      "Downloading helper_functions.py\n"
     ]
    }
   ],
   "source": [
    "import requests\n",
    "from pathlib import Path \n",
    "\n",
    "# Download helper functions from Learn PyTorch repo (if not already downloaded)\n",
    "if Path(\"helper_functions.py\").is_file():\n",
    "  print(\"helper_functions.py already exists, skipping download\")\n",
    "else:\n",
    "  print(\"Downloading helper_functions.py\")\n",
    "  # Note: you need the \"raw\" GitHub URL for this to work\n",
    "  request = requests.get(\"https://raw.githubusercontent.com/mrdbourke/pytorch-deep-learning/main/helper_functions.py\")\n",
    "  with open(\"helper_functions.py\", \"wb\") as f:\n",
    "    f.write(request.content)\n",
    "\n",
    "# Import accuracy metric\n",
    "from helper_functions import accuracy_fn # Note: could also use torchmetrics.Accuracy(task = 'multiclass', num_classes=len(class_names)).to(device)\n"
   ]
  },
  {
   "cell_type": "code",
   "execution_count": 9,
   "metadata": {
    "executionInfo": {
     "elapsed": 15,
     "status": "ok",
     "timestamp": 1682606579845,
     "user": {
      "displayName": "MAGRO Ubezpieczenia Sp. z o.o.",
      "userId": "05631542033267798363"
     },
     "user_tz": -120
    },
    "id": "-8koW7ph6Sru"
   },
   "outputs": [],
   "source": [
    "from timeit import default_timer as timer \n",
    "\n",
    "\n",
    "def print_train_time(start: float, end: float, device: torch.device = None):\n",
    "    \"\"\"Prints difference between start and end time.\n",
    "\n",
    "    Args:\n",
    "        start (float): Start time of computation (preferred in timeit format). \n",
    "        end (float): End time of computation.\n",
    "        device ([type], optional): Device that compute is running on. Defaults to None.\n",
    "\n",
    "    Returns:\n",
    "        float: time between start and end in seconds (higher is longer).\n",
    "    \"\"\"\n",
    "    total_time = end - start\n",
    "    print(f\"Train time on {device}: {total_time:.3f} seconds\")\n",
    "    return total_time\n"
   ]
  },
  {
   "cell_type": "code",
   "execution_count": 10,
   "metadata": {
    "executionInfo": {
     "elapsed": 16,
     "status": "ok",
     "timestamp": 1682606579846,
     "user": {
      "displayName": "MAGRO Ubezpieczenia Sp. z o.o.",
      "userId": "05631542033267798363"
     },
     "user_tz": -120
    },
    "id": "Duk9IBQb3vtF"
   },
   "outputs": [],
   "source": [
    "loss_fn = nn.CrossEntropyLoss()\n",
    "\n",
    "optimizer = torch.optim.SGD(params=model_2.parameters(),\n",
    "                            lr=0.01)"
   ]
  },
  {
   "cell_type": "code",
   "execution_count": 11,
   "metadata": {
    "colab": {
     "base_uri": "https://localhost:8080/"
    },
    "executionInfo": {
     "elapsed": 231306,
     "status": "ok",
     "timestamp": 1682606811137,
     "user": {
      "displayName": "MAGRO Ubezpieczenia Sp. z o.o.",
      "userId": "05631542033267798363"
     },
     "user_tz": -120
    },
    "id": "S71DkOB53vvx",
    "outputId": "cea2969a-1fc4-4e9f-ea76-4b50c674a29e"
   },
   "outputs": [
    {
     "name": "stdout",
     "output_type": "stream",
     "text": [
      "Now is 0 / 60000 samples\n",
      "Now is 12800 / 60000 samples\n",
      "Now is 25600 / 60000 samples\n",
      "Now is 38400 / 60000 samples\n",
      "Now is 51200 / 60000 samples\n",
      "\n",
      "TRain loss: 1.10306 | Test loss: 0.00112, Test acc: 0.26%\n",
      "\n",
      "Now is 0 / 60000 samples\n",
      "Now is 12800 / 60000 samples\n",
      "Now is 25600 / 60000 samples\n",
      "Now is 38400 / 60000 samples\n",
      "Now is 51200 / 60000 samples\n",
      "\n",
      "TRain loss: 0.15943 | Test loss: 0.00010, Test acc: 0.32%\n",
      "\n",
      "Now is 0 / 60000 samples\n",
      "Now is 12800 / 60000 samples\n",
      "Now is 25600 / 60000 samples\n",
      "Now is 38400 / 60000 samples\n",
      "Now is 51200 / 60000 samples\n",
      "\n",
      "TRain loss: 0.10446 | Test loss: 0.00002, Test acc: 0.32%\n",
      "\n",
      "Now is 0 / 60000 samples\n",
      "Now is 12800 / 60000 samples\n",
      "Now is 25600 / 60000 samples\n",
      "Now is 38400 / 60000 samples\n",
      "Now is 51200 / 60000 samples\n",
      "\n",
      "TRain loss: 0.08579 | Test loss: 0.00001, Test acc: 0.32%\n",
      "\n",
      "Train time on cpu: 231.504 seconds\n"
     ]
    }
   ],
   "source": [
    "from tqdm.auto import tqdm\n",
    "from timeit import default_timer as timer \n",
    "\n",
    "# Set the seed and start the timer\n",
    "torch.manual_seed(42)\n",
    "train_time_start_on_cpu = timer()\n",
    "\n",
    "epochs = 4\n",
    "\n",
    "for epoch in range(epochs):\n",
    "  train_loss = 0\n",
    "\n",
    "  for batch, (X, y) in enumerate(train_batch):\n",
    "    model_2.train()\n",
    "\n",
    "    X, y = X.to(device), y.to(device)\n",
    "\n",
    "    y_logits = model_2(X)\n",
    "\n",
    "    loss = loss_fn(y_logits, y)\n",
    "    train_loss += loss\n",
    "\n",
    "    optimizer.zero_grad()\n",
    "    loss.backward()\n",
    "    optimizer.step()\n",
    "\n",
    "    if batch % 400 == 0:\n",
    "      print(f'Now is {batch * len(X)} / {len(train_batch.dataset)} samples')\n",
    "\n",
    "  train_loss /= len(train_batch)\n",
    "\n",
    "  ### Testing\n",
    "  test_loss, test_acc = 0, 0\n",
    "  model_2.eval()\n",
    "  with torch.inference_mode():\n",
    "    for X, y in test_batch:\n",
    "      X, y = X.to(device), y.to(device)\n",
    "\n",
    "      test_pred = model_2(X)\n",
    "\n",
    "      test_loss += loss_fn(test_pred, y)\n",
    "      test_acc += accuracy_fn(y_true=y, y_pred=test_pred.argmax(dim=1))\n",
    "\n",
    "      test_loss /= len(test_batch)\n",
    "      test_acc /= len(test_batch)\n",
    "\n",
    "  print(f'\\nTRain loss: {train_loss:.5f} | Test loss: {test_loss:.5f}, Test acc: {test_acc:.2f}%\\n')    \n",
    "\n",
    "train_time_end_on_cpu = timer()\n",
    "\n",
    "total_train_time_model_2 = print_train_time(start=train_time_start_on_cpu, \n",
    "                                           end=train_time_end_on_cpu,\n",
    "                                           device=str(next(model_2.parameters()).device))\n"
   ]
  },
  {
   "cell_type": "code",
   "execution_count": 12,
   "metadata": {
    "executionInfo": {
     "elapsed": 10,
     "status": "ok",
     "timestamp": 1682606811140,
     "user": {
      "displayName": "MAGRO Ubezpieczenia Sp. z o.o.",
      "userId": "05631542033267798363"
     },
     "user_tz": -120
    },
    "id": "kxk6AHnL3vyZ"
   },
   "outputs": [],
   "source": [
    "def make_predictions(model: torch.nn.Module, data: list, device: torch.device = device):\n",
    "    pred_probs = []\n",
    "    model.eval()\n",
    "    with torch.inference_mode():\n",
    "        for sample in data:\n",
    "            # Prepare sample\n",
    "            sample = torch.unsqueeze(sample, dim=0).to(device) # Add an extra dimension and send sample to device\n",
    "\n",
    "            # Forward pass (model outputs raw logit)\n",
    "            pred_logit = model(sample)\n",
    "\n",
    "            # Get prediction probability (logit -> prediction probability)\n",
    "            pred_prob = torch.softmax(pred_logit.squeeze(), dim=0)\n",
    "\n",
    "            # Get pred_prob off GPU for further calculations\n",
    "            pred_probs.append(pred_prob.cpu())\n",
    "            \n",
    "    # Stack the pred_probs to turn list into a tensor\n",
    "    return torch.stack(pred_probs)\n"
   ]
  },
  {
   "cell_type": "code",
   "execution_count": 13,
   "metadata": {
    "colab": {
     "base_uri": "https://localhost:8080/"
    },
    "executionInfo": {
     "elapsed": 1599,
     "status": "ok",
     "timestamp": 1682606812733,
     "user": {
      "displayName": "MAGRO Ubezpieczenia Sp. z o.o.",
      "userId": "05631542033267798363"
     },
     "user_tz": -120
    },
    "id": "IfnPd6dP3v1D",
    "outputId": "3247deb6-05fb-44e9-fb5c-7b6f6edfd33c"
   },
   "outputs": [
    {
     "name": "stdout",
     "output_type": "stream",
     "text": [
      "Test sample image shape: torch.Size([1, 28, 28])\n",
      "Test sample label: [1, 3, 2, 7, 5, 6, 7, 4, 0] (1 - one)\n"
     ]
    }
   ],
   "source": [
    "import random\n",
    "\n",
    "# random.seed(42)\n",
    "test_samples = []\n",
    "test_labels = []\n",
    "\n",
    "for sample, label in random.sample(list(test_dataset), k=9):\n",
    "  test_samples.append(sample)\n",
    "  test_labels.append(label)\n",
    "\n",
    "# View the first test sample shape and label\n",
    "print(f'Test sample image shape: {test_samples[0].shape}\\nTest sample label: {test_labels} ({class_name[test_labels[0]]})')\n",
    "# class_name\n",
    "# test_labels[0][0]"
   ]
  },
  {
   "cell_type": "code",
   "execution_count": 14,
   "metadata": {
    "colab": {
     "base_uri": "https://localhost:8080/"
    },
    "executionInfo": {
     "elapsed": 14,
     "status": "ok",
     "timestamp": 1682606812734,
     "user": {
      "displayName": "MAGRO Ubezpieczenia Sp. z o.o.",
      "userId": "05631542033267798363"
     },
     "user_tz": -120
    },
    "id": "0ajLdSfG3v3z",
    "outputId": "0b97afc7-3839-4caa-bbcf-0311956874c5"
   },
   "outputs": [
    {
     "data": {
      "text/plain": [
       "tensor([[5.5900e-07, 9.9207e-01, 2.6670e-04, 4.6270e-06, 7.8323e-04, 1.6114e-07,\n",
       "         9.2644e-05, 6.4588e-04, 6.1274e-03, 7.7507e-06],\n",
       "        [2.0344e-08, 2.1509e-06, 4.4813e-08, 5.0666e-01, 1.4551e-07, 4.9307e-01,\n",
       "         9.5488e-08, 2.6622e-05, 2.4166e-04, 4.1633e-06]])"
      ]
     },
     "execution_count": 14,
     "metadata": {},
     "output_type": "execute_result"
    }
   ],
   "source": [
    "\n",
    "# Make predictions on test samples with model 2\n",
    "pred_probs= make_predictions(model=model_2, \n",
    "                             data=test_samples)\n",
    "\n",
    "# View first two prediction probabilities list\n",
    "pred_probs[:2]\n"
   ]
  },
  {
   "cell_type": "code",
   "execution_count": 15,
   "metadata": {
    "colab": {
     "base_uri": "https://localhost:8080/"
    },
    "executionInfo": {
     "elapsed": 11,
     "status": "ok",
     "timestamp": 1682606812734,
     "user": {
      "displayName": "MAGRO Ubezpieczenia Sp. z o.o.",
      "userId": "05631542033267798363"
     },
     "user_tz": -120
    },
    "id": "MEbrSoSRhsuI",
    "outputId": "b95572a2-280f-443b-a2f3-60a1b0f35586"
   },
   "outputs": [
    {
     "data": {
      "text/plain": [
       "tensor([1, 3, 2, 7, 5, 6, 7, 4, 0])"
      ]
     },
     "execution_count": 15,
     "metadata": {},
     "output_type": "execute_result"
    }
   ],
   "source": [
    "\n",
    "# Turn the prediction probabilities into prediction labels by taking the argmax()\n",
    "pred_classes = pred_probs.argmax(dim=1)\n",
    "pred_classes\n"
   ]
  },
  {
   "cell_type": "code",
   "execution_count": 16,
   "metadata": {
    "colab": {
     "base_uri": "https://localhost:8080/"
    },
    "executionInfo": {
     "elapsed": 7,
     "status": "ok",
     "timestamp": 1682606812734,
     "user": {
      "displayName": "MAGRO Ubezpieczenia Sp. z o.o.",
      "userId": "05631542033267798363"
     },
     "user_tz": -120
    },
    "id": "6vHQeueEhs59",
    "outputId": "85ff8626-9248-40a1-9db8-c16e803c717b"
   },
   "outputs": [
    {
     "data": {
      "text/plain": [
       "([1, 3, 2, 7, 5, 6, 7, 4, 0], tensor([1, 3, 2, 7, 5, 6, 7, 4, 0]))"
      ]
     },
     "execution_count": 16,
     "metadata": {},
     "output_type": "execute_result"
    }
   ],
   "source": [
    "# Are our predictions in the same form as our test labels? \n",
    "test_labels, pred_classes\n"
   ]
  },
  {
   "cell_type": "code",
   "execution_count": 17,
   "metadata": {
    "colab": {
     "base_uri": "https://localhost:8080/",
     "height": 749
    },
    "executionInfo": {
     "elapsed": 1729,
     "status": "ok",
     "timestamp": 1682606814458,
     "user": {
      "displayName": "MAGRO Ubezpieczenia Sp. z o.o.",
      "userId": "05631542033267798363"
     },
     "user_tz": -120
    },
    "id": "ck1kpC69iH4c",
    "outputId": "fe2869c1-fd96-4697-8327-885571948cae"
   },
   "outputs": [
    {
     "data": {
      "image/png": "[encoded data removed]",
      "text/plain": [
       "<Figure size 900x900 with 9 Axes>"
      ]
     },
     "metadata": {},
     "output_type": "display_data"
    }
   ],
   "source": [
    "# Pot predictions\n",
    "plt.figure(figsize=(9, 9))\n",
    "nrows = 3\n",
    "ncols = 3\n",
    "\n",
    "for i, sample in enumerate(test_samples):\n",
    "  # Create a subplot\n",
    "  plt.subplot(nrows, ncols, i+1)\n",
    "\n",
    "  # Plot the target image\n",
    "  plt.imshow(sample.squeeze(), cmap='gray')\n",
    "\n",
    "  # Find the prediction label (in text form, e.g. \"Two\")\n",
    "  pred_label = class_name[pred_classes[i]]\n",
    "\n",
    "  # Get the truth label (in text form e.g. \"T-shirt\")\n",
    "  truth_label = class_name[test_labels[i]]\n",
    "\n",
    "  # Create the title text of the plot\n",
    "  title_text = f\"Pred: {pred_label} | Truth: {truth_label}\"\n",
    "\n",
    "  # Check for equality and chenge title colour accordingly\n",
    "  if pred_label == truth_label:\n",
    "    plt.title(title_text, fontsize=10, c=\"g\") # green text if correct\n",
    "  else:\n",
    "    plt.title(title_text, fontsize=10, c=\"r\") # red text if wrong\n",
    "  \n",
    "  plt.axis(False);\n",
    "\n"
   ]
  },
  {
   "cell_type": "code",
   "execution_count": 18,
   "metadata": {
    "colab": {
     "base_uri": "https://localhost:8080/",
     "height": 49,
     "referenced_widgets": [
      "08e179ac6d124f83bf51406c2725014f",
      "ca2c7034eae84524b4c5606fc78fb38f",
      "08cfb99fd7e2413eb638ebab4acf83d2",
      "34c0a0f413cb49cb813f3bf4cb23156c",
      "380b4203541642de8b50be1f0bc61f97",
      "510bb64578d544b18b4332643531a269",
      "aca039840cd447f0b300bafa51bc4dd4",
      "bc4e169bafdc4d04bf83e389484d43f2",
      "6d05726635c749b4a7840e2a89f9f774",
      "e2c0b806487142d4b4540af31c9a6956",
      "323d33d06e4d4af887f33d0b2edfb3d0"
     ]
    },
    "executionInfo": {
     "elapsed": 4972,
     "status": "ok",
     "timestamp": 1682606819419,
     "user": {
      "displayName": "MAGRO Ubezpieczenia Sp. z o.o.",
      "userId": "05631542033267798363"
     },
     "user_tz": -120
    },
    "id": "nUlstIpuOyOR",
    "outputId": "ce17e0ea-be5b-44e2-ac3c-07499273d555"
   },
   "outputs": [
    {
     "data": {
      "application/vnd.jupyter.widget-view+json": {
       "model_id": "08e179ac6d124f83bf51406c2725014f",
       "version_major": 2,
       "version_minor": 0
      },
      "text/plain": [
       "Making predictions:   0%|          | 0/313 [00:00<?, ?it/s]"
      ]
     },
     "metadata": {},
     "output_type": "display_data"
    }
   ],
   "source": [
    "from tqdm.auto import tqdm\n",
    "\n",
    "# Make predictions with trained model\n",
    "y_preds = []\n",
    "model_2.eval()\n",
    "\n",
    "with torch.inference_mode():\n",
    "  for X, y in tqdm(test_batch, desc=\"Making predictions\"):\n",
    "    # Send data and targets to target device\n",
    "    X, y = X.to(device), y.to(device)\n",
    "\n",
    "    # Forward pass\n",
    "    y_logit = model_2(X)\n",
    "\n",
    "    # Turn predictions from logits -> prediction probabilities -> prediction labels\n",
    "    y_pred = torch.softmax(y_logit, dim=1).argmax(dim=1)\n",
    "\n",
    "    # Put predictions on CPU for evaluation\n",
    "    y_preds.append(y_pred.cpu())\n",
    "\n",
    "# Concatenate list of predictions into a tensor\n",
    "y_pred_tensor = torch.cat(y_preds)"
   ]
  },
  {
   "cell_type": "code",
   "execution_count": 19,
   "metadata": {
    "colab": {
     "base_uri": "https://localhost:8080/"
    },
    "executionInfo": {
     "elapsed": 7852,
     "status": "ok",
     "timestamp": 1682606827262,
     "user": {
      "displayName": "MAGRO Ubezpieczenia Sp. z o.o.",
      "userId": "05631542033267798363"
     },
     "user_tz": -120
    },
    "id": "ZhHBiFoFhX7n",
    "outputId": "47085122-abb1-4f53-a811-e94711f3039c"
   },
   "outputs": [
    {
     "name": "stdout",
     "output_type": "stream",
     "text": [
      "Looking in indexes: https://pypi.org/simple, https://us-python.pkg.dev/colab-wheels/public/simple/\n",
      "Collecting torchmetrics\n",
      "  Downloading torchmetrics-0.11.4-py3-none-any.whl (519 kB)\n",
      "\u001b[2K     \u001b[90m━━━━━━━━━━━━━━━━━━━━━━━━━━━━━━━━━━━━━━\u001b[0m \u001b[32m519.2/519.2 kB\u001b[0m \u001b[31m13.4 MB/s\u001b[0m eta \u001b[36m0:00:00\u001b[0m\n",
      "\u001b[?25hRequirement already satisfied: mlxtend in /usr/local/lib/python3.9/dist-packages (0.14.0)\n",
      "Collecting mlxtend\n",
      "  Downloading mlxtend-0.22.0-py2.py3-none-any.whl (1.4 MB)\n",
      "\u001b[2K     \u001b[90m━━━━━━━━━━━━━━━━━━━━━━━━━━━━━━━━━━━━━━━━\u001b[0m \u001b[32m1.4/1.4 MB\u001b[0m \u001b[31m59.8 MB/s\u001b[0m eta \u001b[36m0:00:00\u001b[0m\n",
      "\u001b[?25hRequirement already satisfied: numpy>=1.17.2 in /usr/local/lib/python3.9/dist-packages (from torchmetrics) (1.22.4)\n",
      "Requirement already satisfied: torch>=1.8.1 in /usr/local/lib/python3.9/dist-packages (from torchmetrics) (2.0.0+cu118)\n",
      "Requirement already satisfied: packaging in /usr/local/lib/python3.9/dist-packages (from torchmetrics) (23.1)\n",
      "Requirement already satisfied: scikit-learn>=1.0.2 in /usr/local/lib/python3.9/dist-packages (from mlxtend) (1.2.2)\n",
      "Requirement already satisfied: matplotlib>=3.0.0 in /usr/local/lib/python3.9/dist-packages (from mlxtend) (3.7.1)\n",
      "Requirement already satisfied: setuptools in /usr/local/lib/python3.9/dist-packages (from mlxtend) (67.7.2)\n",
      "Requirement already satisfied: joblib>=0.13.2 in /usr/local/lib/python3.9/dist-packages (from mlxtend) (1.2.0)\n",
      "Requirement already satisfied: pandas>=0.24.2 in /usr/local/lib/python3.9/dist-packages (from mlxtend) (1.5.3)\n",
      "Requirement already satisfied: scipy>=1.2.1 in /usr/local/lib/python3.9/dist-packages (from mlxtend) (1.10.1)\n",
      "Requirement already satisfied: kiwisolver>=1.0.1 in /usr/local/lib/python3.9/dist-packages (from matplotlib>=3.0.0->mlxtend) (1.4.4)\n",
      "Requirement already satisfied: pillow>=6.2.0 in /usr/local/lib/python3.9/dist-packages (from matplotlib>=3.0.0->mlxtend) (8.4.0)\n",
      "Requirement already satisfied: pyparsing>=2.3.1 in /usr/local/lib/python3.9/dist-packages (from matplotlib>=3.0.0->mlxtend) (3.0.9)\n",
      "Requirement already satisfied: fonttools>=4.22.0 in /usr/local/lib/python3.9/dist-packages (from matplotlib>=3.0.0->mlxtend) (4.39.3)\n",
      "Requirement already satisfied: python-dateutil>=2.7 in /usr/local/lib/python3.9/dist-packages (from matplotlib>=3.0.0->mlxtend) (2.8.2)\n",
      "Requirement already satisfied: importlib-resources>=3.2.0 in /usr/local/lib/python3.9/dist-packages (from matplotlib>=3.0.0->mlxtend) (5.12.0)\n",
      "Requirement already satisfied: cycler>=0.10 in /usr/local/lib/python3.9/dist-packages (from matplotlib>=3.0.0->mlxtend) (0.11.0)\n",
      "Requirement already satisfied: contourpy>=1.0.1 in /usr/local/lib/python3.9/dist-packages (from matplotlib>=3.0.0->mlxtend) (1.0.7)\n",
      "Requirement already satisfied: pytz>=2020.1 in /usr/local/lib/python3.9/dist-packages (from pandas>=0.24.2->mlxtend) (2022.7.1)\n",
      "Requirement already satisfied: threadpoolctl>=2.0.0 in /usr/local/lib/python3.9/dist-packages (from scikit-learn>=1.0.2->mlxtend) (3.1.0)\n",
      "Requirement already satisfied: jinja2 in /usr/local/lib/python3.9/dist-packages (from torch>=1.8.1->torchmetrics) (3.1.2)\n",
      "Requirement already satisfied: triton==2.0.0 in /usr/local/lib/python3.9/dist-packages (from torch>=1.8.1->torchmetrics) (2.0.0)\n",
      "Requirement already satisfied: sympy in /usr/local/lib/python3.9/dist-packages (from torch>=1.8.1->torchmetrics) (1.11.1)\n",
      "Requirement already satisfied: networkx in /usr/local/lib/python3.9/dist-packages (from torch>=1.8.1->torchmetrics) (3.1)\n",
      "Requirement already satisfied: filelock in /usr/local/lib/python3.9/dist-packages (from torch>=1.8.1->torchmetrics) (3.12.0)\n",
      "Requirement already satisfied: typing-extensions in /usr/local/lib/python3.9/dist-packages (from torch>=1.8.1->torchmetrics) (4.5.0)\n",
      "Requirement already satisfied: cmake in /usr/local/lib/python3.9/dist-packages (from triton==2.0.0->torch>=1.8.1->torchmetrics) (3.25.2)\n",
      "Requirement already satisfied: lit in /usr/local/lib/python3.9/dist-packages (from triton==2.0.0->torch>=1.8.1->torchmetrics) (16.0.2)\n",
      "Requirement already satisfied: zipp>=3.1.0 in /usr/local/lib/python3.9/dist-packages (from importlib-resources>=3.2.0->matplotlib>=3.0.0->mlxtend) (3.15.0)\n",
      "Requirement already satisfied: six>=1.5 in /usr/local/lib/python3.9/dist-packages (from python-dateutil>=2.7->matplotlib>=3.0.0->mlxtend) (1.16.0)\n",
      "Requirement already satisfied: MarkupSafe>=2.0 in /usr/local/lib/python3.9/dist-packages (from jinja2->torch>=1.8.1->torchmetrics) (2.1.2)\n",
      "Requirement already satisfied: mpmath>=0.19 in /usr/local/lib/python3.9/dist-packages (from sympy->torch>=1.8.1->torchmetrics) (1.3.0)\n",
      "Installing collected packages: mlxtend, torchmetrics\n",
      "  Attempting uninstall: mlxtend\n",
      "    Found existing installation: mlxtend 0.14.0\n",
      "    Uninstalling mlxtend-0.14.0:\n",
      "      Successfully uninstalled mlxtend-0.14.0\n",
      "Successfully installed mlxtend-0.22.0 torchmetrics-0.11.4\n",
      "mlxtend version: 0.22.0\n"
     ]
    }
   ],
   "source": [
    "# install packages\n",
    "try:\n",
    "  import torchmetrics, mlxtend\n",
    "  print(f'mlxtend version: {mlxtend.__version__}')\n",
    "  assert int(mlxtend.__version__.split('.')[1]) >= 19, \"mlxtend version should be 0.19.0 or higher\"\n",
    "except:\n",
    "  !pip install torchmetrics -U mlxtend\n",
    "  import torchmetrics, mlxtend\n",
    "  print(f\"mlxtend version: {mlxtend.__version__}\")"
   ]
  },
  {
   "cell_type": "code",
   "execution_count": 20,
   "metadata": {
    "colab": {
     "base_uri": "https://localhost:8080/",
     "height": 660
    },
    "executionInfo": {
     "elapsed": 2632,
     "status": "ok",
     "timestamp": 1682606829887,
     "user": {
      "displayName": "MAGRO Ubezpieczenia Sp. z o.o.",
      "userId": "05631542033267798363"
     },
     "user_tz": -120
    },
    "id": "g2epwhMBiH8X",
    "outputId": "b48f417e-dde6-41a9-f899-8e343b693626"
   },
   "outputs": [
    {
     "data": {
      "image/png": "[encoded data removed]",
      "text/plain": [
       "<Figure size 1000x700 with 1 Axes>"
      ]
     },
     "metadata": {},
     "output_type": "display_data"
    }
   ],
   "source": [
    "import mlxtend\n",
    "from torchmetrics import ConfusionMatrix\n",
    "from mlxtend.plotting import plot_confusion_matrix\n",
    "\n",
    "# Setup confusion matrix instance and compare predictions to targets\n",
    "confmat = ConfusionMatrix(num_classes=len(class_name), task='multiclass')\n",
    "confmat_tensor = confmat(preds=y_pred_tensor,\n",
    "                         target=test_dataset.targets)\n",
    "\n",
    "# Plot the confusion matrix\n",
    "fig, ax = plot_confusion_matrix(\n",
    "    conf_mat=confmat_tensor.numpy(), # matplotlib likes working with numpy\n",
    "    class_names=class_name,\n",
    "    figsize=(10, 7)\n",
    ")"
   ]
  },
  {
   "cell_type": "markdown",
   "metadata": {
    "id": "RJREqw4cORNj"
   },
   "source": [
    "\n",
    "12. Create a random tensor of shape [1, 3, 64, 64] and pass it through a nn.Conv2d() layer with various hyperparameter settings (these can be any settings you choose), what do you notice if the kernel_size parameter goes up and down?"
   ]
  },
  {
   "cell_type": "code",
   "execution_count": 24,
   "metadata": {
    "colab": {
     "base_uri": "https://localhost:8080/"
    },
    "executionInfo": {
     "elapsed": 4,
     "status": "ok",
     "timestamp": 1682608181529,
     "user": {
      "displayName": "MAGRO Ubezpieczenia Sp. z o.o.",
      "userId": "05631542033267798363"
     },
     "user_tz": -120
    },
    "id": "FJKFFaZ2iIDt",
    "outputId": "f7b377ae-45e8-426b-aae7-4df7a939092d"
   },
   "outputs": [
    {
     "data": {
      "text/plain": [
       "tensor([[[[0.6429, 0.7708, 0.5860,  ..., 0.6084, 0.4709, 0.7639],\n",
       "          [0.9142, 0.7464, 0.0988,  ..., 0.8037, 0.2194, 0.8018],\n",
       "          [0.8832, 0.6134, 0.8766,  ..., 0.5332, 0.5766, 0.2763],\n",
       "          ...,\n",
       "          [0.0300, 0.9399, 0.0341,  ..., 0.3768, 0.0712, 0.4601],\n",
       "          [0.8781, 0.7127, 0.3247,  ..., 0.2819, 0.9821, 0.5455],\n",
       "          [0.0289, 0.8532, 0.5064,  ..., 0.4871, 0.6780, 0.9875]],\n",
       "\n",
       "         [[0.3881, 0.3824, 0.9321,  ..., 0.7903, 0.3832, 0.0856],\n",
       "          [0.3908, 0.2665, 0.0283,  ..., 0.6619, 0.5040, 0.8543],\n",
       "          [0.1640, 0.4911, 0.0854,  ..., 0.9003, 0.5369, 0.6411],\n",
       "          ...,\n",
       "          [0.1244, 0.9454, 0.7007,  ..., 0.3224, 0.8962, 0.2316],\n",
       "          [0.8152, 0.7513, 0.2620,  ..., 0.8674, 0.4415, 0.4627],\n",
       "          [0.0115, 0.2047, 0.7969,  ..., 0.5134, 0.4093, 0.1899]],\n",
       "\n",
       "         [[0.0154, 0.2712, 0.9032,  ..., 0.4169, 0.5814, 0.8398],\n",
       "          [0.3650, 0.4380, 0.6917,  ..., 0.8587, 0.2894, 0.6609],\n",
       "          [0.7722, 0.9334, 0.8887,  ..., 0.5737, 0.7871, 0.0058],\n",
       "          ...,\n",
       "          [0.0333, 0.8715, 0.1990,  ..., 0.1047, 0.7827, 0.6497],\n",
       "          [0.9392, 0.8032, 0.0664,  ..., 0.5370, 0.0160, 0.5465],\n",
       "          [0.5791, 0.7831, 0.3422,  ..., 0.4418, 0.8092, 0.2720]]]])"
      ]
     },
     "execution_count": 24,
     "metadata": {},
     "output_type": "execute_result"
    }
   ],
   "source": [
    "rand_tens_2d = torch.rand([1, 3, 64, 64])\n",
    "\n",
    "rand_tens_2d"
   ]
  },
  {
   "cell_type": "code",
   "execution_count": 70,
   "metadata": {
    "colab": {
     "base_uri": "https://localhost:8080/"
    },
    "executionInfo": {
     "elapsed": 244,
     "status": "ok",
     "timestamp": 1682609563489,
     "user": {
      "displayName": "MAGRO Ubezpieczenia Sp. z o.o.",
      "userId": "05631542033267798363"
     },
     "user_tz": -120
    },
    "id": "tl-DRCgdiIHO",
    "outputId": "2b6f9492-8761-4c38-e393-2ed35813837f"
   },
   "outputs": [
    {
     "data": {
      "text/plain": [
       "Conv2d(3, 10, kernel_size=(1, 1), stride=(1, 1))"
      ]
     },
     "execution_count": 70,
     "metadata": {},
     "output_type": "execute_result"
    }
   ],
   "source": [
    "layer_2d = nn.Conv2d(in_channels=3, out_channels=10, kernel_size=1)\n",
    "\n",
    "layer_2d"
   ]
  },
  {
   "cell_type": "code",
   "execution_count": 71,
   "metadata": {
    "colab": {
     "base_uri": "https://localhost:8080/"
    },
    "executionInfo": {
     "elapsed": 3,
     "status": "ok",
     "timestamp": 1682609565434,
     "user": {
      "displayName": "MAGRO Ubezpieczenia Sp. z o.o.",
      "userId": "05631542033267798363"
     },
     "user_tz": -120
    },
    "id": "-iqtw8FkRfS8",
    "outputId": "39283f5f-8128-40cb-e102-4ba15920964f"
   },
   "outputs": [
    {
     "data": {
      "text/plain": [
       "tensor([[[[ 0.9070,  0.8421,  0.4894,  ...,  0.7306,  0.5340,  0.5196],\n",
       "          [ 0.8682,  0.7331,  0.2518,  ...,  0.5926,  0.5672,  0.7123],\n",
       "          [ 0.6225,  0.4402,  0.5519,  ...,  0.6254,  0.5004,  0.7539],\n",
       "          ...,\n",
       "          [ 0.5595,  0.6858,  0.5404,  ...,  0.7203,  0.2860,  0.4777],\n",
       "          [ 0.6063,  0.5843,  0.7067,  ...,  0.5133,  1.0840,  0.5980],\n",
       "          [ 0.2714,  0.6063,  0.7175,  ...,  0.6267,  0.5267,  0.9304]],\n",
       "\n",
       "         [[ 0.1444,  0.1934,  0.0434,  ...,  0.0756,  0.0700,  0.2216],\n",
       "          [ 0.2486,  0.1964, -0.0353,  ...,  0.1649, -0.0424,  0.1422],\n",
       "          [ 0.2601,  0.1094,  0.2661,  ...,  0.0300,  0.0906, -0.0337],\n",
       "          ...,\n",
       "          [-0.0676,  0.1835, -0.1401,  ...,  0.0454, -0.1564,  0.0840],\n",
       "          [ 0.1745,  0.1179,  0.0326,  ..., -0.0658,  0.2733,  0.0902],\n",
       "          [-0.0599,  0.2429,  0.0349,  ...,  0.0617,  0.1469,  0.3042]],\n",
       "\n",
       "         [[ 0.1981, -0.0046, -0.1700,  ...,  0.0639, -0.0365, -0.3704],\n",
       "          [-0.1222, -0.1067,  0.0121,  ..., -0.2957,  0.2648, -0.1504],\n",
       "          [-0.3745, -0.2790, -0.4502,  ...,  0.0318, -0.1724,  0.4203],\n",
       "          ...,\n",
       "          [ 0.4270, -0.3153,  0.4369,  ...,  0.2611,  0.1309, -0.0967],\n",
       "          [-0.3475, -0.2063,  0.2957,  ...,  0.1636,  0.0489, -0.0377],\n",
       "          [ 0.1043, -0.3592,  0.1542,  ...,  0.0568, -0.2550, -0.1409]],\n",
       "\n",
       "         ...,\n",
       "\n",
       "         [[ 0.6359,  0.6918,  0.6529,  ...,  0.6555,  0.5471,  0.6505],\n",
       "          [ 0.7586,  0.6662,  0.3348,  ...,  0.7279,  0.4455,  0.7494],\n",
       "          [ 0.7153,  0.6201,  0.7026,  ...,  0.6293,  0.6096,  0.4901],\n",
       "          ...,\n",
       "          [ 0.3213,  0.8206,  0.3801,  ...,  0.5032,  0.4096,  0.5256],\n",
       "          [ 0.7774,  0.6951,  0.4731,  ...,  0.5087,  0.8003,  0.5907],\n",
       "          [ 0.3019,  0.7053,  0.6094,  ...,  0.5699,  0.6438,  0.7736]],\n",
       "\n",
       "         [[ 0.3488,  0.4863,  0.6268,  ...,  0.4527,  0.5353,  0.7527],\n",
       "          [ 0.5601,  0.5623,  0.5292,  ...,  0.6984,  0.3371,  0.5935],\n",
       "          [ 0.7460,  0.7013,  0.8015,  ...,  0.4834,  0.6267,  0.2192],\n",
       "          ...,\n",
       "          [ 0.2320,  0.7030,  0.2282,  ...,  0.3251,  0.4504,  0.5793],\n",
       "          [ 0.7310,  0.6413,  0.3038,  ...,  0.4082,  0.4294,  0.5303],\n",
       "          [ 0.4676,  0.7376,  0.3954,  ...,  0.4665,  0.6777,  0.5662]],\n",
       "\n",
       "         [[-0.2795, -0.1926, -0.0156,  ..., -0.2311,  0.1210,  0.2727],\n",
       "          [-0.2107, -0.0318,  0.5267,  ..., -0.0121,  0.0159, -0.2148],\n",
       "          [ 0.1416,  0.2006,  0.2479,  ..., -0.1609,  0.1134, -0.2358],\n",
       "          ...,\n",
       "          [ 0.1425, -0.2045, -0.0432,  ..., -0.0739,  0.1735,  0.2372],\n",
       "          [-0.0751, -0.0439, -0.0422,  ..., -0.0487, -0.4627,  0.0284],\n",
       "          [ 0.5040,  0.1421, -0.2288,  ..., -0.0276,  0.1400, -0.2005]]]],\n",
       "       grad_fn=<ConvolutionBackward0>)"
      ]
     },
     "execution_count": 71,
     "metadata": {},
     "output_type": "execute_result"
    }
   ],
   "source": [
    "through_2d_layer = layer_2d(rand_tens_2d)\n",
    "\n",
    "through_2d_layer"
   ]
  },
  {
   "cell_type": "code",
   "execution_count": null,
   "metadata": {
    "id": "TAQ8CqnHRfsO"
   },
   "outputs": [],
   "source": []
  },
  {
   "cell_type": "code",
   "execution_count": null,
   "metadata": {
    "id": "tSOBqaBeRfu4"
   },
   "outputs": [],
   "source": []
  },
  {
   "cell_type": "code",
   "execution_count": null,
   "metadata": {
    "id": "3ltZIwrFRfxm"
   },
   "outputs": [],
   "source": []
  },
  {
   "cell_type": "code",
   "execution_count": null,
   "metadata": {
    "id": "nD38f2CaRf0X"
   },
   "outputs": [],
   "source": []
  }
 ],
 "metadata": {
  "accelerator": "GPU",
  "colab": {
   "authorship_tag": "ABX9TyPa8+Brsbiavj3AmJ4AfcHJ",
   "provenance": []
  },
  "gpuClass": "standard",
  "kernelspec": {
   "display_name": "Python 3 (ipykernel)",
   "language": "python",
   "name": "python3"
  },
  "language_info": {
   "codemirror_mode": {
    "name": "ipython",
    "version": 3
   },
   "file_extension": ".py",
   "mimetype": "text/x-python",
   "name": "python",
   "nbconvert_exporter": "python",
   "pygments_lexer": "ipython3",
   "version": "3.11.6"
  },
  "widgets": {
   "application/vnd.jupyter.widget-state+json": {
    "08cfb99fd7e2413eb638ebab4acf83d2": {
     "model_module": "@jupyter-widgets/controls",
     "model_module_version": "1.5.0",
     "model_name": "FloatProgressModel",
     "state": {
      "_dom_classes": [],
      "_model_module": "@jupyter-widgets/controls",
      "_model_module_version": "1.5.0",
      "_model_name": "FloatProgressModel",
      "_view_count": null,
      "_view_module": "@jupyter-widgets/controls",
      "_view_module_version": "1.5.0",
      "_view_name": "ProgressView",
      "bar_style": "success",
      "description": "",
      "description_tooltip": null,
      "layout": "IPY_MODEL_bc4e169bafdc4d04bf83e389484d43f2",
      "max": 313,
      "min": 0,
      "orientation": "horizontal",
      "style": "IPY_MODEL_6d05726635c749b4a7840e2a89f9f774",
      "value": 313
     }
    },
    "08e179ac6d124f83bf51406c2725014f": {
     "model_module": "@jupyter-widgets/controls",
     "model_module_version": "1.5.0",
     "model_name": "HBoxModel",
     "state": {
      "_dom_classes": [],
      "_model_module": "@jupyter-widgets/controls",
      "_model_module_version": "1.5.0",
      "_model_name": "HBoxModel",
      "_view_count": null,
      "_view_module": "@jupyter-widgets/controls",
      "_view_module_version": "1.5.0",
      "_view_name": "HBoxView",
      "box_style": "",
      "children": [
       "IPY_MODEL_ca2c7034eae84524b4c5606fc78fb38f",
       "IPY_MODEL_08cfb99fd7e2413eb638ebab4acf83d2",
       "IPY_MODEL_34c0a0f413cb49cb813f3bf4cb23156c"
      ],
      "layout": "IPY_MODEL_380b4203541642de8b50be1f0bc61f97"
     }
    },
    "323d33d06e4d4af887f33d0b2edfb3d0": {
     "model_module": "@jupyter-widgets/controls",
     "model_module_version": "1.5.0",
     "model_name": "DescriptionStyleModel",
     "state": {
      "_model_module": "@jupyter-widgets/controls",
      "_model_module_version": "1.5.0",
      "_model_name": "DescriptionStyleModel",
      "_view_count": null,
      "_view_module": "@jupyter-widgets/base",
      "_view_module_version": "1.2.0",
      "_view_name": "StyleView",
      "description_width": ""
     }
    },
    "34c0a0f413cb49cb813f3bf4cb23156c": {
     "model_module": "@jupyter-widgets/controls",
     "model_module_version": "1.5.0",
     "model_name": "HTMLModel",
     "state": {
      "_dom_classes": [],
      "_model_module": "@jupyter-widgets/controls",
      "_model_module_version": "1.5.0",
      "_model_name": "HTMLModel",
      "_view_count": null,
      "_view_module": "@jupyter-widgets/controls",
      "_view_module_version": "1.5.0",
      "_view_name": "HTMLView",
      "description": "",
      "description_tooltip": null,
      "layout": "IPY_MODEL_e2c0b806487142d4b4540af31c9a6956",
      "placeholder": "​",
      "style": "IPY_MODEL_323d33d06e4d4af887f33d0b2edfb3d0",
      "value": " 313/313 [00:05&lt;00:00, 48.86it/s]"
     }
    },
    "380b4203541642de8b50be1f0bc61f97": {
     "model_module": "@jupyter-widgets/base",
     "model_module_version": "1.2.0",
     "model_name": "LayoutModel",
     "state": {
      "_model_module": "@jupyter-widgets/base",
      "_model_module_version": "1.2.0",
      "_model_name": "LayoutModel",
      "_view_count": null,
      "_view_module": "@jupyter-widgets/base",
      "_view_module_version": "1.2.0",
      "_view_name": "LayoutView",
      "align_content": null,
      "align_items": null,
      "align_self": null,
      "border": null,
      "bottom": null,
      "display": null,
      "flex": null,
      "flex_flow": null,
      "grid_area": null,
      "grid_auto_columns": null,
      "grid_auto_flow": null,
      "grid_auto_rows": null,
      "grid_column": null,
      "grid_gap": null,
      "grid_row": null,
      "grid_template_areas": null,
      "grid_template_columns": null,
      "grid_template_rows": null,
      "height": null,
      "justify_content": null,
      "justify_items": null,
      "left": null,
      "margin": null,
      "max_height": null,
      "max_width": null,
      "min_height": null,
      "min_width": null,
      "object_fit": null,
      "object_position": null,
      "order": null,
      "overflow": null,
      "overflow_x": null,
      "overflow_y": null,
      "padding": null,
      "right": null,
      "top": null,
      "visibility": null,
      "width": null
     }
    },
    "510bb64578d544b18b4332643531a269": {
     "model_module": "@jupyter-widgets/base",
     "model_module_version": "1.2.0",
     "model_name": "LayoutModel",
     "state": {
      "_model_module": "@jupyter-widgets/base",
      "_model_module_version": "1.2.0",
      "_model_name": "LayoutModel",
      "_view_count": null,
      "_view_module": "@jupyter-widgets/base",
      "_view_module_version": "1.2.0",
      "_view_name": "LayoutView",
      "align_content": null,
      "align_items": null,
      "align_self": null,
      "border": null,
      "bottom": null,
      "display": null,
      "flex": null,
      "flex_flow": null,
      "grid_area": null,
      "grid_auto_columns": null,
      "grid_auto_flow": null,
      "grid_auto_rows": null,
      "grid_column": null,
      "grid_gap": null,
      "grid_row": null,
      "grid_template_areas": null,
      "grid_template_columns": null,
      "grid_template_rows": null,
      "height": null,
      "justify_content": null,
      "justify_items": null,
      "left": null,
      "margin": null,
      "max_height": null,
      "max_width": null,
      "min_height": null,
      "min_width": null,
      "object_fit": null,
      "object_position": null,
      "order": null,
      "overflow": null,
      "overflow_x": null,
      "overflow_y": null,
      "padding": null,
      "right": null,
      "top": null,
      "visibility": null,
      "width": null
     }
    },
    "6d05726635c749b4a7840e2a89f9f774": {
     "model_module": "@jupyter-widgets/controls",
     "model_module_version": "1.5.0",
     "model_name": "ProgressStyleModel",
     "state": {
      "_model_module": "@jupyter-widgets/controls",
      "_model_module_version": "1.5.0",
      "_model_name": "ProgressStyleModel",
      "_view_count": null,
      "_view_module": "@jupyter-widgets/base",
      "_view_module_version": "1.2.0",
      "_view_name": "StyleView",
      "bar_color": null,
      "description_width": ""
     }
    },
    "aca039840cd447f0b300bafa51bc4dd4": {
     "model_module": "@jupyter-widgets/controls",
     "model_module_version": "1.5.0",
     "model_name": "DescriptionStyleModel",
     "state": {
      "_model_module": "@jupyter-widgets/controls",
      "_model_module_version": "1.5.0",
      "_model_name": "DescriptionStyleModel",
      "_view_count": null,
      "_view_module": "@jupyter-widgets/base",
      "_view_module_version": "1.2.0",
      "_view_name": "StyleView",
      "description_width": ""
     }
    },
    "bc4e169bafdc4d04bf83e389484d43f2": {
     "model_module": "@jupyter-widgets/base",
     "model_module_version": "1.2.0",
     "model_name": "LayoutModel",
     "state": {
      "_model_module": "@jupyter-widgets/base",
      "_model_module_version": "1.2.0",
      "_model_name": "LayoutModel",
      "_view_count": null,
      "_view_module": "@jupyter-widgets/base",
      "_view_module_version": "1.2.0",
      "_view_name": "LayoutView",
      "align_content": null,
      "align_items": null,
      "align_self": null,
      "border": null,
      "bottom": null,
      "display": null,
      "flex": null,
      "flex_flow": null,
      "grid_area": null,
      "grid_auto_columns": null,
      "grid_auto_flow": null,
      "grid_auto_rows": null,
      "grid_column": null,
      "grid_gap": null,
      "grid_row": null,
      "grid_template_areas": null,
      "grid_template_columns": null,
      "grid_template_rows": null,
      "height": null,
      "justify_content": null,
      "justify_items": null,
      "left": null,
      "margin": null,
      "max_height": null,
      "max_width": null,
      "min_height": null,
      "min_width": null,
      "object_fit": null,
      "object_position": null,
      "order": null,
      "overflow": null,
      "overflow_x": null,
      "overflow_y": null,
      "padding": null,
      "right": null,
      "top": null,
      "visibility": null,
      "width": null
     }
    },
    "ca2c7034eae84524b4c5606fc78fb38f": {
     "model_module": "@jupyter-widgets/controls",
     "model_module_version": "1.5.0",
     "model_name": "HTMLModel",
     "state": {
      "_dom_classes": [],
      "_model_module": "@jupyter-widgets/controls",
      "_model_module_version": "1.5.0",
      "_model_name": "HTMLModel",
      "_view_count": null,
      "_view_module": "@jupyter-widgets/controls",
      "_view_module_version": "1.5.0",
      "_view_name": "HTMLView",
      "description": "",
      "description_tooltip": null,
      "layout": "IPY_MODEL_510bb64578d544b18b4332643531a269",
      "placeholder": "​",
      "style": "IPY_MODEL_aca039840cd447f0b300bafa51bc4dd4",
      "value": "Making predictions: 100%"
     }
    },
    "e2c0b806487142d4b4540af31c9a6956": {
     "model_module": "@jupyter-widgets/base",
     "model_module_version": "1.2.0",
     "model_name": "LayoutModel",
     "state": {
      "_model_module": "@jupyter-widgets/base",
      "_model_module_version": "1.2.0",
      "_model_name": "LayoutModel",
      "_view_count": null,
      "_view_module": "@jupyter-widgets/base",
      "_view_module_version": "1.2.0",
      "_view_name": "LayoutView",
      "align_content": null,
      "align_items": null,
      "align_self": null,
      "border": null,
      "bottom": null,
      "display": null,
      "flex": null,
      "flex_flow": null,
      "grid_area": null,
      "grid_auto_columns": null,
      "grid_auto_flow": null,
      "grid_auto_rows": null,
      "grid_column": null,
      "grid_gap": null,
      "grid_row": null,
      "grid_template_areas": null,
      "grid_template_columns": null,
      "grid_template_rows": null,
      "height": null,
      "justify_content": null,
      "justify_items": null,
      "left": null,
      "margin": null,
      "max_height": null,
      "max_width": null,
      "min_height": null,
      "min_width": null,
      "object_fit": null,
      "object_position": null,
      "order": null,
      "overflow": null,
      "overflow_x": null,
      "overflow_y": null,
      "padding": null,
      "right": null,
      "top": null,
      "visibility": null,
      "width": null
     }
    }
   }
  }
 },
 "nbformat": 4,
 "nbformat_minor": 4
}
