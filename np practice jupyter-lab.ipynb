{
 "cells": [
  {
   "cell_type": "markdown",
   "id": "adopted-mattress",
   "metadata": {},
   "source": [
    "## np practice jupyter-lab"
   ]
  },
  {
   "cell_type": "code",
   "execution_count": 1,
   "id": "impossible-trigger",
   "metadata": {},
   "outputs": [],
   "source": [
    "import numpy as np\n",
    "from fractions import Fraction"
   ]
  },
  {
   "cell_type": "markdown",
   "id": "southern-commonwealth",
   "metadata": {},
   "source": []
  },
  {
   "cell_type": "code",
   "execution_count": 20,
   "id": "plastic-tourism",
   "metadata": {},
   "outputs": [
    {
     "name": "stdout",
     "output_type": "stream",
     "text": [
      "[Fraction(2, 3) Fraction(-12, 5) Fraction(-4, 3)]\n"
     ]
    }
   ],
   "source": [
    "dzielenie = np.divide([Fraction(-16, 1), -Fraction(12, 1), Fraction(3 - 7, 1)], [Fraction(-24, 1), 5, -5 + 8])\n",
    "dzielenie\n",
    "print(dzielenie)"
   ]
  },
  {
   "cell_type": "code",
   "execution_count": 23,
   "id": "excessive-bargain",
   "metadata": {},
   "outputs": [
    {
     "data": {
      "text/plain": [
       "array([-7, 3, Fraction(1, 5), Fraction(-5, 3), 0.8, -4.5, 0.25],\n",
       "      dtype=object)"
      ]
     },
     "execution_count": 23,
     "metadata": {},
     "output_type": "execute_result"
    }
   ],
   "source": [
    "lista = np.array([7, -3, -Fraction(1, 5), 1 + Fraction(2, 3), -.8, float(4 + Fraction(1, 2)), -.25])\n",
    "l_odwrotna = np.multiply(lista, -1)\n",
    "l_odwrotna"
   ]
  },
  {
   "cell_type": "markdown",
   "id": "worse-scale",
   "metadata": {},
   "source": []
  },
  {
   "cell_type": "markdown",
   "id": "contained-preservation",
   "metadata": {},
   "source": [
    "'Jaką liczbą jest iloraz.'"
   ]
  },
  {
   "cell_type": "markdown",
   "id": "brave-fortune",
   "metadata": {},
   "source": [
    "a"
   ]
  },
  {
   "cell_type": "code",
   "execution_count": 36,
   "id": "controversial-camel",
   "metadata": {},
   "outputs": [
    {
     "data": {
      "text/plain": [
       "array([7.0, Fraction(-15, 14), -0.0, -7.0], dtype=object)"
      ]
     },
     "execution_count": 36,
     "metadata": {},
     "output_type": "execute_result"
    }
   ],
   "source": [
    "iloraz = np.divide([-14, -7 - Fraction(1, 2), 0, 14], [-2, 7, -12, -2])\n",
    "iloraz"
   ]
  },
  {
   "cell_type": "code",
   "execution_count": 38,
   "id": "banner-maryland",
   "metadata": {},
   "outputs": [
    {
     "data": {
      "text/plain": [
       "array([7.0], dtype=object)"
      ]
     },
     "execution_count": 38,
     "metadata": {},
     "output_type": "execute_result"
    }
   ],
   "source": [
    "iloraz[iloraz > 0]"
   ]
  },
  {
   "cell_type": "code",
   "execution_count": 39,
   "id": "cheap-pennsylvania",
   "metadata": {},
   "outputs": [
    {
     "data": {
      "text/plain": [
       "array([Fraction(-15, 14), -7.0], dtype=object)"
      ]
     },
     "execution_count": 39,
     "metadata": {},
     "output_type": "execute_result"
    }
   ],
   "source": [
    "iloraz[iloraz < 0]"
   ]
  },
  {
   "cell_type": "code",
   "execution_count": 40,
   "id": "natural-crash",
   "metadata": {},
   "outputs": [
    {
     "data": {
      "text/plain": [
       "array([-0.0], dtype=object)"
      ]
     },
     "execution_count": 40,
     "metadata": {},
     "output_type": "execute_result"
    }
   ],
   "source": [
    "iloraz[iloraz == 0]"
   ]
  },
  {
   "cell_type": "markdown",
   "id": "institutional-palestinian",
   "metadata": {},
   "source": [
    "b"
   ]
  },
  {
   "cell_type": "code",
   "execution_count": 41,
   "id": "random-edgar",
   "metadata": {},
   "outputs": [
    {
     "data": {
      "text/plain": [
       "array([-7. ,  0.6,  1.7, -0. ])"
      ]
     },
     "execution_count": 41,
     "metadata": {},
     "output_type": "execute_result"
    }
   ],
   "source": [
    "iloraz2 = np.divide([-2.1, -4.2, 4.25, -0], [.3, -7, 2.5, -10])\n",
    "iloraz2"
   ]
  },
  {
   "cell_type": "code",
   "execution_count": 42,
   "id": "dense-dover",
   "metadata": {},
   "outputs": [
    {
     "data": {
      "text/plain": [
       "array([0.6, 1.7])"
      ]
     },
     "execution_count": 42,
     "metadata": {},
     "output_type": "execute_result"
    }
   ],
   "source": [
    "iloraz2[iloraz2 > 0]"
   ]
  },
  {
   "cell_type": "code",
   "execution_count": 43,
   "id": "right-switzerland",
   "metadata": {},
   "outputs": [
    {
     "data": {
      "text/plain": [
       "array([-7.])"
      ]
     },
     "execution_count": 43,
     "metadata": {},
     "output_type": "execute_result"
    }
   ],
   "source": [
    "iloraz2[iloraz2 < 0]"
   ]
  },
  {
   "cell_type": "code",
   "execution_count": 44,
   "id": "improving-medicare",
   "metadata": {},
   "outputs": [
    {
     "data": {
      "text/plain": [
       "array([-0.])"
      ]
     },
     "execution_count": 44,
     "metadata": {},
     "output_type": "execute_result"
    }
   ],
   "source": [
    "iloraz2[iloraz2 == 0]"
   ]
  },
  {
   "cell_type": "markdown",
   "id": "single-evolution",
   "metadata": {},
   "source": [
    "Zadanie 4.7"
   ]
  },
  {
   "cell_type": "code",
   "execution_count": 43,
   "id": "aquatic-sellers",
   "metadata": {},
   "outputs": [],
   "source": [
    "a = np.array([[Fraction(-3, 4), Fraction(-15, 28), Fraction(21, 40), Fraction(-7, 15)], [Fraction(-5, 8), Fraction(9, 14), Fraction(-63, 80), Fraction(-7, 20)]])"
   ]
  },
  {
   "cell_type": "code",
   "execution_count": 44,
   "id": "timely-travel",
   "metadata": {},
   "outputs": [
    {
     "data": {
      "text/plain": [
       "array([Fraction(6, 5), Fraction(-5, 6), Fraction(-2, 3), Fraction(4, 3)],\n",
       "      dtype=object)"
      ]
     },
     "execution_count": 44,
     "metadata": {},
     "output_type": "execute_result"
    }
   ],
   "source": [
    "a_div = np.divide(a[0], a[1])\n",
    "a_div"
   ]
  },
  {
   "cell_type": "code",
   "execution_count": 52,
   "id": "micro-violin",
   "metadata": {},
   "outputs": [
    {
     "data": {
      "text/plain": [
       "array([Fraction(-3, 4), Fraction(-15, 28), Fraction(21, 40),\n",
       "       Fraction(-7, 15)], dtype=object)"
      ]
     },
     "execution_count": 52,
     "metadata": {},
     "output_type": "execute_result"
    }
   ],
   "source": [
    "a_check = np.multiply(a[1], a_div)\n",
    "a_check"
   ]
  },
  {
   "cell_type": "code",
   "execution_count": 55,
   "id": "sound-abuse",
   "metadata": {},
   "outputs": [
    {
     "data": {
      "text/plain": [
       "array([[-36, Fraction(-10, 3), Fraction(38, 7), Fraction(-77, 8)],\n",
       "       [-9, Fraction(-20, 9), Fraction(-8, 3), Fraction(-11, 4)]],\n",
       "      dtype=object)"
      ]
     },
     "execution_count": 55,
     "metadata": {},
     "output_type": "execute_result"
    }
   ],
   "source": [
    "b = np.array([[-36, -3 - Fraction(1, 3), 5 + Fraction(3, 7), -9 - Fraction(5, 8)], [-9, -2 - Fraction(2, 9), -2  - Fraction(2, 3), -2 + Fraction(-3, 4)]])\n",
    "b"
   ]
  },
  {
   "cell_type": "code",
   "execution_count": 57,
   "id": "copyrighted-tobacco",
   "metadata": {},
   "outputs": [
    {
     "data": {
      "text/plain": [
       "array([4.0, Fraction(3, 2), Fraction(-57, 28), Fraction(7, 2)],\n",
       "      dtype=object)"
      ]
     },
     "execution_count": 57,
     "metadata": {},
     "output_type": "execute_result"
    }
   ],
   "source": [
    "b_div = np.divide(b[0], b[1])\n",
    "b_div"
   ]
  },
  {
   "cell_type": "code",
   "execution_count": 64,
   "id": "cardiovascular-merchandise",
   "metadata": {},
   "outputs": [
    {
     "data": {
      "text/plain": [
       "array([-36.        ,  -3.33333333,   5.42857143,  -9.625     ])"
      ]
     },
     "execution_count": 64,
     "metadata": {},
     "output_type": "execute_result"
    }
   ],
   "source": [
    "b_check = np.multiply(b_div, b[1])\n",
    "b_check.astype(float)"
   ]
  },
  {
   "cell_type": "code",
   "execution_count": 66,
   "id": "palestinian-roads",
   "metadata": {},
   "outputs": [
    {
     "data": {
      "text/plain": [
       "array([[-4.2, Fraction(-27, 8), -2.4, Fraction(-15, 4)],\n",
       "       [0.6, 0.9, -0.24, 2.5]], dtype=object)"
      ]
     },
     "execution_count": 66,
     "metadata": {},
     "output_type": "execute_result"
    }
   ],
   "source": [
    "c = np.array([[-4.2, -3 - Fraction(3, 8), -2.4, -3 - Fraction(3, 4)], [.6, .9, -.24, 2.5]])\n",
    "c"
   ]
  },
  {
   "cell_type": "code",
   "execution_count": 68,
   "id": "broken-financing",
   "metadata": {},
   "outputs": [
    {
     "data": {
      "text/plain": [
       "array([-7.000000000000001, -3.75, 10.0, -1.5], dtype=object)"
      ]
     },
     "execution_count": 68,
     "metadata": {},
     "output_type": "execute_result"
    }
   ],
   "source": [
    "c_div = np.divide(c[0], c[1])\n",
    "c_div"
   ]
  },
  {
   "cell_type": "code",
   "execution_count": 73,
   "id": "boring-weight",
   "metadata": {},
   "outputs": [
    {
     "data": {
      "text/plain": [
       "array([-4.2  , -3.375, -2.4  , -3.75 ])"
      ]
     },
     "execution_count": 73,
     "metadata": {},
     "output_type": "execute_result"
    }
   ],
   "source": [
    "c_check = np.multiply(c_div, c[1])\n",
    "c_check.astype(float)"
   ]
  },
  {
   "cell_type": "markdown",
   "id": "oriental-india",
   "metadata": {},
   "source": [
    "Zadanie 7.5"
   ]
  },
  {
   "cell_type": "code",
   "execution_count": 130,
   "id": "subjective-sugar",
   "metadata": {},
   "outputs": [
    {
     "data": {
      "text/plain": [
       "Fraction(-5, 9)"
      ]
     },
     "execution_count": 130,
     "metadata": {},
     "output_type": "execute_result"
    }
   ],
   "source": [
    "a = np.array([-2 - Fraction(2, 3)])\n",
    "x = np.divide(a[0], 4.8)\n",
    "x = Fraction(x)\n",
    "x.limit_denominator()"
   ]
  },
  {
   "cell_type": "code",
   "execution_count": 135,
   "id": "parental-mentor",
   "metadata": {},
   "outputs": [
    {
     "data": {
      "text/plain": [
       "4.8"
      ]
     },
     "execution_count": 135,
     "metadata": {},
     "output_type": "execute_result"
    }
   ],
   "source": [
    "a_check = np.divide(a[0], x)\n",
    "float(a_check.limit_denominator())"
   ]
  },
  {
   "cell_type": "markdown",
   "id": "raising-possibility",
   "metadata": {},
   "source": [
    "b)"
   ]
  },
  {
   "cell_type": "code",
   "execution_count": 15,
   "id": "endangered-elements",
   "metadata": {},
   "outputs": [
    {
     "data": {
      "text/plain": [
       "-2.6666666666666665"
      ]
     },
     "execution_count": 15,
     "metadata": {},
     "output_type": "execute_result"
    }
   ],
   "source": [
    "b = np.divide(5 + Fraction(3, 7), -2 - Fraction(1, 28))\n",
    "float(b)"
   ]
  },
  {
   "cell_type": "code",
   "execution_count": 142,
   "id": "informed-estate",
   "metadata": {},
   "outputs": [
    {
     "data": {
      "text/plain": [
       "-2.0357142857142856"
      ]
     },
     "execution_count": 142,
     "metadata": {},
     "output_type": "execute_result"
    }
   ],
   "source": [
    "b_check = np.divide(5 + Fraction(3, 7), b)\n",
    "float(b_check)"
   ]
  },
  {
   "cell_type": "markdown",
   "id": "instructional-anchor",
   "metadata": {},
   "source": [
    "c)"
   ]
  },
  {
   "cell_type": "code",
   "execution_count": 152,
   "id": "concrete-rocket",
   "metadata": {},
   "outputs": [
    {
     "data": {
      "text/plain": [
       "-2.75"
      ]
     },
     "execution_count": 152,
     "metadata": {},
     "output_type": "execute_result"
    }
   ],
   "source": [
    "c = np.prod([-1.1, 2 + Fraction(1, 2)])\n",
    "c"
   ]
  },
  {
   "cell_type": "code",
   "execution_count": 153,
   "id": "temporal-overall",
   "metadata": {},
   "outputs": [
    {
     "data": {
      "text/plain": [
       "2.5"
      ]
     },
     "execution_count": 153,
     "metadata": {},
     "output_type": "execute_result"
    }
   ],
   "source": [
    "c_check = np.divide(c, -1.1)\n",
    "c_check"
   ]
  },
  {
   "cell_type": "markdown",
   "id": "comfortable-boost",
   "metadata": {},
   "source": [
    "d)"
   ]
  },
  {
   "cell_type": "code",
   "execution_count": 1,
   "id": "latest-station",
   "metadata": {},
   "outputs": [],
   "source": [
    "# d = np.linalg.solve([[6], []], [3])\n",
    "# d"
   ]
  },
  {
   "cell_type": "code",
   "execution_count": 167,
   "id": "promotional-frank",
   "metadata": {},
   "outputs": [
    {
     "data": {
      "text/plain": [
       "1.5"
      ]
     },
     "execution_count": 167,
     "metadata": {},
     "output_type": "execute_result"
    }
   ],
   "source": [
    "d=np.divide(-6.75, -4 - Fraction(1, 2))\n",
    "d"
   ]
  },
  {
   "cell_type": "code",
   "execution_count": 168,
   "id": "handy-present",
   "metadata": {},
   "outputs": [
    {
     "data": {
      "text/plain": [
       "-6.75"
      ]
     },
     "execution_count": 168,
     "metadata": {},
     "output_type": "execute_result"
    }
   ],
   "source": [
    "d_check = np.multiply(-4 - Fraction(1, 2), d)\n",
    "d_check"
   ]
  },
  {
   "cell_type": "code",
   "execution_count": 17,
   "id": "trained-accordance",
   "metadata": {},
   "outputs": [
    {
     "data": {
      "text/plain": [
       "Fraction(8, 5)"
      ]
     },
     "execution_count": 17,
     "metadata": {},
     "output_type": "execute_result"
    }
   ],
   "source": [
    "e = np.divide(Fraction(-4, 5), -.5)\n",
    "Fraction(e).limit_denominator()"
   ]
  },
  {
   "cell_type": "code",
   "execution_count": 173,
   "id": "great-steel",
   "metadata": {},
   "outputs": [
    {
     "data": {
      "text/plain": [
       "Fraction(-4, 5)"
      ]
     },
     "execution_count": 173,
     "metadata": {},
     "output_type": "execute_result"
    }
   ],
   "source": [
    "e_check = np.prod([e, -0.5])\n",
    "Fraction(e_check).limit_denominator()"
   ]
  },
  {
   "cell_type": "code",
   "execution_count": 19,
   "id": "neither-monaco",
   "metadata": {},
   "outputs": [
    {
     "data": {
      "text/plain": [
       "Fraction(19, 5)"
      ]
     },
     "execution_count": 19,
     "metadata": {},
     "output_type": "execute_result"
    }
   ],
   "source": [
    "f = np.prod([-2 - Fraction(1, 9), -1.8])\n",
    "Fraction(f).limit_denominator()"
   ]
  },
  {
   "cell_type": "code",
   "execution_count": 176,
   "id": "silver-account",
   "metadata": {},
   "outputs": [
    {
     "data": {
      "text/plain": [
       "-1.8"
      ]
     },
     "execution_count": 176,
     "metadata": {},
     "output_type": "execute_result"
    }
   ],
   "source": [
    "f_check = np.divide(f, -2 -Fraction(1,9))\n",
    "f_check"
   ]
  },
  {
   "cell_type": "markdown",
   "id": "virtual-economy",
   "metadata": {},
   "source": [
    "Zadanie 7.6"
   ]
  },
  {
   "cell_type": "code",
   "execution_count": 179,
   "id": "higher-refund",
   "metadata": {},
   "outputs": [
    {
     "data": {
      "text/plain": [
       "-6.235294117647058"
      ]
     },
     "execution_count": 179,
     "metadata": {},
     "output_type": "execute_result"
    }
   ],
   "source": [
    "a = np.divide(np.sum([-3.5, -5 -Fraction(1, 3)]), 1 + Fraction(5, 12))\n",
    "a"
   ]
  },
  {
   "cell_type": "markdown",
   "id": "introductory-blame",
   "metadata": {},
   "source": [
    "Zadanie 7.7"
   ]
  },
  {
   "cell_type": "code",
   "execution_count": 189,
   "id": "fifteen-sweet",
   "metadata": {},
   "outputs": [
    {
     "data": {
      "text/plain": [
       "Fraction(-7, 3)"
      ]
     },
     "execution_count": 189,
     "metadata": {},
     "output_type": "execute_result"
    }
   ],
   "source": [
    "a = np.divide(-3 -Fraction(1, 8), -6 -Fraction(1, 4))\n",
    "a1 = np.multiply(a, -4 - Fraction(2, 3))\n",
    "a1"
   ]
  },
  {
   "cell_type": "markdown",
   "id": "unsigned-compact",
   "metadata": {},
   "source": [
    "Zadanie 7.8"
   ]
  },
  {
   "cell_type": "code",
   "execution_count": 196,
   "id": "conscious-kenya",
   "metadata": {},
   "outputs": [
    {
     "data": {
      "text/plain": [
       "-252.0"
      ]
     },
     "execution_count": 196,
     "metadata": {},
     "output_type": "execute_result"
    }
   ],
   "source": [
    "a = np.divide(-180, 5)\n",
    "a1 = np.prod([a, 7])\n",
    "a1"
   ]
  },
  {
   "cell_type": "code",
   "execution_count": 197,
   "id": "charming-encoding",
   "metadata": {},
   "outputs": [
    {
     "data": {
      "text/plain": [
       "Fraction(-22, 3)"
      ]
     },
     "execution_count": 197,
     "metadata": {},
     "output_type": "execute_result"
    }
   ],
   "source": [
    "b = np.prod([np.divide(-3 -Fraction(1, 3), 5), 11])\n",
    "b"
   ]
  },
  {
   "cell_type": "code",
   "execution_count": 199,
   "id": "moderate-dinner",
   "metadata": {},
   "outputs": [
    {
     "data": {
      "text/plain": [
       "-2.7"
      ]
     },
     "execution_count": 199,
     "metadata": {},
     "output_type": "execute_result"
    }
   ],
   "source": [
    "c = np.divide(-6.75, 2.5)\n",
    "c"
   ]
  },
  {
   "cell_type": "code",
   "execution_count": 201,
   "id": "miniature-detroit",
   "metadata": {},
   "outputs": [
    {
     "data": {
      "text/plain": [
       "-56.0"
      ]
     },
     "execution_count": 201,
     "metadata": {},
     "output_type": "execute_result"
    }
   ],
   "source": [
    "d = np.prod([0.2, -245])\n",
    "d1 = np.divide(d, 7)\n",
    "d2 = np.multiply(d1, 8)\n",
    "d2"
   ]
  },
  {
   "cell_type": "markdown",
   "id": "mexican-facing",
   "metadata": {},
   "source": [
    "Zadanie 7.9"
   ]
  },
  {
   "cell_type": "code",
   "execution_count": 11,
   "id": "improved-candy",
   "metadata": {},
   "outputs": [
    {
     "data": {
      "text/plain": [
       "8.166666666666668"
      ]
     },
     "execution_count": 11,
     "metadata": {},
     "output_type": "execute_result"
    }
   ],
   "source": [
    "d_diff = np.subtract(4 +Fraction(2, 3), -3.5)\n",
    "d_diff"
   ]
  },
  {
   "cell_type": "code",
   "execution_count": 10,
   "id": "younger-bhutan",
   "metadata": {},
   "outputs": [
    {
     "data": {
      "text/plain": [
       "1.166666666666667"
      ]
     },
     "execution_count": 10,
     "metadata": {},
     "output_type": "execute_result"
    }
   ],
   "source": [
    "d_sum =np.sum([4 + Fraction(2, 3), -3.5])\n",
    "d_sum"
   ]
  },
  {
   "cell_type": "code",
   "execution_count": 22,
   "id": "perfect-designer",
   "metadata": {},
   "outputs": [
    {
     "data": {
      "text/plain": [
       "7"
      ]
     },
     "execution_count": 22,
     "metadata": {},
     "output_type": "execute_result"
    }
   ],
   "source": [
    "d_div = np.divide(d_diff, d_sum)\n",
    "round(d_div)"
   ]
  },
  {
   "cell_type": "markdown",
   "id": "variable-prisoner",
   "metadata": {},
   "source": [
    "Zad 7.10"
   ]
  },
  {
   "cell_type": "code",
   "execution_count": 27,
   "id": "injured-optimization",
   "metadata": {},
   "outputs": [
    {
     "data": {
      "text/plain": [
       "-2.16"
      ]
     },
     "execution_count": 27,
     "metadata": {},
     "output_type": "execute_result"
    }
   ],
   "source": [
    "a = np.multiply(np.subtract(np.divide(-7 - Fraction(1, 5), 0.5), np.multiply(-7 - Fraction(1, 5), 0.5)), 0.2)\n",
    "a"
   ]
  },
  {
   "cell_type": "code",
   "execution_count": null,
   "id": "looking-courtesy",
   "metadata": {},
   "outputs": [],
   "source": []
  },
  {
   "cell_type": "code",
   "execution_count": 43,
   "id": "standing-architecture",
   "metadata": {},
   "outputs": [],
   "source": [
    "import math"
   ]
  },
  {
   "cell_type": "markdown",
   "id": "engaged-finder",
   "metadata": {},
   "source": [
    "Rozdział 8"
   ]
  },
  {
   "cell_type": "code",
   "execution_count": 65,
   "id": "danish-donna",
   "metadata": {},
   "outputs": [
    {
     "data": {
      "text/plain": [
       "Fraction(-8, 125)"
      ]
     },
     "execution_count": 65,
     "metadata": {},
     "output_type": "execute_result"
    }
   ],
   "source": [
    "d = np.power(Fraction(-2, 5), 3)\n",
    "d"
   ]
  },
  {
   "cell_type": "code",
   "execution_count": 68,
   "id": "crucial-horizontal",
   "metadata": {},
   "outputs": [
    {
     "data": {
      "text/plain": [
       "-6"
      ]
     },
     "execution_count": 68,
     "metadata": {},
     "output_type": "execute_result"
    }
   ],
   "source": [
    "o = np.power(-6, 1)\n",
    "o"
   ]
  },
  {
   "cell_type": "code",
   "execution_count": 69,
   "id": "individual-editor",
   "metadata": {},
   "outputs": [
    {
     "data": {
      "text/plain": [
       "1"
      ]
     },
     "execution_count": 69,
     "metadata": {},
     "output_type": "execute_result"
    }
   ],
   "source": [
    "o1 = np.power(10, 0)\n",
    "o1"
   ]
  },
  {
   "cell_type": "code",
   "execution_count": 70,
   "id": "surprised-printer",
   "metadata": {},
   "outputs": [
    {
     "data": {
      "text/plain": [
       "1"
      ]
     },
     "execution_count": 70,
     "metadata": {},
     "output_type": "execute_result"
    }
   ],
   "source": [
    "o2 =np.power(-8, 0)\n",
    "o2"
   ]
  },
  {
   "cell_type": "code",
   "execution_count": 71,
   "id": "selective-fetish",
   "metadata": {},
   "outputs": [
    {
     "data": {
      "text/plain": [
       "1.0"
      ]
     },
     "execution_count": 71,
     "metadata": {},
     "output_type": "execute_result"
    }
   ],
   "source": [
    "o3 = np.power(-1.3, 0)\n",
    "o3"
   ]
  },
  {
   "cell_type": "code",
   "execution_count": 72,
   "id": "photographic-gabriel",
   "metadata": {},
   "outputs": [
    {
     "data": {
      "text/plain": [
       "Fraction(1, 1)"
      ]
     },
     "execution_count": 72,
     "metadata": {},
     "output_type": "execute_result"
    }
   ],
   "source": [
    "o4 = np.power(Fraction(-5, 6), 0)\n",
    "o4"
   ]
  },
  {
   "cell_type": "code",
   "execution_count": null,
   "id": "sunrise-insight",
   "metadata": {},
   "outputs": [],
   "source": [
    "Zadanie 2"
   ]
  },
  {
   "cell_type": "code",
   "execution_count": 73,
   "id": "passing-plasma",
   "metadata": {},
   "outputs": [
    {
     "data": {
      "text/plain": [
       "16"
      ]
     },
     "execution_count": 73,
     "metadata": {},
     "output_type": "execute_result"
    }
   ],
   "source": [
    "a = np.power(4, 2)\n",
    "a"
   ]
  },
  {
   "cell_type": "code",
   "execution_count": 75,
   "id": "matched-organization",
   "metadata": {},
   "outputs": [
    {
     "data": {
      "text/plain": [
       "Fraction(8, 27)"
      ]
     },
     "execution_count": 75,
     "metadata": {},
     "output_type": "execute_result"
    }
   ],
   "source": [
    "b = np.power(Fraction(2, 3), 3)\n",
    "b"
   ]
  },
  {
   "cell_type": "code",
   "execution_count": 76,
   "id": "consecutive-involvement",
   "metadata": {},
   "outputs": [
    {
     "data": {
      "text/plain": [
       "12"
      ]
     },
     "execution_count": 76,
     "metadata": {},
     "output_type": "execute_result"
    }
   ],
   "source": [
    "c= np.power(12, 1)\n",
    "c"
   ]
  },
  {
   "cell_type": "code",
   "execution_count": 79,
   "id": "mobile-accreditation",
   "metadata": {},
   "outputs": [
    {
     "data": {
      "text/plain": [
       "Fraction(1, 1)"
      ]
     },
     "execution_count": 79,
     "metadata": {},
     "output_type": "execute_result"
    }
   ],
   "source": [
    "d = np.power(4 + Fraction(1, 3), 0)\n",
    "d"
   ]
  },
  {
   "cell_type": "code",
   "execution_count": null,
   "id": "controlled-preliminary",
   "metadata": {},
   "outputs": [],
   "source": [
    "Zadanie 3 "
   ]
  },
  {
   "cell_type": "code",
   "execution_count": 82,
   "id": "combined-remark",
   "metadata": {},
   "outputs": [
    {
     "data": {
      "text/plain": [
       "array([-3, Fraction(4, 25), -8, Fraction(16, 81), Fraction(-1, 32), 1],\n",
       "      dtype=object)"
      ]
     },
     "execution_count": 82,
     "metadata": {},
     "output_type": "execute_result"
    }
   ],
   "source": [
    "a = np.power([-3, Fraction(-2, 5), -2, Fraction(-2, 3), -Fraction(1, 2), -1], [1, 2, 3, 4, 5, 6])\n",
    "a"
   ]
  },
  {
   "cell_type": "code",
   "execution_count": null,
   "id": "artificial-hours",
   "metadata": {},
   "outputs": [],
   "source": [
    "Zad 8.2"
   ]
  },
  {
   "cell_type": "code",
   "execution_count": 83,
   "id": "developed-civilization",
   "metadata": {},
   "outputs": [
    {
     "data": {
      "text/plain": [
       "-216"
      ]
     },
     "execution_count": 83,
     "metadata": {},
     "output_type": "execute_result"
    }
   ],
   "source": [
    "a3 = np.power(-6, 3)\n",
    "a3"
   ]
  },
  {
   "cell_type": "code",
   "execution_count": 85,
   "id": "sound-antarctica",
   "metadata": {},
   "outputs": [
    {
     "data": {
      "text/plain": [
       "Fraction(49, 9)"
      ]
     },
     "execution_count": 85,
     "metadata": {},
     "output_type": "execute_result"
    }
   ],
   "source": [
    "b1= np.power(-2 - Fraction(1, 3), 2)\n",
    "b1"
   ]
  },
  {
   "cell_type": "code",
   "execution_count": 87,
   "id": "subjective-northeast",
   "metadata": {},
   "outputs": [
    {
     "data": {
      "text/plain": [
       "37.03703703703704"
      ]
     },
     "execution_count": 87,
     "metadata": {},
     "output_type": "execute_result"
    }
   ],
   "source": [
    "b2 =np.power(3 + Fraction(1, 3), 3)\n",
    "float(b2)"
   ]
  },
  {
   "cell_type": "code",
   "execution_count": 89,
   "id": "portuguese-switch",
   "metadata": {},
   "outputs": [
    {
     "data": {
      "text/plain": [
       "7.5625"
      ]
     },
     "execution_count": 89,
     "metadata": {},
     "output_type": "execute_result"
    }
   ],
   "source": [
    "b3 = np.power(-2 - Fraction(3, 4), 2)\n",
    "float(b3)"
   ]
  },
  {
   "cell_type": "code",
   "execution_count": 91,
   "id": "cooperative-familiar",
   "metadata": {},
   "outputs": [
    {
     "data": {
      "text/plain": [
       "56.25"
      ]
     },
     "execution_count": 91,
     "metadata": {},
     "output_type": "execute_result"
    }
   ],
   "source": [
    "b4 = np.power(-7 - Fraction(1, 2), 2)\n",
    "float(b4)"
   ]
  },
  {
   "cell_type": "code",
   "execution_count": 92,
   "id": "durable-forty",
   "metadata": {},
   "outputs": [
    {
     "data": {
      "text/plain": [
       "0.25"
      ]
     },
     "execution_count": 92,
     "metadata": {},
     "output_type": "execute_result"
    }
   ],
   "source": [
    "c1 = np.power(-.5, 2)\n",
    "c1"
   ]
  },
  {
   "cell_type": "code",
   "execution_count": 93,
   "id": "plastic-hungarian",
   "metadata": {},
   "outputs": [
    {
     "data": {
      "text/plain": [
       "2.25"
      ]
     },
     "execution_count": 93,
     "metadata": {},
     "output_type": "execute_result"
    }
   ],
   "source": [
    "c2 = np.power(1.5, 2)\n",
    "c2"
   ]
  },
  {
   "cell_type": "code",
   "execution_count": 94,
   "id": "virgin-editor",
   "metadata": {},
   "outputs": [
    {
     "data": {
      "text/plain": [
       "2.5600000000000005"
      ]
     },
     "execution_count": 94,
     "metadata": {},
     "output_type": "execute_result"
    }
   ],
   "source": [
    "c3 = np.power(-1.6, 2)\n",
    "c3"
   ]
  },
  {
   "cell_type": "code",
   "execution_count": 98,
   "id": "valuable-bleeding",
   "metadata": {},
   "outputs": [
    {
     "data": {
      "text/plain": [
       "Fraction(-27, 1000)"
      ]
     },
     "execution_count": 98,
     "metadata": {},
     "output_type": "execute_result"
    }
   ],
   "source": [
    "c4 = np.power(-.3, 3)\n",
    "Fraction(c4).limit_denominator()"
   ]
  },
  {
   "cell_type": "markdown",
   "id": "vocal-batman",
   "metadata": {},
   "source": [
    "Zad 8.3"
   ]
  },
  {
   "cell_type": "code",
   "execution_count": 100,
   "id": "exterior-emphasis",
   "metadata": {},
   "outputs": [
    {
     "data": {
      "text/plain": [
       "Fraction(-10, 3)"
      ]
     },
     "execution_count": 100,
     "metadata": {},
     "output_type": "execute_result"
    }
   ],
   "source": [
    "a1 = np.power(-3 - Fraction(1, 3), 1)\n",
    "a1"
   ]
  },
  {
   "cell_type": "code",
   "execution_count": 101,
   "id": "distinguished-sleeve",
   "metadata": {},
   "outputs": [
    {
     "data": {
      "text/plain": [
       "1.0"
      ]
     },
     "execution_count": 101,
     "metadata": {},
     "output_type": "execute_result"
    }
   ],
   "source": [
    "a2 = np.power(-10.1, 0)\n",
    "a2"
   ]
  },
  {
   "cell_type": "code",
   "execution_count": 102,
   "id": "abstract-borough",
   "metadata": {},
   "outputs": [
    {
     "data": {
      "text/plain": [
       "Fraction(1, 1)"
      ]
     },
     "execution_count": 102,
     "metadata": {},
     "output_type": "execute_result"
    }
   ],
   "source": [
    "a3 = np.power(6 + Fraction(5, 6), 0)\n",
    "a3"
   ]
  },
  {
   "cell_type": "code",
   "execution_count": 103,
   "id": "executive-cartoon",
   "metadata": {},
   "outputs": [
    {
     "data": {
      "text/plain": [
       "Fraction(61, 7)"
      ]
     },
     "execution_count": 103,
     "metadata": {},
     "output_type": "execute_result"
    }
   ],
   "source": [
    "a4 = np.power(8 + Fraction(5, 7), 1)\n",
    "a4"
   ]
  },
  {
   "cell_type": "code",
   "execution_count": 106,
   "id": "acoustic-pottery",
   "metadata": {},
   "outputs": [
    {
     "data": {
      "text/plain": [
       "Fraction(9, 16)"
      ]
     },
     "execution_count": 106,
     "metadata": {},
     "output_type": "execute_result"
    }
   ],
   "source": [
    "b1 = np.power(Fraction(3, 4), 2)\n",
    "b1"
   ]
  },
  {
   "cell_type": "code",
   "execution_count": 107,
   "id": "chubby-astrology",
   "metadata": {},
   "outputs": [
    {
     "data": {
      "text/plain": [
       "Fraction(9, 16)"
      ]
     },
     "execution_count": 107,
     "metadata": {},
     "output_type": "execute_result"
    }
   ],
   "source": [
    "b2 = np.power(-Fraction(3, 4), 2)\n",
    "b2"
   ]
  },
  {
   "cell_type": "code",
   "execution_count": 109,
   "id": "curious-pitch",
   "metadata": {},
   "outputs": [
    {
     "data": {
      "text/plain": [
       "Fraction(1, 8)"
      ]
     },
     "execution_count": 109,
     "metadata": {},
     "output_type": "execute_result"
    }
   ],
   "source": [
    "b3 = np.power(Fraction(1, 2), 3)\n",
    "b3"
   ]
  },
  {
   "cell_type": "code",
   "execution_count": 110,
   "id": "deadly-mumbai",
   "metadata": {},
   "outputs": [
    {
     "data": {
      "text/plain": [
       "Fraction(-1, 8)"
      ]
     },
     "execution_count": 110,
     "metadata": {},
     "output_type": "execute_result"
    }
   ],
   "source": [
    "b3 = np.power(-Fraction(1, 2), 3)\n",
    "b3 "
   ]
  },
  {
   "cell_type": "code",
   "execution_count": 113,
   "id": "crude-reynolds",
   "metadata": {},
   "outputs": [
    {
     "data": {
      "text/plain": [
       "Fraction(13, 36)"
      ]
     },
     "execution_count": 113,
     "metadata": {},
     "output_type": "execute_result"
    }
   ],
   "source": [
    "c1 = np.sum(np.power([Fraction(1, 3), Fraction(-1, 2)], [2, 2]))\n",
    "c1"
   ]
  },
  {
   "cell_type": "code",
   "execution_count": 120,
   "id": "convertible-berry",
   "metadata": {},
   "outputs": [
    {
     "data": {
      "text/plain": [
       "Fraction(-5, 36)"
      ]
     },
     "execution_count": 120,
     "metadata": {},
     "output_type": "execute_result"
    }
   ],
   "source": [
    "c2 = np.subtract(np.power(Fraction(1, -3), 2), np.power(Fraction(-1, 2), 2))\n",
    "c2               "
   ]
  },
  {
   "cell_type": "markdown",
   "id": "empirical-shirt",
   "metadata": {},
   "source": [
    "Zad 8.4"
   ]
  },
  {
   "cell_type": "code",
   "execution_count": 128,
   "id": "italian-planet",
   "metadata": {},
   "outputs": [
    {
     "name": "stdout",
     "output_type": "stream",
     "text": [
      "-0.2222222222222222\n",
      "-2/9\n"
     ]
    }
   ],
   "source": [
    "a = np.subtract(np.multiply(.5, -Fraction(1, 3)), Fraction(1, 18))\n",
    "print(a)\n",
    "print(Fraction(a).limit_denominator())"
   ]
  },
  {
   "cell_type": "code",
   "execution_count": 156,
   "id": "remarkable-cloud",
   "metadata": {},
   "outputs": [
    {
     "data": {
      "text/plain": [
       "Fraction(7, 32)"
      ]
     },
     "execution_count": 156,
     "metadata": {},
     "output_type": "execute_result"
    }
   ],
   "source": [
    "b= np.multiply(np.power(np.subtract(1.5, 1 + Fraction(3, 4)), 2), 3 + Fraction(1, 2))\n",
    "Fraction(b)"
   ]
  },
  {
   "cell_type": "code",
   "execution_count": 167,
   "id": "continental-laugh",
   "metadata": {},
   "outputs": [
    {
     "data": {
      "text/plain": [
       "Fraction(5, 16)"
      ]
     },
     "execution_count": 167,
     "metadata": {},
     "output_type": "execute_result"
    }
   ],
   "source": [
    "c = np.subtract(Fraction(1, 2), np.power(-0.5, 2)) + np.power(-Fraction(1, 4), 2)\n",
    "Fraction(c)"
   ]
  },
  {
   "cell_type": "code",
   "execution_count": 168,
   "id": "perceived-original",
   "metadata": {},
   "outputs": [
    {
     "data": {
      "text/plain": [
       "Fraction(5, 16)"
      ]
     },
     "execution_count": 168,
     "metadata": {},
     "output_type": "execute_result"
    }
   ],
   "source": [
    "c = np.sum([np.subtract(Fraction(1, 2), np.power(-0.5, 2)), np.power(-Fraction(1, 4), 2)])\n",
    "Fraction(c)"
   ]
  },
  {
   "cell_type": "code",
   "execution_count": 174,
   "id": "continued-enlargement",
   "metadata": {},
   "outputs": [
    {
     "data": {
      "text/plain": [
       "Fraction(-35, 6)"
      ]
     },
     "execution_count": 174,
     "metadata": {},
     "output_type": "execute_result"
    }
   ],
   "source": [
    "d = np.subtract(np.divide(np.power(-2 - Fraction(2, 3), 2), - Fraction(2, 3)), -4 - Fraction(5, 6))\n",
    "d"
   ]
  },
  {
   "cell_type": "markdown",
   "id": "close-intensity",
   "metadata": {},
   "source": [
    "Zad 8.5"
   ]
  },
  {
   "cell_type": "code",
   "execution_count": 94,
   "id": "effective-exhibit",
   "metadata": {},
   "outputs": [
    {
     "data": {
      "text/plain": [
       "(-230752268637185668771,\n",
       " 1126030494814647156736,\n",
       " 'max to: ',\n",
       " 1126030494814647156736)"
      ]
     },
     "execution_count": 94,
     "metadata": {},
     "output_type": "execute_result"
    }
   ],
   "source": [
    "a = -811 ** 7 \n",
    "aa = 428 ** 8\n",
    "a1 = max(a, aa)\n",
    "a, aa, 'max to: ', a1  "
   ]
  },
  {
   "cell_type": "code",
   "execution_count": 83,
   "id": "fresh-check",
   "metadata": {},
   "outputs": [
    {
     "data": {
      "text/plain": [
       "-230752268637185668771"
      ]
     },
     "execution_count": 83,
     "metadata": {},
     "output_type": "execute_result"
    }
   ],
   "source": []
  },
  {
   "cell_type": "markdown",
   "id": "knowing-madison",
   "metadata": {},
   "source": [
    "Rozdział 9."
   ]
  },
  {
   "cell_type": "code",
   "execution_count": 70,
   "id": "valued-finish",
   "metadata": {},
   "outputs": [
    {
     "data": {
      "text/plain": [
       "array([6., 4.])"
      ]
     },
     "execution_count": 70,
     "metadata": {},
     "output_type": "execute_result"
    }
   ],
   "source": [
    "a = np.sqrt([36, 16])\n",
    "a"
   ]
  },
  {
   "cell_type": "code",
   "execution_count": 10,
   "id": "combined-geometry",
   "metadata": {},
   "outputs": [
    {
     "data": {
      "text/plain": [
       "array([5., 7.])"
      ]
     },
     "execution_count": 10,
     "metadata": {},
     "output_type": "execute_result"
    }
   ],
   "source": [
    "a1 = np.cbrt([125, 343])\n",
    "a1"
   ]
  },
  {
   "cell_type": "code",
   "execution_count": null,
   "id": "imposed-modern",
   "metadata": {},
   "outputs": [],
   "source": [
    "a1 = np.cbrt(125)"
   ]
  },
  {
   "cell_type": "code",
   "execution_count": 12,
   "id": "nuclear-contract",
   "metadata": {},
   "outputs": [
    {
     "data": {
      "text/plain": [
       "1.3333333333333333"
      ]
     },
     "execution_count": 12,
     "metadata": {},
     "output_type": "execute_result"
    }
   ],
   "source": [
    "a3 = np.cbrt(2 + 10/27)\n",
    "a3"
   ]
  },
  {
   "cell_type": "code",
   "execution_count": 15,
   "id": "experienced-variance",
   "metadata": {},
   "outputs": [
    {
     "data": {
      "text/plain": [
       "1.25"
      ]
     },
     "execution_count": 15,
     "metadata": {},
     "output_type": "execute_result"
    }
   ],
   "source": [
    "a4 = np.cbrt(1 + 61/64)\n",
    "a4"
   ]
  },
  {
   "cell_type": "code",
   "execution_count": null,
   "id": "becoming-training",
   "metadata": {},
   "outputs": [],
   "source": [
    "Zad 9.2"
   ]
  },
  {
   "cell_type": "code",
   "execution_count": 20,
   "id": "built-yukon",
   "metadata": {},
   "outputs": [
    {
     "data": {
      "text/plain": [
       "3.0"
      ]
     },
     "execution_count": 20,
     "metadata": {},
     "output_type": "execute_result"
    }
   ],
   "source": [
    "a1 = np.sqrt(np.power(3, 2))\n",
    "a1"
   ]
  },
  {
   "cell_type": "code",
   "execution_count": 22,
   "id": "acoustic-microwave",
   "metadata": {},
   "outputs": [
    {
     "data": {
      "text/plain": [
       "3.0"
      ]
     },
     "execution_count": 22,
     "metadata": {},
     "output_type": "execute_result"
    }
   ],
   "source": [
    "a1 = np.cbrt(np.power(3, 3))\n",
    "a1"
   ]
  },
  {
   "cell_type": "code",
   "execution_count": 27,
   "id": "south-polyester",
   "metadata": {},
   "outputs": [
    {
     "data": {
      "text/plain": [
       "Fraction(11, 1)"
      ]
     },
     "execution_count": 27,
     "metadata": {},
     "output_type": "execute_result"
    }
   ],
   "source": [
    "a4 = np.sqrt(np.power(11, 2))\n",
    "Fraction(a4).limit_denominator()"
   ]
  },
  {
   "cell_type": "code",
   "execution_count": 32,
   "id": "general-display",
   "metadata": {},
   "outputs": [
    {
     "data": {
      "text/plain": [
       "0.2"
      ]
     },
     "execution_count": 32,
     "metadata": {},
     "output_type": "execute_result"
    }
   ],
   "source": [
    "b1 = np.sqrt(np.power(1/5, 2))\n",
    "b1"
   ]
  },
  {
   "cell_type": "code",
   "execution_count": 35,
   "id": "expected-profit",
   "metadata": {},
   "outputs": [
    {
     "data": {
      "text/plain": [
       "Fraction(5, 3)"
      ]
     },
     "execution_count": 35,
     "metadata": {},
     "output_type": "execute_result"
    }
   ],
   "source": [
    "b4 = np.sqrt(np.power(5/3, 2))\n",
    "Fraction(b4).limit_denominator()"
   ]
  },
  {
   "cell_type": "code",
   "execution_count": 38,
   "id": "distinguished-portuguese",
   "metadata": {},
   "outputs": [
    {
     "data": {
      "text/plain": [
       "1.5"
      ]
     },
     "execution_count": 38,
     "metadata": {},
     "output_type": "execute_result"
    }
   ],
   "source": [
    "d4 = np.cbrt(np.power(1 + 1/2, 3))\n",
    "d4"
   ]
  },
  {
   "cell_type": "markdown",
   "id": "fatal-basketball",
   "metadata": {},
   "source": [
    "\n",
    "\n",
    "Zad. 9.3\n",
    "\n"
   ]
  },
  {
   "cell_type": "code",
   "execution_count": 39,
   "id": "hydraulic-concert",
   "metadata": {},
   "outputs": [
    {
     "data": {
      "text/plain": [
       "-1.0"
      ]
     },
     "execution_count": 39,
     "metadata": {},
     "output_type": "execute_result"
    }
   ],
   "source": [
    "a = np.subtract(np.sqrt(25), np.sqrt(36))\n",
    "a"
   ]
  },
  {
   "cell_type": "code",
   "execution_count": 42,
   "id": "signed-hebrew",
   "metadata": {},
   "outputs": [
    {
     "data": {
      "text/plain": [
       "17.0"
      ]
     },
     "execution_count": 42,
     "metadata": {},
     "output_type": "execute_result"
    }
   ],
   "source": [
    "b = np.sum([np.sqrt(169), np.sqrt(16)])\n",
    "b"
   ]
  },
  {
   "cell_type": "code",
   "execution_count": 45,
   "id": "linear-rwanda",
   "metadata": {},
   "outputs": [
    {
     "data": {
      "text/plain": [
       "16.0"
      ]
     },
     "execution_count": 45,
     "metadata": {},
     "output_type": "execute_result"
    }
   ],
   "source": [
    "c = np.subtract(np.sqrt(81), -np.sqrt(49))\n",
    "c"
   ]
  },
  {
   "cell_type": "code",
   "execution_count": 46,
   "id": "stupid-situation",
   "metadata": {},
   "outputs": [
    {
     "data": {
      "text/plain": [
       "9.0"
      ]
     },
     "execution_count": 46,
     "metadata": {},
     "output_type": "execute_result"
    }
   ],
   "source": [
    "d = np.sum([np.sqrt(36), np.sqrt(64), -np.sqrt(25)])\n",
    "d"
   ]
  },
  {
   "cell_type": "code",
   "execution_count": 47,
   "id": "satisfied-wagon",
   "metadata": {},
   "outputs": [
    {
     "data": {
      "text/plain": [
       "0.0"
      ]
     },
     "execution_count": 47,
     "metadata": {},
     "output_type": "execute_result"
    }
   ],
   "source": [
    "e= np.sum([np.cbrt(8), -np.cbrt(27), np.cbrt(1)])\n",
    "e"
   ]
  },
  {
   "cell_type": "code",
   "execution_count": 50,
   "id": "metric-financing",
   "metadata": {},
   "outputs": [
    {
     "data": {
      "text/plain": [
       "4.0"
      ]
     },
     "execution_count": 50,
     "metadata": {},
     "output_type": "execute_result"
    }
   ],
   "source": [
    "f= np.sum([np.cbrt(27), (-np.cbrt(64)), -(-np.cbrt(125))])\n",
    "f"
   ]
  },
  {
   "cell_type": "code",
   "execution_count": 51,
   "id": "canadian-bulgarian",
   "metadata": {},
   "outputs": [
    {
     "data": {
      "text/plain": [
       "0.0"
      ]
     },
     "execution_count": 51,
     "metadata": {},
     "output_type": "execute_result"
    }
   ],
   "source": [
    "g = np.sum([np.cbrt(125), np.sqrt(25), -np.cbrt(1000)])\n",
    "g"
   ]
  },
  {
   "cell_type": "code",
   "execution_count": 53,
   "id": "after-channels",
   "metadata": {},
   "outputs": [
    {
     "data": {
      "text/plain": [
       "13.0"
      ]
     },
     "execution_count": 53,
     "metadata": {},
     "output_type": "execute_result"
    }
   ],
   "source": [
    "h = np.subtract(np.sum([np.sqrt(169), np.sqrt(36)]), np.cbrt(216))\n",
    "h"
   ]
  },
  {
   "cell_type": "code",
   "execution_count": null,
   "id": "smart-chase",
   "metadata": {},
   "outputs": [],
   "source": [
    "Zad 9.4"
   ]
  },
  {
   "cell_type": "code",
   "execution_count": 57,
   "id": "mental-equality",
   "metadata": {},
   "outputs": [
    {
     "data": {
      "text/plain": [
       "-8.0"
      ]
     },
     "execution_count": 57,
     "metadata": {},
     "output_type": "execute_result"
    }
   ],
   "source": [
    "a = np.sum([np.multiply(-2, np.sqrt(25)), np.divide(np.sqrt(64), np.sqrt(16))])\n",
    "a"
   ]
  },
  {
   "cell_type": "code",
   "execution_count": 58,
   "id": "little-campbell",
   "metadata": {},
   "outputs": [
    {
     "data": {
      "text/plain": [
       "11.0"
      ]
     },
     "execution_count": 58,
     "metadata": {},
     "output_type": "execute_result"
    }
   ],
   "source": [
    "b = np.subtract(np.divide(np.cbrt(125), -5), np.multiply(-3, np.sqrt(16)))\n",
    "b"
   ]
  },
  {
   "cell_type": "code",
   "execution_count": 62,
   "id": "mounted-subcommittee",
   "metadata": {},
   "outputs": [
    {
     "data": {
      "text/plain": [
       "-11.0"
      ]
     },
     "execution_count": 62,
     "metadata": {},
     "output_type": "execute_result"
    }
   ],
   "source": [
    "c = np.sum([np.multiply(-np.cbrt(64), np.power(-2, 2)), np.multiply(Fraction(1, 2), np.sqrt(100))])\n",
    "c"
   ]
  },
  {
   "cell_type": "code",
   "execution_count": 69,
   "id": "compressed-snapshot",
   "metadata": {},
   "outputs": [
    {
     "data": {
      "text/plain": [
       "Fraction(17, 14)"
      ]
     },
     "execution_count": 69,
     "metadata": {},
     "output_type": "execute_result"
    }
   ],
   "source": [
    "d = np.divide(np.sum([np.multiply(np.sqrt(4), np.sqrt(49)), np.cbrt(27)]), np.multiply(np.cbrt(8), np.sum([np.cbrt(125), np.sqrt(4)])))\n",
    "Fraction(d).limit_denominator()"
   ]
  },
  {
   "cell_type": "code",
   "execution_count": 73,
   "id": "several-hygiene",
   "metadata": {},
   "outputs": [
    {
     "data": {
      "text/plain": [
       "Fraction(1, 1)"
      ]
     },
     "execution_count": 73,
     "metadata": {},
     "output_type": "execute_result"
    }
   ],
   "source": [
    "e = np.sum([np.multiply(np.cbrt(8/125), np.sqrt(25)), np.divide(np.sum([np.cbrt(27), np.sqrt(16)]), -7)])\n",
    "Fraction(e).limit_denominator()"
   ]
  },
  {
   "cell_type": "markdown",
   "id": "portuguese-tomorrow",
   "metadata": {},
   "source": [
    "Zadanie 9.5"
   ]
  },
  {
   "cell_type": "code",
   "execution_count": 75,
   "id": "changing-floor",
   "metadata": {},
   "outputs": [
    {
     "data": {
      "text/plain": [
       "5.0"
      ]
     },
     "execution_count": 75,
     "metadata": {},
     "output_type": "execute_result"
    }
   ],
   "source": [
    "a = np.sqrt(np.sum([np.power(4, 2), np.power(3, 2)]))\n",
    "a"
   ]
  },
  {
   "cell_type": "code",
   "execution_count": 116,
   "id": "sexual-belgium",
   "metadata": {},
   "outputs": [
    {
     "data": {
      "text/plain": [
       "-1.343"
      ]
     },
     "execution_count": 116,
     "metadata": {},
     "output_type": "execute_result"
    }
   ],
   "source": [
    "b = np.subtract(np.sqrt(32), np.sqrt(49))\n",
    "b = float('{:.3f}'.format(b))\n",
    "b"
   ]
  },
  {
   "cell_type": "code",
   "execution_count": 83,
   "id": "theoretical-simon",
   "metadata": {},
   "outputs": [
    {
     "data": {
      "text/plain": [
       "-1.5"
      ]
     },
     "execution_count": 83,
     "metadata": {},
     "output_type": "execute_result"
    }
   ],
   "source": [
    "c = np.subtract(np.multiply(-np.sqrt(16), np.sqrt(1/16)), np.multiply(np.sqrt(4), np.power(-Fraction(1, 2), 2)))\n",
    "c"
   ]
  },
  {
   "cell_type": "code",
   "execution_count": 110,
   "id": "atlantic-craft",
   "metadata": {},
   "outputs": [
    {
     "data": {
      "text/plain": [
       "Fraction(-7, 20)"
      ]
     },
     "execution_count": 110,
     "metadata": {},
     "output_type": "execute_result"
    }
   ],
   "source": [
    "d = np.subtract(np.power(np.sqrt(2/5), 2), np.power(np.cbrt(3/4), 3))\n",
    "d = float('{:.2f}'.format(d))\n",
    "Fraction(d).limit_denominator()"
   ]
  },
  {
   "cell_type": "code",
   "execution_count": 102,
   "id": "promotional-messenger",
   "metadata": {},
   "outputs": [
    {
     "data": {
      "text/plain": [
       "1.0"
      ]
     },
     "execution_count": 102,
     "metadata": {},
     "output_type": "execute_result"
    }
   ],
   "source": [
    "e = np.power(np.subtract(np.cbrt(27), np.sqrt(4)), 2)\n",
    "e"
   ]
  },
  {
   "cell_type": "code",
   "execution_count": 106,
   "id": "decimal-grade",
   "metadata": {},
   "outputs": [
    {
     "data": {
      "text/plain": [
       "15.0"
      ]
     },
     "execution_count": 106,
     "metadata": {},
     "output_type": "execute_result"
    }
   ],
   "source": [
    "f = np.sum([np.multiply(np.cbrt(1/8), np.sqrt(36)), np.multiply(np.power(-2, 3), -np.sqrt(2 + 1/4))])\n",
    "f"
   ]
  },
  {
   "cell_type": "code",
   "execution_count": 108,
   "id": "violent-county",
   "metadata": {},
   "outputs": [
    {
     "data": {
      "text/plain": [
       "-5.0"
      ]
     },
     "execution_count": 108,
     "metadata": {},
     "output_type": "execute_result"
    }
   ],
   "source": [
    "g = np.sum([np.power(-3, 3), np.sqrt(49), np.sqrt(np.subtract(np.power(5, 2), np.power(4, 2))), np.sqrt(144)])\n",
    "g"
   ]
  },
  {
   "cell_type": "markdown",
   "id": "drawn-height",
   "metadata": {},
   "source": [
    "Rozdział 10"
   ]
  },
  {
   "cell_type": "code",
   "execution_count": null,
   "id": "disturbed-aaron",
   "metadata": {},
   "outputs": [],
   "source": [
    "Zadanie 1"
   ]
  },
  {
   "cell_type": "code",
   "execution_count": 124,
   "id": "white-pattern",
   "metadata": {},
   "outputs": [
    {
     "data": {
      "text/plain": [
       "30.0"
      ]
     },
     "execution_count": 124,
     "metadata": {},
     "output_type": "execute_result"
    }
   ],
   "source": [
    "a = np.sum([np.multiply(np.subtract(7, 11), np.power(-2, 3)), np.divide(np.sqrt(100), np.sum([-2, -3]))])\n",
    "a"
   ]
  },
  {
   "cell_type": "code",
   "execution_count": 127,
   "id": "surface-seventh",
   "metadata": {},
   "outputs": [
    {
     "data": {
      "text/plain": [
       "39"
      ]
     },
     "execution_count": 127,
     "metadata": {},
     "output_type": "execute_result"
    }
   ],
   "source": [
    "a1 = np.sum([np.multiply(np.power(-3, 2), 5), np.multiply(6, -1)])\n",
    "a1"
   ]
  },
  {
   "cell_type": "code",
   "execution_count": 128,
   "id": "particular-reason",
   "metadata": {},
   "outputs": [
    {
     "data": {
      "text/plain": [
       "-38"
      ]
     },
     "execution_count": 128,
     "metadata": {},
     "output_type": "execute_result"
    }
   ],
   "source": [
    "a2 = np.subtract(np.multiply(np.power(2, 3), -4), np.multiply(-3, -2))\n",
    "a2"
   ]
  },
  {
   "cell_type": "code",
   "execution_count": 130,
   "id": "absent-disorder",
   "metadata": {},
   "outputs": [
    {
     "data": {
      "text/plain": [
       "-104.0"
      ]
     },
     "execution_count": 130,
     "metadata": {},
     "output_type": "execute_result"
    }
   ],
   "source": [
    "a3 = np.sum([np.multiply(-10, np.sqrt(25)), np.multiply(np.power(3, 3), -2)])\n",
    "a3"
   ]
  },
  {
   "cell_type": "code",
   "execution_count": 133,
   "id": "indonesian-china",
   "metadata": {},
   "outputs": [
    {
     "data": {
      "text/plain": [
       "-7.0"
      ]
     },
     "execution_count": 133,
     "metadata": {},
     "output_type": "execute_result"
    }
   ],
   "source": [
    "a4 = np.subtract(np.multiply(-4, np.power(2, 2)), np.multiply(np.sqrt(9), -3))\n",
    "a4"
   ]
  },
  {
   "cell_type": "code",
   "execution_count": 135,
   "id": "hispanic-dependence",
   "metadata": {},
   "outputs": [
    {
     "data": {
      "text/plain": [
       "0.7"
      ]
     },
     "execution_count": 135,
     "metadata": {},
     "output_type": "execute_result"
    }
   ],
   "source": [
    "b1 = np.subtract(np.multiply(2, -.4), np.multiply(.5, -3))\n",
    "b1"
   ]
  },
  {
   "cell_type": "code",
   "execution_count": 139,
   "id": "beautiful-termination",
   "metadata": {},
   "outputs": [
    {
     "data": {
      "text/plain": [
       "40.0"
      ]
     },
     "execution_count": 139,
     "metadata": {},
     "output_type": "execute_result"
    }
   ],
   "source": [
    "b2 = np.subtract(np.multiply(-2.5, -8), np.multiply(np.power(2, 2), -5))\n",
    "b2"
   ]
  },
  {
   "cell_type": "code",
   "execution_count": 141,
   "id": "geological-metropolitan",
   "metadata": {},
   "outputs": [
    {
     "data": {
      "text/plain": [
       "1.0"
      ]
     },
     "execution_count": 141,
     "metadata": {},
     "output_type": "execute_result"
    }
   ],
   "source": [
    "b3 = np.sum([np.multiply(np.sqrt(81), Fraction(1, 3)), np.divide(3, -1 - Fraction(1, 2))])\n",
    "b3"
   ]
  },
  {
   "cell_type": "code",
   "execution_count": 143,
   "id": "effective-entity",
   "metadata": {},
   "outputs": [
    {
     "data": {
      "text/plain": [
       "-41.0"
      ]
     },
     "execution_count": 143,
     "metadata": {},
     "output_type": "execute_result"
    }
   ],
   "source": [
    "b4 = np.sum([np.divide(-125, np.power(-5, 2)), np.multiply(-4.5, 8)])\n",
    "b4"
   ]
  },
  {
   "cell_type": "code",
   "execution_count": null,
   "id": "possible-vacation",
   "metadata": {},
   "outputs": [],
   "source": [
    "Zad 10.2"
   ]
  },
  {
   "cell_type": "code",
   "execution_count": 171,
   "id": "loving-consumer",
   "metadata": {},
   "outputs": [
    {
     "data": {
      "text/plain": [
       "(0, 0.7142857142857143)"
      ]
     },
     "execution_count": 171,
     "metadata": {},
     "output_type": "execute_result"
    }
   ],
   "source": [
    "temperatura = np.array([[-2, -5, -2, 0, 2, 5, 7], [4, 3, -8, -10, -4, 0, 8], [6, 3, 3, 2, -4, -4, -5]], dtype='int64')\n",
    "max_temp = np.max([np.mean(temperatura[0]), np.mean(temperatura[1]), np.mean(temperatura[2])])\n",
    "max_temp_index = np.argmax(max_temp)\n",
    "max_temp_index, max_temp"
   ]
  },
  {
   "cell_type": "code",
   "execution_count": null,
   "id": "systematic-capability",
   "metadata": {},
   "outputs": [],
   "source": [
    "Zad 10.3"
   ]
  },
  {
   "cell_type": "code",
   "execution_count": 178,
   "id": "cosmetic-invalid",
   "metadata": {},
   "outputs": [
    {
     "data": {
      "text/plain": [
       "array([-7., -1.,  5.,  8., 12., 14.])"
      ]
     },
     "execution_count": 178,
     "metadata": {},
     "output_type": "execute_result"
    }
   ],
   "source": [
    "a = np.array([-3.5 * 2, -2**2 * .5 * -6, np.sqrt(25) -2 * -4.5, (-2**3 * -1.25) / 2, np.cbrt(8) * -3 + 4 * 3.5, (3**2 - np.sqrt(49)) / -2])\n",
    "np.sort(a)"
   ]
  },
  {
   "cell_type": "code",
   "execution_count": null,
   "id": "excellent-patio",
   "metadata": {},
   "outputs": [],
   "source": []
  },
  {
   "cell_type": "code",
   "execution_count": null,
   "id": "worldwide-skill",
   "metadata": {},
   "outputs": [],
   "source": [
    "Zad 10.4"
   ]
  },
  {
   "cell_type": "code",
   "execution_count": 196,
   "id": "polished-quantity",
   "metadata": {},
   "outputs": [
    {
     "data": {
      "text/plain": [
       "3.666666666666667"
      ]
     },
     "execution_count": 196,
     "metadata": {},
     "output_type": "execute_result"
    }
   ],
   "source": [
    "a = np.sum([np.power(2, 3), np.multiply(3, -2), np.sqrt(2 + 7/9)])\n",
    "str(Fraction(a).limit_denominator().numerator) + '/' + str(Fraction(a).limit_denominator().denominator)"
   ]
  },
  {
   "cell_type": "code",
   "execution_count": 197,
   "id": "known-internship",
   "metadata": {},
   "outputs": [
    {
     "data": {
      "text/plain": [
       "Fraction(9, 8)"
      ]
     },
     "execution_count": 197,
     "metadata": {},
     "output_type": "execute_result"
    }
   ],
   "source": [
    "b = np.subtract(np.multiply(-3 - np.divide(1, 3), np.divide(3, 5)), np.divide(-6 - 1/4, 2))\n",
    "Fraction(b)"
   ]
  },
  {
   "cell_type": "code",
   "execution_count": 193,
   "id": "noble-crack",
   "metadata": {},
   "outputs": [
    {
     "data": {
      "text/plain": [
       "3.25"
      ]
     },
     "execution_count": 193,
     "metadata": {},
     "output_type": "execute_result"
    }
   ],
   "source": [
    "c = np.sum([np.subtract(np.power(-1.5, 3), np.multiply(5, -1/8)), np.sqrt(np.multiply(2, 18))])\n",
    "c"
   ]
  },
  {
   "cell_type": "code",
   "execution_count": 195,
   "id": "related-jones",
   "metadata": {},
   "outputs": [
    {
     "data": {
      "text/plain": [
       "65.0"
      ]
     },
     "execution_count": 195,
     "metadata": {},
     "output_type": "execute_result"
    }
   ],
   "source": [
    "d = np.sum([np.subtract(np.multiply(-2.5, -4), 4*-15), -8 + 3])\n",
    "d"
   ]
  },
  {
   "cell_type": "code",
   "execution_count": null,
   "id": "normal-costume",
   "metadata": {},
   "outputs": [],
   "source": [
    "Zad 10.5"
   ]
  },
  {
   "cell_type": "code",
   "execution_count": 199,
   "id": "innovative-retention",
   "metadata": {},
   "outputs": [
    {
     "data": {
      "text/plain": [
       "18.5625"
      ]
     },
     "execution_count": 199,
     "metadata": {},
     "output_type": "execute_result"
    }
   ],
   "source": [
    "a = np.sum([np.power(-3.25, 2), np.multiply(-2, -4)])\n",
    "a"
   ]
  },
  {
   "cell_type": "code",
   "execution_count": 223,
   "id": "injured-skill",
   "metadata": {},
   "outputs": [
    {
     "data": {
      "text/plain": [
       "18.5625"
      ]
     },
     "execution_count": 223,
     "metadata": {},
     "output_type": "execute_result"
    }
   ],
   "source": [
    "a = (-3.25)**2 + (-2 * -4)\n",
    "a"
   ]
  },
  {
   "cell_type": "code",
   "execution_count": 224,
   "id": "broad-silly",
   "metadata": {},
   "outputs": [
    {
     "data": {
      "text/plain": [
       "9.5"
      ]
     },
     "execution_count": 224,
     "metadata": {},
     "output_type": "execute_result"
    }
   ],
   "source": [
    "b= np.subtract(np.multiply(-3.5, 5), np.power(-3, 3))\n",
    "b"
   ]
  },
  {
   "cell_type": "code",
   "execution_count": 227,
   "id": "joint-summer",
   "metadata": {},
   "outputs": [
    {
     "data": {
      "text/plain": [
       "13.5"
      ]
     },
     "execution_count": 227,
     "metadata": {},
     "output_type": "execute_result"
    }
   ],
   "source": [
    "c= np.sum([np.multiply(2.25, -1 -Fraction(1, 9)), np.power(4, 2)])\n",
    "c"
   ]
  },
  {
   "cell_type": "code",
   "execution_count": 229,
   "id": "consecutive-devil",
   "metadata": {},
   "outputs": [
    {
     "data": {
      "text/plain": [
       "-19.0"
      ]
     },
     "execution_count": 229,
     "metadata": {},
     "output_type": "execute_result"
    }
   ],
   "source": [
    "d = np.subtract(np.multiply(-3 -1/2, 4), np.sqrt(25))\n",
    "d"
   ]
  },
  {
   "cell_type": "code",
   "execution_count": 230,
   "id": "hollywood-stylus",
   "metadata": {},
   "outputs": [
    {
     "data": {
      "text/plain": [
       "-4.333333333333333"
      ]
     },
     "execution_count": 230,
     "metadata": {},
     "output_type": "execute_result"
    }
   ],
   "source": [
    "e = np.subtract(np.multiply(-6 -2/3, -0.4), np.sqrt(49))\n",
    "e"
   ]
  },
  {
   "cell_type": "code",
   "execution_count": 232,
   "id": "undefined-tracy",
   "metadata": {},
   "outputs": [
    {
     "data": {
      "text/plain": [
       "-25.0"
      ]
     },
     "execution_count": 232,
     "metadata": {},
     "output_type": "execute_result"
    }
   ],
   "source": [
    "f = np.sum([np.multiply(np.power(1.5, 3), 4 + 4/9), np.multiply(np.sqrt(64), -5)])\n",
    "f"
   ]
  },
  {
   "cell_type": "code",
   "execution_count": 233,
   "id": "competitive-pastor",
   "metadata": {},
   "outputs": [
    {
     "data": {
      "text/plain": [
       "0.0"
      ]
     },
     "execution_count": 233,
     "metadata": {},
     "output_type": "execute_result"
    }
   ],
   "source": [
    "g = np.subtract(np.power(-2 -1/2 + 3, 2), np.power(-4 + 3.5, 2))\n",
    "g"
   ]
  },
  {
   "cell_type": "code",
   "execution_count": 366,
   "id": "comic-agent",
   "metadata": {},
   "outputs": [
    {
     "data": {
      "text/plain": [
       "9.0"
      ]
     },
     "execution_count": 366,
     "metadata": {},
     "output_type": "execute_result"
    }
   ],
   "source": [
    "h = np.sum([np.subtract(np.multiply(-2 -2/3, -3 - 3/4), np.multiply(np.power(-3, 2), -1/3)), np.multiply(np.power(2, 3), -.5)])\n",
    "h"
   ]
  },
  {
   "cell_type": "code",
   "execution_count": null,
   "id": "educated-camel",
   "metadata": {},
   "outputs": [],
   "source": [
    "Zadanie 10.6"
   ]
  },
  {
   "cell_type": "code",
   "execution_count": 248,
   "id": "valued-watts",
   "metadata": {},
   "outputs": [
    {
     "data": {
      "text/plain": [
       "3.1"
      ]
     },
     "execution_count": 248,
     "metadata": {},
     "output_type": "execute_result"
    }
   ],
   "source": [
    "a = np.divide(np.sum([13.2, 2.3]), 5)\n",
    "a"
   ]
  },
  {
   "cell_type": "code",
   "execution_count": 249,
   "id": "terminal-member",
   "metadata": {},
   "outputs": [
    {
     "data": {
      "text/plain": [
       "13.2"
      ]
     },
     "execution_count": 249,
     "metadata": {},
     "output_type": "execute_result"
    }
   ],
   "source": [
    "a_check = np.subtract(np.multiply(5, a), 2.3)\n",
    "a_check"
   ]
  },
  {
   "cell_type": "code",
   "execution_count": 255,
   "id": "legitimate-sodium",
   "metadata": {},
   "outputs": [
    {
     "data": {
      "text/plain": [
       "-2.0"
      ]
     },
     "execution_count": 255,
     "metadata": {},
     "output_type": "execute_result"
    }
   ],
   "source": [
    "b = np.divide(np.subtract(-5/12, 6.25), 3 + 1/3)\n",
    "b"
   ]
  },
  {
   "cell_type": "code",
   "execution_count": 258,
   "id": "stunning-smooth",
   "metadata": {},
   "outputs": [
    {
     "data": {
      "text/plain": [
       "Fraction(-5, 12)"
      ]
     },
     "execution_count": 258,
     "metadata": {},
     "output_type": "execute_result"
    }
   ],
   "source": [
    "b_check = np.sum([np.multiply(3 + 1/3, b), 6.25])\n",
    "Fraction(b_check).limit_denominator()"
   ]
  },
  {
   "cell_type": "code",
   "execution_count": 261,
   "id": "educational-blind",
   "metadata": {},
   "outputs": [
    {
     "data": {
      "text/plain": [
       "3.5000000000000004"
      ]
     },
     "execution_count": 261,
     "metadata": {},
     "output_type": "execute_result"
    }
   ],
   "source": [
    "c= np.divide(np.sum([2.2, 6.2]), 2.4)\n",
    "c"
   ]
  },
  {
   "cell_type": "code",
   "execution_count": 262,
   "id": "hollywood-powell",
   "metadata": {},
   "outputs": [
    {
     "data": {
      "text/plain": [
       "-2.2"
      ]
     },
     "execution_count": 262,
     "metadata": {},
     "output_type": "execute_result"
    }
   ],
   "source": [
    "c_check = np.subtract(np.multiply(-2.4, c), -6.2)\n",
    "c_check"
   ]
  },
  {
   "cell_type": "code",
   "execution_count": 364,
   "id": "discrete-russian",
   "metadata": {},
   "outputs": [
    {
     "data": {
      "text/plain": [
       "4.0"
      ]
     },
     "execution_count": 364,
     "metadata": {},
     "output_type": "execute_result"
    }
   ],
   "source": [
    "d = np.divide(np.sum([-16, 3 * 2]), -2.5)\n",
    "d"
   ]
  },
  {
   "cell_type": "code",
   "execution_count": 365,
   "id": "statutory-canberra",
   "metadata": {},
   "outputs": [
    {
     "data": {
      "text/plain": [
       "-16.0"
      ]
     },
     "execution_count": 365,
     "metadata": {},
     "output_type": "execute_result"
    }
   ],
   "source": [
    "d_check = np.sum([np.multiply(-2.5, d), np.multiply(3, -2)])\n",
    "d_check"
   ]
  },
  {
   "cell_type": "code",
   "execution_count": 288,
   "id": "underlying-baseline",
   "metadata": {},
   "outputs": [
    {
     "data": {
      "text/plain": [
       "8.0"
      ]
     },
     "execution_count": 288,
     "metadata": {},
     "output_type": "execute_result"
    }
   ],
   "source": [
    "e = np.divide(np.sum([14 + 2/3, np.multiply(20, 1/3)]), np.sum([2, 2/3]))\n",
    "e"
   ]
  },
  {
   "cell_type": "code",
   "execution_count": 291,
   "id": "arranged-scene",
   "metadata": {},
   "outputs": [
    {
     "data": {
      "text/plain": [
       "14.666666666666666"
      ]
     },
     "execution_count": 291,
     "metadata": {},
     "output_type": "execute_result"
    }
   ],
   "source": [
    "c_check = np.subtract(np.multiply(20, -1/3), (-2 -2/3) * e)\n",
    "c_check"
   ]
  },
  {
   "cell_type": "code",
   "execution_count": 336,
   "id": "vocal-scotland",
   "metadata": {},
   "outputs": [
    {
     "data": {
      "text/plain": [
       "-6.0"
      ]
     },
     "execution_count": 336,
     "metadata": {},
     "output_type": "execute_result"
    }
   ],
   "source": [
    "f = np.divide(np.sum([-24, 9]), 2.5)\n",
    "f"
   ]
  },
  {
   "cell_type": "code",
   "execution_count": 337,
   "id": "disciplinary-chick",
   "metadata": {},
   "outputs": [
    {
     "data": {
      "text/plain": [
       "-24.0"
      ]
     },
     "execution_count": 337,
     "metadata": {},
     "output_type": "execute_result"
    }
   ],
   "source": [
    "f_check = np.subtract(np.multiply(2.5, f), np.power(3, 2))\n",
    "f_check"
   ]
  },
  {
   "cell_type": "code",
   "execution_count": 379,
   "id": "formal-drink",
   "metadata": {},
   "outputs": [
    {
     "data": {
      "text/plain": [
       "4.0"
      ]
     },
     "execution_count": 379,
     "metadata": {},
     "output_type": "execute_result"
    }
   ],
   "source": [
    "g = np.divide(np.sum([np.power(-5, 0), -np.multiply(15.5, 2)]), np.sqrt(64))\n",
    "g"
   ]
  },
  {
   "cell_type": "code",
   "execution_count": 382,
   "id": "married-british",
   "metadata": {},
   "outputs": [
    {
     "data": {
      "text/plain": [
       "1.0"
      ]
     },
     "execution_count": 382,
     "metadata": {},
     "output_type": "execute_result"
    }
   ],
   "source": [
    "g_check = np.subtract(np.multiply(np.sqrt(64), g), -np.multiply(15.5, -2))\n",
    "g_check"
   ]
  },
  {
   "cell_type": "code",
   "execution_count": 383,
   "id": "indonesian-minneapolis",
   "metadata": {},
   "outputs": [
    {
     "data": {
      "text/plain": [
       "2.0"
      ]
     },
     "execution_count": 383,
     "metadata": {},
     "output_type": "execute_result"
    }
   ],
   "source": [
    "h = np.divide(np.sum([np.sqrt(16), np.multiply(4, 3.5)]), np.power(-3, 2))\n",
    "h"
   ]
  },
  {
   "cell_type": "code",
   "execution_count": 384,
   "id": "everyday-admission",
   "metadata": {},
   "outputs": [
    {
     "data": {
      "text/plain": [
       "4.0"
      ]
     },
     "execution_count": 384,
     "metadata": {},
     "output_type": "execute_result"
    }
   ],
   "source": [
    "h_check = np.subtract(np.multiply(np.power(-3, 2), h), np.multiply(4, 3.5))\n",
    "h_check"
   ]
  },
  {
   "cell_type": "code",
   "execution_count": null,
   "id": "double-samoa",
   "metadata": {},
   "outputs": [],
   "source": [
    "Zadanie 10.7"
   ]
  },
  {
   "cell_type": "code",
   "execution_count": 385,
   "id": "light-authorization",
   "metadata": {},
   "outputs": [
    {
     "data": {
      "text/plain": [
       "Fraction(68, 3)"
      ]
     },
     "execution_count": 385,
     "metadata": {},
     "output_type": "execute_result"
    }
   ],
   "source": [
    "a = np.multiply(np.sum([5, Fraction(1, 3)]), np.sum([4, Fraction(1, 4)]))\n",
    "a"
   ]
  },
  {
   "cell_type": "code",
   "execution_count": 386,
   "id": "needed-necklace",
   "metadata": {},
   "outputs": [
    {
     "data": {
      "text/plain": [
       "Fraction(517, 24)"
      ]
     },
     "execution_count": 386,
     "metadata": {},
     "output_type": "execute_result"
    }
   ],
   "source": [
    "a_aug = np.multiply(np.sum([5, Fraction(1, 3), 2, Fraction(1, 2)]), np.sum([4, Fraction(1, 4), -1, -Fraction(1, 2)]))\n",
    "a_aug"
   ]
  },
  {
   "cell_type": "code",
   "execution_count": 390,
   "id": "aerial-kenya",
   "metadata": {},
   "outputs": [
    {
     "data": {
      "text/plain": [
       "Fraction(-9, 8)"
      ]
     },
     "execution_count": 390,
     "metadata": {},
     "output_type": "execute_result"
    }
   ],
   "source": [
    "a_aug - a"
   ]
  },
  {
   "cell_type": "code",
   "execution_count": null,
   "id": "unnecessary-constitution",
   "metadata": {},
   "outputs": [],
   "source": [
    "Zadanie 10.8"
   ]
  },
  {
   "cell_type": "code",
   "execution_count": 391,
   "id": "vocational-trading",
   "metadata": {},
   "outputs": [
    {
     "data": {
      "text/plain": [
       "-12.0"
      ]
     },
     "execution_count": 391,
     "metadata": {},
     "output_type": "execute_result"
    }
   ],
   "source": [
    "a = np.divide(np.multiply(np.sqrt(144), np.power(-1/2, 2)), -1/4)\n",
    "a"
   ]
  },
  {
   "cell_type": "code",
   "execution_count": 402,
   "id": "quality-harvest",
   "metadata": {},
   "outputs": [
    {
     "data": {
      "text/plain": [
       "30.0"
      ]
     },
     "execution_count": 402,
     "metadata": {},
     "output_type": "execute_result"
    }
   ],
   "source": [
    "b = np.divide(np.prod([np.power(-4, 3), 3, -2.5]), np.subtract(np.power(5, 2), np.sqrt(81)))\n",
    "b"
   ]
  },
  {
   "cell_type": "code",
   "execution_count": null,
   "id": "employed-canal",
   "metadata": {},
   "outputs": [],
   "source": [
    "Zadanie 10.9"
   ]
  },
  {
   "cell_type": "code",
   "execution_count": 434,
   "id": "extended-custody",
   "metadata": {},
   "outputs": [
    {
     "data": {
      "text/plain": [
       "127.67999999999999"
      ]
     },
     "execution_count": 434,
     "metadata": {},
     "output_type": "execute_result"
    }
   ],
   "source": [
    "dł_boków = np.array([15.2, 8.4])\n",
    "P = np.multiply(dł_boków[0], dł_boków[1])\n",
    "P"
   ]
  },
  {
   "cell_type": "code",
   "execution_count": 435,
   "id": "european-harvest",
   "metadata": {},
   "outputs": [
    {
     "data": {
      "text/plain": [
       "20.0"
      ]
     },
     "execution_count": 435,
     "metadata": {},
     "output_type": "execute_result"
    }
   ],
   "source": [
    "a_dim = np.prod([2.5, 2, 4])\n",
    "a_dim"
   ]
  },
  {
   "cell_type": "code",
   "execution_count": 447,
   "id": "placed-hospital",
   "metadata": {},
   "outputs": [
    {
     "data": {
      "text/plain": [
       "107.67999999999999"
      ]
     },
     "execution_count": 447,
     "metadata": {},
     "output_type": "execute_result"
    }
   ],
   "source": [
    "P_dim = P - a_dim\n",
    "P_dim"
   ]
  },
  {
   "cell_type": "code",
   "execution_count": 446,
   "id": "intimate-waste",
   "metadata": {},
   "outputs": [
    {
     "data": {
      "text/plain": [
       "27.200000000000003"
      ]
     },
     "execution_count": 446,
     "metadata": {},
     "output_type": "execute_result"
    }
   ],
   "source": [
    "Ob = np.multiply(dł_boków, 2)\n",
    "Ob_dim = np.subtract(np.sum(Ob), np.multiply(2.5, 8))\n",
    "Ob_dim"
   ]
  },
  {
   "cell_type": "code",
   "execution_count": null,
   "id": "hundred-layer",
   "metadata": {},
   "outputs": [],
   "source": [
    "Zad 10.10"
   ]
  },
  {
   "cell_type": "code",
   "execution_count": 450,
   "id": "seasonal-coating",
   "metadata": {},
   "outputs": [
    {
     "data": {
      "text/plain": [
       "5.0"
      ]
     },
     "execution_count": 450,
     "metadata": {},
     "output_type": "execute_result"
    }
   ],
   "source": [
    "a = np.sqrt(np.sum([np.power(-3, 2), np.power(4, 2)]))\n",
    "a"
   ]
  },
  {
   "cell_type": "markdown",
   "id": "random-netscape",
   "metadata": {},
   "source": [
    "Rozdział 11"
   ]
  },
  {
   "cell_type": "code",
   "execution_count": null,
   "id": "animated-magic",
   "metadata": {},
   "outputs": [],
   "source": [
    "Zad 11.1"
   ]
  },
  {
   "cell_type": "code",
   "execution_count": 458,
   "id": "tired-specification",
   "metadata": {},
   "outputs": [
    {
     "data": {
      "text/plain": [
       "array([-5. , -4. , -1. , -0.5,  0. ,  2. ,  2.5,  3.5,  4. ])"
      ]
     },
     "execution_count": 458,
     "metadata": {},
     "output_type": "execute_result"
    }
   ],
   "source": [
    "a = np.array([2, -1/2, 0, -4, 2 + 1/2, -5, 3 + 1/2, 4, -1])\n",
    "np.sort(a)"
   ]
  },
  {
   "cell_type": "code",
   "execution_count": 460,
   "id": "neutral-junction",
   "metadata": {},
   "outputs": [
    {
     "data": {
      "text/plain": [
       "array([ 4. ,  3.5,  2.5,  2. ,  0. , -0.5, -1. , -4. , -5. ])"
      ]
     },
     "execution_count": 460,
     "metadata": {},
     "output_type": "execute_result"
    }
   ],
   "source": [
    "np.flipud(np.sort(a))"
   ]
  },
  {
   "cell_type": "code",
   "execution_count": null,
   "id": "thermal-alarm",
   "metadata": {},
   "outputs": [],
   "source": [
    "Zad 11.2"
   ]
  },
  {
   "cell_type": "code",
   "execution_count": 461,
   "id": "incoming-consumption",
   "metadata": {},
   "outputs": [
    {
     "data": {
      "text/plain": [
       "array([ -3.        ,   7.        ,  -0.75      ,  10.        ,\n",
       "        -0.83333333, -12.        ,  -0.8       ,   8.5       ])"
      ]
     },
     "execution_count": 461,
     "metadata": {},
     "output_type": "execute_result"
    }
   ],
   "source": [
    "a = np.array([-3, 7, -3/4, 10, -5/6, -12, -.8, 8 + 1/2])\n",
    "a"
   ]
  },
  {
   "cell_type": "code",
   "execution_count": 462,
   "id": "occupied-lotus",
   "metadata": {},
   "outputs": [
    {
     "data": {
      "text/plain": [
       "array([  3.        ,  -7.        ,   0.75      , -10.        ,\n",
       "         0.83333333,  12.        ,   0.8       ,  -8.5       ])"
      ]
     },
     "execution_count": 462,
     "metadata": {},
     "output_type": "execute_result"
    }
   ],
   "source": [
    "-a"
   ]
  },
  {
   "cell_type": "code",
   "execution_count": null,
   "id": "ambient-mozambique",
   "metadata": {},
   "outputs": [],
   "source": [
    "Zad 11.3"
   ]
  },
  {
   "cell_type": "code",
   "execution_count": 464,
   "id": "descending-image",
   "metadata": {},
   "outputs": [
    {
     "data": {
      "text/plain": [
       "array([-13.5       , -10.66666667,  -6.25      ,  -5.        ,\n",
       "        -3.2       ,  -2.        ,   0.        ,   0.5       ,\n",
       "         1.        ,   7.33333333,   8.        ,   9.5       ])"
      ]
     },
     "execution_count": 464,
     "metadata": {},
     "output_type": "execute_result"
    }
   ],
   "source": [
    "a = np.array([-2, 8, -13.5, 0, 1/2, -7 + 3/4, 9 + 1/2, -5, -10 - 2/3, 7 + 1/3, 1, -3 - 1/5])\n",
    "np.sort(a)"
   ]
  },
  {
   "cell_type": "code",
   "execution_count": null,
   "id": "potential-glory",
   "metadata": {},
   "outputs": [],
   "source": [
    "Zadanie 11.4"
   ]
  },
  {
   "cell_type": "code",
   "execution_count": 6,
   "id": "brazilian-terrain",
   "metadata": {},
   "outputs": [
    {
     "data": {
      "text/plain": [
       "Fraction(7, 12)"
      ]
     },
     "execution_count": 6,
     "metadata": {},
     "output_type": "execute_result"
    }
   ],
   "source": [
    "a1 = np.add(-3/4, 1 + 1/3)\n",
    "Fraction(a1).limit_denominator()"
   ]
  },
  {
   "cell_type": "code",
   "execution_count": 9,
   "id": "urban-belgium",
   "metadata": {},
   "outputs": [
    {
     "data": {
      "text/plain": [
       "Fraction(-5, 6)"
      ]
     },
     "execution_count": 9,
     "metadata": {},
     "output_type": "execute_result"
    }
   ],
   "source": [
    "a2 = np.add(1 + 1/2, -2 - 1/3)\n",
    "Fraction(a2).limit_denominator()"
   ]
  },
  {
   "cell_type": "code",
   "execution_count": 12,
   "id": "possible-bumper",
   "metadata": {},
   "outputs": [
    {
     "data": {
      "text/plain": [
       "Fraction(2, 3)"
      ]
     },
     "execution_count": 12,
     "metadata": {},
     "output_type": "execute_result"
    }
   ],
   "source": [
    "a3 = np.add(-2-2/3, 3 + 1/3)\n",
    "Fraction(a3).limit_denominator()"
   ]
  },
  {
   "cell_type": "code",
   "execution_count": 39,
   "id": "proprietary-context",
   "metadata": {},
   "outputs": [
    {
     "data": {
      "text/plain": [
       "-7.3"
      ]
     },
     "execution_count": 39,
     "metadata": {},
     "output_type": "execute_result"
    }
   ],
   "source": [
    "a4 = np.subtract(-4.5, 2 + 4/5)\n",
    "a4"
   ]
  },
  {
   "cell_type": "code",
   "execution_count": 42,
   "id": "latin-links",
   "metadata": {},
   "outputs": [
    {
     "data": {
      "text/plain": [
       "Fraction(-19, 12)"
      ]
     },
     "execution_count": 42,
     "metadata": {},
     "output_type": "execute_result"
    }
   ],
   "source": [
    "b1 = np.subtract(np.sum([np.subtract(2 + 2/3, 3.5), 1/4]), 1)\n",
    "Fraction(b1).limit_denominator()"
   ]
  },
  {
   "cell_type": "code",
   "execution_count": 44,
   "id": "suitable-offer",
   "metadata": {},
   "outputs": [
    {
     "data": {
      "text/plain": [
       "-5.4"
      ]
     },
     "execution_count": 44,
     "metadata": {},
     "output_type": "execute_result"
    }
   ],
   "source": [
    "b2 = np.subtract(np.subtract(np.add(-2 -1/5, 1 + 4/5), 3 + 1/2), 1.5)\n",
    "b2"
   ]
  },
  {
   "cell_type": "code",
   "execution_count": 50,
   "id": "palestinian-newport",
   "metadata": {},
   "outputs": [
    {
     "data": {
      "text/plain": [
       "array([-3.9, -1.9])"
      ]
     },
     "execution_count": 50,
     "metadata": {},
     "output_type": "execute_result"
    }
   ],
   "source": [
    "b2a = np.subtract(np.sum([-2 - 1/5, 1 + 4/5]), [3 + 1/2, 1.5])\n",
    "b2a"
   ]
  },
  {
   "cell_type": "code",
   "execution_count": 53,
   "id": "ambient-veteran",
   "metadata": {},
   "outputs": [
    {
     "data": {
      "text/plain": [
       "Fraction(-1, 15)"
      ]
     },
     "execution_count": 53,
     "metadata": {},
     "output_type": "execute_result"
    }
   ],
   "source": [
    "b3 = np.subtract(np.add(-np.subtract(2.5, 1 + 1/3), 3.5), 2 + 2/5)\n",
    "Fraction(b3).limit_denominator()"
   ]
  },
  {
   "cell_type": "code",
   "execution_count": 62,
   "id": "forward-trainer",
   "metadata": {},
   "outputs": [
    {
     "data": {
      "text/plain": [
       "(Fraction(-88, 15), -5.866666666666667)"
      ]
     },
     "execution_count": 62,
     "metadata": {},
     "output_type": "execute_result"
    }
   ],
   "source": [
    "b4 = np.subtract(np.subtract(4 + 1/3, 7.5), np.add(-2 - 1/2, 5.2))\n",
    "Fraction(b4).limit_denominator(), b4"
   ]
  },
  {
   "cell_type": "code",
   "execution_count": null,
   "id": "pending-smell",
   "metadata": {},
   "outputs": [],
   "source": [
    "Zadanie 11.5"
   ]
  },
  {
   "cell_type": "code",
   "execution_count": 67,
   "id": "republican-transcription",
   "metadata": {},
   "outputs": [
    {
     "name": "stdout",
     "output_type": "stream",
     "text": [
      "2\n",
      "-5\n",
      "1/7\n",
      "-2/9\n",
      "-7/2\n",
      "14/3\n",
      "-37/3\n",
      "-5/2\n"
     ]
    }
   ],
   "source": [
    "a = np.array([2, -5, 1/7, -2/9, -3 - 1/2, 4 + 2/3, -12 - 1/3, -2.5])\n",
    "for n in a:\n",
    "    print(Fraction(n).limit_denominator())"
   ]
  },
  {
   "cell_type": "code",
   "execution_count": 68,
   "id": "foster-substitute",
   "metadata": {},
   "outputs": [
    {
     "name": "stdout",
     "output_type": "stream",
     "text": [
      "-2\n",
      "5\n",
      "-1/7\n",
      "2/9\n",
      "7/2\n",
      "-14/3\n",
      "37/3\n",
      "5/2\n"
     ]
    }
   ],
   "source": [
    "for n in -a:\n",
    "    print(Fraction(n).limit_denominator())"
   ]
  },
  {
   "cell_type": "code",
   "execution_count": null,
   "id": "maritime-making",
   "metadata": {},
   "outputs": [],
   "source": [
    "Zadanie 11.6"
   ]
  },
  {
   "cell_type": "code",
   "execution_count": 70,
   "id": "nervous-employee",
   "metadata": {},
   "outputs": [
    {
     "data": {
      "text/plain": [
       "-21"
      ]
     },
     "execution_count": 70,
     "metadata": {},
     "output_type": "execute_result"
    }
   ],
   "source": [
    "a1 = np.multiply(-7, 3)\n",
    "a1"
   ]
  },
  {
   "cell_type": "code",
   "execution_count": 71,
   "id": "constant-german",
   "metadata": {},
   "outputs": [
    {
     "data": {
      "text/plain": [
       "96"
      ]
     },
     "execution_count": 71,
     "metadata": {},
     "output_type": "execute_result"
    }
   ],
   "source": [
    "a2 = np.multiply(-8, -12)\n",
    "a2"
   ]
  },
  {
   "cell_type": "code",
   "execution_count": 73,
   "id": "capable-official",
   "metadata": {},
   "outputs": [
    {
     "data": {
      "text/plain": [
       "-5.0"
      ]
     },
     "execution_count": 73,
     "metadata": {},
     "output_type": "execute_result"
    }
   ],
   "source": [
    "a3 = np.divide(80, -16)\n",
    "a3"
   ]
  },
  {
   "cell_type": "code",
   "execution_count": 74,
   "id": "satisfactory-memorabilia",
   "metadata": {},
   "outputs": [
    {
     "data": {
      "text/plain": [
       "5.0"
      ]
     },
     "execution_count": 74,
     "metadata": {},
     "output_type": "execute_result"
    }
   ],
   "source": [
    "a4 = np.divide(-75, -15)\n",
    "a4"
   ]
  },
  {
   "cell_type": "code",
   "execution_count": 75,
   "id": "textile-damage",
   "metadata": {},
   "outputs": [
    {
     "data": {
      "text/plain": [
       "-0.25"
      ]
     },
     "execution_count": 75,
     "metadata": {},
     "output_type": "execute_result"
    }
   ],
   "source": [
    "b1 = np.multiply(-2/5, 5/8)\n",
    "b1"
   ]
  },
  {
   "cell_type": "code",
   "execution_count": 76,
   "id": "economic-lender",
   "metadata": {},
   "outputs": [
    {
     "data": {
      "text/plain": [
       "0.4444444444444445"
      ]
     },
     "execution_count": 76,
     "metadata": {},
     "output_type": "execute_result"
    }
   ],
   "source": [
    "b2 = np.multiply(-5/6, -8/15)\n",
    "b2"
   ]
  },
  {
   "cell_type": "code",
   "execution_count": 77,
   "id": "enormous-supervision",
   "metadata": {},
   "outputs": [
    {
     "data": {
      "text/plain": [
       "Fraction(-6, 5)"
      ]
     },
     "execution_count": 77,
     "metadata": {},
     "output_type": "execute_result"
    }
   ],
   "source": [
    "b3 = np.divide(Fraction(3, 4), Fraction(-5, 8))\n",
    "b3"
   ]
  },
  {
   "cell_type": "code",
   "execution_count": 80,
   "id": "divine-spiritual",
   "metadata": {},
   "outputs": [
    {
     "data": {
      "text/plain": [
       "Fraction(-10, 7)"
      ]
     },
     "execution_count": 80,
     "metadata": {},
     "output_type": "execute_result"
    }
   ],
   "source": [
    "b4 = np.divide(-5/9, 7/18)\n",
    "Fraction(b4).limit_denominator()"
   ]
  },
  {
   "cell_type": "code",
   "execution_count": 81,
   "id": "documented-tenant",
   "metadata": {},
   "outputs": [
    {
     "data": {
      "text/plain": [
       "-8.8"
      ]
     },
     "execution_count": 81,
     "metadata": {},
     "output_type": "execute_result"
    }
   ],
   "source": [
    "c1 = np.multiply(-3 -1/5, 2 +3/4)\n",
    "c1"
   ]
  },
  {
   "cell_type": "code",
   "execution_count": 83,
   "id": "handled-consent",
   "metadata": {},
   "outputs": [
    {
     "data": {
      "text/plain": [
       "6.25"
      ]
     },
     "execution_count": 83,
     "metadata": {},
     "output_type": "execute_result"
    }
   ],
   "source": [
    "c2 = np.multiply(-5 -5/8, -1 -1/9)\n",
    "c2"
   ]
  },
  {
   "cell_type": "code",
   "execution_count": 87,
   "id": "fleet-deficit",
   "metadata": {},
   "outputs": [
    {
     "data": {
      "text/plain": [
       "Fraction(-17, 6)"
      ]
     },
     "execution_count": 87,
     "metadata": {},
     "output_type": "execute_result"
    }
   ],
   "source": [
    "c3 = np.divide(-3 -2/5, 1 +1/5)\n",
    "Fraction(c3).limit_denominator()"
   ]
  },
  {
   "cell_type": "code",
   "execution_count": 90,
   "id": "cognitive-checkout",
   "metadata": {},
   "outputs": [
    {
     "data": {
      "text/plain": [
       "(Fraction(125, 21), 5.952380952380953)"
      ]
     },
     "execution_count": 90,
     "metadata": {},
     "output_type": "execute_result"
    }
   ],
   "source": [
    "c4 = np.divide(-16 -2/3, -2 -4/5)\n",
    "Fraction(c4).limit_denominator(), c4"
   ]
  },
  {
   "cell_type": "markdown",
   "id": "approved-georgia",
   "metadata": {},
   "source": [
    "# Zadanie 11.7"
   ]
  },
  {
   "cell_type": "code",
   "execution_count": 59,
   "id": "express-bruce",
   "metadata": {},
   "outputs": [
    {
     "name": "stdout",
     "output_type": "stream",
     "text": [
      "[[ -3.       6.      -1.7143   0.8333  -3.8333  -5.25  ]\n",
      " [ -4.      -5.       0.6857  -0.6667  -0.25    -2.5   ]\n",
      " [ -7.       1.      -1.0286   0.1667  -4.0833  -7.75  ]\n",
      " [  1.      11.      -2.4      1.5     -3.5833  -2.75  ]\n",
      " [ 12.     -30.      -1.1755  -0.5556   0.9583  13.125 ]\n",
      " [  0.75    -1.2     -2.5     -1.25    15.3333   2.1   ]]\n"
     ]
    }
   ],
   "source": [
    "a = np.array([-3, None, -1 -5/7, None, -3 -5/6, -5.25])\n",
    "b = np.array([-4, -5, None, -2/3, None, None])\n",
    "\n",
    "a_plus_b = np.array([None, None, None, 1/6, None, None])\n",
    "a_minus_b = np.array([None, None, None, None, 3 + 7/12, None])\n",
    "a_x_b = np.array([None, -30, None, None, None, None])\n",
    "a_podzielić_b = np.array([None, None, -2 -1/2, None, None, 2.1])\n",
    "\n",
    "\n",
    "def find_calculate():\n",
    "    for i in range(6):\n",
    "        if None in (a[i], b[i]):\n",
    "            if (plus := a_plus_b[i]) or (minus := a_minus_b[i]) or (razy := a_x_b[i]) or (podziel := a_podzielić_b[i]):\n",
    "                \n",
    "                if plus:\n",
    "                    if a[i]:\n",
    "                        b[i] = a[i] - plus if b[i] is None else b[i]\n",
    "                    else:\n",
    "                        a[i] = plus - b[i] if a[i] is None else a[i] \n",
    "                        find_calculate()\n",
    "                elif minus:\n",
    "                    if a[i]:\n",
    "                        b[i] = a[i] + minus if b[i] is None else b[i]\n",
    "                        find_calculate()\n",
    "                    else:\n",
    "                        a[i] = minus + b[i] if a[i] is None else a[i]\n",
    "                        find_calculate()\n",
    "                elif razy:\n",
    "                    if a[i]:\n",
    "                        b[i] = a[i] / razy if b[i] is None else b[i]\n",
    "                        find_calculate()\n",
    "                    else:\n",
    "                        a[i] = razy / b[i] if a[i] is None else a[i]\n",
    "                        find_calculate()\n",
    "                elif podziel:\n",
    "                    if a[i]:\n",
    "                        b[i] = a[i] / podziel if b[i] is None else b[i]\n",
    "                        find_calculate()\n",
    "                    else:\n",
    "                        a[i] = podziel * b[i] if a[i] is None else a[i]\n",
    "                        find_calculate()\n",
    "                    \n",
    "        else:\n",
    "            a_plus_b[i] = np.sum([a[i], b[i]]) \n",
    "            a_minus_b[i] = np.subtract(a[i], b[i])\n",
    "            a_x_b[i] = np.multiply(a[i], b[i])\n",
    "            a_podzielić_b[i] = np.divide(a[i], b[i])\n",
    "\n",
    "        \n",
    "find_calculate()\n",
    "\n",
    "\n",
    "np.set_printoptions(precision=4, linewidth=175, suppress=True)\n",
    "\n",
    "\n",
    "arr = np.array([a, b, a_plus_b, a_minus_b, a_x_b, a_podzielić_b]).astype(np.float32)\n",
    "print(arr)\n"
   ]
  },
  {
   "cell_type": "code",
   "execution_count": null,
   "id": "catholic-shaft",
   "metadata": {},
   "outputs": [],
   "source": []
  },
  {
   "cell_type": "markdown",
   "id": "raising-inclusion",
   "metadata": {},
   "source": [
    "# Zadanie 11.8"
   ]
  },
  {
   "cell_type": "code",
   "execution_count": 21,
   "id": "irish-ordinance",
   "metadata": {},
   "outputs": [
    {
     "data": {
      "text/plain": [
       "Fraction(-8, 27)"
      ]
     },
     "execution_count": 21,
     "metadata": {},
     "output_type": "execute_result"
    }
   ],
   "source": [
    "a1 = np.power(Fraction(-2, 3), 3)\n",
    "a1"
   ]
  },
  {
   "cell_type": "code",
   "execution_count": 22,
   "id": "comprehensive-cross",
   "metadata": {},
   "outputs": [
    {
     "data": {
      "text/plain": [
       "3.0625"
      ]
     },
     "execution_count": 22,
     "metadata": {},
     "output_type": "execute_result"
    }
   ],
   "source": [
    "a2 = np.power(1 + 3/4, 2)\n",
    "a2"
   ]
  },
  {
   "cell_type": "code",
   "execution_count": 24,
   "id": "ambient-switzerland",
   "metadata": {},
   "outputs": [
    {
     "data": {
      "text/plain": [
       "6.25"
      ]
     },
     "execution_count": 24,
     "metadata": {},
     "output_type": "execute_result"
    }
   ],
   "source": [
    "a3 = np.power(-2 -1/2, 2)\n",
    "a3"
   ]
  },
  {
   "cell_type": "code",
   "execution_count": 25,
   "id": "expressed-strike",
   "metadata": {},
   "outputs": [
    {
     "data": {
      "text/plain": [
       "7.5625"
      ]
     },
     "execution_count": 25,
     "metadata": {},
     "output_type": "execute_result"
    }
   ],
   "source": [
    "a4 = np.power(-2 - 3/4, 2)\n",
    "a4"
   ]
  },
  {
   "cell_type": "code",
   "execution_count": 26,
   "id": "settled-somerset",
   "metadata": {},
   "outputs": [
    {
     "data": {
      "text/plain": [
       "0.8"
      ]
     },
     "execution_count": 26,
     "metadata": {},
     "output_type": "execute_result"
    }
   ],
   "source": [
    "b1 = np.sqrt(16/25)\n",
    "b1"
   ]
  },
  {
   "cell_type": "code",
   "execution_count": 28,
   "id": "ranging-albert",
   "metadata": {},
   "outputs": [
    {
     "data": {
      "text/plain": [
       "Fraction(16, 25)"
      ]
     },
     "execution_count": 28,
     "metadata": {},
     "output_type": "execute_result"
    }
   ],
   "source": [
    "Fraction(0.64).limit_denominator()"
   ]
  },
  {
   "cell_type": "code",
   "execution_count": 31,
   "id": "thick-lender",
   "metadata": {},
   "outputs": [
    {
     "data": {
      "text/plain": [
       "-0.6666666666666666"
      ]
     },
     "execution_count": 31,
     "metadata": {},
     "output_type": "execute_result"
    }
   ],
   "source": [
    "b2 = -np.cbrt(8/27)\n",
    "b2"
   ]
  },
  {
   "cell_type": "code",
   "execution_count": 32,
   "id": "apart-treat",
   "metadata": {},
   "outputs": [
    {
     "data": {
      "text/plain": [
       "-1.4907119849998598"
      ]
     },
     "execution_count": 32,
     "metadata": {},
     "output_type": "execute_result"
    }
   ],
   "source": [
    "b3 = -np.sqrt(2 + 2/9)\n",
    "b3"
   ]
  },
  {
   "cell_type": "code",
   "execution_count": 33,
   "id": "romantic-plant",
   "metadata": {},
   "outputs": [
    {
     "data": {
      "text/plain": [
       "1.5"
      ]
     },
     "execution_count": 33,
     "metadata": {},
     "output_type": "execute_result"
    }
   ],
   "source": [
    "b4 = np.cbrt(3 + 3/8)\n",
    "b4"
   ]
  },
  {
   "cell_type": "code",
   "execution_count": 34,
   "id": "future-anchor",
   "metadata": {},
   "outputs": [
    {
     "data": {
      "text/plain": [
       "2.909090909090909"
      ]
     },
     "execution_count": 34,
     "metadata": {},
     "output_type": "execute_result"
    }
   ],
   "source": [
    "c1 = np.divide(np.power(-2, 5), np.subtract(np.power(4, 2), np.power(3, 3)))\n",
    "c1"
   ]
  },
  {
   "cell_type": "code",
   "execution_count": 35,
   "id": "obvious-steam",
   "metadata": {},
   "outputs": [
    {
     "data": {
      "text/plain": [
       "89.0"
      ]
     },
     "execution_count": 35,
     "metadata": {},
     "output_type": "execute_result"
    }
   ],
   "source": [
    "c2 = np.divide(np.add(np.power(-9, 2), np.power(2, 3)), np.add(np.power(-2, 3), np.power(3, 2)))\n",
    "c2"
   ]
  },
  {
   "cell_type": "code",
   "execution_count": 39,
   "id": "rubber-thong",
   "metadata": {},
   "outputs": [
    {
     "data": {
      "text/plain": [
       "-0.6666666666666666"
      ]
     },
     "execution_count": 39,
     "metadata": {},
     "output_type": "execute_result"
    }
   ],
   "source": [
    "c3 = np.divide(np.subtract(np.cbrt(125), np.sqrt(36)), np.subtract(np.sqrt(4), np.sqrt(1/4)))\n",
    "c3"
   ]
  },
  {
   "cell_type": "code",
   "execution_count": 56,
   "id": "marked-willow",
   "metadata": {},
   "outputs": [
    {
     "data": {
      "text/plain": [
       "2.0"
      ]
     },
     "execution_count": 56,
     "metadata": {},
     "output_type": "execute_result"
    }
   ],
   "source": [
    "c4 = np.divide(np.subtract(np.multiply(np.sqrt(16), np.sqrt(25)), np.sqrt(64)), np.subtract(np.multiply(np.cbrt(27), np.cbrt(64)), np.cbrt(216)))\n",
    "c4"
   ]
  },
  {
   "cell_type": "markdown",
   "id": "fatal-concentration",
   "metadata": {},
   "source": [
    "# Zadanie 11.9"
   ]
  },
  {
   "cell_type": "code",
   "execution_count": 192,
   "id": "parallel-style",
   "metadata": {},
   "outputs": [
    {
     "data": {
      "text/plain": [
       "array([[0., 0., 0., 0., 0.],\n",
       "       [0., 0., 0., 0., 0.],\n",
       "       [0., 0., 0., 0., 0.],\n",
       "       [0., 0., 0., 0., 0.],\n",
       "       [0., 0., 0., 0., 0.]])"
      ]
     },
     "execution_count": 192,
     "metadata": {},
     "output_type": "execute_result"
    }
   ],
   "source": [
    "a = np.zeros([5, 5])\n",
    "a"
   ]
  },
  {
   "cell_type": "code",
   "execution_count": 193,
   "id": "coastal-compatibility",
   "metadata": {},
   "outputs": [
    {
     "data": {
      "text/plain": [
       "array([[ 25.,  25.,   0.,  12.,  12.],\n",
       "       [  0.,   0.,   0.,   0.,   0.],\n",
       "       [  0., 216., 216., 216.,   0.],\n",
       "       [  0.,   0.,   0.,   0.,   0.],\n",
       "       [ 36.,  36.,   0.,  14.,  14.]])"
      ]
     },
     "execution_count": 193,
     "metadata": {},
     "output_type": "execute_result"
    }
   ],
   "source": [
    "# POZIOMO\n",
    "a[0, 0:2] = np.absolute(-25)\n",
    "a[0, 3:5] = np.multiply(-1/3, -36)\n",
    "a[2, 1:4] = np.power(6, 3)\n",
    "a[4, 0:2] = np.power(np.reciprocal(Fraction(-1, 6)), 2)\n",
    "a[4, 3:5] = np.sqrt(196)\n",
    "a"
   ]
  },
  {
   "cell_type": "code",
   "execution_count": 195,
   "id": "ethical-movie",
   "metadata": {},
   "outputs": [
    {
     "data": {
      "text/plain": [
       "array([[ 25.,  25.,   0.,  12.,  12.],\n",
       "       [  0.,   0.,   0.,   0.,   0.],\n",
       "       [  0., 216., 216., 216.,   0.],\n",
       "       [  0.,   0.,   0.,   0.,   0.],\n",
       "       [ 36.,  36.,   0.,  14.,  14.]])"
      ]
     },
     "execution_count": 195,
     "metadata": {},
     "output_type": "execute_result"
    }
   ],
   "source": [
    "# PIONOWO\n",
    "np.add(a[0:2, 0], 5)\n",
    "a"
   ]
  },
  {
   "cell_type": "code",
   "execution_count": null,
   "id": "purple-gardening",
   "metadata": {},
   "outputs": [],
   "source": []
  },
  {
   "cell_type": "code",
   "execution_count": null,
   "id": "unique-intellectual",
   "metadata": {},
   "outputs": [],
   "source": []
  },
  {
   "cell_type": "code",
   "execution_count": null,
   "id": "developed-description",
   "metadata": {},
   "outputs": [],
   "source": []
  },
  {
   "cell_type": "code",
   "execution_count": null,
   "id": "chinese-study",
   "metadata": {},
   "outputs": [],
   "source": []
  },
  {
   "cell_type": "code",
   "execution_count": null,
   "id": "iraqi-hamburg",
   "metadata": {},
   "outputs": [],
   "source": []
  },
  {
   "cell_type": "code",
   "execution_count": null,
   "id": "immune-retirement",
   "metadata": {},
   "outputs": [],
   "source": []
  },
  {
   "cell_type": "code",
   "execution_count": null,
   "id": "burning-teacher",
   "metadata": {},
   "outputs": [],
   "source": []
  },
  {
   "cell_type": "code",
   "execution_count": null,
   "id": "medieval-range",
   "metadata": {},
   "outputs": [],
   "source": []
  }
 ],
 "metadata": {
  "kernelspec": {
   "display_name": "Python 3",
   "language": "python",
   "name": "python3"
  },
  "language_info": {
   "codemirror_mode": {
    "name": "ipython",
    "version": 3
   },
   "file_extension": ".py",
   "mimetype": "text/x-python",
   "name": "python",
   "nbconvert_exporter": "python",
   "pygments_lexer": "ipython3",
   "version": "3.8.6"
  }
 },
 "nbformat": 4,
 "nbformat_minor": 5
}
