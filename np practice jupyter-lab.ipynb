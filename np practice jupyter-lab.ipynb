{
 "cells": [
  {
   "cell_type": "markdown",
   "id": "53d01fec",
   "metadata": {},
   "source": [
    "## np practice jupyter-lab"
   ]
  },
  {
   "cell_type": "code",
   "execution_count": 1,
   "id": "4707a945",
   "metadata": {},
   "outputs": [],
   "source": [
    "import numpy as np\n",
    "from fractions import Fraction"
   ]
  },
  {
   "cell_type": "markdown",
   "id": "95343704",
   "metadata": {},
   "source": []
  },
  {
   "cell_type": "code",
   "execution_count": 20,
   "id": "a64bcf88",
   "metadata": {},
   "outputs": [
    {
     "name": "stdout",
     "output_type": "stream",
     "text": [
      "[Fraction(2, 3) Fraction(-12, 5) Fraction(-4, 3)]\n"
     ]
    }
   ],
   "source": [
    "dzielenie = np.divide([Fraction(-16, 1), -Fraction(12, 1), Fraction(3 - 7, 1)], [Fraction(-24, 1), 5, -5 + 8])\n",
    "dzielenie\n",
    "print(dzielenie)"
   ]
  },
  {
   "cell_type": "code",
   "execution_count": 23,
   "id": "0a32a0d0",
   "metadata": {},
   "outputs": [
    {
     "data": {
      "text/plain": [
       "array([-7, 3, Fraction(1, 5), Fraction(-5, 3), 0.8, -4.5, 0.25],\n",
       "      dtype=object)"
      ]
     },
     "execution_count": 23,
     "metadata": {},
     "output_type": "execute_result"
    }
   ],
   "source": [
    "lista = np.array([7, -3, -Fraction(1, 5), 1 + Fraction(2, 3), -.8, float(4 + Fraction(1, 2)), -.25])\n",
    "l_odwrotna = np.multiply(lista, -1)\n",
    "l_odwrotna"
   ]
  },
  {
   "cell_type": "markdown",
   "id": "dc1d1d0a",
   "metadata": {},
   "source": []
  },
  {
   "cell_type": "markdown",
   "id": "1f8c4dec",
   "metadata": {},
   "source": [
    "'Jaką liczbą jest iloraz.'"
   ]
  },
  {
   "cell_type": "markdown",
   "id": "2f35410b",
   "metadata": {},
   "source": [
    "a"
   ]
  },
  {
   "cell_type": "code",
   "execution_count": 36,
   "id": "aa43e777",
   "metadata": {},
   "outputs": [
    {
     "data": {
      "text/plain": [
       "array([7.0, Fraction(-15, 14), -0.0, -7.0], dtype=object)"
      ]
     },
     "execution_count": 36,
     "metadata": {},
     "output_type": "execute_result"
    }
   ],
   "source": [
    "iloraz = np.divide([-14, -7 - Fraction(1, 2), 0, 14], [-2, 7, -12, -2])\n",
    "iloraz"
   ]
  },
  {
   "cell_type": "code",
   "execution_count": 38,
   "id": "86ea878d",
   "metadata": {},
   "outputs": [
    {
     "data": {
      "text/plain": [
       "array([7.0], dtype=object)"
      ]
     },
     "execution_count": 38,
     "metadata": {},
     "output_type": "execute_result"
    }
   ],
   "source": [
    "iloraz[iloraz > 0]"
   ]
  },
  {
   "cell_type": "code",
   "execution_count": 39,
   "id": "c6125215",
   "metadata": {},
   "outputs": [
    {
     "data": {
      "text/plain": [
       "array([Fraction(-15, 14), -7.0], dtype=object)"
      ]
     },
     "execution_count": 39,
     "metadata": {},
     "output_type": "execute_result"
    }
   ],
   "source": [
    "iloraz[iloraz < 0]"
   ]
  },
  {
   "cell_type": "code",
   "execution_count": 40,
   "id": "df3bdea0",
   "metadata": {},
   "outputs": [
    {
     "data": {
      "text/plain": [
       "array([-0.0], dtype=object)"
      ]
     },
     "execution_count": 40,
     "metadata": {},
     "output_type": "execute_result"
    }
   ],
   "source": [
    "iloraz[iloraz == 0]"
   ]
  },
  {
   "cell_type": "markdown",
   "id": "514f4660",
   "metadata": {},
   "source": [
    "b"
   ]
  },
  {
   "cell_type": "code",
   "execution_count": 41,
   "id": "26a537d7",
   "metadata": {},
   "outputs": [
    {
     "data": {
      "text/plain": [
       "array([-7. ,  0.6,  1.7, -0. ])"
      ]
     },
     "execution_count": 41,
     "metadata": {},
     "output_type": "execute_result"
    }
   ],
   "source": [
    "iloraz2 = np.divide([-2.1, -4.2, 4.25, -0], [.3, -7, 2.5, -10])\n",
    "iloraz2"
   ]
  },
  {
   "cell_type": "code",
   "execution_count": 42,
   "id": "bb2abd5e",
   "metadata": {},
   "outputs": [
    {
     "data": {
      "text/plain": [
       "array([0.6, 1.7])"
      ]
     },
     "execution_count": 42,
     "metadata": {},
     "output_type": "execute_result"
    }
   ],
   "source": [
    "iloraz2[iloraz2 > 0]"
   ]
  },
  {
   "cell_type": "code",
   "execution_count": 43,
   "id": "180eaa01",
   "metadata": {},
   "outputs": [
    {
     "data": {
      "text/plain": [
       "array([-7.])"
      ]
     },
     "execution_count": 43,
     "metadata": {},
     "output_type": "execute_result"
    }
   ],
   "source": [
    "iloraz2[iloraz2 < 0]"
   ]
  },
  {
   "cell_type": "code",
   "execution_count": 44,
   "id": "8f42b6e2",
   "metadata": {},
   "outputs": [
    {
     "data": {
      "text/plain": [
       "array([-0.])"
      ]
     },
     "execution_count": 44,
     "metadata": {},
     "output_type": "execute_result"
    }
   ],
   "source": [
    "iloraz2[iloraz2 == 0]"
   ]
  },
  {
   "cell_type": "markdown",
   "id": "317c149a",
   "metadata": {},
   "source": [
    "Zadanie 4.7"
   ]
  },
  {
   "cell_type": "code",
   "execution_count": 43,
   "id": "8f7dda2d",
   "metadata": {},
   "outputs": [],
   "source": [
    "a = np.array([[Fraction(-3, 4), Fraction(-15, 28), Fraction(21, 40), Fraction(-7, 15)], [Fraction(-5, 8), Fraction(9, 14), Fraction(-63, 80), Fraction(-7, 20)]])"
   ]
  },
  {
   "cell_type": "code",
   "execution_count": 44,
   "id": "8b1b4be8",
   "metadata": {},
   "outputs": [
    {
     "data": {
      "text/plain": [
       "array([Fraction(6, 5), Fraction(-5, 6), Fraction(-2, 3), Fraction(4, 3)],\n",
       "      dtype=object)"
      ]
     },
     "execution_count": 44,
     "metadata": {},
     "output_type": "execute_result"
    }
   ],
   "source": [
    "a_div = np.divide(a[0], a[1])\n",
    "a_div"
   ]
  },
  {
   "cell_type": "code",
   "execution_count": 52,
   "id": "872c3f57",
   "metadata": {},
   "outputs": [
    {
     "data": {
      "text/plain": [
       "array([Fraction(-3, 4), Fraction(-15, 28), Fraction(21, 40),\n",
       "       Fraction(-7, 15)], dtype=object)"
      ]
     },
     "execution_count": 52,
     "metadata": {},
     "output_type": "execute_result"
    }
   ],
   "source": [
    "a_check = np.multiply(a[1], a_div)\n",
    "a_check"
   ]
  },
  {
   "cell_type": "code",
   "execution_count": 55,
   "id": "1f68df54",
   "metadata": {},
   "outputs": [
    {
     "data": {
      "text/plain": [
       "array([[-36, Fraction(-10, 3), Fraction(38, 7), Fraction(-77, 8)],\n",
       "       [-9, Fraction(-20, 9), Fraction(-8, 3), Fraction(-11, 4)]],\n",
       "      dtype=object)"
      ]
     },
     "execution_count": 55,
     "metadata": {},
     "output_type": "execute_result"
    }
   ],
   "source": [
    "b = np.array([[-36, -3 - Fraction(1, 3), 5 + Fraction(3, 7), -9 - Fraction(5, 8)], [-9, -2 - Fraction(2, 9), -2  - Fraction(2, 3), -2 + Fraction(-3, 4)]])\n",
    "b"
   ]
  },
  {
   "cell_type": "code",
   "execution_count": 57,
   "id": "f05a03a6",
   "metadata": {},
   "outputs": [
    {
     "data": {
      "text/plain": [
       "array([4.0, Fraction(3, 2), Fraction(-57, 28), Fraction(7, 2)],\n",
       "      dtype=object)"
      ]
     },
     "execution_count": 57,
     "metadata": {},
     "output_type": "execute_result"
    }
   ],
   "source": [
    "b_div = np.divide(b[0], b[1])\n",
    "b_div"
   ]
  },
  {
   "cell_type": "code",
   "execution_count": 64,
   "id": "f9f08502",
   "metadata": {},
   "outputs": [
    {
     "data": {
      "text/plain": [
       "array([-36.        ,  -3.33333333,   5.42857143,  -9.625     ])"
      ]
     },
     "execution_count": 64,
     "metadata": {},
     "output_type": "execute_result"
    }
   ],
   "source": [
    "b_check = np.multiply(b_div, b[1])\n",
    "b_check.astype(float)"
   ]
  },
  {
   "cell_type": "code",
   "execution_count": 66,
   "id": "ad5fa970",
   "metadata": {},
   "outputs": [
    {
     "data": {
      "text/plain": [
       "array([[-4.2, Fraction(-27, 8), -2.4, Fraction(-15, 4)],\n",
       "       [0.6, 0.9, -0.24, 2.5]], dtype=object)"
      ]
     },
     "execution_count": 66,
     "metadata": {},
     "output_type": "execute_result"
    }
   ],
   "source": [
    "c = np.array([[-4.2, -3 - Fraction(3, 8), -2.4, -3 - Fraction(3, 4)], [.6, .9, -.24, 2.5]])\n",
    "c"
   ]
  },
  {
   "cell_type": "code",
   "execution_count": 68,
   "id": "9ab64988",
   "metadata": {},
   "outputs": [
    {
     "data": {
      "text/plain": [
       "array([-7.000000000000001, -3.75, 10.0, -1.5], dtype=object)"
      ]
     },
     "execution_count": 68,
     "metadata": {},
     "output_type": "execute_result"
    }
   ],
   "source": [
    "c_div = np.divide(c[0], c[1])\n",
    "c_div"
   ]
  },
  {
   "cell_type": "code",
   "execution_count": 73,
   "id": "2fac5535",
   "metadata": {},
   "outputs": [
    {
     "data": {
      "text/plain": [
       "array([-4.2  , -3.375, -2.4  , -3.75 ])"
      ]
     },
     "execution_count": 73,
     "metadata": {},
     "output_type": "execute_result"
    }
   ],
   "source": [
    "c_check = np.multiply(c_div, c[1])\n",
    "c_check.astype(float)"
   ]
  },
  {
   "cell_type": "markdown",
   "id": "809407c4",
   "metadata": {},
   "source": [
    "Zadanie 7.5"
   ]
  },
  {
   "cell_type": "code",
   "execution_count": 130,
   "id": "298bc42e",
   "metadata": {},
   "outputs": [
    {
     "data": {
      "text/plain": [
       "Fraction(-5, 9)"
      ]
     },
     "execution_count": 130,
     "metadata": {},
     "output_type": "execute_result"
    }
   ],
   "source": [
    "a = np.array([-2 - Fraction(2, 3)])\n",
    "x = np.divide(a[0], 4.8)\n",
    "x = Fraction(x)\n",
    "x.limit_denominator()"
   ]
  },
  {
   "cell_type": "code",
   "execution_count": 135,
   "id": "d1bfdd7d",
   "metadata": {},
   "outputs": [
    {
     "data": {
      "text/plain": [
       "4.8"
      ]
     },
     "execution_count": 135,
     "metadata": {},
     "output_type": "execute_result"
    }
   ],
   "source": [
    "a_check = np.divide(a[0], x)\n",
    "float(a_check.limit_denominator())"
   ]
  },
  {
   "cell_type": "markdown",
   "id": "15225305",
   "metadata": {},
   "source": [
    "b)"
   ]
  },
  {
   "cell_type": "code",
   "execution_count": 15,
   "id": "18156ef6",
   "metadata": {},
   "outputs": [
    {
     "data": {
      "text/plain": [
       "-2.6666666666666665"
      ]
     },
     "execution_count": 15,
     "metadata": {},
     "output_type": "execute_result"
    }
   ],
   "source": [
    "b = np.divide(5 + Fraction(3, 7), -2 - Fraction(1, 28))\n",
    "float(b)"
   ]
  },
  {
   "cell_type": "code",
   "execution_count": 142,
   "id": "2ffefe99",
   "metadata": {},
   "outputs": [
    {
     "data": {
      "text/plain": [
       "-2.0357142857142856"
      ]
     },
     "execution_count": 142,
     "metadata": {},
     "output_type": "execute_result"
    }
   ],
   "source": [
    "b_check = np.divide(5 + Fraction(3, 7), b)\n",
    "float(b_check)"
   ]
  },
  {
   "cell_type": "markdown",
   "id": "17042646",
   "metadata": {},
   "source": [
    "c)"
   ]
  },
  {
   "cell_type": "code",
   "execution_count": 152,
   "id": "8670d2df",
   "metadata": {},
   "outputs": [
    {
     "data": {
      "text/plain": [
       "-2.75"
      ]
     },
     "execution_count": 152,
     "metadata": {},
     "output_type": "execute_result"
    }
   ],
   "source": [
    "c = np.prod([-1.1, 2 + Fraction(1, 2)])\n",
    "c"
   ]
  },
  {
   "cell_type": "code",
   "execution_count": 153,
   "id": "d0c272bc",
   "metadata": {},
   "outputs": [
    {
     "data": {
      "text/plain": [
       "2.5"
      ]
     },
     "execution_count": 153,
     "metadata": {},
     "output_type": "execute_result"
    }
   ],
   "source": [
    "c_check = np.divide(c, -1.1)\n",
    "c_check"
   ]
  },
  {
   "cell_type": "markdown",
   "id": "5d99e9d3",
   "metadata": {},
   "source": [
    "d)"
   ]
  },
  {
   "cell_type": "code",
   "execution_count": 1,
   "id": "a74cb4b7",
   "metadata": {},
   "outputs": [],
   "source": [
    "# d = np.linalg.solve([[6], []], [3])\n",
    "# d"
   ]
  },
  {
   "cell_type": "code",
   "execution_count": 167,
   "id": "a25ab219",
   "metadata": {},
   "outputs": [
    {
     "data": {
      "text/plain": [
       "1.5"
      ]
     },
     "execution_count": 167,
     "metadata": {},
     "output_type": "execute_result"
    }
   ],
   "source": [
    "d=np.divide(-6.75, -4 - Fraction(1, 2))\n",
    "d"
   ]
  },
  {
   "cell_type": "code",
   "execution_count": 168,
   "id": "9769fcfc",
   "metadata": {},
   "outputs": [
    {
     "data": {
      "text/plain": [
       "-6.75"
      ]
     },
     "execution_count": 168,
     "metadata": {},
     "output_type": "execute_result"
    }
   ],
   "source": [
    "d_check = np.multiply(-4 - Fraction(1, 2), d)\n",
    "d_check"
   ]
  },
  {
   "cell_type": "code",
   "execution_count": 17,
   "id": "e88c9b00",
   "metadata": {},
   "outputs": [
    {
     "data": {
      "text/plain": [
       "Fraction(8, 5)"
      ]
     },
     "execution_count": 17,
     "metadata": {},
     "output_type": "execute_result"
    }
   ],
   "source": [
    "e = np.divide(Fraction(-4, 5), -.5)\n",
    "Fraction(e).limit_denominator()"
   ]
  },
  {
   "cell_type": "code",
   "execution_count": 173,
   "id": "42b2df8c",
   "metadata": {},
   "outputs": [
    {
     "data": {
      "text/plain": [
       "Fraction(-4, 5)"
      ]
     },
     "execution_count": 173,
     "metadata": {},
     "output_type": "execute_result"
    }
   ],
   "source": [
    "e_check = np.prod([e, -0.5])\n",
    "Fraction(e_check).limit_denominator()"
   ]
  },
  {
   "cell_type": "code",
   "execution_count": 19,
   "id": "246ceefd",
   "metadata": {},
   "outputs": [
    {
     "data": {
      "text/plain": [
       "Fraction(19, 5)"
      ]
     },
     "execution_count": 19,
     "metadata": {},
     "output_type": "execute_result"
    }
   ],
   "source": [
    "f = np.prod([-2 - Fraction(1, 9), -1.8])\n",
    "Fraction(f).limit_denominator()"
   ]
  },
  {
   "cell_type": "code",
   "execution_count": 176,
   "id": "f99bf6d7",
   "metadata": {},
   "outputs": [
    {
     "data": {
      "text/plain": [
       "-1.8"
      ]
     },
     "execution_count": 176,
     "metadata": {},
     "output_type": "execute_result"
    }
   ],
   "source": [
    "f_check = np.divide(f, -2 -Fraction(1,9))\n",
    "f_check"
   ]
  },
  {
   "cell_type": "markdown",
   "id": "2dd86583",
   "metadata": {},
   "source": [
    "Zadanie 7.6"
   ]
  },
  {
   "cell_type": "code",
   "execution_count": 179,
   "id": "fdf6b59a",
   "metadata": {},
   "outputs": [
    {
     "data": {
      "text/plain": [
       "-6.235294117647058"
      ]
     },
     "execution_count": 179,
     "metadata": {},
     "output_type": "execute_result"
    }
   ],
   "source": [
    "a = np.divide(np.sum([-3.5, -5 -Fraction(1, 3)]), 1 + Fraction(5, 12))\n",
    "a"
   ]
  },
  {
   "cell_type": "markdown",
   "id": "24bb0d9c",
   "metadata": {},
   "source": [
    "Zadanie 7.7"
   ]
  },
  {
   "cell_type": "code",
   "execution_count": 189,
   "id": "68114f34",
   "metadata": {},
   "outputs": [
    {
     "data": {
      "text/plain": [
       "Fraction(-7, 3)"
      ]
     },
     "execution_count": 189,
     "metadata": {},
     "output_type": "execute_result"
    }
   ],
   "source": [
    "a = np.divide(-3 -Fraction(1, 8), -6 -Fraction(1, 4))\n",
    "a1 = np.multiply(a, -4 - Fraction(2, 3))\n",
    "a1"
   ]
  },
  {
   "cell_type": "markdown",
   "id": "2ca4e82b",
   "metadata": {},
   "source": [
    "Zadanie 7.8"
   ]
  },
  {
   "cell_type": "code",
   "execution_count": 196,
   "id": "82ebc4b7",
   "metadata": {},
   "outputs": [
    {
     "data": {
      "text/plain": [
       "-252.0"
      ]
     },
     "execution_count": 196,
     "metadata": {},
     "output_type": "execute_result"
    }
   ],
   "source": [
    "a = np.divide(-180, 5)\n",
    "a1 = np.prod([a, 7])\n",
    "a1"
   ]
  },
  {
   "cell_type": "code",
   "execution_count": 197,
   "id": "0c1e5839",
   "metadata": {},
   "outputs": [
    {
     "data": {
      "text/plain": [
       "Fraction(-22, 3)"
      ]
     },
     "execution_count": 197,
     "metadata": {},
     "output_type": "execute_result"
    }
   ],
   "source": [
    "b = np.prod([np.divide(-3 -Fraction(1, 3), 5), 11])\n",
    "b"
   ]
  },
  {
   "cell_type": "code",
   "execution_count": 199,
   "id": "cb60b4a4",
   "metadata": {},
   "outputs": [
    {
     "data": {
      "text/plain": [
       "-2.7"
      ]
     },
     "execution_count": 199,
     "metadata": {},
     "output_type": "execute_result"
    }
   ],
   "source": [
    "c = np.divide(-6.75, 2.5)\n",
    "c"
   ]
  },
  {
   "cell_type": "code",
   "execution_count": 201,
   "id": "cdae48d2",
   "metadata": {},
   "outputs": [
    {
     "data": {
      "text/plain": [
       "-56.0"
      ]
     },
     "execution_count": 201,
     "metadata": {},
     "output_type": "execute_result"
    }
   ],
   "source": [
    "d = np.prod([0.2, -245])\n",
    "d1 = np.divide(d, 7)\n",
    "d2 = np.multiply(d1, 8)\n",
    "d2"
   ]
  },
  {
   "cell_type": "markdown",
   "id": "d1fbfe7c",
   "metadata": {},
   "source": [
    "Zadanie 7.9"
   ]
  },
  {
   "cell_type": "code",
   "execution_count": 11,
   "id": "bb0ad2a4",
   "metadata": {},
   "outputs": [
    {
     "data": {
      "text/plain": [
       "8.166666666666668"
      ]
     },
     "execution_count": 11,
     "metadata": {},
     "output_type": "execute_result"
    }
   ],
   "source": [
    "d_diff = np.subtract(4 +Fraction(2, 3), -3.5)\n",
    "d_diff"
   ]
  },
  {
   "cell_type": "code",
   "execution_count": 10,
   "id": "4aafab12",
   "metadata": {},
   "outputs": [
    {
     "data": {
      "text/plain": [
       "1.166666666666667"
      ]
     },
     "execution_count": 10,
     "metadata": {},
     "output_type": "execute_result"
    }
   ],
   "source": [
    "d_sum =np.sum([4 + Fraction(2, 3), -3.5])\n",
    "d_sum"
   ]
  },
  {
   "cell_type": "code",
   "execution_count": 22,
   "id": "a20e99ca",
   "metadata": {},
   "outputs": [
    {
     "data": {
      "text/plain": [
       "7"
      ]
     },
     "execution_count": 22,
     "metadata": {},
     "output_type": "execute_result"
    }
   ],
   "source": [
    "d_div = np.divide(d_diff, d_sum)\n",
    "round(d_div)"
   ]
  },
  {
   "cell_type": "markdown",
   "id": "f534448f",
   "metadata": {},
   "source": [
    "Zad 7.10"
   ]
  },
  {
   "cell_type": "code",
   "execution_count": 27,
   "id": "770df319",
   "metadata": {},
   "outputs": [
    {
     "data": {
      "text/plain": [
       "-2.16"
      ]
     },
     "execution_count": 27,
     "metadata": {},
     "output_type": "execute_result"
    }
   ],
   "source": [
    "a = np.multiply(np.subtract(np.divide(-7 - Fraction(1, 5), 0.5), np.multiply(-7 - Fraction(1, 5), 0.5)), 0.2)\n",
    "a"
   ]
  },
  {
   "cell_type": "code",
   "execution_count": null,
   "id": "7498ad64",
   "metadata": {},
   "outputs": [],
   "source": []
  },
  {
   "cell_type": "code",
   "execution_count": 43,
   "id": "134279a2",
   "metadata": {},
   "outputs": [],
   "source": [
    "import math"
   ]
  },
  {
   "cell_type": "markdown",
   "id": "6fd7510c",
   "metadata": {},
   "source": [
    "Rozdział 8"
   ]
  },
  {
   "cell_type": "code",
   "execution_count": 65,
   "id": "90aaf867",
   "metadata": {},
   "outputs": [
    {
     "data": {
      "text/plain": [
       "Fraction(-8, 125)"
      ]
     },
     "execution_count": 65,
     "metadata": {},
     "output_type": "execute_result"
    }
   ],
   "source": [
    "d = np.power(Fraction(-2, 5), 3)\n",
    "d"
   ]
  },
  {
   "cell_type": "code",
   "execution_count": 68,
   "id": "2da1d051",
   "metadata": {},
   "outputs": [
    {
     "data": {
      "text/plain": [
       "-6"
      ]
     },
     "execution_count": 68,
     "metadata": {},
     "output_type": "execute_result"
    }
   ],
   "source": [
    "o = np.power(-6, 1)\n",
    "o"
   ]
  },
  {
   "cell_type": "code",
   "execution_count": 69,
   "id": "55833982",
   "metadata": {},
   "outputs": [
    {
     "data": {
      "text/plain": [
       "1"
      ]
     },
     "execution_count": 69,
     "metadata": {},
     "output_type": "execute_result"
    }
   ],
   "source": [
    "o1 = np.power(10, 0)\n",
    "o1"
   ]
  },
  {
   "cell_type": "code",
   "execution_count": 70,
   "id": "6ca8cfa2",
   "metadata": {},
   "outputs": [
    {
     "data": {
      "text/plain": [
       "1"
      ]
     },
     "execution_count": 70,
     "metadata": {},
     "output_type": "execute_result"
    }
   ],
   "source": [
    "o2 =np.power(-8, 0)\n",
    "o2"
   ]
  },
  {
   "cell_type": "code",
   "execution_count": 71,
   "id": "25533448",
   "metadata": {},
   "outputs": [
    {
     "data": {
      "text/plain": [
       "1.0"
      ]
     },
     "execution_count": 71,
     "metadata": {},
     "output_type": "execute_result"
    }
   ],
   "source": [
    "o3 = np.power(-1.3, 0)\n",
    "o3"
   ]
  },
  {
   "cell_type": "code",
   "execution_count": 72,
   "id": "0c48a2f0",
   "metadata": {},
   "outputs": [
    {
     "data": {
      "text/plain": [
       "Fraction(1, 1)"
      ]
     },
     "execution_count": 72,
     "metadata": {},
     "output_type": "execute_result"
    }
   ],
   "source": [
    "o4 = np.power(Fraction(-5, 6), 0)\n",
    "o4"
   ]
  },
  {
   "cell_type": "code",
   "execution_count": null,
   "id": "3881da15",
   "metadata": {},
   "outputs": [],
   "source": [
    "Zadanie 2"
   ]
  },
  {
   "cell_type": "code",
   "execution_count": 73,
   "id": "660838b3",
   "metadata": {},
   "outputs": [
    {
     "data": {
      "text/plain": [
       "16"
      ]
     },
     "execution_count": 73,
     "metadata": {},
     "output_type": "execute_result"
    }
   ],
   "source": [
    "a = np.power(4, 2)\n",
    "a"
   ]
  },
  {
   "cell_type": "code",
   "execution_count": 75,
   "id": "28b91f4b",
   "metadata": {},
   "outputs": [
    {
     "data": {
      "text/plain": [
       "Fraction(8, 27)"
      ]
     },
     "execution_count": 75,
     "metadata": {},
     "output_type": "execute_result"
    }
   ],
   "source": [
    "b = np.power(Fraction(2, 3), 3)\n",
    "b"
   ]
  },
  {
   "cell_type": "code",
   "execution_count": 76,
   "id": "095106c2",
   "metadata": {},
   "outputs": [
    {
     "data": {
      "text/plain": [
       "12"
      ]
     },
     "execution_count": 76,
     "metadata": {},
     "output_type": "execute_result"
    }
   ],
   "source": [
    "c= np.power(12, 1)\n",
    "c"
   ]
  },
  {
   "cell_type": "code",
   "execution_count": 79,
   "id": "95f9705f",
   "metadata": {},
   "outputs": [
    {
     "data": {
      "text/plain": [
       "Fraction(1, 1)"
      ]
     },
     "execution_count": 79,
     "metadata": {},
     "output_type": "execute_result"
    }
   ],
   "source": [
    "d = np.power(4 + Fraction(1, 3), 0)\n",
    "d"
   ]
  },
  {
   "cell_type": "code",
   "execution_count": null,
   "id": "056f7098",
   "metadata": {},
   "outputs": [],
   "source": [
    "Zadanie 3 "
   ]
  },
  {
   "cell_type": "code",
   "execution_count": 82,
   "id": "fdbf5f46",
   "metadata": {},
   "outputs": [
    {
     "data": {
      "text/plain": [
       "array([-3, Fraction(4, 25), -8, Fraction(16, 81), Fraction(-1, 32), 1],\n",
       "      dtype=object)"
      ]
     },
     "execution_count": 82,
     "metadata": {},
     "output_type": "execute_result"
    }
   ],
   "source": [
    "a = np.power([-3, Fraction(-2, 5), -2, Fraction(-2, 3), -Fraction(1, 2), -1], [1, 2, 3, 4, 5, 6])\n",
    "a"
   ]
  },
  {
   "cell_type": "code",
   "execution_count": null,
   "id": "0d61998f",
   "metadata": {},
   "outputs": [],
   "source": [
    "Zad 8.2"
   ]
  },
  {
   "cell_type": "code",
   "execution_count": 83,
   "id": "c8f429f3",
   "metadata": {},
   "outputs": [
    {
     "data": {
      "text/plain": [
       "-216"
      ]
     },
     "execution_count": 83,
     "metadata": {},
     "output_type": "execute_result"
    }
   ],
   "source": [
    "a3 = np.power(-6, 3)\n",
    "a3"
   ]
  },
  {
   "cell_type": "code",
   "execution_count": 85,
   "id": "261e8632",
   "metadata": {},
   "outputs": [
    {
     "data": {
      "text/plain": [
       "Fraction(49, 9)"
      ]
     },
     "execution_count": 85,
     "metadata": {},
     "output_type": "execute_result"
    }
   ],
   "source": [
    "b1= np.power(-2 - Fraction(1, 3), 2)\n",
    "b1"
   ]
  },
  {
   "cell_type": "code",
   "execution_count": 87,
   "id": "a5410cfb",
   "metadata": {},
   "outputs": [
    {
     "data": {
      "text/plain": [
       "37.03703703703704"
      ]
     },
     "execution_count": 87,
     "metadata": {},
     "output_type": "execute_result"
    }
   ],
   "source": [
    "b2 =np.power(3 + Fraction(1, 3), 3)\n",
    "float(b2)"
   ]
  },
  {
   "cell_type": "code",
   "execution_count": 89,
   "id": "fc0f8498",
   "metadata": {},
   "outputs": [
    {
     "data": {
      "text/plain": [
       "7.5625"
      ]
     },
     "execution_count": 89,
     "metadata": {},
     "output_type": "execute_result"
    }
   ],
   "source": [
    "b3 = np.power(-2 - Fraction(3, 4), 2)\n",
    "float(b3)"
   ]
  },
  {
   "cell_type": "code",
   "execution_count": 91,
   "id": "8f18f7fd",
   "metadata": {},
   "outputs": [
    {
     "data": {
      "text/plain": [
       "56.25"
      ]
     },
     "execution_count": 91,
     "metadata": {},
     "output_type": "execute_result"
    }
   ],
   "source": [
    "b4 = np.power(-7 - Fraction(1, 2), 2)\n",
    "float(b4)"
   ]
  },
  {
   "cell_type": "code",
   "execution_count": 92,
   "id": "21a06438",
   "metadata": {},
   "outputs": [
    {
     "data": {
      "text/plain": [
       "0.25"
      ]
     },
     "execution_count": 92,
     "metadata": {},
     "output_type": "execute_result"
    }
   ],
   "source": [
    "c1 = np.power(-.5, 2)\n",
    "c1"
   ]
  },
  {
   "cell_type": "code",
   "execution_count": 93,
   "id": "02321094",
   "metadata": {},
   "outputs": [
    {
     "data": {
      "text/plain": [
       "2.25"
      ]
     },
     "execution_count": 93,
     "metadata": {},
     "output_type": "execute_result"
    }
   ],
   "source": [
    "c2 = np.power(1.5, 2)\n",
    "c2"
   ]
  },
  {
   "cell_type": "code",
   "execution_count": 94,
   "id": "aedc4fa7",
   "metadata": {},
   "outputs": [
    {
     "data": {
      "text/plain": [
       "2.5600000000000005"
      ]
     },
     "execution_count": 94,
     "metadata": {},
     "output_type": "execute_result"
    }
   ],
   "source": [
    "c3 = np.power(-1.6, 2)\n",
    "c3"
   ]
  },
  {
   "cell_type": "code",
   "execution_count": 98,
   "id": "2e6871da",
   "metadata": {},
   "outputs": [
    {
     "data": {
      "text/plain": [
       "Fraction(-27, 1000)"
      ]
     },
     "execution_count": 98,
     "metadata": {},
     "output_type": "execute_result"
    }
   ],
   "source": [
    "c4 = np.power(-.3, 3)\n",
    "Fraction(c4).limit_denominator()"
   ]
  },
  {
   "cell_type": "markdown",
   "id": "34c48a47",
   "metadata": {},
   "source": [
    "Zad 8.3"
   ]
  },
  {
   "cell_type": "code",
   "execution_count": 100,
   "id": "4c41edd8",
   "metadata": {},
   "outputs": [
    {
     "data": {
      "text/plain": [
       "Fraction(-10, 3)"
      ]
     },
     "execution_count": 100,
     "metadata": {},
     "output_type": "execute_result"
    }
   ],
   "source": [
    "a1 = np.power(-3 - Fraction(1, 3), 1)\n",
    "a1"
   ]
  },
  {
   "cell_type": "code",
   "execution_count": 101,
   "id": "dc2a55f3",
   "metadata": {},
   "outputs": [
    {
     "data": {
      "text/plain": [
       "1.0"
      ]
     },
     "execution_count": 101,
     "metadata": {},
     "output_type": "execute_result"
    }
   ],
   "source": [
    "a2 = np.power(-10.1, 0)\n",
    "a2"
   ]
  },
  {
   "cell_type": "code",
   "execution_count": 102,
   "id": "ec56e2df",
   "metadata": {},
   "outputs": [
    {
     "data": {
      "text/plain": [
       "Fraction(1, 1)"
      ]
     },
     "execution_count": 102,
     "metadata": {},
     "output_type": "execute_result"
    }
   ],
   "source": [
    "a3 = np.power(6 + Fraction(5, 6), 0)\n",
    "a3"
   ]
  },
  {
   "cell_type": "code",
   "execution_count": 103,
   "id": "ae9b35d1",
   "metadata": {},
   "outputs": [
    {
     "data": {
      "text/plain": [
       "Fraction(61, 7)"
      ]
     },
     "execution_count": 103,
     "metadata": {},
     "output_type": "execute_result"
    }
   ],
   "source": [
    "a4 = np.power(8 + Fraction(5, 7), 1)\n",
    "a4"
   ]
  },
  {
   "cell_type": "code",
   "execution_count": 106,
   "id": "cd45fd6d",
   "metadata": {},
   "outputs": [
    {
     "data": {
      "text/plain": [
       "Fraction(9, 16)"
      ]
     },
     "execution_count": 106,
     "metadata": {},
     "output_type": "execute_result"
    }
   ],
   "source": [
    "b1 = np.power(Fraction(3, 4), 2)\n",
    "b1"
   ]
  },
  {
   "cell_type": "code",
   "execution_count": 107,
   "id": "eb4bd58e",
   "metadata": {},
   "outputs": [
    {
     "data": {
      "text/plain": [
       "Fraction(9, 16)"
      ]
     },
     "execution_count": 107,
     "metadata": {},
     "output_type": "execute_result"
    }
   ],
   "source": [
    "b2 = np.power(-Fraction(3, 4), 2)\n",
    "b2"
   ]
  },
  {
   "cell_type": "code",
   "execution_count": 109,
   "id": "307d0750",
   "metadata": {},
   "outputs": [
    {
     "data": {
      "text/plain": [
       "Fraction(1, 8)"
      ]
     },
     "execution_count": 109,
     "metadata": {},
     "output_type": "execute_result"
    }
   ],
   "source": [
    "b3 = np.power(Fraction(1, 2), 3)\n",
    "b3"
   ]
  },
  {
   "cell_type": "code",
   "execution_count": 110,
   "id": "f8d320a7",
   "metadata": {},
   "outputs": [
    {
     "data": {
      "text/plain": [
       "Fraction(-1, 8)"
      ]
     },
     "execution_count": 110,
     "metadata": {},
     "output_type": "execute_result"
    }
   ],
   "source": [
    "b3 = np.power(-Fraction(1, 2), 3)\n",
    "b3 "
   ]
  },
  {
   "cell_type": "code",
   "execution_count": 113,
   "id": "37d72d3a",
   "metadata": {},
   "outputs": [
    {
     "data": {
      "text/plain": [
       "Fraction(13, 36)"
      ]
     },
     "execution_count": 113,
     "metadata": {},
     "output_type": "execute_result"
    }
   ],
   "source": [
    "c1 = np.sum(np.power([Fraction(1, 3), Fraction(-1, 2)], [2, 2]))\n",
    "c1"
   ]
  },
  {
   "cell_type": "code",
   "execution_count": 120,
   "id": "cf696a6f",
   "metadata": {},
   "outputs": [
    {
     "data": {
      "text/plain": [
       "Fraction(-5, 36)"
      ]
     },
     "execution_count": 120,
     "metadata": {},
     "output_type": "execute_result"
    }
   ],
   "source": [
    "c2 = np.subtract(np.power(Fraction(1, -3), 2), np.power(Fraction(-1, 2), 2))\n",
    "c2               "
   ]
  },
  {
   "cell_type": "markdown",
   "id": "e79b7b28",
   "metadata": {},
   "source": [
    "Zad 8.4"
   ]
  },
  {
   "cell_type": "code",
   "execution_count": 128,
   "id": "61ba6de5",
   "metadata": {},
   "outputs": [
    {
     "name": "stdout",
     "output_type": "stream",
     "text": [
      "-0.2222222222222222\n",
      "-2/9\n"
     ]
    }
   ],
   "source": [
    "a = np.subtract(np.multiply(.5, -Fraction(1, 3)), Fraction(1, 18))\n",
    "print(a)\n",
    "print(Fraction(a).limit_denominator())"
   ]
  },
  {
   "cell_type": "code",
   "execution_count": 156,
   "id": "5e225cdd",
   "metadata": {},
   "outputs": [
    {
     "data": {
      "text/plain": [
       "Fraction(7, 32)"
      ]
     },
     "execution_count": 156,
     "metadata": {},
     "output_type": "execute_result"
    }
   ],
   "source": [
    "b= np.multiply(np.power(np.subtract(1.5, 1 + Fraction(3, 4)), 2), 3 + Fraction(1, 2))\n",
    "Fraction(b)"
   ]
  },
  {
   "cell_type": "code",
   "execution_count": 167,
   "id": "9de1aadb",
   "metadata": {},
   "outputs": [
    {
     "data": {
      "text/plain": [
       "Fraction(5, 16)"
      ]
     },
     "execution_count": 167,
     "metadata": {},
     "output_type": "execute_result"
    }
   ],
   "source": [
    "c = np.subtract(Fraction(1, 2), np.power(-0.5, 2)) + np.power(-Fraction(1, 4), 2)\n",
    "Fraction(c)"
   ]
  },
  {
   "cell_type": "code",
   "execution_count": 168,
   "id": "062a6e03",
   "metadata": {},
   "outputs": [
    {
     "data": {
      "text/plain": [
       "Fraction(5, 16)"
      ]
     },
     "execution_count": 168,
     "metadata": {},
     "output_type": "execute_result"
    }
   ],
   "source": [
    "c = np.sum([np.subtract(Fraction(1, 2), np.power(-0.5, 2)), np.power(-Fraction(1, 4), 2)])\n",
    "Fraction(c)"
   ]
  },
  {
   "cell_type": "code",
   "execution_count": 174,
   "id": "1ee911a7",
   "metadata": {},
   "outputs": [
    {
     "data": {
      "text/plain": [
       "Fraction(-35, 6)"
      ]
     },
     "execution_count": 174,
     "metadata": {},
     "output_type": "execute_result"
    }
   ],
   "source": [
    "d = np.subtract(np.divide(np.power(-2 - Fraction(2, 3), 2), - Fraction(2, 3)), -4 - Fraction(5, 6))\n",
    "d"
   ]
  },
  {
   "cell_type": "markdown",
   "id": "9753009c",
   "metadata": {},
   "source": [
    "Zad 8.5"
   ]
  },
  {
   "cell_type": "code",
   "execution_count": 94,
   "id": "60385548",
   "metadata": {},
   "outputs": [
    {
     "data": {
      "text/plain": [
       "(-230752268637185668771,\n",
       " 1126030494814647156736,\n",
       " 'max to: ',\n",
       " 1126030494814647156736)"
      ]
     },
     "execution_count": 94,
     "metadata": {},
     "output_type": "execute_result"
    }
   ],
   "source": [
    "a = -811 ** 7 \n",
    "aa = 428 ** 8\n",
    "a1 = max(a, aa)\n",
    "a, aa, 'max to: ', a1  "
   ]
  },
  {
   "cell_type": "code",
   "execution_count": 83,
   "id": "acd5d470",
   "metadata": {},
   "outputs": [
    {
     "data": {
      "text/plain": [
       "-230752268637185668771"
      ]
     },
     "execution_count": 83,
     "metadata": {},
     "output_type": "execute_result"
    }
   ],
   "source": []
  },
  {
   "cell_type": "markdown",
   "id": "ae71905c",
   "metadata": {},
   "source": [
    "Rozdział 9."
   ]
  },
  {
   "cell_type": "code",
   "execution_count": 70,
   "id": "c15841ec",
   "metadata": {},
   "outputs": [
    {
     "data": {
      "text/plain": [
       "array([6., 4.])"
      ]
     },
     "execution_count": 70,
     "metadata": {},
     "output_type": "execute_result"
    }
   ],
   "source": [
    "a = np.sqrt([36, 16])\n",
    "a"
   ]
  },
  {
   "cell_type": "code",
   "execution_count": 10,
   "id": "5c12d90c",
   "metadata": {},
   "outputs": [
    {
     "data": {
      "text/plain": [
       "array([5., 7.])"
      ]
     },
     "execution_count": 10,
     "metadata": {},
     "output_type": "execute_result"
    }
   ],
   "source": [
    "a1 = np.cbrt([125, 343])\n",
    "a1"
   ]
  },
  {
   "cell_type": "code",
   "execution_count": null,
   "id": "5f937387",
   "metadata": {},
   "outputs": [],
   "source": [
    "a1 = np.cbrt(125)"
   ]
  },
  {
   "cell_type": "code",
   "execution_count": 12,
   "id": "e5fd0dba",
   "metadata": {},
   "outputs": [
    {
     "data": {
      "text/plain": [
       "1.3333333333333333"
      ]
     },
     "execution_count": 12,
     "metadata": {},
     "output_type": "execute_result"
    }
   ],
   "source": [
    "a3 = np.cbrt(2 + 10/27)\n",
    "a3"
   ]
  },
  {
   "cell_type": "code",
   "execution_count": 15,
   "id": "8299f84b",
   "metadata": {},
   "outputs": [
    {
     "data": {
      "text/plain": [
       "1.25"
      ]
     },
     "execution_count": 15,
     "metadata": {},
     "output_type": "execute_result"
    }
   ],
   "source": [
    "a4 = np.cbrt(1 + 61/64)\n",
    "a4"
   ]
  },
  {
   "cell_type": "code",
   "execution_count": null,
   "id": "c4c4674e",
   "metadata": {},
   "outputs": [],
   "source": [
    "Zad 9.2"
   ]
  },
  {
   "cell_type": "code",
   "execution_count": 20,
   "id": "4da9c919",
   "metadata": {},
   "outputs": [
    {
     "data": {
      "text/plain": [
       "3.0"
      ]
     },
     "execution_count": 20,
     "metadata": {},
     "output_type": "execute_result"
    }
   ],
   "source": [
    "a1 = np.sqrt(np.power(3, 2))\n",
    "a1"
   ]
  },
  {
   "cell_type": "code",
   "execution_count": 22,
   "id": "701d72c7",
   "metadata": {},
   "outputs": [
    {
     "data": {
      "text/plain": [
       "3.0"
      ]
     },
     "execution_count": 22,
     "metadata": {},
     "output_type": "execute_result"
    }
   ],
   "source": [
    "a1 = np.cbrt(np.power(3, 3))\n",
    "a1"
   ]
  },
  {
   "cell_type": "code",
   "execution_count": 27,
   "id": "081b00ee",
   "metadata": {},
   "outputs": [
    {
     "data": {
      "text/plain": [
       "Fraction(11, 1)"
      ]
     },
     "execution_count": 27,
     "metadata": {},
     "output_type": "execute_result"
    }
   ],
   "source": [
    "a4 = np.sqrt(np.power(11, 2))\n",
    "Fraction(a4).limit_denominator()"
   ]
  },
  {
   "cell_type": "code",
   "execution_count": 32,
   "id": "a839a1a4",
   "metadata": {},
   "outputs": [
    {
     "data": {
      "text/plain": [
       "0.2"
      ]
     },
     "execution_count": 32,
     "metadata": {},
     "output_type": "execute_result"
    }
   ],
   "source": [
    "b1 = np.sqrt(np.power(1/5, 2))\n",
    "b1"
   ]
  },
  {
   "cell_type": "code",
   "execution_count": 35,
   "id": "88e0cc2b",
   "metadata": {},
   "outputs": [
    {
     "data": {
      "text/plain": [
       "Fraction(5, 3)"
      ]
     },
     "execution_count": 35,
     "metadata": {},
     "output_type": "execute_result"
    }
   ],
   "source": [
    "b4 = np.sqrt(np.power(5/3, 2))\n",
    "Fraction(b4).limit_denominator()"
   ]
  },
  {
   "cell_type": "code",
   "execution_count": 38,
   "id": "1225e9cd",
   "metadata": {},
   "outputs": [
    {
     "data": {
      "text/plain": [
       "1.5"
      ]
     },
     "execution_count": 38,
     "metadata": {},
     "output_type": "execute_result"
    }
   ],
   "source": [
    "d4 = np.cbrt(np.power(1 + 1/2, 3))\n",
    "d4"
   ]
  },
  {
   "cell_type": "markdown",
   "id": "62e1327b",
   "metadata": {},
   "source": [
    "\n",
    "\n",
    "Zad. 9.3\n",
    "\n"
   ]
  },
  {
   "cell_type": "code",
   "execution_count": 39,
   "id": "d22d7b9f",
   "metadata": {},
   "outputs": [
    {
     "data": {
      "text/plain": [
       "-1.0"
      ]
     },
     "execution_count": 39,
     "metadata": {},
     "output_type": "execute_result"
    }
   ],
   "source": [
    "a = np.subtract(np.sqrt(25), np.sqrt(36))\n",
    "a"
   ]
  },
  {
   "cell_type": "code",
   "execution_count": 42,
   "id": "86ad40d4",
   "metadata": {},
   "outputs": [
    {
     "data": {
      "text/plain": [
       "17.0"
      ]
     },
     "execution_count": 42,
     "metadata": {},
     "output_type": "execute_result"
    }
   ],
   "source": [
    "b = np.sum([np.sqrt(169), np.sqrt(16)])\n",
    "b"
   ]
  },
  {
   "cell_type": "code",
   "execution_count": 45,
   "id": "282d94ac",
   "metadata": {},
   "outputs": [
    {
     "data": {
      "text/plain": [
       "16.0"
      ]
     },
     "execution_count": 45,
     "metadata": {},
     "output_type": "execute_result"
    }
   ],
   "source": [
    "c = np.subtract(np.sqrt(81), -np.sqrt(49))\n",
    "c"
   ]
  },
  {
   "cell_type": "code",
   "execution_count": 46,
   "id": "ad0e34a8",
   "metadata": {},
   "outputs": [
    {
     "data": {
      "text/plain": [
       "9.0"
      ]
     },
     "execution_count": 46,
     "metadata": {},
     "output_type": "execute_result"
    }
   ],
   "source": [
    "d = np.sum([np.sqrt(36), np.sqrt(64), -np.sqrt(25)])\n",
    "d"
   ]
  },
  {
   "cell_type": "code",
   "execution_count": 47,
   "id": "e4587dac",
   "metadata": {},
   "outputs": [
    {
     "data": {
      "text/plain": [
       "0.0"
      ]
     },
     "execution_count": 47,
     "metadata": {},
     "output_type": "execute_result"
    }
   ],
   "source": [
    "e= np.sum([np.cbrt(8), -np.cbrt(27), np.cbrt(1)])\n",
    "e"
   ]
  },
  {
   "cell_type": "code",
   "execution_count": 50,
   "id": "d1f5f816",
   "metadata": {},
   "outputs": [
    {
     "data": {
      "text/plain": [
       "4.0"
      ]
     },
     "execution_count": 50,
     "metadata": {},
     "output_type": "execute_result"
    }
   ],
   "source": [
    "f= np.sum([np.cbrt(27), (-np.cbrt(64)), -(-np.cbrt(125))])\n",
    "f"
   ]
  },
  {
   "cell_type": "code",
   "execution_count": 51,
   "id": "b0b02e15",
   "metadata": {},
   "outputs": [
    {
     "data": {
      "text/plain": [
       "0.0"
      ]
     },
     "execution_count": 51,
     "metadata": {},
     "output_type": "execute_result"
    }
   ],
   "source": [
    "g = np.sum([np.cbrt(125), np.sqrt(25), -np.cbrt(1000)])\n",
    "g"
   ]
  },
  {
   "cell_type": "code",
   "execution_count": 53,
   "id": "c219de42",
   "metadata": {},
   "outputs": [
    {
     "data": {
      "text/plain": [
       "13.0"
      ]
     },
     "execution_count": 53,
     "metadata": {},
     "output_type": "execute_result"
    }
   ],
   "source": [
    "h = np.subtract(np.sum([np.sqrt(169), np.sqrt(36)]), np.cbrt(216))\n",
    "h"
   ]
  },
  {
   "cell_type": "code",
   "execution_count": null,
   "id": "f6a55dd7",
   "metadata": {},
   "outputs": [],
   "source": [
    "Zad 9.4"
   ]
  },
  {
   "cell_type": "code",
   "execution_count": 57,
   "id": "95cac819",
   "metadata": {},
   "outputs": [
    {
     "data": {
      "text/plain": [
       "-8.0"
      ]
     },
     "execution_count": 57,
     "metadata": {},
     "output_type": "execute_result"
    }
   ],
   "source": [
    "a = np.sum([np.multiply(-2, np.sqrt(25)), np.divide(np.sqrt(64), np.sqrt(16))])\n",
    "a"
   ]
  },
  {
   "cell_type": "code",
   "execution_count": 58,
   "id": "907833a4",
   "metadata": {},
   "outputs": [
    {
     "data": {
      "text/plain": [
       "11.0"
      ]
     },
     "execution_count": 58,
     "metadata": {},
     "output_type": "execute_result"
    }
   ],
   "source": [
    "b = np.subtract(np.divide(np.cbrt(125), -5), np.multiply(-3, np.sqrt(16)))\n",
    "b"
   ]
  },
  {
   "cell_type": "code",
   "execution_count": 62,
   "id": "bbf07840",
   "metadata": {},
   "outputs": [
    {
     "data": {
      "text/plain": [
       "-11.0"
      ]
     },
     "execution_count": 62,
     "metadata": {},
     "output_type": "execute_result"
    }
   ],
   "source": [
    "c = np.sum([np.multiply(-np.cbrt(64), np.power(-2, 2)), np.multiply(Fraction(1, 2), np.sqrt(100))])\n",
    "c"
   ]
  },
  {
   "cell_type": "code",
   "execution_count": 69,
   "id": "79870654",
   "metadata": {},
   "outputs": [
    {
     "data": {
      "text/plain": [
       "Fraction(17, 14)"
      ]
     },
     "execution_count": 69,
     "metadata": {},
     "output_type": "execute_result"
    }
   ],
   "source": [
    "d = np.divide(np.sum([np.multiply(np.sqrt(4), np.sqrt(49)), np.cbrt(27)]), np.multiply(np.cbrt(8), np.sum([np.cbrt(125), np.sqrt(4)])))\n",
    "Fraction(d).limit_denominator()"
   ]
  },
  {
   "cell_type": "code",
   "execution_count": 73,
   "id": "3a0ed489",
   "metadata": {},
   "outputs": [
    {
     "data": {
      "text/plain": [
       "Fraction(1, 1)"
      ]
     },
     "execution_count": 73,
     "metadata": {},
     "output_type": "execute_result"
    }
   ],
   "source": [
    "e = np.sum([np.multiply(np.cbrt(8/125), np.sqrt(25)), np.divide(np.sum([np.cbrt(27), np.sqrt(16)]), -7)])\n",
    "Fraction(e).limit_denominator()"
   ]
  },
  {
   "cell_type": "markdown",
   "id": "9aaad940",
   "metadata": {},
   "source": [
    "Zadanie 9.5"
   ]
  },
  {
   "cell_type": "code",
   "execution_count": 75,
   "id": "6e7cd3fd",
   "metadata": {},
   "outputs": [
    {
     "data": {
      "text/plain": [
       "5.0"
      ]
     },
     "execution_count": 75,
     "metadata": {},
     "output_type": "execute_result"
    }
   ],
   "source": [
    "a = np.sqrt(np.sum([np.power(4, 2), np.power(3, 2)]))\n",
    "a"
   ]
  },
  {
   "cell_type": "code",
   "execution_count": 116,
   "id": "6f90096d",
   "metadata": {},
   "outputs": [
    {
     "data": {
      "text/plain": [
       "-1.343"
      ]
     },
     "execution_count": 116,
     "metadata": {},
     "output_type": "execute_result"
    }
   ],
   "source": [
    "b = np.subtract(np.sqrt(32), np.sqrt(49))\n",
    "b = float('{:.3f}'.format(b))\n",
    "b"
   ]
  },
  {
   "cell_type": "code",
   "execution_count": 83,
   "id": "04cf58d0",
   "metadata": {},
   "outputs": [
    {
     "data": {
      "text/plain": [
       "-1.5"
      ]
     },
     "execution_count": 83,
     "metadata": {},
     "output_type": "execute_result"
    }
   ],
   "source": [
    "c = np.subtract(np.multiply(-np.sqrt(16), np.sqrt(1/16)), np.multiply(np.sqrt(4), np.power(-Fraction(1, 2), 2)))\n",
    "c"
   ]
  },
  {
   "cell_type": "code",
   "execution_count": 110,
   "id": "3ae45c9b",
   "metadata": {},
   "outputs": [
    {
     "data": {
      "text/plain": [
       "Fraction(-7, 20)"
      ]
     },
     "execution_count": 110,
     "metadata": {},
     "output_type": "execute_result"
    }
   ],
   "source": [
    "d = np.subtract(np.power(np.sqrt(2/5), 2), np.power(np.cbrt(3/4), 3))\n",
    "d = float('{:.2f}'.format(d))\n",
    "Fraction(d).limit_denominator()"
   ]
  },
  {
   "cell_type": "code",
   "execution_count": 102,
   "id": "c0ace369",
   "metadata": {},
   "outputs": [
    {
     "data": {
      "text/plain": [
       "1.0"
      ]
     },
     "execution_count": 102,
     "metadata": {},
     "output_type": "execute_result"
    }
   ],
   "source": [
    "e = np.power(np.subtract(np.cbrt(27), np.sqrt(4)), 2)\n",
    "e"
   ]
  },
  {
   "cell_type": "code",
   "execution_count": 106,
   "id": "f27acd97",
   "metadata": {},
   "outputs": [
    {
     "data": {
      "text/plain": [
       "15.0"
      ]
     },
     "execution_count": 106,
     "metadata": {},
     "output_type": "execute_result"
    }
   ],
   "source": [
    "f = np.sum([np.multiply(np.cbrt(1/8), np.sqrt(36)), np.multiply(np.power(-2, 3), -np.sqrt(2 + 1/4))])\n",
    "f"
   ]
  },
  {
   "cell_type": "code",
   "execution_count": 108,
   "id": "f1206193",
   "metadata": {},
   "outputs": [
    {
     "data": {
      "text/plain": [
       "-5.0"
      ]
     },
     "execution_count": 108,
     "metadata": {},
     "output_type": "execute_result"
    }
   ],
   "source": [
    "g = np.sum([np.power(-3, 3), np.sqrt(49), np.sqrt(np.subtract(np.power(5, 2), np.power(4, 2))), np.sqrt(144)])\n",
    "g"
   ]
  },
  {
   "cell_type": "markdown",
   "id": "814580bc",
   "metadata": {},
   "source": [
    "Rozdział 10"
   ]
  },
  {
   "cell_type": "code",
   "execution_count": null,
   "id": "b123c753",
   "metadata": {},
   "outputs": [],
   "source": [
    "Zadanie 1"
   ]
  },
  {
   "cell_type": "code",
   "execution_count": 124,
   "id": "d82463bc",
   "metadata": {},
   "outputs": [
    {
     "data": {
      "text/plain": [
       "30.0"
      ]
     },
     "execution_count": 124,
     "metadata": {},
     "output_type": "execute_result"
    }
   ],
   "source": [
    "a = np.sum([np.multiply(np.subtract(7, 11), np.power(-2, 3)), np.divide(np.sqrt(100), np.sum([-2, -3]))])\n",
    "a"
   ]
  },
  {
   "cell_type": "code",
   "execution_count": 127,
   "id": "c6fa00b0",
   "metadata": {},
   "outputs": [
    {
     "data": {
      "text/plain": [
       "39"
      ]
     },
     "execution_count": 127,
     "metadata": {},
     "output_type": "execute_result"
    }
   ],
   "source": [
    "a1 = np.sum([np.multiply(np.power(-3, 2), 5), np.multiply(6, -1)])\n",
    "a1"
   ]
  },
  {
   "cell_type": "code",
   "execution_count": 128,
   "id": "e8509195",
   "metadata": {},
   "outputs": [
    {
     "data": {
      "text/plain": [
       "-38"
      ]
     },
     "execution_count": 128,
     "metadata": {},
     "output_type": "execute_result"
    }
   ],
   "source": [
    "a2 = np.subtract(np.multiply(np.power(2, 3), -4), np.multiply(-3, -2))\n",
    "a2"
   ]
  },
  {
   "cell_type": "code",
   "execution_count": 130,
   "id": "04ac038a",
   "metadata": {},
   "outputs": [
    {
     "data": {
      "text/plain": [
       "-104.0"
      ]
     },
     "execution_count": 130,
     "metadata": {},
     "output_type": "execute_result"
    }
   ],
   "source": [
    "a3 = np.sum([np.multiply(-10, np.sqrt(25)), np.multiply(np.power(3, 3), -2)])\n",
    "a3"
   ]
  },
  {
   "cell_type": "code",
   "execution_count": 133,
   "id": "62a023d2",
   "metadata": {},
   "outputs": [
    {
     "data": {
      "text/plain": [
       "-7.0"
      ]
     },
     "execution_count": 133,
     "metadata": {},
     "output_type": "execute_result"
    }
   ],
   "source": [
    "a4 = np.subtract(np.multiply(-4, np.power(2, 2)), np.multiply(np.sqrt(9), -3))\n",
    "a4"
   ]
  },
  {
   "cell_type": "code",
   "execution_count": 135,
   "id": "6c89fa33",
   "metadata": {},
   "outputs": [
    {
     "data": {
      "text/plain": [
       "0.7"
      ]
     },
     "execution_count": 135,
     "metadata": {},
     "output_type": "execute_result"
    }
   ],
   "source": [
    "b1 = np.subtract(np.multiply(2, -.4), np.multiply(.5, -3))\n",
    "b1"
   ]
  },
  {
   "cell_type": "code",
   "execution_count": 139,
   "id": "861f2a09",
   "metadata": {},
   "outputs": [
    {
     "data": {
      "text/plain": [
       "40.0"
      ]
     },
     "execution_count": 139,
     "metadata": {},
     "output_type": "execute_result"
    }
   ],
   "source": [
    "b2 = np.subtract(np.multiply(-2.5, -8), np.multiply(np.power(2, 2), -5))\n",
    "b2"
   ]
  },
  {
   "cell_type": "code",
   "execution_count": 141,
   "id": "86d68e1a",
   "metadata": {},
   "outputs": [
    {
     "data": {
      "text/plain": [
       "1.0"
      ]
     },
     "execution_count": 141,
     "metadata": {},
     "output_type": "execute_result"
    }
   ],
   "source": [
    "b3 = np.sum([np.multiply(np.sqrt(81), Fraction(1, 3)), np.divide(3, -1 - Fraction(1, 2))])\n",
    "b3"
   ]
  },
  {
   "cell_type": "code",
   "execution_count": 143,
   "id": "fb40161a",
   "metadata": {},
   "outputs": [
    {
     "data": {
      "text/plain": [
       "-41.0"
      ]
     },
     "execution_count": 143,
     "metadata": {},
     "output_type": "execute_result"
    }
   ],
   "source": [
    "b4 = np.sum([np.divide(-125, np.power(-5, 2)), np.multiply(-4.5, 8)])\n",
    "b4"
   ]
  },
  {
   "cell_type": "code",
   "execution_count": null,
   "id": "9ba333f8",
   "metadata": {},
   "outputs": [],
   "source": [
    "Zad 10.2"
   ]
  },
  {
   "cell_type": "code",
   "execution_count": 171,
   "id": "389a6e7a",
   "metadata": {},
   "outputs": [
    {
     "data": {
      "text/plain": [
       "(0, 0.7142857142857143)"
      ]
     },
     "execution_count": 171,
     "metadata": {},
     "output_type": "execute_result"
    }
   ],
   "source": [
    "temperatura = np.array([[-2, -5, -2, 0, 2, 5, 7], [4, 3, -8, -10, -4, 0, 8], [6, 3, 3, 2, -4, -4, -5]], dtype='int64')\n",
    "max_temp = np.max([np.mean(temperatura[0]), np.mean(temperatura[1]), np.mean(temperatura[2])])\n",
    "max_temp_index = np.argmax(max_temp)\n",
    "max_temp_index, max_temp"
   ]
  },
  {
   "cell_type": "code",
   "execution_count": null,
   "id": "fecf44ce",
   "metadata": {},
   "outputs": [],
   "source": [
    "Zad 10.3"
   ]
  },
  {
   "cell_type": "code",
   "execution_count": 178,
   "id": "1ee2127d",
   "metadata": {},
   "outputs": [
    {
     "data": {
      "text/plain": [
       "array([-7., -1.,  5.,  8., 12., 14.])"
      ]
     },
     "execution_count": 178,
     "metadata": {},
     "output_type": "execute_result"
    }
   ],
   "source": [
    "a = np.array([-3.5 * 2, -2**2 * .5 * -6, np.sqrt(25) -2 * -4.5, (-2**3 * -1.25) / 2, np.cbrt(8) * -3 + 4 * 3.5, (3**2 - np.sqrt(49)) / -2])\n",
    "np.sort(a)"
   ]
  },
  {
   "cell_type": "code",
   "execution_count": null,
   "id": "a41faf30",
   "metadata": {},
   "outputs": [],
   "source": []
  },
  {
   "cell_type": "code",
   "execution_count": null,
   "id": "65aa3732",
   "metadata": {},
   "outputs": [],
   "source": [
    "Zad 10.4"
   ]
  },
  {
   "cell_type": "code",
   "execution_count": 196,
   "id": "1a2dcb65",
   "metadata": {},
   "outputs": [
    {
     "data": {
      "text/plain": [
       "3.666666666666667"
      ]
     },
     "execution_count": 196,
     "metadata": {},
     "output_type": "execute_result"
    }
   ],
   "source": [
    "a = np.sum([np.power(2, 3), np.multiply(3, -2), np.sqrt(2 + 7/9)])\n",
    "str(Fraction(a).limit_denominator().numerator) + '/' + str(Fraction(a).limit_denominator().denominator)"
   ]
  },
  {
   "cell_type": "code",
   "execution_count": 197,
   "id": "259a9e51",
   "metadata": {},
   "outputs": [
    {
     "data": {
      "text/plain": [
       "Fraction(9, 8)"
      ]
     },
     "execution_count": 197,
     "metadata": {},
     "output_type": "execute_result"
    }
   ],
   "source": [
    "b = np.subtract(np.multiply(-3 - np.divide(1, 3), np.divide(3, 5)), np.divide(-6 - 1/4, 2))\n",
    "Fraction(b)"
   ]
  },
  {
   "cell_type": "code",
   "execution_count": 193,
   "id": "4d771737",
   "metadata": {},
   "outputs": [
    {
     "data": {
      "text/plain": [
       "3.25"
      ]
     },
     "execution_count": 193,
     "metadata": {},
     "output_type": "execute_result"
    }
   ],
   "source": [
    "c = np.sum([np.subtract(np.power(-1.5, 3), np.multiply(5, -1/8)), np.sqrt(np.multiply(2, 18))])\n",
    "c"
   ]
  },
  {
   "cell_type": "code",
   "execution_count": 195,
   "id": "6d45a566",
   "metadata": {},
   "outputs": [
    {
     "data": {
      "text/plain": [
       "65.0"
      ]
     },
     "execution_count": 195,
     "metadata": {},
     "output_type": "execute_result"
    }
   ],
   "source": [
    "d = np.sum([np.subtract(np.multiply(-2.5, -4), 4*-15), -8 + 3])\n",
    "d"
   ]
  },
  {
   "cell_type": "code",
   "execution_count": null,
   "id": "8a540f69",
   "metadata": {},
   "outputs": [],
   "source": [
    "Zad 10.5"
   ]
  },
  {
   "cell_type": "code",
   "execution_count": 199,
   "id": "7eefc13b",
   "metadata": {},
   "outputs": [
    {
     "data": {
      "text/plain": [
       "18.5625"
      ]
     },
     "execution_count": 199,
     "metadata": {},
     "output_type": "execute_result"
    }
   ],
   "source": [
    "a = np.sum([np.power(-3.25, 2), np.multiply(-2, -4)])\n",
    "a"
   ]
  },
  {
   "cell_type": "code",
   "execution_count": 223,
   "id": "7c9ecc53",
   "metadata": {},
   "outputs": [
    {
     "data": {
      "text/plain": [
       "18.5625"
      ]
     },
     "execution_count": 223,
     "metadata": {},
     "output_type": "execute_result"
    }
   ],
   "source": [
    "a = (-3.25)**2 + (-2 * -4)\n",
    "a"
   ]
  },
  {
   "cell_type": "code",
   "execution_count": 224,
   "id": "899925d7",
   "metadata": {},
   "outputs": [
    {
     "data": {
      "text/plain": [
       "9.5"
      ]
     },
     "execution_count": 224,
     "metadata": {},
     "output_type": "execute_result"
    }
   ],
   "source": [
    "b= np.subtract(np.multiply(-3.5, 5), np.power(-3, 3))\n",
    "b"
   ]
  },
  {
   "cell_type": "code",
   "execution_count": 227,
   "id": "2e3892b8",
   "metadata": {},
   "outputs": [
    {
     "data": {
      "text/plain": [
       "13.5"
      ]
     },
     "execution_count": 227,
     "metadata": {},
     "output_type": "execute_result"
    }
   ],
   "source": [
    "c= np.sum([np.multiply(2.25, -1 -Fraction(1, 9)), np.power(4, 2)])\n",
    "c"
   ]
  },
  {
   "cell_type": "code",
   "execution_count": 229,
   "id": "2dd09bfe",
   "metadata": {},
   "outputs": [
    {
     "data": {
      "text/plain": [
       "-19.0"
      ]
     },
     "execution_count": 229,
     "metadata": {},
     "output_type": "execute_result"
    }
   ],
   "source": [
    "d = np.subtract(np.multiply(-3 -1/2, 4), np.sqrt(25))\n",
    "d"
   ]
  },
  {
   "cell_type": "code",
   "execution_count": 230,
   "id": "5e2cdbee",
   "metadata": {},
   "outputs": [
    {
     "data": {
      "text/plain": [
       "-4.333333333333333"
      ]
     },
     "execution_count": 230,
     "metadata": {},
     "output_type": "execute_result"
    }
   ],
   "source": [
    "e = np.subtract(np.multiply(-6 -2/3, -0.4), np.sqrt(49))\n",
    "e"
   ]
  },
  {
   "cell_type": "code",
   "execution_count": 232,
   "id": "15ba8e37",
   "metadata": {},
   "outputs": [
    {
     "data": {
      "text/plain": [
       "-25.0"
      ]
     },
     "execution_count": 232,
     "metadata": {},
     "output_type": "execute_result"
    }
   ],
   "source": [
    "f = np.sum([np.multiply(np.power(1.5, 3), 4 + 4/9), np.multiply(np.sqrt(64), -5)])\n",
    "f"
   ]
  },
  {
   "cell_type": "code",
   "execution_count": 233,
   "id": "1fe751df",
   "metadata": {},
   "outputs": [
    {
     "data": {
      "text/plain": [
       "0.0"
      ]
     },
     "execution_count": 233,
     "metadata": {},
     "output_type": "execute_result"
    }
   ],
   "source": [
    "g = np.subtract(np.power(-2 -1/2 + 3, 2), np.power(-4 + 3.5, 2))\n",
    "g"
   ]
  },
  {
   "cell_type": "code",
   "execution_count": 366,
   "id": "4fcaecb4",
   "metadata": {},
   "outputs": [
    {
     "data": {
      "text/plain": [
       "9.0"
      ]
     },
     "execution_count": 366,
     "metadata": {},
     "output_type": "execute_result"
    }
   ],
   "source": [
    "h = np.sum([np.subtract(np.multiply(-2 -2/3, -3 - 3/4), np.multiply(np.power(-3, 2), -1/3)), np.multiply(np.power(2, 3), -.5)])\n",
    "h"
   ]
  },
  {
   "cell_type": "code",
   "execution_count": null,
   "id": "e49c8739",
   "metadata": {},
   "outputs": [],
   "source": [
    "Zadanie 10.6"
   ]
  },
  {
   "cell_type": "code",
   "execution_count": 248,
   "id": "74aa7b53",
   "metadata": {},
   "outputs": [
    {
     "data": {
      "text/plain": [
       "3.1"
      ]
     },
     "execution_count": 248,
     "metadata": {},
     "output_type": "execute_result"
    }
   ],
   "source": [
    "a = np.divide(np.sum([13.2, 2.3]), 5)\n",
    "a"
   ]
  },
  {
   "cell_type": "code",
   "execution_count": 249,
   "id": "89bf55db",
   "metadata": {},
   "outputs": [
    {
     "data": {
      "text/plain": [
       "13.2"
      ]
     },
     "execution_count": 249,
     "metadata": {},
     "output_type": "execute_result"
    }
   ],
   "source": [
    "a_check = np.subtract(np.multiply(5, a), 2.3)\n",
    "a_check"
   ]
  },
  {
   "cell_type": "code",
   "execution_count": 255,
   "id": "3820b924",
   "metadata": {},
   "outputs": [
    {
     "data": {
      "text/plain": [
       "-2.0"
      ]
     },
     "execution_count": 255,
     "metadata": {},
     "output_type": "execute_result"
    }
   ],
   "source": [
    "b = np.divide(np.subtract(-5/12, 6.25), 3 + 1/3)\n",
    "b"
   ]
  },
  {
   "cell_type": "code",
   "execution_count": 258,
   "id": "adb6c2dc",
   "metadata": {},
   "outputs": [
    {
     "data": {
      "text/plain": [
       "Fraction(-5, 12)"
      ]
     },
     "execution_count": 258,
     "metadata": {},
     "output_type": "execute_result"
    }
   ],
   "source": [
    "b_check = np.sum([np.multiply(3 + 1/3, b), 6.25])\n",
    "Fraction(b_check).limit_denominator()"
   ]
  },
  {
   "cell_type": "code",
   "execution_count": 261,
   "id": "d685b611",
   "metadata": {},
   "outputs": [
    {
     "data": {
      "text/plain": [
       "3.5000000000000004"
      ]
     },
     "execution_count": 261,
     "metadata": {},
     "output_type": "execute_result"
    }
   ],
   "source": [
    "c= np.divide(np.sum([2.2, 6.2]), 2.4)\n",
    "c"
   ]
  },
  {
   "cell_type": "code",
   "execution_count": 262,
   "id": "28f14351",
   "metadata": {},
   "outputs": [
    {
     "data": {
      "text/plain": [
       "-2.2"
      ]
     },
     "execution_count": 262,
     "metadata": {},
     "output_type": "execute_result"
    }
   ],
   "source": [
    "c_check = np.subtract(np.multiply(-2.4, c), -6.2)\n",
    "c_check"
   ]
  },
  {
   "cell_type": "code",
   "execution_count": 364,
   "id": "3710f447",
   "metadata": {},
   "outputs": [
    {
     "data": {
      "text/plain": [
       "4.0"
      ]
     },
     "execution_count": 364,
     "metadata": {},
     "output_type": "execute_result"
    }
   ],
   "source": [
    "d = np.divide(np.sum([-16, 3 * 2]), -2.5)\n",
    "d"
   ]
  },
  {
   "cell_type": "code",
   "execution_count": 365,
   "id": "2b4d99ad",
   "metadata": {},
   "outputs": [
    {
     "data": {
      "text/plain": [
       "-16.0"
      ]
     },
     "execution_count": 365,
     "metadata": {},
     "output_type": "execute_result"
    }
   ],
   "source": [
    "d_check = np.sum([np.multiply(-2.5, d), np.multiply(3, -2)])\n",
    "d_check"
   ]
  },
  {
   "cell_type": "code",
   "execution_count": 288,
   "id": "e2d6f50d",
   "metadata": {},
   "outputs": [
    {
     "data": {
      "text/plain": [
       "8.0"
      ]
     },
     "execution_count": 288,
     "metadata": {},
     "output_type": "execute_result"
    }
   ],
   "source": [
    "e = np.divide(np.sum([14 + 2/3, np.multiply(20, 1/3)]), np.sum([2, 2/3]))\n",
    "e"
   ]
  },
  {
   "cell_type": "code",
   "execution_count": 291,
   "id": "2ae0a384",
   "metadata": {},
   "outputs": [
    {
     "data": {
      "text/plain": [
       "14.666666666666666"
      ]
     },
     "execution_count": 291,
     "metadata": {},
     "output_type": "execute_result"
    }
   ],
   "source": [
    "c_check = np.subtract(np.multiply(20, -1/3), (-2 -2/3) * e)\n",
    "c_check"
   ]
  },
  {
   "cell_type": "code",
   "execution_count": 336,
   "id": "92d3c960",
   "metadata": {},
   "outputs": [
    {
     "data": {
      "text/plain": [
       "-6.0"
      ]
     },
     "execution_count": 336,
     "metadata": {},
     "output_type": "execute_result"
    }
   ],
   "source": [
    "f = np.divide(np.sum([-24, 9]), 2.5)\n",
    "f"
   ]
  },
  {
   "cell_type": "code",
   "execution_count": 337,
   "id": "8aebe9a0",
   "metadata": {},
   "outputs": [
    {
     "data": {
      "text/plain": [
       "-24.0"
      ]
     },
     "execution_count": 337,
     "metadata": {},
     "output_type": "execute_result"
    }
   ],
   "source": [
    "f_check = np.subtract(np.multiply(2.5, f), np.power(3, 2))\n",
    "f_check"
   ]
  },
  {
   "cell_type": "code",
   "execution_count": 379,
   "id": "960724da",
   "metadata": {},
   "outputs": [
    {
     "data": {
      "text/plain": [
       "4.0"
      ]
     },
     "execution_count": 379,
     "metadata": {},
     "output_type": "execute_result"
    }
   ],
   "source": [
    "g = np.divide(np.sum([np.power(-5, 0), -np.multiply(15.5, 2)]), np.sqrt(64))\n",
    "g"
   ]
  },
  {
   "cell_type": "code",
   "execution_count": 382,
   "id": "1babbf38",
   "metadata": {},
   "outputs": [
    {
     "data": {
      "text/plain": [
       "1.0"
      ]
     },
     "execution_count": 382,
     "metadata": {},
     "output_type": "execute_result"
    }
   ],
   "source": [
    "g_check = np.subtract(np.multiply(np.sqrt(64), g), -np.multiply(15.5, -2))\n",
    "g_check"
   ]
  },
  {
   "cell_type": "code",
   "execution_count": 383,
   "id": "837cf658",
   "metadata": {},
   "outputs": [
    {
     "data": {
      "text/plain": [
       "2.0"
      ]
     },
     "execution_count": 383,
     "metadata": {},
     "output_type": "execute_result"
    }
   ],
   "source": [
    "h = np.divide(np.sum([np.sqrt(16), np.multiply(4, 3.5)]), np.power(-3, 2))\n",
    "h"
   ]
  },
  {
   "cell_type": "code",
   "execution_count": 384,
   "id": "d262fb60",
   "metadata": {},
   "outputs": [
    {
     "data": {
      "text/plain": [
       "4.0"
      ]
     },
     "execution_count": 384,
     "metadata": {},
     "output_type": "execute_result"
    }
   ],
   "source": [
    "h_check = np.subtract(np.multiply(np.power(-3, 2), h), np.multiply(4, 3.5))\n",
    "h_check"
   ]
  },
  {
   "cell_type": "code",
   "execution_count": null,
   "id": "80194ac0",
   "metadata": {},
   "outputs": [],
   "source": [
    "Zadanie 10.7"
   ]
  },
  {
   "cell_type": "code",
   "execution_count": 385,
   "id": "cbf8bde4",
   "metadata": {},
   "outputs": [
    {
     "data": {
      "text/plain": [
       "Fraction(68, 3)"
      ]
     },
     "execution_count": 385,
     "metadata": {},
     "output_type": "execute_result"
    }
   ],
   "source": [
    "a = np.multiply(np.sum([5, Fraction(1, 3)]), np.sum([4, Fraction(1, 4)]))\n",
    "a"
   ]
  },
  {
   "cell_type": "code",
   "execution_count": 386,
   "id": "543636fe",
   "metadata": {},
   "outputs": [
    {
     "data": {
      "text/plain": [
       "Fraction(517, 24)"
      ]
     },
     "execution_count": 386,
     "metadata": {},
     "output_type": "execute_result"
    }
   ],
   "source": [
    "a_aug = np.multiply(np.sum([5, Fraction(1, 3), 2, Fraction(1, 2)]), np.sum([4, Fraction(1, 4), -1, -Fraction(1, 2)]))\n",
    "a_aug"
   ]
  },
  {
   "cell_type": "code",
   "execution_count": 390,
   "id": "64b635a6",
   "metadata": {},
   "outputs": [
    {
     "data": {
      "text/plain": [
       "Fraction(-9, 8)"
      ]
     },
     "execution_count": 390,
     "metadata": {},
     "output_type": "execute_result"
    }
   ],
   "source": [
    "a_aug - a"
   ]
  },
  {
   "cell_type": "code",
   "execution_count": null,
   "id": "64748b43",
   "metadata": {},
   "outputs": [],
   "source": [
    "Zadanie 10.8"
   ]
  },
  {
   "cell_type": "code",
   "execution_count": 391,
   "id": "362be208",
   "metadata": {},
   "outputs": [
    {
     "data": {
      "text/plain": [
       "-12.0"
      ]
     },
     "execution_count": 391,
     "metadata": {},
     "output_type": "execute_result"
    }
   ],
   "source": [
    "a = np.divide(np.multiply(np.sqrt(144), np.power(-1/2, 2)), -1/4)\n",
    "a"
   ]
  },
  {
   "cell_type": "code",
   "execution_count": 402,
   "id": "55c18d6f",
   "metadata": {},
   "outputs": [
    {
     "data": {
      "text/plain": [
       "30.0"
      ]
     },
     "execution_count": 402,
     "metadata": {},
     "output_type": "execute_result"
    }
   ],
   "source": [
    "b = np.divide(np.prod([np.power(-4, 3), 3, -2.5]), np.subtract(np.power(5, 2), np.sqrt(81)))\n",
    "b"
   ]
  },
  {
   "cell_type": "code",
   "execution_count": null,
   "id": "2223e71b",
   "metadata": {},
   "outputs": [],
   "source": [
    "Zadanie 10.9"
   ]
  },
  {
   "cell_type": "code",
   "execution_count": 434,
   "id": "0844007e",
   "metadata": {},
   "outputs": [
    {
     "data": {
      "text/plain": [
       "127.67999999999999"
      ]
     },
     "execution_count": 434,
     "metadata": {},
     "output_type": "execute_result"
    }
   ],
   "source": [
    "dł_boków = np.array([15.2, 8.4])\n",
    "P = np.multiply(dł_boków[0], dł_boków[1])\n",
    "P"
   ]
  },
  {
   "cell_type": "code",
   "execution_count": 435,
   "id": "9f507bab",
   "metadata": {},
   "outputs": [
    {
     "data": {
      "text/plain": [
       "20.0"
      ]
     },
     "execution_count": 435,
     "metadata": {},
     "output_type": "execute_result"
    }
   ],
   "source": [
    "a_dim = np.prod([2.5, 2, 4])\n",
    "a_dim"
   ]
  },
  {
   "cell_type": "code",
   "execution_count": 447,
   "id": "7603902d",
   "metadata": {},
   "outputs": [
    {
     "data": {
      "text/plain": [
       "107.67999999999999"
      ]
     },
     "execution_count": 447,
     "metadata": {},
     "output_type": "execute_result"
    }
   ],
   "source": [
    "P_dim = P - a_dim\n",
    "P_dim"
   ]
  },
  {
   "cell_type": "code",
   "execution_count": 446,
   "id": "501fd94e",
   "metadata": {},
   "outputs": [
    {
     "data": {
      "text/plain": [
       "27.200000000000003"
      ]
     },
     "execution_count": 446,
     "metadata": {},
     "output_type": "execute_result"
    }
   ],
   "source": [
    "Ob = np.multiply(dł_boków, 2)\n",
    "Ob_dim = np.subtract(np.sum(Ob), np.multiply(2.5, 8))\n",
    "Ob_dim"
   ]
  },
  {
   "cell_type": "code",
   "execution_count": null,
   "id": "9e2ab3b0",
   "metadata": {},
   "outputs": [],
   "source": [
    "Zad 10.10"
   ]
  },
  {
   "cell_type": "code",
   "execution_count": 450,
   "id": "760defc7",
   "metadata": {},
   "outputs": [
    {
     "data": {
      "text/plain": [
       "5.0"
      ]
     },
     "execution_count": 450,
     "metadata": {},
     "output_type": "execute_result"
    }
   ],
   "source": [
    "a = np.sqrt(np.sum([np.power(-3, 2), np.power(4, 2)]))\n",
    "a"
   ]
  },
  {
   "cell_type": "markdown",
   "id": "c74245a2",
   "metadata": {},
   "source": [
    "Rozdział 11"
   ]
  },
  {
   "cell_type": "code",
   "execution_count": null,
   "id": "3ce5f3cc",
   "metadata": {},
   "outputs": [],
   "source": [
    "Zad 11.1"
   ]
  },
  {
   "cell_type": "code",
   "execution_count": 458,
   "id": "8fa8a0e8",
   "metadata": {},
   "outputs": [
    {
     "data": {
      "text/plain": [
       "array([-5. , -4. , -1. , -0.5,  0. ,  2. ,  2.5,  3.5,  4. ])"
      ]
     },
     "execution_count": 458,
     "metadata": {},
     "output_type": "execute_result"
    }
   ],
   "source": [
    "a = np.array([2, -1/2, 0, -4, 2 + 1/2, -5, 3 + 1/2, 4, -1])\n",
    "np.sort(a)"
   ]
  },
  {
   "cell_type": "code",
   "execution_count": 460,
   "id": "022f97c4",
   "metadata": {},
   "outputs": [
    {
     "data": {
      "text/plain": [
       "array([ 4. ,  3.5,  2.5,  2. ,  0. , -0.5, -1. , -4. , -5. ])"
      ]
     },
     "execution_count": 460,
     "metadata": {},
     "output_type": "execute_result"
    }
   ],
   "source": [
    "np.flipud(np.sort(a))"
   ]
  },
  {
   "cell_type": "code",
   "execution_count": null,
   "id": "5f1f9770",
   "metadata": {},
   "outputs": [],
   "source": [
    "Zad 11.2"
   ]
  },
  {
   "cell_type": "code",
   "execution_count": 461,
   "id": "bb83cff5",
   "metadata": {},
   "outputs": [
    {
     "data": {
      "text/plain": [
       "array([ -3.        ,   7.        ,  -0.75      ,  10.        ,\n",
       "        -0.83333333, -12.        ,  -0.8       ,   8.5       ])"
      ]
     },
     "execution_count": 461,
     "metadata": {},
     "output_type": "execute_result"
    }
   ],
   "source": [
    "a = np.array([-3, 7, -3/4, 10, -5/6, -12, -.8, 8 + 1/2])\n",
    "a"
   ]
  },
  {
   "cell_type": "code",
   "execution_count": 462,
   "id": "0f594156",
   "metadata": {},
   "outputs": [
    {
     "data": {
      "text/plain": [
       "array([  3.        ,  -7.        ,   0.75      , -10.        ,\n",
       "         0.83333333,  12.        ,   0.8       ,  -8.5       ])"
      ]
     },
     "execution_count": 462,
     "metadata": {},
     "output_type": "execute_result"
    }
   ],
   "source": [
    "-a"
   ]
  },
  {
   "cell_type": "code",
   "execution_count": null,
   "id": "47ea6265",
   "metadata": {},
   "outputs": [],
   "source": [
    "Zad 11.3"
   ]
  },
  {
   "cell_type": "code",
   "execution_count": 464,
   "id": "bf4d869d",
   "metadata": {},
   "outputs": [
    {
     "data": {
      "text/plain": [
       "array([-13.5       , -10.66666667,  -6.25      ,  -5.        ,\n",
       "        -3.2       ,  -2.        ,   0.        ,   0.5       ,\n",
       "         1.        ,   7.33333333,   8.        ,   9.5       ])"
      ]
     },
     "execution_count": 464,
     "metadata": {},
     "output_type": "execute_result"
    }
   ],
   "source": [
    "a = np.array([-2, 8, -13.5, 0, 1/2, -7 + 3/4, 9 + 1/2, -5, -10 - 2/3, 7 + 1/3, 1, -3 - 1/5])\n",
    "np.sort(a)"
   ]
  },
  {
   "cell_type": "code",
   "execution_count": null,
   "id": "84976e2a",
   "metadata": {},
   "outputs": [],
   "source": [
    "Zadanie 11.4"
   ]
  },
  {
   "cell_type": "code",
   "execution_count": 6,
   "id": "d7663ae7",
   "metadata": {},
   "outputs": [
    {
     "data": {
      "text/plain": [
       "Fraction(7, 12)"
      ]
     },
     "execution_count": 6,
     "metadata": {},
     "output_type": "execute_result"
    }
   ],
   "source": [
    "a1 = np.add(-3/4, 1 + 1/3)\n",
    "Fraction(a1).limit_denominator()"
   ]
  },
  {
   "cell_type": "code",
   "execution_count": 9,
   "id": "85ab819a",
   "metadata": {},
   "outputs": [
    {
     "data": {
      "text/plain": [
       "Fraction(-5, 6)"
      ]
     },
     "execution_count": 9,
     "metadata": {},
     "output_type": "execute_result"
    }
   ],
   "source": [
    "a2 = np.add(1 + 1/2, -2 - 1/3)\n",
    "Fraction(a2).limit_denominator()"
   ]
  },
  {
   "cell_type": "code",
   "execution_count": 12,
   "id": "dad4c13d",
   "metadata": {},
   "outputs": [
    {
     "data": {
      "text/plain": [
       "Fraction(2, 3)"
      ]
     },
     "execution_count": 12,
     "metadata": {},
     "output_type": "execute_result"
    }
   ],
   "source": [
    "a3 = np.add(-2-2/3, 3 + 1/3)\n",
    "Fraction(a3).limit_denominator()"
   ]
  },
  {
   "cell_type": "code",
   "execution_count": 39,
   "id": "e43c77fe",
   "metadata": {},
   "outputs": [
    {
     "data": {
      "text/plain": [
       "-7.3"
      ]
     },
     "execution_count": 39,
     "metadata": {},
     "output_type": "execute_result"
    }
   ],
   "source": [
    "a4 = np.subtract(-4.5, 2 + 4/5)\n",
    "a4"
   ]
  },
  {
   "cell_type": "code",
   "execution_count": 42,
   "id": "5ba3d37c",
   "metadata": {},
   "outputs": [
    {
     "data": {
      "text/plain": [
       "Fraction(-19, 12)"
      ]
     },
     "execution_count": 42,
     "metadata": {},
     "output_type": "execute_result"
    }
   ],
   "source": [
    "b1 = np.subtract(np.sum([np.subtract(2 + 2/3, 3.5), 1/4]), 1)\n",
    "Fraction(b1).limit_denominator()"
   ]
  },
  {
   "cell_type": "code",
   "execution_count": 44,
   "id": "06c4702e",
   "metadata": {},
   "outputs": [
    {
     "data": {
      "text/plain": [
       "-5.4"
      ]
     },
     "execution_count": 44,
     "metadata": {},
     "output_type": "execute_result"
    }
   ],
   "source": [
    "b2 = np.subtract(np.subtract(np.add(-2 -1/5, 1 + 4/5), 3 + 1/2), 1.5)\n",
    "b2"
   ]
  },
  {
   "cell_type": "code",
   "execution_count": 50,
   "id": "fd9aee6d",
   "metadata": {},
   "outputs": [
    {
     "data": {
      "text/plain": [
       "array([-3.9, -1.9])"
      ]
     },
     "execution_count": 50,
     "metadata": {},
     "output_type": "execute_result"
    }
   ],
   "source": [
    "b2a = np.subtract(np.sum([-2 - 1/5, 1 + 4/5]), [3 + 1/2, 1.5])\n",
    "b2a"
   ]
  },
  {
   "cell_type": "code",
   "execution_count": 53,
   "id": "e76ac4ac",
   "metadata": {},
   "outputs": [
    {
     "data": {
      "text/plain": [
       "Fraction(-1, 15)"
      ]
     },
     "execution_count": 53,
     "metadata": {},
     "output_type": "execute_result"
    }
   ],
   "source": [
    "b3 = np.subtract(np.add(-np.subtract(2.5, 1 + 1/3), 3.5), 2 + 2/5)\n",
    "Fraction(b3).limit_denominator()"
   ]
  },
  {
   "cell_type": "code",
   "execution_count": 62,
   "id": "70b2de39",
   "metadata": {},
   "outputs": [
    {
     "data": {
      "text/plain": [
       "(Fraction(-88, 15), -5.866666666666667)"
      ]
     },
     "execution_count": 62,
     "metadata": {},
     "output_type": "execute_result"
    }
   ],
   "source": [
    "b4 = np.subtract(np.subtract(4 + 1/3, 7.5), np.add(-2 - 1/2, 5.2))\n",
    "Fraction(b4).limit_denominator(), b4"
   ]
  },
  {
   "cell_type": "code",
   "execution_count": null,
   "id": "359c56ee",
   "metadata": {},
   "outputs": [],
   "source": [
    "Zadanie 11.5"
   ]
  },
  {
   "cell_type": "code",
   "execution_count": 67,
   "id": "b7e0cbec",
   "metadata": {},
   "outputs": [
    {
     "name": "stdout",
     "output_type": "stream",
     "text": [
      "2\n",
      "-5\n",
      "1/7\n",
      "-2/9\n",
      "-7/2\n",
      "14/3\n",
      "-37/3\n",
      "-5/2\n"
     ]
    }
   ],
   "source": [
    "a = np.array([2, -5, 1/7, -2/9, -3 - 1/2, 4 + 2/3, -12 - 1/3, -2.5])\n",
    "for n in a:\n",
    "    print(Fraction(n).limit_denominator())"
   ]
  },
  {
   "cell_type": "code",
   "execution_count": 68,
   "id": "02a58db9",
   "metadata": {},
   "outputs": [
    {
     "name": "stdout",
     "output_type": "stream",
     "text": [
      "-2\n",
      "5\n",
      "-1/7\n",
      "2/9\n",
      "7/2\n",
      "-14/3\n",
      "37/3\n",
      "5/2\n"
     ]
    }
   ],
   "source": [
    "for n in -a:\n",
    "    print(Fraction(n).limit_denominator())"
   ]
  },
  {
   "cell_type": "code",
   "execution_count": null,
   "id": "ba77cfc9",
   "metadata": {},
   "outputs": [],
   "source": [
    "Zadanie 11.6"
   ]
  },
  {
   "cell_type": "code",
   "execution_count": 70,
   "id": "ccfe7583",
   "metadata": {},
   "outputs": [
    {
     "data": {
      "text/plain": [
       "-21"
      ]
     },
     "execution_count": 70,
     "metadata": {},
     "output_type": "execute_result"
    }
   ],
   "source": [
    "a1 = np.multiply(-7, 3)\n",
    "a1"
   ]
  },
  {
   "cell_type": "code",
   "execution_count": 71,
   "id": "1f68becd",
   "metadata": {},
   "outputs": [
    {
     "data": {
      "text/plain": [
       "96"
      ]
     },
     "execution_count": 71,
     "metadata": {},
     "output_type": "execute_result"
    }
   ],
   "source": [
    "a2 = np.multiply(-8, -12)\n",
    "a2"
   ]
  },
  {
   "cell_type": "code",
   "execution_count": 73,
   "id": "d1b96dc6",
   "metadata": {},
   "outputs": [
    {
     "data": {
      "text/plain": [
       "-5.0"
      ]
     },
     "execution_count": 73,
     "metadata": {},
     "output_type": "execute_result"
    }
   ],
   "source": [
    "a3 = np.divide(80, -16)\n",
    "a3"
   ]
  },
  {
   "cell_type": "code",
   "execution_count": 74,
   "id": "7394b637",
   "metadata": {},
   "outputs": [
    {
     "data": {
      "text/plain": [
       "5.0"
      ]
     },
     "execution_count": 74,
     "metadata": {},
     "output_type": "execute_result"
    }
   ],
   "source": [
    "a4 = np.divide(-75, -15)\n",
    "a4"
   ]
  },
  {
   "cell_type": "code",
   "execution_count": 75,
   "id": "cfa41a86",
   "metadata": {},
   "outputs": [
    {
     "data": {
      "text/plain": [
       "-0.25"
      ]
     },
     "execution_count": 75,
     "metadata": {},
     "output_type": "execute_result"
    }
   ],
   "source": [
    "b1 = np.multiply(-2/5, 5/8)\n",
    "b1"
   ]
  },
  {
   "cell_type": "code",
   "execution_count": 76,
   "id": "e7916395",
   "metadata": {},
   "outputs": [
    {
     "data": {
      "text/plain": [
       "0.4444444444444445"
      ]
     },
     "execution_count": 76,
     "metadata": {},
     "output_type": "execute_result"
    }
   ],
   "source": [
    "b2 = np.multiply(-5/6, -8/15)\n",
    "b2"
   ]
  },
  {
   "cell_type": "code",
   "execution_count": 77,
   "id": "bdc960db",
   "metadata": {},
   "outputs": [
    {
     "data": {
      "text/plain": [
       "Fraction(-6, 5)"
      ]
     },
     "execution_count": 77,
     "metadata": {},
     "output_type": "execute_result"
    }
   ],
   "source": [
    "b3 = np.divide(Fraction(3, 4), Fraction(-5, 8))\n",
    "b3"
   ]
  },
  {
   "cell_type": "code",
   "execution_count": 80,
   "id": "41a31158",
   "metadata": {},
   "outputs": [
    {
     "data": {
      "text/plain": [
       "Fraction(-10, 7)"
      ]
     },
     "execution_count": 80,
     "metadata": {},
     "output_type": "execute_result"
    }
   ],
   "source": [
    "b4 = np.divide(-5/9, 7/18)\n",
    "Fraction(b4).limit_denominator()"
   ]
  },
  {
   "cell_type": "code",
   "execution_count": 81,
   "id": "81afe630",
   "metadata": {},
   "outputs": [
    {
     "data": {
      "text/plain": [
       "-8.8"
      ]
     },
     "execution_count": 81,
     "metadata": {},
     "output_type": "execute_result"
    }
   ],
   "source": [
    "c1 = np.multiply(-3 -1/5, 2 +3/4)\n",
    "c1"
   ]
  },
  {
   "cell_type": "code",
   "execution_count": 83,
   "id": "bd9a5fc6",
   "metadata": {},
   "outputs": [
    {
     "data": {
      "text/plain": [
       "6.25"
      ]
     },
     "execution_count": 83,
     "metadata": {},
     "output_type": "execute_result"
    }
   ],
   "source": [
    "c2 = np.multiply(-5 -5/8, -1 -1/9)\n",
    "c2"
   ]
  },
  {
   "cell_type": "code",
   "execution_count": 87,
   "id": "bd865ec4",
   "metadata": {},
   "outputs": [
    {
     "data": {
      "text/plain": [
       "Fraction(-17, 6)"
      ]
     },
     "execution_count": 87,
     "metadata": {},
     "output_type": "execute_result"
    }
   ],
   "source": [
    "c3 = np.divide(-3 -2/5, 1 +1/5)\n",
    "Fraction(c3).limit_denominator()"
   ]
  },
  {
   "cell_type": "code",
   "execution_count": 90,
   "id": "d343b87c",
   "metadata": {},
   "outputs": [
    {
     "data": {
      "text/plain": [
       "(Fraction(125, 21), 5.952380952380953)"
      ]
     },
     "execution_count": 90,
     "metadata": {},
     "output_type": "execute_result"
    }
   ],
   "source": [
    "c4 = np.divide(-16 -2/3, -2 -4/5)\n",
    "Fraction(c4).limit_denominator(), c4"
   ]
  },
  {
   "cell_type": "markdown",
   "id": "0e133303",
   "metadata": {},
   "source": [
    "# Zadanie 11.7"
   ]
  },
  {
   "cell_type": "code",
   "execution_count": 59,
   "id": "b4d8a6ea",
   "metadata": {},
   "outputs": [
    {
     "name": "stdout",
     "output_type": "stream",
     "text": [
      "[[ -3.       6.      -1.7143   0.8333  -3.8333  -5.25  ]\n",
      " [ -4.      -5.       0.6857  -0.6667  -0.25    -2.5   ]\n",
      " [ -7.       1.      -1.0286   0.1667  -4.0833  -7.75  ]\n",
      " [  1.      11.      -2.4      1.5     -3.5833  -2.75  ]\n",
      " [ 12.     -30.      -1.1755  -0.5556   0.9583  13.125 ]\n",
      " [  0.75    -1.2     -2.5     -1.25    15.3333   2.1   ]]\n"
     ]
    }
   ],
   "source": [
    "a = np.array([-3, None, -1 -5/7, None, -3 -5/6, -5.25])\n",
    "b = np.array([-4, -5, None, -2/3, None, None])\n",
    "\n",
    "a_plus_b = np.array([None, None, None, 1/6, None, None])\n",
    "a_minus_b = np.array([None, None, None, None, 3 + 7/12, None])\n",
    "a_x_b = np.array([None, -30, None, None, None, None])\n",
    "a_podzielić_b = np.array([None, None, -2 -1/2, None, None, 2.1])\n",
    "\n",
    "\n",
    "def find_calculate():\n",
    "    for i in range(6):\n",
    "        if None in (a[i], b[i]):\n",
    "            if (plus := a_plus_b[i]) or (minus := a_minus_b[i]) or (razy := a_x_b[i]) or (podziel := a_podzielić_b[i]):\n",
    "                \n",
    "                if plus:\n",
    "                    if a[i]:\n",
    "                        b[i] = a[i] - plus if b[i] is None else b[i]\n",
    "                    else:\n",
    "                        a[i] = plus - b[i] if a[i] is None else a[i] \n",
    "                        find_calculate()\n",
    "                elif minus:\n",
    "                    if a[i]:\n",
    "                        b[i] = a[i] + minus if b[i] is None else b[i]\n",
    "                        find_calculate()\n",
    "                    else:\n",
    "                        a[i] = minus + b[i] if a[i] is None else a[i]\n",
    "                        find_calculate()\n",
    "                elif razy:\n",
    "                    if a[i]:\n",
    "                        b[i] = a[i] / razy if b[i] is None else b[i]\n",
    "                        find_calculate()\n",
    "                    else:\n",
    "                        a[i] = razy / b[i] if a[i] is None else a[i]\n",
    "                        find_calculate()\n",
    "                elif podziel:\n",
    "                    if a[i]:\n",
    "                        b[i] = a[i] / podziel if b[i] is None else b[i]\n",
    "                        find_calculate()\n",
    "                    else:\n",
    "                        a[i] = podziel * b[i] if a[i] is None else a[i]\n",
    "                        find_calculate()\n",
    "                    \n",
    "        else:\n",
    "            a_plus_b[i] = np.sum([a[i], b[i]]) \n",
    "            a_minus_b[i] = np.subtract(a[i], b[i])\n",
    "            a_x_b[i] = np.multiply(a[i], b[i])\n",
    "            a_podzielić_b[i] = np.divide(a[i], b[i])\n",
    "\n",
    "        \n",
    "find_calculate()\n",
    "\n",
    "\n",
    "np.set_printoptions(precision=4, linewidth=175, suppress=True)\n",
    "\n",
    "\n",
    "arr = np.array([a, b, a_plus_b, a_minus_b, a_x_b, a_podzielić_b]).astype(np.float32)\n",
    "print(arr)\n"
   ]
  },
  {
   "cell_type": "code",
   "execution_count": null,
   "id": "6e3b41f5",
   "metadata": {},
   "outputs": [],
   "source": []
  },
  {
   "cell_type": "markdown",
   "id": "fb3d2c97",
   "metadata": {},
   "source": [
    "# Zadanie 11.8"
   ]
  },
  {
   "cell_type": "code",
   "execution_count": 21,
   "id": "a48056a4",
   "metadata": {},
   "outputs": [
    {
     "data": {
      "text/plain": [
       "Fraction(-8, 27)"
      ]
     },
     "execution_count": 21,
     "metadata": {},
     "output_type": "execute_result"
    }
   ],
   "source": [
    "a1 = np.power(Fraction(-2, 3), 3)\n",
    "a1"
   ]
  },
  {
   "cell_type": "code",
   "execution_count": 22,
   "id": "1f454568",
   "metadata": {},
   "outputs": [
    {
     "data": {
      "text/plain": [
       "3.0625"
      ]
     },
     "execution_count": 22,
     "metadata": {},
     "output_type": "execute_result"
    }
   ],
   "source": [
    "a2 = np.power(1 + 3/4, 2)\n",
    "a2"
   ]
  },
  {
   "cell_type": "code",
   "execution_count": 24,
   "id": "4905a16b",
   "metadata": {},
   "outputs": [
    {
     "data": {
      "text/plain": [
       "6.25"
      ]
     },
     "execution_count": 24,
     "metadata": {},
     "output_type": "execute_result"
    }
   ],
   "source": [
    "a3 = np.power(-2 -1/2, 2)\n",
    "a3"
   ]
  },
  {
   "cell_type": "code",
   "execution_count": 25,
   "id": "e028450b",
   "metadata": {},
   "outputs": [
    {
     "data": {
      "text/plain": [
       "7.5625"
      ]
     },
     "execution_count": 25,
     "metadata": {},
     "output_type": "execute_result"
    }
   ],
   "source": [
    "a4 = np.power(-2 - 3/4, 2)\n",
    "a4"
   ]
  },
  {
   "cell_type": "code",
   "execution_count": 26,
   "id": "2fcfe761",
   "metadata": {},
   "outputs": [
    {
     "data": {
      "text/plain": [
       "0.8"
      ]
     },
     "execution_count": 26,
     "metadata": {},
     "output_type": "execute_result"
    }
   ],
   "source": [
    "b1 = np.sqrt(16/25)\n",
    "b1"
   ]
  },
  {
   "cell_type": "code",
   "execution_count": 28,
   "id": "ac173a05",
   "metadata": {},
   "outputs": [
    {
     "data": {
      "text/plain": [
       "Fraction(16, 25)"
      ]
     },
     "execution_count": 28,
     "metadata": {},
     "output_type": "execute_result"
    }
   ],
   "source": [
    "Fraction(0.64).limit_denominator()"
   ]
  },
  {
   "cell_type": "code",
   "execution_count": 31,
   "id": "6d93244f",
   "metadata": {},
   "outputs": [
    {
     "data": {
      "text/plain": [
       "-0.6666666666666666"
      ]
     },
     "execution_count": 31,
     "metadata": {},
     "output_type": "execute_result"
    }
   ],
   "source": [
    "b2 = -np.cbrt(8/27)\n",
    "b2"
   ]
  },
  {
   "cell_type": "code",
   "execution_count": 32,
   "id": "33d6474f",
   "metadata": {},
   "outputs": [
    {
     "data": {
      "text/plain": [
       "-1.4907119849998598"
      ]
     },
     "execution_count": 32,
     "metadata": {},
     "output_type": "execute_result"
    }
   ],
   "source": [
    "b3 = -np.sqrt(2 + 2/9)\n",
    "b3"
   ]
  },
  {
   "cell_type": "code",
   "execution_count": 33,
   "id": "33d53d3a",
   "metadata": {},
   "outputs": [
    {
     "data": {
      "text/plain": [
       "1.5"
      ]
     },
     "execution_count": 33,
     "metadata": {},
     "output_type": "execute_result"
    }
   ],
   "source": [
    "b4 = np.cbrt(3 + 3/8)\n",
    "b4"
   ]
  },
  {
   "cell_type": "code",
   "execution_count": 34,
   "id": "95df7a74",
   "metadata": {},
   "outputs": [
    {
     "data": {
      "text/plain": [
       "2.909090909090909"
      ]
     },
     "execution_count": 34,
     "metadata": {},
     "output_type": "execute_result"
    }
   ],
   "source": [
    "c1 = np.divide(np.power(-2, 5), np.subtract(np.power(4, 2), np.power(3, 3)))\n",
    "c1"
   ]
  },
  {
   "cell_type": "code",
   "execution_count": 35,
   "id": "eba4cbd8",
   "metadata": {},
   "outputs": [
    {
     "data": {
      "text/plain": [
       "89.0"
      ]
     },
     "execution_count": 35,
     "metadata": {},
     "output_type": "execute_result"
    }
   ],
   "source": [
    "c2 = np.divide(np.add(np.power(-9, 2), np.power(2, 3)), np.add(np.power(-2, 3), np.power(3, 2)))\n",
    "c2"
   ]
  },
  {
   "cell_type": "code",
   "execution_count": 39,
   "id": "adbdd87d",
   "metadata": {},
   "outputs": [
    {
     "data": {
      "text/plain": [
       "-0.6666666666666666"
      ]
     },
     "execution_count": 39,
     "metadata": {},
     "output_type": "execute_result"
    }
   ],
   "source": [
    "c3 = np.divide(np.subtract(np.cbrt(125), np.sqrt(36)), np.subtract(np.sqrt(4), np.sqrt(1/4)))\n",
    "c3"
   ]
  },
  {
   "cell_type": "code",
   "execution_count": 56,
   "id": "b4bfe7d6",
   "metadata": {},
   "outputs": [
    {
     "data": {
      "text/plain": [
       "2.0"
      ]
     },
     "execution_count": 56,
     "metadata": {},
     "output_type": "execute_result"
    }
   ],
   "source": [
    "c4 = np.divide(np.subtract(np.multiply(np.sqrt(16), np.sqrt(25)), np.sqrt(64)), np.subtract(np.multiply(np.cbrt(27), np.cbrt(64)), np.cbrt(216)))\n",
    "c4"
   ]
  },
  {
   "cell_type": "markdown",
   "id": "56f14f3f",
   "metadata": {},
   "source": [
    "# Zadanie 11.9"
   ]
  },
  {
   "cell_type": "code",
   "execution_count": 153,
   "id": "2002838e",
   "metadata": {},
   "outputs": [
    {
     "data": {
      "text/plain": [
       "array([[0., 0., 0., 0., 0.],\n",
       "       [0., 0., 0., 0., 0.],\n",
       "       [0., 0., 0., 0., 0.],\n",
       "       [0., 0., 0., 0., 0.],\n",
       "       [0., 0., 0., 0., 0.]])"
      ]
     },
     "execution_count": 153,
     "metadata": {},
     "output_type": "execute_result"
    }
   ],
   "source": [
    "a = np.zeros([5, 5])\n",
    "a"
   ]
  },
  {
   "cell_type": "code",
   "execution_count": 154,
   "id": "c9ba871c",
   "metadata": {},
   "outputs": [
    {
     "data": {
      "text/plain": [
       "array([[ 25.,  25.,   0.,  12.,  12.],\n",
       "       [  0.,   0.,   0.,   0.,   0.],\n",
       "       [  0., 216., 216., 216.,   0.],\n",
       "       [  0.,   0.,   0.,   0.,   0.],\n",
       "       [ 36.,  36.,   0.,  14.,  14.]])"
      ]
     },
     "execution_count": 154,
     "metadata": {},
     "output_type": "execute_result"
    }
   ],
   "source": [
    "# POZIOMO\n",
    "a[0, 0:2] = np.absolute(-25)\n",
    "a[0, 3:5] = np.multiply(-1/3, -36)\n",
    "a[2, 1:4] = np.power(6, 3)\n",
    "a[4, 0:2] = np.power(np.reciprocal(Fraction(-1, 6)), 2)\n",
    "a[4, 3:5] = np.sqrt(196)\n",
    "a"
   ]
  },
  {
   "cell_type": "code",
   "execution_count": 155,
   "id": "93e90d0d",
   "metadata": {},
   "outputs": [
    {
     "name": "stdout",
     "output_type": "stream",
     "text": [
      "[[ 45.  25.   0.  12.  37.]\n",
      " [ 20.   0. 116.   0.  25.]\n",
      " [  0. 216. 332. 216.   0.]\n",
      " [ 23.   0. 116.   0.  24.]\n",
      " [ 59.  36.   0.  14.  38.]]\n"
     ]
    }
   ],
   "source": [
    "# PIONOWO\n",
    "a[0:2, 0] += 20 # np.reciprocal(-20)\n",
    "a[3:5, 0] += 23 # np.reciprocal(Fraction(1, 23))\n",
    "a[1:4, 2] += np.subtract(np.power(5, 3), np.power(-3, 2))\n",
    "a[0:2, 4] += np.power(-5, 2)\n",
    "a[3:5, 4] += np.add(np.cbrt(1000), np.power(-np.sqrt(14), 2))\n",
    "\n",
    "print(a)\n"
   ]
  },
  {
   "cell_type": "markdown",
   "id": "3a77ff25",
   "metadata": {},
   "source": [
    "# Zadanie 11.10"
   ]
  },
  {
   "cell_type": "code",
   "execution_count": 189,
   "id": "7726dce5",
   "metadata": {},
   "outputs": [
    {
     "data": {
      "text/plain": [
       "Fraction(-4, 5)"
      ]
     },
     "execution_count": 189,
     "metadata": {},
     "output_type": "execute_result"
    }
   ],
   "source": [
    "a = np.divide(np.multiply(-2 - 2/3, 4 + 1/2), 15)\n",
    "Fraction(a).limit_denominator()"
   ]
  },
  {
   "cell_type": "code",
   "execution_count": 188,
   "id": "020d49ab",
   "metadata": {},
   "outputs": [
    {
     "data": {
      "text/plain": [
       "Fraction(-5, 4)"
      ]
     },
     "execution_count": 188,
     "metadata": {},
     "output_type": "execute_result"
    }
   ],
   "source": [
    "a1 = np.reciprocal(a)\n",
    "Fraction(a1)"
   ]
  },
  {
   "cell_type": "code",
   "execution_count": 190,
   "id": "85c18723",
   "metadata": {},
   "outputs": [
    {
     "data": {
      "text/plain": [
       "Fraction(4, 5)"
      ]
     },
     "execution_count": 190,
     "metadata": {},
     "output_type": "execute_result"
    }
   ],
   "source": [
    "a2 = -a\n",
    "Fraction(a2).limit_denominator()"
   ]
  },
  {
   "cell_type": "markdown",
   "id": "d69140e7",
   "metadata": {},
   "source": [
    "# Zadanie 11.11 "
   ]
  },
  {
   "cell_type": "code",
   "execution_count": 174,
   "id": "eea01150",
   "metadata": {},
   "outputs": [
    {
     "data": {
      "text/plain": [
       "Fraction(-31, 6)"
      ]
     },
     "execution_count": 174,
     "metadata": {},
     "output_type": "execute_result"
    }
   ],
   "source": [
    "a = np.subtract(np.sqrt(2 + 1/4), np.multiply(np.power(-1 - 2/3, 2), 2.4))\n",
    "Fraction(a).limit_denominator()"
   ]
  },
  {
   "cell_type": "code",
   "execution_count": 198,
   "id": "62a6b6ab",
   "metadata": {},
   "outputs": [
    {
     "data": {
      "text/plain": [
       "Fraction(-7, 10)"
      ]
     },
     "execution_count": 198,
     "metadata": {},
     "output_type": "execute_result"
    }
   ],
   "source": [
    "b = np.multiply(1/2, np.subtract(np.multiply(2.7, 5/27), .8))\n",
    "b1 = np.subtract(0.5, b / np.power(-1/2, 3))\n",
    "\n",
    "Fraction(b1).limit_denominator()"
   ]
  },
  {
   "cell_type": "code",
   "execution_count": 165,
   "id": "565adcc0",
   "metadata": {},
   "outputs": [
    {
     "data": {
      "text/plain": [
       "25.000000000000007"
      ]
     },
     "execution_count": 165,
     "metadata": {},
     "output_type": "execute_result"
    }
   ],
   "source": [
    "c = np.add(2.5, np.divide(np.subtract(2/3, np.multiply(1.8, 5/6)), np.power(-1/3, 3)))\n",
    "c"
   ]
  },
  {
   "cell_type": "code",
   "execution_count": 168,
   "id": "515abbda",
   "metadata": {},
   "outputs": [
    {
     "data": {
      "text/plain": [
       "83.1"
      ]
     },
     "execution_count": 168,
     "metadata": {},
     "output_type": "execute_result"
    }
   ],
   "source": [
    "d = np.sum([np.multiply(5, np.subtract(2/5, np.divide(0.4, -2))), .5, -np.multiply(52, 0.2), 90])\n",
    "d"
   ]
  },
  {
   "cell_type": "code",
   "execution_count": 170,
   "id": "6f8bac24",
   "metadata": {},
   "outputs": [
    {
     "data": {
      "text/plain": [
       "0.9"
      ]
     },
     "execution_count": 170,
     "metadata": {},
     "output_type": "execute_result"
    }
   ],
   "source": [
    "e = np.divide(np.subtract(np.cbrt(3 + 3/8), np.divide(np.power(-3, 2), 1.5)), np.add(-2.5, np.multiply(1 +3/4, -1 -3/7)))\n",
    "e"
   ]
  },
  {
   "cell_type": "markdown",
   "id": "479a095e",
   "metadata": {},
   "source": [
    "# Zadanie 11.12"
   ]
  },
  {
   "cell_type": "code",
   "execution_count": 200,
   "id": "45fabaa5",
   "metadata": {},
   "outputs": [
    {
     "data": {
      "text/plain": [
       "-2.4"
      ]
     },
     "execution_count": 200,
     "metadata": {},
     "output_type": "execute_result"
    }
   ],
   "source": [
    "a = np.multiply(np.divide(np.multiply(-4.8, 1/3), 2),  3)\n",
    "a"
   ]
  },
  {
   "cell_type": "code",
   "execution_count": 203,
   "id": "8a25eefa",
   "metadata": {},
   "outputs": [],
   "source": [
    "# "
   ]
  },
  {
   "cell_type": "markdown",
   "id": "6fa2687a",
   "metadata": {},
   "source": [
    "# Zadanie 11.13 "
   ]
  },
  {
   "cell_type": "code",
   "execution_count": 205,
   "id": "05b76acb",
   "metadata": {},
   "outputs": [
    {
     "data": {
      "text/plain": [
       "-51.025"
      ]
     },
     "execution_count": 205,
     "metadata": {},
     "output_type": "execute_result"
    }
   ],
   "source": [
    "a = np.subtract(np.divide(20.5, -2/5), np.multiply(-3/4, 0.3))\n",
    "a"
   ]
  },
  {
   "cell_type": "markdown",
   "id": "512f382f",
   "metadata": {},
   "source": [
    "# Zadanie 11.14 "
   ]
  },
  {
   "cell_type": "code",
   "execution_count": 208,
   "id": "7bb2f5a7",
   "metadata": {},
   "outputs": [
    {
     "data": {
      "text/plain": [
       "-48.0"
      ]
     },
     "execution_count": 208,
     "metadata": {},
     "output_type": "execute_result"
    }
   ],
   "source": [
    "# a = np.divide(np.add(np.divide(6.6, -2/3), np.divide(28.8, -13 -5/7)), 25) * 100\n",
    "a = np.divide(np.add(np.divide(6.6, -2/3), np.divide(28.8, -13 -5/7)), 4)\n",
    "a"
   ]
  },
  {
   "cell_type": "code",
   "execution_count": null,
   "id": "f8f6dbf7",
   "metadata": {},
   "outputs": [],
   "source": []
  },
  {
   "cell_type": "markdown",
   "id": "27e23897",
   "metadata": {},
   "source": [
    "# Rozdział IV."
   ]
  },
  {
   "cell_type": "code",
   "execution_count": 48,
   "id": "facdb69e",
   "metadata": {},
   "outputs": [
    {
     "data": {
      "text/plain": [
       "4.47213595499958"
      ]
     },
     "execution_count": 48,
     "metadata": {},
     "output_type": "execute_result"
    }
   ],
   "source": [
    "from math import dist\n",
    "\n",
    "a = np.array([1, 2])\n",
    "b = np.array([-1,-2])\n",
    "\n",
    "dist(a, b)\n"
   ]
  },
  {
   "cell_type": "code",
   "execution_count": 51,
   "id": "e9bcfb89",
   "metadata": {},
   "outputs": [
    {
     "data": {
      "text/plain": [
       "4.47213595499958"
      ]
     },
     "execution_count": 51,
     "metadata": {},
     "output_type": "execute_result"
    }
   ],
   "source": [
    "# Euclidean distance with NumPy\n",
    "\n",
    "dist = np.linalg.norm(a - b, 2)\n",
    "dist"
   ]
  },
  {
   "cell_type": "code",
   "execution_count": null,
   "id": "cf0a1adb",
   "metadata": {},
   "outputs": [],
   "source": []
  },
  {
   "cell_type": "markdown",
   "id": "10d00a60",
   "metadata": {},
   "source": [
    "## Zadanie 1.3 "
   ]
  },
  {
   "cell_type": "code",
   "execution_count": 3,
   "id": "9c45ec5b",
   "metadata": {},
   "outputs": [
    {
     "data": {
      "image/png": "[encoded data removed]",
      "text/plain": [
       "<Figure size 720x720 with 1 Axes>"
      ]
     },
     "metadata": {
      "needs_background": "light"
     },
     "output_type": "display_data"
    }
   ],
   "source": [
    "import numpy as np\n",
    "import matplotlib.pyplot as plt    # v 3.3.2\n",
    "\n",
    "\n",
    "def układ_współrzędnych(xs, ys):\n",
    "    # Enter x and y coordinates of points and colors\n",
    "#     xs = [-3, -2, -1, 0, 1, 3]\n",
    "#     ys = [-3, -2, -1, 0, 1, 3]\n",
    "    colors = ['m', 'g', 'r', 'b', 'y', 'brown']\n",
    "\n",
    "    # Select length of axes and the space between tick labels\n",
    "    xmin, xmax, ymin, ymax = -6, 6, -6, 6\n",
    "    ticks_frequency = 1\n",
    "\n",
    "    # Plot points\n",
    "    fig, ax = plt.subplots(figsize=(10, 10))\n",
    "    ax.scatter(xs, ys, c=colors)\n",
    "\n",
    "    # Draw lines connecting points to axes\n",
    "    for x, y, c in zip(xs, ys, colors):\n",
    "        ax.plot([x, x], [0, y], c=c, ls='--', lw=1.5, alpha=0.5)\n",
    "        ax.plot([0, x], [y, y], c=c, ls='--', lw=1.5, alpha=0.5)\n",
    "\n",
    "    # Set identical scales for both axes\n",
    "    ax.set(xlim=(xmin-1, xmax+1), ylim=(ymin-1, ymax+1), aspect='equal')\n",
    "\n",
    "    # Set bottom and left spines as x and y axes of coordinate system\n",
    "    ax.spines['bottom'].set_position('zero')\n",
    "    ax.spines['left'].set_position('zero')\n",
    "\n",
    "    # Remove top and right spines\n",
    "    ax.spines['top'].set_visible(False)\n",
    "    ax.spines['right'].set_visible(False)\n",
    "\n",
    "    # Create 'x' and 'y' labels placed at the end of the axes\n",
    "    ax.set_xlabel('x', size=15, labelpad=-24, x=1.03)\n",
    "    ax.set_ylabel('y', size=15, labelpad=-21, y=1.02, rotation=0)\n",
    "\n",
    "    # Create custom major ticks to determine position of tick labels\n",
    "    x_ticks = np.arange(xmin, xmax+1, ticks_frequency)\n",
    "    y_ticks = np.arange(ymin, ymax+1, ticks_frequency)\n",
    "    ax.set_xticks(x_ticks[x_ticks != 0])\n",
    "    ax.set_yticks(y_ticks[y_ticks != 0])\n",
    "\n",
    "    # Create minor ticks placed at each integer to enable drawing of minor grid\n",
    "    # lines: note that this has no effect in this example with ticks_frequency=1\n",
    "    ax.set_xticks(np.arange(xmin, xmax+1), minor=True)\n",
    "    ax.set_yticks(np.arange(ymin, ymax+1), minor=True)\n",
    "\n",
    "    # Draw major and minor grid lines\n",
    "    ax.grid(which='both', color='grey', linewidth=1, linestyle='-', alpha=0.2)\n",
    "\n",
    "    # Draw arrows\n",
    "    arrow_fmt = dict(markersize=4, color='black', clip_on=False)\n",
    "    ax.plot((1), (0), marker='>', transform=ax.get_yaxis_transform(), **arrow_fmt)\n",
    "    ax.plot((0), (1), marker='^', transform=ax.get_xaxis_transform(), **arrow_fmt)\n",
    "\n",
    "    return plt.show()\n",
    "    \n",
    "układ_współrzędnych([-3, -2, -1, 0, 1, 3], [-3, -2, -1, 0, 1, 3])\n"
   ]
  },
  {
   "cell_type": "code",
   "execution_count": null,
   "id": "8be335df",
   "metadata": {},
   "outputs": [],
   "source": []
  },
  {
   "cell_type": "markdown",
   "id": "ed445484",
   "metadata": {},
   "source": [
    "## Zadanie 11.5"
   ]
  },
  {
   "cell_type": "code",
   "execution_count": 89,
   "id": "2b9e31dd",
   "metadata": {},
   "outputs": [
    {
     "data": {
      "image/png": "[encoded data removed]",
      "text/plain": [
       "<Figure size 720x720 with 1 Axes>"
      ]
     },
     "metadata": {
      "needs_background": "light"
     },
     "output_type": "display_data"
    }
   ],
   "source": [
    "układ_współrzędnych([-2, 1, 5, 0, 0, 0], [0, 0, 0, 4, 0, -3])"
   ]
  },
  {
   "cell_type": "code",
   "execution_count": null,
   "id": "912948e5",
   "metadata": {},
   "outputs": [],
   "source": []
  },
  {
   "cell_type": "markdown",
   "id": "6f100797",
   "metadata": {},
   "source": [
    "## Zadanie 1.6 "
   ]
  },
  {
   "cell_type": "code",
   "execution_count": 7,
   "id": "2acdedcd",
   "metadata": {},
   "outputs": [
    {
     "data": {
      "image/png": "[encoded data removed]",
      "text/plain": [
       "<Figure size 720x720 with 1 Axes>"
      ]
     },
     "metadata": {
      "needs_background": "light"
     },
     "output_type": "display_data"
    }
   ],
   "source": [
    "import numpy as np\n",
    "import matplotlib.pyplot as plt    # v 3.3.2\n",
    "\n",
    "\n",
    "def układ_współrzędnych(xs, ys):\n",
    "    # Enter x and y coordinates of points and colors\n",
    "    color = ('m', 'g', 'r', 'b', 'y', 'brown')\n",
    "    colors = [color[i] for i in range(len(xs))]\n",
    "\n",
    "    # Select length of axes and the space between tick labels\n",
    "    xmin, xmax, ymin, ymax = -6, 6, -6, 6\n",
    "    ticks_frequency = 1\n",
    "\n",
    "    # Plot points\n",
    "    fig, ax = plt.subplots(figsize=(10, 10))\n",
    "    ax.scatter(xs, ys, c=colors)\n",
    "\n",
    "    # Draw lines connecting points to axes\n",
    "    for x, y, c in zip(xs, ys, colors):\n",
    "        ax.plot([x, x], [0, y], c=c, ls='--', lw=1.5, alpha=0.5)\n",
    "        ax.plot([0, x], [y, y], c=c, ls='--', lw=1.5, alpha=0.5)\n",
    "\n",
    "    # Set identical scales for both axes\n",
    "    ax.set(xlim=(xmin-1, xmax+1), ylim=(ymin-1, ymax+1), aspect='equal')\n",
    "\n",
    "    # Set bottom and left spines as x and y axes of coordinate system\n",
    "    ax.spines['bottom'].set_position('zero')\n",
    "    ax.spines['left'].set_position('zero')\n",
    "\n",
    "    # Remove top and right spines\n",
    "    ax.spines['top'].set_visible(False)\n",
    "    ax.spines['right'].set_visible(False)\n",
    "\n",
    "    # Create 'x' and 'y' labels placed at the end of the axes\n",
    "    ax.set_xlabel('x', size=15, labelpad=-24, x=1.03)\n",
    "    ax.set_ylabel('y', size=15, labelpad=-21, y=1.02, rotation=0)\n",
    "\n",
    "    # Create custom major ticks to determine position of tick labels\n",
    "    x_ticks = np.arange(xmin, xmax+1, ticks_frequency)\n",
    "    y_ticks = np.arange(ymin, ymax+1, ticks_frequency)\n",
    "    ax.set_xticks(x_ticks[x_ticks != 0])\n",
    "    ax.set_yticks(y_ticks[y_ticks != 0])\n",
    "\n",
    "    # Create minor ticks placed at each integer to enable drawing of minor grid\n",
    "    # lines: note that this has no effect in this example with ticks_frequency=1\n",
    "    ax.set_xticks(np.arange(xmin, xmax+1), minor=True)\n",
    "    ax.set_yticks(np.arange(ymin, ymax+1), minor=True)\n",
    "\n",
    "    # Draw major and minor grid lines\n",
    "    ax.grid(which='both', color='grey', linewidth=1, linestyle='-', alpha=0.2)\n",
    "\n",
    "    # Draw arrows\n",
    "    arrow_fmt = dict(markersize=4, color='black', clip_on=False)\n",
    "    ax.plot((1), (0), marker='>', transform=ax.get_yaxis_transform(), **arrow_fmt)\n",
    "    ax.plot((0), (1), marker='^', transform=ax.get_xaxis_transform(), **arrow_fmt)\n",
    "\n",
    "    return plt.show()\n",
    "    \n",
    "układ_współrzędnych([3, 3], [4, -4])"
   ]
  },
  {
   "cell_type": "code",
   "execution_count": 8,
   "id": "4d429142",
   "metadata": {},
   "outputs": [
    {
     "data": {
      "image/png": "[encoded data removed]",
      "text/plain": [
       "<Figure size 720x720 with 1 Axes>"
      ]
     },
     "metadata": {
      "needs_background": "light"
     },
     "output_type": "display_data"
    }
   ],
   "source": [
    "układ_współrzędnych([3, 2], [2, -4])"
   ]
  },
  {
   "cell_type": "markdown",
   "id": "ca533d60",
   "metadata": {},
   "source": [
    "## Zadanie 2"
   ]
  },
  {
   "cell_type": "code",
   "execution_count": 9,
   "id": "17986aed",
   "metadata": {},
   "outputs": [
    {
     "data": {
      "image/png": "[encoded data removed]",
      "text/plain": [
       "<Figure size 720x720 with 1 Axes>"
      ]
     },
     "metadata": {
      "needs_background": "light"
     },
     "output_type": "display_data"
    }
   ],
   "source": [
    "układ_współrzędnych([1, 6, 6, 1], [-1, -1, 3, 3])"
   ]
  },
  {
   "cell_type": "code",
   "execution_count": 17,
   "id": "b039be22",
   "metadata": {},
   "outputs": [
    {
     "data": {
      "text/plain": [
       "6.4031242374328485"
      ]
     },
     "execution_count": 17,
     "metadata": {},
     "output_type": "execute_result"
    }
   ],
   "source": [
    "dist = np.linalg.norm(np.array([1, -1]) - np.array([6, 3]), 2)\n",
    "dist"
   ]
  },
  {
   "cell_type": "code",
   "execution_count": 21,
   "id": "5aeca54c",
   "metadata": {},
   "outputs": [
    {
     "data": {
      "text/plain": [
       "20"
      ]
     },
     "execution_count": 21,
     "metadata": {},
     "output_type": "execute_result"
    }
   ],
   "source": [
    "P = np.dot((6 - 1), (3 + 1))\n",
    "P"
   ]
  },
  {
   "cell_type": "markdown",
   "id": "3b22a8a7",
   "metadata": {},
   "source": [
    "## Zadanie 2.1"
   ]
  },
  {
   "cell_type": "code",
   "execution_count": 23,
   "id": "2cf77e13",
   "metadata": {},
   "outputs": [
    {
     "data": {
      "image/png": "[encoded data removed]",
      "text/plain": [
       "<Figure size 720x720 with 1 Axes>"
      ]
     },
     "metadata": {
      "needs_background": "light"
     },
     "output_type": "display_data"
    }
   ],
   "source": [
    "x = [-3, 2, 2, -3]\n",
    "y = [-2, -2, 3, 3]\n",
    "\n",
    "układ_współrzędnych(x, y)"
   ]
  },
  {
   "cell_type": "code",
   "execution_count": 34,
   "id": "d8a57645",
   "metadata": {},
   "outputs": [
    {
     "data": {
      "text/plain": [
       "20"
      ]
     },
     "execution_count": 34,
     "metadata": {},
     "output_type": "execute_result"
    }
   ],
   "source": [
    "Ob = np.multiply(np.add(np.absolute(-2), np.absolute(3)), 4)\n",
    "Ob"
   ]
  },
  {
   "cell_type": "code",
   "execution_count": 30,
   "id": "5f601423",
   "metadata": {},
   "outputs": [
    {
     "data": {
      "text/plain": [
       "25"
      ]
     },
     "execution_count": 30,
     "metadata": {},
     "output_type": "execute_result"
    }
   ],
   "source": [
    "P = np.multiply(np.add(np.absolute(-3), np.absolute(2)), np.add(np.absolute(-2), np.absolute(3)))\n",
    "P"
   ]
  },
  {
   "cell_type": "markdown",
   "id": "520a450e",
   "metadata": {},
   "source": [
    "## Zadanie 2.2"
   ]
  },
  {
   "cell_type": "code",
   "execution_count": 83,
   "id": "e784b43e",
   "metadata": {},
   "outputs": [
    {
     "data": {
      "image/png": "[encoded data removed]",
      "text/plain": [
       "<Figure size 720x720 with 1 Axes>"
      ]
     },
     "metadata": {
      "needs_background": "light"
     },
     "output_type": "display_data"
    }
   ],
   "source": [
    "\n",
    "def układ_współrzędnych(xs, ys):\n",
    "    # Enter x and y coordinates of points and colors\n",
    "    color = ('m', 'g', 'r', 'b', 'y', 'brown')\n",
    "    colors = [color[i] for i in range(len(xs))]\n",
    "\n",
    "    # Select length of axes and the space between tick labels\n",
    "    xmin, xmax, ymin, ymax = -7, 7, -7, 7\n",
    "    ticks_frequency = 1\n",
    "\n",
    "    # Plot points\n",
    "    fig, ax = plt.subplots(figsize=(10, 10))\n",
    "    ax.scatter(xs[:2],ys[:2], c='r')\n",
    "    ax.scatter(xs[2:],ys[2:], c='b')\n",
    "    ax.set(xlim=xs[:2], ylim=ys[:2])  # plt.axline((x1, y1), (x2, y2))\n",
    "    ax.plot(xs[:2],ys[:2], c='r')\n",
    "    ax.plot(xs[2:],ys[2:], c='b')\n",
    "\n",
    "    # Set identical scales for both axes\n",
    "    ax.set(xlim=(xmin-1, xmax+1), ylim=(ymin-1, ymax+1), aspect='equal')\n",
    "\n",
    "    # Set bottom and left spines as x and y axes of coordinate system\n",
    "    ax.spines['bottom'].set_position('zero')\n",
    "    ax.spines['left'].set_position('zero')\n",
    "\n",
    "    # Remove top and right spines\n",
    "    ax.spines['top'].set_visible(False)\n",
    "    ax.spines['right'].set_visible(False)\n",
    "\n",
    "    # Create 'x' and 'y' labels placed at the end of the axes\n",
    "    ax.set_xlabel('x', size=15, labelpad=-24, x=1.03)\n",
    "    ax.set_ylabel('y', size=15, labelpad=-21, y=1.02, rotation=0)\n",
    "\n",
    "    # Create custom major ticks to determine position of tick labels\n",
    "    x_ticks = np.arange(xmin, xmax+1, ticks_frequency)\n",
    "    y_ticks = np.arange(ymin, ymax+1, ticks_frequency)\n",
    "    ax.set_xticks(x_ticks[x_ticks != 0])\n",
    "    ax.set_yticks(y_ticks[y_ticks != 0])\n",
    "\n",
    "    # Create minor ticks placed at each integer to enable drawing of minor grid\n",
    "    # lines: note that this has no effect in this example with ticks_frequency=1\n",
    "    ax.set_xticks(np.arange(xmin, xmax+1), minor=True)\n",
    "    ax.set_yticks(np.arange(ymin, ymax+1), minor=True)\n",
    "\n",
    "    # Draw major and minor grid lines\n",
    "    ax.grid(which='both', color='grey', linewidth=1, linestyle='-', alpha=0.2)\n",
    "\n",
    "    # Draw arrows\n",
    "    arrow_fmt = dict(markersize=4, color='black', clip_on=False)\n",
    "    ax.plot((1), (0), marker='>', transform=ax.get_yaxis_transform(), **arrow_fmt)\n",
    "    ax.plot((0), (1), marker='^', transform=ax.get_xaxis_transform(), **arrow_fmt)\n",
    "\n",
    "    return plt.show()\n",
    "\n",
    "\n",
    "x = [0, 2, -3, 5]\n",
    "y = [2, -4, -1, -1]\n",
    "\n",
    "układ_współrzędnych(x, y)"
   ]
  },
  {
   "cell_type": "markdown",
   "id": "a8f56312",
   "metadata": {},
   "source": [
    "# "
   ]
  },
  {
   "cell_type": "code",
   "execution_count": 50,
   "id": "24852578",
   "metadata": {},
   "outputs": [
    {
     "data": {
      "image/png": "[encoded data removed]",
      "text/plain": [
       "<Figure size 432x288 with 1 Axes>"
      ]
     },
     "metadata": {
      "needs_background": "light"
     },
     "output_type": "display_data"
    }
   ],
   "source": [
    "from pylab import *\n",
    "\n",
    "x = [0,2,-3,-1.5]\n",
    "y = [0,3,1,-2.5]\n",
    "color=['m','g','r','b']\n",
    "\n",
    "scatter(x,y, s=100, marker='o', c=color)\n",
    "\n",
    "show()"
   ]
  },
  {
   "cell_type": "markdown",
   "id": "f29b9c8e",
   "metadata": {},
   "source": [
    "# "
   ]
  },
  {
   "cell_type": "markdown",
   "id": "ab2d8711",
   "metadata": {},
   "source": [
    "## Zadanie 2.3"
   ]
  },
  {
   "cell_type": "code",
   "execution_count": 13,
   "id": "e5908fbc",
   "metadata": {},
   "outputs": [
    {
     "data": {
      "image/png": "[encoded data removed]",
      "text/plain": [
       "<Figure size 720x720 with 1 Axes>"
      ]
     },
     "metadata": {
      "needs_background": "light"
     },
     "output_type": "display_data"
    }
   ],
   "source": [
    "def układ_współrzędnych(xs, ys):\n",
    "    \n",
    "    # Enter x and y coordinates of points and colors\n",
    "    color = ('m', 'g', 'r', 'b', 'y', 'brown')\n",
    "    colors = [color[i] for i in range(len(xs))]\n",
    "\n",
    "    # Select length of axes and the space between tick labels\n",
    "    xmin, xmax, ymin, ymax = -7, 7, -7, 7\n",
    "    ticks_frequency = 1\n",
    "\n",
    "    # Plot points\n",
    "    fig, ax = plt.subplots(figsize=(10, 10))\n",
    "    ax.scatter(xs[:],ys[:], c='r')\n",
    "    ax.set(xlim=xs[:2], ylim=ys[:2])  # plt.axline((x1, y1), (x2, y2))\n",
    "    ax.plot(xs[:],ys[:], c='r')\n",
    "\n",
    "    # Set identical scales for both axes\n",
    "    ax.set(xlim=(xmin-1, xmax+1), ylim=(ymin-1, ymax+1), aspect='equal')\n",
    "\n",
    "    # Set bottom and left spines as x and y axes of coordinate system\n",
    "    ax.spines['bottom'].set_position('zero')\n",
    "    ax.spines['left'].set_position('zero')\n",
    "\n",
    "    # Remove top and right spines\n",
    "    ax.spines['top'].set_visible(False)\n",
    "    ax.spines['right'].set_visible(False)\n",
    "\n",
    "    # Create 'x' and 'y' labels placed at the end of the axes\n",
    "    ax.set_xlabel('x', size=15, labelpad=-24, x=1.03)\n",
    "    ax.set_ylabel('y', size=15, labelpad=-21, y=1.02, rotation=0)\n",
    "\n",
    "    # Create custom major ticks to determine position of tick labels\n",
    "    x_ticks = np.arange(xmin, xmax+1, ticks_frequency)\n",
    "    y_ticks = np.arange(ymin, ymax+1, ticks_frequency)\n",
    "    ax.set_xticks(x_ticks[x_ticks != 0])\n",
    "    ax.set_yticks(y_ticks[y_ticks != 0])\n",
    "\n",
    "    # Create minor ticks placed at each integer to enable drawing of minor grid\n",
    "    # lines: note that this has no effect in this example with ticks_frequency=1\n",
    "    ax.set_xticks(np.arange(xmin, xmax+1), minor=True)\n",
    "    ax.set_yticks(np.arange(ymin, ymax+1), minor=True)\n",
    "\n",
    "    # Draw major and minor grid lines\n",
    "    ax.grid(which='both', color='grey', linewidth=1, linestyle='-', alpha=0.2)\n",
    "\n",
    "    # Draw arrows\n",
    "    arrow_fmt = dict(markersize=4, color='black', clip_on=False)\n",
    "    ax.plot((1), (0), marker='>', transform=ax.get_yaxis_transform(), **arrow_fmt)\n",
    "    ax.plot((0), (1), marker='^', transform=ax.get_xaxis_transform(), **arrow_fmt)\n",
    "\n",
    "    return plt.show()\n",
    "\n",
    "\n",
    "x = [6, 0, -6, -4, 6, 6]\n",
    "y = [4, 6, 0, -7,-4.3, 4]\n",
    "\n",
    "układ_współrzędnych(x, y)"
   ]
  },
  {
   "cell_type": "markdown",
   "id": "6aff7082",
   "metadata": {},
   "source": [
    "##  Zadanie 2.4"
   ]
  },
  {
   "cell_type": "code",
   "execution_count": 17,
   "id": "1e61d711",
   "metadata": {},
   "outputs": [
    {
     "name": "stderr",
     "output_type": "stream",
     "text": [
      "<ipython-input-13-c7542c43f0b4>:13: UserWarning: Attempting to set identical bottom == top == 3 results in singular transformations; automatically expanding.\n",
      "  ax.set(xlim=xs[:2], ylim=ys[:2])  # plt.axline((x1, y1), (x2, y2))\n"
     ]
    },
    {
     "data": {
      "image/png": "[encoded data removed]",
      "text/plain": [
       "<Figure size 720x720 with 1 Axes>"
      ]
     },
     "metadata": {
      "needs_background": "light"
     },
     "output_type": "display_data"
    }
   ],
   "source": [
    "x = [-2, 1, 1, -2, -2]\n",
    "y = [3, 3, -2, -2, 3]\n",
    "\n",
    "układ_współrzędnych(x, y)"
   ]
  },
  {
   "cell_type": "markdown",
   "id": "25e09d3d",
   "metadata": {},
   "source": [
    "## Zadanie 2.5"
   ]
  },
  {
   "cell_type": "code",
   "execution_count": 121,
   "id": "b831d90d",
   "metadata": {},
   "outputs": [
    {
     "data": {
      "image/png": "[encoded data removed]",
      "text/plain": [
       "<Figure size 720x720 with 1 Axes>"
      ]
     },
     "metadata": {
      "needs_background": "light"
     },
     "output_type": "display_data"
    }
   ],
   "source": [
    "def układ_współrzędnych(xs, ys):\n",
    "    \n",
    "    # Enter x and y coordinates of points and colors\n",
    "    colors = ('m', 'g', 'r', 'b', 'y', 'brown', 'p')\n",
    "    color = [colors[i] for i in range(len(xs))]\n",
    "\n",
    "    # Select length of axes and the space between tick labels\n",
    "    xmin, xmax, ymin, ymax = -7, 7, -7, 7\n",
    "    ticks_frequency = 1\n",
    "\n",
    "    # Plot points\n",
    "    fig, ax = plt.subplots(figsize=(10, 10))\n",
    "    ax.scatter(xs, ys, c='b')\n",
    "    letters = ('A', 'B', 'C', 'D', 'E', 'F', 'G', 'H')\n",
    "    for i in range(len(xs)):\n",
    "        ax.annotate(letters[i], (xs[i], ys[i]), size=17, color='b', \n",
    "                    ha='center', va='bottom', xytext=(0.0, 5.0), textcoords ='offset points')\n",
    "\n",
    "    # Set identical scales for both axes\n",
    "    ax.set(xlim=(xmin-1, xmax+1), ylim=(ymin-1, ymax+1), aspect='equal')\n",
    "\n",
    "    # Set bottom and left spines as x and y axes of coordinate system\n",
    "    ax.spines['bottom'].set_position('zero')\n",
    "    ax.spines['left'].set_position('zero')\n",
    "\n",
    "    # Remove top and right spines\n",
    "    ax.spines['top'].set_visible(False)\n",
    "    ax.spines['right'].set_visible(False)\n",
    "\n",
    "    # Create 'x' and 'y' labels placed at the end of the axes\n",
    "    ax.set_xlabel('x', size=15, labelpad=-24, x=1.03)\n",
    "    ax.set_ylabel('y', size=15, labelpad=-21, y=1.02, rotation=0)\n",
    "\n",
    "    # Create custom major ticks to determine position of tick labels\n",
    "    x_ticks = np.arange(xmin, xmax+1, ticks_frequency)\n",
    "    y_ticks = np.arange(ymin, ymax+1, ticks_frequency)\n",
    "    ax.set_xticks(x_ticks[x_ticks != 0])\n",
    "    ax.set_yticks(y_ticks[y_ticks != 0])\n",
    "\n",
    "    # Create minor ticks placed at each integer to enable drawing of minor grid\n",
    "    # lines: note that this has no effect in this example with ticks_frequency=1\n",
    "    ax.set_xticks(np.arange(xmin, xmax+1), minor=True)\n",
    "    ax.set_yticks(np.arange(ymin, ymax+1), minor=True)\n",
    "\n",
    "    # Draw major and minor grid lines\n",
    "    ax.grid(which='both', color='grey', linewidth=1, linestyle='-', alpha=0.2)\n",
    "\n",
    "    # Draw arrows\n",
    "    arrow_fmt = dict(markersize=4, color='black', clip_on=False)\n",
    "    ax.plot((1), (0), marker='>', transform=ax.get_yaxis_transform(), **arrow_fmt)\n",
    "    ax.plot((0), (1), marker='^', transform=ax.get_xaxis_transform(), **arrow_fmt)\n",
    "\n",
    "    return plt.show()\n",
    "\n",
    "x = [-4, -2, 0, 1, 3, 4, 6]\n",
    "y = [2, 2, 2, 2, 2, 2, 2]\n",
    "\n",
    "układ_współrzędnych(x, y)"
   ]
  },
  {
   "cell_type": "markdown",
   "id": "85e281db",
   "metadata": {},
   "source": [
    "## Zadanie 2.6"
   ]
  },
  {
   "cell_type": "code",
   "execution_count": 6,
   "id": "2d000c94",
   "metadata": {},
   "outputs": [
    {
     "name": "stderr",
     "output_type": "stream",
     "text": [
      "<ipython-input-6-d9c259d3b5d6>:14: UserWarning: Attempting to set identical bottom == top == 0 results in singular transformations; automatically expanding.\n",
      "  ax.set(xlim=xs[:2], ylim=ys[:2])  # plt.axline((x1, y1), (x2, y2))\n"
     ]
    },
    {
     "data": {
      "image/png": "[encoded data removed]",
      "text/plain": [
       "<Figure size 720x720 with 1 Axes>"
      ]
     },
     "metadata": {
      "needs_background": "light"
     },
     "output_type": "display_data"
    }
   ],
   "source": [
    "def układ_współrzędnych(xs, ys):\n",
    "    \n",
    "    # Enter x and y coordinates of points and colors\n",
    "    color = ('m', 'g', 'r', 'b', 'y', 'brown')\n",
    "    colors = [color[i] for i in range(len(xs))]\n",
    "\n",
    "    # Select length of axes and the space between tick labels\n",
    "    xmin, xmax, ymin, ymax = -7, 7, -7, 7\n",
    "    ticks_frequency = 1\n",
    "\n",
    "    # Plot points\n",
    "    fig, ax = plt.subplots(figsize=(10, 10))\n",
    "    ax.scatter(xs[:],ys[:], c='m')\n",
    "    ax.set(xlim=xs[:2], ylim=ys[:2])  # plt.axline((x1, y1), (x2, y2))\n",
    "    ax.plot(xs[:],ys[:], c='m')\n",
    "\n",
    "    # Set identical scales for both axes\n",
    "    ax.set(xlim=(xmin-1, xmax+1), ylim=(ymin-1, ymax+1), aspect='equal')\n",
    "\n",
    "    # Set bottom and left spines as x and y axes of coordinate system\n",
    "    ax.spines['bottom'].set_position('zero')\n",
    "    ax.spines['left'].set_position('zero')\n",
    "\n",
    "    # Remove top and right spines\n",
    "    ax.spines['top'].set_visible(False)\n",
    "    ax.spines['right'].set_visible(False)\n",
    "\n",
    "    # Create 'x' and 'y' labels placed at the end of the axes\n",
    "    ax.set_xlabel('x', size=15, labelpad=-24, x=1.03)\n",
    "    ax.set_ylabel('y', size=15, labelpad=-21, y=1.02, rotation=0)\n",
    "\n",
    "    # Create custom major ticks to determine position of tick labels\n",
    "    x_ticks = np.arange(xmin, xmax+1, ticks_frequency)\n",
    "    y_ticks = np.arange(ymin, ymax+1, ticks_frequency)\n",
    "    ax.set_xticks(x_ticks[x_ticks != 0])\n",
    "    ax.set_yticks(y_ticks[y_ticks != 0])\n",
    "\n",
    "    # Create minor ticks placed at each integer to enable drawing of minor grid\n",
    "    # lines: note that this has no effect in this example with ticks_frequency=1\n",
    "    ax.set_xticks(np.arange(xmin, xmax+1), minor=True)\n",
    "    ax.set_yticks(np.arange(ymin, ymax+1), minor=True)\n",
    "\n",
    "    # Draw major and minor grid lines\n",
    "    ax.grid(which='both', color='grey', linewidth=1, linestyle='-', alpha=0.2)\n",
    "\n",
    "    # Draw arrows\n",
    "    arrow_fmt = dict(markersize=4, color='black', clip_on=False)\n",
    "    ax.plot((1), (0), marker='>', transform=ax.get_yaxis_transform(), **arrow_fmt)\n",
    "    ax.plot((0), (1), marker='^', transform=ax.get_xaxis_transform(), **arrow_fmt)\n",
    "\n",
    "    return plt.show()\n",
    "\n",
    "\n",
    "x = [-2, 3, .5, -2]\n",
    "y = [0, 0, 4, 0]\n",
    "\n",
    "układ_współrzędnych(x, y)"
   ]
  },
  {
   "cell_type": "code",
   "execution_count": 7,
   "id": "c7a1a746",
   "metadata": {},
   "outputs": [],
   "source": [
    "x = [-2, 3, 1/2]\n",
    "y = [0, 0, 4]"
   ]
  },
  {
   "cell_type": "code",
   "execution_count": 8,
   "id": "c032bbb2",
   "metadata": {},
   "outputs": [
    {
     "data": {
      "text/plain": [
       "'10.0 cm2'"
      ]
     },
     "execution_count": 8,
     "metadata": {},
     "output_type": "execute_result"
    }
   ],
   "source": [
    "# Pole trójkąta: P = 1/2 * a * h\n",
    "\n",
    "a = np.linalg.norm(np.array([-2, 0]) - np.array([3, 0]), 2)\n",
    "h = y[0] + y[-1]\n",
    "\n",
    "P = np.multiply(np.multiply(1/2, a), h)\n",
    "\n",
    "f'{P} cm2'"
   ]
  },
  {
   "cell_type": "code",
   "execution_count": 9,
   "id": "9c985449",
   "metadata": {},
   "outputs": [
    {
     "data": {
      "text/plain": [
       "5.024937810560445"
      ]
     },
     "execution_count": 9,
     "metadata": {},
     "output_type": "execute_result"
    }
   ],
   "source": [
    "c = np.linalg.norm(np.array(x) - np.array(y), 2)\n",
    "c"
   ]
  },
  {
   "cell_type": "markdown",
   "id": "1032b80f",
   "metadata": {},
   "source": [
    "## Zadanie 2.7"
   ]
  },
  {
   "cell_type": "code",
   "execution_count": 10,
   "id": "6912d2de",
   "metadata": {},
   "outputs": [
    {
     "data": {
      "image/png": "[encoded data removed]",
      "text/plain": [
       "<Figure size 720x720 with 1 Axes>"
      ]
     },
     "metadata": {
      "needs_background": "light"
     },
     "output_type": "display_data"
    }
   ],
   "source": [
    "import matplotlib.pyplot as plt\n",
    "\n",
    "def układ_współrzędnych(xs, ys):\n",
    "    \n",
    "    # Enter x and y coordinates of points and colors\n",
    "    color = ('m', 'g', 'r', 'b', 'y', 'brown')\n",
    "    colors = [color[i] for i in range(len(xs))]\n",
    "\n",
    "    # Select length of axes and the space between tick labels\n",
    "    xmin, xmax, ymin, ymax = -5, 5, -5, 5\n",
    "    ticks_frequency = 1\n",
    "\n",
    "    # Plot points\n",
    "    fig, ax = plt.subplots(figsize=(10, 10))\n",
    "    ax.scatter(xs[:],ys[:], c='b')\n",
    "    letters = ('A', 'B', 'C', 'D', 'E', 'F', 'G', 'H')\n",
    "    for i in range(len(xs)):\n",
    "        ax.annotate(letters[i], (xs[i], ys[i]), size=17, color='b', \n",
    "                    ha='center', va='bottom', xytext=(3.0, 8.0), textcoords ='offset points')\n",
    "    ax.plot(xs[:],ys[:], c='b')\n",
    "\n",
    "    # Set identical scales for both axes\n",
    "    ax.set(xlim=(xmin-1, xmax+1), ylim=(ymin-1, ymax+1), aspect='equal')\n",
    "\n",
    "    # Set bottom and left spines as x and y axes of coordinate system\n",
    "    ax.spines['bottom'].set_position('zero')\n",
    "    ax.spines['left'].set_position('zero')\n",
    "\n",
    "    # Remove top and right spines\n",
    "    ax.spines['top'].set_visible(False)\n",
    "    ax.spines['right'].set_visible(False)\n",
    "\n",
    "    # Create 'x' and 'y' labels placed at the end of the axes\n",
    "    ax.set_xlabel('x', size=15, labelpad=-24, x=1.03)\n",
    "    ax.set_ylabel('y', size=15, labelpad=-21, y=1.02, rotation=0)\n",
    "\n",
    "    # Create custom major ticks to determine position of tick labels\n",
    "    x_ticks = np.arange(xmin, xmax+1, ticks_frequency)\n",
    "    y_ticks = np.arange(ymin, ymax+1, ticks_frequency)\n",
    "    ax.set_xticks(x_ticks[x_ticks != 0])\n",
    "    ax.set_yticks(y_ticks[y_ticks != 0])\n",
    "\n",
    "    # Create minor ticks placed at each integer to enable drawing of minor grid\n",
    "    # lines: note that this has no effect in this example with ticks_frequency=1\n",
    "    ax.set_xticks(np.arange(xmin, xmax+1), minor=True)\n",
    "    ax.set_yticks(np.arange(ymin, ymax+1), minor=True)\n",
    "\n",
    "    # Draw major and minor grid lines\n",
    "    ax.grid(which='both', color='grey', linewidth=1, linestyle='-', alpha=0.2)\n",
    "\n",
    "    # Draw arrows\n",
    "    arrow_fmt = dict(markersize=4, color='black', clip_on=False)\n",
    "    ax.plot((1), (0), marker='>', transform=ax.get_yaxis_transform(), **arrow_fmt)\n",
    "    ax.plot((0), (1), marker='^', transform=ax.get_xaxis_transform(), **arrow_fmt)\n",
    "\n",
    "    return plt.show()\n",
    "\n",
    "\n",
    "x = [2, -1, -3, 2, 2]\n",
    "y = [2, 2, -2, -2, 2]\n",
    "\n",
    "układ_współrzędnych(x, y)"
   ]
  },
  {
   "cell_type": "code",
   "execution_count": 13,
   "id": "2272300f",
   "metadata": {},
   "outputs": [
    {
     "data": {
      "text/plain": [
       "16.0"
      ]
     },
     "execution_count": 13,
     "metadata": {},
     "output_type": "execute_result"
    }
   ],
   "source": [
    "a = np.linalg.norm(np.array([-3, -2]) - np.array([2, -2]), 2)\n",
    "b = np.multiply(np.divide(a, 5), 1)\n",
    "c = np.multiply(b, 2)\n",
    "d = np.linalg.norm(np.array([2, -2]) - np.array([2, 2]), 2)\n",
    "e = np.multiply(np.dot([c], [d]), 2)\n",
    "e\n"
   ]
  },
  {
   "cell_type": "code",
   "execution_count": 12,
   "id": "97b7b2b6",
   "metadata": {},
   "outputs": [
    {
     "data": {
      "text/plain": [
       "'16.0 jednostek kw.'"
      ]
     },
     "execution_count": 12,
     "metadata": {},
     "output_type": "execute_result"
    }
   ],
   "source": [
    "P = e\n",
    "f'{P} jednostek kw.'"
   ]
  },
  {
   "cell_type": "markdown",
   "id": "b6f5314a",
   "metadata": {},
   "source": [
    "## Zadanie 3.8"
   ]
  },
  {
   "cell_type": "code",
   "execution_count": 18,
   "id": "51536278",
   "metadata": {},
   "outputs": [
    {
     "data": {
      "image/png": "[encoded data removed]",
      "text/plain": [
       "<Figure size 720x720 with 1 Axes>"
      ]
     },
     "metadata": {
      "needs_background": "light"
     },
     "output_type": "display_data"
    }
   ],
   "source": [
    "import matplotlib.pyplot as plt\n",
    "\n",
    "def układ_współrzędnych(xs, ys):\n",
    "    \n",
    "    # Enter x and y coordinates of points and colors\n",
    "    color = ('m', 'g', 'r', 'b', 'y', 'brown')\n",
    "    colors = [color[i] for i in range(len(xs))]\n",
    "\n",
    "    # Select length of axes and the space between tick labels\n",
    "    xmin, xmax, ymin, ymax = -5, 5, -5, 5\n",
    "    ticks_frequency = 1\n",
    "\n",
    "    # Plot points\n",
    "    fig, ax = plt.subplots(figsize=(10, 10))\n",
    "    ax.scatter(xs[:],ys[:], c='b')\n",
    "    letters = ('A', 'B', 'C', 'D', 'E', 'F', 'G', 'H')\n",
    "    for i in range(len(xs)):\n",
    "        ax.annotate(letters[i], (xs[i], ys[i]), size=17, color='b', \n",
    "                    ha='center', va='bottom', xytext=(3.0, 8.0), textcoords ='offset points')\n",
    "#     ax.plot(xs[:],ys[:], c='b')\n",
    "\n",
    "    # Set identical scales for both axes\n",
    "    ax.set(xlim=(xmin-1, xmax+1), ylim=(ymin-1, ymax+1), aspect='equal')\n",
    "\n",
    "    # Set bottom and left spines as x and y axes of coordinate system\n",
    "    ax.spines['bottom'].set_position('zero')\n",
    "    ax.spines['left'].set_position('zero')\n",
    "\n",
    "    # Remove top and right spines\n",
    "    ax.spines['top'].set_visible(False)\n",
    "    ax.spines['right'].set_visible(False)\n",
    "\n",
    "    # Create 'x' and 'y' labels placed at the end of the axes\n",
    "    ax.set_xlabel('x', size=15, labelpad=-24, x=1.03)\n",
    "    ax.set_ylabel('y', size=15, labelpad=-21, y=1.02, rotation=0)\n",
    "\n",
    "    # Create custom major ticks to determine position of tick labels\n",
    "    x_ticks = np.arange(xmin, xmax+1, ticks_frequency)\n",
    "    y_ticks = np.arange(ymin, ymax+1, ticks_frequency)\n",
    "    ax.set_xticks(x_ticks[x_ticks != 0])\n",
    "    ax.set_yticks(y_ticks[y_ticks != 0])\n",
    "\n",
    "    # Create minor ticks placed at each integer to enable drawing of minor grid\n",
    "    # lines: note that this has no effect in this example with ticks_frequency=1\n",
    "    ax.set_xticks(np.arange(xmin, xmax+1), minor=True)\n",
    "    ax.set_yticks(np.arange(ymin, ymax+1), minor=True)\n",
    "\n",
    "    # Draw major and minor grid lines\n",
    "    ax.grid(which='both', color='grey', linewidth=1, linestyle='-', alpha=0.2)\n",
    "\n",
    "    # Draw arrows\n",
    "    arrow_fmt = dict(markersize=4, color='black', clip_on=False)\n",
    "    ax.plot((1), (0), marker='>', transform=ax.get_yaxis_transform(), **arrow_fmt)\n",
    "    ax.plot((0), (1), marker='^', transform=ax.get_xaxis_transform(), **arrow_fmt)\n",
    "\n",
    "    return plt.show()\n",
    "\n",
    "\n",
    "x = [-1, 1]\n",
    "y = [1, 4]\n",
    "\n",
    "układ_współrzędnych(x, y)"
   ]
  },
  {
   "cell_type": "markdown",
   "id": "32f5b846",
   "metadata": {},
   "source": [
    "# Rozdział 4."
   ]
  },
  {
   "cell_type": "markdown",
   "id": "38aef02f",
   "metadata": {},
   "source": [
    "## Zadanie 4.1"
   ]
  },
  {
   "cell_type": "code",
   "execution_count": 24,
   "id": "65857901",
   "metadata": {},
   "outputs": [
    {
     "data": {
      "image/png": "[encoded data removed]",
      "text/plain": [
       "<Figure size 720x720 with 1 Axes>"
      ]
     },
     "metadata": {
      "needs_background": "light"
     },
     "output_type": "display_data"
    }
   ],
   "source": [
    "import matplotlib.pyplot as plt\n",
    "\n",
    "def układ_współrzędnych(xs, ys):\n",
    "    \n",
    "    # Enter x and y coordinates of points and colors\n",
    "    color = ('m', 'g', 'r', 'b', 'y', 'brown', 'pink')\n",
    "    colors = [color[i] for i in range(len(xs))]\n",
    "\n",
    "    # Select length of axes and the space between tick labels\n",
    "    xmin, xmax, ymin, ymax = -8, 8, -8, 8\n",
    "    ticks_frequency = 1\n",
    "\n",
    "    # Plot points\n",
    "    fig, ax = plt.subplots(figsize=(10, 10))\n",
    "    ax.scatter(xs[:],ys[:], c='b')\n",
    "    letters = ('A', 'B', 'C', 'D', 'E', 'F', 'G', 'H')\n",
    "    for i in range(len(xs)):\n",
    "        ax.annotate(letters[i], (xs[i], ys[i]), size=17, color='b', \n",
    "                    ha='center', va='bottom', xytext=(0.0, 5.0), textcoords ='offset points')\n",
    "#     ax.plot(xs[:],ys[:], c='b')\n",
    "\n",
    "    # Set identical scales for both axes\n",
    "    ax.set(xlim=(xmin-1, xmax+1), ylim=(ymin-1, ymax+1), aspect='equal')\n",
    "\n",
    "    # Set bottom and left spines as x and y axes of coordinate system\n",
    "    ax.spines['bottom'].set_position('zero')\n",
    "    ax.spines['left'].set_position('zero')\n",
    "\n",
    "    # Remove top and right spines\n",
    "    ax.spines['top'].set_visible(False)\n",
    "    ax.spines['right'].set_visible(False)\n",
    "\n",
    "    # Create 'x' and 'y' labels placed at the end of the axes\n",
    "    ax.set_xlabel('x', size=15, labelpad=-24, x=1.03)\n",
    "    ax.set_ylabel('y', size=15, labelpad=-21, y=1.02, rotation=0)\n",
    "\n",
    "    # Create custom major ticks to determine position of tick labels\n",
    "    x_ticks = np.arange(xmin, xmax+1, ticks_frequency)\n",
    "    y_ticks = np.arange(ymin, ymax+1, ticks_frequency)\n",
    "    ax.set_xticks(x_ticks[x_ticks != 0])\n",
    "    ax.set_yticks(y_ticks[y_ticks != 0])\n",
    "\n",
    "    # Create minor ticks placed at each integer to enable drawing of minor grid\n",
    "    # lines: note that this has no effect in this example with ticks_frequency=1\n",
    "    ax.set_xticks(np.arange(xmin, xmax+1), minor=True)\n",
    "    ax.set_yticks(np.arange(ymin, ymax+1), minor=True)\n",
    "\n",
    "    # Draw major and minor grid lines\n",
    "    ax.grid(which='both', color='grey', linewidth=1, linestyle='-', alpha=0.2)\n",
    "\n",
    "    # Draw arrows\n",
    "    arrow_fmt = dict(markersize=4, color='black', clip_on=False)\n",
    "    ax.plot((1), (0), marker='>', transform=ax.get_yaxis_transform(), **arrow_fmt)\n",
    "    ax.plot((0), (1), marker='^', transform=ax.get_xaxis_transform(), **arrow_fmt)\n",
    "\n",
    "    return plt.show()\n",
    "\n",
    "\n",
    "x = [1, -2, 6, -3, 0, 4, 0]\n",
    "y = [2, 5, -1, -3, -3, 0, 0]\n",
    "\n",
    "układ_współrzędnych(x, y)"
   ]
  },
  {
   "cell_type": "markdown",
   "id": "d31c2145",
   "metadata": {},
   "source": [
    "## Zadanie 4.2"
   ]
  },
  {
   "cell_type": "code",
   "execution_count": 28,
   "id": "35705563",
   "metadata": {},
   "outputs": [
    {
     "data": {
      "image/png": "[encoded data removed]",
      "text/plain": [
       "<Figure size 720x720 with 1 Axes>"
      ]
     },
     "metadata": {
      "needs_background": "light"
     },
     "output_type": "display_data"
    }
   ],
   "source": [
    "import matplotlib.pyplot as plt\n",
    "\n",
    "def układ_współrzędnych(xs, ys):\n",
    "    \n",
    "    # Enter x and y coordinates of points and colors\n",
    "    color = ('m', 'g', 'r', 'b', 'y', 'brown')\n",
    "    colors = [color[i] for i in range(len(xs))]\n",
    "\n",
    "    # Select length of axes and the space between tick labels\n",
    "    xmin, xmax, ymin, ymax = -5, 5, -5, 5\n",
    "    ticks_frequency = 1\n",
    "\n",
    "    # Plot points\n",
    "    fig, ax = plt.subplots(figsize=(10, 10))\n",
    "    ax.scatter(xs[:],ys[:], c='b')\n",
    "    letters = ('A', 'B', 'C', 'D', 'E', 'F', 'G', 'H')\n",
    "    for i in range(len(xs)):\n",
    "        ax.annotate(letters[i], (xs[i], ys[i]), size=17, color='b', \n",
    "                    ha='center', va='bottom', xytext=(3.0, 8.0), textcoords ='offset points')\n",
    "    ax.plot(xs[:],ys[:], c='b')\n",
    "\n",
    "    # Set identical scales for both axes\n",
    "    ax.set(xlim=(xmin-1, xmax+1), ylim=(ymin-1, ymax+1), aspect='equal')\n",
    "\n",
    "    # Set bottom and left spines as x and y axes of coordinate system\n",
    "    ax.spines['bottom'].set_position('zero')\n",
    "    ax.spines['left'].set_position('zero')\n",
    "\n",
    "    # Remove top and right spines\n",
    "    ax.spines['top'].set_visible(False)\n",
    "    ax.spines['right'].set_visible(False)\n",
    "\n",
    "    # Create 'x' and 'y' labels placed at the end of the axes\n",
    "    ax.set_xlabel('x', size=15, labelpad=-24, x=1.03)\n",
    "    ax.set_ylabel('y', size=15, labelpad=-21, y=1.02, rotation=0)\n",
    "\n",
    "    # Create custom major ticks to determine position of tick labels\n",
    "    x_ticks = np.arange(xmin, xmax+1, ticks_frequency)\n",
    "    y_ticks = np.arange(ymin, ymax+1, ticks_frequency)\n",
    "    ax.set_xticks(x_ticks[x_ticks != 0])\n",
    "    ax.set_yticks(y_ticks[y_ticks != 0])\n",
    "\n",
    "    # Create minor ticks placed at each integer to enable drawing of minor grid\n",
    "    # lines: note that this has no effect in this example with ticks_frequency=1\n",
    "    ax.set_xticks(np.arange(xmin, xmax+1), minor=True)\n",
    "    ax.set_yticks(np.arange(ymin, ymax+1), minor=True)\n",
    "\n",
    "    # Draw major and minor grid lines\n",
    "    ax.grid(which='both', color='grey', linewidth=1, linestyle='-', alpha=0.2)\n",
    "\n",
    "    # Draw arrows\n",
    "    arrow_fmt = dict(markersize=4, color='black', clip_on=False)\n",
    "    ax.plot((1), (0), marker='>', transform=ax.get_yaxis_transform(), **arrow_fmt)\n",
    "    ax.plot((0), (1), marker='^', transform=ax.get_xaxis_transform(), **arrow_fmt)\n",
    "\n",
    "    return plt.show()\n",
    "\n",
    "\n",
    "x = [-3, 2]\n",
    "y = [4, -5]\n",
    "\n",
    "układ_współrzędnych(x, y)"
   ]
  },
  {
   "cell_type": "markdown",
   "id": "983b0bf1",
   "metadata": {},
   "source": [
    "## Zadanie 4.3 - a"
   ]
  },
  {
   "cell_type": "code",
   "execution_count": 33,
   "id": "368bebb2",
   "metadata": {},
   "outputs": [
    {
     "data": {
      "image/png": "[encoded data removed]",
      "text/plain": [
       "<Figure size 720x720 with 1 Axes>"
      ]
     },
     "metadata": {
      "needs_background": "light"
     },
     "output_type": "display_data"
    }
   ],
   "source": [
    "import matplotlib.pyplot as plt\n",
    "\n",
    "def układ_współrzędnych(xs, ys):\n",
    "    \n",
    "    # Enter x and y coordinates of points and colors\n",
    "    color = ('m', 'g', 'r', 'b', 'y', 'brown')\n",
    "    colors = [color[i] for i in range(len(xs))]\n",
    "\n",
    "    # Select length of axes and the space between tick labels\n",
    "    xmin, xmax, ymin, ymax = -7, 7, -7, 7\n",
    "    ticks_frequency = 1\n",
    "\n",
    "    # Plot points\n",
    "    fig, ax = plt.subplots(figsize=(10, 10))\n",
    "    ax.scatter(xs[:],ys[:], c='b')\n",
    "#     letters = ('A', 'B', 'C', 'D', 'E', 'F', 'G', 'H')\n",
    "#     for i in range(len(xs)):\n",
    "#         ax.annotate(letters[i], (xs[i], ys[i]), size=17, color='b', \n",
    "#                     ha='center', va='bottom', xytext=(3.0, 8.0), textcoords ='offset points')\n",
    "    ax.plot(xs[:],ys[:], c='b')\n",
    "\n",
    "    # Set identical scales for both axes\n",
    "    ax.set(xlim=(xmin-1, xmax+1), ylim=(ymin-1, ymax+1), aspect='equal')\n",
    "\n",
    "    # Set bottom and left spines as x and y axes of coordinate system\n",
    "    ax.spines['bottom'].set_position('zero')\n",
    "    ax.spines['left'].set_position('zero')\n",
    "\n",
    "    # Remove top and right spines\n",
    "    ax.spines['top'].set_visible(False)\n",
    "    ax.spines['right'].set_visible(False)\n",
    "\n",
    "    # Create 'x' and 'y' labels placed at the end of the axes\n",
    "    ax.set_xlabel('x', size=15, labelpad=-24, x=1.03)\n",
    "    ax.set_ylabel('y', size=15, labelpad=-21, y=1.02, rotation=0)\n",
    "\n",
    "    # Create custom major ticks to determine position of tick labels\n",
    "    x_ticks = np.arange(xmin, xmax+1, ticks_frequency)\n",
    "    y_ticks = np.arange(ymin, ymax+1, ticks_frequency)\n",
    "    ax.set_xticks(x_ticks[x_ticks != 0])\n",
    "    ax.set_yticks(y_ticks[y_ticks != 0])\n",
    "\n",
    "    # Create minor ticks placed at each integer to enable drawing of minor grid\n",
    "    # lines: note that this has no effect in this example with ticks_frequency=1\n",
    "    ax.set_xticks(np.arange(xmin, xmax+1), minor=True)\n",
    "    ax.set_yticks(np.arange(ymin, ymax+1), minor=True)\n",
    "\n",
    "    # Draw major and minor grid lines\n",
    "    ax.grid(which='both', color='grey', linewidth=1, linestyle='-', alpha=0.2)\n",
    "\n",
    "    # Draw arrows\n",
    "    arrow_fmt = dict(markersize=4, color='black', clip_on=False)\n",
    "    ax.plot((1), (0), marker='>', transform=ax.get_yaxis_transform(), **arrow_fmt)\n",
    "    ax.plot((0), (1), marker='^', transform=ax.get_xaxis_transform(), **arrow_fmt)\n",
    "\n",
    "    return plt.show()\n",
    "\n",
    "\n",
    "x = [-6, 2, 1, -6]\n",
    "y = [3, 1, -3, 3]\n",
    "\n",
    "układ_współrzędnych(x, y)"
   ]
  },
  {
   "cell_type": "markdown",
   "id": "d26a3093",
   "metadata": {},
   "source": [
    "## Zadanie 4.3 - b"
   ]
  },
  {
   "cell_type": "code",
   "execution_count": 40,
   "id": "988c1817",
   "metadata": {},
   "outputs": [
    {
     "data": {
      "image/png": "[encoded data removed]",
      "text/plain": [
       "<Figure size 720x720 with 1 Axes>"
      ]
     },
     "metadata": {
      "needs_background": "light"
     },
     "output_type": "display_data"
    }
   ],
   "source": [
    "import matplotlib.pyplot as plt\n",
    "\n",
    "def układ_współrzędnych(xs, ys):\n",
    "    \n",
    "    # Enter x and y coordinates of points and colors\n",
    "    color = ('m', 'g', 'r', 'b', 'y', 'brown')\n",
    "    colors = [color[i] for i in range(len(xs))]\n",
    "\n",
    "    # Select length of axes and the space between tick labels\n",
    "    xmin, xmax, ymin, ymax = -7, 5, -7, 5\n",
    "    ticks_frequency = 1\n",
    "\n",
    "    # Plot points\n",
    "    fig, ax = plt.subplots(figsize=(10, 10))\n",
    "    ax.scatter(xs[:],ys[:], c='b')\n",
    "    letters = ('A', 'B', 'C', 'D', 'E', 'F', 'G', 'H')\n",
    "#     for i in range(len(xs)):\n",
    "#         ax.annotate(letters[i], (xs[i], ys[i]), size=17, color='b', \n",
    "#                     ha='center', va='bottom', xytext=(3.0, 8.0), textcoords ='offset points')\n",
    "    ax.plot(xs[:],ys[:], c='b')\n",
    "\n",
    "    # Set identical scales for both axes\n",
    "    ax.set(xlim=(xmin-1, xmax+1), ylim=(ymin-1, ymax+1), aspect='equal')\n",
    "\n",
    "    # Set bottom and left spines as x and y axes of coordinate system\n",
    "    ax.spines['bottom'].set_position('zero')\n",
    "    ax.spines['left'].set_position('zero')\n",
    "\n",
    "    # Remove top and right spines\n",
    "    ax.spines['top'].set_visible(False)\n",
    "    ax.spines['right'].set_visible(False)\n",
    "\n",
    "    # Create 'x' and 'y' labels placed at the end of the axes\n",
    "    ax.set_xlabel('x', size=15, labelpad=-24, x=1.03)\n",
    "    ax.set_ylabel('y', size=15, labelpad=-21, y=1.02, rotation=0)\n",
    "\n",
    "    # Create custom major ticks to determine position of tick labels\n",
    "    x_ticks = np.arange(xmin, xmax+1, ticks_frequency)\n",
    "    y_ticks = np.arange(ymin, ymax+1, ticks_frequency)\n",
    "    ax.set_xticks(x_ticks[x_ticks != 0])\n",
    "    ax.set_yticks(y_ticks[y_ticks != 0])\n",
    "\n",
    "    # Create minor ticks placed at each integer to enable drawing of minor grid\n",
    "    # lines: note that this has no effect in this example with ticks_frequency=1\n",
    "    ax.set_xticks(np.arange(xmin, xmax+1), minor=True)\n",
    "    ax.set_yticks(np.arange(ymin, ymax+1), minor=True)\n",
    "\n",
    "    # Draw major and minor grid lines\n",
    "    ax.grid(which='both', color='grey', linewidth=1, linestyle='-', alpha=0.2)\n",
    "\n",
    "    # Draw arrows\n",
    "    arrow_fmt = dict(markersize=4, color='black', clip_on=False)\n",
    "    ax.plot((1), (0), marker='>', transform=ax.get_yaxis_transform(), **arrow_fmt)\n",
    "    ax.plot((0), (1), marker='^', transform=ax.get_xaxis_transform(), **arrow_fmt)\n",
    "\n",
    "    return plt.show()\n",
    "\n",
    "\n",
    "x = [-5, 3, 4, -6, -5]\n",
    "y = [-4, -5, 2, 0, -4]\n",
    "\n",
    "układ_współrzędnych(x, y)"
   ]
  },
  {
   "cell_type": "code",
   "execution_count": 47,
   "id": "33d847af",
   "metadata": {},
   "outputs": [
    {
     "data": {
      "image/png": "[encoded data removed]",
      "text/plain": [
       "<Figure size 720x720 with 1 Axes>"
      ]
     },
     "metadata": {
      "needs_background": "light"
     },
     "output_type": "display_data"
    }
   ],
   "source": [
    "import matplotlib.pyplot as plt\n",
    "\n",
    "def układ_współrzędnych(xs, ys):\n",
    "    \n",
    "    # Enter x and y coordinates of points and colors\n",
    "    color = ('m', 'g', 'r', 'b', 'y', 'brown', \n",
    "             'm', 'g', 'r', 'b', 'y', 'brown', \n",
    "             'm', 'g', 'r', 'b', 'y', 'brown')\n",
    "    colors = [color[i] for i in range(len(xs))]\n",
    "\n",
    "    # Select length of axes and the space between tick labels\n",
    "    xmin, xmax, ymin, ymax = -9, 11, -7, 7\n",
    "    ticks_frequency = 1\n",
    "\n",
    "    # Plot points\n",
    "    fig, ax = plt.subplots(figsize=(10, 10))\n",
    "    ax.scatter(xs[:],ys[:], c='b')\n",
    "    letters = ('A', 'B', 'C', 'D', 'E', 'F', 'G', 'H', 'I', 'J', 'K', 'L', 'Ł', 'M')\n",
    "    for i in range(len(xs)):\n",
    "        ax.annotate(letters[i], (xs[i], ys[i]), size=17, color='b', \n",
    "                    ha='center', va='bottom', xytext=(3.0, 8.0), textcoords ='offset points')\n",
    "#     ax.plot(xs[:],ys[:], c='b')\n",
    "\n",
    "    # Draw lines connecting points to axes\n",
    "    for x, y, c in zip(xs, ys, colors):\n",
    "        ax.plot([x, x], [0, y], c='black', ls='--', lw=1.5, alpha=0.5)\n",
    "        ax.plot([0, x], [y, y], c='black', ls='--', lw=1.5, alpha=0.5)\n",
    "\n",
    "    # Set identical scales for both axes\n",
    "    ax.set(xlim=(xmin-1, xmax+1), ylim=(ymin-1, ymax+1), aspect='equal')\n",
    "\n",
    "    # Set bottom and left spines as x and y axes of coordinate system\n",
    "    ax.spines['bottom'].set_position('zero')\n",
    "    ax.spines['left'].set_position('zero')\n",
    "\n",
    "    # Remove top and right spines\n",
    "    ax.spines['top'].set_visible(False)\n",
    "    ax.spines['right'].set_visible(False)\n",
    "\n",
    "    # Create 'x' and 'y' labels placed at the end of the axes\n",
    "    ax.set_xlabel('x', size=15, labelpad=-24, x=1.03)\n",
    "    ax.set_ylabel('y', size=15, labelpad=-21, y=1.02, rotation=0)\n",
    "\n",
    "    # Create custom major ticks to determine position of tick labels\n",
    "    x_ticks = np.arange(xmin, xmax+1, ticks_frequency)\n",
    "    y_ticks = np.arange(ymin, ymax+1, ticks_frequency)\n",
    "    ax.set_xticks(x_ticks[x_ticks != 0])\n",
    "    ax.set_yticks(y_ticks[y_ticks != 0])\n",
    "\n",
    "    # Create minor ticks placed at each integer to enable drawing of minor grid\n",
    "    # lines: note that this has no effect in this example with ticks_frequency=1\n",
    "    ax.set_xticks(np.arange(xmin, xmax+1), minor=True)\n",
    "    ax.set_yticks(np.arange(ymin, ymax+1), minor=True)\n",
    "\n",
    "    # Draw major and minor grid lines\n",
    "    ax.grid(which='both', color='grey', linewidth=1, linestyle='-', alpha=0.2)\n",
    "\n",
    "    # Draw arrows\n",
    "    arrow_fmt = dict(markersize=4, color='black', clip_on=False)\n",
    "    ax.plot((1), (0), marker='>', transform=ax.get_yaxis_transform(), **arrow_fmt)\n",
    "    ax.plot((0), (1), marker='^', transform=ax.get_xaxis_transform(), **arrow_fmt)\n",
    "\n",
    "    return plt.show()\n",
    "\n",
    "\n",
    "x = [-7, -5, 2, 3, 6, 4, 10, 8, 0, -4, -4, -6 ]\n",
    "y = [-4, -3, -2, -5, 0, 2, 3, 4, 3, 6, 1, 0]\n",
    "\n",
    "układ_współrzędnych(x, y)"
   ]
  },
  {
   "cell_type": "markdown",
   "id": "221a7042",
   "metadata": {},
   "source": [
    "## Zadanie 4.5"
   ]
  },
  {
   "cell_type": "code",
   "execution_count": 76,
   "id": "c67114c5",
   "metadata": {},
   "outputs": [
    {
     "data": {
      "image/png": "[encoded data removed]",
      "text/plain": [
       "<Figure size 720x720 with 1 Axes>"
      ]
     },
     "metadata": {
      "needs_background": "light"
     },
     "output_type": "display_data"
    }
   ],
   "source": [
    "def układ_współrzędnych(xs, ys):\n",
    "    \n",
    "    # Enter x and y coordinates of points and colors\n",
    "#     color = ('m', 'g', 'r', 'b', 'y', 'brown')\n",
    "#     colors = [color[i] for i in range(len(xs))]\n",
    "\n",
    "    # Select length of axes and the space between tick labels\n",
    "    xmin, xmax, ymin, ymax = -7, 10, -5, 5\n",
    "    ticks_frequency = 1\n",
    "\n",
    "    # Plot points\n",
    "    fig, ax = plt.subplots(figsize=(10, 10))\n",
    "\n",
    "    letters = ('A', 'B', 'C', '', 'E', 'F', 'G', 'H', '', 'J', 'K', 'L', 'Ł', 'M')\n",
    "    for i in range(len(xs)):\n",
    "        ax.annotate(letters[i], (xs[i], ys[i]), size=17, color='r', \n",
    "                    ha='center', va='bottom', xytext=(11.0, 8.0), textcoords ='offset points')\n",
    "    ax.set(xlim=xs[:2], ylim=ys[:2])  # plt.axline((x1, y1), (x2, y2))\n",
    "    ax.plot(xs[:4],ys[:4], c='r')\n",
    "    ax.plot(xs[4:],ys[4:], c='r')\n",
    "    \n",
    "    # Set identical scales for both axes\n",
    "    ax.set(xlim=(xmin-1, xmax+1), ylim=(ymin-1, ymax+1), aspect='equal')\n",
    "\n",
    "    # Set bottom and left spines as x and y axes of coordinate system\n",
    "    ax.spines['bottom'].set_position('zero')\n",
    "    ax.spines['left'].set_position('zero')\n",
    "\n",
    "    # Remove top and right spines\n",
    "    ax.spines['top'].set_visible(False)\n",
    "    ax.spines['right'].set_visible(False)\n",
    "\n",
    "    # Create 'x' and 'y' labels placed at the end of the axes\n",
    "    ax.set_xlabel('x', size=15, labelpad=-24, x=1.03)\n",
    "    ax.set_ylabel('y', size=15, labelpad=-21, y=1.02, rotation=0)\n",
    "\n",
    "    # Create custom major ticks to determine position of tick labels\n",
    "    x_ticks = np.arange(xmin, xmax+1, ticks_frequency)\n",
    "    y_ticks = np.arange(ymin, ymax+1, ticks_frequency)\n",
    "    ax.set_xticks(x_ticks[x_ticks != 0])\n",
    "    ax.set_yticks(y_ticks[y_ticks != 0])\n",
    "\n",
    "    # Create minor ticks placed at each integer to enable drawing of minor grid\n",
    "    # lines: note that this has no effect in this example with ticks_frequency=1\n",
    "    ax.set_xticks(np.arange(xmin, xmax+1), minor=True)\n",
    "    ax.set_yticks(np.arange(ymin, ymax+1), minor=True)\n",
    "\n",
    "    # Draw major and minor grid lines\n",
    "    ax.grid(which='both', color='grey', linewidth=1, linestyle='-', alpha=0.2)\n",
    "\n",
    "    # Draw arrows\n",
    "    arrow_fmt = dict(markersize=4, color='black', clip_on=False)\n",
    "    ax.plot((1), (0), marker='>', transform=ax.get_yaxis_transform(), **arrow_fmt)\n",
    "    ax.plot((0), (1), marker='^', transform=ax.get_xaxis_transform(), **arrow_fmt)\n",
    "\n",
    "    return plt.show()\n",
    "\n",
    "\n",
    "x = [-6, 1, 1, -6,   2, 7, 7, 2, 2]\n",
    "y = [-1, -3, 1, -1,  -3, -1, 5, 3, -3]\n",
    "\n",
    "układ_współrzędnych(x, y)"
   ]
  },
  {
   "cell_type": "code",
   "execution_count": 89,
   "id": "c175de1b",
   "metadata": {},
   "outputs": [
    {
     "data": {
      "text/plain": [
       "4.0"
      ]
     },
     "execution_count": 89,
     "metadata": {},
     "output_type": "execute_result"
    }
   ],
   "source": [
    "# Trójkąt\n",
    "a = np.linalg.norm(np.array([1, -3]) - np.array([1, 1]), 2)\n",
    "a"
   ]
  },
  {
   "cell_type": "code",
   "execution_count": 88,
   "id": "0c85a2e1",
   "metadata": {},
   "outputs": [
    {
     "data": {
      "text/plain": [
       "7.0"
      ]
     },
     "execution_count": 88,
     "metadata": {},
     "output_type": "execute_result"
    }
   ],
   "source": [
    "h = np.linalg.norm(np.array([-6, -1]) - np.array([1, -1]), 2)\n",
    "h"
   ]
  },
  {
   "cell_type": "code",
   "execution_count": 97,
   "id": "d00c86f8",
   "metadata": {},
   "outputs": [
    {
     "data": {
      "text/plain": [
       "'Pole trójkąta = 18.848076824970764'"
      ]
     },
     "execution_count": 97,
     "metadata": {},
     "output_type": "execute_result"
    }
   ],
   "source": [
    "P_trójkąta = np.multiply(np.multiply(1/2, a), h)\n",
    "f'Pole trójkąta = {P_trójkąta}'"
   ]
  },
  {
   "cell_type": "code",
   "execution_count": 92,
   "id": "651b6bbf",
   "metadata": {},
   "outputs": [
    {
     "data": {
      "text/plain": [
       "5.385164807134504"
      ]
     },
     "execution_count": 92,
     "metadata": {},
     "output_type": "execute_result"
    }
   ],
   "source": [
    "# Równoległobok\n",
    "a = np.linalg.norm(np.array([2, -3]) - np.array([7, -1]), 2)\n",
    "a"
   ]
  },
  {
   "cell_type": "code",
   "execution_count": 94,
   "id": "161a1acc",
   "metadata": {},
   "outputs": [
    {
     "data": {
      "text/plain": [
       "6.0"
      ]
     },
     "execution_count": 94,
     "metadata": {},
     "output_type": "execute_result"
    }
   ],
   "source": [
    "b = np.linalg.norm(np.array([7, -1]) - np.array([7, 5]), 2)\n",
    "b"
   ]
  },
  {
   "cell_type": "code",
   "execution_count": 99,
   "id": "f9d16a8d",
   "metadata": {},
   "outputs": [
    {
     "data": {
      "text/plain": [
       "'Pole równoległoboku = 32.31098884280702'"
      ]
     },
     "execution_count": 99,
     "metadata": {},
     "output_type": "execute_result"
    }
   ],
   "source": [
    "P_równoległo = np.multiply(a, b)\n",
    "f'Pole równoległoboku = {P_równoległo}'"
   ]
  },
  {
   "cell_type": "markdown",
   "id": "a758f7b5",
   "metadata": {},
   "source": [
    "## Zadanie 4.6"
   ]
  },
  {
   "cell_type": "code",
   "execution_count": 3,
   "id": "c6a2326c",
   "metadata": {},
   "outputs": [
    {
     "data": {
      "image/png": "[encoded data removed]",
      "text/plain": [
       "<Figure size 720x720 with 1 Axes>"
      ]
     },
     "metadata": {
      "needs_background": "light"
     },
     "output_type": "display_data"
    }
   ],
   "source": [
    "import matplotlib.pyplot as plt\n",
    "\n",
    "def układ_współrzędnych(xs, ys):\n",
    "    \n",
    "    # Enter x and y coordinates of points and colors\n",
    "    color = ('m', 'g', 'r', 'b', 'y', 'brown', \n",
    "             'm', 'g', 'r', 'b', 'y', 'brown', \n",
    "             'm', 'g', 'r', 'b', 'y', 'brown')\n",
    "    colors = [color[i] for i in range(len(xs))]\n",
    "\n",
    "    # Select length of axes and the space between tick labels\n",
    "    xmin, xmax, ymin, ymax = -7, 7, -7, 7\n",
    "    ticks_frequency = 1\n",
    "\n",
    "    # Plot points\n",
    "    fig, ax = plt.subplots(figsize=(10, 10))\n",
    "    ax.scatter(xs[:],ys[:], c='b')\n",
    "    letters = ('A', 'B', 'C', 'D', 'E', 'F', 'G', 'H', 'I', 'J', 'K', 'L', 'Ł', 'M')\n",
    "    for i in range(len(xs)):\n",
    "        ax.annotate(letters[i], (xs[i], ys[i]), size=17, color='b', \n",
    "                    ha='center', va='bottom', xytext=(3.0, 8.0), textcoords ='offset points')\n",
    "#     ax.plot(xs[:],ys[:], c='b')\n",
    "\n",
    "    # Draw lines connecting points to axes\n",
    "    for x, y, c in zip(xs, ys, colors):\n",
    "        ax.plot([x, x], [0, y], c='black', ls='--', lw=1.5, alpha=0.5)\n",
    "        ax.plot([0, x], [y, y], c='black', ls='--', lw=1.5, alpha=0.5)\n",
    "\n",
    "    # Set identical scales for both axes\n",
    "    ax.set(xlim=(xmin-1, xmax+1), ylim=(ymin-1, ymax+1), aspect='equal')\n",
    "\n",
    "    # Set bottom and left spines as x and y axes of coordinate system\n",
    "    ax.spines['bottom'].set_position('zero')\n",
    "    ax.spines['left'].set_position('zero')\n",
    "\n",
    "    # Remove top and right spines\n",
    "    ax.spines['top'].set_visible(False)\n",
    "    ax.spines['right'].set_visible(False)\n",
    "\n",
    "    # Create 'x' and 'y' labels placed at the end of the axes\n",
    "    ax.set_xlabel('x', size=15, labelpad=-24, x=1.03)\n",
    "    ax.set_ylabel('y', size=15, labelpad=-21, y=1.02, rotation=0)\n",
    "\n",
    "    # Create custom major ticks to determine position of tick labels\n",
    "    x_ticks = np.arange(xmin, xmax+1, ticks_frequency)\n",
    "    y_ticks = np.arange(ymin, ymax+1, ticks_frequency)\n",
    "    ax.set_xticks(x_ticks[x_ticks != 0])\n",
    "    ax.set_yticks(y_ticks[y_ticks != 0])\n",
    "\n",
    "    # Create minor ticks placed at each integer to enable drawing of minor grid\n",
    "    # lines: note that this has no effect in this example with ticks_frequency=1\n",
    "    ax.set_xticks(np.arange(xmin, xmax+1), minor=True)\n",
    "    ax.set_yticks(np.arange(ymin, ymax+1), minor=True)\n",
    "\n",
    "    # Draw major and minor grid lines\n",
    "    ax.grid(which='both', color='grey', linewidth=1, linestyle='-', alpha=0.2)\n",
    "\n",
    "    # Draw arrows\n",
    "    arrow_fmt = dict(markersize=4, color='black', clip_on=False)\n",
    "    ax.plot((1), (0), marker='>', transform=ax.get_yaxis_transform(), **arrow_fmt)\n",
    "    ax.plot((0), (1), marker='^', transform=ax.get_xaxis_transform(), **arrow_fmt)\n",
    "\n",
    "    return plt.show()\n",
    "\n",
    "\n",
    "x = [-3, -1, 0, 1, 2, 3]\n",
    "y = [-2, 0, 2, 3, 4, 0]\n",
    "\n",
    "układ_współrzędnych(x, y)"
   ]
  },
  {
   "cell_type": "markdown",
   "id": "52aa0624",
   "metadata": {},
   "source": [
    "## Zadanie 4.8"
   ]
  },
  {
   "cell_type": "code",
   "execution_count": 104,
   "id": "4c0de059",
   "metadata": {},
   "outputs": [
    {
     "data": {
      "image/png": "[encoded data removed]",
      "text/plain": [
       "<Figure size 720x720 with 1 Axes>"
      ]
     },
     "metadata": {
      "needs_background": "light"
     },
     "output_type": "display_data"
    }
   ],
   "source": [
    "x = [1, 2, 3, 4, 5]\n",
    "y = [2, 1, 0, -1, -2]\n",
    "\n",
    "układ_współrzędnych(x, y)"
   ]
  },
  {
   "cell_type": "markdown",
   "id": "12a4339e",
   "metadata": {},
   "source": [
    "# Zadanie 4.9 - DYSTANSE"
   ]
  },
  {
   "cell_type": "code",
   "execution_count": 83,
   "id": "a1876899",
   "metadata": {},
   "outputs": [
    {
     "data": {
      "image/png": "[encoded data removed]",
      "text/plain": [
       "<Figure size 720x720 with 1 Axes>"
      ]
     },
     "metadata": {
      "needs_background": "light"
     },
     "output_type": "display_data"
    }
   ],
   "source": [
    "x = [5, 4.5]\n",
    "y = [2, 2]\n",
    "układ_współrzędnych(x, y)"
   ]
  },
  {
   "cell_type": "code",
   "execution_count": 84,
   "id": "da5c1989",
   "metadata": {},
   "outputs": [
    {
     "data": {
      "text/plain": [
       "0.5"
      ]
     },
     "execution_count": 84,
     "metadata": {},
     "output_type": "execute_result"
    }
   ],
   "source": [
    "a = np.array([x[0], y[0]])\n",
    "b = np.array([x[1], y[1]])\n",
    "\n",
    "# Euclidean distance\n",
    "dist = np.linalg.norm(a - b, 2)\n",
    "dist"
   ]
  },
  {
   "cell_type": "code",
   "execution_count": 85,
   "id": "0e7e7bfc",
   "metadata": {},
   "outputs": [
    {
     "data": {
      "text/plain": [
       "0.5"
      ]
     },
     "execution_count": 85,
     "metadata": {},
     "output_type": "execute_result"
    }
   ],
   "source": [
    "# Manhattan distance\n",
    "dist3 = np.sum(np.abs(a-b))\n",
    "dist3"
   ]
  },
  {
   "cell_type": "code",
   "execution_count": 86,
   "id": "261c1681",
   "metadata": {},
   "outputs": [
    {
     "data": {
      "text/plain": [
       "array([[0.5]])"
      ]
     },
     "execution_count": 86,
     "metadata": {},
     "output_type": "execute_result"
    }
   ],
   "source": [
    "# Manhattan distance - Scipy\n",
    "from scipy.spatial.distance import cdist\n",
    "\n",
    "out = cdist([a], [b], metric='cityblock') \n",
    "out"
   ]
  },
  {
   "cell_type": "code",
   "execution_count": 87,
   "id": "5ef5f177",
   "metadata": {},
   "outputs": [
    {
     "data": {
      "text/plain": [
       "26.5"
      ]
     },
     "execution_count": 87,
     "metadata": {},
     "output_type": "execute_result"
    }
   ],
   "source": [
    "# Scalar product as similarity indicator\n",
    "dist1 = np.dot(a,b)\n",
    "dist1"
   ]
  },
  {
   "cell_type": "code",
   "execution_count": 88,
   "id": "5656c60e",
   "metadata": {},
   "outputs": [
    {
     "data": {
      "text/plain": [
       "0.9992887623566789"
      ]
     },
     "execution_count": 88,
     "metadata": {},
     "output_type": "execute_result"
    }
   ],
   "source": [
    "# Cosine distance\n",
    "cos_sim = np.dot(a, b)/(np.linalg.norm(a)*np.linalg.norm(b))\n",
    "cos_sim"
   ]
  },
  {
   "cell_type": "code",
   "execution_count": 89,
   "id": "7626d098",
   "metadata": {},
   "outputs": [
    {
     "data": {
      "text/plain": [
       "0.9992887623566787"
      ]
     },
     "execution_count": 89,
     "metadata": {},
     "output_type": "execute_result"
    }
   ],
   "source": [
    "# Cosine distance - Scipy\n",
    "from scipy import spatial\n",
    "\n",
    "result = 1 - spatial.distance.cosine(a, b)\n",
    "result"
   ]
  },
  {
   "cell_type": "markdown",
   "id": "8a4ca5f5",
   "metadata": {},
   "source": [
    "## Zadanie 4.11"
   ]
  },
  {
   "cell_type": "code",
   "execution_count": 134,
   "id": "65812446",
   "metadata": {},
   "outputs": [
    {
     "name": "stdout",
     "output_type": "stream",
     "text": [
      "Kartezjusz\n"
     ]
    }
   ],
   "source": [
    "letters = ('A', 'Ą', 'B', 'C', 'Ć', 'D', 'E', 'Ę', 'F', 'G', 'H', \n",
    "           'I', 'J', 'K', 'L', 'Ł', 'M', 'N', 'Ń', 'O', 'Ó', 'P', \n",
    "           'R', 'S', 'Ś', 'T', 'U', 'W', 'Y', 'Z', 'Ź', 'Ż')\n",
    "\n",
    "x = [-3, -2, -1, 0, 1, 2, 3, 4, -3, -2, -1, 0, 1, 2, 3, 4, \n",
    "     -3, -2, -1, 0, 1, 2, 3, 4, -3, -2, -1, 0, 1, 2, 3, 4]\n",
    "y = [2, 2, 2, 2, 2, 2, 2, 2, 1, 1, 1, 1, 1, 1, 1, 1, \n",
    "     0, 0, 0, 0, 0, 0, 0, 0, -1, -1, -1, -1, -1, -1, -1, -1]\n",
    "\n",
    "x_zagadka = [2, -3, 3, -2, 3, 2, 1, -1, 4, 2]\n",
    "y_zagadka = [1, 2, 0, -1, 2, -1, 1, -1, 0, -1]\n",
    "s = []\n",
    "for j in zip(x_zagadka, y_zagadka):\n",
    "    for i in zip(letters, x, y):\n",
    "        if i[1:] == j:\n",
    "            s.append(i[0])\n",
    "            \n",
    "print(''.join(s).title())\n",
    "    \n"
   ]
  },
  {
   "cell_type": "code",
   "execution_count": null,
   "id": "fa3b9e81",
   "metadata": {},
   "outputs": [],
   "source": []
  },
  {
   "cell_type": "code",
   "execution_count": null,
   "id": "aa35d12f",
   "metadata": {},
   "outputs": [],
   "source": []
  },
  {
   "cell_type": "code",
   "execution_count": null,
   "id": "b41e308a",
   "metadata": {},
   "outputs": [],
   "source": []
  }
 ],
 "metadata": {
  "kernelspec": {
   "display_name": "Python 3 (ipykernel)",
   "language": "python",
   "name": "python3"
  },
  "language_info": {
   "codemirror_mode": {
    "name": "ipython",
    "version": 3
   },
   "file_extension": ".py",
   "mimetype": "text/x-python",
   "name": "python",
   "nbconvert_exporter": "python",
   "pygments_lexer": "ipython3",
   "version": "3.10.0"
  }
 },
 "nbformat": 4,
 "nbformat_minor": 5
}
