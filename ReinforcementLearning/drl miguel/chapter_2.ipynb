{
 "cells": [
  {
   "cell_type": "code",
   "execution_count": 24,
   "id": "c21eb187-293d-476e-8d33-2bb269bec359",
   "metadata": {},
   "outputs": [],
   "source": [
    "import numpy as np\n",
    "import gymnasium as gym\n",
    "import pprint"
   ]
  },
  {
   "cell_type": "code",
   "execution_count": 5,
   "id": "8df84c2e-8f07-4408-a657-adebb7701714",
   "metadata": {},
   "outputs": [
    {
     "name": "stdout",
     "output_type": "stream",
     "text": [
      "===== classic_control =====\n",
      "Acrobot-v1             CartPole-v0            CartPole-v1\n",
      "MountainCar-v0         MountainCarContinuous-v0 Pendulum-v1\n",
      "===== phys2d =====\n",
      "phys2d/CartPole-v0     phys2d/CartPole-v1     phys2d/Pendulum-v0\n",
      "===== box2d =====\n",
      "BipedalWalker-v3       BipedalWalkerHardcore-v3 CarRacing-v3\n",
      "LunarLander-v3         LunarLanderContinuous-v3\n",
      "===== toy_text =====\n",
      "Blackjack-v1           CliffWalking-v0        FrozenLake-v1\n",
      "FrozenLake8x8-v1       Taxi-v3\n",
      "===== tabular =====\n",
      "tabular/Blackjack-v0   tabular/CliffWalking-v0\n",
      "===== mujoco =====\n",
      "Ant-v2                 Ant-v3                 Ant-v4\n",
      "Ant-v5                 HalfCheetah-v2         HalfCheetah-v3\n",
      "HalfCheetah-v4         HalfCheetah-v5         Hopper-v2\n",
      "Hopper-v3              Hopper-v4              Hopper-v5\n",
      "Humanoid-v2            Humanoid-v3            Humanoid-v4\n",
      "Humanoid-v5            HumanoidStandup-v2     HumanoidStandup-v4\n",
      "HumanoidStandup-v5     InvertedDoublePendulum-v2 InvertedDoublePendulum-v4\n",
      "InvertedDoublePendulum-v5 InvertedPendulum-v2    InvertedPendulum-v4\n",
      "InvertedPendulum-v5    Pusher-v2              Pusher-v4\n",
      "Pusher-v5              Reacher-v2             Reacher-v4\n",
      "Reacher-v5             Swimmer-v2             Swimmer-v3\n",
      "Swimmer-v4             Swimmer-v5             Walker2d-v2\n",
      "Walker2d-v3            Walker2d-v4            Walker2d-v5\n",
      "===== None =====\n",
      "GymV21Environment-v0   GymV26Environment-v0\n"
     ]
    }
   ],
   "source": [
    "gym.pprint_registry()"
   ]
  },
  {
   "cell_type": "markdown",
   "id": "63d72440-766a-4f8d-9a5c-40c540524ea4",
   "metadata": {},
   "source": [
    "Bandit Walk"
   ]
  },
  {
   "cell_type": "code",
   "execution_count": 29,
   "id": "5a2f36d4-f59f-4944-a881-63bf4e0937ea",
   "metadata": {},
   "outputs": [],
   "source": [
    "P = {\n",
    "    0: {\n",
    "        0: [(1.0, 0, 0.0, True)],\n",
    "        1: [(1.0, 0, 0.0, True)]\n",
    "    },\n",
    "    1: {\n",
    "        0: [(1.0, 0, 0.0, True)],\n",
    "        1: [(1.0, 2, 1.0, True)]\n",
    "    },\n",
    "    2: {\n",
    "        0: [(1.0, 2, 0.0, True)],\n",
    "        1: [(1.0, 2, 0.0, True)]\n",
    "    }\n",
    "}"
   ]
  },
  {
   "cell_type": "code",
   "execution_count": 30,
   "id": "54c38182-e686-47c2-88c7-a813e3ae0917",
   "metadata": {},
   "outputs": [
    {
     "data": {
      "text/plain": [
       "{0: {0: [(1.0, 0, 0.0, True)], 1: [(1.0, 0, 0.0, True)]},\n",
       " 1: {0: [(1.0, 0, 0.0, True)], 1: [(1.0, 2, 1.0, True)]},\n",
       " 2: {0: [(1.0, 2, 0.0, True)], 1: [(1.0, 2, 0.0, True)]}}"
      ]
     },
     "execution_count": 30,
     "metadata": {},
     "output_type": "execute_result"
    }
   ],
   "source": [
    "P"
   ]
  },
  {
   "cell_type": "code",
   "execution_count": 31,
   "id": "8da18f9f-199a-44d9-bf15-92ce2c99ebc1",
   "metadata": {},
   "outputs": [],
   "source": [
    "# gym_P = gym.make('BanditWalk-v0').env.P"
   ]
  },
  {
   "cell_type": "markdown",
   "id": "afc93ea3-39f1-4b52-8904-a4792ffa4146",
   "metadata": {},
   "source": [
    "Bandit Slippery Walk"
   ]
  },
  {
   "cell_type": "code",
   "execution_count": 32,
   "id": "36424182-23a2-4328-9233-666faa9a772c",
   "metadata": {},
   "outputs": [],
   "source": [
    "P = {\n",
    "    0: {\n",
    "        0: [(1.0, 0, 0.0, True)],\n",
    "        1: [(1.0, 0, 0.0, True)]\n",
    "    },\n",
    "    1: {\n",
    "        0: [(0.8, 0, 0.0, True), (0.2, 2, 1.0, True)],\n",
    "        1: [(0.8, 2, 1.0, True), (0.2, 0, 0.0, True)]\n",
    "    },\n",
    "    2: {\n",
    "        0: [(1.0, 2, 0.0, True)],\n",
    "        1: [(1.0, 2, 0.0, True)]\n",
    "    }\n",
    "}"
   ]
  },
  {
   "cell_type": "code",
   "execution_count": 34,
   "id": "79305eac-680a-49e0-93be-8131e67c851f",
   "metadata": {},
   "outputs": [
    {
     "name": "stdout",
     "output_type": "stream",
     "text": [
      "{0: {0: [(1.0, 0, 0.0, True)], 1: [(1.0, 0, 0.0, True)]},\n",
      " 1: {0: [(0.8, 0, 0.0, True), (0.2, 2, 1.0, True)],\n",
      "     1: [(0.8, 2, 1.0, True), (0.2, 0, 0.0, True)]},\n",
      " 2: {0: [(1.0, 2, 0.0, True)], 1: [(1.0, 2, 0.0, True)]}}\n"
     ]
    }
   ],
   "source": [
    "pprint.pprint(P)"
   ]
  },
  {
   "cell_type": "code",
   "execution_count": 7,
   "id": "fefadb3b-0bfc-4677-b65a-e7a44b5b2a57",
   "metadata": {},
   "outputs": [],
   "source": [
    "# gym_P = gym.make('BanditSlipperyWalk-v0').env.P"
   ]
  },
  {
   "cell_type": "markdown",
   "id": "6db4443b-cf28-407d-b0fc-1c1f71c5b199",
   "metadata": {},
   "source": [
    "Frozen Lake"
   ]
  },
  {
   "cell_type": "code",
   "execution_count": 25,
   "id": "c6966621-0d01-4d3b-9fb2-bf134508899b",
   "metadata": {},
   "outputs": [
    {
     "name": "stdout",
     "output_type": "stream",
     "text": [
      "{0: {0: [(0.3333333333333333, 0, 0.0, False),\n",
      "         (0.3333333333333333, 0, 0.0, False),\n",
      "         (0.3333333333333333, 4, 0.0, False)],\n",
      "     1: [(0.3333333333333333, 0, 0.0, False),\n",
      "         (0.3333333333333333, 4, 0.0, False),\n",
      "         (0.3333333333333333, 1, 0.0, False)],\n",
      "     2: [(0.3333333333333333, 4, 0.0, False),\n",
      "         (0.3333333333333333, 1, 0.0, False),\n",
      "         (0.3333333333333333, 0, 0.0, False)],\n",
      "     3: [(0.3333333333333333, 1, 0.0, False),\n",
      "         (0.3333333333333333, 0, 0.0, False),\n",
      "         (0.3333333333333333, 0, 0.0, False)]},\n",
      " 1: {0: [(0.3333333333333333, 1, 0.0, False),\n",
      "         (0.3333333333333333, 0, 0.0, False),\n",
      "         (0.3333333333333333, 5, 0.0, True)],\n",
      "     1: [(0.3333333333333333, 0, 0.0, False),\n",
      "         (0.3333333333333333, 5, 0.0, True),\n",
      "         (0.3333333333333333, 2, 0.0, False)],\n",
      "     2: [(0.3333333333333333, 5, 0.0, True),\n",
      "         (0.3333333333333333, 2, 0.0, False),\n",
      "         (0.3333333333333333, 1, 0.0, False)],\n",
      "     3: [(0.3333333333333333, 2, 0.0, False),\n",
      "         (0.3333333333333333, 1, 0.0, False),\n",
      "         (0.3333333333333333, 0, 0.0, False)]},\n",
      " 2: {0: [(0.3333333333333333, 2, 0.0, False),\n",
      "         (0.3333333333333333, 1, 0.0, False),\n",
      "         (0.3333333333333333, 6, 0.0, False)],\n",
      "     1: [(0.3333333333333333, 1, 0.0, False),\n",
      "         (0.3333333333333333, 6, 0.0, False),\n",
      "         (0.3333333333333333, 3, 0.0, False)],\n",
      "     2: [(0.3333333333333333, 6, 0.0, False),\n",
      "         (0.3333333333333333, 3, 0.0, False),\n",
      "         (0.3333333333333333, 2, 0.0, False)],\n",
      "     3: [(0.3333333333333333, 3, 0.0, False),\n",
      "         (0.3333333333333333, 2, 0.0, False),\n",
      "         (0.3333333333333333, 1, 0.0, False)]},\n",
      " 3: {0: [(0.3333333333333333, 3, 0.0, False),\n",
      "         (0.3333333333333333, 2, 0.0, False),\n",
      "         (0.3333333333333333, 7, 0.0, True)],\n",
      "     1: [(0.3333333333333333, 2, 0.0, False),\n",
      "         (0.3333333333333333, 7, 0.0, True),\n",
      "         (0.3333333333333333, 3, 0.0, False)],\n",
      "     2: [(0.3333333333333333, 7, 0.0, True),\n",
      "         (0.3333333333333333, 3, 0.0, False),\n",
      "         (0.3333333333333333, 3, 0.0, False)],\n",
      "     3: [(0.3333333333333333, 3, 0.0, False),\n",
      "         (0.3333333333333333, 3, 0.0, False),\n",
      "         (0.3333333333333333, 2, 0.0, False)]},\n",
      " 4: {0: [(0.3333333333333333, 0, 0.0, False),\n",
      "         (0.3333333333333333, 4, 0.0, False),\n",
      "         (0.3333333333333333, 8, 0.0, False)],\n",
      "     1: [(0.3333333333333333, 4, 0.0, False),\n",
      "         (0.3333333333333333, 8, 0.0, False),\n",
      "         (0.3333333333333333, 5, 0.0, True)],\n",
      "     2: [(0.3333333333333333, 8, 0.0, False),\n",
      "         (0.3333333333333333, 5, 0.0, True),\n",
      "         (0.3333333333333333, 0, 0.0, False)],\n",
      "     3: [(0.3333333333333333, 5, 0.0, True),\n",
      "         (0.3333333333333333, 0, 0.0, False),\n",
      "         (0.3333333333333333, 4, 0.0, False)]},\n",
      " 5: {0: [(1.0, 5, 0, True)],\n",
      "     1: [(1.0, 5, 0, True)],\n",
      "     2: [(1.0, 5, 0, True)],\n",
      "     3: [(1.0, 5, 0, True)]},\n",
      " 6: {0: [(0.3333333333333333, 2, 0.0, False),\n",
      "         (0.3333333333333333, 5, 0.0, True),\n",
      "         (0.3333333333333333, 10, 0.0, False)],\n",
      "     1: [(0.3333333333333333, 5, 0.0, True),\n",
      "         (0.3333333333333333, 10, 0.0, False),\n",
      "         (0.3333333333333333, 7, 0.0, True)],\n",
      "     2: [(0.3333333333333333, 10, 0.0, False),\n",
      "         (0.3333333333333333, 7, 0.0, True),\n",
      "         (0.3333333333333333, 2, 0.0, False)],\n",
      "     3: [(0.3333333333333333, 7, 0.0, True),\n",
      "         (0.3333333333333333, 2, 0.0, False),\n",
      "         (0.3333333333333333, 5, 0.0, True)]},\n",
      " 7: {0: [(1.0, 7, 0, True)],\n",
      "     1: [(1.0, 7, 0, True)],\n",
      "     2: [(1.0, 7, 0, True)],\n",
      "     3: [(1.0, 7, 0, True)]},\n",
      " 8: {0: [(0.3333333333333333, 4, 0.0, False),\n",
      "         (0.3333333333333333, 8, 0.0, False),\n",
      "         (0.3333333333333333, 12, 0.0, True)],\n",
      "     1: [(0.3333333333333333, 8, 0.0, False),\n",
      "         (0.3333333333333333, 12, 0.0, True),\n",
      "         (0.3333333333333333, 9, 0.0, False)],\n",
      "     2: [(0.3333333333333333, 12, 0.0, True),\n",
      "         (0.3333333333333333, 9, 0.0, False),\n",
      "         (0.3333333333333333, 4, 0.0, False)],\n",
      "     3: [(0.3333333333333333, 9, 0.0, False),\n",
      "         (0.3333333333333333, 4, 0.0, False),\n",
      "         (0.3333333333333333, 8, 0.0, False)]},\n",
      " 9: {0: [(0.3333333333333333, 5, 0.0, True),\n",
      "         (0.3333333333333333, 8, 0.0, False),\n",
      "         (0.3333333333333333, 13, 0.0, False)],\n",
      "     1: [(0.3333333333333333, 8, 0.0, False),\n",
      "         (0.3333333333333333, 13, 0.0, False),\n",
      "         (0.3333333333333333, 10, 0.0, False)],\n",
      "     2: [(0.3333333333333333, 13, 0.0, False),\n",
      "         (0.3333333333333333, 10, 0.0, False),\n",
      "         (0.3333333333333333, 5, 0.0, True)],\n",
      "     3: [(0.3333333333333333, 10, 0.0, False),\n",
      "         (0.3333333333333333, 5, 0.0, True),\n",
      "         (0.3333333333333333, 8, 0.0, False)]},\n",
      " 10: {0: [(0.3333333333333333, 6, 0.0, False),\n",
      "          (0.3333333333333333, 9, 0.0, False),\n",
      "          (0.3333333333333333, 14, 0.0, False)],\n",
      "      1: [(0.3333333333333333, 9, 0.0, False),\n",
      "          (0.3333333333333333, 14, 0.0, False),\n",
      "          (0.3333333333333333, 11, 0.0, True)],\n",
      "      2: [(0.3333333333333333, 14, 0.0, False),\n",
      "          (0.3333333333333333, 11, 0.0, True),\n",
      "          (0.3333333333333333, 6, 0.0, False)],\n",
      "      3: [(0.3333333333333333, 11, 0.0, True),\n",
      "          (0.3333333333333333, 6, 0.0, False),\n",
      "          (0.3333333333333333, 9, 0.0, False)]},\n",
      " 11: {0: [(1.0, 11, 0, True)],\n",
      "      1: [(1.0, 11, 0, True)],\n",
      "      2: [(1.0, 11, 0, True)],\n",
      "      3: [(1.0, 11, 0, True)]},\n",
      " 12: {0: [(1.0, 12, 0, True)],\n",
      "      1: [(1.0, 12, 0, True)],\n",
      "      2: [(1.0, 12, 0, True)],\n",
      "      3: [(1.0, 12, 0, True)]},\n",
      " 13: {0: [(0.3333333333333333, 9, 0.0, False),\n",
      "          (0.3333333333333333, 12, 0.0, True),\n",
      "          (0.3333333333333333, 13, 0.0, False)],\n",
      "      1: [(0.3333333333333333, 12, 0.0, True),\n",
      "          (0.3333333333333333, 13, 0.0, False),\n",
      "          (0.3333333333333333, 14, 0.0, False)],\n",
      "      2: [(0.3333333333333333, 13, 0.0, False),\n",
      "          (0.3333333333333333, 14, 0.0, False),\n",
      "          (0.3333333333333333, 9, 0.0, False)],\n",
      "      3: [(0.3333333333333333, 14, 0.0, False),\n",
      "          (0.3333333333333333, 9, 0.0, False),\n",
      "          (0.3333333333333333, 12, 0.0, True)]},\n",
      " 14: {0: [(0.3333333333333333, 10, 0.0, False),\n",
      "          (0.3333333333333333, 13, 0.0, False),\n",
      "          (0.3333333333333333, 14, 0.0, False)],\n",
      "      1: [(0.3333333333333333, 13, 0.0, False),\n",
      "          (0.3333333333333333, 14, 0.0, False),\n",
      "          (0.3333333333333333, 15, 1.0, True)],\n",
      "      2: [(0.3333333333333333, 14, 0.0, False),\n",
      "          (0.3333333333333333, 15, 1.0, True),\n",
      "          (0.3333333333333333, 10, 0.0, False)],\n",
      "      3: [(0.3333333333333333, 15, 1.0, True),\n",
      "          (0.3333333333333333, 10, 0.0, False),\n",
      "          (0.3333333333333333, 13, 0.0, False)]},\n",
      " 15: {0: [(1.0, 15, 0, True)],\n",
      "      1: [(1.0, 15, 0, True)],\n",
      "      2: [(1.0, 15, 0, True)],\n",
      "      3: [(1.0, 15, 0, True)]}}\n"
     ]
    }
   ],
   "source": [
    "env = gym.make('FrozenLake-v1')\n",
    "P = env.unwrapped.P\n",
    "pprint.pprint(P)"
   ]
  },
  {
   "cell_type": "code",
   "execution_count": null,
   "id": "568e051c-dc3b-41eb-afaa-ee2794d1d140",
   "metadata": {},
   "outputs": [],
   "source": []
  }
 ],
 "metadata": {
  "kernelspec": {
   "display_name": "Python 3 (ipykernel)",
   "language": "python",
   "name": "python3"
  },
  "language_info": {
   "codemirror_mode": {
    "name": "ipython",
    "version": 3
   },
   "file_extension": ".py",
   "mimetype": "text/x-python",
   "name": "python",
   "nbconvert_exporter": "python",
   "pygments_lexer": "ipython3",
   "version": "3.12.3"
  }
 },
 "nbformat": 4,
 "nbformat_minor": 5
}
